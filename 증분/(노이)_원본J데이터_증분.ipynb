{
  "cells": [
    {
      "cell_type": "markdown",
      "metadata": {
        "id": "view-in-github",
        "colab_type": "text"
      },
      "source": [
        "<a href=\"https://colab.research.google.com/github/KorStats/classification-project/blob/main/%EC%A6%9D%EB%B6%84/(%EB%85%B8%EC%9D%B4)_%EC%9B%90%EB%B3%B8J%EB%8D%B0%EC%9D%B4%ED%84%B0_%EC%A6%9D%EB%B6%84.ipynb\" target=\"_parent\"><img src=\"https://colab.research.google.com/assets/colab-badge.svg\" alt=\"Open In Colab\"/></a>"
      ]
    },
    {
      "cell_type": "markdown",
      "metadata": {
        "id": "U3wrPXQ_ORLb"
      },
      "source": [
        "## 구글드라이브에서 파일 읽어오기"
      ]
    },
    {
      "cell_type": "code",
      "execution_count": 1,
      "metadata": {
        "colab": {
          "base_uri": "https://localhost:8080/"
        },
        "id": "dqJbzoq_OPxK",
        "outputId": "f1b66d9a-9f3a-4546-8e1b-8026aeb3fd40"
      },
      "outputs": [
        {
          "output_type": "stream",
          "name": "stdout",
          "text": [
            "Mounted at /content/drive\n"
          ]
        }
      ],
      "source": [
        "from google.colab import drive\n",
        "drive.mount('/content/drive')"
      ]
    },
    {
      "cell_type": "code",
      "execution_count": 2,
      "metadata": {
        "colab": {
          "base_uri": "https://localhost:8080/"
        },
        "id": "wmtIZqMGOdVX",
        "outputId": "03d42ef4-f2a9-4a11-c5a0-6fc0e703dde5"
      },
      "outputs": [
        {
          "output_type": "stream",
          "name": "stdout",
          "text": [
            "Mounted at /content/gdrive\n",
            " 기본\t\t\t   G_inc_so_model_노이2.pt\n",
            " 산업분류자동화\t\t   G_inc_so_model_노이.pt\n",
            "'Colab Notebooks'\t  'My Drive'\n",
            " G_inc_again_so_model.pt   Screenshot_20220401-001411_Chrome.jpg\n"
          ]
        }
      ],
      "source": [
        "from google.colab import drive\n",
        "drive.mount('/content/gdrive')\n",
        "!ln -s /content/gdrive/My\\ Drive/ /mydrive\n",
        "!ls /mydrive"
      ]
    },
    {
      "cell_type": "code",
      "execution_count": 3,
      "metadata": {
        "id": "-lGZy4fGpXlo"
      },
      "outputs": [],
      "source": [
        "import pandas as pd\n",
        "df=pd.read_csv('/mydrive/산업분류자동화/dataset/spell_check/J_spell_check.csv', sep = \",\", encoding = \"UTF-8\")"
      ]
    },
    {
      "cell_type": "markdown",
      "metadata": {
        "id": "geFjTXHh5-dy"
      },
      "source": [
        "## 데이터 전처리"
      ]
    },
    {
      "cell_type": "code",
      "source": [
        "df=df.reset_index(drop=True)\n",
        "df"
      ],
      "metadata": {
        "colab": {
          "base_uri": "https://localhost:8080/",
          "height": 0
        },
        "id": "3ISvtyKhpKd2",
        "outputId": "7636daa3-ac8a-469b-9890-84616b7013dd"
      },
      "execution_count": 4,
      "outputs": [
        {
          "output_type": "execute_result",
          "data": {
            "text/plain": [
              "            AI_id digit_1  digit_2  digit_3                              text\n",
              "0      id_0000065       J       58      582     사무실에서 고객 의뢰로 시스템소프트웨어 개발 및 공급\n",
              "1      id_0000107       J       58      582  사업장에서 고객 의뢰를 받아 무인주차관리 시스템 개발 공급\n",
              "2      id_0000157       J       59      592             인터넷으로 디지털 음원 음반 제작 유통\n",
              "3      id_0000276       J       58      582               사무실에서 의뢰받아 소프트웨어 개발\n",
              "4      id_0000338       J       58      582     사무실에서 고객 의뢰로 시스템소프트웨어 개발 및 공급\n",
              "...           ...     ...      ...      ...                               ...\n",
              "10857  id_0999684       J       58      582          사무실에서 고객 의뢰로 시스템소프트웨어 개발\n",
              "10858  id_0999872       J       62      620               사무실에서 의뢰받아 소프트웨어 개발\n",
              "10859  id_0999914       J       59      592                          녹음시설 운영업\n",
              "10860  id_0999959       J       58      582         사무실에서 고객 의뢰로 시스템 소프트웨어 개발\n",
              "10861  id_0999968       J       59      591       고객 요청에 의해 지정한 장소에서 영상홍보물 제작\n",
              "\n",
              "[10862 rows x 5 columns]"
            ],
            "text/html": [
              "\n",
              "  <div id=\"df-dad7815a-13e8-443b-9a9d-e8b611d77bc3\">\n",
              "    <div class=\"colab-df-container\">\n",
              "      <div>\n",
              "<style scoped>\n",
              "    .dataframe tbody tr th:only-of-type {\n",
              "        vertical-align: middle;\n",
              "    }\n",
              "\n",
              "    .dataframe tbody tr th {\n",
              "        vertical-align: top;\n",
              "    }\n",
              "\n",
              "    .dataframe thead th {\n",
              "        text-align: right;\n",
              "    }\n",
              "</style>\n",
              "<table border=\"1\" class=\"dataframe\">\n",
              "  <thead>\n",
              "    <tr style=\"text-align: right;\">\n",
              "      <th></th>\n",
              "      <th>AI_id</th>\n",
              "      <th>digit_1</th>\n",
              "      <th>digit_2</th>\n",
              "      <th>digit_3</th>\n",
              "      <th>text</th>\n",
              "    </tr>\n",
              "  </thead>\n",
              "  <tbody>\n",
              "    <tr>\n",
              "      <th>0</th>\n",
              "      <td>id_0000065</td>\n",
              "      <td>J</td>\n",
              "      <td>58</td>\n",
              "      <td>582</td>\n",
              "      <td>사무실에서 고객 의뢰로 시스템소프트웨어 개발 및 공급</td>\n",
              "    </tr>\n",
              "    <tr>\n",
              "      <th>1</th>\n",
              "      <td>id_0000107</td>\n",
              "      <td>J</td>\n",
              "      <td>58</td>\n",
              "      <td>582</td>\n",
              "      <td>사업장에서 고객 의뢰를 받아 무인주차관리 시스템 개발 공급</td>\n",
              "    </tr>\n",
              "    <tr>\n",
              "      <th>2</th>\n",
              "      <td>id_0000157</td>\n",
              "      <td>J</td>\n",
              "      <td>59</td>\n",
              "      <td>592</td>\n",
              "      <td>인터넷으로 디지털 음원 음반 제작 유통</td>\n",
              "    </tr>\n",
              "    <tr>\n",
              "      <th>3</th>\n",
              "      <td>id_0000276</td>\n",
              "      <td>J</td>\n",
              "      <td>58</td>\n",
              "      <td>582</td>\n",
              "      <td>사무실에서 의뢰받아 소프트웨어 개발</td>\n",
              "    </tr>\n",
              "    <tr>\n",
              "      <th>4</th>\n",
              "      <td>id_0000338</td>\n",
              "      <td>J</td>\n",
              "      <td>58</td>\n",
              "      <td>582</td>\n",
              "      <td>사무실에서 고객 의뢰로 시스템소프트웨어 개발 및 공급</td>\n",
              "    </tr>\n",
              "    <tr>\n",
              "      <th>...</th>\n",
              "      <td>...</td>\n",
              "      <td>...</td>\n",
              "      <td>...</td>\n",
              "      <td>...</td>\n",
              "      <td>...</td>\n",
              "    </tr>\n",
              "    <tr>\n",
              "      <th>10857</th>\n",
              "      <td>id_0999684</td>\n",
              "      <td>J</td>\n",
              "      <td>58</td>\n",
              "      <td>582</td>\n",
              "      <td>사무실에서 고객 의뢰로 시스템소프트웨어 개발</td>\n",
              "    </tr>\n",
              "    <tr>\n",
              "      <th>10858</th>\n",
              "      <td>id_0999872</td>\n",
              "      <td>J</td>\n",
              "      <td>62</td>\n",
              "      <td>620</td>\n",
              "      <td>사무실에서 의뢰받아 소프트웨어 개발</td>\n",
              "    </tr>\n",
              "    <tr>\n",
              "      <th>10859</th>\n",
              "      <td>id_0999914</td>\n",
              "      <td>J</td>\n",
              "      <td>59</td>\n",
              "      <td>592</td>\n",
              "      <td>녹음시설 운영업</td>\n",
              "    </tr>\n",
              "    <tr>\n",
              "      <th>10860</th>\n",
              "      <td>id_0999959</td>\n",
              "      <td>J</td>\n",
              "      <td>58</td>\n",
              "      <td>582</td>\n",
              "      <td>사무실에서 고객 의뢰로 시스템 소프트웨어 개발</td>\n",
              "    </tr>\n",
              "    <tr>\n",
              "      <th>10861</th>\n",
              "      <td>id_0999968</td>\n",
              "      <td>J</td>\n",
              "      <td>59</td>\n",
              "      <td>591</td>\n",
              "      <td>고객 요청에 의해 지정한 장소에서 영상홍보물 제작</td>\n",
              "    </tr>\n",
              "  </tbody>\n",
              "</table>\n",
              "<p>10862 rows × 5 columns</p>\n",
              "</div>\n",
              "      <button class=\"colab-df-convert\" onclick=\"convertToInteractive('df-dad7815a-13e8-443b-9a9d-e8b611d77bc3')\"\n",
              "              title=\"Convert this dataframe to an interactive table.\"\n",
              "              style=\"display:none;\">\n",
              "        \n",
              "  <svg xmlns=\"http://www.w3.org/2000/svg\" height=\"24px\"viewBox=\"0 0 24 24\"\n",
              "       width=\"24px\">\n",
              "    <path d=\"M0 0h24v24H0V0z\" fill=\"none\"/>\n",
              "    <path d=\"M18.56 5.44l.94 2.06.94-2.06 2.06-.94-2.06-.94-.94-2.06-.94 2.06-2.06.94zm-11 1L8.5 8.5l.94-2.06 2.06-.94-2.06-.94L8.5 2.5l-.94 2.06-2.06.94zm10 10l.94 2.06.94-2.06 2.06-.94-2.06-.94-.94-2.06-.94 2.06-2.06.94z\"/><path d=\"M17.41 7.96l-1.37-1.37c-.4-.4-.92-.59-1.43-.59-.52 0-1.04.2-1.43.59L10.3 9.45l-7.72 7.72c-.78.78-.78 2.05 0 2.83L4 21.41c.39.39.9.59 1.41.59.51 0 1.02-.2 1.41-.59l7.78-7.78 2.81-2.81c.8-.78.8-2.07 0-2.86zM5.41 20L4 18.59l7.72-7.72 1.47 1.35L5.41 20z\"/>\n",
              "  </svg>\n",
              "      </button>\n",
              "      \n",
              "  <style>\n",
              "    .colab-df-container {\n",
              "      display:flex;\n",
              "      flex-wrap:wrap;\n",
              "      gap: 12px;\n",
              "    }\n",
              "\n",
              "    .colab-df-convert {\n",
              "      background-color: #E8F0FE;\n",
              "      border: none;\n",
              "      border-radius: 50%;\n",
              "      cursor: pointer;\n",
              "      display: none;\n",
              "      fill: #1967D2;\n",
              "      height: 32px;\n",
              "      padding: 0 0 0 0;\n",
              "      width: 32px;\n",
              "    }\n",
              "\n",
              "    .colab-df-convert:hover {\n",
              "      background-color: #E2EBFA;\n",
              "      box-shadow: 0px 1px 2px rgba(60, 64, 67, 0.3), 0px 1px 3px 1px rgba(60, 64, 67, 0.15);\n",
              "      fill: #174EA6;\n",
              "    }\n",
              "\n",
              "    [theme=dark] .colab-df-convert {\n",
              "      background-color: #3B4455;\n",
              "      fill: #D2E3FC;\n",
              "    }\n",
              "\n",
              "    [theme=dark] .colab-df-convert:hover {\n",
              "      background-color: #434B5C;\n",
              "      box-shadow: 0px 1px 3px 1px rgba(0, 0, 0, 0.15);\n",
              "      filter: drop-shadow(0px 1px 2px rgba(0, 0, 0, 0.3));\n",
              "      fill: #FFFFFF;\n",
              "    }\n",
              "  </style>\n",
              "\n",
              "      <script>\n",
              "        const buttonEl =\n",
              "          document.querySelector('#df-dad7815a-13e8-443b-9a9d-e8b611d77bc3 button.colab-df-convert');\n",
              "        buttonEl.style.display =\n",
              "          google.colab.kernel.accessAllowed ? 'block' : 'none';\n",
              "\n",
              "        async function convertToInteractive(key) {\n",
              "          const element = document.querySelector('#df-dad7815a-13e8-443b-9a9d-e8b611d77bc3');\n",
              "          const dataTable =\n",
              "            await google.colab.kernel.invokeFunction('convertToInteractive',\n",
              "                                                     [key], {});\n",
              "          if (!dataTable) return;\n",
              "\n",
              "          const docLinkHtml = 'Like what you see? Visit the ' +\n",
              "            '<a target=\"_blank\" href=https://colab.research.google.com/notebooks/data_table.ipynb>data table notebook</a>'\n",
              "            + ' to learn more about interactive tables.';\n",
              "          element.innerHTML = '';\n",
              "          dataTable['output_type'] = 'display_data';\n",
              "          await google.colab.output.renderOutput(dataTable, element);\n",
              "          const docLink = document.createElement('div');\n",
              "          docLink.innerHTML = docLinkHtml;\n",
              "          element.appendChild(docLink);\n",
              "        }\n",
              "      </script>\n",
              "    </div>\n",
              "  </div>\n",
              "  "
            ]
          },
          "metadata": {},
          "execution_count": 4
        }
      ]
    },
    {
      "cell_type": "code",
      "source": [
        "df['digit_3'].value_counts().sort_index()"
      ],
      "metadata": {
        "colab": {
          "base_uri": "https://localhost:8080/"
        },
        "id": "Q73JFxUb4p9d",
        "outputId": "20bf18c7-0d51-427b-bf1e-bca35200fea3"
      },
      "execution_count": 5,
      "outputs": [
        {
          "output_type": "execute_result",
          "data": {
            "text/plain": [
              "581    1548\n",
              "582    3771\n",
              "591    1250\n",
              "592     230\n",
              "601      20\n",
              "602     186\n",
              "611     796\n",
              "612     317\n",
              "620    1919\n",
              "631     456\n",
              "639     369\n",
              "Name: digit_3, dtype: int64"
            ]
          },
          "metadata": {},
          "execution_count": 5
        }
      ]
    },
    {
      "cell_type": "code",
      "source": [
        ""
      ],
      "metadata": {
        "id": "s0dt2Tfz3-94"
      },
      "execution_count": 5,
      "outputs": []
    },
    {
      "cell_type": "markdown",
      "metadata": {
        "id": "yzAnY0FvePIR"
      },
      "source": [
        "## **# 데이터 증분**"
      ]
    },
    {
      "cell_type": "code",
      "execution_count": 6,
      "metadata": {
        "id": "GV4cXBgUea3j"
      },
      "outputs": [],
      "source": [
        "# 데이터 증분 코드\n",
        "import random\n",
        "import pickle\n",
        "import re\n",
        "def get_only_hangul(line):\n",
        "\tparseText= re.compile('/ ^[ㄱ-ㅎㅏ-ㅣ가-힣]*$/').sub('',line)\n",
        "\treturn parseText\n",
        "\n",
        "def synonym_replacement(words, n):\n",
        "\tnew_words = words.copy()\n",
        "\trandom_word_list = list(set([word for word in words]))\n",
        "\trandom.shuffle(random_word_list)\n",
        "\tnum_replaced = 0\n",
        "\tfor random_word in random_word_list:\n",
        "\t\tsynonyms = get_synonyms(random_word)\n",
        "\t\tif len(synonyms) >= 1:\n",
        "\t\t\tsynonym = random.choice(list(synonyms))\n",
        "\t\t\tnew_words = [synonym if word == random_word else word for word in new_words]\n",
        "\t\t\tnum_replaced += 1\n",
        "\t\tif num_replaced >= n:\n",
        "\t\t\tbreak\n",
        "\tif len(new_words) != 0:\n",
        "\t\tsentence = ' '.join(new_words)\n",
        "\t\tnew_words = sentence.split(\" \")\n",
        "\telse:\n",
        "\t\tnew_words = \"\"\n",
        "\treturn new_words\n",
        "\n",
        "def get_synonyms(word):\n",
        "\tsynomyms = []\n",
        "\ttry:\n",
        "\t\tfor syn in wordnet[word]:\n",
        "\t\t\tfor s in syn:\n",
        "\t\t\t\tsynomyms.append(s)\n",
        "\texcept:\n",
        "\t\tpass\n",
        "\treturn synomyms\n",
        "\n",
        "def random_deletion(words, p):\n",
        "\tif len(words) == 1:\n",
        "\t\treturn words\n",
        "\n",
        "\tnew_words = []\n",
        "\tfor word in words:\n",
        "\t\tr = random.uniform(0, 1)\n",
        "\t\tif r > p:\n",
        "\t\t\tnew_words.append(word)\n",
        "\tif len(new_words) == 0:\n",
        "\t\trand_int = random.randint(0, len(words)-1)\n",
        "\t\treturn [words[rand_int]]\n",
        "\treturn new_words\n",
        "\n",
        "########################################################################\n",
        "# Random swap\n",
        "# Randomly swap two words in the sentence n times\n",
        "########################################################################\n",
        "def random_swap(words, n):\n",
        "\tnew_words = words.copy()\n",
        "\tfor _ in range(n):\n",
        "\t\tnew_words = swap_word(new_words)\n",
        "\treturn new_words\n",
        "\n",
        "def swap_word(new_words):\n",
        "\trandom_idx_1 = random.randint(0, len(new_words)-1)\n",
        "\trandom_idx_2 = random_idx_1\n",
        "\tcounter = 0\n",
        "\twhile random_idx_2 == random_idx_1:\n",
        "\t\trandom_idx_2 = random.randint(0, len(new_words)-1)\n",
        "\t\tcounter += 1\n",
        "\t\tif counter > 3:\n",
        "\t\t\treturn new_words\n",
        "\tnew_words[random_idx_1], new_words[random_idx_2] = new_words[random_idx_2], new_words[random_idx_1]\n",
        "\treturn new_words\n",
        "\n",
        "########################################################################\n",
        "# Random insertion\n",
        "# Randomly insert n words into the sentence\n",
        "########################################################################\n",
        "def random_insertion(words, n):\n",
        "\tnew_words = words.copy()\n",
        "\tfor _ in range(n):\n",
        "\t\tadd_word(new_words)\t\n",
        "\treturn new_words\n",
        "\n",
        "def add_word(new_words):\n",
        "\tsynonyms = []\n",
        "\tcounter = 0\n",
        "\twhile len(synonyms) < 1:\n",
        "\t\tif len(new_words) >= 1:\n",
        "\t\t\trandom_word = new_words[random.randint(0, len(new_words)-1)]\n",
        "\t\t\tsynonyms = get_synonyms(random_word)\n",
        "\t\t\tcounter += 1\n",
        "\t\telse:\n",
        "\t\t\trandom_word = \"\"\n",
        "\t\tif counter >= 10:\n",
        "\t\t\treturn\n",
        "\t\t\n",
        "\trandom_synonym = synonyms[0]\n",
        "\trandom_idx = random.randint(0, len(new_words)-1)\n",
        "\tnew_words.insert(random_idx, random_synonym)\n",
        "\n",
        "def EDA(sentence, alpha_sr=0.1, alpha_ri=0.1, alpha_rs=0.1, p_rd=0.1, num_aug=9):\n",
        "\tsentence = get_only_hangul(sentence)\n",
        "\twords = sentence.split(' ')\n",
        "\twords = [word for word in words if word is not \"\"]\n",
        "\tnum_words = len(words)\n",
        "\taugmented_sentences = []\n",
        "\tnum_new_per_technique = int(num_aug/4) + 1\n",
        "\tn_sr = max(1, int(alpha_sr*num_words))\n",
        "\tn_ri = max(1, int(alpha_ri*num_words))\n",
        "\tn_rs = max(1, int(alpha_rs*num_words))\n",
        "\t# sr\n",
        "\tfor _ in range(num_new_per_technique):\n",
        "\t\ta_words = synonym_replacement(words, n_sr)\n",
        "\t\taugmented_sentences.append(' '.join(a_words))\n",
        "\t# ri\n",
        "\tfor _ in range(num_new_per_technique):\n",
        "\t\ta_words = random_insertion(words, n_ri)\n",
        "\t\taugmented_sentences.append(' '.join(a_words))\n",
        "\t# rs\n",
        "\tfor _ in range(num_new_per_technique):\n",
        "\t\ta_words = random_swap(words, n_rs)\n",
        "\t\taugmented_sentences.append(\" \".join(a_words))\n",
        "\t# rd\n",
        "\tfor _ in range(num_new_per_technique):\n",
        "\t\ta_words = random_deletion(words, p_rd)\n",
        "\t\taugmented_sentences.append(\" \".join(a_words))\n",
        "\taugmented_sentences = [get_only_hangul(sentence) for sentence in augmented_sentences]\n",
        "\trandom.shuffle(augmented_sentences)\n",
        "\tif num_aug >= 1:\n",
        "\t\taugmented_sentences = augmented_sentences[:num_aug]\n",
        "\telse:\n",
        "\t\tkeep_prob = num_aug / len(augmented_sentences)\n",
        "\t\taugmented_sentences = [s for s in augmented_sentences if random.uniform(0, 1) < keep_prob]\n",
        "\taugmented_sentences.append(sentence)\n",
        "\treturn augmented_sentences"
      ]
    },
    {
      "cell_type": "code",
      "source": [
        "df0=df.loc[(df['digit_3'] == 581)]  #*2\n",
        "df1=df.loc[(df['digit_3'] == 582)] \n",
        "df2=df.loc[(df['digit_3'] == 591)]  #*3\n",
        "df3=df.loc[(df['digit_3'] == 592)]   #*15\n",
        "df4=df.loc[(df['digit_3'] == 601)]   #*150\n",
        "df5=df.loc[(df['digit_3'] == 602)]    #*15\n",
        "df6=df.loc[(df['digit_3'] == 611)]    #*3\n",
        "df7=df.loc[(df['digit_3'] == 612)]    #*8\n",
        "df8=df.loc[(df['digit_3'] == 620)]   #*2\n",
        "df9=df.loc[(df['digit_3'] == 631)]   #*8\n",
        "df10=df.loc[(df['digit_3'] == 639)]  #*8"
      ],
      "metadata": {
        "id": "gF9Pg7zIGq-H"
      },
      "execution_count": 7,
      "outputs": []
    },
    {
      "cell_type": "code",
      "source": [
        "df1=df1.reset_index(drop=True)\n",
        "df2=df2.reset_index(drop=True)\n",
        "df3=df3.reset_index(drop=True)\n",
        "df4=df4.reset_index(drop=True)\n",
        "df5=df5.reset_index(drop=True)\n",
        "df6=df6.reset_index(drop=True)\n",
        "df7=df7.reset_index(drop=True)\n",
        "df8=df8.reset_index(drop=True)\n",
        "df9=df9.reset_index(drop=True)\n",
        "df10=df10.reset_index(drop=True)"
      ],
      "metadata": {
        "id": "EN_s8in3BDsR"
      },
      "execution_count": 8,
      "outputs": []
    },
    {
      "cell_type": "code",
      "source": [
        "df_2=pd.concat([df0, df8]) # *2\n",
        "df_3=pd.concat([df2, df6]) # *3\n",
        "df_8=pd.concat([df7, df9, df10]) # *8 묶음\n",
        "df_15=pd.concat([df3, df5]) # *15"
      ],
      "metadata": {
        "id": "K-ESccbMM_eT"
      },
      "execution_count": 9,
      "outputs": []
    },
    {
      "cell_type": "code",
      "source": [
        "df_2=df_2.reset_index(drop=True)\n",
        "df_3=df_3.reset_index(drop=True)\n",
        "df_8=df_8.reset_index(drop=True)\n",
        "df_15=df_15.reset_index(drop=True)"
      ],
      "metadata": {
        "id": "xac7pM-5IEDM"
      },
      "execution_count": 10,
      "outputs": []
    },
    {
      "cell_type": "code",
      "source": [
        "df1.head()"
      ],
      "metadata": {
        "id": "9fic8qkxBrwg",
        "outputId": "35235e0d-d2bb-40e5-f2cf-8dc9cb7d3585",
        "colab": {
          "base_uri": "https://localhost:8080/",
          "height": 206
        }
      },
      "execution_count": 11,
      "outputs": [
        {
          "output_type": "execute_result",
          "data": {
            "text/plain": [
              "        AI_id digit_1  digit_2  digit_3                              text\n",
              "0  id_0000065       J       58      582     사무실에서 고객 의뢰로 시스템소프트웨어 개발 및 공급\n",
              "1  id_0000107       J       58      582  사업장에서 고객 의뢰를 받아 무인주차관리 시스템 개발 공급\n",
              "2  id_0000276       J       58      582               사무실에서 의뢰받아 소프트웨어 개발\n",
              "3  id_0000338       J       58      582     사무실에서 고객 의뢰로 시스템소프트웨어 개발 및 공급\n",
              "4  id_0000508       J       58      582               사무실에서 의뢰받아 소프트웨어 개발"
            ],
            "text/html": [
              "\n",
              "  <div id=\"df-ccb47f5f-8131-40f6-98a7-dd41b423c6ff\">\n",
              "    <div class=\"colab-df-container\">\n",
              "      <div>\n",
              "<style scoped>\n",
              "    .dataframe tbody tr th:only-of-type {\n",
              "        vertical-align: middle;\n",
              "    }\n",
              "\n",
              "    .dataframe tbody tr th {\n",
              "        vertical-align: top;\n",
              "    }\n",
              "\n",
              "    .dataframe thead th {\n",
              "        text-align: right;\n",
              "    }\n",
              "</style>\n",
              "<table border=\"1\" class=\"dataframe\">\n",
              "  <thead>\n",
              "    <tr style=\"text-align: right;\">\n",
              "      <th></th>\n",
              "      <th>AI_id</th>\n",
              "      <th>digit_1</th>\n",
              "      <th>digit_2</th>\n",
              "      <th>digit_3</th>\n",
              "      <th>text</th>\n",
              "    </tr>\n",
              "  </thead>\n",
              "  <tbody>\n",
              "    <tr>\n",
              "      <th>0</th>\n",
              "      <td>id_0000065</td>\n",
              "      <td>J</td>\n",
              "      <td>58</td>\n",
              "      <td>582</td>\n",
              "      <td>사무실에서 고객 의뢰로 시스템소프트웨어 개발 및 공급</td>\n",
              "    </tr>\n",
              "    <tr>\n",
              "      <th>1</th>\n",
              "      <td>id_0000107</td>\n",
              "      <td>J</td>\n",
              "      <td>58</td>\n",
              "      <td>582</td>\n",
              "      <td>사업장에서 고객 의뢰를 받아 무인주차관리 시스템 개발 공급</td>\n",
              "    </tr>\n",
              "    <tr>\n",
              "      <th>2</th>\n",
              "      <td>id_0000276</td>\n",
              "      <td>J</td>\n",
              "      <td>58</td>\n",
              "      <td>582</td>\n",
              "      <td>사무실에서 의뢰받아 소프트웨어 개발</td>\n",
              "    </tr>\n",
              "    <tr>\n",
              "      <th>3</th>\n",
              "      <td>id_0000338</td>\n",
              "      <td>J</td>\n",
              "      <td>58</td>\n",
              "      <td>582</td>\n",
              "      <td>사무실에서 고객 의뢰로 시스템소프트웨어 개발 및 공급</td>\n",
              "    </tr>\n",
              "    <tr>\n",
              "      <th>4</th>\n",
              "      <td>id_0000508</td>\n",
              "      <td>J</td>\n",
              "      <td>58</td>\n",
              "      <td>582</td>\n",
              "      <td>사무실에서 의뢰받아 소프트웨어 개발</td>\n",
              "    </tr>\n",
              "  </tbody>\n",
              "</table>\n",
              "</div>\n",
              "      <button class=\"colab-df-convert\" onclick=\"convertToInteractive('df-ccb47f5f-8131-40f6-98a7-dd41b423c6ff')\"\n",
              "              title=\"Convert this dataframe to an interactive table.\"\n",
              "              style=\"display:none;\">\n",
              "        \n",
              "  <svg xmlns=\"http://www.w3.org/2000/svg\" height=\"24px\"viewBox=\"0 0 24 24\"\n",
              "       width=\"24px\">\n",
              "    <path d=\"M0 0h24v24H0V0z\" fill=\"none\"/>\n",
              "    <path d=\"M18.56 5.44l.94 2.06.94-2.06 2.06-.94-2.06-.94-.94-2.06-.94 2.06-2.06.94zm-11 1L8.5 8.5l.94-2.06 2.06-.94-2.06-.94L8.5 2.5l-.94 2.06-2.06.94zm10 10l.94 2.06.94-2.06 2.06-.94-2.06-.94-.94-2.06-.94 2.06-2.06.94z\"/><path d=\"M17.41 7.96l-1.37-1.37c-.4-.4-.92-.59-1.43-.59-.52 0-1.04.2-1.43.59L10.3 9.45l-7.72 7.72c-.78.78-.78 2.05 0 2.83L4 21.41c.39.39.9.59 1.41.59.51 0 1.02-.2 1.41-.59l7.78-7.78 2.81-2.81c.8-.78.8-2.07 0-2.86zM5.41 20L4 18.59l7.72-7.72 1.47 1.35L5.41 20z\"/>\n",
              "  </svg>\n",
              "      </button>\n",
              "      \n",
              "  <style>\n",
              "    .colab-df-container {\n",
              "      display:flex;\n",
              "      flex-wrap:wrap;\n",
              "      gap: 12px;\n",
              "    }\n",
              "\n",
              "    .colab-df-convert {\n",
              "      background-color: #E8F0FE;\n",
              "      border: none;\n",
              "      border-radius: 50%;\n",
              "      cursor: pointer;\n",
              "      display: none;\n",
              "      fill: #1967D2;\n",
              "      height: 32px;\n",
              "      padding: 0 0 0 0;\n",
              "      width: 32px;\n",
              "    }\n",
              "\n",
              "    .colab-df-convert:hover {\n",
              "      background-color: #E2EBFA;\n",
              "      box-shadow: 0px 1px 2px rgba(60, 64, 67, 0.3), 0px 1px 3px 1px rgba(60, 64, 67, 0.15);\n",
              "      fill: #174EA6;\n",
              "    }\n",
              "\n",
              "    [theme=dark] .colab-df-convert {\n",
              "      background-color: #3B4455;\n",
              "      fill: #D2E3FC;\n",
              "    }\n",
              "\n",
              "    [theme=dark] .colab-df-convert:hover {\n",
              "      background-color: #434B5C;\n",
              "      box-shadow: 0px 1px 3px 1px rgba(0, 0, 0, 0.15);\n",
              "      filter: drop-shadow(0px 1px 2px rgba(0, 0, 0, 0.3));\n",
              "      fill: #FFFFFF;\n",
              "    }\n",
              "  </style>\n",
              "\n",
              "      <script>\n",
              "        const buttonEl =\n",
              "          document.querySelector('#df-ccb47f5f-8131-40f6-98a7-dd41b423c6ff button.colab-df-convert');\n",
              "        buttonEl.style.display =\n",
              "          google.colab.kernel.accessAllowed ? 'block' : 'none';\n",
              "\n",
              "        async function convertToInteractive(key) {\n",
              "          const element = document.querySelector('#df-ccb47f5f-8131-40f6-98a7-dd41b423c6ff');\n",
              "          const dataTable =\n",
              "            await google.colab.kernel.invokeFunction('convertToInteractive',\n",
              "                                                     [key], {});\n",
              "          if (!dataTable) return;\n",
              "\n",
              "          const docLinkHtml = 'Like what you see? Visit the ' +\n",
              "            '<a target=\"_blank\" href=https://colab.research.google.com/notebooks/data_table.ipynb>data table notebook</a>'\n",
              "            + ' to learn more about interactive tables.';\n",
              "          element.innerHTML = '';\n",
              "          dataTable['output_type'] = 'display_data';\n",
              "          await google.colab.output.renderOutput(dataTable, element);\n",
              "          const docLink = document.createElement('div');\n",
              "          docLink.innerHTML = docLinkHtml;\n",
              "          element.appendChild(docLink);\n",
              "        }\n",
              "      </script>\n",
              "    </div>\n",
              "  </div>\n",
              "  "
            ]
          },
          "metadata": {},
          "execution_count": 11
        }
      ]
    },
    {
      "cell_type": "code",
      "source": [
        "temp_result=[]\n",
        "n=0\n",
        "id_list=[]\n",
        "digit_1_list=[]\n",
        "digit_2_list=[]\n",
        "digit_3_list=[]\n",
        "\n",
        "temp = {'AI_id': [], 'digit_1': [], 'digit_2' : [], 'digit_3' : [], 'text' : []}\n",
        "temp = pd.DataFrame(temp)\n",
        "\n",
        "for sentence in df_2['text']:\n",
        "  result_list=EDA(sentence, alpha_sr=0.0, alpha_ri=0.0, alpha_rs=0.5, p_rd=0.5, num_aug=1)\n",
        "  id_list=[str(df_2['AI_id'][n]), 'p'+str(df_2['AI_id'][n])]\n",
        "  digit_1_list=[df_2['digit_1'][n], df_2['digit_1'][n]]\n",
        "  digit_2_list=[df_2['digit_2'][n], df_2['digit_2'][n]]\n",
        "  digit_3_list=[df_2['digit_3'][n], df_2['digit_3'][n]]\n",
        "  data_to_insert={'AI_id' : id_list, 'digit_1' : digit_1_list, 'digit_2' : digit_2_list, 'digit_3': digit_3_list, 'text' : result_list}\n",
        "  df_2_to_insert = pd.DataFrame(data_to_insert)\n",
        "  temp= temp.append(df_2_to_insert, ignore_index=True)\n",
        "  n=n+1\n",
        "\n",
        "df_2=temp"
      ],
      "metadata": {
        "id": "0PnN3SqW7HX1"
      },
      "execution_count": 13,
      "outputs": []
    },
    {
      "cell_type": "code",
      "source": [
        "temp_result=[]\n",
        "n=0\n",
        "id_list=[]\n",
        "digit_1_list=[]\n",
        "digit_2_list=[]\n",
        "digit_3_list=[]\n",
        "\n",
        "temp = {'AI_id': [], 'digit_1': [], 'digit_2' : [], 'digit_3' : [], 'text' : []}\n",
        "temp = pd.DataFrame(temp)\n",
        "\n",
        "for sentence in df_3['text']:\n",
        "  result_list=EDA(sentence, alpha_sr=0.0, alpha_ri=0.0, alpha_rs=0.5, p_rd=0.5, num_aug=2)\n",
        "  id_list=[str(df_3['AI_id'][n]), 'p'+str(df_3['AI_id'][n]), 'p'+str(df_3['AI_id'][n])]\n",
        "  digit_1_list=[df_3['digit_1'][n], df_3['digit_1'][n], df_3['digit_1'][n]]\n",
        "  digit_2_list=[df_3['digit_2'][n], df_3['digit_2'][n], df_3['digit_2'][n]]\n",
        "  digit_3_list=[df_3['digit_3'][n], df_3['digit_3'][n], df_3['digit_3'][n]]\n",
        "  data_to_insert={'AI_id' : id_list, 'digit_1' : digit_1_list, 'digit_2' : digit_2_list, 'digit_3': digit_3_list, 'text' : result_list}\n",
        "  df_3_to_insert = pd.DataFrame(data_to_insert)\n",
        "  temp= temp.append(df_3_to_insert, ignore_index=True)\n",
        "  n=n+1\n",
        "\n",
        "df_3=temp"
      ],
      "metadata": {
        "id": "OZP8t_wW7HEC"
      },
      "execution_count": 14,
      "outputs": []
    },
    {
      "cell_type": "code",
      "source": [
        "temp_result=[]\n",
        "n=0\n",
        "id_list=[]\n",
        "digit_1_list=[]\n",
        "digit_2_list=[]\n",
        "digit_3_list=[]\n",
        "\n",
        "temp = {'AI_id': [], 'digit_1': [], 'digit_2' : [], 'digit_3' : [], 'text' : []}\n",
        "temp = pd.DataFrame(temp)\n",
        "\n",
        "for sentence in df_8['text']:\n",
        "  result_list=EDA(sentence, alpha_sr=0.0, alpha_ri=0.0, alpha_rs=0.5, p_rd=0.5, num_aug=7)\n",
        "  id_list=[str(df_8['AI_id'][n]), 'p'+str(df_8['AI_id'][n]), 'p'+str(df_8['AI_id'][n]), 'p'+str(df_8['AI_id'][n]), 'p'+str(df_8['AI_id'][n]), 'p'+str(df_8['AI_id'][n]), 'p'+str(df_8['AI_id'][n]), 'p'+str(df_8['AI_id'][n])]\n",
        "  digit_1_list=[df_8['digit_1'][n], df_8['digit_1'][n], df_8['digit_1'][n], df_8['digit_1'][n], df_8['digit_1'][n], df_8['digit_1'][n], df_8['digit_1'][n], df_8['digit_1'][n]]\n",
        "  digit_2_list=[df_8['digit_2'][n], df_8['digit_2'][n], df_8['digit_2'][n], df_8['digit_2'][n], df_8['digit_2'][n], df_8['digit_2'][n], df_8['digit_2'][n], df_8['digit_2'][n]]\n",
        "  digit_3_list=[df_8['digit_3'][n], df_8['digit_3'][n], df_8['digit_3'][n], df_8['digit_3'][n], df_8['digit_3'][n], df_8['digit_3'][n], df_8['digit_3'][n], df_8['digit_3'][n]]\n",
        "  data_to_insert={'AI_id' : id_list, 'digit_1' : digit_1_list, 'digit_2' : digit_2_list, 'digit_3': digit_3_list, 'text' : result_list}\n",
        "  df_8_to_insert = pd.DataFrame(data_to_insert)\n",
        "  temp= temp.append(df_8_to_insert, ignore_index=True)\n",
        "  n=n+1\n",
        "\n",
        "df_8=temp"
      ],
      "metadata": {
        "id": "rQ0Jf7xUW-hM"
      },
      "execution_count": 15,
      "outputs": []
    },
    {
      "cell_type": "code",
      "source": [
        "temp_result=[]\n",
        "n=0\n",
        "id_list=[]\n",
        "digit_1_list=[]\n",
        "digit_2_list=[]\n",
        "digit_3_list=[]\n",
        "\n",
        "temp = {'AI_id': [], 'digit_1': [], 'digit_2' : [], 'digit_3' : [], 'text' : []}\n",
        "temp = pd.DataFrame(temp)\n",
        "\n",
        "for sentence in df_15['text']:\n",
        "  result_list=EDA(sentence, alpha_sr=0.0, alpha_ri=0.0, alpha_rs=0.5, p_rd=0.5, num_aug=14)\n",
        "  id_list=[str(df_15['AI_id'][n]), 'p'+str(df_15['AI_id'][n]), 'p'+str(df_15['AI_id'][n]), 'p'+str(df_15['AI_id'][n]), 'p'+str(df_15['AI_id'][n]), 'p'+str(df_15['AI_id'][n]), 'p'+str(df_15['AI_id'][n]), 'p'+str(df_15['AI_id'][n]), 'p'+str(df_15['AI_id'][n]), 'p'+str(df_15['AI_id'][n]), 'p'+str(df_15['AI_id'][n]), 'p'+str(df_15['AI_id'][n]), 'p'+str(df_15['AI_id'][n]), 'p'+str(df_15['AI_id'][n]), 'p'+str(df_15['AI_id'][n])]\n",
        "  digit_1_list=[df_15['digit_1'][n], df_15['digit_1'][n], df_15['digit_1'][n], df_15['digit_1'][n], df_15['digit_1'][n], df_15['digit_1'][n], df_15['digit_1'][n], df_15['digit_1'][n], df_15['digit_1'][n], df_15['digit_1'][n], df_15['digit_1'][n], df_15['digit_1'][n], df_15['digit_1'][n], df_15['digit_1'][n], df_15['digit_1'][n]]\n",
        "  digit_2_list=[df_15['digit_2'][n], df_15['digit_2'][n], df_15['digit_2'][n], df_15['digit_2'][n], df_15['digit_2'][n], df_15['digit_2'][n], df_15['digit_2'][n], df_15['digit_2'][n], df_15['digit_2'][n], df_15['digit_2'][n], df_15['digit_2'][n], df_15['digit_2'][n], df_15['digit_2'][n], df_15['digit_2'][n], df_15['digit_2'][n]]\n",
        "  digit_3_list=[df_15['digit_3'][n], df_15['digit_3'][n], df_15['digit_3'][n], df_15['digit_3'][n], df_15['digit_3'][n], df_15['digit_3'][n], df_15['digit_3'][n], df_15['digit_3'][n], df_15['digit_3'][n], df_15['digit_3'][n], df_15['digit_3'][n], df_15['digit_3'][n], df_15['digit_3'][n], df_15['digit_3'][n], df_15['digit_3'][n]]\n",
        "\n",
        "  data_to_insert={'AI_id' : id_list, 'digit_1' : digit_1_list, 'digit_2' : digit_2_list, 'digit_3': digit_3_list, 'text' : result_list}\n",
        "  df_15_to_insert = pd.DataFrame(data_to_insert)\n",
        "  temp= temp.append(df_15_to_insert, ignore_index=True)\n",
        "  n=n+1\n",
        "\n",
        "df_15=temp"
      ],
      "metadata": {
        "id": "UZrxz702ZERd"
      },
      "execution_count": 16,
      "outputs": []
    },
    {
      "cell_type": "code",
      "source": [
        "temp_result=[]\n",
        "n=0\n",
        "id_list=[]\n",
        "digit_1_list=[]\n",
        "digit_2_list=[]\n",
        "digit_3_list=[]\n",
        "\n",
        "temp = {'AI_id': [], 'digit_1': [], 'digit_2' : [], 'digit_3' : [], 'text' : []}\n",
        "temp = pd.DataFrame(temp)\n",
        "\n",
        "for sentence in df4['text']:\n",
        "  result_list=EDA(sentence, alpha_sr=0.0, alpha_ri=0.0, alpha_rs=0.5, p_rd=0.5, num_aug=149)\n",
        "  id_list=[str(df4['AI_id'][n]), 'p'+str(df4['AI_id'][n]), 'p'+str(df4['AI_id'][n]), 'p'+str(df4['AI_id'][n]), 'p'+str(df4['AI_id'][n]), 'p'+str(df4['AI_id'][n]), 'p'+str(df4['AI_id'][n]), 'p'+str(df4['AI_id'][n]), 'p'+str(df4['AI_id'][n]), 'p'+str(df4['AI_id'][n]), 'p'+str(df4['AI_id'][n]), 'p'+str(df4['AI_id'][n]), 'p'+str(df4['AI_id'][n]), 'p'+str(df4['AI_id'][n]), 'p'+str(df4['AI_id'][n]), 'p'+str(df4['AI_id'][n]), 'p'+str(df4['AI_id'][n]), 'p'+str(df4['AI_id'][n]), 'p'+str(df4['AI_id'][n]), 'p'+str(df4['AI_id'][n]), 'p'+str(df4['AI_id'][n]), 'p'+str(df4['AI_id'][n]), 'p'+str(df4['AI_id'][n]), 'p'+str(df4['AI_id'][n]), 'p'+str(df4['AI_id'][n]), 'p'+str(df4['AI_id'][n]), 'p'+str(df4['AI_id'][n]), 'p'+str(df4['AI_id'][n]), 'p'+str(df4['AI_id'][n]), 'p'+str(df4['AI_id'][n]), 'p'+str(df4['AI_id'][n]), 'p'+str(df4['AI_id'][n]), 'p'+str(df4['AI_id'][n]), 'p'+str(df4['AI_id'][n]), 'p'+str(df4['AI_id'][n]), 'p'+str(df4['AI_id'][n]), 'p'+str(df4['AI_id'][n]), 'p'+str(df4['AI_id'][n]), 'p'+str(df4['AI_id'][n]), 'p'+str(df4['AI_id'][n]), 'p'+str(df4['AI_id'][n]), 'p'+str(df4['AI_id'][n]), 'p'+str(df4['AI_id'][n]), 'p'+str(df4['AI_id'][n]), 'p'+str(df4['AI_id'][n]), 'p'+str(df4['AI_id'][n]), 'p'+str(df4['AI_id'][n]), 'p'+str(df4['AI_id'][n]), 'p'+str(df4['AI_id'][n]), 'p'+str(df4['AI_id'][n]), 'p'+str(df4['AI_id'][n]), 'p'+str(df4['AI_id'][n]), 'p'+str(df4['AI_id'][n]), 'p'+str(df4['AI_id'][n]), 'p'+str(df4['AI_id'][n]), 'p'+str(df4['AI_id'][n]), 'p'+str(df4['AI_id'][n]), 'p'+str(df4['AI_id'][n]), 'p'+str(df4['AI_id'][n]), 'p'+str(df4['AI_id'][n]), 'p'+str(df4['AI_id'][n]), 'p'+str(df4['AI_id'][n]), 'p'+str(df4['AI_id'][n]), 'p'+str(df4['AI_id'][n]), 'p'+str(df4['AI_id'][n]), 'p'+str(df4['AI_id'][n]), 'p'+str(df4['AI_id'][n]), 'p'+str(df4['AI_id'][n]), 'p'+str(df4['AI_id'][n]), 'p'+str(df4['AI_id'][n]), 'p'+str(df4['AI_id'][n]), 'p'+str(df4['AI_id'][n]), 'p'+str(df4['AI_id'][n]), 'p'+str(df4['AI_id'][n]), 'p'+str(df4['AI_id'][n]), 'p'+str(df4['AI_id'][n]), 'p'+str(df4['AI_id'][n]), 'p'+str(df4['AI_id'][n]), 'p'+str(df4['AI_id'][n]), 'p'+str(df4['AI_id'][n]), 'p'+str(df4['AI_id'][n]), 'p'+str(df4['AI_id'][n]), 'p'+str(df4['AI_id'][n]), 'p'+str(df4['AI_id'][n]), 'p'+str(df4['AI_id'][n]), 'p'+str(df4['AI_id'][n]), 'p'+str(df4['AI_id'][n]), 'p'+str(df4['AI_id'][n]), 'p'+str(df4['AI_id'][n]), 'p'+str(df4['AI_id'][n]), 'p'+str(df4['AI_id'][n]), 'p'+str(df4['AI_id'][n]), 'p'+str(df4['AI_id'][n]), 'p'+str(df4['AI_id'][n]), 'p'+str(df4['AI_id'][n]), 'p'+str(df4['AI_id'][n]), 'p'+str(df4['AI_id'][n]), 'p'+str(df4['AI_id'][n]), 'p'+str(df4['AI_id'][n]),  'p'+str(df4['AI_id'][n]), 'p'+str(df4['AI_id'][n]), 'p'+str(df4['AI_id'][n]), 'p'+str(df4['AI_id'][n]), 'p'+str(df4['AI_id'][n]), 'p'+str(df4['AI_id'][n]), 'p'+str(df4['AI_id'][n]), 'p'+str(df4['AI_id'][n]), 'p'+str(df4['AI_id'][n]), 'p'+str(df4['AI_id'][n]), 'p'+str(df4['AI_id'][n]), 'p'+str(df4['AI_id'][n]), 'p'+str(df4['AI_id'][n]), 'p'+str(df4['AI_id'][n]), 'p'+str(df4['AI_id'][n]), 'p'+str(df4['AI_id'][n]), 'p'+str(df4['AI_id'][n]), 'p'+str(df4['AI_id'][n]), 'p'+str(df4['AI_id'][n]), 'p'+str(df4['AI_id'][n]), 'p'+str(df4['AI_id'][n]), 'p'+str(df4['AI_id'][n]), 'p'+str(df4['AI_id'][n]), 'p'+str(df4['AI_id'][n]), 'p'+str(df4['AI_id'][n]), 'p'+str(df4['AI_id'][n]), 'p'+str(df4['AI_id'][n]), 'p'+str(df4['AI_id'][n]), 'p'+str(df4['AI_id'][n]), 'p'+str(df4['AI_id'][n]), 'p'+str(df4['AI_id'][n]), 'p'+str(df4['AI_id'][n]), 'p'+str(df4['AI_id'][n]), 'p'+str(df4['AI_id'][n]), 'p'+str(df4['AI_id'][n]), 'p'+str(df4['AI_id'][n]), 'p'+str(df4['AI_id'][n]), 'p'+str(df4['AI_id'][n]), 'p'+str(df4['AI_id'][n]), 'p'+str(df4['AI_id'][n]), 'p'+str(df4['AI_id'][n]), 'p'+str(df4['AI_id'][n]), 'p'+str(df4['AI_id'][n]), 'p'+str(df4['AI_id'][n]), 'p'+str(df4['AI_id'][n]), 'p'+str(df4['AI_id'][n]), 'p'+str(df4['AI_id'][n]), 'p'+str(df4['AI_id'][n]), 'p'+str(df4['AI_id'][n]), 'p'+str(df4['AI_id'][n]), 'p'+str(df4['AI_id'][n])]\n",
        "  digit_1_list=[df4['digit_1'][n], df4['digit_1'][n], df4['digit_1'][n], df4['digit_1'][n], df4['digit_1'][n], df4['digit_1'][n], df4['digit_1'][n], df4['digit_1'][n], df4['digit_1'][n], df4['digit_1'][n], df4['digit_1'][n], df4['digit_1'][n], df4['digit_1'][n], df4['digit_1'][n], df4['digit_1'][n], df4['digit_1'][n], df4['digit_1'][n], df4['digit_1'][n], df4['digit_1'][n], df4['digit_1'][n], df4['digit_1'][n], df4['digit_1'][n], df4['digit_1'][n], df4['digit_1'][n], df4['digit_1'][n], df4['digit_1'][n], df4['digit_1'][n], df4['digit_1'][n], df4['digit_1'][n], df4['digit_1'][n], df4['digit_1'][n], df4['digit_1'][n], df4['digit_1'][n], df4['digit_1'][n], df4['digit_1'][n], df4['digit_1'][n], df4['digit_1'][n], df4['digit_1'][n], df4['digit_1'][n], df4['digit_1'][n], df4['digit_1'][n], df4['digit_1'][n], df4['digit_1'][n], df4['digit_1'][n], df4['digit_1'][n], df4['digit_1'][n], df4['digit_1'][n], df4['digit_1'][n], df4['digit_1'][n], df4['digit_1'][n], df4['digit_1'][n], df4['digit_1'][n], df4['digit_1'][n], df4['digit_1'][n], df4['digit_1'][n], df4['digit_1'][n], df4['digit_1'][n], df4['digit_1'][n], df4['digit_1'][n], df4['digit_1'][n], df4['digit_1'][n], df4['digit_1'][n], df4['digit_1'][n], df4['digit_1'][n], df4['digit_1'][n], df4['digit_1'][n], df4['digit_1'][n], df4['digit_1'][n], df4['digit_1'][n], df4['digit_1'][n], df4['digit_1'][n], df4['digit_1'][n], df4['digit_1'][n], df4['digit_1'][n], df4['digit_1'][n], df4['digit_1'][n], df4['digit_1'][n], df4['digit_1'][n], df4['digit_1'][n], df4['digit_1'][n], df4['digit_1'][n], df4['digit_1'][n], df4['digit_1'][n], df4['digit_1'][n], df4['digit_1'][n], df4['digit_1'][n], df4['digit_1'][n], df4['digit_1'][n], df4['digit_1'][n], df4['digit_1'][n], df4['digit_1'][n], df4['digit_1'][n], df4['digit_1'][n], df4['digit_1'][n], df4['digit_1'][n], df4['digit_1'][n], df4['digit_1'][n], df4['digit_1'][n], df4['digit_1'][n], df4['digit_1'][n], df4['digit_1'][n], df4['digit_1'][n], df4['digit_1'][n], df4['digit_1'][n], df4['digit_1'][n], df4['digit_1'][n], df4['digit_1'][n], df4['digit_1'][n], df4['digit_1'][n], df4['digit_1'][n], df4['digit_1'][n], df4['digit_1'][n], df4['digit_1'][n], df4['digit_1'][n], df4['digit_1'][n], df4['digit_1'][n], df4['digit_1'][n], df4['digit_1'][n], df4['digit_1'][n], df4['digit_1'][n], df4['digit_1'][n], df4['digit_1'][n], df4['digit_1'][n], df4['digit_1'][n], df4['digit_1'][n], df4['digit_1'][n], df4['digit_1'][n], df4['digit_1'][n], df4['digit_1'][n], df4['digit_1'][n], df4['digit_1'][n], df4['digit_1'][n], df4['digit_1'][n], df4['digit_1'][n], df4['digit_1'][n], df4['digit_1'][n], df4['digit_1'][n], df4['digit_1'][n], df4['digit_1'][n], df4['digit_1'][n], df4['digit_1'][n], df4['digit_1'][n], df4['digit_1'][n], df4['digit_1'][n], df4['digit_1'][n], df4['digit_1'][n], df4['digit_1'][n], df4['digit_1'][n], df4['digit_1'][n], df4['digit_1'][n]]\n",
        "  digit_2_list=[df4['digit_2'][n], df4['digit_2'][n], df4['digit_2'][n], df4['digit_2'][n], df4['digit_2'][n], df4['digit_2'][n], df4['digit_2'][n], df4['digit_2'][n], df4['digit_2'][n], df4['digit_2'][n], df4['digit_2'][n], df4['digit_2'][n], df4['digit_2'][n], df4['digit_2'][n], df4['digit_2'][n], df4['digit_2'][n], df4['digit_2'][n], df4['digit_2'][n], df4['digit_2'][n], df4['digit_2'][n], df4['digit_2'][n], df4['digit_2'][n], df4['digit_2'][n], df4['digit_2'][n], df4['digit_2'][n], df4['digit_2'][n], df4['digit_2'][n], df4['digit_2'][n], df4['digit_2'][n], df4['digit_2'][n], df4['digit_2'][n], df4['digit_2'][n], df4['digit_2'][n], df4['digit_2'][n], df4['digit_2'][n], df4['digit_2'][n], df4['digit_2'][n], df4['digit_2'][n], df4['digit_2'][n], df4['digit_2'][n], df4['digit_2'][n], df4['digit_2'][n], df4['digit_2'][n], df4['digit_2'][n], df4['digit_2'][n], df4['digit_2'][n], df4['digit_2'][n], df4['digit_2'][n], df4['digit_2'][n], df4['digit_2'][n], df4['digit_2'][n], df4['digit_2'][n], df4['digit_2'][n], df4['digit_2'][n], df4['digit_2'][n], df4['digit_2'][n], df4['digit_2'][n], df4['digit_2'][n], df4['digit_2'][n], df4['digit_2'][n], df4['digit_2'][n], df4['digit_2'][n], df4['digit_2'][n], df4['digit_2'][n], df4['digit_2'][n], df4['digit_2'][n], df4['digit_2'][n], df4['digit_2'][n], df4['digit_2'][n], df4['digit_2'][n], df4['digit_2'][n], df4['digit_2'][n], df4['digit_2'][n], df4['digit_2'][n], df4['digit_2'][n], df4['digit_2'][n], df4['digit_2'][n], df4['digit_2'][n], df4['digit_2'][n], df4['digit_2'][n], df4['digit_2'][n], df4['digit_2'][n], df4['digit_2'][n], df4['digit_2'][n], df4['digit_2'][n], df4['digit_2'][n], df4['digit_2'][n], df4['digit_2'][n], df4['digit_2'][n], df4['digit_2'][n], df4['digit_2'][n], df4['digit_2'][n], df4['digit_2'][n], df4['digit_2'][n], df4['digit_2'][n], df4['digit_2'][n], df4['digit_2'][n], df4['digit_2'][n], df4['digit_2'][n], df4['digit_2'][n], df4['digit_2'][n], df4['digit_2'][n], df4['digit_2'][n], df4['digit_2'][n], df4['digit_2'][n], df4['digit_2'][n], df4['digit_2'][n], df4['digit_2'][n], df4['digit_2'][n], df4['digit_2'][n], df4['digit_2'][n], df4['digit_2'][n], df4['digit_2'][n], df4['digit_2'][n], df4['digit_2'][n], df4['digit_2'][n], df4['digit_2'][n], df4['digit_2'][n], df4['digit_2'][n], df4['digit_2'][n], df4['digit_2'][n], df4['digit_2'][n], df4['digit_2'][n], df4['digit_2'][n], df4['digit_2'][n], df4['digit_2'][n], df4['digit_2'][n], df4['digit_2'][n], df4['digit_2'][n], df4['digit_2'][n], df4['digit_2'][n], df4['digit_2'][n], df4['digit_2'][n], df4['digit_2'][n], df4['digit_2'][n], df4['digit_2'][n], df4['digit_2'][n], df4['digit_2'][n], df4['digit_2'][n], df4['digit_2'][n], df4['digit_2'][n], df4['digit_2'][n], df4['digit_2'][n], df4['digit_2'][n], df4['digit_2'][n], df4['digit_2'][n], df4['digit_2'][n], df4['digit_2'][n], df4['digit_2'][n], df4['digit_2'][n]]\n",
        "  digit_3_list=[df4['digit_3'][n], df4['digit_3'][n], df4['digit_3'][n], df4['digit_3'][n], df4['digit_3'][n], df4['digit_3'][n], df4['digit_3'][n], df4['digit_3'][n], df4['digit_3'][n], df4['digit_3'][n], df4['digit_3'][n], df4['digit_3'][n], df4['digit_3'][n], df4['digit_3'][n], df4['digit_3'][n], df4['digit_3'][n], df4['digit_3'][n], df4['digit_3'][n], df4['digit_3'][n], df4['digit_3'][n], df4['digit_3'][n], df4['digit_3'][n], df4['digit_3'][n], df4['digit_3'][n], df4['digit_3'][n], df4['digit_3'][n], df4['digit_3'][n], df4['digit_3'][n], df4['digit_3'][n], df4['digit_3'][n], df4['digit_3'][n], df4['digit_3'][n], df4['digit_3'][n], df4['digit_3'][n], df4['digit_3'][n], df4['digit_3'][n], df4['digit_3'][n], df4['digit_3'][n], df4['digit_3'][n], df4['digit_3'][n], df4['digit_3'][n], df4['digit_3'][n], df4['digit_3'][n], df4['digit_3'][n], df4['digit_3'][n], df4['digit_3'][n], df4['digit_3'][n], df4['digit_3'][n], df4['digit_3'][n], df4['digit_3'][n], df4['digit_3'][n], df4['digit_3'][n], df4['digit_3'][n], df4['digit_3'][n], df4['digit_3'][n], df4['digit_3'][n], df4['digit_3'][n], df4['digit_3'][n], df4['digit_3'][n], df4['digit_3'][n], df4['digit_3'][n], df4['digit_3'][n], df4['digit_3'][n], df4['digit_3'][n], df4['digit_3'][n], df4['digit_3'][n], df4['digit_3'][n], df4['digit_3'][n], df4['digit_3'][n], df4['digit_3'][n], df4['digit_3'][n], df4['digit_3'][n], df4['digit_3'][n], df4['digit_3'][n], df4['digit_3'][n], df4['digit_3'][n], df4['digit_3'][n], df4['digit_3'][n], df4['digit_3'][n], df4['digit_3'][n], df4['digit_3'][n], df4['digit_3'][n], df4['digit_3'][n], df4['digit_3'][n], df4['digit_3'][n], df4['digit_3'][n], df4['digit_3'][n], df4['digit_3'][n], df4['digit_3'][n], df4['digit_3'][n], df4['digit_3'][n], df4['digit_3'][n], df4['digit_3'][n], df4['digit_3'][n], df4['digit_3'][n], df4['digit_3'][n], df4['digit_3'][n], df4['digit_3'][n], df4['digit_3'][n], df4['digit_3'][n], df4['digit_3'][n], df4['digit_3'][n], df4['digit_3'][n], df4['digit_3'][n], df4['digit_3'][n], df4['digit_3'][n], df4['digit_3'][n], df4['digit_3'][n], df4['digit_3'][n], df4['digit_3'][n], df4['digit_3'][n], df4['digit_3'][n], df4['digit_3'][n], df4['digit_3'][n], df4['digit_3'][n], df4['digit_3'][n], df4['digit_3'][n], df4['digit_3'][n], df4['digit_3'][n], df4['digit_3'][n], df4['digit_3'][n], df4['digit_3'][n], df4['digit_3'][n], df4['digit_3'][n], df4['digit_3'][n], df4['digit_3'][n], df4['digit_3'][n], df4['digit_3'][n], df4['digit_3'][n], df4['digit_3'][n], df4['digit_3'][n], df4['digit_3'][n], df4['digit_3'][n], df4['digit_3'][n], df4['digit_3'][n], df4['digit_3'][n], df4['digit_3'][n], df4['digit_3'][n], df4['digit_3'][n], df4['digit_3'][n], df4['digit_3'][n], df4['digit_3'][n], df4['digit_3'][n], df4['digit_3'][n], df4['digit_3'][n], df4['digit_3'][n], df4['digit_3'][n], df4['digit_3'][n], df4['digit_3'][n], df4['digit_3'][n]]\n",
        "  data_to_insert={'AI_id' : id_list, 'digit_1' : digit_1_list, 'digit_2' : digit_2_list, 'digit_3': digit_3_list, 'text' : result_list}\n",
        "  df4_to_insert = pd.DataFrame(data_to_insert)\n",
        "  temp= temp.append(df4_to_insert, ignore_index=True)\n",
        "  n=n+1\n",
        "\n",
        "df4=temp"
      ],
      "metadata": {
        "id": "hMFji8ve7513"
      },
      "execution_count": 17,
      "outputs": []
    },
    {
      "cell_type": "code",
      "source": [
        ""
      ],
      "metadata": {
        "id": "rPu4HM9KW-mX"
      },
      "execution_count": null,
      "outputs": []
    },
    {
      "cell_type": "markdown",
      "metadata": {
        "id": "I90LypFcePR4"
      },
      "source": [
        "기존 데이터 합치기"
      ]
    },
    {
      "cell_type": "code",
      "source": [
        "df=pd.concat([df1, df_2, df_3, df_8, df_15, df4])"
      ],
      "metadata": {
        "id": "JvWl7U5S2EQE"
      },
      "execution_count": 18,
      "outputs": []
    },
    {
      "cell_type": "code",
      "source": [
        "df['digit_3'].value_counts().sort_index()"
      ],
      "metadata": {
        "colab": {
          "base_uri": "https://localhost:8080/"
        },
        "id": "XgrUpfoPjsy2",
        "outputId": "25bc3b86-8545-435c-9fe8-8592b6f9e6f7"
      },
      "execution_count": 19,
      "outputs": [
        {
          "output_type": "execute_result",
          "data": {
            "text/plain": [
              "581.0    3096\n",
              "582.0    3771\n",
              "591.0    3750\n",
              "592.0    3450\n",
              "601.0    3000\n",
              "602.0    2790\n",
              "611.0    2388\n",
              "612.0    2536\n",
              "620.0    3838\n",
              "631.0    3648\n",
              "639.0    2952\n",
              "Name: digit_3, dtype: int64"
            ]
          },
          "metadata": {},
          "execution_count": 19
        }
      ]
    },
    {
      "cell_type": "code",
      "source": [
        "df"
      ],
      "metadata": {
        "id": "xGcRc2f3lyN-"
      },
      "execution_count": null,
      "outputs": []
    },
    {
      "cell_type": "code",
      "execution_count": 20,
      "metadata": {
        "id": "xdv6VPGk_dIX"
      },
      "outputs": [],
      "source": [
        "df.to_csv('df_J_inc_again.csv', index=False, encoding='utf-8-sig')"
      ]
    },
    {
      "cell_type": "code",
      "execution_count": null,
      "metadata": {
        "id": "DvplvVddk7kT"
      },
      "outputs": [],
      "source": [
        ""
      ]
    }
  ],
  "metadata": {
    "accelerator": "GPU",
    "colab": {
      "background_execution": "on",
      "collapsed_sections": [],
      "machine_shape": "hm",
      "name": "(공유)) 원본데이터 증분하기 형식",
      "provenance": [],
      "include_colab_link": true
    },
    "kernelspec": {
      "display_name": "Python 3",
      "name": "python3"
    },
    "language_info": {
      "name": "python"
    }
  },
  "nbformat": 4,
  "nbformat_minor": 0
}