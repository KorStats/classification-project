{
  "cells": [
    {
      "cell_type": "markdown",
      "metadata": {
        "id": "view-in-github",
        "colab_type": "text"
      },
      "source": [
        "<a href=\"https://colab.research.google.com/github/KorStats/classification-project/blob/main/%EC%A6%9D%EB%B6%84/(%EB%85%B8%EC%9D%B4)_%EC%9B%90%EB%B3%B8G%EB%8D%B0%EC%9D%B4%ED%84%B0_%EC%A6%9D%EB%B6%84.ipynb\" target=\"_parent\"><img src=\"https://colab.research.google.com/assets/colab-badge.svg\" alt=\"Open In Colab\"/></a>"
      ]
    },
    {
      "cell_type": "markdown",
      "metadata": {
        "id": "U3wrPXQ_ORLb"
      },
      "source": [
        "## 구글드라이브에서 파일 읽어오기"
      ]
    },
    {
      "cell_type": "code",
      "execution_count": 1,
      "metadata": {
        "colab": {
          "base_uri": "https://localhost:8080/"
        },
        "id": "dqJbzoq_OPxK",
        "outputId": "b441c380-030c-4add-c2f5-fda6198b8215"
      },
      "outputs": [
        {
          "output_type": "stream",
          "name": "stdout",
          "text": [
            "Mounted at /content/drive\n"
          ]
        }
      ],
      "source": [
        "from google.colab import drive\n",
        "drive.mount('/content/drive')"
      ]
    },
    {
      "cell_type": "code",
      "execution_count": 2,
      "metadata": {
        "colab": {
          "base_uri": "https://localhost:8080/"
        },
        "id": "wmtIZqMGOdVX",
        "outputId": "261a6669-baee-40f7-b432-ee4241650d56"
      },
      "outputs": [
        {
          "output_type": "stream",
          "name": "stdout",
          "text": [
            "Mounted at /content/gdrive\n",
            " 기본   산업분류자동화\t'Colab Notebooks'  'My Drive'\n"
          ]
        }
      ],
      "source": [
        "from google.colab import drive\n",
        "drive.mount('/content/gdrive')\n",
        "!ln -s /content/gdrive/My\\ Drive/ /mydrive\n",
        "!ls /mydrive"
      ]
    },
    {
      "cell_type": "code",
      "execution_count": 3,
      "metadata": {
        "id": "-lGZy4fGpXlo"
      },
      "outputs": [],
      "source": [
        "import pandas as pd\n",
        "df=pd.read_csv('/mydrive/산업분류자동화/dataset/spell_check/G_spell_check.csv', sep = \",\", encoding = \"UTF-8\")"
      ]
    },
    {
      "cell_type": "markdown",
      "metadata": {
        "id": "geFjTXHh5-dy"
      },
      "source": [
        "## 데이터 전처리"
      ]
    },
    {
      "cell_type": "code",
      "source": [
        "df=df.reset_index(drop=True)\n",
        "df"
      ],
      "metadata": {
        "colab": {
          "base_uri": "https://localhost:8080/",
          "height": 0
        },
        "id": "3ISvtyKhpKd2",
        "outputId": "6ec74abb-a3b1-4957-eb82-b797c6ea709b"
      },
      "execution_count": 4,
      "outputs": [
        {
          "output_type": "execute_result",
          "data": {
            "text/plain": [
              "             AI_id digit_1  digit_2  digit_3                             text\n",
              "0       id_0000013       G       47      474               매장에서 일반인 대상으로 의류소매\n",
              "1       id_0000060       G       47      474                매장에서 일반인대상으로 의류소매\n",
              "2       id_0000086       G       47      474                 사업장에서 일반인대상 의류판매\n",
              "3       id_0000109       G       47      474       일반고객에게 신발매장에서 일반인을 대상으로 신발\n",
              "4       id_0000112       G       47      474  일반소비자 가정용 직물제품소매점 커튼 방석 침구류등 소매\n",
              "...            ...     ...      ...      ...                              ...\n",
              "246467  id_0994580       G       45      453                      사업장 일반 오토바이\n",
              "246468  id_0995378       G       45      453              일반 소비자 가게에서 오토바이 소매\n",
              "246469  id_0995841       G       45      453          사륜 산악자전거 일반인 대상으로 수입 판매\n",
              "246470  id_0998347       G       45      453             사무실에서 수입하여 전기오토바이도 매\n",
              "246471  id_0999407       G       45      453         오토바이 일반 고객에게 오토바이 판매 서비스\n",
              "\n",
              "[246472 rows x 5 columns]"
            ],
            "text/html": [
              "\n",
              "  <div id=\"df-05c12d66-e7c8-40e3-a2b5-f6c052f13b8f\">\n",
              "    <div class=\"colab-df-container\">\n",
              "      <div>\n",
              "<style scoped>\n",
              "    .dataframe tbody tr th:only-of-type {\n",
              "        vertical-align: middle;\n",
              "    }\n",
              "\n",
              "    .dataframe tbody tr th {\n",
              "        vertical-align: top;\n",
              "    }\n",
              "\n",
              "    .dataframe thead th {\n",
              "        text-align: right;\n",
              "    }\n",
              "</style>\n",
              "<table border=\"1\" class=\"dataframe\">\n",
              "  <thead>\n",
              "    <tr style=\"text-align: right;\">\n",
              "      <th></th>\n",
              "      <th>AI_id</th>\n",
              "      <th>digit_1</th>\n",
              "      <th>digit_2</th>\n",
              "      <th>digit_3</th>\n",
              "      <th>text</th>\n",
              "    </tr>\n",
              "  </thead>\n",
              "  <tbody>\n",
              "    <tr>\n",
              "      <th>0</th>\n",
              "      <td>id_0000013</td>\n",
              "      <td>G</td>\n",
              "      <td>47</td>\n",
              "      <td>474</td>\n",
              "      <td>매장에서 일반인 대상으로 의류소매</td>\n",
              "    </tr>\n",
              "    <tr>\n",
              "      <th>1</th>\n",
              "      <td>id_0000060</td>\n",
              "      <td>G</td>\n",
              "      <td>47</td>\n",
              "      <td>474</td>\n",
              "      <td>매장에서 일반인대상으로 의류소매</td>\n",
              "    </tr>\n",
              "    <tr>\n",
              "      <th>2</th>\n",
              "      <td>id_0000086</td>\n",
              "      <td>G</td>\n",
              "      <td>47</td>\n",
              "      <td>474</td>\n",
              "      <td>사업장에서 일반인대상 의류판매</td>\n",
              "    </tr>\n",
              "    <tr>\n",
              "      <th>3</th>\n",
              "      <td>id_0000109</td>\n",
              "      <td>G</td>\n",
              "      <td>47</td>\n",
              "      <td>474</td>\n",
              "      <td>일반고객에게 신발매장에서 일반인을 대상으로 신발</td>\n",
              "    </tr>\n",
              "    <tr>\n",
              "      <th>4</th>\n",
              "      <td>id_0000112</td>\n",
              "      <td>G</td>\n",
              "      <td>47</td>\n",
              "      <td>474</td>\n",
              "      <td>일반소비자 가정용 직물제품소매점 커튼 방석 침구류등 소매</td>\n",
              "    </tr>\n",
              "    <tr>\n",
              "      <th>...</th>\n",
              "      <td>...</td>\n",
              "      <td>...</td>\n",
              "      <td>...</td>\n",
              "      <td>...</td>\n",
              "      <td>...</td>\n",
              "    </tr>\n",
              "    <tr>\n",
              "      <th>246467</th>\n",
              "      <td>id_0994580</td>\n",
              "      <td>G</td>\n",
              "      <td>45</td>\n",
              "      <td>453</td>\n",
              "      <td>사업장 일반 오토바이</td>\n",
              "    </tr>\n",
              "    <tr>\n",
              "      <th>246468</th>\n",
              "      <td>id_0995378</td>\n",
              "      <td>G</td>\n",
              "      <td>45</td>\n",
              "      <td>453</td>\n",
              "      <td>일반 소비자 가게에서 오토바이 소매</td>\n",
              "    </tr>\n",
              "    <tr>\n",
              "      <th>246469</th>\n",
              "      <td>id_0995841</td>\n",
              "      <td>G</td>\n",
              "      <td>45</td>\n",
              "      <td>453</td>\n",
              "      <td>사륜 산악자전거 일반인 대상으로 수입 판매</td>\n",
              "    </tr>\n",
              "    <tr>\n",
              "      <th>246470</th>\n",
              "      <td>id_0998347</td>\n",
              "      <td>G</td>\n",
              "      <td>45</td>\n",
              "      <td>453</td>\n",
              "      <td>사무실에서 수입하여 전기오토바이도 매</td>\n",
              "    </tr>\n",
              "    <tr>\n",
              "      <th>246471</th>\n",
              "      <td>id_0999407</td>\n",
              "      <td>G</td>\n",
              "      <td>45</td>\n",
              "      <td>453</td>\n",
              "      <td>오토바이 일반 고객에게 오토바이 판매 서비스</td>\n",
              "    </tr>\n",
              "  </tbody>\n",
              "</table>\n",
              "<p>246472 rows × 5 columns</p>\n",
              "</div>\n",
              "      <button class=\"colab-df-convert\" onclick=\"convertToInteractive('df-05c12d66-e7c8-40e3-a2b5-f6c052f13b8f')\"\n",
              "              title=\"Convert this dataframe to an interactive table.\"\n",
              "              style=\"display:none;\">\n",
              "        \n",
              "  <svg xmlns=\"http://www.w3.org/2000/svg\" height=\"24px\"viewBox=\"0 0 24 24\"\n",
              "       width=\"24px\">\n",
              "    <path d=\"M0 0h24v24H0V0z\" fill=\"none\"/>\n",
              "    <path d=\"M18.56 5.44l.94 2.06.94-2.06 2.06-.94-2.06-.94-.94-2.06-.94 2.06-2.06.94zm-11 1L8.5 8.5l.94-2.06 2.06-.94-2.06-.94L8.5 2.5l-.94 2.06-2.06.94zm10 10l.94 2.06.94-2.06 2.06-.94-2.06-.94-.94-2.06-.94 2.06-2.06.94z\"/><path d=\"M17.41 7.96l-1.37-1.37c-.4-.4-.92-.59-1.43-.59-.52 0-1.04.2-1.43.59L10.3 9.45l-7.72 7.72c-.78.78-.78 2.05 0 2.83L4 21.41c.39.39.9.59 1.41.59.51 0 1.02-.2 1.41-.59l7.78-7.78 2.81-2.81c.8-.78.8-2.07 0-2.86zM5.41 20L4 18.59l7.72-7.72 1.47 1.35L5.41 20z\"/>\n",
              "  </svg>\n",
              "      </button>\n",
              "      \n",
              "  <style>\n",
              "    .colab-df-container {\n",
              "      display:flex;\n",
              "      flex-wrap:wrap;\n",
              "      gap: 12px;\n",
              "    }\n",
              "\n",
              "    .colab-df-convert {\n",
              "      background-color: #E8F0FE;\n",
              "      border: none;\n",
              "      border-radius: 50%;\n",
              "      cursor: pointer;\n",
              "      display: none;\n",
              "      fill: #1967D2;\n",
              "      height: 32px;\n",
              "      padding: 0 0 0 0;\n",
              "      width: 32px;\n",
              "    }\n",
              "\n",
              "    .colab-df-convert:hover {\n",
              "      background-color: #E2EBFA;\n",
              "      box-shadow: 0px 1px 2px rgba(60, 64, 67, 0.3), 0px 1px 3px 1px rgba(60, 64, 67, 0.15);\n",
              "      fill: #174EA6;\n",
              "    }\n",
              "\n",
              "    [theme=dark] .colab-df-convert {\n",
              "      background-color: #3B4455;\n",
              "      fill: #D2E3FC;\n",
              "    }\n",
              "\n",
              "    [theme=dark] .colab-df-convert:hover {\n",
              "      background-color: #434B5C;\n",
              "      box-shadow: 0px 1px 3px 1px rgba(0, 0, 0, 0.15);\n",
              "      filter: drop-shadow(0px 1px 2px rgba(0, 0, 0, 0.3));\n",
              "      fill: #FFFFFF;\n",
              "    }\n",
              "  </style>\n",
              "\n",
              "      <script>\n",
              "        const buttonEl =\n",
              "          document.querySelector('#df-05c12d66-e7c8-40e3-a2b5-f6c052f13b8f button.colab-df-convert');\n",
              "        buttonEl.style.display =\n",
              "          google.colab.kernel.accessAllowed ? 'block' : 'none';\n",
              "\n",
              "        async function convertToInteractive(key) {\n",
              "          const element = document.querySelector('#df-05c12d66-e7c8-40e3-a2b5-f6c052f13b8f');\n",
              "          const dataTable =\n",
              "            await google.colab.kernel.invokeFunction('convertToInteractive',\n",
              "                                                     [key], {});\n",
              "          if (!dataTable) return;\n",
              "\n",
              "          const docLinkHtml = 'Like what you see? Visit the ' +\n",
              "            '<a target=\"_blank\" href=https://colab.research.google.com/notebooks/data_table.ipynb>data table notebook</a>'\n",
              "            + ' to learn more about interactive tables.';\n",
              "          element.innerHTML = '';\n",
              "          dataTable['output_type'] = 'display_data';\n",
              "          await google.colab.output.renderOutput(dataTable, element);\n",
              "          const docLink = document.createElement('div');\n",
              "          docLink.innerHTML = docLinkHtml;\n",
              "          element.appendChild(docLink);\n",
              "        }\n",
              "      </script>\n",
              "    </div>\n",
              "  </div>\n",
              "  "
            ]
          },
          "metadata": {},
          "execution_count": 4
        }
      ]
    },
    {
      "cell_type": "code",
      "source": [
        "df['digit_3'].value_counts().sort_index()"
      ],
      "metadata": {
        "colab": {
          "base_uri": "https://localhost:8080/"
        },
        "id": "Q73JFxUb4p9d",
        "outputId": "bf100b61-5c01-47d9-cfe6-dd35b1c305f9"
      },
      "execution_count": 5,
      "outputs": [
        {
          "output_type": "execute_result",
          "data": {
            "text/plain": [
              "451     2268\n",
              "452     4696\n",
              "453      471\n",
              "461     2328\n",
              "462     2585\n",
              "463    17873\n",
              "464    18453\n",
              "465    14652\n",
              "466     8154\n",
              "467    12096\n",
              "468      694\n",
              "471    26189\n",
              "472    25668\n",
              "473     9312\n",
              "474    36453\n",
              "475    13031\n",
              "476     7188\n",
              "477     4577\n",
              "478    30566\n",
              "479     9218\n",
              "Name: digit_3, dtype: int64"
            ]
          },
          "metadata": {},
          "execution_count": 5
        }
      ]
    },
    {
      "cell_type": "markdown",
      "metadata": {
        "id": "yzAnY0FvePIR"
      },
      "source": [
        "## **# 데이터 증분**"
      ]
    },
    {
      "cell_type": "code",
      "execution_count": 6,
      "metadata": {
        "id": "GV4cXBgUea3j"
      },
      "outputs": [],
      "source": [
        "# 데이터 증분 코드\n",
        "import random\n",
        "import pickle\n",
        "import re\n",
        "def get_only_hangul(line):\n",
        "\tparseText= re.compile('/ ^[ㄱ-ㅎㅏ-ㅣ가-힣]*$/').sub('',line)\n",
        "\treturn parseText\n",
        "\n",
        "def synonym_replacement(words, n):\n",
        "\tnew_words = words.copy()\n",
        "\trandom_word_list = list(set([word for word in words]))\n",
        "\trandom.shuffle(random_word_list)\n",
        "\tnum_replaced = 0\n",
        "\tfor random_word in random_word_list:\n",
        "\t\tsynonyms = get_synonyms(random_word)\n",
        "\t\tif len(synonyms) >= 1:\n",
        "\t\t\tsynonym = random.choice(list(synonyms))\n",
        "\t\t\tnew_words = [synonym if word == random_word else word for word in new_words]\n",
        "\t\t\tnum_replaced += 1\n",
        "\t\tif num_replaced >= n:\n",
        "\t\t\tbreak\n",
        "\tif len(new_words) != 0:\n",
        "\t\tsentence = ' '.join(new_words)\n",
        "\t\tnew_words = sentence.split(\" \")\n",
        "\telse:\n",
        "\t\tnew_words = \"\"\n",
        "\treturn new_words\n",
        "\n",
        "def get_synonyms(word):\n",
        "\tsynomyms = []\n",
        "\ttry:\n",
        "\t\tfor syn in wordnet[word]:\n",
        "\t\t\tfor s in syn:\n",
        "\t\t\t\tsynomyms.append(s)\n",
        "\texcept:\n",
        "\t\tpass\n",
        "\treturn synomyms\n",
        "\n",
        "def random_deletion(words, p):\n",
        "\tif len(words) == 1:\n",
        "\t\treturn words\n",
        "\n",
        "\tnew_words = []\n",
        "\tfor word in words:\n",
        "\t\tr = random.uniform(0, 1)\n",
        "\t\tif r > p:\n",
        "\t\t\tnew_words.append(word)\n",
        "\tif len(new_words) == 0:\n",
        "\t\trand_int = random.randint(0, len(words)-1)\n",
        "\t\treturn [words[rand_int]]\n",
        "\treturn new_words\n",
        "\n",
        "########################################################################\n",
        "# Random swap\n",
        "# Randomly swap two words in the sentence n times\n",
        "########################################################################\n",
        "def random_swap(words, n):\n",
        "\tnew_words = words.copy()\n",
        "\tfor _ in range(n):\n",
        "\t\tnew_words = swap_word(new_words)\n",
        "\treturn new_words\n",
        "\n",
        "def swap_word(new_words):\n",
        "\trandom_idx_1 = random.randint(0, len(new_words)-1)\n",
        "\trandom_idx_2 = random_idx_1\n",
        "\tcounter = 0\n",
        "\twhile random_idx_2 == random_idx_1:\n",
        "\t\trandom_idx_2 = random.randint(0, len(new_words)-1)\n",
        "\t\tcounter += 1\n",
        "\t\tif counter > 3:\n",
        "\t\t\treturn new_words\n",
        "\tnew_words[random_idx_1], new_words[random_idx_2] = new_words[random_idx_2], new_words[random_idx_1]\n",
        "\treturn new_words\n",
        "\n",
        "########################################################################\n",
        "# Random insertion\n",
        "# Randomly insert n words into the sentence\n",
        "########################################################################\n",
        "def random_insertion(words, n):\n",
        "\tnew_words = words.copy()\n",
        "\tfor _ in range(n):\n",
        "\t\tadd_word(new_words)\t\n",
        "\treturn new_words\n",
        "\n",
        "def add_word(new_words):\n",
        "\tsynonyms = []\n",
        "\tcounter = 0\n",
        "\twhile len(synonyms) < 1:\n",
        "\t\tif len(new_words) >= 1:\n",
        "\t\t\trandom_word = new_words[random.randint(0, len(new_words)-1)]\n",
        "\t\t\tsynonyms = get_synonyms(random_word)\n",
        "\t\t\tcounter += 1\n",
        "\t\telse:\n",
        "\t\t\trandom_word = \"\"\n",
        "\t\tif counter >= 10:\n",
        "\t\t\treturn\n",
        "\t\t\n",
        "\trandom_synonym = synonyms[0]\n",
        "\trandom_idx = random.randint(0, len(new_words)-1)\n",
        "\tnew_words.insert(random_idx, random_synonym)\n",
        "\n",
        "def EDA(sentence, alpha_sr=0.1, alpha_ri=0.1, alpha_rs=0.1, p_rd=0.1, num_aug=9):\n",
        "\tsentence = get_only_hangul(sentence)\n",
        "\twords = sentence.split(' ')\n",
        "\twords = [word for word in words if word is not \"\"]\n",
        "\tnum_words = len(words)\n",
        "\taugmented_sentences = []\n",
        "\tnum_new_per_technique = int(num_aug/4) + 1\n",
        "\tn_sr = max(1, int(alpha_sr*num_words))\n",
        "\tn_ri = max(1, int(alpha_ri*num_words))\n",
        "\tn_rs = max(1, int(alpha_rs*num_words))\n",
        "\t# sr\n",
        "\tfor _ in range(num_new_per_technique):\n",
        "\t\ta_words = synonym_replacement(words, n_sr)\n",
        "\t\taugmented_sentences.append(' '.join(a_words))\n",
        "\t# ri\n",
        "\tfor _ in range(num_new_per_technique):\n",
        "\t\ta_words = random_insertion(words, n_ri)\n",
        "\t\taugmented_sentences.append(' '.join(a_words))\n",
        "\t# rs\n",
        "\tfor _ in range(num_new_per_technique):\n",
        "\t\ta_words = random_swap(words, n_rs)\n",
        "\t\taugmented_sentences.append(\" \".join(a_words))\n",
        "\t# rd\n",
        "\tfor _ in range(num_new_per_technique):\n",
        "\t\ta_words = random_deletion(words, p_rd)\n",
        "\t\taugmented_sentences.append(\" \".join(a_words))\n",
        "\taugmented_sentences = [get_only_hangul(sentence) for sentence in augmented_sentences]\n",
        "\trandom.shuffle(augmented_sentences)\n",
        "\tif num_aug >= 1:\n",
        "\t\taugmented_sentences = augmented_sentences[:num_aug]\n",
        "\telse:\n",
        "\t\tkeep_prob = num_aug / len(augmented_sentences)\n",
        "\t\taugmented_sentences = [s for s in augmented_sentences if random.uniform(0, 1) < keep_prob]\n",
        "\taugmented_sentences.append(sentence)\n",
        "\treturn augmented_sentences"
      ]
    },
    {
      "cell_type": "code",
      "source": [
        "df0=df.loc[(df['digit_3'] == 451)]  #*10\n",
        "df1=df.loc[(df['digit_3'] == 452)]  #*5\n",
        "df2=df.loc[(df['digit_3'] == 453)]  #*50\n",
        "df3=df.loc[(df['digit_3'] == 461)]   #*10\n",
        "df4=df.loc[(df['digit_3'] == 462)]   #*10\n",
        "df5=df.loc[(df['digit_3'] == 463)]   #*2\n",
        "df6=df.loc[(df['digit_3'] == 464)]   #*2\n",
        "df7=df.loc[(df['digit_3'] == 465)]   #*2\n",
        "df8=df.loc[(df['digit_3'] == 466)]   #*3\n",
        "df9=df.loc[(df['digit_3'] == 467)]   #*2\n",
        "df10=df.loc[(df['digit_3'] == 468)]  #*50\n",
        "df11=df.loc[(df['digit_3'] == 471)]   \n",
        "df12=df.loc[(df['digit_3'] == 472)]   \n",
        "df13=df.loc[(df['digit_3'] == 473)]   #*3\n",
        "df14=df.loc[(df['digit_3'] == 474)]   \n",
        "df15=df.loc[(df['digit_3'] == 475)]   #*2\n",
        "df16=df.loc[(df['digit_3'] == 476)]   #*3\n",
        "df17=df.loc[(df['digit_3'] == 477)]   #*5\n",
        "df18=df.loc[(df['digit_3'] == 478)]   \n",
        "df19=df.loc[(df['digit_3'] == 479)]   #*3"
      ],
      "metadata": {
        "id": "gF9Pg7zIGq-H"
      },
      "execution_count": 7,
      "outputs": []
    },
    {
      "cell_type": "code",
      "source": [
        "df1=df1.reset_index(drop=True)\n",
        "df2=df2.reset_index(drop=True)\n",
        "df3=df3.reset_index(drop=True)\n",
        "df4=df4.reset_index(drop=True)\n",
        "df5=df5.reset_index(drop=True)\n",
        "df6=df6.reset_index(drop=True)\n",
        "df7=df7.reset_index(drop=True)\n",
        "df8=df8.reset_index(drop=True)\n",
        "df9=df9.reset_index(drop=True)\n",
        "df10=df10.reset_index(drop=True)\n",
        "df11=df11.reset_index(drop=True)\n",
        "df12=df12.reset_index(drop=True)\n",
        "df13=df13.reset_index(drop=True)\n",
        "df14=df14.reset_index(drop=True)\n",
        "df15=df15.reset_index(drop=True)\n",
        "df16=df16.reset_index(drop=True)\n",
        "df17=df17.reset_index(drop=True)\n",
        "df18=df18.reset_index(drop=True)\n",
        "df19=df19.reset_index(drop=True)"
      ],
      "metadata": {
        "id": "EN_s8in3BDsR"
      },
      "execution_count": 8,
      "outputs": []
    },
    {
      "cell_type": "code",
      "source": [
        "df_1=pd.concat([df11, df12, df14, df18]) # *1\n",
        "df_2=pd.concat([df5, df6, df7, df9, df15]) # *2\n",
        "df_3=pd.concat([df8, df13, df16, df19]) # *3\n",
        "df_5=pd.concat([df1, df17]) # *5\n",
        "df_10=pd.concat([df0, df3, df4]) # *10 묶음\n",
        "df_50=pd.concat([df2, df10])"
      ],
      "metadata": {
        "id": "K-ESccbMM_eT"
      },
      "execution_count": 9,
      "outputs": []
    },
    {
      "cell_type": "code",
      "source": [
        "df_1=df_1.reset_index(drop=True)\n",
        "df_2=df_2.reset_index(drop=True)\n",
        "df_3=df_3.reset_index(drop=True)\n",
        "df_5=df_5.reset_index(drop=True)\n",
        "df_10=df_10.reset_index(drop=True)\n",
        "df_50=df_50.reset_index(drop=True)"
      ],
      "metadata": {
        "id": "xac7pM-5IEDM"
      },
      "execution_count": 10,
      "outputs": []
    },
    {
      "cell_type": "code",
      "source": [
        "df1.head()"
      ],
      "metadata": {
        "id": "9fic8qkxBrwg",
        "outputId": "25d17b5e-4011-4e71-f6db-25a940a93e1d",
        "colab": {
          "base_uri": "https://localhost:8080/",
          "height": 206
        }
      },
      "execution_count": 11,
      "outputs": [
        {
          "output_type": "execute_result",
          "data": {
            "text/plain": [
              "        AI_id digit_1  digit_2  digit_3                                   text\n",
              "0  id_0000085       G       45      452                영업장에서 고객 대상으로 자동차 부품 판매\n",
              "1  id_0000517       G       45      452   자동차 내장재 산업 사용자 대상으로 pvc 인조가죽 시트 등 자재\n",
              "2  id_0001076       G       45      452  자동차 내 장품 가게에서 일반인을 대상으로 소매 자동차 오디오 설치\n",
              "3  id_0002104       G       45      452                  사무실에서 일반인 대상 내비게이션 판매\n",
              "4  id_0002295       G       45      452                   쇼핑몰에서 기업회원 전용 타이어 판매"
            ],
            "text/html": [
              "\n",
              "  <div id=\"df-e2318513-426d-41a8-877c-8132a08b2897\">\n",
              "    <div class=\"colab-df-container\">\n",
              "      <div>\n",
              "<style scoped>\n",
              "    .dataframe tbody tr th:only-of-type {\n",
              "        vertical-align: middle;\n",
              "    }\n",
              "\n",
              "    .dataframe tbody tr th {\n",
              "        vertical-align: top;\n",
              "    }\n",
              "\n",
              "    .dataframe thead th {\n",
              "        text-align: right;\n",
              "    }\n",
              "</style>\n",
              "<table border=\"1\" class=\"dataframe\">\n",
              "  <thead>\n",
              "    <tr style=\"text-align: right;\">\n",
              "      <th></th>\n",
              "      <th>AI_id</th>\n",
              "      <th>digit_1</th>\n",
              "      <th>digit_2</th>\n",
              "      <th>digit_3</th>\n",
              "      <th>text</th>\n",
              "    </tr>\n",
              "  </thead>\n",
              "  <tbody>\n",
              "    <tr>\n",
              "      <th>0</th>\n",
              "      <td>id_0000085</td>\n",
              "      <td>G</td>\n",
              "      <td>45</td>\n",
              "      <td>452</td>\n",
              "      <td>영업장에서 고객 대상으로 자동차 부품 판매</td>\n",
              "    </tr>\n",
              "    <tr>\n",
              "      <th>1</th>\n",
              "      <td>id_0000517</td>\n",
              "      <td>G</td>\n",
              "      <td>45</td>\n",
              "      <td>452</td>\n",
              "      <td>자동차 내장재 산업 사용자 대상으로 pvc 인조가죽 시트 등 자재</td>\n",
              "    </tr>\n",
              "    <tr>\n",
              "      <th>2</th>\n",
              "      <td>id_0001076</td>\n",
              "      <td>G</td>\n",
              "      <td>45</td>\n",
              "      <td>452</td>\n",
              "      <td>자동차 내 장품 가게에서 일반인을 대상으로 소매 자동차 오디오 설치</td>\n",
              "    </tr>\n",
              "    <tr>\n",
              "      <th>3</th>\n",
              "      <td>id_0002104</td>\n",
              "      <td>G</td>\n",
              "      <td>45</td>\n",
              "      <td>452</td>\n",
              "      <td>사무실에서 일반인 대상 내비게이션 판매</td>\n",
              "    </tr>\n",
              "    <tr>\n",
              "      <th>4</th>\n",
              "      <td>id_0002295</td>\n",
              "      <td>G</td>\n",
              "      <td>45</td>\n",
              "      <td>452</td>\n",
              "      <td>쇼핑몰에서 기업회원 전용 타이어 판매</td>\n",
              "    </tr>\n",
              "  </tbody>\n",
              "</table>\n",
              "</div>\n",
              "      <button class=\"colab-df-convert\" onclick=\"convertToInteractive('df-e2318513-426d-41a8-877c-8132a08b2897')\"\n",
              "              title=\"Convert this dataframe to an interactive table.\"\n",
              "              style=\"display:none;\">\n",
              "        \n",
              "  <svg xmlns=\"http://www.w3.org/2000/svg\" height=\"24px\"viewBox=\"0 0 24 24\"\n",
              "       width=\"24px\">\n",
              "    <path d=\"M0 0h24v24H0V0z\" fill=\"none\"/>\n",
              "    <path d=\"M18.56 5.44l.94 2.06.94-2.06 2.06-.94-2.06-.94-.94-2.06-.94 2.06-2.06.94zm-11 1L8.5 8.5l.94-2.06 2.06-.94-2.06-.94L8.5 2.5l-.94 2.06-2.06.94zm10 10l.94 2.06.94-2.06 2.06-.94-2.06-.94-.94-2.06-.94 2.06-2.06.94z\"/><path d=\"M17.41 7.96l-1.37-1.37c-.4-.4-.92-.59-1.43-.59-.52 0-1.04.2-1.43.59L10.3 9.45l-7.72 7.72c-.78.78-.78 2.05 0 2.83L4 21.41c.39.39.9.59 1.41.59.51 0 1.02-.2 1.41-.59l7.78-7.78 2.81-2.81c.8-.78.8-2.07 0-2.86zM5.41 20L4 18.59l7.72-7.72 1.47 1.35L5.41 20z\"/>\n",
              "  </svg>\n",
              "      </button>\n",
              "      \n",
              "  <style>\n",
              "    .colab-df-container {\n",
              "      display:flex;\n",
              "      flex-wrap:wrap;\n",
              "      gap: 12px;\n",
              "    }\n",
              "\n",
              "    .colab-df-convert {\n",
              "      background-color: #E8F0FE;\n",
              "      border: none;\n",
              "      border-radius: 50%;\n",
              "      cursor: pointer;\n",
              "      display: none;\n",
              "      fill: #1967D2;\n",
              "      height: 32px;\n",
              "      padding: 0 0 0 0;\n",
              "      width: 32px;\n",
              "    }\n",
              "\n",
              "    .colab-df-convert:hover {\n",
              "      background-color: #E2EBFA;\n",
              "      box-shadow: 0px 1px 2px rgba(60, 64, 67, 0.3), 0px 1px 3px 1px rgba(60, 64, 67, 0.15);\n",
              "      fill: #174EA6;\n",
              "    }\n",
              "\n",
              "    [theme=dark] .colab-df-convert {\n",
              "      background-color: #3B4455;\n",
              "      fill: #D2E3FC;\n",
              "    }\n",
              "\n",
              "    [theme=dark] .colab-df-convert:hover {\n",
              "      background-color: #434B5C;\n",
              "      box-shadow: 0px 1px 3px 1px rgba(0, 0, 0, 0.15);\n",
              "      filter: drop-shadow(0px 1px 2px rgba(0, 0, 0, 0.3));\n",
              "      fill: #FFFFFF;\n",
              "    }\n",
              "  </style>\n",
              "\n",
              "      <script>\n",
              "        const buttonEl =\n",
              "          document.querySelector('#df-e2318513-426d-41a8-877c-8132a08b2897 button.colab-df-convert');\n",
              "        buttonEl.style.display =\n",
              "          google.colab.kernel.accessAllowed ? 'block' : 'none';\n",
              "\n",
              "        async function convertToInteractive(key) {\n",
              "          const element = document.querySelector('#df-e2318513-426d-41a8-877c-8132a08b2897');\n",
              "          const dataTable =\n",
              "            await google.colab.kernel.invokeFunction('convertToInteractive',\n",
              "                                                     [key], {});\n",
              "          if (!dataTable) return;\n",
              "\n",
              "          const docLinkHtml = 'Like what you see? Visit the ' +\n",
              "            '<a target=\"_blank\" href=https://colab.research.google.com/notebooks/data_table.ipynb>data table notebook</a>'\n",
              "            + ' to learn more about interactive tables.';\n",
              "          element.innerHTML = '';\n",
              "          dataTable['output_type'] = 'display_data';\n",
              "          await google.colab.output.renderOutput(dataTable, element);\n",
              "          const docLink = document.createElement('div');\n",
              "          docLink.innerHTML = docLinkHtml;\n",
              "          element.appendChild(docLink);\n",
              "        }\n",
              "      </script>\n",
              "    </div>\n",
              "  </div>\n",
              "  "
            ]
          },
          "metadata": {},
          "execution_count": 11
        }
      ]
    },
    {
      "cell_type": "code",
      "source": [
        "temp_result=[]\n",
        "n=0\n",
        "id_list=[]\n",
        "digit_1_list=[]\n",
        "digit_2_list=[]\n",
        "digit_3_list=[]\n",
        "\n",
        "temp = {'AI_id': [], 'digit_1': [], 'digit_2' : [], 'digit_3' : [], 'text' : []}\n",
        "temp = pd.DataFrame(temp)\n",
        "\n",
        "for sentence in df_2['text']:\n",
        "  result_list=EDA(sentence, alpha_sr=0.0, alpha_ri=0.0, alpha_rs=0.5, p_rd=0.5, num_aug=1)\n",
        "  id_list=[str(df_2['AI_id'][n]), 'p'+str(df_2['AI_id'][n])]\n",
        "  digit_1_list=[df_2['digit_1'][n], df_2['digit_1'][n]]\n",
        "  digit_2_list=[df_2['digit_2'][n], df_2['digit_2'][n]]\n",
        "  digit_3_list=[df_2['digit_3'][n], df_2['digit_3'][n]]\n",
        "  data_to_insert={'AI_id' : id_list, 'digit_1' : digit_1_list, 'digit_2' : digit_2_list, 'digit_3': digit_3_list, 'text' : result_list}\n",
        "  df_2_to_insert = pd.DataFrame(data_to_insert)\n",
        "  temp= temp.append(df_2_to_insert, ignore_index=True)\n",
        "  n=n+1\n",
        "\n",
        "df_2=temp"
      ],
      "metadata": {
        "id": "Tom9WsJ0VAwS"
      },
      "execution_count": 12,
      "outputs": []
    },
    {
      "cell_type": "code",
      "source": [
        "temp_result=[]\n",
        "n=0\n",
        "id_list=[]\n",
        "digit_1_list=[]\n",
        "digit_2_list=[]\n",
        "digit_3_list=[]\n",
        "\n",
        "temp = {'AI_id': [], 'digit_1': [], 'digit_2' : [], 'digit_3' : [], 'text' : []}\n",
        "temp = pd.DataFrame(temp)\n",
        "\n",
        "for sentence in df_3['text']:\n",
        "  result_list=EDA(sentence, alpha_sr=0.0, alpha_ri=0.0, alpha_rs=0.5, p_rd=0.5, num_aug=2)\n",
        "  id_list=[str(df_3['AI_id'][n]), 'p'+str(df_3['AI_id'][n]), 'p'+str(df_3['AI_id'][n])]\n",
        "  digit_1_list=[df_3['digit_1'][n], df_3['digit_1'][n], df_3['digit_1'][n]]\n",
        "  digit_2_list=[df_3['digit_2'][n], df_3['digit_2'][n], df_3['digit_2'][n]]\n",
        "  digit_3_list=[df_3['digit_3'][n], df_3['digit_3'][n], df_3['digit_3'][n]]\n",
        "  data_to_insert={'AI_id' : id_list, 'digit_1' : digit_1_list, 'digit_2' : digit_2_list, 'digit_3': digit_3_list, 'text' : result_list}\n",
        "  df_3_to_insert = pd.DataFrame(data_to_insert)\n",
        "  temp= temp.append(df_3_to_insert, ignore_index=True)\n",
        "  n=n+1\n",
        "\n",
        "df_3=temp"
      ],
      "metadata": {
        "id": "v-xfuiwwfZbt"
      },
      "execution_count": 13,
      "outputs": []
    },
    {
      "cell_type": "code",
      "source": [
        "temp_result=[]\n",
        "n=0\n",
        "id_list=[]\n",
        "digit_1_list=[]\n",
        "digit_2_list=[]\n",
        "digit_3_list=[]\n",
        "\n",
        "temp = {'AI_id': [], 'digit_1': [], 'digit_2' : [], 'digit_3' : [], 'text' : []}\n",
        "temp = pd.DataFrame(temp)\n",
        "\n",
        "for sentence in df_5['text']:\n",
        "  result_list=EDA(sentence, alpha_sr=0.0, alpha_ri=0.0, alpha_rs=0.5, p_rd=0.5, num_aug=4)\n",
        "  id_list=[str(df_5['AI_id'][n]), 'p'+str(df_5['AI_id'][n]), 'p'+str(df_5['AI_id'][n]), 'p'+str(df_5['AI_id'][n]), 'p'+str(df_5['AI_id'][n])]\n",
        "  digit_1_list=[df_5['digit_1'][n], df_5['digit_1'][n], df_5['digit_1'][n], df_5['digit_1'][n], df_5['digit_1'][n]]\n",
        "  digit_2_list=[df_5['digit_2'][n], df_5['digit_2'][n], df_5['digit_2'][n], df_5['digit_2'][n], df_5['digit_2'][n]]\n",
        "  digit_3_list=[df_5['digit_3'][n], df_5['digit_3'][n], df_5['digit_3'][n], df_5['digit_3'][n], df_5['digit_3'][n]]\n",
        "  data_to_insert={'AI_id' : id_list, 'digit_1' : digit_1_list, 'digit_2' : digit_2_list, 'digit_3': digit_3_list, 'text' : result_list}\n",
        "  df_5_to_insert = pd.DataFrame(data_to_insert)\n",
        "  temp= temp.append(df_5_to_insert, ignore_index=True)\n",
        "  n=n+1\n",
        "\n",
        "df_5=temp"
      ],
      "metadata": {
        "id": "rQ0Jf7xUW-hM"
      },
      "execution_count": 14,
      "outputs": []
    },
    {
      "cell_type": "code",
      "source": [
        "temp_result=[]\n",
        "n=0\n",
        "id_list=[]\n",
        "digit_1_list=[]\n",
        "digit_2_list=[]\n",
        "digit_3_list=[]\n",
        "\n",
        "temp = {'AI_id': [], 'digit_1': [], 'digit_2' : [], 'digit_3' : [], 'text' : []}\n",
        "temp = pd.DataFrame(temp)\n",
        "\n",
        "for sentence in df_10['text']:\n",
        "  result_list=EDA(sentence, alpha_sr=0.0, alpha_ri=0.0, alpha_rs=0.5, p_rd=0.5, num_aug=9)\n",
        "  id_list=[str(df_10['AI_id'][n]), 'p'+str(df_10['AI_id'][n]), 'p'+str(df_10['AI_id'][n]), 'p'+str(df_10['AI_id'][n]), 'p'+str(df_10['AI_id'][n]), 'p'+str(df_10['AI_id'][n]), 'p'+str(df_10['AI_id'][n]), 'p'+str(df_10['AI_id'][n]), 'p'+str(df_10['AI_id'][n]), 'p'+str(df_10['AI_id'][n])]\n",
        "  digit_1_list=[df_10['digit_1'][n], df_10['digit_1'][n], df_10['digit_1'][n], df_10['digit_1'][n], df_10['digit_1'][n], df_10['digit_1'][n], df_10['digit_1'][n], df_10['digit_1'][n], df_10['digit_1'][n], df_10['digit_1'][n]]\n",
        "  digit_2_list=[df_10['digit_2'][n], df_10['digit_2'][n], df_10['digit_2'][n], df_10['digit_2'][n], df_10['digit_2'][n], df_10['digit_2'][n], df_10['digit_2'][n], df_10['digit_2'][n], df_10['digit_2'][n], df_10['digit_2'][n]]\n",
        "  digit_3_list=[df_10['digit_3'][n], df_10['digit_3'][n], df_10['digit_3'][n], df_10['digit_3'][n], df_10['digit_3'][n], df_10['digit_3'][n], df_10['digit_3'][n], df_10['digit_3'][n], df_10['digit_3'][n], df_10['digit_3'][n]]\n",
        "  data_to_insert={'AI_id' : id_list, 'digit_1' : digit_1_list, 'digit_2' : digit_2_list, 'digit_3': digit_3_list, 'text' : result_list}\n",
        "  df_10_to_insert = pd.DataFrame(data_to_insert)\n",
        "  temp= temp.append(df_10_to_insert, ignore_index=True)\n",
        "  n=n+1\n",
        "\n",
        "df_10=temp"
      ],
      "metadata": {
        "id": "UZrxz702ZERd"
      },
      "execution_count": 16,
      "outputs": []
    },
    {
      "cell_type": "code",
      "source": [
        "temp_result=[]\n",
        "n=0\n",
        "id_list=[]\n",
        "digit_1_list=[]\n",
        "digit_2_list=[]\n",
        "digit_3_list=[]\n",
        "\n",
        "temp = {'AI_id': [], 'digit_1': [], 'digit_2' : [], 'digit_3' : [], 'text' : []}\n",
        "temp = pd.DataFrame(temp)\n",
        "\n",
        "for sentence in df_50['text']:\n",
        "  result_list=EDA(sentence, alpha_sr=0.0, alpha_ri=0.0, alpha_rs=0.5, p_rd=0.5, num_aug=49)\n",
        "  id_list=[str(df_50['AI_id'][n]), 'p'+str(df_50['AI_id'][n]), 'p'+str(df_50['AI_id'][n]), 'p'+str(df_50['AI_id'][n]), 'p'+str(df_50['AI_id'][n]), 'p'+str(df_50['AI_id'][n]), 'p'+str(df_50['AI_id'][n]), 'p'+str(df_50['AI_id'][n]), 'p'+str(df_50['AI_id'][n]), 'p'+str(df_50['AI_id'][n]), 'p'+str(df_50['AI_id'][n]), 'p'+str(df_50['AI_id'][n]), 'p'+str(df_50['AI_id'][n]), 'p'+str(df_50['AI_id'][n]), 'p'+str(df_50['AI_id'][n]), 'p'+str(df_50['AI_id'][n]), 'p'+str(df_50['AI_id'][n]), 'p'+str(df_50['AI_id'][n]), 'p'+str(df_50['AI_id'][n]), 'p'+str(df_50['AI_id'][n]), 'p'+str(df_50['AI_id'][n]), 'p'+str(df_50['AI_id'][n]), 'p'+str(df_50['AI_id'][n]), 'p'+str(df_50['AI_id'][n]), 'p'+str(df_50['AI_id'][n]), 'p'+str(df_50['AI_id'][n]), 'p'+str(df_50['AI_id'][n]), 'p'+str(df_50['AI_id'][n]), 'p'+str(df_50['AI_id'][n]), 'p'+str(df_50['AI_id'][n]), 'p'+str(df_50['AI_id'][n]), 'p'+str(df_50['AI_id'][n]), 'p'+str(df_50['AI_id'][n]), 'p'+str(df_50['AI_id'][n]), 'p'+str(df_50['AI_id'][n]), 'p'+str(df_50['AI_id'][n]), 'p'+str(df_50['AI_id'][n]), 'p'+str(df_50['AI_id'][n]), 'p'+str(df_50['AI_id'][n]), 'p'+str(df_50['AI_id'][n]), 'p'+str(df_50['AI_id'][n]), 'p'+str(df_50['AI_id'][n]), 'p'+str(df_50['AI_id'][n]), 'p'+str(df_50['AI_id'][n]), 'p'+str(df_50['AI_id'][n]), 'p'+str(df_50['AI_id'][n]), 'p'+str(df_50['AI_id'][n]), 'p'+str(df_50['AI_id'][n]), 'p'+str(df_50['AI_id'][n]), 'p'+str(df_50['AI_id'][n])]\n",
        "  digit_1_list=[df_50['digit_1'][n], df_50['digit_1'][n], df_50['digit_1'][n], df_50['digit_1'][n], df_50['digit_1'][n], df_50['digit_1'][n], df_50['digit_1'][n], df_50['digit_1'][n], df_50['digit_1'][n], df_50['digit_1'][n], df_50['digit_1'][n], df_50['digit_1'][n], df_50['digit_1'][n], df_50['digit_1'][n], df_50['digit_1'][n], df_50['digit_1'][n], df_50['digit_1'][n], df_50['digit_1'][n], df_50['digit_1'][n], df_50['digit_1'][n], df_50['digit_1'][n], df_50['digit_1'][n], df_50['digit_1'][n], df_50['digit_1'][n], df_50['digit_1'][n], df_50['digit_1'][n], df_50['digit_1'][n], df_50['digit_1'][n], df_50['digit_1'][n], df_50['digit_1'][n], df_50['digit_1'][n], df_50['digit_1'][n], df_50['digit_1'][n], df_50['digit_1'][n], df_50['digit_1'][n], df_50['digit_1'][n], df_50['digit_1'][n], df_50['digit_1'][n], df_50['digit_1'][n], df_50['digit_1'][n], df_50['digit_1'][n], df_50['digit_1'][n], df_50['digit_1'][n], df_50['digit_1'][n], df_50['digit_1'][n], df_50['digit_1'][n], df_50['digit_1'][n], df_50['digit_1'][n], df_50['digit_1'][n], df_50['digit_1'][n]]\n",
        "  digit_2_list=[df_50['digit_2'][n], df_50['digit_2'][n], df_50['digit_2'][n], df_50['digit_2'][n], df_50['digit_2'][n], df_50['digit_2'][n], df_50['digit_2'][n], df_50['digit_2'][n], df_50['digit_2'][n], df_50['digit_2'][n], df_50['digit_2'][n], df_50['digit_2'][n], df_50['digit_2'][n], df_50['digit_2'][n], df_50['digit_2'][n], df_50['digit_2'][n], df_50['digit_2'][n], df_50['digit_2'][n], df_50['digit_2'][n], df_50['digit_2'][n], df_50['digit_2'][n], df_50['digit_2'][n], df_50['digit_2'][n], df_50['digit_2'][n], df_50['digit_2'][n], df_50['digit_2'][n], df_50['digit_2'][n], df_50['digit_2'][n], df_50['digit_2'][n], df_50['digit_2'][n], df_50['digit_2'][n], df_50['digit_2'][n], df_50['digit_2'][n], df_50['digit_2'][n], df_50['digit_2'][n], df_50['digit_2'][n], df_50['digit_2'][n], df_50['digit_2'][n], df_50['digit_2'][n], df_50['digit_2'][n], df_50['digit_2'][n], df_50['digit_2'][n], df_50['digit_2'][n], df_50['digit_2'][n], df_50['digit_2'][n], df_50['digit_2'][n], df_50['digit_2'][n], df_50['digit_2'][n], df_50['digit_2'][n], df_50['digit_2'][n]]\n",
        "  digit_3_list=[df_50['digit_3'][n], df_50['digit_3'][n], df_50['digit_3'][n], df_50['digit_3'][n], df_50['digit_3'][n], df_50['digit_3'][n], df_50['digit_3'][n], df_50['digit_3'][n], df_50['digit_3'][n], df_50['digit_3'][n], df_50['digit_3'][n], df_50['digit_3'][n], df_50['digit_3'][n], df_50['digit_3'][n], df_50['digit_3'][n], df_50['digit_3'][n], df_50['digit_3'][n], df_50['digit_3'][n], df_50['digit_3'][n], df_50['digit_3'][n], df_50['digit_3'][n], df_50['digit_3'][n], df_50['digit_3'][n], df_50['digit_3'][n], df_50['digit_3'][n], df_50['digit_3'][n], df_50['digit_3'][n], df_50['digit_3'][n], df_50['digit_3'][n], df_50['digit_3'][n], df_50['digit_3'][n], df_50['digit_3'][n], df_50['digit_3'][n], df_50['digit_3'][n], df_50['digit_3'][n], df_50['digit_3'][n], df_50['digit_3'][n], df_50['digit_3'][n], df_50['digit_3'][n], df_50['digit_3'][n], df_50['digit_3'][n], df_50['digit_3'][n], df_50['digit_3'][n], df_50['digit_3'][n], df_50['digit_3'][n], df_50['digit_3'][n], df_50['digit_3'][n], df_50['digit_3'][n], df_50['digit_3'][n], df_50['digit_3'][n]]\n",
        "  data_to_insert={'AI_id' : id_list, 'digit_1' : digit_1_list, 'digit_2' : digit_2_list, 'digit_3': digit_3_list, 'text' : result_list}\n",
        "  df_50_to_insert = pd.DataFrame(data_to_insert)\n",
        "  temp= temp.append(df_50_to_insert, ignore_index=True)\n",
        "  n=n+1\n",
        "\n",
        "df_50=temp"
      ],
      "metadata": {
        "id": "4jNIpgkyVf-u"
      },
      "execution_count": 17,
      "outputs": []
    },
    {
      "cell_type": "code",
      "source": [
        ""
      ],
      "metadata": {
        "id": "rPu4HM9KW-mX"
      },
      "execution_count": null,
      "outputs": []
    },
    {
      "cell_type": "markdown",
      "metadata": {
        "id": "I90LypFcePR4"
      },
      "source": [
        "기존 데이터 합치기"
      ]
    },
    {
      "cell_type": "code",
      "source": [
        "df=pd.concat([df_1, df_2, df_3, df_5, df_10, df_50])"
      ],
      "metadata": {
        "id": "JvWl7U5S2EQE"
      },
      "execution_count": 18,
      "outputs": []
    },
    {
      "cell_type": "code",
      "source": [
        "df['digit_3'].value_counts().sort_index()"
      ],
      "metadata": {
        "colab": {
          "base_uri": "https://localhost:8080/"
        },
        "id": "XgrUpfoPjsy2",
        "outputId": "a5c72d8a-fdf6-4c7a-8161-870eb8d1b93d"
      },
      "execution_count": 19,
      "outputs": [
        {
          "output_type": "execute_result",
          "data": {
            "text/plain": [
              "451.0    22680\n",
              "452.0    23480\n",
              "453.0    23550\n",
              "461.0    23280\n",
              "462.0    25850\n",
              "463.0    35746\n",
              "464.0    36906\n",
              "465.0    29304\n",
              "466.0    24462\n",
              "467.0    24192\n",
              "468.0    34700\n",
              "471.0    26189\n",
              "472.0    25668\n",
              "473.0    27936\n",
              "474.0    36453\n",
              "475.0    26062\n",
              "476.0    21564\n",
              "477.0    22885\n",
              "478.0    30566\n",
              "479.0    27654\n",
              "Name: digit_3, dtype: int64"
            ]
          },
          "metadata": {},
          "execution_count": 19
        }
      ]
    },
    {
      "cell_type": "code",
      "source": [
        "df"
      ],
      "metadata": {
        "id": "xGcRc2f3lyN-"
      },
      "execution_count": null,
      "outputs": []
    },
    {
      "cell_type": "code",
      "execution_count": 20,
      "metadata": {
        "id": "xdv6VPGk_dIX"
      },
      "outputs": [],
      "source": [
        "df.to_csv('노이)df_G_inc_again.csv', index=False, encoding='utf-8-sig')"
      ]
    },
    {
      "cell_type": "code",
      "execution_count": null,
      "metadata": {
        "id": "DvplvVddk7kT"
      },
      "outputs": [],
      "source": [
        ""
      ]
    }
  ],
  "metadata": {
    "accelerator": "GPU",
    "colab": {
      "background_execution": "on",
      "collapsed_sections": [],
      "machine_shape": "hm",
      "name": "(공유)) 원본데이터 증분하기 형식",
      "provenance": [],
      "include_colab_link": true
    },
    "kernelspec": {
      "display_name": "Python 3",
      "name": "python3"
    },
    "language_info": {
      "name": "python"
    }
  },
  "nbformat": 4,
  "nbformat_minor": 0
}