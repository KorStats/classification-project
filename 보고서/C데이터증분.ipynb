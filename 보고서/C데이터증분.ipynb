{
  "cells": [
    {
      "cell_type": "markdown",
      "metadata": {
        "id": "view-in-github",
        "colab_type": "text"
      },
      "source": [
        "<a href=\"https://colab.research.google.com/github/KorStats/classification-project/blob/main/%EB%B3%B4%EA%B3%A0%EC%84%9C/C%EB%8D%B0%EC%9D%B4%ED%84%B0%EC%A6%9D%EB%B6%84.ipynb\" target=\"_parent\"><img src=\"https://colab.research.google.com/assets/colab-badge.svg\" alt=\"Open In Colab\"/></a>"
      ]
    },
    {
      "cell_type": "markdown",
      "metadata": {
        "id": "U3wrPXQ_ORLb"
      },
      "source": [
        "## 구글드라이브에서 파일 읽어오기"
      ]
    },
    {
      "cell_type": "code",
      "execution_count": null,
      "metadata": {
        "colab": {
          "base_uri": "https://localhost:8080/"
        },
        "id": "dqJbzoq_OPxK",
        "outputId": "5521d171-9786-42e3-cf23-3dd0df563612"
      },
      "outputs": [
        {
          "output_type": "stream",
          "name": "stdout",
          "text": [
            "Mounted at /content/drive\n"
          ]
        }
      ],
      "source": [
        "from google.colab import drive\n",
        "drive.mount('/content/drive')"
      ]
    },
    {
      "cell_type": "code",
      "execution_count": null,
      "metadata": {
        "colab": {
          "base_uri": "https://localhost:8080/"
        },
        "id": "wmtIZqMGOdVX",
        "outputId": "2681286d-6750-49ff-c3d1-199ec29290ea"
      },
      "outputs": [
        {
          "output_type": "stream",
          "name": "stdout",
          "text": [
            "Mounted at /content/gdrive\n",
            " 산업분류자동화    '답안 작성용 파일.csv'   df_J_inc.csv  'My Drive'\n",
            "'Colab Notebooks'  '# df_G_inc.csv'\t    df_K_inc.csv   Q_inc_model.pt\n",
            " C_ori_model.pt     df_G_inc.csv\t    df_P_inc.csv   spell_check\n"
          ]
        }
      ],
      "source": [
        "from google.colab import drive\n",
        "drive.mount('/content/gdrive')\n",
        "!ln -s /content/gdrive/My\\ Drive/ /mydrive\n",
        "!ls /mydrive"
      ]
    },
    {
      "cell_type": "code",
      "execution_count": null,
      "metadata": {
        "id": "-lGZy4fGpXlo"
      },
      "outputs": [],
      "source": [
        "import pandas as pd\n",
        "df=pd.read_csv('/content/gdrive/MyDrive/spell_check/C_spellcheck.csv')"
      ]
    },
    {
      "cell_type": "code",
      "execution_count": null,
      "metadata": {
        "id": "5RbL6zqMdTtY"
      },
      "outputs": [],
      "source": [
        "df=df[(df['digit_1'] =='C')] #조건에 맞는 데이터 출력"
      ]
    },
    {
      "cell_type": "code",
      "source": [
        "df=df.reset_index(drop=True)\n",
        "df"
      ],
      "metadata": {
        "colab": {
          "base_uri": "https://localhost:8080/",
          "height": 423
        },
        "id": "3ISvtyKhpKd2",
        "outputId": "664eccee-7b3b-4add-a2b1-8e71134fc811"
      },
      "execution_count": null,
      "outputs": [
        {
          "output_type": "execute_result",
          "data": {
            "text/plain": [
              "             AI_id digit_1  digit_2  digit_3  \\\n",
              "0       id_0000006       C       29      291   \n",
              "1       id_0000008       C       10      107   \n",
              "2       id_0000011       C       10      102   \n",
              "3       id_0000021       C       10      107   \n",
              "4       id_0000027       C       22      221   \n",
              "...            ...     ...      ...      ...   \n",
              "105187  id_0999971       C       28      281   \n",
              "105188  id_0999976       C       25      259   \n",
              "105189  id_0999986       C       10      106   \n",
              "105190  id_0999994       C       32      320   \n",
              "105191  id_0999996       C       13      134   \n",
              "\n",
              "                                       text  \n",
              "0                         철 절삭. 용접 카프라 배관자재  \n",
              "1                          쌀을 가지고 가공하여 떡 제조  \n",
              "2                                멸치 입고, 가공   \n",
              "3        쌀을 가지고 가루로 분쇄하여 떡을 쪄서 백설기 꿀떡 절편 판매  \n",
              "4                      고무 절단가공 개스킷, 다이아 프레임  \n",
              "...                                     ...  \n",
              "105187      트랜스, 다이오드, 칩 조립 전원공급장치(파워 서플라이)  \n",
              "105188                             기타 임가공    \n",
              "105189              벼를 가지고 벼를 도정하여 소비자에게 판매  \n",
              "105190  카본 열선, 퀼팅 구조체 조립. 배열. 봉제하여 의료용 매트리스  \n",
              "105191                      제품 입고 워싱 청바지 워싱  \n",
              "\n",
              "[105192 rows x 5 columns]"
            ],
            "text/html": [
              "\n",
              "  <div id=\"df-5fdfbae2-1607-44f0-b2f3-7c055fc5711c\">\n",
              "    <div class=\"colab-df-container\">\n",
              "      <div>\n",
              "<style scoped>\n",
              "    .dataframe tbody tr th:only-of-type {\n",
              "        vertical-align: middle;\n",
              "    }\n",
              "\n",
              "    .dataframe tbody tr th {\n",
              "        vertical-align: top;\n",
              "    }\n",
              "\n",
              "    .dataframe thead th {\n",
              "        text-align: right;\n",
              "    }\n",
              "</style>\n",
              "<table border=\"1\" class=\"dataframe\">\n",
              "  <thead>\n",
              "    <tr style=\"text-align: right;\">\n",
              "      <th></th>\n",
              "      <th>AI_id</th>\n",
              "      <th>digit_1</th>\n",
              "      <th>digit_2</th>\n",
              "      <th>digit_3</th>\n",
              "      <th>text</th>\n",
              "    </tr>\n",
              "  </thead>\n",
              "  <tbody>\n",
              "    <tr>\n",
              "      <th>0</th>\n",
              "      <td>id_0000006</td>\n",
              "      <td>C</td>\n",
              "      <td>29</td>\n",
              "      <td>291</td>\n",
              "      <td>철 절삭. 용접 카프라 배관자재</td>\n",
              "    </tr>\n",
              "    <tr>\n",
              "      <th>1</th>\n",
              "      <td>id_0000008</td>\n",
              "      <td>C</td>\n",
              "      <td>10</td>\n",
              "      <td>107</td>\n",
              "      <td>쌀을 가지고 가공하여 떡 제조</td>\n",
              "    </tr>\n",
              "    <tr>\n",
              "      <th>2</th>\n",
              "      <td>id_0000011</td>\n",
              "      <td>C</td>\n",
              "      <td>10</td>\n",
              "      <td>102</td>\n",
              "      <td>멸치 입고, 가공</td>\n",
              "    </tr>\n",
              "    <tr>\n",
              "      <th>3</th>\n",
              "      <td>id_0000021</td>\n",
              "      <td>C</td>\n",
              "      <td>10</td>\n",
              "      <td>107</td>\n",
              "      <td>쌀을 가지고 가루로 분쇄하여 떡을 쪄서 백설기 꿀떡 절편 판매</td>\n",
              "    </tr>\n",
              "    <tr>\n",
              "      <th>4</th>\n",
              "      <td>id_0000027</td>\n",
              "      <td>C</td>\n",
              "      <td>22</td>\n",
              "      <td>221</td>\n",
              "      <td>고무 절단가공 개스킷, 다이아 프레임</td>\n",
              "    </tr>\n",
              "    <tr>\n",
              "      <th>...</th>\n",
              "      <td>...</td>\n",
              "      <td>...</td>\n",
              "      <td>...</td>\n",
              "      <td>...</td>\n",
              "      <td>...</td>\n",
              "    </tr>\n",
              "    <tr>\n",
              "      <th>105187</th>\n",
              "      <td>id_0999971</td>\n",
              "      <td>C</td>\n",
              "      <td>28</td>\n",
              "      <td>281</td>\n",
              "      <td>트랜스, 다이오드, 칩 조립 전원공급장치(파워 서플라이)</td>\n",
              "    </tr>\n",
              "    <tr>\n",
              "      <th>105188</th>\n",
              "      <td>id_0999976</td>\n",
              "      <td>C</td>\n",
              "      <td>25</td>\n",
              "      <td>259</td>\n",
              "      <td>기타 임가공</td>\n",
              "    </tr>\n",
              "    <tr>\n",
              "      <th>105189</th>\n",
              "      <td>id_0999986</td>\n",
              "      <td>C</td>\n",
              "      <td>10</td>\n",
              "      <td>106</td>\n",
              "      <td>벼를 가지고 벼를 도정하여 소비자에게 판매</td>\n",
              "    </tr>\n",
              "    <tr>\n",
              "      <th>105190</th>\n",
              "      <td>id_0999994</td>\n",
              "      <td>C</td>\n",
              "      <td>32</td>\n",
              "      <td>320</td>\n",
              "      <td>카본 열선, 퀼팅 구조체 조립. 배열. 봉제하여 의료용 매트리스</td>\n",
              "    </tr>\n",
              "    <tr>\n",
              "      <th>105191</th>\n",
              "      <td>id_0999996</td>\n",
              "      <td>C</td>\n",
              "      <td>13</td>\n",
              "      <td>134</td>\n",
              "      <td>제품 입고 워싱 청바지 워싱</td>\n",
              "    </tr>\n",
              "  </tbody>\n",
              "</table>\n",
              "<p>105192 rows × 5 columns</p>\n",
              "</div>\n",
              "      <button class=\"colab-df-convert\" onclick=\"convertToInteractive('df-5fdfbae2-1607-44f0-b2f3-7c055fc5711c')\"\n",
              "              title=\"Convert this dataframe to an interactive table.\"\n",
              "              style=\"display:none;\">\n",
              "        \n",
              "  <svg xmlns=\"http://www.w3.org/2000/svg\" height=\"24px\"viewBox=\"0 0 24 24\"\n",
              "       width=\"24px\">\n",
              "    <path d=\"M0 0h24v24H0V0z\" fill=\"none\"/>\n",
              "    <path d=\"M18.56 5.44l.94 2.06.94-2.06 2.06-.94-2.06-.94-.94-2.06-.94 2.06-2.06.94zm-11 1L8.5 8.5l.94-2.06 2.06-.94-2.06-.94L8.5 2.5l-.94 2.06-2.06.94zm10 10l.94 2.06.94-2.06 2.06-.94-2.06-.94-.94-2.06-.94 2.06-2.06.94z\"/><path d=\"M17.41 7.96l-1.37-1.37c-.4-.4-.92-.59-1.43-.59-.52 0-1.04.2-1.43.59L10.3 9.45l-7.72 7.72c-.78.78-.78 2.05 0 2.83L4 21.41c.39.39.9.59 1.41.59.51 0 1.02-.2 1.41-.59l7.78-7.78 2.81-2.81c.8-.78.8-2.07 0-2.86zM5.41 20L4 18.59l7.72-7.72 1.47 1.35L5.41 20z\"/>\n",
              "  </svg>\n",
              "      </button>\n",
              "      \n",
              "  <style>\n",
              "    .colab-df-container {\n",
              "      display:flex;\n",
              "      flex-wrap:wrap;\n",
              "      gap: 12px;\n",
              "    }\n",
              "\n",
              "    .colab-df-convert {\n",
              "      background-color: #E8F0FE;\n",
              "      border: none;\n",
              "      border-radius: 50%;\n",
              "      cursor: pointer;\n",
              "      display: none;\n",
              "      fill: #1967D2;\n",
              "      height: 32px;\n",
              "      padding: 0 0 0 0;\n",
              "      width: 32px;\n",
              "    }\n",
              "\n",
              "    .colab-df-convert:hover {\n",
              "      background-color: #E2EBFA;\n",
              "      box-shadow: 0px 1px 2px rgba(60, 64, 67, 0.3), 0px 1px 3px 1px rgba(60, 64, 67, 0.15);\n",
              "      fill: #174EA6;\n",
              "    }\n",
              "\n",
              "    [theme=dark] .colab-df-convert {\n",
              "      background-color: #3B4455;\n",
              "      fill: #D2E3FC;\n",
              "    }\n",
              "\n",
              "    [theme=dark] .colab-df-convert:hover {\n",
              "      background-color: #434B5C;\n",
              "      box-shadow: 0px 1px 3px 1px rgba(0, 0, 0, 0.15);\n",
              "      filter: drop-shadow(0px 1px 2px rgba(0, 0, 0, 0.3));\n",
              "      fill: #FFFFFF;\n",
              "    }\n",
              "  </style>\n",
              "\n",
              "      <script>\n",
              "        const buttonEl =\n",
              "          document.querySelector('#df-5fdfbae2-1607-44f0-b2f3-7c055fc5711c button.colab-df-convert');\n",
              "        buttonEl.style.display =\n",
              "          google.colab.kernel.accessAllowed ? 'block' : 'none';\n",
              "\n",
              "        async function convertToInteractive(key) {\n",
              "          const element = document.querySelector('#df-5fdfbae2-1607-44f0-b2f3-7c055fc5711c');\n",
              "          const dataTable =\n",
              "            await google.colab.kernel.invokeFunction('convertToInteractive',\n",
              "                                                     [key], {});\n",
              "          if (!dataTable) return;\n",
              "\n",
              "          const docLinkHtml = 'Like what you see? Visit the ' +\n",
              "            '<a target=\"_blank\" href=https://colab.research.google.com/notebooks/data_table.ipynb>data table notebook</a>'\n",
              "            + ' to learn more about interactive tables.';\n",
              "          element.innerHTML = '';\n",
              "          dataTable['output_type'] = 'display_data';\n",
              "          await google.colab.output.renderOutput(dataTable, element);\n",
              "          const docLink = document.createElement('div');\n",
              "          docLink.innerHTML = docLinkHtml;\n",
              "          element.appendChild(docLink);\n",
              "        }\n",
              "      </script>\n",
              "    </div>\n",
              "  </div>\n",
              "  "
            ]
          },
          "metadata": {},
          "execution_count": 6
        }
      ]
    },
    {
      "cell_type": "code",
      "source": [
        "df['digit_3'].value_counts()"
      ],
      "metadata": {
        "colab": {
          "base_uri": "https://localhost:8080/"
        },
        "id": "mzEwzSHzMsc5",
        "outputId": "2487aa6c-4fc8-448f-f8cf-b22dfb473839"
      },
      "execution_count": null,
      "outputs": [
        {
          "output_type": "execute_result",
          "data": {
            "text/plain": [
              "259    12876\n",
              "107     9214\n",
              "292     7163\n",
              "222     4935\n",
              "291     4924\n",
              "       ...  \n",
              "304       22\n",
              "301       20\n",
              "191       20\n",
              "266        8\n",
              "120        3\n",
              "Name: digit_3, Length: 85, dtype: int64"
            ]
          },
          "metadata": {},
          "execution_count": 7
        }
      ]
    },
    {
      "cell_type": "code",
      "execution_count": null,
      "metadata": {
        "id": "GV4cXBgUea3j"
      },
      "outputs": [],
      "source": [
        "# 데이터 증분 코드\n",
        "import random\n",
        "import pickle\n",
        "import re\n",
        "def get_only_hangul(line):\n",
        "\tparseText= re.compile('/ ^[ㄱ-ㅎㅏ-ㅣ가-힣]*$/').sub('',line)\n",
        "\treturn parseText\n",
        "\n",
        "def synonym_replacement(words, n):\n",
        "\tnew_words = words.copy()\n",
        "\trandom_word_list = list(set([word for word in words]))\n",
        "\trandom.shuffle(random_word_list)\n",
        "\tnum_replaced = 0\n",
        "\tfor random_word in random_word_list:\n",
        "\t\tsynonyms = get_synonyms(random_word)\n",
        "\t\tif len(synonyms) >= 1:\n",
        "\t\t\tsynonym = random.choice(list(synonyms))\n",
        "\t\t\tnew_words = [synonym if word == random_word else word for word in new_words]\n",
        "\t\t\tnum_replaced += 1\n",
        "\t\tif num_replaced >= n:\n",
        "\t\t\tbreak\n",
        "\tif len(new_words) != 0:\n",
        "\t\tsentence = ' '.join(new_words)\n",
        "\t\tnew_words = sentence.split(\" \")\n",
        "\telse:\n",
        "\t\tnew_words = \"\"\n",
        "\treturn new_words\n",
        "\n",
        "def get_synonyms(word):\n",
        "\tsynomyms = []\n",
        "\ttry:\n",
        "\t\tfor syn in wordnet[word]:\n",
        "\t\t\tfor s in syn:\n",
        "\t\t\t\tsynomyms.append(s)\n",
        "\texcept:\n",
        "\t\tpass\n",
        "\treturn synomyms\n",
        "\n",
        "def random_deletion(words, p):\n",
        "\tif len(words) == 1:\n",
        "\t\treturn words\n",
        "\n",
        "\tnew_words = []\n",
        "\tfor word in words:\n",
        "\t\tr = random.uniform(0, 1)\n",
        "\t\tif r > p:\n",
        "\t\t\tnew_words.append(word)\n",
        "\tif len(new_words) == 0:\n",
        "\t\trand_int = random.randint(0, len(words)-1)\n",
        "\t\treturn [words[rand_int]]\n",
        "\treturn new_words\n",
        "\n",
        "########################################################################\n",
        "# Random swap\n",
        "# Randomly swap two words in the sentence n times\n",
        "########################################################################\n",
        "def random_swap(words, n):\n",
        "\tnew_words = words.copy()\n",
        "\tfor _ in range(n):\n",
        "\t\tnew_words = swap_word(new_words)\n",
        "\treturn new_words\n",
        "\n",
        "def swap_word(new_words):\n",
        "\trandom_idx_1 = random.randint(0, len(new_words)-1)\n",
        "\trandom_idx_2 = random_idx_1\n",
        "\tcounter = 0\n",
        "\twhile random_idx_2 == random_idx_1:\n",
        "\t\trandom_idx_2 = random.randint(0, len(new_words)-1)\n",
        "\t\tcounter += 1\n",
        "\t\tif counter > 3:\n",
        "\t\t\treturn new_words\n",
        "\tnew_words[random_idx_1], new_words[random_idx_2] = new_words[random_idx_2], new_words[random_idx_1]\n",
        "\treturn new_words\n",
        "\n",
        "########################################################################\n",
        "# Random insertion\n",
        "# Randomly insert n words into the sentence\n",
        "########################################################################\n",
        "def random_insertion(words, n):\n",
        "\tnew_words = words.copy()\n",
        "\tfor _ in range(n):\n",
        "\t\tadd_word(new_words)\t\n",
        "\treturn new_words\n",
        "\n",
        "def add_word(new_words):\n",
        "\tsynonyms = []\n",
        "\tcounter = 0\n",
        "\twhile len(synonyms) < 1:\n",
        "\t\tif len(new_words) >= 1:\n",
        "\t\t\trandom_word = new_words[random.randint(0, len(new_words)-1)]\n",
        "\t\t\tsynonyms = get_synonyms(random_word)\n",
        "\t\t\tcounter += 1\n",
        "\t\telse:\n",
        "\t\t\trandom_word = \"\"\n",
        "\t\tif counter >= 10:\n",
        "\t\t\treturn\n",
        "\t\t\n",
        "\trandom_synonym = synonyms[0]\n",
        "\trandom_idx = random.randint(0, len(new_words)-1)\n",
        "\tnew_words.insert(random_idx, random_synonym)\n",
        "\n",
        "def EDA(sentence, alpha_sr=0.1, alpha_ri=0.1, alpha_rs=0.1, p_rd=0.1, num_aug=9):\n",
        "\tsentence = get_only_hangul(sentence)\n",
        "\twords = sentence.split(' ')\n",
        "\twords = [word for word in words if word is not \"\"]\n",
        "\tnum_words = len(words)\n",
        "\taugmented_sentences = []\n",
        "\tnum_new_per_technique = int(num_aug/4) + 1\n",
        "\tn_sr = max(1, int(alpha_sr*num_words))\n",
        "\tn_ri = max(1, int(alpha_ri*num_words))\n",
        "\tn_rs = max(1, int(alpha_rs*num_words))\n",
        "\t# sr\n",
        "\tfor _ in range(num_new_per_technique):\n",
        "\t\ta_words = synonym_replacement(words, n_sr)\n",
        "\t\taugmented_sentences.append(' '.join(a_words))\n",
        "\t# ri\n",
        "\tfor _ in range(num_new_per_technique):\n",
        "\t\ta_words = random_insertion(words, n_ri)\n",
        "\t\taugmented_sentences.append(' '.join(a_words))\n",
        "\t# rs\n",
        "\tfor _ in range(num_new_per_technique):\n",
        "\t\ta_words = random_swap(words, n_rs)\n",
        "\t\taugmented_sentences.append(\" \".join(a_words))\n",
        "\t# rd\n",
        "\tfor _ in range(num_new_per_technique):\n",
        "\t\ta_words = random_deletion(words, p_rd)\n",
        "\t\taugmented_sentences.append(\" \".join(a_words))\n",
        "\taugmented_sentences = [get_only_hangul(sentence) for sentence in augmented_sentences]\n",
        "\trandom.shuffle(augmented_sentences)\n",
        "\tif num_aug >= 1:\n",
        "\t\taugmented_sentences = augmented_sentences[:num_aug]\n",
        "\telse:\n",
        "\t\tkeep_prob = num_aug / len(augmented_sentences)\n",
        "\t\taugmented_sentences = [s for s in augmented_sentences if random.uniform(0, 1) < keep_prob]\n",
        "\taugmented_sentences.append(sentence)\n",
        "\treturn augmented_sentences"
      ]
    },
    {
      "cell_type": "code",
      "source": [
        "df1=df[df['digit_3']==259]\n",
        "df2=df[df['digit_3']==107]\n",
        "df3=df[df['digit_3']==292]\n",
        "df4=df[df['digit_3']==222]\n",
        "df5=df[df['digit_3']==291]\n",
        "df6=df[df['digit_3']==141]\n",
        "df7=df[df['digit_3']==251]\n",
        "df8=df[df['digit_3']==181]\n",
        "df9=df[df['digit_3']==339]\n",
        "df10=df[df['digit_3']==340]\n",
        "df11=df[df['digit_3']==320]\n",
        "df12=df[df['digit_3']==132]\n",
        "df13=df[df['digit_3']==281]\n",
        "df14=df[df['digit_3']==303]\n",
        "df15=df[df['digit_3']==262]\n",
        "df16=df[df['digit_3']==204]\n",
        "df17=df[df['digit_3']==272]\n",
        "df18=df[df['digit_3']==271]\n",
        "df19=df[df['digit_3']==106]\n",
        "df20=df[df['digit_3']==162]\n",
        "df21=df[df['digit_3']==284]\n",
        "df22=df[df['digit_3']==241]\n",
        "df23=df[df['digit_3']==103]\n",
        "df24=df[df['digit_3']==172]\n",
        "df25=df[df['digit_3']==102]\n",
        "df26=df[df['digit_3']==134]\n",
        "df27=df[df['digit_3']==239]\n",
        "df28=df[df['digit_3']==151]\n",
        "df29=df[df['digit_3']==139]\n",
        "df30=df[df['digit_3']==221]\n",
        "df31=df[df['digit_3']==104]\n",
        "df32=df[df['digit_3']==233]\n",
        "df33=df[df['digit_3']==311]\n",
        "df34=df[df['digit_3']==101]\n",
        "df35=df[df['digit_3']==264]\n",
        "df36=df[df['digit_3']==232]\n",
        "df37=df[df['digit_3']==202]\n",
        "df38=df[df['digit_3']==144]\n",
        "df39=df[df['digit_3']==331]\n",
        "df40=df[df['digit_3']==285]\n",
        "df41=df[df['digit_3']==179]\n",
        "df42=df[df['digit_3']==242]\n",
        "df43=df[df['digit_3']==231]\n",
        "df44=df[df['digit_3']==152]\n",
        "df45=df[df['digit_3']==131]\n",
        "df46=df[df['digit_3']==283]\n",
        "df47=df[df['digit_3']==243]\n",
        "df48=df[df['digit_3']==261]\n",
        "df49=df[df['digit_3']==289]\n",
        "df50=df[df['digit_3']==201]\n",
        "df51=df[df['digit_3']==161]\n",
        "df52=df[df['digit_3']==203]\n",
        "df53=df[df['digit_3']==302]\n",
        "df54=df[df['digit_3']==143]\n",
        "df55=df[df['digit_3']==333]\n",
        "df56=df[df['digit_3']==108]\n",
        "df57=df[df['digit_3']==263]\n",
        "df58=df[df['digit_3']==111]\n",
        "df59=df[df['digit_3']==265]\n",
        "df60=df[df['digit_3']==133]\n",
        "df61=df[df['digit_3']==334]\n",
        "df62=df[df['digit_3']==171]\n",
        "df63=df[df['digit_3']==273]\n",
        "df64=df[df['digit_3']==212]\n",
        "df65=df[df['digit_3']==112]\n",
        "df66=df[df['digit_3']==213]\n",
        "df67=df[df['digit_3']==313]\n",
        "df68=df[df['digit_3']==319]\n",
        "df69=df[df['digit_3']==312]\n",
        "df70=df[df['digit_3']==282]\n",
        "df71=df[df['digit_3']==332]\n",
        "df72=df[df['digit_3']==192]\n",
        "df73=df[df['digit_3']==142]\n",
        "df74=df[df['digit_3']==105]\n",
        "df75=df[df['digit_3']==205]\n",
        "df76=df[df['digit_3']==274]\n",
        "df77=df[df['digit_3']==163]\n",
        "df78=df[df['digit_3']==211]\n",
        "df79=df[df['digit_3']==182]\n",
        "df80=df[df['digit_3']==252]\n",
        "df81=df[df['digit_3']==304]\n",
        "df82=df[df['digit_3']==301]\n",
        "df83=df[df['digit_3']==191]\n",
        "df84=df[df['digit_3']==266]\n",
        "df85=df[df['digit_3']==120]\n",
        "\n",
        "\n",
        "df100=pd.concat([df1, df2, df3, df4, df5, df6])\n",
        "df101=pd.concat([df7, df8, df9, df10, df11])\n",
        "df102=pd.concat([df12, df13])\n",
        "df103=pd.concat([df14, df15, df16, df17, df18, df19, df20, df21])\n",
        "df104=pd.concat([df22, df23, df24, df25, df26, df27, df28, df29])\n",
        "df105=pd.concat([df30, df31, df32, df33, df34, df35, df36, df37])\n",
        "df106=pd.concat([df38, df39, df40, df41, df42, df43])\n",
        "df107=pd.concat([df44, df45])\n",
        "df108=pd.concat([df46, df47, df48, df49, df50, df51, df52, df53])\n",
        "df109=pd.concat([df54, df55, df56, df57])\n",
        "df110=pd.concat([df58, df59, df60])\n",
        "df111=pd.concat([df61, df62])\n",
        "df112=pd.concat([df63])\n",
        "df113=pd.concat([df64])\n",
        "df114=pd.concat([df65])\n",
        "df115=pd.concat([df66, df67, df68, df69, df70, df71, df72, df73])\n",
        "df116=pd.concat([df74, df75, df76, df77, df78, df79, df80, df81, df82, df83, df84, df85])\n",
        "\n",
        "df100=df100.reset_index(drop=True) \n",
        "df101=df101.reset_index(drop=True) \n",
        "df102=df102.reset_index(drop=True) \n",
        "df103=df103.reset_index(drop=True) \n",
        "df104=df104.reset_index(drop=True) \n",
        "df105=df105.reset_index(drop=True) \n",
        "df106=df106.reset_index(drop=True) \n",
        "df107=df107.reset_index(drop=True) \n",
        "df108=df108.reset_index(drop=True) \n",
        "df109=df109.reset_index(drop=True) \n",
        "df110=df110.reset_index(drop=True) \n",
        "df111=df111.reset_index(drop=True) \n",
        "df112=df112.reset_index(drop=True) \n",
        "df113=df113.reset_index(drop=True) \n",
        "df114=df114.reset_index(drop=True) \n",
        "df115=df115.reset_index(drop=True) \n",
        "df116=df116.reset_index(drop=True) "
      ],
      "metadata": {
        "id": "gF9Pg7zIGq-H"
      },
      "execution_count": null,
      "outputs": []
    },
    {
      "cell_type": "markdown",
      "source": [
        "## 데이터 증분"
      ],
      "metadata": {
        "id": "PVSPyuQaO2LF"
      }
    },
    {
      "cell_type": "code",
      "source": [
        "temp_result=[]\n",
        "n=0\n",
        "id_list=[]\n",
        "digit_1_list=[]\n",
        "digit_2_list=[]\n",
        "digit_3_list=[]\n",
        "\n",
        "for sentence in df101['text']:\n",
        "  result_list=EDA(sentence, alpha_sr=0.0, alpha_ri=0.0, alpha_rs=0.5, p_rd=0.5, num_aug=1)\n",
        "  id_list=['p'+str(df101['AI_id'][n]), 'p'+str(df101['AI_id'][n])]\n",
        "  digit_1_list=[df101['digit_1'][n], df101['digit_1'][n]]\n",
        "  digit_2_list=[df101['digit_2'][n], df101['digit_2'][n]]\n",
        "  digit_3_list=[df101['digit_3'][n], df101['digit_3'][n]]\n",
        "  data_to_insert={'AI_id' : id_list, 'digit_1' : digit_1_list, 'digit_2' : digit_2_list, 'digit_3': digit_3_list, 'text' : result_list}\n",
        "  df101_to_insert = pd.DataFrame(data_to_insert)\n",
        "  df101= df101.append(df101_to_insert, ignore_index=True)\n",
        "  n=n+1"
      ],
      "metadata": {
        "id": "KBAawTtDOb8j"
      },
      "execution_count": null,
      "outputs": []
    },
    {
      "cell_type": "code",
      "source": [
        "df101['digit_3'].value_counts()"
      ],
      "metadata": {
        "colab": {
          "base_uri": "https://localhost:8080/"
        },
        "id": "nmpAUexQOb_M",
        "outputId": "ef5179ea-147a-4761-9ad2-b5bb716c3b17"
      },
      "execution_count": null,
      "outputs": [
        {
          "output_type": "execute_result",
          "data": {
            "text/plain": [
              "251    12468\n",
              "181    12417\n",
              "339    10188\n",
              "340    10140\n",
              "320     9825\n",
              "Name: digit_3, dtype: int64"
            ]
          },
          "metadata": {},
          "execution_count": 14
        }
      ]
    },
    {
      "cell_type": "code",
      "source": [
        "temp_result=[]\n",
        "n=0\n",
        "id_list=[]\n",
        "digit_1_list=[]\n",
        "digit_2_list=[]\n",
        "digit_3_list=[]\n",
        "\n",
        "for sentence in df102['text']:\n",
        "  result_list=EDA(sentence, alpha_sr=0.0, alpha_ri=0.0, alpha_rs=0.5, p_rd=0.5, num_aug=2)\n",
        "  id_list=['p'+str(df102['AI_id'][n]), 'p'+str(df102['AI_id'][n]), 'p'+str(df102['AI_id'][n])]\n",
        "  digit_1_list=[df102['digit_1'][n], df102['digit_1'][n], df102['digit_1'][n]]\n",
        "  digit_2_list=[df102['digit_2'][n], df102['digit_2'][n], df102['digit_2'][n]]\n",
        "  digit_3_list=[df102['digit_3'][n], df102['digit_3'][n], df102['digit_3'][n]]\n",
        "  data_to_insert={'AI_id' : id_list, 'digit_1' : digit_1_list, 'digit_2' : digit_2_list, 'digit_3': digit_3_list, 'text' : result_list}\n",
        "  df102_to_insert = pd.DataFrame(data_to_insert)\n",
        "  df102= df102.append(df102_to_insert, ignore_index=True)\n",
        "  n=n+1"
      ],
      "metadata": {
        "id": "FFIOlzKtQET7"
      },
      "execution_count": null,
      "outputs": []
    },
    {
      "cell_type": "code",
      "source": [
        "df102['digit_3'].value_counts()"
      ],
      "metadata": {
        "colab": {
          "base_uri": "https://localhost:8080/"
        },
        "id": "3OaUi46oQEWS",
        "outputId": "044368c5-90da-40d3-b861-d4f00491dfae"
      },
      "execution_count": null,
      "outputs": [
        {
          "output_type": "execute_result",
          "data": {
            "text/plain": [
              "132    11276\n",
              "281    11024\n",
              "Name: digit_3, dtype: int64"
            ]
          },
          "metadata": {},
          "execution_count": 16
        }
      ]
    },
    {
      "cell_type": "code",
      "source": [
        "temp_result=[]\n",
        "n=0\n",
        "id_list=[]\n",
        "digit_1_list=[]\n",
        "digit_2_list=[]\n",
        "digit_3_list=[]\n",
        "\n",
        "for sentence in df103['text']:\n",
        "  result_list=EDA(sentence, alpha_sr=0.0, alpha_ri=0.0, alpha_rs=0.5, p_rd=0.5, num_aug=3)\n",
        "  id_list=['p'+str(df103['AI_id'][n]), 'p'+str(df103['AI_id'][n]), 'p'+str(df103['AI_id'][n]), 'p'+str(df103['AI_id'][n])]\n",
        "  digit_1_list=[df103['digit_1'][n], df103['digit_1'][n], df103['digit_1'][n], df103['digit_1'][n]]\n",
        "  digit_2_list=[df103['digit_2'][n], df103['digit_2'][n], df103['digit_2'][n], df103['digit_2'][n]]\n",
        "  digit_3_list=[df103['digit_3'][n], df103['digit_3'][n], df103['digit_3'][n], df103['digit_3'][n]]\n",
        "  data_to_insert={'AI_id' : id_list, 'digit_1' : digit_1_list, 'digit_2' : digit_2_list, 'digit_3': digit_3_list, 'text' : result_list}\n",
        "  df103_to_insert = pd.DataFrame(data_to_insert)\n",
        "  df103= df103.append(df103_to_insert, ignore_index=True)\n",
        "  n=n+1"
      ],
      "metadata": {
        "id": "8yIAhcgVQEYo"
      },
      "execution_count": null,
      "outputs": []
    },
    {
      "cell_type": "code",
      "source": [
        "df103['digit_3'].value_counts()"
      ],
      "metadata": {
        "colab": {
          "base_uri": "https://localhost:8080/"
        },
        "id": "yZg1R7NJQ0g6",
        "outputId": "52bd56a1-5c32-48b6-93a6-8d1cba60409d"
      },
      "execution_count": null,
      "outputs": [
        {
          "output_type": "execute_result",
          "data": {
            "text/plain": [
              "303    12035\n",
              "262     8330\n",
              "204     8215\n",
              "272     7530\n",
              "271     7420\n",
              "106     6765\n",
              "162     6720\n",
              "284     6690\n",
              "Name: digit_3, dtype: int64"
            ]
          },
          "metadata": {},
          "execution_count": 18
        }
      ]
    },
    {
      "cell_type": "code",
      "source": [
        "temp_result=[]\n",
        "n=0\n",
        "id_list=[]\n",
        "digit_1_list=[]\n",
        "digit_2_list=[]\n",
        "digit_3_list=[]\n",
        "\n",
        "for sentence in df104['text']:\n",
        "  result_list=EDA(sentence, alpha_sr=0.0, alpha_ri=0.0, alpha_rs=0.5, p_rd=0.5, num_aug=8)\n",
        "  id_list=['p'+str(df104['AI_id'][n]), 'p'+str(df104['AI_id'][n]), 'p'+str(df104['AI_id'][n]), 'p'+str(df104['AI_id'][n]),'p'+str(df104['AI_id'][n]), 'p'+str(df104['AI_id'][n]), 'p'+str(df104['AI_id'][n]), 'p'+str(df104['AI_id'][n]),'p'+str(df104['AI_id'][n])]\n",
        "  digit_1_list=[df104['digit_1'][n], df104['digit_1'][n], df104['digit_1'][n], df104['digit_1'][n],df104['digit_1'][n], df104['digit_1'][n], df104['digit_1'][n], df104['digit_1'][n],df104['digit_1'][n]]\n",
        "  digit_2_list=[df104['digit_2'][n], df104['digit_2'][n], df104['digit_2'][n], df104['digit_2'][n],df104['digit_2'][n], df104['digit_2'][n], df104['digit_2'][n], df104['digit_2'][n],df104['digit_2'][n]]\n",
        "  digit_3_list=[df104['digit_3'][n], df104['digit_3'][n], df104['digit_3'][n], df104['digit_3'][n],df104['digit_3'][n], df104['digit_3'][n], df104['digit_3'][n], df104['digit_3'][n],df104['digit_3'][n]]\n",
        "  data_to_insert={'AI_id' : id_list, 'digit_1' : digit_1_list, 'digit_2' : digit_2_list, 'digit_3': digit_3_list, 'text' : result_list}\n",
        "  df104_to_insert = pd.DataFrame(data_to_insert)\n",
        "  df104= df104.append(df104_to_insert, ignore_index=True)\n",
        "  n=n+1"
      ],
      "metadata": {
        "id": "pKcu-vpdQ0jT"
      },
      "execution_count": null,
      "outputs": []
    },
    {
      "cell_type": "code",
      "source": [
        "df104['digit_3'].value_counts()"
      ],
      "metadata": {
        "colab": {
          "base_uri": "https://localhost:8080/"
        },
        "id": "2OHyBGz1Q3Tx",
        "outputId": "e99ee847-eba8-4333-83a7-b2e31ec513dc"
      },
      "execution_count": null,
      "outputs": [
        {
          "output_type": "execute_result",
          "data": {
            "text/plain": [
              "241    12790\n",
              "103    11770\n",
              "172     9960\n",
              "102     9850\n",
              "134     9650\n",
              "239     9220\n",
              "151     8650\n",
              "139     8120\n",
              "Name: digit_3, dtype: int64"
            ]
          },
          "metadata": {},
          "execution_count": 20
        }
      ]
    },
    {
      "cell_type": "code",
      "source": [
        "temp_result=[]\n",
        "n=0\n",
        "id_list=[]\n",
        "digit_1_list=[]\n",
        "digit_2_list=[]\n",
        "digit_3_list=[]\n",
        "\n",
        "for sentence in df105['text']:\n",
        "  result_list=EDA(sentence, alpha_sr=0.0, alpha_ri=0.0, alpha_rs=0.5, p_rd=0.5, num_aug=13)\n",
        "  id_list=['p'+str(df105['AI_id'][n]), 'p'+str(df105['AI_id'][n]), 'p'+str(df105['AI_id'][n]), 'p'+str(df105['AI_id'][n]),'p'+str(df105['AI_id'][n]), 'p'+str(df105['AI_id'][n]), 'p'+str(df105['AI_id'][n]), 'p'+str(df105['AI_id'][n]),'p'+str(df105['AI_id'][n]),'p'+str(df105['AI_id'][n]), 'p'+str(df105['AI_id'][n]), 'p'+str(df105['AI_id'][n]), 'p'+str(df105['AI_id'][n]),'p'+str(df105['AI_id'][n])]\n",
        "  digit_1_list=[df105['digit_1'][n], df105['digit_1'][n], df105['digit_1'][n], df105['digit_1'][n],df105['digit_1'][n], df105['digit_1'][n], df105['digit_1'][n], df105['digit_1'][n],df105['digit_1'][n], df105['digit_1'][n], df105['digit_1'][n], df105['digit_1'][n], df105['digit_1'][n],df105['digit_1'][n]]\n",
        "  digit_2_list=[df105['digit_2'][n], df105['digit_2'][n], df105['digit_2'][n], df105['digit_2'][n],df105['digit_2'][n], df105['digit_2'][n], df105['digit_2'][n], df105['digit_2'][n],df105['digit_2'][n],df105['digit_2'][n], df105['digit_2'][n], df105['digit_2'][n], df105['digit_2'][n],df105['digit_2'][n]]\n",
        "  digit_3_list=[df105['digit_3'][n], df105['digit_3'][n], df105['digit_3'][n], df105['digit_3'][n],df105['digit_3'][n], df105['digit_3'][n], df105['digit_3'][n], df105['digit_3'][n],df105['digit_3'][n],df105['digit_3'][n], df105['digit_3'][n], df105['digit_3'][n], df105['digit_3'][n],df105['digit_3'][n]]\n",
        "  data_to_insert={'AI_id' : id_list, 'digit_1' : digit_1_list, 'digit_2' : digit_2_list, 'digit_3': digit_3_list, 'text' : result_list}\n",
        "  df105_to_insert = pd.DataFrame(data_to_insert)\n",
        "  df105= df105.append(df105_to_insert, ignore_index=True)\n",
        "  n=n+1"
      ],
      "metadata": {
        "id": "r4MMLPqYQ3WH"
      },
      "execution_count": null,
      "outputs": []
    },
    {
      "cell_type": "code",
      "source": [
        "df105['digit_3'].value_counts()"
      ],
      "metadata": {
        "colab": {
          "base_uri": "https://localhost:8080/"
        },
        "id": "KnJkHTlTQ3Ye",
        "outputId": "5cd4566f-a8fc-4cad-e2db-ada34f85e4e9"
      },
      "execution_count": null,
      "outputs": [
        {
          "output_type": "execute_result",
          "data": {
            "text/plain": [
              "221    12045\n",
              "104    11535\n",
              "233    11370\n",
              "311    10980\n",
              "101    10935\n",
              "264    10770\n",
              "232    10050\n",
              "202     9870\n",
              "Name: digit_3, dtype: int64"
            ]
          },
          "metadata": {},
          "execution_count": 23
        }
      ]
    },
    {
      "cell_type": "code",
      "source": [
        "temp_result=[]\n",
        "n=0\n",
        "id_list=[]\n",
        "digit_1_list=[]\n",
        "digit_2_list=[]\n",
        "digit_3_list=[]\n",
        "\n",
        "for sentence in df106['text']:\n",
        "  result_list=EDA(sentence, alpha_sr=0.0, alpha_ri=0.0, alpha_rs=0.5, p_rd=0.5, num_aug=18)\n",
        "  id_list=['p'+str(df106['AI_id'][n]), 'p'+str(df106['AI_id'][n]), 'p'+str(df106['AI_id'][n]), 'p'+str(df106['AI_id'][n]),'p'+str(df106['AI_id'][n]),'p'+str(df106['AI_id'][n]), 'p'+str(df106['AI_id'][n]), 'p'+str(df106['AI_id'][n]), 'p'+str(df106['AI_id'][n]),'p'+str(df106['AI_id'][n]), 'p'+str(df106['AI_id'][n]), 'p'+str(df106['AI_id'][n]), 'p'+str(df106['AI_id'][n]),'p'+str(df106['AI_id'][n]),'p'+str(df106['AI_id'][n]), 'p'+str(df106['AI_id'][n]), 'p'+str(df106['AI_id'][n]), 'p'+str(df106['AI_id'][n]),'p'+str(df106['AI_id'][n])]\n",
        "  digit_1_list=[df106['digit_1'][n], df106['digit_1'][n], df106['digit_1'][n], df106['digit_1'][n],df106['digit_1'][n],df106['digit_1'][n], df106['digit_1'][n], df106['digit_1'][n], df106['digit_1'][n],df106['digit_1'][n], df106['digit_1'][n], df106['digit_1'][n], df106['digit_1'][n],df106['digit_1'][n], df106['digit_1'][n], df106['digit_1'][n], df106['digit_1'][n], df106['digit_1'][n],df106['digit_1'][n]]\n",
        "  digit_2_list=[df106['digit_2'][n], df106['digit_2'][n], df106['digit_2'][n], df106['digit_2'][n],df106['digit_2'][n],df106['digit_2'][n], df106['digit_2'][n], df106['digit_2'][n], df106['digit_2'][n],df106['digit_2'][n], df106['digit_2'][n], df106['digit_2'][n], df106['digit_2'][n],df106['digit_2'][n],df106['digit_2'][n], df106['digit_2'][n], df106['digit_2'][n], df106['digit_2'][n],df106['digit_2'][n]]\n",
        "  digit_3_list=[df106['digit_3'][n], df106['digit_3'][n], df106['digit_3'][n], df106['digit_3'][n],df106['digit_3'][n],df106['digit_3'][n], df106['digit_3'][n], df106['digit_3'][n], df106['digit_3'][n],df106['digit_3'][n], df106['digit_3'][n], df106['digit_3'][n], df106['digit_3'][n],df106['digit_3'][n],df106['digit_3'][n], df106['digit_3'][n], df106['digit_3'][n], df106['digit_3'][n],df106['digit_3'][n]]\n",
        "  data_to_insert={'AI_id' : id_list, 'digit_1' : digit_1_list, 'digit_2' : digit_2_list, 'digit_3': digit_3_list, 'text' : result_list}\n",
        "  df106_to_insert = pd.DataFrame(data_to_insert)\n",
        "  df106= df106.append(df106_to_insert, ignore_index=True)\n",
        "  n=n+1"
      ],
      "metadata": {
        "id": "ssc1nq8LQ3aq"
      },
      "execution_count": null,
      "outputs": []
    },
    {
      "cell_type": "code",
      "source": [
        "df106['digit_3'].value_counts()"
      ],
      "metadata": {
        "colab": {
          "base_uri": "https://localhost:8080/"
        },
        "id": "lGDZ_oaBQ0l5",
        "outputId": "dac6faaf-43ac-4bc9-ac3c-8a992a10e832"
      },
      "execution_count": null,
      "outputs": [
        {
          "output_type": "execute_result",
          "data": {
            "text/plain": [
              "144    12520\n",
              "331    12100\n",
              "285    11600\n",
              "179    11040\n",
              "242    10660\n",
              "231    10460\n",
              "Name: digit_3, dtype: int64"
            ]
          },
          "metadata": {},
          "execution_count": 25
        }
      ]
    },
    {
      "cell_type": "code",
      "source": [
        "temp_result=[]\n",
        "n=0\n",
        "id_list=[]\n",
        "digit_1_list=[]\n",
        "digit_2_list=[]\n",
        "digit_3_list=[]\n",
        "\n",
        "for sentence in df107['text']:\n",
        "  result_list=EDA(sentence, alpha_sr=0.1, alpha_ri=0.1, alpha_rs=0.4, p_rd=0.4, num_aug=28)\n",
        "  id_list=['p'+str(df107['AI_id'][n]), 'p'+str(df107['AI_id'][n]), 'p'+str(df107['AI_id'][n]), 'p'+str(df107['AI_id'][n]),'p'+str(df107['AI_id'][n]),'p'+str(df107['AI_id'][n]), 'p'+str(df107['AI_id'][n]), 'p'+str(df107['AI_id'][n]), 'p'+str(df107['AI_id'][n]),'p'+str(df107['AI_id'][n]),'p'+str(df107['AI_id'][n]), 'p'+str(df107['AI_id'][n]), 'p'+str(df107['AI_id'][n]), 'p'+str(df107['AI_id'][n]),'p'+str(df107['AI_id'][n]),'p'+str(df107['AI_id'][n]), 'p'+str(df107['AI_id'][n]), 'p'+str(df107['AI_id'][n]), 'p'+str(df107['AI_id'][n]),'p'+str(df107['AI_id'][n]), 'p'+str(df107['AI_id'][n]), 'p'+str(df107['AI_id'][n]), 'p'+str(df107['AI_id'][n]),'p'+str(df107['AI_id'][n]),'p'+str(df107['AI_id'][n]), 'p'+str(df107['AI_id'][n]), 'p'+str(df107['AI_id'][n]), 'p'+str(df107['AI_id'][n]),'p'+str(df107['AI_id'][n])]\n",
        "  digit_1_list=[df107['digit_1'][n], df107['digit_1'][n], df107['digit_1'][n], df107['digit_1'][n],df107['digit_1'][n],df107['digit_1'][n], df107['digit_1'][n], df107['digit_1'][n], df107['digit_1'][n],df107['digit_1'][n],df107['digit_1'][n], df107['digit_1'][n], df107['digit_1'][n], df107['digit_1'][n],df107['digit_1'][n],df107['digit_1'][n], df107['digit_1'][n], df107['digit_1'][n], df107['digit_1'][n],df107['digit_1'][n], df107['digit_1'][n], df107['digit_1'][n], df107['digit_1'][n],df107['digit_1'][n], df107['digit_1'][n], df107['digit_1'][n], df107['digit_1'][n], df107['digit_1'][n],df107['digit_1'][n]]\n",
        "  digit_2_list=[df107['digit_2'][n], df107['digit_2'][n], df107['digit_2'][n], df107['digit_2'][n],df107['digit_2'][n],df107['digit_2'][n], df107['digit_2'][n], df107['digit_2'][n], df107['digit_2'][n],df107['digit_2'][n],df107['digit_2'][n], df107['digit_2'][n], df107['digit_2'][n], df107['digit_2'][n],df107['digit_2'][n],df107['digit_2'][n], df107['digit_2'][n], df107['digit_2'][n], df107['digit_2'][n],df107['digit_2'][n], df107['digit_2'][n], df107['digit_2'][n], df107['digit_2'][n],df107['digit_2'][n],df107['digit_2'][n], df107['digit_2'][n], df107['digit_2'][n], df107['digit_2'][n],df107['digit_2'][n]]\n",
        "  digit_3_list=[df107['digit_3'][n], df107['digit_3'][n], df107['digit_3'][n], df107['digit_3'][n],df107['digit_3'][n],df107['digit_3'][n], df107['digit_3'][n], df107['digit_3'][n], df107['digit_3'][n],df107['digit_3'][n],df107['digit_3'][n], df107['digit_3'][n], df107['digit_3'][n], df107['digit_3'][n],df107['digit_3'][n],df107['digit_3'][n], df107['digit_3'][n], df107['digit_3'][n], df107['digit_3'][n],df107['digit_3'][n], df107['digit_3'][n], df107['digit_3'][n], df107['digit_3'][n],df107['digit_3'][n],df107['digit_3'][n], df107['digit_3'][n], df107['digit_3'][n], df107['digit_3'][n],df107['digit_3'][n]]\n",
        "  data_to_insert={'AI_id' : id_list, 'digit_1' : digit_1_list, 'digit_2' : digit_2_list, 'digit_3': digit_3_list, 'text' : result_list}\n",
        "  df107_to_insert = pd.DataFrame(data_to_insert)\n",
        "  df107= df107.append(df107_to_insert, ignore_index=True)\n",
        "  n=n+1"
      ],
      "metadata": {
        "id": "eELBj0AWQ0oP"
      },
      "execution_count": null,
      "outputs": []
    },
    {
      "cell_type": "code",
      "source": [
        "temp_result=[]\n",
        "n=0\n",
        "id_list=[]\n",
        "digit_1_list=[]\n",
        "digit_2_list=[]\n",
        "digit_3_list=[]\n",
        "\n",
        "for sentence in df108['text']:\n",
        "  result_list=EDA(sentence, alpha_sr=0.1, alpha_ri=0.1, alpha_rs=0.4, p_rd=0.4, num_aug=28)\n",
        "  id_list=['p'+str(df108['AI_id'][n]), 'p'+str(df108['AI_id'][n]), 'p'+str(df108['AI_id'][n]), 'p'+str(df108['AI_id'][n]),'p'+str(df108['AI_id'][n]),'p'+str(df108['AI_id'][n]), 'p'+str(df108['AI_id'][n]), 'p'+str(df108['AI_id'][n]), 'p'+str(df108['AI_id'][n]),'p'+str(df108['AI_id'][n]),'p'+str(df108['AI_id'][n]), 'p'+str(df108['AI_id'][n]), 'p'+str(df108['AI_id'][n]), 'p'+str(df108['AI_id'][n]),'p'+str(df108['AI_id'][n]),'p'+str(df108['AI_id'][n]), 'p'+str(df108['AI_id'][n]), 'p'+str(df108['AI_id'][n]), 'p'+str(df108['AI_id'][n]),'p'+str(df108['AI_id'][n]), 'p'+str(df108['AI_id'][n]), 'p'+str(df108['AI_id'][n]), 'p'+str(df108['AI_id'][n]),'p'+str(df108['AI_id'][n]),'p'+str(df108['AI_id'][n]), 'p'+str(df108['AI_id'][n]), 'p'+str(df108['AI_id'][n]), 'p'+str(df108['AI_id'][n]),'p'+str(df108['AI_id'][n])]\n",
        "  digit_1_list=[df108['digit_1'][n], df108['digit_1'][n], df108['digit_1'][n], df108['digit_1'][n],df108['digit_1'][n],df108['digit_1'][n], df108['digit_1'][n], df108['digit_1'][n], df108['digit_1'][n],df108['digit_1'][n],df108['digit_1'][n], df108['digit_1'][n], df108['digit_1'][n], df108['digit_1'][n],df108['digit_1'][n],df108['digit_1'][n], df108['digit_1'][n], df108['digit_1'][n], df108['digit_1'][n],df108['digit_1'][n], df108['digit_1'][n], df108['digit_1'][n], df108['digit_1'][n],df108['digit_1'][n], df108['digit_1'][n], df108['digit_1'][n], df108['digit_1'][n], df108['digit_1'][n],df108['digit_1'][n]]\n",
        "  digit_2_list=[df108['digit_2'][n], df108['digit_2'][n], df108['digit_2'][n], df108['digit_2'][n],df108['digit_2'][n],df108['digit_2'][n], df108['digit_2'][n], df108['digit_2'][n], df108['digit_2'][n],df108['digit_2'][n],df108['digit_2'][n], df108['digit_2'][n], df108['digit_2'][n], df108['digit_2'][n],df108['digit_2'][n],df108['digit_2'][n], df108['digit_2'][n], df108['digit_2'][n], df108['digit_2'][n],df108['digit_2'][n], df108['digit_2'][n], df108['digit_2'][n], df108['digit_2'][n],df108['digit_2'][n],df108['digit_2'][n], df108['digit_2'][n], df108['digit_2'][n], df108['digit_2'][n],df108['digit_2'][n]]\n",
        "  digit_3_list=[df108['digit_3'][n], df108['digit_3'][n], df108['digit_3'][n], df108['digit_3'][n],df108['digit_3'][n],df108['digit_3'][n], df108['digit_3'][n], df108['digit_3'][n], df108['digit_3'][n],df108['digit_3'][n],df108['digit_3'][n], df108['digit_3'][n], df108['digit_3'][n], df108['digit_3'][n],df108['digit_3'][n],df108['digit_3'][n], df108['digit_3'][n], df108['digit_3'][n], df108['digit_3'][n],df108['digit_3'][n], df108['digit_3'][n], df108['digit_3'][n], df108['digit_3'][n],df108['digit_3'][n],df108['digit_3'][n], df108['digit_3'][n], df108['digit_3'][n], df108['digit_3'][n],df108['digit_3'][n]]\n",
        "  data_to_insert={'AI_id' : id_list, 'digit_1' : digit_1_list, 'digit_2' : digit_2_list, 'digit_3': digit_3_list, 'text' : result_list}\n",
        "  df108_to_insert = pd.DataFrame(data_to_insert)\n",
        "  df108= df108.append(df108_to_insert, ignore_index=True)\n",
        "  n=n+1"
      ],
      "metadata": {
        "id": "gFx4tVICT-JO"
      },
      "execution_count": null,
      "outputs": []
    },
    {
      "cell_type": "code",
      "source": [
        "df107['digit_3'].value_counts()"
      ],
      "metadata": {
        "colab": {
          "base_uri": "https://localhost:8080/"
        },
        "id": "s_k3yBHBT-Li",
        "outputId": "3ff7a87c-b37b-4eda-8594-b1e90add5a42"
      },
      "execution_count": null,
      "outputs": [
        {
          "output_type": "execute_result",
          "data": {
            "text/plain": [
              "152    15420\n",
              "131    14220\n",
              "Name: digit_3, dtype: int64"
            ]
          },
          "metadata": {},
          "execution_count": 28
        }
      ]
    },
    {
      "cell_type": "code",
      "source": [
        "df108['digit_3'].value_counts()"
      ],
      "metadata": {
        "colab": {
          "base_uri": "https://localhost:8080/"
        },
        "id": "HucaOVKmT-Nw",
        "outputId": "914bb15f-bb18-47ce-cf20-085e00b4a877"
      },
      "execution_count": null,
      "outputs": [
        {
          "output_type": "execute_result",
          "data": {
            "text/plain": [
              "283    12360\n",
              "243    12090\n",
              "261    11730\n",
              "289    10620\n",
              "201    10140\n",
              "161    10050\n",
              "203    10020\n",
              "302     9690\n",
              "Name: digit_3, dtype: int64"
            ]
          },
          "metadata": {},
          "execution_count": 29
        }
      ]
    },
    {
      "cell_type": "code",
      "source": [
        "temp_result=[]\n",
        "n=0\n",
        "id_list=[]\n",
        "digit_1_list=[]\n",
        "digit_2_list=[]\n",
        "digit_3_list=[]\n",
        "\n",
        "for sentence in df109['text']:\n",
        "  result_list=EDA(sentence, alpha_sr=0.1, alpha_ri=0.1, alpha_rs=0.4, p_rd=0.4, num_aug=38)\n",
        "  id_list=['p'+str(df109['AI_id'][n]), 'p'+str(df109['AI_id'][n]), 'p'+str(df109['AI_id'][n]), 'p'+str(df109['AI_id'][n]),'p'+str(df109['AI_id'][n]),'p'+str(df109['AI_id'][n]), 'p'+str(df109['AI_id'][n]), 'p'+str(df109['AI_id'][n]), 'p'+str(df109['AI_id'][n]),'p'+str(df109['AI_id'][n]),'p'+str(df109['AI_id'][n]), 'p'+str(df109['AI_id'][n]), 'p'+str(df109['AI_id'][n]), 'p'+str(df109['AI_id'][n]),'p'+str(df109['AI_id'][n]),'p'+str(df109['AI_id'][n]), 'p'+str(df109['AI_id'][n]), 'p'+str(df109['AI_id'][n]), 'p'+str(df109['AI_id'][n]),'p'+str(df109['AI_id'][n]),'p'+str(df109['AI_id'][n]), 'p'+str(df109['AI_id'][n]), 'p'+str(df109['AI_id'][n]), 'p'+str(df109['AI_id'][n]),'p'+str(df109['AI_id'][n]),'p'+str(df109['AI_id'][n]), 'p'+str(df109['AI_id'][n]), 'p'+str(df109['AI_id'][n]), 'p'+str(df109['AI_id'][n]),'p'+str(df109['AI_id'][n]), 'p'+str(df109['AI_id'][n]), 'p'+str(df109['AI_id'][n]), 'p'+str(df109['AI_id'][n]),'p'+str(df109['AI_id'][n]),'p'+str(df109['AI_id'][n]), 'p'+str(df109['AI_id'][n]), 'p'+str(df109['AI_id'][n]), 'p'+str(df109['AI_id'][n]),'p'+str(df109['AI_id'][n])]\n",
        "  digit_1_list=[df109['digit_1'][n], df109['digit_1'][n], df109['digit_1'][n], df109['digit_1'][n],df109['digit_1'][n],df109['digit_1'][n], df109['digit_1'][n], df109['digit_1'][n], df109['digit_1'][n],df109['digit_1'][n],df109['digit_1'][n], df109['digit_1'][n], df109['digit_1'][n], df109['digit_1'][n],df109['digit_1'][n],df109['digit_1'][n], df109['digit_1'][n], df109['digit_1'][n], df109['digit_1'][n],df109['digit_1'][n],df109['digit_1'][n], df109['digit_1'][n], df109['digit_1'][n], df109['digit_1'][n],df109['digit_1'][n],df109['digit_1'][n], df109['digit_1'][n], df109['digit_1'][n], df109['digit_1'][n],df109['digit_1'][n], df109['digit_1'][n], df109['digit_1'][n], df109['digit_1'][n],df109['digit_1'][n], df109['digit_1'][n], df109['digit_1'][n], df109['digit_1'][n], df109['digit_1'][n],df109['digit_1'][n]]\n",
        "  digit_2_list=[df109['digit_2'][n], df109['digit_2'][n], df109['digit_2'][n], df109['digit_2'][n],df109['digit_2'][n],df109['digit_2'][n], df109['digit_2'][n], df109['digit_2'][n], df109['digit_2'][n],df109['digit_2'][n],df109['digit_2'][n], df109['digit_2'][n], df109['digit_2'][n], df109['digit_2'][n],df109['digit_2'][n],df109['digit_2'][n], df109['digit_2'][n], df109['digit_2'][n], df109['digit_2'][n],df109['digit_2'][n],df109['digit_2'][n], df109['digit_2'][n], df109['digit_2'][n], df109['digit_2'][n],df109['digit_2'][n],df109['digit_2'][n], df109['digit_2'][n], df109['digit_2'][n], df109['digit_2'][n],df109['digit_2'][n], df109['digit_2'][n], df109['digit_2'][n], df109['digit_2'][n],df109['digit_2'][n],df109['digit_2'][n], df109['digit_2'][n], df109['digit_2'][n], df109['digit_2'][n],df109['digit_2'][n]]\n",
        "  digit_3_list=[df109['digit_3'][n], df109['digit_3'][n], df109['digit_3'][n], df109['digit_3'][n],df109['digit_3'][n],df109['digit_3'][n], df109['digit_3'][n], df109['digit_3'][n], df109['digit_3'][n],df109['digit_3'][n],df109['digit_3'][n], df109['digit_3'][n], df109['digit_3'][n], df109['digit_3'][n],df109['digit_3'][n],df109['digit_3'][n], df109['digit_3'][n], df109['digit_3'][n], df109['digit_3'][n],df109['digit_3'][n],df109['digit_3'][n], df109['digit_3'][n], df109['digit_3'][n], df109['digit_3'][n],df109['digit_3'][n],df109['digit_3'][n], df109['digit_3'][n], df109['digit_3'][n], df109['digit_3'][n],df109['digit_3'][n], df109['digit_3'][n], df109['digit_3'][n], df109['digit_3'][n],df109['digit_3'][n],df109['digit_3'][n], df109['digit_3'][n], df109['digit_3'][n], df109['digit_3'][n],df109['digit_3'][n]]\n",
        "  data_to_insert={'AI_id' : id_list, 'digit_1' : digit_1_list, 'digit_2' : digit_2_list, 'digit_3': digit_3_list, 'text' : result_list}\n",
        "  df109_to_insert = pd.DataFrame(data_to_insert)\n",
        "  df109= df109.append(df109_to_insert, ignore_index=True)\n",
        "  n=n+1"
      ],
      "metadata": {
        "id": "bfMLtwAfQ0q3"
      },
      "execution_count": null,
      "outputs": []
    },
    {
      "cell_type": "code",
      "source": [
        "df109['digit_3'].value_counts()"
      ],
      "metadata": {
        "colab": {
          "base_uri": "https://localhost:8080/"
        },
        "id": "0d4RV8UxV8Cm",
        "outputId": "0b86cf8b-fadc-4d58-b76c-2c1abaaa5c13"
      },
      "execution_count": null,
      "outputs": [
        {
          "output_type": "execute_result",
          "data": {
            "text/plain": [
              "143    12160\n",
              "333    11800\n",
              "108    11400\n",
              "263    11360\n",
              "Name: digit_3, dtype: int64"
            ]
          },
          "metadata": {},
          "execution_count": 31
        }
      ]
    },
    {
      "cell_type": "code",
      "source": [
        "temp_result=[]\n",
        "n=0\n",
        "id_list=[]\n",
        "digit_1_list=[]\n",
        "digit_2_list=[]\n",
        "digit_3_list=[]\n",
        "\n",
        "for sentence in df110['text']:\n",
        "  result_list=EDA(sentence, alpha_sr=0.1, alpha_ri=0.1, alpha_rs=0.4, p_rd=0.4, num_aug=48)\n",
        "  id_list=['p'+str(df110['AI_id'][n]), 'p'+str(df110['AI_id'][n]), 'p'+str(df110['AI_id'][n]), 'p'+str(df110['AI_id'][n]),'p'+str(df110['AI_id'][n]),'p'+str(df110['AI_id'][n]), 'p'+str(df110['AI_id'][n]), 'p'+str(df110['AI_id'][n]), 'p'+str(df110['AI_id'][n]),'p'+str(df110['AI_id'][n]),'p'+str(df110['AI_id'][n]), 'p'+str(df110['AI_id'][n]), 'p'+str(df110['AI_id'][n]), 'p'+str(df110['AI_id'][n]),'p'+str(df110['AI_id'][n]),'p'+str(df110['AI_id'][n]), 'p'+str(df110['AI_id'][n]), 'p'+str(df110['AI_id'][n]), 'p'+str(df110['AI_id'][n]),'p'+str(df110['AI_id'][n]),'p'+str(df110['AI_id'][n]), 'p'+str(df110['AI_id'][n]), 'p'+str(df110['AI_id'][n]), 'p'+str(df110['AI_id'][n]),'p'+str(df110['AI_id'][n]),'p'+str(df110['AI_id'][n]), 'p'+str(df110['AI_id'][n]), 'p'+str(df110['AI_id'][n]), 'p'+str(df110['AI_id'][n]),'p'+str(df110['AI_id'][n]),'p'+str(df110['AI_id'][n]), 'p'+str(df110['AI_id'][n]), 'p'+str(df110['AI_id'][n]), 'p'+str(df110['AI_id'][n]),'p'+str(df110['AI_id'][n]),'p'+str(df110['AI_id'][n]), 'p'+str(df110['AI_id'][n]), 'p'+str(df110['AI_id'][n]), 'p'+str(df110['AI_id'][n]),'p'+str(df110['AI_id'][n]), 'p'+str(df110['AI_id'][n]), 'p'+str(df110['AI_id'][n]), 'p'+str(df110['AI_id'][n]),'p'+str(df110['AI_id'][n]),'p'+str(df110['AI_id'][n]), 'p'+str(df110['AI_id'][n]), 'p'+str(df110['AI_id'][n]), 'p'+str(df110['AI_id'][n]),'p'+str(df110['AI_id'][n])]\n",
        "  digit_1_list=[df110['digit_1'][n], df110['digit_1'][n], df110['digit_1'][n], df110['digit_1'][n],df110['digit_1'][n],df110['digit_1'][n], df110['digit_1'][n], df110['digit_1'][n], df110['digit_1'][n],df110['digit_1'][n],df110['digit_1'][n], df110['digit_1'][n], df110['digit_1'][n], df110['digit_1'][n],df110['digit_1'][n],df110['digit_1'][n], df110['digit_1'][n], df110['digit_1'][n], df110['digit_1'][n],df110['digit_1'][n],df110['digit_1'][n], df110['digit_1'][n], df110['digit_1'][n], df110['digit_1'][n],df110['digit_1'][n],df110['digit_1'][n], df110['digit_1'][n], df110['digit_1'][n], df110['digit_1'][n],df110['digit_1'][n],df110['digit_1'][n], df110['digit_1'][n], df110['digit_1'][n], df110['digit_1'][n],df110['digit_1'][n],df110['digit_1'][n], df110['digit_1'][n], df110['digit_1'][n], df110['digit_1'][n],df110['digit_1'][n], df110['digit_1'][n], df110['digit_1'][n], df110['digit_1'][n],df110['digit_1'][n], df110['digit_1'][n], df110['digit_1'][n], df110['digit_1'][n], df110['digit_1'][n],df110['digit_1'][n]]\n",
        "  digit_2_list=[df110['digit_2'][n], df110['digit_2'][n], df110['digit_2'][n], df110['digit_2'][n],df110['digit_2'][n],df110['digit_2'][n], df110['digit_2'][n], df110['digit_2'][n], df110['digit_2'][n],df110['digit_2'][n],df110['digit_2'][n], df110['digit_2'][n], df110['digit_2'][n], df110['digit_2'][n],df110['digit_2'][n],df110['digit_2'][n], df110['digit_2'][n], df110['digit_2'][n], df110['digit_2'][n],df110['digit_2'][n],df110['digit_2'][n], df110['digit_2'][n], df110['digit_2'][n], df110['digit_2'][n],df110['digit_2'][n],df110['digit_2'][n], df110['digit_2'][n], df110['digit_2'][n], df110['digit_2'][n],df110['digit_2'][n],df110['digit_2'][n], df110['digit_2'][n], df110['digit_2'][n], df110['digit_2'][n],df110['digit_2'][n],df110['digit_2'][n], df110['digit_2'][n], df110['digit_2'][n], df110['digit_2'][n],df110['digit_2'][n], df110['digit_2'][n], df110['digit_2'][n], df110['digit_2'][n],df110['digit_2'][n],df110['digit_2'][n], df110['digit_2'][n], df110['digit_2'][n], df110['digit_2'][n],df110['digit_2'][n]]\n",
        "  digit_3_list=[df110['digit_3'][n], df110['digit_3'][n], df110['digit_3'][n], df110['digit_3'][n],df110['digit_3'][n],df110['digit_3'][n], df110['digit_3'][n], df110['digit_3'][n], df110['digit_3'][n],df110['digit_3'][n],df110['digit_3'][n], df110['digit_3'][n], df110['digit_3'][n], df110['digit_3'][n],df110['digit_3'][n],df110['digit_3'][n], df110['digit_3'][n], df110['digit_3'][n], df110['digit_3'][n],df110['digit_3'][n],df110['digit_3'][n], df110['digit_3'][n], df110['digit_3'][n], df110['digit_3'][n],df110['digit_3'][n],df110['digit_3'][n], df110['digit_3'][n], df110['digit_3'][n], df110['digit_3'][n],df110['digit_3'][n],df110['digit_3'][n], df110['digit_3'][n], df110['digit_3'][n], df110['digit_3'][n],df110['digit_3'][n],df110['digit_3'][n], df110['digit_3'][n], df110['digit_3'][n], df110['digit_3'][n],df110['digit_3'][n], df110['digit_3'][n], df110['digit_3'][n], df110['digit_3'][n],df110['digit_3'][n],df110['digit_3'][n], df110['digit_3'][n], df110['digit_3'][n], df110['digit_3'][n],df110['digit_3'][n]]\n",
        "  data_to_insert={'AI_id' : id_list, 'digit_1' : digit_1_list, 'digit_2' : digit_2_list, 'digit_3': digit_3_list, 'text' : result_list}\n",
        "  df110_to_insert = pd.DataFrame(data_to_insert)\n",
        "  df110= df110.append(df110_to_insert, ignore_index=True)\n",
        "  n=n+1"
      ],
      "metadata": {
        "id": "wxOw9huJV8HQ"
      },
      "execution_count": null,
      "outputs": []
    },
    {
      "cell_type": "code",
      "source": [
        "df110['digit_3'].value_counts()"
      ],
      "metadata": {
        "colab": {
          "base_uri": "https://localhost:8080/"
        },
        "id": "t1uTyIbxWs9D",
        "outputId": "446795b6-a299-435f-f0e3-ce33a47a5e39"
      },
      "execution_count": null,
      "outputs": [
        {
          "output_type": "execute_result",
          "data": {
            "text/plain": [
              "111    12500\n",
              "265    11950\n",
              "133    10850\n",
              "Name: digit_3, dtype: int64"
            ]
          },
          "metadata": {},
          "execution_count": 33
        }
      ]
    },
    {
      "cell_type": "code",
      "source": [
        "temp_result=[]\n",
        "n=0\n",
        "id_list=[]\n",
        "digit_1_list=[]\n",
        "digit_2_list=[]\n",
        "digit_3_list=[]\n",
        "\n",
        "for sentence in df111['text']:\n",
        "  result_list=EDA(sentence, alpha_sr=0.1, alpha_ri=0.1, alpha_rs=0.4, p_rd=0.4, num_aug=58)\n",
        "  id_list=['p'+str(df111['AI_id'][n]), 'p'+str(df111['AI_id'][n]), 'p'+str(df111['AI_id'][n]), 'p'+str(df111['AI_id'][n]),'p'+str(df111['AI_id'][n]),'p'+str(df111['AI_id'][n]), 'p'+str(df111['AI_id'][n]), 'p'+str(df111['AI_id'][n]), 'p'+str(df111['AI_id'][n]),'p'+str(df111['AI_id'][n]),'p'+str(df111['AI_id'][n]), 'p'+str(df111['AI_id'][n]), 'p'+str(df111['AI_id'][n]), 'p'+str(df111['AI_id'][n]),'p'+str(df111['AI_id'][n]),'p'+str(df111['AI_id'][n]), 'p'+str(df111['AI_id'][n]), 'p'+str(df111['AI_id'][n]), 'p'+str(df111['AI_id'][n]),'p'+str(df111['AI_id'][n]),'p'+str(df111['AI_id'][n]), 'p'+str(df111['AI_id'][n]), 'p'+str(df111['AI_id'][n]), 'p'+str(df111['AI_id'][n]),'p'+str(df111['AI_id'][n]),'p'+str(df111['AI_id'][n]), 'p'+str(df111['AI_id'][n]), 'p'+str(df111['AI_id'][n]), 'p'+str(df111['AI_id'][n]),'p'+str(df111['AI_id'][n]),'p'+str(df111['AI_id'][n]), 'p'+str(df111['AI_id'][n]), 'p'+str(df111['AI_id'][n]), 'p'+str(df111['AI_id'][n]),'p'+str(df111['AI_id'][n]),'p'+str(df111['AI_id'][n]), 'p'+str(df111['AI_id'][n]), 'p'+str(df111['AI_id'][n]), 'p'+str(df111['AI_id'][n]),'p'+str(df111['AI_id'][n]),'p'+str(df111['AI_id'][n]), 'p'+str(df111['AI_id'][n]), 'p'+str(df111['AI_id'][n]), 'p'+str(df111['AI_id'][n]),'p'+str(df111['AI_id'][n]),'p'+str(df111['AI_id'][n]), 'p'+str(df111['AI_id'][n]), 'p'+str(df111['AI_id'][n]), 'p'+str(df111['AI_id'][n]),'p'+str(df111['AI_id'][n]), 'p'+str(df111['AI_id'][n]), 'p'+str(df111['AI_id'][n]), 'p'+str(df111['AI_id'][n]),'p'+str(df111['AI_id'][n]),'p'+str(df111['AI_id'][n]), 'p'+str(df111['AI_id'][n]), 'p'+str(df111['AI_id'][n]), 'p'+str(df111['AI_id'][n]),'p'+str(df111['AI_id'][n])]\n",
        "  digit_1_list=[df111['digit_1'][n], df111['digit_1'][n], df111['digit_1'][n], df111['digit_1'][n],df111['digit_1'][n],df111['digit_1'][n], df111['digit_1'][n], df111['digit_1'][n], df111['digit_1'][n],df111['digit_1'][n],df111['digit_1'][n], df111['digit_1'][n], df111['digit_1'][n], df111['digit_1'][n],df111['digit_1'][n],df111['digit_1'][n], df111['digit_1'][n], df111['digit_1'][n], df111['digit_1'][n],df111['digit_1'][n],df111['digit_1'][n], df111['digit_1'][n], df111['digit_1'][n], df111['digit_1'][n],df111['digit_1'][n],df111['digit_1'][n], df111['digit_1'][n], df111['digit_1'][n], df111['digit_1'][n],df111['digit_1'][n],df111['digit_1'][n], df111['digit_1'][n], df111['digit_1'][n], df111['digit_1'][n],df111['digit_1'][n],df111['digit_1'][n], df111['digit_1'][n], df111['digit_1'][n], df111['digit_1'][n],df111['digit_1'][n],df111['digit_1'][n], df111['digit_1'][n], df111['digit_1'][n], df111['digit_1'][n],df111['digit_1'][n],df111['digit_1'][n], df111['digit_1'][n], df111['digit_1'][n], df111['digit_1'][n],df111['digit_1'][n], df111['digit_1'][n], df111['digit_1'][n], df111['digit_1'][n],df111['digit_1'][n], df111['digit_1'][n], df111['digit_1'][n], df111['digit_1'][n], df111['digit_1'][n],df111['digit_1'][n]]\n",
        "  digit_2_list=[df111['digit_2'][n], df111['digit_2'][n], df111['digit_2'][n], df111['digit_2'][n],df111['digit_2'][n],df111['digit_2'][n], df111['digit_2'][n], df111['digit_2'][n], df111['digit_2'][n],df111['digit_2'][n],df111['digit_2'][n], df111['digit_2'][n], df111['digit_2'][n], df111['digit_2'][n],df111['digit_2'][n],df111['digit_2'][n], df111['digit_2'][n], df111['digit_2'][n], df111['digit_2'][n],df111['digit_2'][n],df111['digit_2'][n], df111['digit_2'][n], df111['digit_2'][n], df111['digit_2'][n],df111['digit_2'][n],df111['digit_2'][n], df111['digit_2'][n], df111['digit_2'][n], df111['digit_2'][n],df111['digit_2'][n],df111['digit_2'][n], df111['digit_2'][n], df111['digit_2'][n], df111['digit_2'][n],df111['digit_2'][n],df111['digit_2'][n], df111['digit_2'][n], df111['digit_2'][n], df111['digit_2'][n],df111['digit_2'][n],df111['digit_2'][n], df111['digit_2'][n], df111['digit_2'][n], df111['digit_2'][n],df111['digit_2'][n],df111['digit_2'][n], df111['digit_2'][n], df111['digit_2'][n], df111['digit_2'][n],df111['digit_2'][n], df111['digit_2'][n], df111['digit_2'][n], df111['digit_2'][n],df111['digit_2'][n],df111['digit_2'][n], df111['digit_2'][n], df111['digit_2'][n], df111['digit_2'][n],df111['digit_2'][n]]\n",
        "  digit_3_list=[df111['digit_3'][n], df111['digit_3'][n], df111['digit_3'][n], df111['digit_3'][n],df111['digit_3'][n],df111['digit_3'][n], df111['digit_3'][n], df111['digit_3'][n], df111['digit_3'][n],df111['digit_3'][n],df111['digit_3'][n], df111['digit_3'][n], df111['digit_3'][n], df111['digit_3'][n],df111['digit_3'][n],df111['digit_3'][n], df111['digit_3'][n], df111['digit_3'][n], df111['digit_3'][n],df111['digit_3'][n],df111['digit_3'][n], df111['digit_3'][n], df111['digit_3'][n], df111['digit_3'][n],df111['digit_3'][n],df111['digit_3'][n], df111['digit_3'][n], df111['digit_3'][n], df111['digit_3'][n],df111['digit_3'][n],df111['digit_3'][n], df111['digit_3'][n], df111['digit_3'][n], df111['digit_3'][n],df111['digit_3'][n],df111['digit_3'][n], df111['digit_3'][n], df111['digit_3'][n], df111['digit_3'][n],df111['digit_3'][n],df111['digit_3'][n], df111['digit_3'][n], df111['digit_3'][n], df111['digit_3'][n],df111['digit_3'][n],df111['digit_3'][n], df111['digit_3'][n], df111['digit_3'][n], df111['digit_3'][n],df111['digit_3'][n], df111['digit_3'][n], df111['digit_3'][n], df111['digit_3'][n],df111['digit_3'][n],df111['digit_3'][n], df111['digit_3'][n], df111['digit_3'][n], df111['digit_3'][n],df111['digit_3'][n]]\n",
        "  data_to_insert={'AI_id' : id_list, 'digit_1' : digit_1_list, 'digit_2' : digit_2_list, 'digit_3': digit_3_list, 'text' : result_list}\n",
        "  df111_to_insert = pd.DataFrame(data_to_insert)\n",
        "  df111= df111.append(df111_to_insert, ignore_index=True)\n",
        "  n=n+1"
      ],
      "metadata": {
        "id": "S7Llmm7tWs_h"
      },
      "execution_count": null,
      "outputs": []
    },
    {
      "cell_type": "code",
      "source": [
        "df111['digit_3'].value_counts()"
      ],
      "metadata": {
        "colab": {
          "base_uri": "https://localhost:8080/"
        },
        "id": "p8UwFrd9WtB6",
        "outputId": "6a4e550e-3890-403e-fe31-48df7235abab"
      },
      "execution_count": null,
      "outputs": [
        {
          "output_type": "execute_result",
          "data": {
            "text/plain": [
              "334    12720\n",
              "171    12360\n",
              "Name: digit_3, dtype: int64"
            ]
          },
          "metadata": {},
          "execution_count": 35
        }
      ]
    },
    {
      "cell_type": "code",
      "source": [
        "temp_result=[]\n",
        "n=0\n",
        "id_list=[]\n",
        "digit_1_list=[]\n",
        "digit_2_list=[]\n",
        "digit_3_list=[]\n",
        "\n",
        "for sentence in df112['text']:\n",
        "  result_list=EDA(sentence, alpha_sr=0.1, alpha_ri=0.1, alpha_rs=0.4, p_rd=0.4, num_aug=68)\n",
        "  id_list=['p'+str(df112['AI_id'][n]), 'p'+str(df112['AI_id'][n]), 'p'+str(df112['AI_id'][n]), 'p'+str(df112['AI_id'][n]), 'p'+str(df112['AI_id'][n]), 'p'+str(df112['AI_id'][n]), 'p'+str(df112['AI_id'][n]), 'p'+str(df112['AI_id'][n]), 'p'+str(df112['AI_id'][n]), 'p'+str(df112['AI_id'][n]), 'p'+str(df112['AI_id'][n]), 'p'+str(df112['AI_id'][n]), 'p'+str(df112['AI_id'][n]), 'p'+str(df112['AI_id'][n]),'p'+str(df112['AI_id'][n]),'p'+str(df112['AI_id'][n]), 'p'+str(df112['AI_id'][n]), 'p'+str(df112['AI_id'][n]), 'p'+str(df112['AI_id'][n]),'p'+str(df112['AI_id'][n]),'p'+str(df112['AI_id'][n]), 'p'+str(df112['AI_id'][n]), 'p'+str(df112['AI_id'][n]), 'p'+str(df112['AI_id'][n]),'p'+str(df112['AI_id'][n]),'p'+str(df112['AI_id'][n]), 'p'+str(df112['AI_id'][n]), 'p'+str(df112['AI_id'][n]), 'p'+str(df112['AI_id'][n]),'p'+str(df112['AI_id'][n]),'p'+str(df112['AI_id'][n]), 'p'+str(df112['AI_id'][n]), 'p'+str(df112['AI_id'][n]), 'p'+str(df112['AI_id'][n]),'p'+str(df112['AI_id'][n]),'p'+str(df112['AI_id'][n]), 'p'+str(df112['AI_id'][n]), 'p'+str(df112['AI_id'][n]), 'p'+str(df112['AI_id'][n]),'p'+str(df112['AI_id'][n]),'p'+str(df112['AI_id'][n]), 'p'+str(df112['AI_id'][n]), 'p'+str(df112['AI_id'][n]), 'p'+str(df112['AI_id'][n]),'p'+str(df112['AI_id'][n]),'p'+str(df112['AI_id'][n]), 'p'+str(df112['AI_id'][n]), 'p'+str(df112['AI_id'][n]), 'p'+str(df112['AI_id'][n]),'p'+str(df112['AI_id'][n]),'p'+str(df112['AI_id'][n]), 'p'+str(df112['AI_id'][n]), 'p'+str(df112['AI_id'][n]), 'p'+str(df112['AI_id'][n]),'p'+str(df112['AI_id'][n]),'p'+str(df112['AI_id'][n]), 'p'+str(df112['AI_id'][n]), 'p'+str(df112['AI_id'][n]), 'p'+str(df112['AI_id'][n]),'p'+str(df112['AI_id'][n]), 'p'+str(df112['AI_id'][n]), 'p'+str(df112['AI_id'][n]), 'p'+str(df112['AI_id'][n]),'p'+str(df112['AI_id'][n]),'p'+str(df112['AI_id'][n]), 'p'+str(df112['AI_id'][n]), 'p'+str(df112['AI_id'][n]), 'p'+str(df112['AI_id'][n]),'p'+str(df112['AI_id'][n])]\n",
        "  digit_1_list=[df112['digit_1'][n], df112['digit_1'][n], df112['digit_1'][n], df112['digit_1'][n], df112['digit_1'][n], df112['digit_1'][n], df112['digit_1'][n], df112['digit_1'][n], df112['digit_1'][n], df112['digit_1'][n], df112['digit_1'][n], df112['digit_1'][n], df112['digit_1'][n], df112['digit_1'][n],df112['digit_1'][n],df112['digit_1'][n], df112['digit_1'][n], df112['digit_1'][n], df112['digit_1'][n],df112['digit_1'][n],df112['digit_1'][n], df112['digit_1'][n], df112['digit_1'][n], df112['digit_1'][n],df112['digit_1'][n],df112['digit_1'][n], df112['digit_1'][n], df112['digit_1'][n], df112['digit_1'][n],df112['digit_1'][n],df112['digit_1'][n], df112['digit_1'][n], df112['digit_1'][n], df112['digit_1'][n],df112['digit_1'][n],df112['digit_1'][n], df112['digit_1'][n], df112['digit_1'][n], df112['digit_1'][n],df112['digit_1'][n],df112['digit_1'][n], df112['digit_1'][n], df112['digit_1'][n], df112['digit_1'][n],df112['digit_1'][n],df112['digit_1'][n], df112['digit_1'][n], df112['digit_1'][n], df112['digit_1'][n],df112['digit_1'][n],df112['digit_1'][n], df112['digit_1'][n], df112['digit_1'][n], df112['digit_1'][n],df112['digit_1'][n],df112['digit_1'][n], df112['digit_1'][n], df112['digit_1'][n], df112['digit_1'][n],df112['digit_1'][n], df112['digit_1'][n], df112['digit_1'][n], df112['digit_1'][n],df112['digit_1'][n], df112['digit_1'][n], df112['digit_1'][n], df112['digit_1'][n], df112['digit_1'][n],df112['digit_1'][n]]\n",
        "  digit_2_list=[df112['digit_2'][n], df112['digit_2'][n], df112['digit_2'][n], df112['digit_2'][n], df112['digit_2'][n], df112['digit_2'][n], df112['digit_2'][n], df112['digit_2'][n], df112['digit_2'][n], df112['digit_2'][n], df112['digit_2'][n], df112['digit_2'][n], df112['digit_2'][n], df112['digit_2'][n],df112['digit_2'][n],df112['digit_2'][n], df112['digit_2'][n], df112['digit_2'][n], df112['digit_2'][n],df112['digit_2'][n],df112['digit_2'][n], df112['digit_2'][n], df112['digit_2'][n], df112['digit_2'][n],df112['digit_2'][n],df112['digit_2'][n], df112['digit_2'][n], df112['digit_2'][n], df112['digit_2'][n],df112['digit_2'][n],df112['digit_2'][n], df112['digit_2'][n], df112['digit_2'][n], df112['digit_2'][n],df112['digit_2'][n],df112['digit_2'][n], df112['digit_2'][n], df112['digit_2'][n], df112['digit_2'][n],df112['digit_2'][n],df112['digit_2'][n], df112['digit_2'][n], df112['digit_2'][n], df112['digit_2'][n],df112['digit_2'][n],df112['digit_2'][n], df112['digit_2'][n], df112['digit_2'][n], df112['digit_2'][n],df112['digit_2'][n],df112['digit_2'][n], df112['digit_2'][n], df112['digit_2'][n], df112['digit_2'][n],df112['digit_2'][n],df112['digit_2'][n], df112['digit_2'][n], df112['digit_2'][n], df112['digit_2'][n],df112['digit_2'][n], df112['digit_2'][n], df112['digit_2'][n], df112['digit_2'][n],df112['digit_2'][n],df112['digit_2'][n], df112['digit_2'][n], df112['digit_2'][n], df112['digit_2'][n],df112['digit_2'][n]]\n",
        "  digit_3_list=[df112['digit_3'][n], df112['digit_3'][n], df112['digit_3'][n], df112['digit_3'][n], df112['digit_3'][n], df112['digit_3'][n], df112['digit_3'][n], df112['digit_3'][n], df112['digit_3'][n], df112['digit_3'][n], df112['digit_3'][n], df112['digit_3'][n], df112['digit_3'][n], df112['digit_3'][n],df112['digit_3'][n],df112['digit_3'][n], df112['digit_3'][n], df112['digit_3'][n], df112['digit_3'][n],df112['digit_3'][n],df112['digit_3'][n], df112['digit_3'][n], df112['digit_3'][n], df112['digit_3'][n],df112['digit_3'][n],df112['digit_3'][n], df112['digit_3'][n], df112['digit_3'][n], df112['digit_3'][n],df112['digit_3'][n],df112['digit_3'][n], df112['digit_3'][n], df112['digit_3'][n], df112['digit_3'][n],df112['digit_3'][n],df112['digit_3'][n], df112['digit_3'][n], df112['digit_3'][n], df112['digit_3'][n],df112['digit_3'][n],df112['digit_3'][n], df112['digit_3'][n], df112['digit_3'][n], df112['digit_3'][n],df112['digit_3'][n],df112['digit_3'][n], df112['digit_3'][n], df112['digit_3'][n], df112['digit_3'][n],df112['digit_3'][n],df112['digit_3'][n], df112['digit_3'][n], df112['digit_3'][n], df112['digit_3'][n],df112['digit_3'][n],df112['digit_3'][n], df112['digit_3'][n], df112['digit_3'][n], df112['digit_3'][n],df112['digit_3'][n], df112['digit_3'][n], df112['digit_3'][n], df112['digit_3'][n],df112['digit_3'][n],df112['digit_3'][n], df112['digit_3'][n], df112['digit_3'][n], df112['digit_3'][n],df112['digit_3'][n]]\n",
        "  data_to_insert={'AI_id' : id_list, 'digit_1' : digit_1_list, 'digit_2' : digit_2_list, 'digit_3': digit_3_list, 'text' : result_list}\n",
        "  df112_to_insert = pd.DataFrame(data_to_insert)\n",
        "  df112= df112.append(df112_to_insert, ignore_index=True)\n",
        "  n=n+1"
      ],
      "metadata": {
        "id": "HQ6VdlQrWtEb"
      },
      "execution_count": null,
      "outputs": []
    },
    {
      "cell_type": "code",
      "source": [
        "df112['digit_3'].value_counts()"
      ],
      "metadata": {
        "colab": {
          "base_uri": "https://localhost:8080/"
        },
        "id": "uFDYoVpZV8Jv",
        "outputId": "72ccf687-0fa1-43c5-a155-ab4ed6fdd83e"
      },
      "execution_count": null,
      "outputs": [
        {
          "output_type": "execute_result",
          "data": {
            "text/plain": [
              "273    11900\n",
              "Name: digit_3, dtype: int64"
            ]
          },
          "metadata": {},
          "execution_count": 37
        }
      ]
    },
    {
      "cell_type": "code",
      "source": [
        "temp_result=[]\n",
        "n=0\n",
        "id_list=[]\n",
        "digit_1_list=[]\n",
        "digit_2_list=[]\n",
        "digit_3_list=[]\n",
        "\n",
        "for sentence in df113['text']:\n",
        "  result_list=EDA(sentence, alpha_sr=0.1, alpha_ri=0.1, alpha_rs=0.4, p_rd=0.4, num_aug=78)\n",
        "  id_list=['p'+str(df113['AI_id'][n]), 'p'+str(df113['AI_id'][n]), 'p'+str(df113['AI_id'][n]), 'p'+str(df113['AI_id'][n]), 'p'+str(df113['AI_id'][n]), 'p'+str(df113['AI_id'][n]), 'p'+str(df113['AI_id'][n]), 'p'+str(df113['AI_id'][n]), 'p'+str(df113['AI_id'][n]), 'p'+str(df113['AI_id'][n]), 'p'+str(df113['AI_id'][n]), 'p'+str(df113['AI_id'][n]), 'p'+str(df113['AI_id'][n]), 'p'+str(df113['AI_id'][n]), 'p'+str(df113['AI_id'][n]), 'p'+str(df113['AI_id'][n]), 'p'+str(df113['AI_id'][n]), 'p'+str(df113['AI_id'][n]), 'p'+str(df113['AI_id'][n]), 'p'+str(df113['AI_id'][n]), 'p'+str(df113['AI_id'][n]), 'p'+str(df113['AI_id'][n]), 'p'+str(df113['AI_id'][n]), 'p'+str(df113['AI_id'][n]),'p'+str(df113['AI_id'][n]),'p'+str(df113['AI_id'][n]), 'p'+str(df113['AI_id'][n]), 'p'+str(df113['AI_id'][n]), 'p'+str(df113['AI_id'][n]),'p'+str(df113['AI_id'][n]),'p'+str(df113['AI_id'][n]), 'p'+str(df113['AI_id'][n]), 'p'+str(df113['AI_id'][n]), 'p'+str(df113['AI_id'][n]),'p'+str(df113['AI_id'][n]),'p'+str(df113['AI_id'][n]), 'p'+str(df113['AI_id'][n]), 'p'+str(df113['AI_id'][n]), 'p'+str(df113['AI_id'][n]),'p'+str(df113['AI_id'][n]),'p'+str(df113['AI_id'][n]), 'p'+str(df113['AI_id'][n]), 'p'+str(df113['AI_id'][n]), 'p'+str(df113['AI_id'][n]),'p'+str(df113['AI_id'][n]),'p'+str(df113['AI_id'][n]), 'p'+str(df113['AI_id'][n]), 'p'+str(df113['AI_id'][n]), 'p'+str(df113['AI_id'][n]),'p'+str(df113['AI_id'][n]),'p'+str(df113['AI_id'][n]), 'p'+str(df113['AI_id'][n]), 'p'+str(df113['AI_id'][n]), 'p'+str(df113['AI_id'][n]),'p'+str(df113['AI_id'][n]),'p'+str(df113['AI_id'][n]), 'p'+str(df113['AI_id'][n]), 'p'+str(df113['AI_id'][n]), 'p'+str(df113['AI_id'][n]),'p'+str(df113['AI_id'][n]),'p'+str(df113['AI_id'][n]), 'p'+str(df113['AI_id'][n]), 'p'+str(df113['AI_id'][n]), 'p'+str(df113['AI_id'][n]),'p'+str(df113['AI_id'][n]),'p'+str(df113['AI_id'][n]), 'p'+str(df113['AI_id'][n]), 'p'+str(df113['AI_id'][n]), 'p'+str(df113['AI_id'][n]),'p'+str(df113['AI_id'][n]), 'p'+str(df113['AI_id'][n]), 'p'+str(df113['AI_id'][n]), 'p'+str(df113['AI_id'][n]),'p'+str(df113['AI_id'][n]),'p'+str(df113['AI_id'][n]), 'p'+str(df113['AI_id'][n]), 'p'+str(df113['AI_id'][n]), 'p'+str(df113['AI_id'][n]),'p'+str(df113['AI_id'][n])]\n",
        "  digit_1_list=[df113['digit_1'][n], df113['digit_1'][n], df113['digit_1'][n], df113['digit_1'][n], df113['digit_1'][n], df113['digit_1'][n], df113['digit_1'][n], df113['digit_1'][n], df113['digit_1'][n], df113['digit_1'][n], df113['digit_1'][n], df113['digit_1'][n], df113['digit_1'][n], df113['digit_1'][n], df113['digit_1'][n], df113['digit_1'][n], df113['digit_1'][n], df113['digit_1'][n], df113['digit_1'][n], df113['digit_1'][n], df113['digit_1'][n], df113['digit_1'][n], df113['digit_1'][n], df113['digit_1'][n],df113['digit_1'][n],df113['digit_1'][n], df113['digit_1'][n], df113['digit_1'][n], df113['digit_1'][n],df113['digit_1'][n],df113['digit_1'][n], df113['digit_1'][n], df113['digit_1'][n], df113['digit_1'][n],df113['digit_1'][n],df113['digit_1'][n], df113['digit_1'][n], df113['digit_1'][n], df113['digit_1'][n],df113['digit_1'][n],df113['digit_1'][n], df113['digit_1'][n], df113['digit_1'][n], df113['digit_1'][n],df113['digit_1'][n],df113['digit_1'][n], df113['digit_1'][n], df113['digit_1'][n], df113['digit_1'][n],df113['digit_1'][n],df113['digit_1'][n], df113['digit_1'][n], df113['digit_1'][n], df113['digit_1'][n],df113['digit_1'][n],df113['digit_1'][n], df113['digit_1'][n], df113['digit_1'][n], df113['digit_1'][n],df113['digit_1'][n],df113['digit_1'][n], df113['digit_1'][n], df113['digit_1'][n], df113['digit_1'][n],df113['digit_1'][n],df113['digit_1'][n], df113['digit_1'][n], df113['digit_1'][n], df113['digit_1'][n],df113['digit_1'][n], df113['digit_1'][n], df113['digit_1'][n], df113['digit_1'][n],df113['digit_1'][n], df113['digit_1'][n], df113['digit_1'][n], df113['digit_1'][n], df113['digit_1'][n],df113['digit_1'][n]]\n",
        "  digit_2_list=[df113['digit_2'][n], df113['digit_2'][n], df113['digit_2'][n], df113['digit_2'][n], df113['digit_2'][n], df113['digit_2'][n], df113['digit_2'][n], df113['digit_2'][n], df113['digit_2'][n], df113['digit_2'][n], df113['digit_2'][n], df113['digit_2'][n], df113['digit_2'][n], df113['digit_2'][n], df113['digit_2'][n], df113['digit_2'][n], df113['digit_2'][n], df113['digit_2'][n], df113['digit_2'][n], df113['digit_2'][n], df113['digit_2'][n], df113['digit_2'][n], df113['digit_2'][n], df113['digit_2'][n],df113['digit_2'][n],df113['digit_2'][n], df113['digit_2'][n], df113['digit_2'][n], df113['digit_2'][n],df113['digit_2'][n],df113['digit_2'][n], df113['digit_2'][n], df113['digit_2'][n], df113['digit_2'][n],df113['digit_2'][n],df113['digit_2'][n], df113['digit_2'][n], df113['digit_2'][n], df113['digit_2'][n],df113['digit_2'][n],df113['digit_2'][n], df113['digit_2'][n], df113['digit_2'][n], df113['digit_2'][n],df113['digit_2'][n],df113['digit_2'][n], df113['digit_2'][n], df113['digit_2'][n], df113['digit_2'][n],df113['digit_2'][n],df113['digit_2'][n], df113['digit_2'][n], df113['digit_2'][n], df113['digit_2'][n],df113['digit_2'][n],df113['digit_2'][n], df113['digit_2'][n], df113['digit_2'][n], df113['digit_2'][n],df113['digit_2'][n],df113['digit_2'][n], df113['digit_2'][n], df113['digit_2'][n], df113['digit_2'][n],df113['digit_2'][n],df113['digit_2'][n], df113['digit_2'][n], df113['digit_2'][n], df113['digit_2'][n],df113['digit_2'][n], df113['digit_2'][n], df113['digit_2'][n], df113['digit_2'][n],df113['digit_2'][n],df113['digit_2'][n], df113['digit_2'][n], df113['digit_2'][n], df113['digit_2'][n],df113['digit_2'][n]]\n",
        "  digit_3_list=[df113['digit_3'][n], df113['digit_3'][n], df113['digit_3'][n], df113['digit_3'][n], df113['digit_3'][n], df113['digit_3'][n], df113['digit_3'][n], df113['digit_3'][n], df113['digit_3'][n], df113['digit_3'][n], df113['digit_3'][n], df113['digit_3'][n], df113['digit_3'][n], df113['digit_3'][n], df113['digit_3'][n], df113['digit_3'][n], df113['digit_3'][n], df113['digit_3'][n], df113['digit_3'][n], df113['digit_3'][n], df113['digit_3'][n], df113['digit_3'][n], df113['digit_3'][n], df113['digit_3'][n],df113['digit_3'][n],df113['digit_3'][n], df113['digit_3'][n], df113['digit_3'][n], df113['digit_3'][n],df113['digit_3'][n],df113['digit_3'][n], df113['digit_3'][n], df113['digit_3'][n], df113['digit_3'][n],df113['digit_3'][n],df113['digit_3'][n], df113['digit_3'][n], df113['digit_3'][n], df113['digit_3'][n],df113['digit_3'][n],df113['digit_3'][n], df113['digit_3'][n], df113['digit_3'][n], df113['digit_3'][n],df113['digit_3'][n],df113['digit_3'][n], df113['digit_3'][n], df113['digit_3'][n], df113['digit_3'][n],df113['digit_3'][n],df113['digit_3'][n], df113['digit_3'][n], df113['digit_3'][n], df113['digit_3'][n],df113['digit_3'][n],df113['digit_3'][n], df113['digit_3'][n], df113['digit_3'][n], df113['digit_3'][n],df113['digit_3'][n],df113['digit_3'][n], df113['digit_3'][n], df113['digit_3'][n], df113['digit_3'][n],df113['digit_3'][n],df113['digit_3'][n], df113['digit_3'][n], df113['digit_3'][n], df113['digit_3'][n],df113['digit_3'][n], df113['digit_3'][n], df113['digit_3'][n], df113['digit_3'][n],df113['digit_3'][n],df113['digit_3'][n], df113['digit_3'][n], df113['digit_3'][n], df113['digit_3'][n],df113['digit_3'][n]]\n",
        "  data_to_insert={'AI_id' : id_list, 'digit_1' : digit_1_list, 'digit_2' : digit_2_list, 'digit_3': digit_3_list, 'text' : result_list}\n",
        "  df113_to_insert = pd.DataFrame(data_to_insert)\n",
        "  df113= df113.append(df113_to_insert, ignore_index=True)\n",
        "  n=n+1"
      ],
      "metadata": {
        "id": "6A18lLJMQ0tU"
      },
      "execution_count": null,
      "outputs": []
    },
    {
      "cell_type": "code",
      "source": [
        "df113['digit_3'].value_counts()"
      ],
      "metadata": {
        "colab": {
          "base_uri": "https://localhost:8080/"
        },
        "id": "eaiSCGcdY2nX",
        "outputId": "ecf1a29d-841d-41e6-8542-c704f57a4222"
      },
      "execution_count": null,
      "outputs": [
        {
          "output_type": "execute_result",
          "data": {
            "text/plain": [
              "212    12480\n",
              "Name: digit_3, dtype: int64"
            ]
          },
          "metadata": {},
          "execution_count": 39
        }
      ]
    },
    {
      "cell_type": "code",
      "source": [
        "temp_result=[]\n",
        "n=0\n",
        "id_list=[]\n",
        "digit_1_list=[]\n",
        "digit_2_list=[]\n",
        "digit_3_list=[]\n",
        "\n",
        "for sentence in df114['text']:\n",
        "  result_list=EDA(sentence, alpha_sr=0.1, alpha_ri=0.1, alpha_rs=0.4, p_rd=0.4, num_aug=88)\n",
        "  id_list=['p'+str(df114['AI_id'][n]), 'p'+str(df114['AI_id'][n]), 'p'+str(df114['AI_id'][n]), 'p'+str(df114['AI_id'][n]), 'p'+str(df114['AI_id'][n]),'p'+str(df114['AI_id'][n]), 'p'+str(df114['AI_id'][n]), 'p'+str(df114['AI_id'][n]), 'p'+str(df114['AI_id'][n]), 'p'+str(df114['AI_id'][n]),'p'+str(df114['AI_id'][n]), 'p'+str(df114['AI_id'][n]), 'p'+str(df114['AI_id'][n]), 'p'+str(df114['AI_id'][n]), 'p'+str(df114['AI_id'][n]), 'p'+str(df114['AI_id'][n]), 'p'+str(df114['AI_id'][n]), 'p'+str(df114['AI_id'][n]), 'p'+str(df114['AI_id'][n]), 'p'+str(df114['AI_id'][n]), 'p'+str(df114['AI_id'][n]), 'p'+str(df114['AI_id'][n]), 'p'+str(df114['AI_id'][n]), 'p'+str(df114['AI_id'][n]), 'p'+str(df114['AI_id'][n]), 'p'+str(df114['AI_id'][n]), 'p'+str(df114['AI_id'][n]), 'p'+str(df114['AI_id'][n]), 'p'+str(df114['AI_id'][n]), 'p'+str(df114['AI_id'][n]), 'p'+str(df114['AI_id'][n]), 'p'+str(df114['AI_id'][n]), 'p'+str(df114['AI_id'][n]), 'p'+str(df114['AI_id'][n]),'p'+str(df114['AI_id'][n]),'p'+str(df114['AI_id'][n]), 'p'+str(df114['AI_id'][n]), 'p'+str(df114['AI_id'][n]), 'p'+str(df114['AI_id'][n]),'p'+str(df114['AI_id'][n]),'p'+str(df114['AI_id'][n]), 'p'+str(df114['AI_id'][n]), 'p'+str(df114['AI_id'][n]), 'p'+str(df114['AI_id'][n]),'p'+str(df114['AI_id'][n]),'p'+str(df114['AI_id'][n]), 'p'+str(df114['AI_id'][n]), 'p'+str(df114['AI_id'][n]), 'p'+str(df114['AI_id'][n]),'p'+str(df114['AI_id'][n]),'p'+str(df114['AI_id'][n]), 'p'+str(df114['AI_id'][n]), 'p'+str(df114['AI_id'][n]), 'p'+str(df114['AI_id'][n]),'p'+str(df114['AI_id'][n]),'p'+str(df114['AI_id'][n]), 'p'+str(df114['AI_id'][n]), 'p'+str(df114['AI_id'][n]), 'p'+str(df114['AI_id'][n]),'p'+str(df114['AI_id'][n]),'p'+str(df114['AI_id'][n]), 'p'+str(df114['AI_id'][n]), 'p'+str(df114['AI_id'][n]), 'p'+str(df114['AI_id'][n]),'p'+str(df114['AI_id'][n]),'p'+str(df114['AI_id'][n]), 'p'+str(df114['AI_id'][n]), 'p'+str(df114['AI_id'][n]), 'p'+str(df114['AI_id'][n]),'p'+str(df114['AI_id'][n]),'p'+str(df114['AI_id'][n]), 'p'+str(df114['AI_id'][n]), 'p'+str(df114['AI_id'][n]), 'p'+str(df114['AI_id'][n]),'p'+str(df114['AI_id'][n]),'p'+str(df114['AI_id'][n]), 'p'+str(df114['AI_id'][n]), 'p'+str(df114['AI_id'][n]), 'p'+str(df114['AI_id'][n]),'p'+str(df114['AI_id'][n]), 'p'+str(df114['AI_id'][n]), 'p'+str(df114['AI_id'][n]), 'p'+str(df114['AI_id'][n]),'p'+str(df114['AI_id'][n]),'p'+str(df114['AI_id'][n]), 'p'+str(df114['AI_id'][n]), 'p'+str(df114['AI_id'][n]), 'p'+str(df114['AI_id'][n]),'p'+str(df114['AI_id'][n])]\n",
        "  digit_1_list=[df114['digit_1'][n], df114['digit_1'][n], df114['digit_1'][n], df114['digit_1'][n], df114['digit_1'][n],df114['digit_1'][n], df114['digit_1'][n], df114['digit_1'][n], df114['digit_1'][n], df114['digit_1'][n],df114['digit_1'][n], df114['digit_1'][n], df114['digit_1'][n], df114['digit_1'][n], df114['digit_1'][n], df114['digit_1'][n], df114['digit_1'][n], df114['digit_1'][n], df114['digit_1'][n], df114['digit_1'][n], df114['digit_1'][n], df114['digit_1'][n], df114['digit_1'][n], df114['digit_1'][n], df114['digit_1'][n], df114['digit_1'][n], df114['digit_1'][n], df114['digit_1'][n], df114['digit_1'][n], df114['digit_1'][n], df114['digit_1'][n], df114['digit_1'][n], df114['digit_1'][n], df114['digit_1'][n],df114['digit_1'][n],df114['digit_1'][n], df114['digit_1'][n], df114['digit_1'][n], df114['digit_1'][n],df114['digit_1'][n],df114['digit_1'][n], df114['digit_1'][n], df114['digit_1'][n], df114['digit_1'][n],df114['digit_1'][n],df114['digit_1'][n], df114['digit_1'][n], df114['digit_1'][n], df114['digit_1'][n],df114['digit_1'][n],df114['digit_1'][n], df114['digit_1'][n], df114['digit_1'][n], df114['digit_1'][n],df114['digit_1'][n],df114['digit_1'][n], df114['digit_1'][n], df114['digit_1'][n], df114['digit_1'][n],df114['digit_1'][n],df114['digit_1'][n], df114['digit_1'][n], df114['digit_1'][n], df114['digit_1'][n],df114['digit_1'][n],df114['digit_1'][n], df114['digit_1'][n], df114['digit_1'][n], df114['digit_1'][n],df114['digit_1'][n],df114['digit_1'][n], df114['digit_1'][n], df114['digit_1'][n], df114['digit_1'][n],df114['digit_1'][n],df114['digit_1'][n], df114['digit_1'][n], df114['digit_1'][n], df114['digit_1'][n],df114['digit_1'][n], df114['digit_1'][n], df114['digit_1'][n], df114['digit_1'][n],df114['digit_1'][n], df114['digit_1'][n], df114['digit_1'][n], df114['digit_1'][n], df114['digit_1'][n],df114['digit_1'][n]]\n",
        "  digit_2_list=[df114['digit_2'][n], df114['digit_2'][n], df114['digit_2'][n], df114['digit_2'][n], df114['digit_2'][n],df114['digit_2'][n], df114['digit_2'][n], df114['digit_2'][n], df114['digit_2'][n], df114['digit_2'][n],df114['digit_2'][n], df114['digit_2'][n], df114['digit_2'][n], df114['digit_2'][n], df114['digit_2'][n], df114['digit_2'][n], df114['digit_2'][n], df114['digit_2'][n], df114['digit_2'][n], df114['digit_2'][n], df114['digit_2'][n], df114['digit_2'][n], df114['digit_2'][n], df114['digit_2'][n], df114['digit_2'][n], df114['digit_2'][n], df114['digit_2'][n], df114['digit_2'][n], df114['digit_2'][n], df114['digit_2'][n], df114['digit_2'][n], df114['digit_2'][n], df114['digit_2'][n], df114['digit_2'][n],df114['digit_2'][n],df114['digit_2'][n], df114['digit_2'][n], df114['digit_2'][n], df114['digit_2'][n],df114['digit_2'][n],df114['digit_2'][n], df114['digit_2'][n], df114['digit_2'][n], df114['digit_2'][n],df114['digit_2'][n],df114['digit_2'][n], df114['digit_2'][n], df114['digit_2'][n], df114['digit_2'][n],df114['digit_2'][n],df114['digit_2'][n], df114['digit_2'][n], df114['digit_2'][n], df114['digit_2'][n],df114['digit_2'][n],df114['digit_2'][n], df114['digit_2'][n], df114['digit_2'][n], df114['digit_2'][n],df114['digit_2'][n],df114['digit_2'][n], df114['digit_2'][n], df114['digit_2'][n], df114['digit_2'][n],df114['digit_2'][n],df114['digit_2'][n], df114['digit_2'][n], df114['digit_2'][n], df114['digit_2'][n],df114['digit_2'][n],df114['digit_2'][n], df114['digit_2'][n], df114['digit_2'][n], df114['digit_2'][n],df114['digit_2'][n],df114['digit_2'][n], df114['digit_2'][n], df114['digit_2'][n], df114['digit_2'][n],df114['digit_2'][n], df114['digit_2'][n], df114['digit_2'][n], df114['digit_2'][n],df114['digit_2'][n],df114['digit_2'][n], df114['digit_2'][n], df114['digit_2'][n], df114['digit_2'][n],df114['digit_2'][n]]\n",
        "  digit_3_list=[df114['digit_3'][n], df114['digit_3'][n], df114['digit_3'][n], df114['digit_3'][n], df114['digit_3'][n],df114['digit_3'][n], df114['digit_3'][n], df114['digit_3'][n], df114['digit_3'][n], df114['digit_3'][n],df114['digit_3'][n], df114['digit_3'][n], df114['digit_3'][n], df114['digit_3'][n], df114['digit_3'][n], df114['digit_3'][n], df114['digit_3'][n], df114['digit_3'][n], df114['digit_3'][n], df114['digit_3'][n], df114['digit_3'][n], df114['digit_3'][n], df114['digit_3'][n], df114['digit_3'][n], df114['digit_3'][n], df114['digit_3'][n], df114['digit_3'][n], df114['digit_3'][n], df114['digit_3'][n], df114['digit_3'][n], df114['digit_3'][n], df114['digit_3'][n], df114['digit_3'][n], df114['digit_3'][n],df114['digit_3'][n],df114['digit_3'][n], df114['digit_3'][n], df114['digit_3'][n], df114['digit_3'][n],df114['digit_3'][n],df114['digit_3'][n], df114['digit_3'][n], df114['digit_3'][n], df114['digit_3'][n],df114['digit_3'][n],df114['digit_3'][n], df114['digit_3'][n], df114['digit_3'][n], df114['digit_3'][n],df114['digit_3'][n],df114['digit_3'][n], df114['digit_3'][n], df114['digit_3'][n], df114['digit_3'][n],df114['digit_3'][n],df114['digit_3'][n], df114['digit_3'][n], df114['digit_3'][n], df114['digit_3'][n],df114['digit_3'][n],df114['digit_3'][n], df114['digit_3'][n], df114['digit_3'][n], df114['digit_3'][n],df114['digit_3'][n],df114['digit_3'][n], df114['digit_3'][n], df114['digit_3'][n], df114['digit_3'][n],df114['digit_3'][n],df114['digit_3'][n], df114['digit_3'][n], df114['digit_3'][n], df114['digit_3'][n],df114['digit_3'][n],df114['digit_3'][n], df114['digit_3'][n], df114['digit_3'][n], df114['digit_3'][n],df114['digit_3'][n], df114['digit_3'][n], df114['digit_3'][n], df114['digit_3'][n],df114['digit_3'][n],df114['digit_3'][n], df114['digit_3'][n], df114['digit_3'][n], df114['digit_3'][n],df114['digit_3'][n]]\n",
        "  data_to_insert={'AI_id' : id_list, 'digit_1' : digit_1_list, 'digit_2' : digit_2_list, 'digit_3': digit_3_list, 'text' : result_list}\n",
        "  df114_to_insert = pd.DataFrame(data_to_insert)\n",
        "  df114= df114.append(df114_to_insert, ignore_index=True)\n",
        "  n=n+1"
      ],
      "metadata": {
        "id": "-RMqanvJY2pq"
      },
      "execution_count": null,
      "outputs": []
    },
    {
      "cell_type": "code",
      "source": [
        "df114['digit_3'].value_counts()"
      ],
      "metadata": {
        "colab": {
          "base_uri": "https://localhost:8080/"
        },
        "id": "smnqgQXYY2sF",
        "outputId": "114cb246-6439-40f0-fadb-a47cec707f82"
      },
      "execution_count": null,
      "outputs": [
        {
          "output_type": "execute_result",
          "data": {
            "text/plain": [
              "112    12330\n",
              "Name: digit_3, dtype: int64"
            ]
          },
          "metadata": {},
          "execution_count": 41
        }
      ]
    },
    {
      "cell_type": "code",
      "source": [
        "temp_result=[]\n",
        "n=0\n",
        "id_list=[]\n",
        "digit_1_list=[]\n",
        "digit_2_list=[]\n",
        "digit_3_list=[]\n",
        "\n",
        "for sentence in df115['text']:\n",
        "  result_list=EDA(sentence, alpha_sr=0.1, alpha_ri=0.1, alpha_rs=0.4, p_rd=0.4, num_aug=98)\n",
        "  id_list=['p'+str(df115['AI_id'][n]), 'p'+str(df115['AI_id'][n]), 'p'+str(df115['AI_id'][n]), 'p'+str(df115['AI_id'][n]), 'p'+str(df115['AI_id'][n]),'p'+str(df115['AI_id'][n]), 'p'+str(df115['AI_id'][n]), 'p'+str(df115['AI_id'][n]), 'p'+str(df115['AI_id'][n]), 'p'+str(df115['AI_id'][n]),'p'+str(df115['AI_id'][n]), 'p'+str(df115['AI_id'][n]), 'p'+str(df115['AI_id'][n]), 'p'+str(df115['AI_id'][n]), 'p'+str(df115['AI_id'][n]),'p'+str(df115['AI_id'][n]), 'p'+str(df115['AI_id'][n]), 'p'+str(df115['AI_id'][n]), 'p'+str(df115['AI_id'][n]), 'p'+str(df115['AI_id'][n]),'p'+str(df115['AI_id'][n]), 'p'+str(df115['AI_id'][n]), 'p'+str(df115['AI_id'][n]), 'p'+str(df115['AI_id'][n]), 'p'+str(df115['AI_id'][n]), 'p'+str(df115['AI_id'][n]), 'p'+str(df115['AI_id'][n]), 'p'+str(df115['AI_id'][n]), 'p'+str(df115['AI_id'][n]), 'p'+str(df115['AI_id'][n]), 'p'+str(df115['AI_id'][n]), 'p'+str(df115['AI_id'][n]), 'p'+str(df115['AI_id'][n]), 'p'+str(df115['AI_id'][n]), 'p'+str(df115['AI_id'][n]), 'p'+str(df115['AI_id'][n]), 'p'+str(df115['AI_id'][n]), 'p'+str(df115['AI_id'][n]), 'p'+str(df115['AI_id'][n]), 'p'+str(df115['AI_id'][n]), 'p'+str(df115['AI_id'][n]), 'p'+str(df115['AI_id'][n]), 'p'+str(df115['AI_id'][n]), 'p'+str(df115['AI_id'][n]),'p'+str(df115['AI_id'][n]),'p'+str(df115['AI_id'][n]), 'p'+str(df115['AI_id'][n]), 'p'+str(df115['AI_id'][n]), 'p'+str(df115['AI_id'][n]),'p'+str(df115['AI_id'][n]),'p'+str(df115['AI_id'][n]), 'p'+str(df115['AI_id'][n]), 'p'+str(df115['AI_id'][n]), 'p'+str(df115['AI_id'][n]),'p'+str(df115['AI_id'][n]),'p'+str(df115['AI_id'][n]), 'p'+str(df115['AI_id'][n]), 'p'+str(df115['AI_id'][n]), 'p'+str(df115['AI_id'][n]),'p'+str(df115['AI_id'][n]),'p'+str(df115['AI_id'][n]), 'p'+str(df115['AI_id'][n]), 'p'+str(df115['AI_id'][n]), 'p'+str(df115['AI_id'][n]),'p'+str(df115['AI_id'][n]),'p'+str(df115['AI_id'][n]), 'p'+str(df115['AI_id'][n]), 'p'+str(df115['AI_id'][n]), 'p'+str(df115['AI_id'][n]),'p'+str(df115['AI_id'][n]),'p'+str(df115['AI_id'][n]), 'p'+str(df115['AI_id'][n]), 'p'+str(df115['AI_id'][n]), 'p'+str(df115['AI_id'][n]),'p'+str(df115['AI_id'][n]),'p'+str(df115['AI_id'][n]), 'p'+str(df115['AI_id'][n]), 'p'+str(df115['AI_id'][n]), 'p'+str(df115['AI_id'][n]),'p'+str(df115['AI_id'][n]),'p'+str(df115['AI_id'][n]), 'p'+str(df115['AI_id'][n]), 'p'+str(df115['AI_id'][n]), 'p'+str(df115['AI_id'][n]),'p'+str(df115['AI_id'][n]),'p'+str(df115['AI_id'][n]), 'p'+str(df115['AI_id'][n]), 'p'+str(df115['AI_id'][n]), 'p'+str(df115['AI_id'][n]),'p'+str(df115['AI_id'][n]), 'p'+str(df115['AI_id'][n]), 'p'+str(df115['AI_id'][n]), 'p'+str(df115['AI_id'][n]),'p'+str(df115['AI_id'][n]),'p'+str(df115['AI_id'][n]), 'p'+str(df115['AI_id'][n]), 'p'+str(df115['AI_id'][n]), 'p'+str(df115['AI_id'][n]),'p'+str(df115['AI_id'][n])]\n",
        "  digit_1_list=[df115['digit_1'][n], df115['digit_1'][n], df115['digit_1'][n], df115['digit_1'][n], df115['digit_1'][n],df115['digit_1'][n], df115['digit_1'][n], df115['digit_1'][n], df115['digit_1'][n], df115['digit_1'][n],df115['digit_1'][n], df115['digit_1'][n], df115['digit_1'][n], df115['digit_1'][n], df115['digit_1'][n],df115['digit_1'][n], df115['digit_1'][n], df115['digit_1'][n], df115['digit_1'][n], df115['digit_1'][n],df115['digit_1'][n], df115['digit_1'][n], df115['digit_1'][n], df115['digit_1'][n], df115['digit_1'][n], df115['digit_1'][n], df115['digit_1'][n], df115['digit_1'][n], df115['digit_1'][n], df115['digit_1'][n], df115['digit_1'][n], df115['digit_1'][n], df115['digit_1'][n], df115['digit_1'][n], df115['digit_1'][n], df115['digit_1'][n], df115['digit_1'][n], df115['digit_1'][n], df115['digit_1'][n], df115['digit_1'][n], df115['digit_1'][n], df115['digit_1'][n], df115['digit_1'][n], df115['digit_1'][n],df115['digit_1'][n],df115['digit_1'][n], df115['digit_1'][n], df115['digit_1'][n], df115['digit_1'][n],df115['digit_1'][n],df115['digit_1'][n], df115['digit_1'][n], df115['digit_1'][n], df115['digit_1'][n],df115['digit_1'][n],df115['digit_1'][n], df115['digit_1'][n], df115['digit_1'][n], df115['digit_1'][n],df115['digit_1'][n],df115['digit_1'][n], df115['digit_1'][n], df115['digit_1'][n], df115['digit_1'][n],df115['digit_1'][n],df115['digit_1'][n], df115['digit_1'][n], df115['digit_1'][n], df115['digit_1'][n],df115['digit_1'][n],df115['digit_1'][n], df115['digit_1'][n], df115['digit_1'][n], df115['digit_1'][n],df115['digit_1'][n],df115['digit_1'][n], df115['digit_1'][n], df115['digit_1'][n], df115['digit_1'][n],df115['digit_1'][n],df115['digit_1'][n], df115['digit_1'][n], df115['digit_1'][n], df115['digit_1'][n],df115['digit_1'][n],df115['digit_1'][n], df115['digit_1'][n], df115['digit_1'][n], df115['digit_1'][n],df115['digit_1'][n], df115['digit_1'][n], df115['digit_1'][n], df115['digit_1'][n],df115['digit_1'][n], df115['digit_1'][n], df115['digit_1'][n], df115['digit_1'][n], df115['digit_1'][n],df115['digit_1'][n]]\n",
        "  digit_2_list=[df115['digit_2'][n], df115['digit_2'][n], df115['digit_2'][n], df115['digit_2'][n], df115['digit_2'][n],df115['digit_2'][n], df115['digit_2'][n], df115['digit_2'][n], df115['digit_2'][n], df115['digit_2'][n],df115['digit_2'][n], df115['digit_2'][n], df115['digit_2'][n], df115['digit_2'][n], df115['digit_2'][n],df115['digit_2'][n], df115['digit_2'][n], df115['digit_2'][n], df115['digit_2'][n], df115['digit_2'][n],df115['digit_2'][n], df115['digit_2'][n], df115['digit_2'][n], df115['digit_2'][n], df115['digit_2'][n], df115['digit_2'][n], df115['digit_2'][n], df115['digit_2'][n], df115['digit_2'][n], df115['digit_2'][n], df115['digit_2'][n], df115['digit_2'][n], df115['digit_2'][n], df115['digit_2'][n], df115['digit_2'][n], df115['digit_2'][n], df115['digit_2'][n], df115['digit_2'][n], df115['digit_2'][n], df115['digit_2'][n], df115['digit_2'][n], df115['digit_2'][n], df115['digit_2'][n], df115['digit_2'][n],df115['digit_2'][n],df115['digit_2'][n], df115['digit_2'][n], df115['digit_2'][n], df115['digit_2'][n],df115['digit_2'][n],df115['digit_2'][n], df115['digit_2'][n], df115['digit_2'][n], df115['digit_2'][n],df115['digit_2'][n],df115['digit_2'][n], df115['digit_2'][n], df115['digit_2'][n], df115['digit_2'][n],df115['digit_2'][n],df115['digit_2'][n], df115['digit_2'][n], df115['digit_2'][n], df115['digit_2'][n],df115['digit_2'][n],df115['digit_2'][n], df115['digit_2'][n], df115['digit_2'][n], df115['digit_2'][n],df115['digit_2'][n],df115['digit_2'][n], df115['digit_2'][n], df115['digit_2'][n], df115['digit_2'][n],df115['digit_2'][n],df115['digit_2'][n], df115['digit_2'][n], df115['digit_2'][n], df115['digit_2'][n],df115['digit_2'][n],df115['digit_2'][n], df115['digit_2'][n], df115['digit_2'][n], df115['digit_2'][n],df115['digit_2'][n],df115['digit_2'][n], df115['digit_2'][n], df115['digit_2'][n], df115['digit_2'][n],df115['digit_2'][n], df115['digit_2'][n], df115['digit_2'][n], df115['digit_2'][n],df115['digit_2'][n],df115['digit_2'][n], df115['digit_2'][n], df115['digit_2'][n], df115['digit_2'][n],df115['digit_2'][n]]\n",
        "  digit_3_list=[df115['digit_3'][n], df115['digit_3'][n], df115['digit_3'][n], df115['digit_3'][n], df115['digit_3'][n],df115['digit_3'][n], df115['digit_3'][n], df115['digit_3'][n], df115['digit_3'][n], df115['digit_3'][n],df115['digit_3'][n], df115['digit_3'][n], df115['digit_3'][n], df115['digit_3'][n], df115['digit_3'][n],df115['digit_3'][n], df115['digit_3'][n], df115['digit_3'][n], df115['digit_3'][n], df115['digit_3'][n],df115['digit_3'][n], df115['digit_3'][n], df115['digit_3'][n], df115['digit_3'][n], df115['digit_3'][n], df115['digit_3'][n], df115['digit_3'][n], df115['digit_3'][n], df115['digit_3'][n], df115['digit_3'][n], df115['digit_3'][n], df115['digit_3'][n], df115['digit_3'][n], df115['digit_3'][n], df115['digit_3'][n], df115['digit_3'][n], df115['digit_3'][n], df115['digit_3'][n], df115['digit_3'][n], df115['digit_3'][n], df115['digit_3'][n], df115['digit_3'][n], df115['digit_3'][n], df115['digit_3'][n],df115['digit_3'][n],df115['digit_3'][n], df115['digit_3'][n], df115['digit_3'][n], df115['digit_3'][n],df115['digit_3'][n],df115['digit_3'][n], df115['digit_3'][n], df115['digit_3'][n], df115['digit_3'][n],df115['digit_3'][n],df115['digit_3'][n], df115['digit_3'][n], df115['digit_3'][n], df115['digit_3'][n],df115['digit_3'][n],df115['digit_3'][n], df115['digit_3'][n], df115['digit_3'][n], df115['digit_3'][n],df115['digit_3'][n],df115['digit_3'][n], df115['digit_3'][n], df115['digit_3'][n], df115['digit_3'][n],df115['digit_3'][n],df115['digit_3'][n], df115['digit_3'][n], df115['digit_3'][n], df115['digit_3'][n],df115['digit_3'][n],df115['digit_3'][n], df115['digit_3'][n], df115['digit_3'][n], df115['digit_3'][n],df115['digit_3'][n],df115['digit_3'][n], df115['digit_3'][n], df115['digit_3'][n], df115['digit_3'][n],df115['digit_3'][n],df115['digit_3'][n], df115['digit_3'][n], df115['digit_3'][n], df115['digit_3'][n],df115['digit_3'][n], df115['digit_3'][n], df115['digit_3'][n], df115['digit_3'][n],df115['digit_3'][n],df115['digit_3'][n], df115['digit_3'][n], df115['digit_3'][n], df115['digit_3'][n],df115['digit_3'][n]]\n",
        "  data_to_insert={'AI_id' : id_list, 'digit_1' : digit_1_list, 'digit_2' : digit_2_list, 'digit_3': digit_3_list, 'text' : result_list}\n",
        "  df115_to_insert = pd.DataFrame(data_to_insert)\n",
        "  df115= df115.append(df115_to_insert, ignore_index=True)\n",
        "  n=n+1"
      ],
      "metadata": {
        "id": "q9tERJBCY2uU"
      },
      "execution_count": null,
      "outputs": []
    },
    {
      "cell_type": "code",
      "source": [
        "df115['digit_3'].value_counts()"
      ],
      "metadata": {
        "colab": {
          "base_uri": "https://localhost:8080/"
        },
        "id": "cdb6NRpQZvRT",
        "outputId": "07d1553b-e16d-4280-ea8e-2976ea6227d7"
      },
      "execution_count": null,
      "outputs": [
        {
          "output_type": "execute_result",
          "data": {
            "text/plain": [
              "213    11800\n",
              "313    10600\n",
              "319    10100\n",
              "312     9300\n",
              "282     8400\n",
              "332     7600\n",
              "192     6800\n",
              "142     6600\n",
              "Name: digit_3, dtype: int64"
            ]
          },
          "metadata": {},
          "execution_count": 43
        }
      ]
    },
    {
      "cell_type": "code",
      "source": [
        "temp_result=[]\n",
        "n=0\n",
        "id_list=[]\n",
        "digit_1_list=[]\n",
        "digit_2_list=[]\n",
        "digit_3_list=[]\n",
        "\n",
        "for sentence in df116['text']:\n",
        "  result_list=EDA(sentence, alpha_sr=0.1, alpha_ri=0.1, alpha_rs=0.4, p_rd=0.4, num_aug=198)\n",
        "  id_list=['p'+str(df116['AI_id'][n]),'p'+str(df116['AI_id'][n]), 'p'+str(df116['AI_id'][n]), 'p'+str(df116['AI_id'][n]), 'p'+str(df116['AI_id'][n]), 'p'+str(df116['AI_id'][n]),'p'+str(df116['AI_id'][n]), 'p'+str(df116['AI_id'][n]), 'p'+str(df116['AI_id'][n]), 'p'+str(df116['AI_id'][n]), 'p'+str(df116['AI_id'][n]),'p'+str(df116['AI_id'][n]), 'p'+str(df116['AI_id'][n]), 'p'+str(df116['AI_id'][n]), 'p'+str(df116['AI_id'][n]), 'p'+str(df116['AI_id'][n]),'p'+str(df116['AI_id'][n]), 'p'+str(df116['AI_id'][n]), 'p'+str(df116['AI_id'][n]), 'p'+str(df116['AI_id'][n]), 'p'+str(df116['AI_id'][n]),'p'+str(df116['AI_id'][n]), 'p'+str(df116['AI_id'][n]), 'p'+str(df116['AI_id'][n]), 'p'+str(df116['AI_id'][n]), 'p'+str(df116['AI_id'][n]), 'p'+str(df116['AI_id'][n]), 'p'+str(df116['AI_id'][n]), 'p'+str(df116['AI_id'][n]), 'p'+str(df116['AI_id'][n]), 'p'+str(df116['AI_id'][n]), 'p'+str(df116['AI_id'][n]), 'p'+str(df116['AI_id'][n]), 'p'+str(df116['AI_id'][n]), 'p'+str(df116['AI_id'][n]), 'p'+str(df116['AI_id'][n]), 'p'+str(df116['AI_id'][n]), 'p'+str(df116['AI_id'][n]), 'p'+str(df116['AI_id'][n]), 'p'+str(df116['AI_id'][n]), 'p'+str(df116['AI_id'][n]), 'p'+str(df116['AI_id'][n]), 'p'+str(df116['AI_id'][n]), 'p'+str(df116['AI_id'][n]), 'p'+str(df116['AI_id'][n]),'p'+str(df116['AI_id'][n]),'p'+str(df116['AI_id'][n]), 'p'+str(df116['AI_id'][n]), 'p'+str(df116['AI_id'][n]), 'p'+str(df116['AI_id'][n]),'p'+str(df116['AI_id'][n]),'p'+str(df116['AI_id'][n]), 'p'+str(df116['AI_id'][n]), 'p'+str(df116['AI_id'][n]), 'p'+str(df116['AI_id'][n]),'p'+str(df116['AI_id'][n]),'p'+str(df116['AI_id'][n]), 'p'+str(df116['AI_id'][n]), 'p'+str(df116['AI_id'][n]), 'p'+str(df116['AI_id'][n]),'p'+str(df116['AI_id'][n]),'p'+str(df116['AI_id'][n]), 'p'+str(df116['AI_id'][n]), 'p'+str(df116['AI_id'][n]), 'p'+str(df116['AI_id'][n]),'p'+str(df116['AI_id'][n]),'p'+str(df116['AI_id'][n]), 'p'+str(df116['AI_id'][n]), 'p'+str(df116['AI_id'][n]), 'p'+str(df116['AI_id'][n]),'p'+str(df116['AI_id'][n]),'p'+str(df116['AI_id'][n]), 'p'+str(df116['AI_id'][n]), 'p'+str(df116['AI_id'][n]), 'p'+str(df116['AI_id'][n]),'p'+str(df116['AI_id'][n]),'p'+str(df116['AI_id'][n]), 'p'+str(df116['AI_id'][n]), 'p'+str(df116['AI_id'][n]), 'p'+str(df116['AI_id'][n]),'p'+str(df116['AI_id'][n]),'p'+str(df116['AI_id'][n]), 'p'+str(df116['AI_id'][n]), 'p'+str(df116['AI_id'][n]), 'p'+str(df116['AI_id'][n]),'p'+str(df116['AI_id'][n]),'p'+str(df116['AI_id'][n]), 'p'+str(df116['AI_id'][n]), 'p'+str(df116['AI_id'][n]), 'p'+str(df116['AI_id'][n]),'p'+str(df116['AI_id'][n]), 'p'+str(df116['AI_id'][n]), 'p'+str(df116['AI_id'][n]), 'p'+str(df116['AI_id'][n]),'p'+str(df116['AI_id'][n]),'p'+str(df116['AI_id'][n]), 'p'+str(df116['AI_id'][n]), 'p'+str(df116['AI_id'][n]), 'p'+str(df116['AI_id'][n]),'p'+str(df116['AI_id'][n]),'p'+str(df116['AI_id'][n]), 'p'+str(df116['AI_id'][n]), 'p'+str(df116['AI_id'][n]), 'p'+str(df116['AI_id'][n]), 'p'+str(df116['AI_id'][n]),'p'+str(df116['AI_id'][n]), 'p'+str(df116['AI_id'][n]), 'p'+str(df116['AI_id'][n]), 'p'+str(df116['AI_id'][n]), 'p'+str(df116['AI_id'][n]),'p'+str(df116['AI_id'][n]), 'p'+str(df116['AI_id'][n]), 'p'+str(df116['AI_id'][n]), 'p'+str(df116['AI_id'][n]), 'p'+str(df116['AI_id'][n]),'p'+str(df116['AI_id'][n]), 'p'+str(df116['AI_id'][n]), 'p'+str(df116['AI_id'][n]), 'p'+str(df116['AI_id'][n]), 'p'+str(df116['AI_id'][n]),'p'+str(df116['AI_id'][n]), 'p'+str(df116['AI_id'][n]), 'p'+str(df116['AI_id'][n]), 'p'+str(df116['AI_id'][n]), 'p'+str(df116['AI_id'][n]), 'p'+str(df116['AI_id'][n]), 'p'+str(df116['AI_id'][n]), 'p'+str(df116['AI_id'][n]), 'p'+str(df116['AI_id'][n]), 'p'+str(df116['AI_id'][n]), 'p'+str(df116['AI_id'][n]), 'p'+str(df116['AI_id'][n]), 'p'+str(df116['AI_id'][n]), 'p'+str(df116['AI_id'][n]), 'p'+str(df116['AI_id'][n]), 'p'+str(df116['AI_id'][n]), 'p'+str(df116['AI_id'][n]), 'p'+str(df116['AI_id'][n]), 'p'+str(df116['AI_id'][n]), 'p'+str(df116['AI_id'][n]), 'p'+str(df116['AI_id'][n]), 'p'+str(df116['AI_id'][n]), 'p'+str(df116['AI_id'][n]), 'p'+str(df116['AI_id'][n]),'p'+str(df116['AI_id'][n]),'p'+str(df116['AI_id'][n]), 'p'+str(df116['AI_id'][n]), 'p'+str(df116['AI_id'][n]), 'p'+str(df116['AI_id'][n]),'p'+str(df116['AI_id'][n]),'p'+str(df116['AI_id'][n]), 'p'+str(df116['AI_id'][n]), 'p'+str(df116['AI_id'][n]), 'p'+str(df116['AI_id'][n]),'p'+str(df116['AI_id'][n]),'p'+str(df116['AI_id'][n]), 'p'+str(df116['AI_id'][n]), 'p'+str(df116['AI_id'][n]), 'p'+str(df116['AI_id'][n]),'p'+str(df116['AI_id'][n]),'p'+str(df116['AI_id'][n]), 'p'+str(df116['AI_id'][n]), 'p'+str(df116['AI_id'][n]), 'p'+str(df116['AI_id'][n]),'p'+str(df116['AI_id'][n]),'p'+str(df116['AI_id'][n]), 'p'+str(df116['AI_id'][n]), 'p'+str(df116['AI_id'][n]), 'p'+str(df116['AI_id'][n]),'p'+str(df116['AI_id'][n]),'p'+str(df116['AI_id'][n]), 'p'+str(df116['AI_id'][n]), 'p'+str(df116['AI_id'][n]), 'p'+str(df116['AI_id'][n]),'p'+str(df116['AI_id'][n]),'p'+str(df116['AI_id'][n]), 'p'+str(df116['AI_id'][n]), 'p'+str(df116['AI_id'][n]), 'p'+str(df116['AI_id'][n]),'p'+str(df116['AI_id'][n]),'p'+str(df116['AI_id'][n]), 'p'+str(df116['AI_id'][n]), 'p'+str(df116['AI_id'][n]), 'p'+str(df116['AI_id'][n]),'p'+str(df116['AI_id'][n]),'p'+str(df116['AI_id'][n]), 'p'+str(df116['AI_id'][n]), 'p'+str(df116['AI_id'][n]), 'p'+str(df116['AI_id'][n]),'p'+str(df116['AI_id'][n]), 'p'+str(df116['AI_id'][n]), 'p'+str(df116['AI_id'][n]), 'p'+str(df116['AI_id'][n]),'p'+str(df116['AI_id'][n]),'p'+str(df116['AI_id'][n]), 'p'+str(df116['AI_id'][n]), 'p'+str(df116['AI_id'][n]), 'p'+str(df116['AI_id'][n]),'p'+str(df116['AI_id'][n])]\n",
        "  digit_1_list=[df116['digit_1'][n],df116['digit_1'][n], df116['digit_1'][n], df116['digit_1'][n], df116['digit_1'][n], df116['digit_1'][n],df116['digit_1'][n], df116['digit_1'][n], df116['digit_1'][n], df116['digit_1'][n], df116['digit_1'][n],df116['digit_1'][n], df116['digit_1'][n], df116['digit_1'][n], df116['digit_1'][n], df116['digit_1'][n],df116['digit_1'][n], df116['digit_1'][n], df116['digit_1'][n], df116['digit_1'][n], df116['digit_1'][n],df116['digit_1'][n], df116['digit_1'][n], df116['digit_1'][n], df116['digit_1'][n], df116['digit_1'][n], df116['digit_1'][n], df116['digit_1'][n], df116['digit_1'][n], df116['digit_1'][n], df116['digit_1'][n], df116['digit_1'][n], df116['digit_1'][n], df116['digit_1'][n], df116['digit_1'][n], df116['digit_1'][n], df116['digit_1'][n], df116['digit_1'][n], df116['digit_1'][n], df116['digit_1'][n], df116['digit_1'][n], df116['digit_1'][n], df116['digit_1'][n], df116['digit_1'][n], df116['digit_1'][n],df116['digit_1'][n],df116['digit_1'][n], df116['digit_1'][n], df116['digit_1'][n], df116['digit_1'][n],df116['digit_1'][n],df116['digit_1'][n], df116['digit_1'][n], df116['digit_1'][n], df116['digit_1'][n],df116['digit_1'][n],df116['digit_1'][n], df116['digit_1'][n], df116['digit_1'][n], df116['digit_1'][n],df116['digit_1'][n],df116['digit_1'][n], df116['digit_1'][n], df116['digit_1'][n], df116['digit_1'][n],df116['digit_1'][n],df116['digit_1'][n], df116['digit_1'][n], df116['digit_1'][n], df116['digit_1'][n],df116['digit_1'][n],df116['digit_1'][n], df116['digit_1'][n], df116['digit_1'][n], df116['digit_1'][n],df116['digit_1'][n],df116['digit_1'][n], df116['digit_1'][n], df116['digit_1'][n], df116['digit_1'][n],df116['digit_1'][n],df116['digit_1'][n], df116['digit_1'][n], df116['digit_1'][n], df116['digit_1'][n],df116['digit_1'][n],df116['digit_1'][n], df116['digit_1'][n], df116['digit_1'][n], df116['digit_1'][n],df116['digit_1'][n], df116['digit_1'][n], df116['digit_1'][n], df116['digit_1'][n],df116['digit_1'][n], df116['digit_1'][n], df116['digit_1'][n], df116['digit_1'][n], df116['digit_1'][n],df116['digit_1'][n],df116['digit_1'][n], df116['digit_1'][n], df116['digit_1'][n], df116['digit_1'][n], df116['digit_1'][n],df116['digit_1'][n], df116['digit_1'][n], df116['digit_1'][n], df116['digit_1'][n], df116['digit_1'][n],df116['digit_1'][n], df116['digit_1'][n], df116['digit_1'][n], df116['digit_1'][n], df116['digit_1'][n],df116['digit_1'][n], df116['digit_1'][n], df116['digit_1'][n], df116['digit_1'][n], df116['digit_1'][n],df116['digit_1'][n], df116['digit_1'][n], df116['digit_1'][n], df116['digit_1'][n], df116['digit_1'][n], df116['digit_1'][n], df116['digit_1'][n], df116['digit_1'][n], df116['digit_1'][n], df116['digit_1'][n], df116['digit_1'][n], df116['digit_1'][n], df116['digit_1'][n], df116['digit_1'][n], df116['digit_1'][n], df116['digit_1'][n], df116['digit_1'][n], df116['digit_1'][n], df116['digit_1'][n], df116['digit_1'][n], df116['digit_1'][n], df116['digit_1'][n], df116['digit_1'][n], df116['digit_1'][n],df116['digit_1'][n],df116['digit_1'][n], df116['digit_1'][n], df116['digit_1'][n], df116['digit_1'][n],df116['digit_1'][n],df116['digit_1'][n], df116['digit_1'][n], df116['digit_1'][n], df116['digit_1'][n],df116['digit_1'][n],df116['digit_1'][n], df116['digit_1'][n], df116['digit_1'][n], df116['digit_1'][n],df116['digit_1'][n],df116['digit_1'][n], df116['digit_1'][n], df116['digit_1'][n], df116['digit_1'][n],df116['digit_1'][n],df116['digit_1'][n], df116['digit_1'][n], df116['digit_1'][n], df116['digit_1'][n],df116['digit_1'][n],df116['digit_1'][n], df116['digit_1'][n], df116['digit_1'][n], df116['digit_1'][n],df116['digit_1'][n],df116['digit_1'][n], df116['digit_1'][n], df116['digit_1'][n], df116['digit_1'][n],df116['digit_1'][n],df116['digit_1'][n], df116['digit_1'][n], df116['digit_1'][n], df116['digit_1'][n],df116['digit_1'][n],df116['digit_1'][n], df116['digit_1'][n], df116['digit_1'][n], df116['digit_1'][n],df116['digit_1'][n], df116['digit_1'][n], df116['digit_1'][n], df116['digit_1'][n],df116['digit_1'][n], df116['digit_1'][n], df116['digit_1'][n], df116['digit_1'][n], df116['digit_1'][n],df116['digit_1'][n]]\n",
        "  digit_2_list=[df116['digit_2'][n],df116['digit_2'][n], df116['digit_2'][n], df116['digit_2'][n], df116['digit_2'][n], df116['digit_2'][n],df116['digit_2'][n], df116['digit_2'][n], df116['digit_2'][n], df116['digit_2'][n], df116['digit_2'][n],df116['digit_2'][n], df116['digit_2'][n], df116['digit_2'][n], df116['digit_2'][n], df116['digit_2'][n],df116['digit_2'][n], df116['digit_2'][n], df116['digit_2'][n], df116['digit_2'][n], df116['digit_2'][n],df116['digit_2'][n], df116['digit_2'][n], df116['digit_2'][n], df116['digit_2'][n], df116['digit_2'][n], df116['digit_2'][n], df116['digit_2'][n], df116['digit_2'][n], df116['digit_2'][n], df116['digit_2'][n], df116['digit_2'][n], df116['digit_2'][n], df116['digit_2'][n], df116['digit_2'][n], df116['digit_2'][n], df116['digit_2'][n], df116['digit_2'][n], df116['digit_2'][n], df116['digit_2'][n], df116['digit_2'][n], df116['digit_2'][n], df116['digit_2'][n], df116['digit_2'][n], df116['digit_2'][n],df116['digit_2'][n],df116['digit_2'][n], df116['digit_2'][n], df116['digit_2'][n], df116['digit_2'][n],df116['digit_2'][n],df116['digit_2'][n], df116['digit_2'][n], df116['digit_2'][n], df116['digit_2'][n],df116['digit_2'][n],df116['digit_2'][n], df116['digit_2'][n], df116['digit_2'][n], df116['digit_2'][n],df116['digit_2'][n],df116['digit_2'][n], df116['digit_2'][n], df116['digit_2'][n], df116['digit_2'][n],df116['digit_2'][n],df116['digit_2'][n], df116['digit_2'][n], df116['digit_2'][n], df116['digit_2'][n],df116['digit_2'][n],df116['digit_2'][n], df116['digit_2'][n], df116['digit_2'][n], df116['digit_2'][n],df116['digit_2'][n],df116['digit_2'][n], df116['digit_2'][n], df116['digit_2'][n], df116['digit_2'][n],df116['digit_2'][n],df116['digit_2'][n], df116['digit_2'][n], df116['digit_2'][n], df116['digit_2'][n],df116['digit_2'][n],df116['digit_2'][n], df116['digit_2'][n], df116['digit_2'][n], df116['digit_2'][n],df116['digit_2'][n], df116['digit_2'][n], df116['digit_2'][n], df116['digit_2'][n],df116['digit_2'][n],df116['digit_2'][n], df116['digit_2'][n], df116['digit_2'][n], df116['digit_2'][n],df116['digit_2'][n],df116['digit_2'][n], df116['digit_2'][n], df116['digit_2'][n], df116['digit_2'][n], df116['digit_2'][n],df116['digit_2'][n], df116['digit_2'][n], df116['digit_2'][n], df116['digit_2'][n], df116['digit_2'][n],df116['digit_2'][n], df116['digit_2'][n], df116['digit_2'][n], df116['digit_2'][n], df116['digit_2'][n],df116['digit_2'][n], df116['digit_2'][n], df116['digit_2'][n], df116['digit_2'][n], df116['digit_2'][n],df116['digit_2'][n], df116['digit_2'][n], df116['digit_2'][n], df116['digit_2'][n], df116['digit_2'][n], df116['digit_2'][n], df116['digit_2'][n], df116['digit_2'][n], df116['digit_2'][n], df116['digit_2'][n], df116['digit_2'][n], df116['digit_2'][n], df116['digit_2'][n], df116['digit_2'][n], df116['digit_2'][n], df116['digit_2'][n], df116['digit_2'][n], df116['digit_2'][n], df116['digit_2'][n], df116['digit_2'][n], df116['digit_2'][n], df116['digit_2'][n], df116['digit_2'][n], df116['digit_2'][n],df116['digit_2'][n],df116['digit_2'][n], df116['digit_2'][n], df116['digit_2'][n], df116['digit_2'][n],df116['digit_2'][n],df116['digit_2'][n], df116['digit_2'][n], df116['digit_2'][n], df116['digit_2'][n],df116['digit_2'][n],df116['digit_2'][n], df116['digit_2'][n], df116['digit_2'][n], df116['digit_2'][n],df116['digit_2'][n],df116['digit_2'][n], df116['digit_2'][n], df116['digit_2'][n], df116['digit_2'][n],df116['digit_2'][n],df116['digit_2'][n], df116['digit_2'][n], df116['digit_2'][n], df116['digit_2'][n],df116['digit_2'][n],df116['digit_2'][n], df116['digit_2'][n], df116['digit_2'][n], df116['digit_2'][n],df116['digit_2'][n],df116['digit_2'][n], df116['digit_2'][n], df116['digit_2'][n], df116['digit_2'][n],df116['digit_2'][n],df116['digit_2'][n], df116['digit_2'][n], df116['digit_2'][n], df116['digit_2'][n],df116['digit_2'][n],df116['digit_2'][n], df116['digit_2'][n], df116['digit_2'][n], df116['digit_2'][n],df116['digit_2'][n], df116['digit_2'][n], df116['digit_2'][n], df116['digit_2'][n],df116['digit_2'][n],df116['digit_2'][n], df116['digit_2'][n], df116['digit_2'][n], df116['digit_2'][n],df116['digit_2'][n]]\n",
        "  digit_3_list=[df116['digit_3'][n],df116['digit_3'][n], df116['digit_3'][n], df116['digit_3'][n], df116['digit_3'][n], df116['digit_3'][n],df116['digit_3'][n], df116['digit_3'][n], df116['digit_3'][n], df116['digit_3'][n], df116['digit_3'][n],df116['digit_3'][n], df116['digit_3'][n], df116['digit_3'][n], df116['digit_3'][n], df116['digit_3'][n],df116['digit_3'][n], df116['digit_3'][n], df116['digit_3'][n], df116['digit_3'][n], df116['digit_3'][n],df116['digit_3'][n], df116['digit_3'][n], df116['digit_3'][n], df116['digit_3'][n], df116['digit_3'][n], df116['digit_3'][n], df116['digit_3'][n], df116['digit_3'][n], df116['digit_3'][n], df116['digit_3'][n], df116['digit_3'][n], df116['digit_3'][n], df116['digit_3'][n], df116['digit_3'][n], df116['digit_3'][n], df116['digit_3'][n], df116['digit_3'][n], df116['digit_3'][n], df116['digit_3'][n], df116['digit_3'][n], df116['digit_3'][n], df116['digit_3'][n], df116['digit_3'][n], df116['digit_3'][n],df116['digit_3'][n],df116['digit_3'][n], df116['digit_3'][n], df116['digit_3'][n], df116['digit_3'][n],df116['digit_3'][n],df116['digit_3'][n], df116['digit_3'][n], df116['digit_3'][n], df116['digit_3'][n],df116['digit_3'][n],df116['digit_3'][n], df116['digit_3'][n], df116['digit_3'][n], df116['digit_3'][n],df116['digit_3'][n],df116['digit_3'][n], df116['digit_3'][n], df116['digit_3'][n], df116['digit_3'][n],df116['digit_3'][n],df116['digit_3'][n], df116['digit_3'][n], df116['digit_3'][n], df116['digit_3'][n],df116['digit_3'][n],df116['digit_3'][n], df116['digit_3'][n], df116['digit_3'][n], df116['digit_3'][n],df116['digit_3'][n],df116['digit_3'][n], df116['digit_3'][n], df116['digit_3'][n], df116['digit_3'][n],df116['digit_3'][n],df116['digit_3'][n], df116['digit_3'][n], df116['digit_3'][n], df116['digit_3'][n],df116['digit_3'][n],df116['digit_3'][n], df116['digit_3'][n], df116['digit_3'][n], df116['digit_3'][n],df116['digit_3'][n], df116['digit_3'][n], df116['digit_3'][n], df116['digit_3'][n],df116['digit_3'][n],df116['digit_3'][n], df116['digit_3'][n], df116['digit_3'][n], df116['digit_3'][n],df116['digit_3'][n],df116['digit_3'][n], df116['digit_3'][n], df116['digit_3'][n], df116['digit_3'][n], df116['digit_3'][n],df116['digit_3'][n], df116['digit_3'][n], df116['digit_3'][n], df116['digit_3'][n], df116['digit_3'][n],df116['digit_3'][n], df116['digit_3'][n], df116['digit_3'][n], df116['digit_3'][n], df116['digit_3'][n],df116['digit_3'][n], df116['digit_3'][n], df116['digit_3'][n], df116['digit_3'][n], df116['digit_3'][n],df116['digit_3'][n], df116['digit_3'][n], df116['digit_3'][n], df116['digit_3'][n], df116['digit_3'][n], df116['digit_3'][n], df116['digit_3'][n], df116['digit_3'][n], df116['digit_3'][n], df116['digit_3'][n], df116['digit_3'][n], df116['digit_3'][n], df116['digit_3'][n], df116['digit_3'][n], df116['digit_3'][n], df116['digit_3'][n], df116['digit_3'][n], df116['digit_3'][n], df116['digit_3'][n], df116['digit_3'][n], df116['digit_3'][n], df116['digit_3'][n], df116['digit_3'][n], df116['digit_3'][n],df116['digit_3'][n],df116['digit_3'][n], df116['digit_3'][n], df116['digit_3'][n], df116['digit_3'][n],df116['digit_3'][n],df116['digit_3'][n], df116['digit_3'][n], df116['digit_3'][n], df116['digit_3'][n],df116['digit_3'][n],df116['digit_3'][n], df116['digit_3'][n], df116['digit_3'][n], df116['digit_3'][n],df116['digit_3'][n],df116['digit_3'][n], df116['digit_3'][n], df116['digit_3'][n], df116['digit_3'][n],df116['digit_3'][n],df116['digit_3'][n], df116['digit_3'][n], df116['digit_3'][n], df116['digit_3'][n],df116['digit_3'][n],df116['digit_3'][n], df116['digit_3'][n], df116['digit_3'][n], df116['digit_3'][n],df116['digit_3'][n],df116['digit_3'][n], df116['digit_3'][n], df116['digit_3'][n], df116['digit_3'][n],df116['digit_3'][n],df116['digit_3'][n], df116['digit_3'][n], df116['digit_3'][n], df116['digit_3'][n],df116['digit_3'][n],df116['digit_3'][n], df116['digit_3'][n], df116['digit_3'][n], df116['digit_3'][n],df116['digit_3'][n], df116['digit_3'][n], df116['digit_3'][n], df116['digit_3'][n],df116['digit_3'][n],df116['digit_3'][n], df116['digit_3'][n], df116['digit_3'][n], df116['digit_3'][n],df116['digit_3'][n]]\n",
        "  data_to_insert={'AI_id' : id_list, 'digit_1' : digit_1_list, 'digit_2' : digit_2_list, 'digit_3': digit_3_list, 'text' : result_list}\n",
        "  df116_to_insert = pd.DataFrame(data_to_insert)\n",
        "  df116= df116.append(df116_to_insert, ignore_index=True)\n",
        "  n=n+1"
      ],
      "metadata": {
        "id": "SxBMaX6DZvTj"
      },
      "execution_count": null,
      "outputs": []
    },
    {
      "cell_type": "code",
      "source": [
        "df116['digit_3'].value_counts()"
      ],
      "metadata": {
        "colab": {
          "base_uri": "https://localhost:8080/"
        },
        "id": "Il_f1HPPZvVz",
        "outputId": "423c7e5d-b755-4bea-f63c-fa13bdf33d6d"
      },
      "execution_count": null,
      "outputs": [
        {
          "output_type": "execute_result",
          "data": {
            "text/plain": [
              "105    12800\n",
              "205    11200\n",
              "274     9400\n",
              "163     9000\n",
              "211     7800\n",
              "182     7600\n",
              "252     6600\n",
              "304     4400\n",
              "301     4000\n",
              "191     4000\n",
              "266     1600\n",
              "120      600\n",
              "Name: digit_3, dtype: int64"
            ]
          },
          "metadata": {},
          "execution_count": 45
        }
      ]
    },
    {
      "cell_type": "markdown",
      "metadata": {
        "id": "I90LypFcePR4"
      },
      "source": [
        "기존 데이터 합치기"
      ]
    },
    {
      "cell_type": "code",
      "source": [
        "df=pd.concat([df100, df101, df102, df103, df104, df105, df106, df107, df108, df109, df110, df111, df112, df113, df114, df115, df116])\n",
        "df.reset_index(drop=True)"
      ],
      "metadata": {
        "id": "JvWl7U5S2EQE",
        "colab": {
          "base_uri": "https://localhost:8080/",
          "height": 423
        },
        "outputId": "566af28e-5201-4523-cdaf-88b46d07a548"
      },
      "execution_count": null,
      "outputs": [
        {
          "output_type": "execute_result",
          "data": {
            "text/plain": [
              "              AI_id digit_1  digit_2  digit_3                       text\n",
              "0        id_0000044       C       25      259      금속재료 주문에 의한 절삭가공 공작기계\n",
              "1        id_0000132       C       25      259    구입한 쇠를 깎고. 연마해서 기계부품 생산\n",
              "2        id_0000239       C       25      259       철판 프레스가공 모터에 들어가는 코아\n",
              "3        id_0000252       C       25      259               제조 기계가공 전자부품\n",
              "4        id_0000372       C       25      259     가공된 금속재료로 절삭가공하여 선반 제조\n",
              "...             ...     ...      ...      ...                        ...\n",
              "830866  pid_0992753       C       12      120  담뱃잎, 담보 잎줄기 슬러리 제조 원료 투입,\n",
              "830867  pid_0992753       C       12      120  담뱃잎, 담보 잎줄기 원료 투입, 슬러리 제조\n",
              "830868  pid_0992753       C       12      120  담뱃잎, 담보 잎줄기 원료 투입, 슬러리 제조\n",
              "830869  pid_0992753       C       12      120  잎줄기 담보 투입, 원료 담뱃잎, 슬러리 제조\n",
              "830870  pid_0992753       C       12      120  담뱃잎, 담보 잎줄기 원료 투입, 슬러리 제조\n",
              "\n",
              "[830871 rows x 5 columns]"
            ],
            "text/html": [
              "\n",
              "  <div id=\"df-784b0203-a993-4c6a-82ee-8bb8a4fe8a2e\">\n",
              "    <div class=\"colab-df-container\">\n",
              "      <div>\n",
              "<style scoped>\n",
              "    .dataframe tbody tr th:only-of-type {\n",
              "        vertical-align: middle;\n",
              "    }\n",
              "\n",
              "    .dataframe tbody tr th {\n",
              "        vertical-align: top;\n",
              "    }\n",
              "\n",
              "    .dataframe thead th {\n",
              "        text-align: right;\n",
              "    }\n",
              "</style>\n",
              "<table border=\"1\" class=\"dataframe\">\n",
              "  <thead>\n",
              "    <tr style=\"text-align: right;\">\n",
              "      <th></th>\n",
              "      <th>AI_id</th>\n",
              "      <th>digit_1</th>\n",
              "      <th>digit_2</th>\n",
              "      <th>digit_3</th>\n",
              "      <th>text</th>\n",
              "    </tr>\n",
              "  </thead>\n",
              "  <tbody>\n",
              "    <tr>\n",
              "      <th>0</th>\n",
              "      <td>id_0000044</td>\n",
              "      <td>C</td>\n",
              "      <td>25</td>\n",
              "      <td>259</td>\n",
              "      <td>금속재료 주문에 의한 절삭가공 공작기계</td>\n",
              "    </tr>\n",
              "    <tr>\n",
              "      <th>1</th>\n",
              "      <td>id_0000132</td>\n",
              "      <td>C</td>\n",
              "      <td>25</td>\n",
              "      <td>259</td>\n",
              "      <td>구입한 쇠를 깎고. 연마해서 기계부품 생산</td>\n",
              "    </tr>\n",
              "    <tr>\n",
              "      <th>2</th>\n",
              "      <td>id_0000239</td>\n",
              "      <td>C</td>\n",
              "      <td>25</td>\n",
              "      <td>259</td>\n",
              "      <td>철판 프레스가공 모터에 들어가는 코아</td>\n",
              "    </tr>\n",
              "    <tr>\n",
              "      <th>3</th>\n",
              "      <td>id_0000252</td>\n",
              "      <td>C</td>\n",
              "      <td>25</td>\n",
              "      <td>259</td>\n",
              "      <td>제조 기계가공 전자부품</td>\n",
              "    </tr>\n",
              "    <tr>\n",
              "      <th>4</th>\n",
              "      <td>id_0000372</td>\n",
              "      <td>C</td>\n",
              "      <td>25</td>\n",
              "      <td>259</td>\n",
              "      <td>가공된 금속재료로 절삭가공하여 선반 제조</td>\n",
              "    </tr>\n",
              "    <tr>\n",
              "      <th>...</th>\n",
              "      <td>...</td>\n",
              "      <td>...</td>\n",
              "      <td>...</td>\n",
              "      <td>...</td>\n",
              "      <td>...</td>\n",
              "    </tr>\n",
              "    <tr>\n",
              "      <th>830866</th>\n",
              "      <td>pid_0992753</td>\n",
              "      <td>C</td>\n",
              "      <td>12</td>\n",
              "      <td>120</td>\n",
              "      <td>담뱃잎, 담보 잎줄기 슬러리 제조 원료 투입,</td>\n",
              "    </tr>\n",
              "    <tr>\n",
              "      <th>830867</th>\n",
              "      <td>pid_0992753</td>\n",
              "      <td>C</td>\n",
              "      <td>12</td>\n",
              "      <td>120</td>\n",
              "      <td>담뱃잎, 담보 잎줄기 원료 투입, 슬러리 제조</td>\n",
              "    </tr>\n",
              "    <tr>\n",
              "      <th>830868</th>\n",
              "      <td>pid_0992753</td>\n",
              "      <td>C</td>\n",
              "      <td>12</td>\n",
              "      <td>120</td>\n",
              "      <td>담뱃잎, 담보 잎줄기 원료 투입, 슬러리 제조</td>\n",
              "    </tr>\n",
              "    <tr>\n",
              "      <th>830869</th>\n",
              "      <td>pid_0992753</td>\n",
              "      <td>C</td>\n",
              "      <td>12</td>\n",
              "      <td>120</td>\n",
              "      <td>잎줄기 담보 투입, 원료 담뱃잎, 슬러리 제조</td>\n",
              "    </tr>\n",
              "    <tr>\n",
              "      <th>830870</th>\n",
              "      <td>pid_0992753</td>\n",
              "      <td>C</td>\n",
              "      <td>12</td>\n",
              "      <td>120</td>\n",
              "      <td>담뱃잎, 담보 잎줄기 원료 투입, 슬러리 제조</td>\n",
              "    </tr>\n",
              "  </tbody>\n",
              "</table>\n",
              "<p>830871 rows × 5 columns</p>\n",
              "</div>\n",
              "      <button class=\"colab-df-convert\" onclick=\"convertToInteractive('df-784b0203-a993-4c6a-82ee-8bb8a4fe8a2e')\"\n",
              "              title=\"Convert this dataframe to an interactive table.\"\n",
              "              style=\"display:none;\">\n",
              "        \n",
              "  <svg xmlns=\"http://www.w3.org/2000/svg\" height=\"24px\"viewBox=\"0 0 24 24\"\n",
              "       width=\"24px\">\n",
              "    <path d=\"M0 0h24v24H0V0z\" fill=\"none\"/>\n",
              "    <path d=\"M18.56 5.44l.94 2.06.94-2.06 2.06-.94-2.06-.94-.94-2.06-.94 2.06-2.06.94zm-11 1L8.5 8.5l.94-2.06 2.06-.94-2.06-.94L8.5 2.5l-.94 2.06-2.06.94zm10 10l.94 2.06.94-2.06 2.06-.94-2.06-.94-.94-2.06-.94 2.06-2.06.94z\"/><path d=\"M17.41 7.96l-1.37-1.37c-.4-.4-.92-.59-1.43-.59-.52 0-1.04.2-1.43.59L10.3 9.45l-7.72 7.72c-.78.78-.78 2.05 0 2.83L4 21.41c.39.39.9.59 1.41.59.51 0 1.02-.2 1.41-.59l7.78-7.78 2.81-2.81c.8-.78.8-2.07 0-2.86zM5.41 20L4 18.59l7.72-7.72 1.47 1.35L5.41 20z\"/>\n",
              "  </svg>\n",
              "      </button>\n",
              "      \n",
              "  <style>\n",
              "    .colab-df-container {\n",
              "      display:flex;\n",
              "      flex-wrap:wrap;\n",
              "      gap: 12px;\n",
              "    }\n",
              "\n",
              "    .colab-df-convert {\n",
              "      background-color: #E8F0FE;\n",
              "      border: none;\n",
              "      border-radius: 50%;\n",
              "      cursor: pointer;\n",
              "      display: none;\n",
              "      fill: #1967D2;\n",
              "      height: 32px;\n",
              "      padding: 0 0 0 0;\n",
              "      width: 32px;\n",
              "    }\n",
              "\n",
              "    .colab-df-convert:hover {\n",
              "      background-color: #E2EBFA;\n",
              "      box-shadow: 0px 1px 2px rgba(60, 64, 67, 0.3), 0px 1px 3px 1px rgba(60, 64, 67, 0.15);\n",
              "      fill: #174EA6;\n",
              "    }\n",
              "\n",
              "    [theme=dark] .colab-df-convert {\n",
              "      background-color: #3B4455;\n",
              "      fill: #D2E3FC;\n",
              "    }\n",
              "\n",
              "    [theme=dark] .colab-df-convert:hover {\n",
              "      background-color: #434B5C;\n",
              "      box-shadow: 0px 1px 3px 1px rgba(0, 0, 0, 0.15);\n",
              "      filter: drop-shadow(0px 1px 2px rgba(0, 0, 0, 0.3));\n",
              "      fill: #FFFFFF;\n",
              "    }\n",
              "  </style>\n",
              "\n",
              "      <script>\n",
              "        const buttonEl =\n",
              "          document.querySelector('#df-784b0203-a993-4c6a-82ee-8bb8a4fe8a2e button.colab-df-convert');\n",
              "        buttonEl.style.display =\n",
              "          google.colab.kernel.accessAllowed ? 'block' : 'none';\n",
              "\n",
              "        async function convertToInteractive(key) {\n",
              "          const element = document.querySelector('#df-784b0203-a993-4c6a-82ee-8bb8a4fe8a2e');\n",
              "          const dataTable =\n",
              "            await google.colab.kernel.invokeFunction('convertToInteractive',\n",
              "                                                     [key], {});\n",
              "          if (!dataTable) return;\n",
              "\n",
              "          const docLinkHtml = 'Like what you see? Visit the ' +\n",
              "            '<a target=\"_blank\" href=https://colab.research.google.com/notebooks/data_table.ipynb>data table notebook</a>'\n",
              "            + ' to learn more about interactive tables.';\n",
              "          element.innerHTML = '';\n",
              "          dataTable['output_type'] = 'display_data';\n",
              "          await google.colab.output.renderOutput(dataTable, element);\n",
              "          const docLink = document.createElement('div');\n",
              "          docLink.innerHTML = docLinkHtml;\n",
              "          element.appendChild(docLink);\n",
              "        }\n",
              "      </script>\n",
              "    </div>\n",
              "  </div>\n",
              "  "
            ]
          },
          "metadata": {},
          "execution_count": 46
        }
      ]
    },
    {
      "cell_type": "code",
      "source": [
        "df['digit_3'].value_counts().sum()"
      ],
      "metadata": {
        "colab": {
          "base_uri": "https://localhost:8080/"
        },
        "id": "XgrUpfoPjsy2",
        "outputId": "29fbf0a0-3587-460f-b14c-de9e9dbb6e1f"
      },
      "execution_count": null,
      "outputs": [
        {
          "output_type": "execute_result",
          "data": {
            "text/plain": [
              "830871"
            ]
          },
          "metadata": {},
          "execution_count": 48
        }
      ]
    },
    {
      "cell_type": "code",
      "source": [
        "df"
      ],
      "metadata": {
        "colab": {
          "base_uri": "https://localhost:8080/",
          "height": 423
        },
        "id": "xGcRc2f3lyN-",
        "outputId": "09b1e245-adcc-476a-bf21-594b85b14bdd"
      },
      "execution_count": null,
      "outputs": [
        {
          "output_type": "execute_result",
          "data": {
            "text/plain": [
              "             AI_id digit_1  digit_2  digit_3                       text\n",
              "0       id_0000044       C       25      259      금속재료 주문에 의한 절삭가공 공작기계\n",
              "1       id_0000132       C       25      259    구입한 쇠를 깎고. 연마해서 기계부품 생산\n",
              "2       id_0000239       C       25      259       철판 프레스가공 모터에 들어가는 코아\n",
              "3       id_0000252       C       25      259               제조 기계가공 전자부품\n",
              "4       id_0000372       C       25      259     가공된 금속재료로 절삭가공하여 선반 제조\n",
              "...            ...     ...      ...      ...                        ...\n",
              "78995  pid_0992753       C       12      120  담뱃잎, 담보 잎줄기 슬러리 제조 원료 투입,\n",
              "78996  pid_0992753       C       12      120  담뱃잎, 담보 잎줄기 원료 투입, 슬러리 제조\n",
              "78997  pid_0992753       C       12      120  담뱃잎, 담보 잎줄기 원료 투입, 슬러리 제조\n",
              "78998  pid_0992753       C       12      120  잎줄기 담보 투입, 원료 담뱃잎, 슬러리 제조\n",
              "78999  pid_0992753       C       12      120  담뱃잎, 담보 잎줄기 원료 투입, 슬러리 제조\n",
              "\n",
              "[830871 rows x 5 columns]"
            ],
            "text/html": [
              "\n",
              "  <div id=\"df-e50d48aa-64ef-4b03-91bf-96d37f287eba\">\n",
              "    <div class=\"colab-df-container\">\n",
              "      <div>\n",
              "<style scoped>\n",
              "    .dataframe tbody tr th:only-of-type {\n",
              "        vertical-align: middle;\n",
              "    }\n",
              "\n",
              "    .dataframe tbody tr th {\n",
              "        vertical-align: top;\n",
              "    }\n",
              "\n",
              "    .dataframe thead th {\n",
              "        text-align: right;\n",
              "    }\n",
              "</style>\n",
              "<table border=\"1\" class=\"dataframe\">\n",
              "  <thead>\n",
              "    <tr style=\"text-align: right;\">\n",
              "      <th></th>\n",
              "      <th>AI_id</th>\n",
              "      <th>digit_1</th>\n",
              "      <th>digit_2</th>\n",
              "      <th>digit_3</th>\n",
              "      <th>text</th>\n",
              "    </tr>\n",
              "  </thead>\n",
              "  <tbody>\n",
              "    <tr>\n",
              "      <th>0</th>\n",
              "      <td>id_0000044</td>\n",
              "      <td>C</td>\n",
              "      <td>25</td>\n",
              "      <td>259</td>\n",
              "      <td>금속재료 주문에 의한 절삭가공 공작기계</td>\n",
              "    </tr>\n",
              "    <tr>\n",
              "      <th>1</th>\n",
              "      <td>id_0000132</td>\n",
              "      <td>C</td>\n",
              "      <td>25</td>\n",
              "      <td>259</td>\n",
              "      <td>구입한 쇠를 깎고. 연마해서 기계부품 생산</td>\n",
              "    </tr>\n",
              "    <tr>\n",
              "      <th>2</th>\n",
              "      <td>id_0000239</td>\n",
              "      <td>C</td>\n",
              "      <td>25</td>\n",
              "      <td>259</td>\n",
              "      <td>철판 프레스가공 모터에 들어가는 코아</td>\n",
              "    </tr>\n",
              "    <tr>\n",
              "      <th>3</th>\n",
              "      <td>id_0000252</td>\n",
              "      <td>C</td>\n",
              "      <td>25</td>\n",
              "      <td>259</td>\n",
              "      <td>제조 기계가공 전자부품</td>\n",
              "    </tr>\n",
              "    <tr>\n",
              "      <th>4</th>\n",
              "      <td>id_0000372</td>\n",
              "      <td>C</td>\n",
              "      <td>25</td>\n",
              "      <td>259</td>\n",
              "      <td>가공된 금속재료로 절삭가공하여 선반 제조</td>\n",
              "    </tr>\n",
              "    <tr>\n",
              "      <th>...</th>\n",
              "      <td>...</td>\n",
              "      <td>...</td>\n",
              "      <td>...</td>\n",
              "      <td>...</td>\n",
              "      <td>...</td>\n",
              "    </tr>\n",
              "    <tr>\n",
              "      <th>78995</th>\n",
              "      <td>pid_0992753</td>\n",
              "      <td>C</td>\n",
              "      <td>12</td>\n",
              "      <td>120</td>\n",
              "      <td>담뱃잎, 담보 잎줄기 슬러리 제조 원료 투입,</td>\n",
              "    </tr>\n",
              "    <tr>\n",
              "      <th>78996</th>\n",
              "      <td>pid_0992753</td>\n",
              "      <td>C</td>\n",
              "      <td>12</td>\n",
              "      <td>120</td>\n",
              "      <td>담뱃잎, 담보 잎줄기 원료 투입, 슬러리 제조</td>\n",
              "    </tr>\n",
              "    <tr>\n",
              "      <th>78997</th>\n",
              "      <td>pid_0992753</td>\n",
              "      <td>C</td>\n",
              "      <td>12</td>\n",
              "      <td>120</td>\n",
              "      <td>담뱃잎, 담보 잎줄기 원료 투입, 슬러리 제조</td>\n",
              "    </tr>\n",
              "    <tr>\n",
              "      <th>78998</th>\n",
              "      <td>pid_0992753</td>\n",
              "      <td>C</td>\n",
              "      <td>12</td>\n",
              "      <td>120</td>\n",
              "      <td>잎줄기 담보 투입, 원료 담뱃잎, 슬러리 제조</td>\n",
              "    </tr>\n",
              "    <tr>\n",
              "      <th>78999</th>\n",
              "      <td>pid_0992753</td>\n",
              "      <td>C</td>\n",
              "      <td>12</td>\n",
              "      <td>120</td>\n",
              "      <td>담뱃잎, 담보 잎줄기 원료 투입, 슬러리 제조</td>\n",
              "    </tr>\n",
              "  </tbody>\n",
              "</table>\n",
              "<p>830871 rows × 5 columns</p>\n",
              "</div>\n",
              "      <button class=\"colab-df-convert\" onclick=\"convertToInteractive('df-e50d48aa-64ef-4b03-91bf-96d37f287eba')\"\n",
              "              title=\"Convert this dataframe to an interactive table.\"\n",
              "              style=\"display:none;\">\n",
              "        \n",
              "  <svg xmlns=\"http://www.w3.org/2000/svg\" height=\"24px\"viewBox=\"0 0 24 24\"\n",
              "       width=\"24px\">\n",
              "    <path d=\"M0 0h24v24H0V0z\" fill=\"none\"/>\n",
              "    <path d=\"M18.56 5.44l.94 2.06.94-2.06 2.06-.94-2.06-.94-.94-2.06-.94 2.06-2.06.94zm-11 1L8.5 8.5l.94-2.06 2.06-.94-2.06-.94L8.5 2.5l-.94 2.06-2.06.94zm10 10l.94 2.06.94-2.06 2.06-.94-2.06-.94-.94-2.06-.94 2.06-2.06.94z\"/><path d=\"M17.41 7.96l-1.37-1.37c-.4-.4-.92-.59-1.43-.59-.52 0-1.04.2-1.43.59L10.3 9.45l-7.72 7.72c-.78.78-.78 2.05 0 2.83L4 21.41c.39.39.9.59 1.41.59.51 0 1.02-.2 1.41-.59l7.78-7.78 2.81-2.81c.8-.78.8-2.07 0-2.86zM5.41 20L4 18.59l7.72-7.72 1.47 1.35L5.41 20z\"/>\n",
              "  </svg>\n",
              "      </button>\n",
              "      \n",
              "  <style>\n",
              "    .colab-df-container {\n",
              "      display:flex;\n",
              "      flex-wrap:wrap;\n",
              "      gap: 12px;\n",
              "    }\n",
              "\n",
              "    .colab-df-convert {\n",
              "      background-color: #E8F0FE;\n",
              "      border: none;\n",
              "      border-radius: 50%;\n",
              "      cursor: pointer;\n",
              "      display: none;\n",
              "      fill: #1967D2;\n",
              "      height: 32px;\n",
              "      padding: 0 0 0 0;\n",
              "      width: 32px;\n",
              "    }\n",
              "\n",
              "    .colab-df-convert:hover {\n",
              "      background-color: #E2EBFA;\n",
              "      box-shadow: 0px 1px 2px rgba(60, 64, 67, 0.3), 0px 1px 3px 1px rgba(60, 64, 67, 0.15);\n",
              "      fill: #174EA6;\n",
              "    }\n",
              "\n",
              "    [theme=dark] .colab-df-convert {\n",
              "      background-color: #3B4455;\n",
              "      fill: #D2E3FC;\n",
              "    }\n",
              "\n",
              "    [theme=dark] .colab-df-convert:hover {\n",
              "      background-color: #434B5C;\n",
              "      box-shadow: 0px 1px 3px 1px rgba(0, 0, 0, 0.15);\n",
              "      filter: drop-shadow(0px 1px 2px rgba(0, 0, 0, 0.3));\n",
              "      fill: #FFFFFF;\n",
              "    }\n",
              "  </style>\n",
              "\n",
              "      <script>\n",
              "        const buttonEl =\n",
              "          document.querySelector('#df-e50d48aa-64ef-4b03-91bf-96d37f287eba button.colab-df-convert');\n",
              "        buttonEl.style.display =\n",
              "          google.colab.kernel.accessAllowed ? 'block' : 'none';\n",
              "\n",
              "        async function convertToInteractive(key) {\n",
              "          const element = document.querySelector('#df-e50d48aa-64ef-4b03-91bf-96d37f287eba');\n",
              "          const dataTable =\n",
              "            await google.colab.kernel.invokeFunction('convertToInteractive',\n",
              "                                                     [key], {});\n",
              "          if (!dataTable) return;\n",
              "\n",
              "          const docLinkHtml = 'Like what you see? Visit the ' +\n",
              "            '<a target=\"_blank\" href=https://colab.research.google.com/notebooks/data_table.ipynb>data table notebook</a>'\n",
              "            + ' to learn more about interactive tables.';\n",
              "          element.innerHTML = '';\n",
              "          dataTable['output_type'] = 'display_data';\n",
              "          await google.colab.output.renderOutput(dataTable, element);\n",
              "          const docLink = document.createElement('div');\n",
              "          docLink.innerHTML = docLinkHtml;\n",
              "          element.appendChild(docLink);\n",
              "        }\n",
              "      </script>\n",
              "    </div>\n",
              "  </div>\n",
              "  "
            ]
          },
          "metadata": {},
          "execution_count": 49
        }
      ]
    },
    {
      "cell_type": "code",
      "execution_count": null,
      "metadata": {
        "id": "xdv6VPGk_dIX"
      },
      "outputs": [],
      "source": [
        "df.to_csv('df_C_inc.csv', index=False, encoding='utf-8-sig')"
      ]
    }
  ],
  "metadata": {
    "accelerator": "GPU",
    "colab": {
      "background_execution": "on",
      "collapsed_sections": [],
      "machine_shape": "hm",
      "name": "C 데이터 증분의 사본",
      "provenance": [],
      "include_colab_link": true
    },
    "kernelspec": {
      "display_name": "Python 3",
      "name": "python3"
    },
    "language_info": {
      "name": "python"
    }
  },
  "nbformat": 4,
  "nbformat_minor": 0
}