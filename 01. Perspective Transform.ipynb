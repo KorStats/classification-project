{
 "cells": [
  {
   "cell_type": "markdown",
   "id": "6ea493e8",
   "metadata": {},
   "source": [
    "# 과정1\n",
    " - 배경이 있는 영수증 사진의 4개의 꼭짓점을 지정해주면 영수증 부분만 scan해주는 작업"
   ]
  },
  {
   "cell_type": "markdown",
   "id": "d61f890d",
   "metadata": {},
   "source": [
    "## Upload Image\n",
    " - 불러온 이미지를 축소하여 사용\n",
    " - 불러온 이미지를 그대로 사용함"
   ]
  },
  {
   "cell_type": "code",
   "execution_count": 10,
   "id": "a581a709",
   "metadata": {},
   "outputs": [],
   "source": [
    "# 불러온 이미지를 축소하여 사용\n",
    "#pip install scikit-image\n",
    "import numpy as np\n",
    "import cv2, os\n",
    "import matplotlib.pyplot as plt\n",
    "\n",
    "from skimage.filters import threshold_local\n",
    "from PIL import Image\n",
    "\n",
    "# Sample file out of the dataset\n",
    "file_name='D:\\OCR/KakaoTalk_20211013_212329138.jpg'\n",
    "filename, ext=os.path.splitext(os.path.basename(file_name))\n",
    "img=Image.open(file_name)\n",
    "#썸네일(thumbnail) 세로와 가로의 사이즈를 동일한 비율로 수정하여 썸네일을 만들수있게 하는 함수\n",
    "#ANTIALIAS : 높은 해상도의 사진을 낮은 해상도로 변환할 때 깨지는 것을 방지\n",
    "img.thumbnail((800, 800), Image.ANTIALIAS)\n",
    "ori_img=np.array(img)"
   ]
  },
  {
   "cell_type": "code",
   "execution_count": 6,
   "id": "20ec6fa0",
   "metadata": {},
   "outputs": [],
   "source": [
    "# 불러온 이미지를 그대로 사용하는 방식\n",
    "import cv2, os\n",
    "import numpy as np\n",
    "\n",
    "img_path='D:\\OCR/KakaoTalk_20211013_212329138.jpg'\n",
    "filename, ext=os.path.splitext(os.path.basename(img_path))\n",
    "ori_img=cv2.imread(img_path)"
   ]
  },
  {
   "cell_type": "markdown",
   "id": "681ab24e",
   "metadata": {},
   "source": [
    "## Perspective Transform"
   ]
  },
  {
   "cell_type": "code",
   "execution_count": 11,
   "id": "60f5fadb",
   "metadata": {},
   "outputs": [],
   "source": [
    "src=[] #왼쪽위, 오른쪽위, 오른쪽아래, 왼쪽아래 점을 넣어놓을 전역변수\n",
    "\n",
    "# mouse callback handler\n",
    "def mouse_handler(event, x, y, flags, param):\n",
    "  if event == cv2.EVENT_LBUTTONUP: #마우스를 눌렀다가 떼었을 때 아래를 시행\n",
    "    img = ori_img.copy()\n",
    "\n",
    "    src.append([x, y]) #위치를 src에 넣어줌\n",
    "\n",
    "    for xx, yy in src:\n",
    "      cv2.circle(img, center=(xx, yy), radius=5, color=(0, 255, 0), thickness=-1, lineType=cv2.LINE_AA) #클릭한 위치에 초록색 점을 그려줌\n",
    "\n",
    "    cv2.imshow('img', img) #점을 찍은 이미지를 보여줌\n",
    "\n",
    "    # perspective transform\n",
    "    if len(src) == 4:\n",
    "      src_np = np.array(src, dtype=np.float32) #src에 있는 변수를 np.float32로 변환\n",
    "\n",
    "      #만들어낸 이미지의 가로길이=max(위쪽길이, 아래쪽길이)\n",
    "      width = max(np.linalg.norm(src_np[0] - src_np[1]), np.linalg.norm(src_np[2] - src_np[3])) \n",
    "      #만들어낸 이미지의 세로길이=max(왼쪽길이, 오른쪽길이)  \n",
    "      height = max(np.linalg.norm(src_np[0] - src_np[3]), np.linalg.norm(src_np[1] - src_np[2]))\n",
    "\n",
    "      dst_np = np.array([\n",
    "        [0, 0],\n",
    "        [width, 0],\n",
    "        [width, height],\n",
    "        [0, height]\n",
    "      ], dtype=np.float32)\n",
    "\n",
    "      M = cv2.getPerspectiveTransform(src=src_np, dst=dst_np) #M : 어떻게 변환해야할지 알려주는 행렬\n",
    "      result = cv2.warpPerspective(ori_img, M=M, dsize=(width, height))\n",
    "\n",
    "      cv2.imshow('result', result)\n",
    "      cv2.imwrite('D:\\OCR\\pre_data/%s_result%s' % (filename, ext), result) #완성된 이미지를 파일명_result를 붙여서 저장한다"
   ]
  },
  {
   "cell_type": "code",
   "execution_count": 12,
   "id": "5e10b388",
   "metadata": {},
   "outputs": [
    {
     "name": "stderr",
     "output_type": "stream",
     "text": [
      "<ipython-input-11-fef9a78b8ca6>:32: DeprecationWarning: an integer is required (got type numpy.float32).  Implicit conversion to integers using __int__ is deprecated, and may be removed in a future version of Python.\n",
      "  result = cv2.warpPerspective(ori_img, M=M, dsize=(width, height))\n"
     ]
    },
    {
     "data": {
      "text/plain": [
       "-1"
      ]
     },
     "execution_count": 12,
     "metadata": {},
     "output_type": "execute_result"
    }
   ],
   "source": [
    "# main\n",
    "cv2.namedWindow('img') #window 이름 지정\n",
    "cv2.setMouseCallback('img', mouse_handler) \n",
    "\n",
    "cv2.imshow('img', ori_img)\n",
    "cv2.waitKey(0)"
   ]
  },
  {
   "cell_type": "raw",
   "id": "ebb1fdce",
   "metadata": {},
   "source": [
    "주의 : 4개의 꼭짓점을 지정할 때 왼쪽위->오른쪽위->오른쪽아래->왼쪽아래로 지정"
   ]
  }
 ],
 "metadata": {
  "kernelspec": {
   "display_name": "Python 3",
   "language": "python",
   "name": "python3"
  },
  "language_info": {
   "codemirror_mode": {
    "name": "ipython",
    "version": 3
   },
   "file_extension": ".py",
   "mimetype": "text/x-python",
   "name": "python",
   "nbconvert_exporter": "python",
   "pygments_lexer": "ipython3",
   "version": "3.8.11"
  }
 },
 "nbformat": 4,
 "nbformat_minor": 5
}
