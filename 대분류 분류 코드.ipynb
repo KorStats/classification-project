{
  "nbformat": 4,
  "nbformat_minor": 0,
  "metadata": {
    "colab": {
      "name": "통계청 AI 프로젝트",
      "provenance": [],
      "collapsed_sections": [],
      "machine_shape": "hm",
      "include_colab_link": true
    },
    "kernelspec": {
      "display_name": "Python 3",
      "name": "python3"
    },
    "language_info": {
      "name": "python"
    },
    "accelerator": "GPU",
    "widgets": {
      "application/vnd.jupyter.widget-state+json": {
        "7cb85a9ec8d3432292e745b7340582e5": {
          "model_module": "@jupyter-widgets/controls",
          "model_name": "HBoxModel",
          "model_module_version": "1.5.0",
          "state": {
            "_dom_classes": [],
            "_model_module": "@jupyter-widgets/controls",
            "_model_module_version": "1.5.0",
            "_model_name": "HBoxModel",
            "_view_count": null,
            "_view_module": "@jupyter-widgets/controls",
            "_view_module_version": "1.5.0",
            "_view_name": "HBoxView",
            "box_style": "",
            "children": [
              "IPY_MODEL_55328bd38fff4ae19b65acaaafdcf358",
              "IPY_MODEL_362dae8761a4454eb1bf2242b18ad393",
              "IPY_MODEL_377ae174d2174632bb782487ac8417d1"
            ],
            "layout": "IPY_MODEL_a4c5ae3639a8467fa0bf5c2de1cc666b"
          }
        },
        "55328bd38fff4ae19b65acaaafdcf358": {
          "model_module": "@jupyter-widgets/controls",
          "model_name": "HTMLModel",
          "model_module_version": "1.5.0",
          "state": {
            "_dom_classes": [],
            "_model_module": "@jupyter-widgets/controls",
            "_model_module_version": "1.5.0",
            "_model_name": "HTMLModel",
            "_view_count": null,
            "_view_module": "@jupyter-widgets/controls",
            "_view_module_version": "1.5.0",
            "_view_name": "HTMLView",
            "description": "",
            "description_tooltip": null,
            "layout": "IPY_MODEL_b2eabbfe991a41d0bc4c76dfba830124",
            "placeholder": "​",
            "style": "IPY_MODEL_bbf5c31963514e4786648b46d4f5da92",
            "value": "100%"
          }
        },
        "362dae8761a4454eb1bf2242b18ad393": {
          "model_module": "@jupyter-widgets/controls",
          "model_name": "FloatProgressModel",
          "model_module_version": "1.5.0",
          "state": {
            "_dom_classes": [],
            "_model_module": "@jupyter-widgets/controls",
            "_model_module_version": "1.5.0",
            "_model_name": "FloatProgressModel",
            "_view_count": null,
            "_view_module": "@jupyter-widgets/controls",
            "_view_module_version": "1.5.0",
            "_view_name": "ProgressView",
            "bar_style": "success",
            "description": "",
            "description_tooltip": null,
            "layout": "IPY_MODEL_71229dc038384b86a04672c784b70c05",
            "max": 157,
            "min": 0,
            "orientation": "horizontal",
            "style": "IPY_MODEL_27b8488a55cd4b80a53a9bb7f44fc716",
            "value": 157
          }
        },
        "377ae174d2174632bb782487ac8417d1": {
          "model_module": "@jupyter-widgets/controls",
          "model_name": "HTMLModel",
          "model_module_version": "1.5.0",
          "state": {
            "_dom_classes": [],
            "_model_module": "@jupyter-widgets/controls",
            "_model_module_version": "1.5.0",
            "_model_name": "HTMLModel",
            "_view_count": null,
            "_view_module": "@jupyter-widgets/controls",
            "_view_module_version": "1.5.0",
            "_view_name": "HTMLView",
            "description": "",
            "description_tooltip": null,
            "layout": "IPY_MODEL_65d5543164bd47dca24efa9b00675b0f",
            "placeholder": "​",
            "style": "IPY_MODEL_f339afe6ace644b2aa6ac14cff3a4f7a",
            "value": " 157/157 [01:02&lt;00:00,  3.21it/s]"
          }
        },
        "a4c5ae3639a8467fa0bf5c2de1cc666b": {
          "model_module": "@jupyter-widgets/base",
          "model_name": "LayoutModel",
          "model_module_version": "1.2.0",
          "state": {
            "_model_module": "@jupyter-widgets/base",
            "_model_module_version": "1.2.0",
            "_model_name": "LayoutModel",
            "_view_count": null,
            "_view_module": "@jupyter-widgets/base",
            "_view_module_version": "1.2.0",
            "_view_name": "LayoutView",
            "align_content": null,
            "align_items": null,
            "align_self": null,
            "border": null,
            "bottom": null,
            "display": null,
            "flex": null,
            "flex_flow": null,
            "grid_area": null,
            "grid_auto_columns": null,
            "grid_auto_flow": null,
            "grid_auto_rows": null,
            "grid_column": null,
            "grid_gap": null,
            "grid_row": null,
            "grid_template_areas": null,
            "grid_template_columns": null,
            "grid_template_rows": null,
            "height": null,
            "justify_content": null,
            "justify_items": null,
            "left": null,
            "margin": null,
            "max_height": null,
            "max_width": null,
            "min_height": null,
            "min_width": null,
            "object_fit": null,
            "object_position": null,
            "order": null,
            "overflow": null,
            "overflow_x": null,
            "overflow_y": null,
            "padding": null,
            "right": null,
            "top": null,
            "visibility": null,
            "width": null
          }
        },
        "b2eabbfe991a41d0bc4c76dfba830124": {
          "model_module": "@jupyter-widgets/base",
          "model_name": "LayoutModel",
          "model_module_version": "1.2.0",
          "state": {
            "_model_module": "@jupyter-widgets/base",
            "_model_module_version": "1.2.0",
            "_model_name": "LayoutModel",
            "_view_count": null,
            "_view_module": "@jupyter-widgets/base",
            "_view_module_version": "1.2.0",
            "_view_name": "LayoutView",
            "align_content": null,
            "align_items": null,
            "align_self": null,
            "border": null,
            "bottom": null,
            "display": null,
            "flex": null,
            "flex_flow": null,
            "grid_area": null,
            "grid_auto_columns": null,
            "grid_auto_flow": null,
            "grid_auto_rows": null,
            "grid_column": null,
            "grid_gap": null,
            "grid_row": null,
            "grid_template_areas": null,
            "grid_template_columns": null,
            "grid_template_rows": null,
            "height": null,
            "justify_content": null,
            "justify_items": null,
            "left": null,
            "margin": null,
            "max_height": null,
            "max_width": null,
            "min_height": null,
            "min_width": null,
            "object_fit": null,
            "object_position": null,
            "order": null,
            "overflow": null,
            "overflow_x": null,
            "overflow_y": null,
            "padding": null,
            "right": null,
            "top": null,
            "visibility": null,
            "width": null
          }
        },
        "bbf5c31963514e4786648b46d4f5da92": {
          "model_module": "@jupyter-widgets/controls",
          "model_name": "DescriptionStyleModel",
          "model_module_version": "1.5.0",
          "state": {
            "_model_module": "@jupyter-widgets/controls",
            "_model_module_version": "1.5.0",
            "_model_name": "DescriptionStyleModel",
            "_view_count": null,
            "_view_module": "@jupyter-widgets/base",
            "_view_module_version": "1.2.0",
            "_view_name": "StyleView",
            "description_width": ""
          }
        },
        "71229dc038384b86a04672c784b70c05": {
          "model_module": "@jupyter-widgets/base",
          "model_name": "LayoutModel",
          "model_module_version": "1.2.0",
          "state": {
            "_model_module": "@jupyter-widgets/base",
            "_model_module_version": "1.2.0",
            "_model_name": "LayoutModel",
            "_view_count": null,
            "_view_module": "@jupyter-widgets/base",
            "_view_module_version": "1.2.0",
            "_view_name": "LayoutView",
            "align_content": null,
            "align_items": null,
            "align_self": null,
            "border": null,
            "bottom": null,
            "display": null,
            "flex": null,
            "flex_flow": null,
            "grid_area": null,
            "grid_auto_columns": null,
            "grid_auto_flow": null,
            "grid_auto_rows": null,
            "grid_column": null,
            "grid_gap": null,
            "grid_row": null,
            "grid_template_areas": null,
            "grid_template_columns": null,
            "grid_template_rows": null,
            "height": null,
            "justify_content": null,
            "justify_items": null,
            "left": null,
            "margin": null,
            "max_height": null,
            "max_width": null,
            "min_height": null,
            "min_width": null,
            "object_fit": null,
            "object_position": null,
            "order": null,
            "overflow": null,
            "overflow_x": null,
            "overflow_y": null,
            "padding": null,
            "right": null,
            "top": null,
            "visibility": null,
            "width": null
          }
        },
        "27b8488a55cd4b80a53a9bb7f44fc716": {
          "model_module": "@jupyter-widgets/controls",
          "model_name": "ProgressStyleModel",
          "model_module_version": "1.5.0",
          "state": {
            "_model_module": "@jupyter-widgets/controls",
            "_model_module_version": "1.5.0",
            "_model_name": "ProgressStyleModel",
            "_view_count": null,
            "_view_module": "@jupyter-widgets/base",
            "_view_module_version": "1.2.0",
            "_view_name": "StyleView",
            "bar_color": null,
            "description_width": ""
          }
        },
        "65d5543164bd47dca24efa9b00675b0f": {
          "model_module": "@jupyter-widgets/base",
          "model_name": "LayoutModel",
          "model_module_version": "1.2.0",
          "state": {
            "_model_module": "@jupyter-widgets/base",
            "_model_module_version": "1.2.0",
            "_model_name": "LayoutModel",
            "_view_count": null,
            "_view_module": "@jupyter-widgets/base",
            "_view_module_version": "1.2.0",
            "_view_name": "LayoutView",
            "align_content": null,
            "align_items": null,
            "align_self": null,
            "border": null,
            "bottom": null,
            "display": null,
            "flex": null,
            "flex_flow": null,
            "grid_area": null,
            "grid_auto_columns": null,
            "grid_auto_flow": null,
            "grid_auto_rows": null,
            "grid_column": null,
            "grid_gap": null,
            "grid_row": null,
            "grid_template_areas": null,
            "grid_template_columns": null,
            "grid_template_rows": null,
            "height": null,
            "justify_content": null,
            "justify_items": null,
            "left": null,
            "margin": null,
            "max_height": null,
            "max_width": null,
            "min_height": null,
            "min_width": null,
            "object_fit": null,
            "object_position": null,
            "order": null,
            "overflow": null,
            "overflow_x": null,
            "overflow_y": null,
            "padding": null,
            "right": null,
            "top": null,
            "visibility": null,
            "width": null
          }
        },
        "f339afe6ace644b2aa6ac14cff3a4f7a": {
          "model_module": "@jupyter-widgets/controls",
          "model_name": "DescriptionStyleModel",
          "model_module_version": "1.5.0",
          "state": {
            "_model_module": "@jupyter-widgets/controls",
            "_model_module_version": "1.5.0",
            "_model_name": "DescriptionStyleModel",
            "_view_count": null,
            "_view_module": "@jupyter-widgets/base",
            "_view_module_version": "1.2.0",
            "_view_name": "StyleView",
            "description_width": ""
          }
        },
        "37a7747c68df49dab91a60cc6c7ba5a2": {
          "model_module": "@jupyter-widgets/controls",
          "model_name": "HBoxModel",
          "model_module_version": "1.5.0",
          "state": {
            "_dom_classes": [],
            "_model_module": "@jupyter-widgets/controls",
            "_model_module_version": "1.5.0",
            "_model_name": "HBoxModel",
            "_view_count": null,
            "_view_module": "@jupyter-widgets/controls",
            "_view_module_version": "1.5.0",
            "_view_name": "HBoxView",
            "box_style": "",
            "children": [
              "IPY_MODEL_cb63b140747d4df481a94141f84240b2",
              "IPY_MODEL_3219afda79cd44fa84d1956bd50ec9c6",
              "IPY_MODEL_2409020877b44703ae08b638ca6a560a"
            ],
            "layout": "IPY_MODEL_c383870b809141cebe00e23e86ff643f"
          }
        },
        "cb63b140747d4df481a94141f84240b2": {
          "model_module": "@jupyter-widgets/controls",
          "model_name": "HTMLModel",
          "model_module_version": "1.5.0",
          "state": {
            "_dom_classes": [],
            "_model_module": "@jupyter-widgets/controls",
            "_model_module_version": "1.5.0",
            "_model_name": "HTMLModel",
            "_view_count": null,
            "_view_module": "@jupyter-widgets/controls",
            "_view_module_version": "1.5.0",
            "_view_name": "HTMLView",
            "description": "",
            "description_tooltip": null,
            "layout": "IPY_MODEL_02a406be779240caa03a81dd778be857",
            "placeholder": "​",
            "style": "IPY_MODEL_d52548be15da4982b1c7f06ef0db9137",
            "value": "100%"
          }
        },
        "3219afda79cd44fa84d1956bd50ec9c6": {
          "model_module": "@jupyter-widgets/controls",
          "model_name": "FloatProgressModel",
          "model_module_version": "1.5.0",
          "state": {
            "_dom_classes": [],
            "_model_module": "@jupyter-widgets/controls",
            "_model_module_version": "1.5.0",
            "_model_name": "FloatProgressModel",
            "_view_count": null,
            "_view_module": "@jupyter-widgets/controls",
            "_view_module_version": "1.5.0",
            "_view_name": "ProgressView",
            "bar_style": "success",
            "description": "",
            "description_tooltip": null,
            "layout": "IPY_MODEL_10639284858743d98f4210845fd83de6",
            "max": 15469,
            "min": 0,
            "orientation": "horizontal",
            "style": "IPY_MODEL_64b4f95f5f9348f29ca246e9c22e1b4b",
            "value": 15469
          }
        },
        "2409020877b44703ae08b638ca6a560a": {
          "model_module": "@jupyter-widgets/controls",
          "model_name": "HTMLModel",
          "model_module_version": "1.5.0",
          "state": {
            "_dom_classes": [],
            "_model_module": "@jupyter-widgets/controls",
            "_model_module_version": "1.5.0",
            "_model_name": "HTMLModel",
            "_view_count": null,
            "_view_module": "@jupyter-widgets/controls",
            "_view_module_version": "1.5.0",
            "_view_name": "HTMLView",
            "description": "",
            "description_tooltip": null,
            "layout": "IPY_MODEL_35c5304afe1a47f294b3c89337b71df7",
            "placeholder": "​",
            "style": "IPY_MODEL_4c264adf2d3445a6b77c5c335d53cb29",
            "value": " 15469/15469 [33:19&lt;00:00,  8.27it/s]"
          }
        },
        "c383870b809141cebe00e23e86ff643f": {
          "model_module": "@jupyter-widgets/base",
          "model_name": "LayoutModel",
          "model_module_version": "1.2.0",
          "state": {
            "_model_module": "@jupyter-widgets/base",
            "_model_module_version": "1.2.0",
            "_model_name": "LayoutModel",
            "_view_count": null,
            "_view_module": "@jupyter-widgets/base",
            "_view_module_version": "1.2.0",
            "_view_name": "LayoutView",
            "align_content": null,
            "align_items": null,
            "align_self": null,
            "border": null,
            "bottom": null,
            "display": null,
            "flex": null,
            "flex_flow": null,
            "grid_area": null,
            "grid_auto_columns": null,
            "grid_auto_flow": null,
            "grid_auto_rows": null,
            "grid_column": null,
            "grid_gap": null,
            "grid_row": null,
            "grid_template_areas": null,
            "grid_template_columns": null,
            "grid_template_rows": null,
            "height": null,
            "justify_content": null,
            "justify_items": null,
            "left": null,
            "margin": null,
            "max_height": null,
            "max_width": null,
            "min_height": null,
            "min_width": null,
            "object_fit": null,
            "object_position": null,
            "order": null,
            "overflow": null,
            "overflow_x": null,
            "overflow_y": null,
            "padding": null,
            "right": null,
            "top": null,
            "visibility": null,
            "width": null
          }
        },
        "02a406be779240caa03a81dd778be857": {
          "model_module": "@jupyter-widgets/base",
          "model_name": "LayoutModel",
          "model_module_version": "1.2.0",
          "state": {
            "_model_module": "@jupyter-widgets/base",
            "_model_module_version": "1.2.0",
            "_model_name": "LayoutModel",
            "_view_count": null,
            "_view_module": "@jupyter-widgets/base",
            "_view_module_version": "1.2.0",
            "_view_name": "LayoutView",
            "align_content": null,
            "align_items": null,
            "align_self": null,
            "border": null,
            "bottom": null,
            "display": null,
            "flex": null,
            "flex_flow": null,
            "grid_area": null,
            "grid_auto_columns": null,
            "grid_auto_flow": null,
            "grid_auto_rows": null,
            "grid_column": null,
            "grid_gap": null,
            "grid_row": null,
            "grid_template_areas": null,
            "grid_template_columns": null,
            "grid_template_rows": null,
            "height": null,
            "justify_content": null,
            "justify_items": null,
            "left": null,
            "margin": null,
            "max_height": null,
            "max_width": null,
            "min_height": null,
            "min_width": null,
            "object_fit": null,
            "object_position": null,
            "order": null,
            "overflow": null,
            "overflow_x": null,
            "overflow_y": null,
            "padding": null,
            "right": null,
            "top": null,
            "visibility": null,
            "width": null
          }
        },
        "d52548be15da4982b1c7f06ef0db9137": {
          "model_module": "@jupyter-widgets/controls",
          "model_name": "DescriptionStyleModel",
          "model_module_version": "1.5.0",
          "state": {
            "_model_module": "@jupyter-widgets/controls",
            "_model_module_version": "1.5.0",
            "_model_name": "DescriptionStyleModel",
            "_view_count": null,
            "_view_module": "@jupyter-widgets/base",
            "_view_module_version": "1.2.0",
            "_view_name": "StyleView",
            "description_width": ""
          }
        },
        "10639284858743d98f4210845fd83de6": {
          "model_module": "@jupyter-widgets/base",
          "model_name": "LayoutModel",
          "model_module_version": "1.2.0",
          "state": {
            "_model_module": "@jupyter-widgets/base",
            "_model_module_version": "1.2.0",
            "_model_name": "LayoutModel",
            "_view_count": null,
            "_view_module": "@jupyter-widgets/base",
            "_view_module_version": "1.2.0",
            "_view_name": "LayoutView",
            "align_content": null,
            "align_items": null,
            "align_self": null,
            "border": null,
            "bottom": null,
            "display": null,
            "flex": null,
            "flex_flow": null,
            "grid_area": null,
            "grid_auto_columns": null,
            "grid_auto_flow": null,
            "grid_auto_rows": null,
            "grid_column": null,
            "grid_gap": null,
            "grid_row": null,
            "grid_template_areas": null,
            "grid_template_columns": null,
            "grid_template_rows": null,
            "height": null,
            "justify_content": null,
            "justify_items": null,
            "left": null,
            "margin": null,
            "max_height": null,
            "max_width": null,
            "min_height": null,
            "min_width": null,
            "object_fit": null,
            "object_position": null,
            "order": null,
            "overflow": null,
            "overflow_x": null,
            "overflow_y": null,
            "padding": null,
            "right": null,
            "top": null,
            "visibility": null,
            "width": null
          }
        },
        "64b4f95f5f9348f29ca246e9c22e1b4b": {
          "model_module": "@jupyter-widgets/controls",
          "model_name": "ProgressStyleModel",
          "model_module_version": "1.5.0",
          "state": {
            "_model_module": "@jupyter-widgets/controls",
            "_model_module_version": "1.5.0",
            "_model_name": "ProgressStyleModel",
            "_view_count": null,
            "_view_module": "@jupyter-widgets/base",
            "_view_module_version": "1.2.0",
            "_view_name": "StyleView",
            "bar_color": null,
            "description_width": ""
          }
        },
        "35c5304afe1a47f294b3c89337b71df7": {
          "model_module": "@jupyter-widgets/base",
          "model_name": "LayoutModel",
          "model_module_version": "1.2.0",
          "state": {
            "_model_module": "@jupyter-widgets/base",
            "_model_module_version": "1.2.0",
            "_model_name": "LayoutModel",
            "_view_count": null,
            "_view_module": "@jupyter-widgets/base",
            "_view_module_version": "1.2.0",
            "_view_name": "LayoutView",
            "align_content": null,
            "align_items": null,
            "align_self": null,
            "border": null,
            "bottom": null,
            "display": null,
            "flex": null,
            "flex_flow": null,
            "grid_area": null,
            "grid_auto_columns": null,
            "grid_auto_flow": null,
            "grid_auto_rows": null,
            "grid_column": null,
            "grid_gap": null,
            "grid_row": null,
            "grid_template_areas": null,
            "grid_template_columns": null,
            "grid_template_rows": null,
            "height": null,
            "justify_content": null,
            "justify_items": null,
            "left": null,
            "margin": null,
            "max_height": null,
            "max_width": null,
            "min_height": null,
            "min_width": null,
            "object_fit": null,
            "object_position": null,
            "order": null,
            "overflow": null,
            "overflow_x": null,
            "overflow_y": null,
            "padding": null,
            "right": null,
            "top": null,
            "visibility": null,
            "width": null
          }
        },
        "4c264adf2d3445a6b77c5c335d53cb29": {
          "model_module": "@jupyter-widgets/controls",
          "model_name": "DescriptionStyleModel",
          "model_module_version": "1.5.0",
          "state": {
            "_model_module": "@jupyter-widgets/controls",
            "_model_module_version": "1.5.0",
            "_model_name": "DescriptionStyleModel",
            "_view_count": null,
            "_view_module": "@jupyter-widgets/base",
            "_view_module_version": "1.2.0",
            "_view_name": "StyleView",
            "description_width": ""
          }
        }
      }
    }
  },
  "cells": [
    {
      "cell_type": "markdown",
      "metadata": {
        "id": "view-in-github",
        "colab_type": "text"
      },
      "source": [
        "<a href=\"https://colab.research.google.com/github/KorStats/ocr_receipt/blob/main/%EB%8C%80%EB%B6%84%EB%A5%98%20%EB%B6%84%EB%A5%98%20%EC%BD%94%EB%93%9C.ipynb\" target=\"_parent\"><img src=\"https://colab.research.google.com/assets/colab-badge.svg\" alt=\"Open In Colab\"/></a>"
      ]
    },
    {
      "cell_type": "markdown",
      "metadata": {
        "id": "U3wrPXQ_ORLb"
      },
      "source": [
        "## 구글드라이브에서 파일 읽어오기"
      ]
    },
    {
      "cell_type": "code",
      "source": [
        "!pip install mxnet\n",
        "!pip install gluonnlp pandas tqdm\n",
        "!pip install sentencepiece\n",
        "!pip install transformers==3.0.2\n",
        "!pip install torch\n",
        "\n",
        "#깃허브에서 KoBERT 파일 로드\n",
        "!pip install git+https://git@github.com/SKTBrain/KoBERT.git@master\n",
        "import torch\n",
        "from torch import nn\n",
        "import torch.nn.functional as F\n",
        "import torch.optim as optim\n",
        "from torch.utils.data import Dataset, DataLoader\n",
        "import gluonnlp as nlp\n",
        "import numpy as np\n",
        "from tqdm import tqdm, tqdm_notebook\n",
        "#kobert\n",
        "from kobert.utils import get_tokenizer\n",
        "from kobert.pytorch_kobert import get_pytorch_kobert_model\n",
        "\n",
        "#transformers\n",
        "from transformers import AdamW\n",
        "from transformers.optimization import get_cosine_schedule_with_warmup\n",
        "#GPU 사용\n",
        "device = torch.device(\"cuda:0\")\n",
        "#BERT 모델, Vocabulary 불러오기\n",
        "bertmodel, vocab = get_pytorch_kobert_model()"
      ],
      "metadata": {
        "colab": {
          "base_uri": "https://localhost:8080/"
        },
        "id": "gWN17JM7BHC7",
        "outputId": "4d1b9a41-5326-4797-90f2-ce26a2704560"
      },
      "execution_count": 2,
      "outputs": [
        {
          "output_type": "stream",
          "name": "stdout",
          "text": [
            "Collecting mxnet\n",
            "  Downloading mxnet-1.9.0-py3-none-manylinux2014_x86_64.whl (47.3 MB)\n",
            "\u001b[K     |████████████████████████████████| 47.3 MB 49.9 MB/s \n",
            "\u001b[?25hRequirement already satisfied: requests<3,>=2.20.0 in /usr/local/lib/python3.7/dist-packages (from mxnet) (2.23.0)\n",
            "Collecting graphviz<0.9.0,>=0.8.1\n",
            "  Downloading graphviz-0.8.4-py2.py3-none-any.whl (16 kB)\n",
            "Requirement already satisfied: numpy<2.0.0,>1.16.0 in /usr/local/lib/python3.7/dist-packages (from mxnet) (1.21.5)\n",
            "Requirement already satisfied: certifi>=2017.4.17 in /usr/local/lib/python3.7/dist-packages (from requests<3,>=2.20.0->mxnet) (2021.10.8)\n",
            "Requirement already satisfied: chardet<4,>=3.0.2 in /usr/local/lib/python3.7/dist-packages (from requests<3,>=2.20.0->mxnet) (3.0.4)\n",
            "Requirement already satisfied: idna<3,>=2.5 in /usr/local/lib/python3.7/dist-packages (from requests<3,>=2.20.0->mxnet) (2.10)\n",
            "Requirement already satisfied: urllib3!=1.25.0,!=1.25.1,<1.26,>=1.21.1 in /usr/local/lib/python3.7/dist-packages (from requests<3,>=2.20.0->mxnet) (1.24.3)\n",
            "Installing collected packages: graphviz, mxnet\n",
            "  Attempting uninstall: graphviz\n",
            "    Found existing installation: graphviz 0.10.1\n",
            "    Uninstalling graphviz-0.10.1:\n",
            "      Successfully uninstalled graphviz-0.10.1\n",
            "Successfully installed graphviz-0.8.4 mxnet-1.9.0\n",
            "Collecting gluonnlp\n",
            "  Downloading gluonnlp-0.10.0.tar.gz (344 kB)\n",
            "\u001b[K     |████████████████████████████████| 344 kB 4.0 MB/s \n",
            "\u001b[?25hRequirement already satisfied: pandas in /usr/local/lib/python3.7/dist-packages (1.3.5)\n",
            "Requirement already satisfied: tqdm in /usr/local/lib/python3.7/dist-packages (4.63.0)\n",
            "Requirement already satisfied: numpy>=1.16.0 in /usr/local/lib/python3.7/dist-packages (from gluonnlp) (1.21.5)\n",
            "Requirement already satisfied: cython in /usr/local/lib/python3.7/dist-packages (from gluonnlp) (0.29.28)\n",
            "Requirement already satisfied: packaging in /usr/local/lib/python3.7/dist-packages (from gluonnlp) (21.3)\n",
            "Requirement already satisfied: pytz>=2017.3 in /usr/local/lib/python3.7/dist-packages (from pandas) (2018.9)\n",
            "Requirement already satisfied: python-dateutil>=2.7.3 in /usr/local/lib/python3.7/dist-packages (from pandas) (2.8.2)\n",
            "Requirement already satisfied: six>=1.5 in /usr/local/lib/python3.7/dist-packages (from python-dateutil>=2.7.3->pandas) (1.15.0)\n",
            "Requirement already satisfied: pyparsing!=3.0.5,>=2.0.2 in /usr/local/lib/python3.7/dist-packages (from packaging->gluonnlp) (3.0.7)\n",
            "Building wheels for collected packages: gluonnlp\n",
            "  Building wheel for gluonnlp (setup.py) ... \u001b[?25l\u001b[?25hdone\n",
            "  Created wheel for gluonnlp: filename=gluonnlp-0.10.0-cp37-cp37m-linux_x86_64.whl size=595740 sha256=ddc60e4c7dceb032a0c905a07eba48bc7316309854edf55c4cb93261c74c5a47\n",
            "  Stored in directory: /root/.cache/pip/wheels/be/b4/06/7f3fdfaf707e6b5e98b79c041e023acffbe395d78a527eae00\n",
            "Successfully built gluonnlp\n",
            "Installing collected packages: gluonnlp\n",
            "Successfully installed gluonnlp-0.10.0\n",
            "Collecting sentencepiece\n",
            "  Downloading sentencepiece-0.1.96-cp37-cp37m-manylinux_2_17_x86_64.manylinux2014_x86_64.whl (1.2 MB)\n",
            "\u001b[K     |████████████████████████████████| 1.2 MB 4.0 MB/s \n",
            "\u001b[?25hInstalling collected packages: sentencepiece\n",
            "Successfully installed sentencepiece-0.1.96\n",
            "Collecting transformers==3.0.2\n",
            "  Downloading transformers-3.0.2-py3-none-any.whl (769 kB)\n",
            "\u001b[K     |████████████████████████████████| 769 kB 2.7 MB/s \n",
            "\u001b[?25hRequirement already satisfied: regex!=2019.12.17 in /usr/local/lib/python3.7/dist-packages (from transformers==3.0.2) (2019.12.20)\n",
            "Requirement already satisfied: packaging in /usr/local/lib/python3.7/dist-packages (from transformers==3.0.2) (21.3)\n",
            "Requirement already satisfied: sentencepiece!=0.1.92 in /usr/local/lib/python3.7/dist-packages (from transformers==3.0.2) (0.1.96)\n",
            "Collecting sacremoses\n",
            "  Downloading sacremoses-0.0.47-py2.py3-none-any.whl (895 kB)\n",
            "\u001b[K     |████████████████████████████████| 895 kB 55.6 MB/s \n",
            "\u001b[?25hRequirement already satisfied: requests in /usr/local/lib/python3.7/dist-packages (from transformers==3.0.2) (2.23.0)\n",
            "Collecting tokenizers==0.8.1.rc1\n",
            "  Downloading tokenizers-0.8.1rc1-cp37-cp37m-manylinux1_x86_64.whl (3.0 MB)\n",
            "\u001b[K     |████████████████████████████████| 3.0 MB 42.8 MB/s \n",
            "\u001b[?25hRequirement already satisfied: numpy in /usr/local/lib/python3.7/dist-packages (from transformers==3.0.2) (1.21.5)\n",
            "Requirement already satisfied: tqdm>=4.27 in /usr/local/lib/python3.7/dist-packages (from transformers==3.0.2) (4.63.0)\n",
            "Requirement already satisfied: filelock in /usr/local/lib/python3.7/dist-packages (from transformers==3.0.2) (3.6.0)\n",
            "Requirement already satisfied: pyparsing!=3.0.5,>=2.0.2 in /usr/local/lib/python3.7/dist-packages (from packaging->transformers==3.0.2) (3.0.7)\n",
            "Requirement already satisfied: urllib3!=1.25.0,!=1.25.1,<1.26,>=1.21.1 in /usr/local/lib/python3.7/dist-packages (from requests->transformers==3.0.2) (1.24.3)\n",
            "Requirement already satisfied: certifi>=2017.4.17 in /usr/local/lib/python3.7/dist-packages (from requests->transformers==3.0.2) (2021.10.8)\n",
            "Requirement already satisfied: chardet<4,>=3.0.2 in /usr/local/lib/python3.7/dist-packages (from requests->transformers==3.0.2) (3.0.4)\n",
            "Requirement already satisfied: idna<3,>=2.5 in /usr/local/lib/python3.7/dist-packages (from requests->transformers==3.0.2) (2.10)\n",
            "Requirement already satisfied: click in /usr/local/lib/python3.7/dist-packages (from sacremoses->transformers==3.0.2) (7.1.2)\n",
            "Requirement already satisfied: six in /usr/local/lib/python3.7/dist-packages (from sacremoses->transformers==3.0.2) (1.15.0)\n",
            "Requirement already satisfied: joblib in /usr/local/lib/python3.7/dist-packages (from sacremoses->transformers==3.0.2) (1.1.0)\n",
            "Installing collected packages: tokenizers, sacremoses, transformers\n",
            "Successfully installed sacremoses-0.0.47 tokenizers-0.8.1rc1 transformers-3.0.2\n",
            "Requirement already satisfied: torch in /usr/local/lib/python3.7/dist-packages (1.10.0+cu111)\n",
            "Requirement already satisfied: typing-extensions in /usr/local/lib/python3.7/dist-packages (from torch) (3.10.0.2)\n",
            "Collecting git+https://****@github.com/SKTBrain/KoBERT.git@master\n",
            "  Cloning https://****@github.com/SKTBrain/KoBERT.git (to revision master) to /tmp/pip-req-build-djocxrx2\n",
            "  Running command git clone -q 'https://****@github.com/SKTBrain/KoBERT.git' /tmp/pip-req-build-djocxrx2\n",
            "Collecting boto3\n",
            "  Downloading boto3-1.21.19-py3-none-any.whl (132 kB)\n",
            "\u001b[K     |████████████████████████████████| 132 kB 3.2 MB/s \n",
            "\u001b[?25hRequirement already satisfied: gluonnlp>=0.6.0 in /usr/local/lib/python3.7/dist-packages (from kobert==0.2.3) (0.10.0)\n",
            "Requirement already satisfied: mxnet>=1.4.0 in /usr/local/lib/python3.7/dist-packages (from kobert==0.2.3) (1.9.0)\n",
            "Collecting onnxruntime==1.8.0\n",
            "  Downloading onnxruntime-1.8.0-cp37-cp37m-manylinux_2_17_x86_64.manylinux2014_x86_64.whl (4.5 MB)\n",
            "\u001b[K     |████████████████████████████████| 4.5 MB 25.6 MB/s \n",
            "\u001b[?25hRequirement already satisfied: sentencepiece>=0.1.6 in /usr/local/lib/python3.7/dist-packages (from kobert==0.2.3) (0.1.96)\n",
            "Requirement already satisfied: torch>=1.7.0 in /usr/local/lib/python3.7/dist-packages (from kobert==0.2.3) (1.10.0+cu111)\n",
            "Collecting transformers>=4.8.1\n",
            "  Downloading transformers-4.17.0-py3-none-any.whl (3.8 MB)\n",
            "\u001b[K     |████████████████████████████████| 3.8 MB 32.7 MB/s \n",
            "\u001b[?25hRequirement already satisfied: numpy>=1.16.6 in /usr/local/lib/python3.7/dist-packages (from onnxruntime==1.8.0->kobert==0.2.3) (1.21.5)\n",
            "Requirement already satisfied: protobuf in /usr/local/lib/python3.7/dist-packages (from onnxruntime==1.8.0->kobert==0.2.3) (3.17.3)\n",
            "Requirement already satisfied: flatbuffers in /usr/local/lib/python3.7/dist-packages (from onnxruntime==1.8.0->kobert==0.2.3) (2.0)\n",
            "Requirement already satisfied: packaging in /usr/local/lib/python3.7/dist-packages (from gluonnlp>=0.6.0->kobert==0.2.3) (21.3)\n",
            "Requirement already satisfied: cython in /usr/local/lib/python3.7/dist-packages (from gluonnlp>=0.6.0->kobert==0.2.3) (0.29.28)\n",
            "Requirement already satisfied: graphviz<0.9.0,>=0.8.1 in /usr/local/lib/python3.7/dist-packages (from mxnet>=1.4.0->kobert==0.2.3) (0.8.4)\n",
            "Requirement already satisfied: requests<3,>=2.20.0 in /usr/local/lib/python3.7/dist-packages (from mxnet>=1.4.0->kobert==0.2.3) (2.23.0)\n",
            "Requirement already satisfied: certifi>=2017.4.17 in /usr/local/lib/python3.7/dist-packages (from requests<3,>=2.20.0->mxnet>=1.4.0->kobert==0.2.3) (2021.10.8)\n",
            "Requirement already satisfied: urllib3!=1.25.0,!=1.25.1,<1.26,>=1.21.1 in /usr/local/lib/python3.7/dist-packages (from requests<3,>=2.20.0->mxnet>=1.4.0->kobert==0.2.3) (1.24.3)\n",
            "Requirement already satisfied: idna<3,>=2.5 in /usr/local/lib/python3.7/dist-packages (from requests<3,>=2.20.0->mxnet>=1.4.0->kobert==0.2.3) (2.10)\n",
            "Requirement already satisfied: chardet<4,>=3.0.2 in /usr/local/lib/python3.7/dist-packages (from requests<3,>=2.20.0->mxnet>=1.4.0->kobert==0.2.3) (3.0.4)\n",
            "Requirement already satisfied: typing-extensions in /usr/local/lib/python3.7/dist-packages (from torch>=1.7.0->kobert==0.2.3) (3.10.0.2)\n",
            "Requirement already satisfied: sacremoses in /usr/local/lib/python3.7/dist-packages (from transformers>=4.8.1->kobert==0.2.3) (0.0.47)\n",
            "Collecting tokenizers!=0.11.3,>=0.11.1\n",
            "  Downloading tokenizers-0.11.6-cp37-cp37m-manylinux_2_12_x86_64.manylinux2010_x86_64.whl (6.5 MB)\n",
            "\u001b[K     |████████████████████████████████| 6.5 MB 43.7 MB/s \n",
            "\u001b[?25hRequirement already satisfied: tqdm>=4.27 in /usr/local/lib/python3.7/dist-packages (from transformers>=4.8.1->kobert==0.2.3) (4.63.0)\n",
            "Requirement already satisfied: importlib-metadata in /usr/local/lib/python3.7/dist-packages (from transformers>=4.8.1->kobert==0.2.3) (4.11.2)\n",
            "Collecting pyyaml>=5.1\n",
            "  Downloading PyYAML-6.0-cp37-cp37m-manylinux_2_5_x86_64.manylinux1_x86_64.manylinux_2_12_x86_64.manylinux2010_x86_64.whl (596 kB)\n",
            "\u001b[K     |████████████████████████████████| 596 kB 59.2 MB/s \n",
            "\u001b[?25hRequirement already satisfied: regex!=2019.12.17 in /usr/local/lib/python3.7/dist-packages (from transformers>=4.8.1->kobert==0.2.3) (2019.12.20)\n",
            "Collecting huggingface-hub<1.0,>=0.1.0\n",
            "  Downloading huggingface_hub-0.4.0-py3-none-any.whl (67 kB)\n",
            "\u001b[K     |████████████████████████████████| 67 kB 5.3 MB/s \n",
            "\u001b[?25hRequirement already satisfied: filelock in /usr/local/lib/python3.7/dist-packages (from transformers>=4.8.1->kobert==0.2.3) (3.6.0)\n",
            "Requirement already satisfied: pyparsing!=3.0.5,>=2.0.2 in /usr/local/lib/python3.7/dist-packages (from packaging->gluonnlp>=0.6.0->kobert==0.2.3) (3.0.7)\n",
            "Collecting botocore<1.25.0,>=1.24.19\n",
            "  Downloading botocore-1.24.19-py3-none-any.whl (8.6 MB)\n",
            "\u001b[K     |████████████████████████████████| 8.6 MB 44.5 MB/s \n",
            "\u001b[?25hCollecting s3transfer<0.6.0,>=0.5.0\n",
            "  Downloading s3transfer-0.5.2-py3-none-any.whl (79 kB)\n",
            "\u001b[K     |████████████████████████████████| 79 kB 7.3 MB/s \n",
            "\u001b[?25hCollecting jmespath<1.0.0,>=0.7.1\n",
            "  Downloading jmespath-0.10.0-py2.py3-none-any.whl (24 kB)\n",
            "Requirement already satisfied: python-dateutil<3.0.0,>=2.1 in /usr/local/lib/python3.7/dist-packages (from botocore<1.25.0,>=1.24.19->boto3->kobert==0.2.3) (2.8.2)\n",
            "Collecting urllib3!=1.25.0,!=1.25.1,<1.26,>=1.21.1\n",
            "  Downloading urllib3-1.25.11-py2.py3-none-any.whl (127 kB)\n",
            "\u001b[K     |████████████████████████████████| 127 kB 51.8 MB/s \n",
            "\u001b[?25hRequirement already satisfied: six>=1.5 in /usr/local/lib/python3.7/dist-packages (from python-dateutil<3.0.0,>=2.1->botocore<1.25.0,>=1.24.19->boto3->kobert==0.2.3) (1.15.0)\n",
            "Requirement already satisfied: zipp>=0.5 in /usr/local/lib/python3.7/dist-packages (from importlib-metadata->transformers>=4.8.1->kobert==0.2.3) (3.7.0)\n",
            "Requirement already satisfied: click in /usr/local/lib/python3.7/dist-packages (from sacremoses->transformers>=4.8.1->kobert==0.2.3) (7.1.2)\n",
            "Requirement already satisfied: joblib in /usr/local/lib/python3.7/dist-packages (from sacremoses->transformers>=4.8.1->kobert==0.2.3) (1.1.0)\n",
            "Building wheels for collected packages: kobert\n",
            "  Building wheel for kobert (setup.py) ... \u001b[?25l\u001b[?25hdone\n",
            "  Created wheel for kobert: filename=kobert-0.2.3-py3-none-any.whl size=15674 sha256=d90643d403edb3f568f53a14235a40520aea989ef4eb0483610f8bfc4c4d5958\n",
            "  Stored in directory: /tmp/pip-ephem-wheel-cache-wd__j50o/wheels/d3/68/ca/334747dfb038313b49cf71f84832a33372f3470d9ddfd051c0\n",
            "Successfully built kobert\n",
            "Installing collected packages: urllib3, jmespath, pyyaml, botocore, tokenizers, s3transfer, huggingface-hub, transformers, onnxruntime, boto3, kobert\n",
            "  Attempting uninstall: urllib3\n",
            "    Found existing installation: urllib3 1.24.3\n",
            "    Uninstalling urllib3-1.24.3:\n",
            "      Successfully uninstalled urllib3-1.24.3\n",
            "  Attempting uninstall: pyyaml\n",
            "    Found existing installation: PyYAML 3.13\n",
            "    Uninstalling PyYAML-3.13:\n",
            "      Successfully uninstalled PyYAML-3.13\n",
            "  Attempting uninstall: tokenizers\n",
            "    Found existing installation: tokenizers 0.8.1rc1\n",
            "    Uninstalling tokenizers-0.8.1rc1:\n",
            "      Successfully uninstalled tokenizers-0.8.1rc1\n",
            "  Attempting uninstall: transformers\n",
            "    Found existing installation: transformers 3.0.2\n",
            "    Uninstalling transformers-3.0.2:\n",
            "      Successfully uninstalled transformers-3.0.2\n",
            "\u001b[31mERROR: pip's dependency resolver does not currently take into account all the packages that are installed. This behaviour is the source of the following dependency conflicts.\n",
            "datascience 0.10.6 requires folium==0.2.1, but you have folium 0.8.3 which is incompatible.\u001b[0m\n",
            "Successfully installed boto3-1.21.19 botocore-1.24.19 huggingface-hub-0.4.0 jmespath-0.10.0 kobert-0.2.3 onnxruntime-1.8.0 pyyaml-6.0 s3transfer-0.5.2 tokenizers-0.11.6 transformers-4.17.0 urllib3-1.25.11\n",
            "/content/.cache/kobert_v1.zip[██████████████████████████████████████████████████]\n",
            "/content/.cache/kobert_news_wiki_ko_cased-1087f8699e.spiece[██████████████████████████████████████████████████]\n"
          ]
        }
      ]
    },
    {
      "cell_type": "code",
      "metadata": {
        "id": "dqJbzoq_OPxK",
        "colab": {
          "base_uri": "https://localhost:8080/"
        },
        "outputId": "95ef8389-d4b3-4042-c281-3a3327cfc8be"
      },
      "source": [
        "from google.colab import drive\n",
        "drive.mount('/content/drive')"
      ],
      "execution_count": 3,
      "outputs": [
        {
          "output_type": "stream",
          "name": "stdout",
          "text": [
            "Mounted at /content/drive\n"
          ]
        }
      ]
    },
    {
      "cell_type": "code",
      "metadata": {
        "id": "wmtIZqMGOdVX",
        "colab": {
          "base_uri": "https://localhost:8080/"
        },
        "outputId": "ca55d900-5e36-4c73-87f4-023770e48120"
      },
      "source": [
        "from google.colab import drive\n",
        "drive.mount('/content/gdrive')\n",
        "!ln -s /content/gdrive/My\\ Drive/ /mydrive\n",
        "!ls /mydrive"
      ],
      "execution_count": 4,
      "outputs": [
        {
          "output_type": "stream",
          "name": "stdout",
          "text": [
            "Mounted at /content/gdrive\n",
            " 산업분류자동화  'Colab Notebooks'  'My Drive'\n"
          ]
        }
      ]
    },
    {
      "cell_type": "code",
      "metadata": {
        "id": "xV_iSLl7QFgx",
        "colab": {
          "base_uri": "https://localhost:8080/"
        },
        "outputId": "aff2d5b3-f0a1-4867-9b96-08c6a9894479"
      },
      "source": [
        "!unzip /content/gdrive/'My Drive'/산업분류자동화/'모델 개발용 자료'.zip -d /content/dataset\n",
        "!unzip /content/gdrive/'My Drive'/산업분류자동화/'실습용 자료'.zip -d /content/dataset"
      ],
      "execution_count": 5,
      "outputs": [
        {
          "output_type": "stream",
          "name": "stdout",
          "text": [
            "Archive:  /content/gdrive/My Drive/산업분류자동화/모델 개발용 자료.zip\n",
            "2. 모델개발용자료.txt:  mismatching \"local\" filename (2. ыкиыН╕ъ░Ьы░ЬьЪйьЮРыгМ.txt),\n",
            "         continuing with \"central\" filename version\n",
            "  inflating: /content/dataset/2. 모델개발용자료.txt  \n",
            "Archive:  /content/gdrive/My Drive/산업분류자동화/실습용 자료.zip\n",
            "1. 실습용자료.txt:  mismatching \"local\" filename (1. ьЛдьК╡ьЪйьЮРыгМ.txt),\n",
            "         continuing with \"central\" filename version\n",
            "  inflating: /content/dataset/1. 실습용자료.txt  \n"
          ]
        }
      ]
    },
    {
      "cell_type": "code",
      "source": [
        "import pandas as pd\n",
        "df=pd.read_csv('/content/dataset/1. 실습용자료.txt', sep = \"|\", encoding = \"euc-kr\")\n",
        "ts=pd.read_csv('/content/dataset/2. 모델개발용자료.txt', sep = \"|\", encoding = \"euc-kr\")"
      ],
      "metadata": {
        "id": "-lGZy4fGpXlo"
      },
      "execution_count": 6,
      "outputs": []
    },
    {
      "cell_type": "code",
      "source": [
        ""
      ],
      "metadata": {
        "id": "EalsLxZk59jN"
      },
      "execution_count": null,
      "outputs": []
    },
    {
      "cell_type": "code",
      "source": [
        ""
      ],
      "metadata": {
        "id": "PhV1Vj7k59lr"
      },
      "execution_count": null,
      "outputs": []
    },
    {
      "cell_type": "markdown",
      "source": [
        "## 데이터 전처리"
      ],
      "metadata": {
        "id": "geFjTXHh5-dy"
      }
    },
    {
      "cell_type": "code",
      "source": [
        "df.head(10)"
      ],
      "metadata": {
        "id": "78SK2-WL59oC",
        "colab": {
          "base_uri": "https://localhost:8080/",
          "height": 363
        },
        "outputId": "a13f7b63-2fbb-49c0-dd89-7c78fb173ab5"
      },
      "execution_count": 7,
      "outputs": [
        {
          "output_type": "execute_result",
          "data": {
            "text/plain": [
              "        AI_id digit_1  digit_2  digit_3    text_obj    text_mthd text_deal\n",
              "0  id_0000001       S       95      952       카센터에서      자동차부분정비   타이어오일교환\n",
              "1  id_0000002       G       47      472       상점내에서    일반인을 대상으로   채소.과일판매\n",
              "2  id_0000003       G       46      467  절단하여사업체에도매    공업용고무를가지고    합성고무도매\n",
              "3  id_0000004       G       47      475       영업점에서      일반소비자에게    열쇠잠금장치\n",
              "4  id_0000005       Q       87      872        어린이집  보호자의 위탁을 받아   취학전아동보육\n",
              "5  id_0000006       C       29      291           철        절삭.용접   카프라배관자재\n",
              "6  id_0000007       I       56      561       음식점에서    접객시설을 갖추고  참치회(일본식)\n",
              "7  id_0000008       C       10      107      쌀을 가지고         가공하여       떡제조\n",
              "8  id_0000009       O       84      841  시청에서 재정과인력       일반공공행정   지방행정 집행\n",
              "9  id_0000010       F       42      423       영업장에서     고객의뢰를 받아    내부전기공사"
            ],
            "text/html": [
              "\n",
              "  <div id=\"df-6dbb9b20-24cc-4597-8bc9-a16ae99471cb\">\n",
              "    <div class=\"colab-df-container\">\n",
              "      <div>\n",
              "<style scoped>\n",
              "    .dataframe tbody tr th:only-of-type {\n",
              "        vertical-align: middle;\n",
              "    }\n",
              "\n",
              "    .dataframe tbody tr th {\n",
              "        vertical-align: top;\n",
              "    }\n",
              "\n",
              "    .dataframe thead th {\n",
              "        text-align: right;\n",
              "    }\n",
              "</style>\n",
              "<table border=\"1\" class=\"dataframe\">\n",
              "  <thead>\n",
              "    <tr style=\"text-align: right;\">\n",
              "      <th></th>\n",
              "      <th>AI_id</th>\n",
              "      <th>digit_1</th>\n",
              "      <th>digit_2</th>\n",
              "      <th>digit_3</th>\n",
              "      <th>text_obj</th>\n",
              "      <th>text_mthd</th>\n",
              "      <th>text_deal</th>\n",
              "    </tr>\n",
              "  </thead>\n",
              "  <tbody>\n",
              "    <tr>\n",
              "      <th>0</th>\n",
              "      <td>id_0000001</td>\n",
              "      <td>S</td>\n",
              "      <td>95</td>\n",
              "      <td>952</td>\n",
              "      <td>카센터에서</td>\n",
              "      <td>자동차부분정비</td>\n",
              "      <td>타이어오일교환</td>\n",
              "    </tr>\n",
              "    <tr>\n",
              "      <th>1</th>\n",
              "      <td>id_0000002</td>\n",
              "      <td>G</td>\n",
              "      <td>47</td>\n",
              "      <td>472</td>\n",
              "      <td>상점내에서</td>\n",
              "      <td>일반인을 대상으로</td>\n",
              "      <td>채소.과일판매</td>\n",
              "    </tr>\n",
              "    <tr>\n",
              "      <th>2</th>\n",
              "      <td>id_0000003</td>\n",
              "      <td>G</td>\n",
              "      <td>46</td>\n",
              "      <td>467</td>\n",
              "      <td>절단하여사업체에도매</td>\n",
              "      <td>공업용고무를가지고</td>\n",
              "      <td>합성고무도매</td>\n",
              "    </tr>\n",
              "    <tr>\n",
              "      <th>3</th>\n",
              "      <td>id_0000004</td>\n",
              "      <td>G</td>\n",
              "      <td>47</td>\n",
              "      <td>475</td>\n",
              "      <td>영업점에서</td>\n",
              "      <td>일반소비자에게</td>\n",
              "      <td>열쇠잠금장치</td>\n",
              "    </tr>\n",
              "    <tr>\n",
              "      <th>4</th>\n",
              "      <td>id_0000005</td>\n",
              "      <td>Q</td>\n",
              "      <td>87</td>\n",
              "      <td>872</td>\n",
              "      <td>어린이집</td>\n",
              "      <td>보호자의 위탁을 받아</td>\n",
              "      <td>취학전아동보육</td>\n",
              "    </tr>\n",
              "    <tr>\n",
              "      <th>5</th>\n",
              "      <td>id_0000006</td>\n",
              "      <td>C</td>\n",
              "      <td>29</td>\n",
              "      <td>291</td>\n",
              "      <td>철</td>\n",
              "      <td>절삭.용접</td>\n",
              "      <td>카프라배관자재</td>\n",
              "    </tr>\n",
              "    <tr>\n",
              "      <th>6</th>\n",
              "      <td>id_0000007</td>\n",
              "      <td>I</td>\n",
              "      <td>56</td>\n",
              "      <td>561</td>\n",
              "      <td>음식점에서</td>\n",
              "      <td>접객시설을 갖추고</td>\n",
              "      <td>참치회(일본식)</td>\n",
              "    </tr>\n",
              "    <tr>\n",
              "      <th>7</th>\n",
              "      <td>id_0000008</td>\n",
              "      <td>C</td>\n",
              "      <td>10</td>\n",
              "      <td>107</td>\n",
              "      <td>쌀을 가지고</td>\n",
              "      <td>가공하여</td>\n",
              "      <td>떡제조</td>\n",
              "    </tr>\n",
              "    <tr>\n",
              "      <th>8</th>\n",
              "      <td>id_0000009</td>\n",
              "      <td>O</td>\n",
              "      <td>84</td>\n",
              "      <td>841</td>\n",
              "      <td>시청에서 재정과인력</td>\n",
              "      <td>일반공공행정</td>\n",
              "      <td>지방행정 집행</td>\n",
              "    </tr>\n",
              "    <tr>\n",
              "      <th>9</th>\n",
              "      <td>id_0000010</td>\n",
              "      <td>F</td>\n",
              "      <td>42</td>\n",
              "      <td>423</td>\n",
              "      <td>영업장에서</td>\n",
              "      <td>고객의뢰를 받아</td>\n",
              "      <td>내부전기공사</td>\n",
              "    </tr>\n",
              "  </tbody>\n",
              "</table>\n",
              "</div>\n",
              "      <button class=\"colab-df-convert\" onclick=\"convertToInteractive('df-6dbb9b20-24cc-4597-8bc9-a16ae99471cb')\"\n",
              "              title=\"Convert this dataframe to an interactive table.\"\n",
              "              style=\"display:none;\">\n",
              "        \n",
              "  <svg xmlns=\"http://www.w3.org/2000/svg\" height=\"24px\"viewBox=\"0 0 24 24\"\n",
              "       width=\"24px\">\n",
              "    <path d=\"M0 0h24v24H0V0z\" fill=\"none\"/>\n",
              "    <path d=\"M18.56 5.44l.94 2.06.94-2.06 2.06-.94-2.06-.94-.94-2.06-.94 2.06-2.06.94zm-11 1L8.5 8.5l.94-2.06 2.06-.94-2.06-.94L8.5 2.5l-.94 2.06-2.06.94zm10 10l.94 2.06.94-2.06 2.06-.94-2.06-.94-.94-2.06-.94 2.06-2.06.94z\"/><path d=\"M17.41 7.96l-1.37-1.37c-.4-.4-.92-.59-1.43-.59-.52 0-1.04.2-1.43.59L10.3 9.45l-7.72 7.72c-.78.78-.78 2.05 0 2.83L4 21.41c.39.39.9.59 1.41.59.51 0 1.02-.2 1.41-.59l7.78-7.78 2.81-2.81c.8-.78.8-2.07 0-2.86zM5.41 20L4 18.59l7.72-7.72 1.47 1.35L5.41 20z\"/>\n",
              "  </svg>\n",
              "      </button>\n",
              "      \n",
              "  <style>\n",
              "    .colab-df-container {\n",
              "      display:flex;\n",
              "      flex-wrap:wrap;\n",
              "      gap: 12px;\n",
              "    }\n",
              "\n",
              "    .colab-df-convert {\n",
              "      background-color: #E8F0FE;\n",
              "      border: none;\n",
              "      border-radius: 50%;\n",
              "      cursor: pointer;\n",
              "      display: none;\n",
              "      fill: #1967D2;\n",
              "      height: 32px;\n",
              "      padding: 0 0 0 0;\n",
              "      width: 32px;\n",
              "    }\n",
              "\n",
              "    .colab-df-convert:hover {\n",
              "      background-color: #E2EBFA;\n",
              "      box-shadow: 0px 1px 2px rgba(60, 64, 67, 0.3), 0px 1px 3px 1px rgba(60, 64, 67, 0.15);\n",
              "      fill: #174EA6;\n",
              "    }\n",
              "\n",
              "    [theme=dark] .colab-df-convert {\n",
              "      background-color: #3B4455;\n",
              "      fill: #D2E3FC;\n",
              "    }\n",
              "\n",
              "    [theme=dark] .colab-df-convert:hover {\n",
              "      background-color: #434B5C;\n",
              "      box-shadow: 0px 1px 3px 1px rgba(0, 0, 0, 0.15);\n",
              "      filter: drop-shadow(0px 1px 2px rgba(0, 0, 0, 0.3));\n",
              "      fill: #FFFFFF;\n",
              "    }\n",
              "  </style>\n",
              "\n",
              "      <script>\n",
              "        const buttonEl =\n",
              "          document.querySelector('#df-6dbb9b20-24cc-4597-8bc9-a16ae99471cb button.colab-df-convert');\n",
              "        buttonEl.style.display =\n",
              "          google.colab.kernel.accessAllowed ? 'block' : 'none';\n",
              "\n",
              "        async function convertToInteractive(key) {\n",
              "          const element = document.querySelector('#df-6dbb9b20-24cc-4597-8bc9-a16ae99471cb');\n",
              "          const dataTable =\n",
              "            await google.colab.kernel.invokeFunction('convertToInteractive',\n",
              "                                                     [key], {});\n",
              "          if (!dataTable) return;\n",
              "\n",
              "          const docLinkHtml = 'Like what you see? Visit the ' +\n",
              "            '<a target=\"_blank\" href=https://colab.research.google.com/notebooks/data_table.ipynb>data table notebook</a>'\n",
              "            + ' to learn more about interactive tables.';\n",
              "          element.innerHTML = '';\n",
              "          dataTable['output_type'] = 'display_data';\n",
              "          await google.colab.output.renderOutput(dataTable, element);\n",
              "          const docLink = document.createElement('div');\n",
              "          docLink.innerHTML = docLinkHtml;\n",
              "          element.appendChild(docLink);\n",
              "        }\n",
              "      </script>\n",
              "    </div>\n",
              "  </div>\n",
              "  "
            ]
          },
          "metadata": {},
          "execution_count": 7
        }
      ]
    },
    {
      "cell_type": "code",
      "source": [
        "df['text']=df['text_obj'].map(str)+\" \"+df['text_mthd'].map(str)+\" \"+df['text_deal'].map(str)\n",
        "i=[]\n",
        "for sentence in df['text']:\n",
        "    a=sentence.replace('nan', '')\n",
        "    i.append(a)\n",
        "df['text']=pd.DataFrame(i)\n",
        "df=df.drop(['text_obj','text_mthd', 'text_deal'], axis=1) # 기존에 있던 세개의 text변수 삭제\n",
        "df.head(10)"
      ],
      "metadata": {
        "id": "fjEcvrtH59q-",
        "colab": {
          "base_uri": "https://localhost:8080/",
          "height": 363
        },
        "outputId": "af67babb-7c63-48fc-db89-5e824e42721f"
      },
      "execution_count": 8,
      "outputs": [
        {
          "output_type": "execute_result",
          "data": {
            "text/plain": [
              "        AI_id digit_1  digit_2  digit_3                         text\n",
              "0  id_0000001       S       95      952        카센터에서 자동차부분정비 타이어오일교환\n",
              "1  id_0000002       G       47      472      상점내에서 일반인을 대상으로 채소.과일판매\n",
              "2  id_0000003       G       46      467  절단하여사업체에도매 공업용고무를가지고 합성고무도매\n",
              "3  id_0000004       G       47      475         영업점에서 일반소비자에게 열쇠잠금장치\n",
              "4  id_0000005       Q       87      872     어린이집 보호자의 위탁을 받아 취학전아동보육\n",
              "5  id_0000006       C       29      291              철 절삭.용접 카프라배관자재\n",
              "6  id_0000007       I       56      561     음식점에서 접객시설을 갖추고 참치회(일본식)\n",
              "7  id_0000008       C       10      107              쌀을 가지고 가공하여 떡제조\n",
              "8  id_0000009       O       84      841    시청에서 재정과인력 일반공공행정 지방행정 집행\n",
              "9  id_0000010       F       42      423        영업장에서 고객의뢰를 받아 내부전기공사"
            ],
            "text/html": [
              "\n",
              "  <div id=\"df-53456958-2a74-45f3-b1c6-0eca3bc0f479\">\n",
              "    <div class=\"colab-df-container\">\n",
              "      <div>\n",
              "<style scoped>\n",
              "    .dataframe tbody tr th:only-of-type {\n",
              "        vertical-align: middle;\n",
              "    }\n",
              "\n",
              "    .dataframe tbody tr th {\n",
              "        vertical-align: top;\n",
              "    }\n",
              "\n",
              "    .dataframe thead th {\n",
              "        text-align: right;\n",
              "    }\n",
              "</style>\n",
              "<table border=\"1\" class=\"dataframe\">\n",
              "  <thead>\n",
              "    <tr style=\"text-align: right;\">\n",
              "      <th></th>\n",
              "      <th>AI_id</th>\n",
              "      <th>digit_1</th>\n",
              "      <th>digit_2</th>\n",
              "      <th>digit_3</th>\n",
              "      <th>text</th>\n",
              "    </tr>\n",
              "  </thead>\n",
              "  <tbody>\n",
              "    <tr>\n",
              "      <th>0</th>\n",
              "      <td>id_0000001</td>\n",
              "      <td>S</td>\n",
              "      <td>95</td>\n",
              "      <td>952</td>\n",
              "      <td>카센터에서 자동차부분정비 타이어오일교환</td>\n",
              "    </tr>\n",
              "    <tr>\n",
              "      <th>1</th>\n",
              "      <td>id_0000002</td>\n",
              "      <td>G</td>\n",
              "      <td>47</td>\n",
              "      <td>472</td>\n",
              "      <td>상점내에서 일반인을 대상으로 채소.과일판매</td>\n",
              "    </tr>\n",
              "    <tr>\n",
              "      <th>2</th>\n",
              "      <td>id_0000003</td>\n",
              "      <td>G</td>\n",
              "      <td>46</td>\n",
              "      <td>467</td>\n",
              "      <td>절단하여사업체에도매 공업용고무를가지고 합성고무도매</td>\n",
              "    </tr>\n",
              "    <tr>\n",
              "      <th>3</th>\n",
              "      <td>id_0000004</td>\n",
              "      <td>G</td>\n",
              "      <td>47</td>\n",
              "      <td>475</td>\n",
              "      <td>영업점에서 일반소비자에게 열쇠잠금장치</td>\n",
              "    </tr>\n",
              "    <tr>\n",
              "      <th>4</th>\n",
              "      <td>id_0000005</td>\n",
              "      <td>Q</td>\n",
              "      <td>87</td>\n",
              "      <td>872</td>\n",
              "      <td>어린이집 보호자의 위탁을 받아 취학전아동보육</td>\n",
              "    </tr>\n",
              "    <tr>\n",
              "      <th>5</th>\n",
              "      <td>id_0000006</td>\n",
              "      <td>C</td>\n",
              "      <td>29</td>\n",
              "      <td>291</td>\n",
              "      <td>철 절삭.용접 카프라배관자재</td>\n",
              "    </tr>\n",
              "    <tr>\n",
              "      <th>6</th>\n",
              "      <td>id_0000007</td>\n",
              "      <td>I</td>\n",
              "      <td>56</td>\n",
              "      <td>561</td>\n",
              "      <td>음식점에서 접객시설을 갖추고 참치회(일본식)</td>\n",
              "    </tr>\n",
              "    <tr>\n",
              "      <th>7</th>\n",
              "      <td>id_0000008</td>\n",
              "      <td>C</td>\n",
              "      <td>10</td>\n",
              "      <td>107</td>\n",
              "      <td>쌀을 가지고 가공하여 떡제조</td>\n",
              "    </tr>\n",
              "    <tr>\n",
              "      <th>8</th>\n",
              "      <td>id_0000009</td>\n",
              "      <td>O</td>\n",
              "      <td>84</td>\n",
              "      <td>841</td>\n",
              "      <td>시청에서 재정과인력 일반공공행정 지방행정 집행</td>\n",
              "    </tr>\n",
              "    <tr>\n",
              "      <th>9</th>\n",
              "      <td>id_0000010</td>\n",
              "      <td>F</td>\n",
              "      <td>42</td>\n",
              "      <td>423</td>\n",
              "      <td>영업장에서 고객의뢰를 받아 내부전기공사</td>\n",
              "    </tr>\n",
              "  </tbody>\n",
              "</table>\n",
              "</div>\n",
              "      <button class=\"colab-df-convert\" onclick=\"convertToInteractive('df-53456958-2a74-45f3-b1c6-0eca3bc0f479')\"\n",
              "              title=\"Convert this dataframe to an interactive table.\"\n",
              "              style=\"display:none;\">\n",
              "        \n",
              "  <svg xmlns=\"http://www.w3.org/2000/svg\" height=\"24px\"viewBox=\"0 0 24 24\"\n",
              "       width=\"24px\">\n",
              "    <path d=\"M0 0h24v24H0V0z\" fill=\"none\"/>\n",
              "    <path d=\"M18.56 5.44l.94 2.06.94-2.06 2.06-.94-2.06-.94-.94-2.06-.94 2.06-2.06.94zm-11 1L8.5 8.5l.94-2.06 2.06-.94-2.06-.94L8.5 2.5l-.94 2.06-2.06.94zm10 10l.94 2.06.94-2.06 2.06-.94-2.06-.94-.94-2.06-.94 2.06-2.06.94z\"/><path d=\"M17.41 7.96l-1.37-1.37c-.4-.4-.92-.59-1.43-.59-.52 0-1.04.2-1.43.59L10.3 9.45l-7.72 7.72c-.78.78-.78 2.05 0 2.83L4 21.41c.39.39.9.59 1.41.59.51 0 1.02-.2 1.41-.59l7.78-7.78 2.81-2.81c.8-.78.8-2.07 0-2.86zM5.41 20L4 18.59l7.72-7.72 1.47 1.35L5.41 20z\"/>\n",
              "  </svg>\n",
              "      </button>\n",
              "      \n",
              "  <style>\n",
              "    .colab-df-container {\n",
              "      display:flex;\n",
              "      flex-wrap:wrap;\n",
              "      gap: 12px;\n",
              "    }\n",
              "\n",
              "    .colab-df-convert {\n",
              "      background-color: #E8F0FE;\n",
              "      border: none;\n",
              "      border-radius: 50%;\n",
              "      cursor: pointer;\n",
              "      display: none;\n",
              "      fill: #1967D2;\n",
              "      height: 32px;\n",
              "      padding: 0 0 0 0;\n",
              "      width: 32px;\n",
              "    }\n",
              "\n",
              "    .colab-df-convert:hover {\n",
              "      background-color: #E2EBFA;\n",
              "      box-shadow: 0px 1px 2px rgba(60, 64, 67, 0.3), 0px 1px 3px 1px rgba(60, 64, 67, 0.15);\n",
              "      fill: #174EA6;\n",
              "    }\n",
              "\n",
              "    [theme=dark] .colab-df-convert {\n",
              "      background-color: #3B4455;\n",
              "      fill: #D2E3FC;\n",
              "    }\n",
              "\n",
              "    [theme=dark] .colab-df-convert:hover {\n",
              "      background-color: #434B5C;\n",
              "      box-shadow: 0px 1px 3px 1px rgba(0, 0, 0, 0.15);\n",
              "      filter: drop-shadow(0px 1px 2px rgba(0, 0, 0, 0.3));\n",
              "      fill: #FFFFFF;\n",
              "    }\n",
              "  </style>\n",
              "\n",
              "      <script>\n",
              "        const buttonEl =\n",
              "          document.querySelector('#df-53456958-2a74-45f3-b1c6-0eca3bc0f479 button.colab-df-convert');\n",
              "        buttonEl.style.display =\n",
              "          google.colab.kernel.accessAllowed ? 'block' : 'none';\n",
              "\n",
              "        async function convertToInteractive(key) {\n",
              "          const element = document.querySelector('#df-53456958-2a74-45f3-b1c6-0eca3bc0f479');\n",
              "          const dataTable =\n",
              "            await google.colab.kernel.invokeFunction('convertToInteractive',\n",
              "                                                     [key], {});\n",
              "          if (!dataTable) return;\n",
              "\n",
              "          const docLinkHtml = 'Like what you see? Visit the ' +\n",
              "            '<a target=\"_blank\" href=https://colab.research.google.com/notebooks/data_table.ipynb>data table notebook</a>'\n",
              "            + ' to learn more about interactive tables.';\n",
              "          element.innerHTML = '';\n",
              "          dataTable['output_type'] = 'display_data';\n",
              "          await google.colab.output.renderOutput(dataTable, element);\n",
              "          const docLink = document.createElement('div');\n",
              "          docLink.innerHTML = docLinkHtml;\n",
              "          element.appendChild(docLink);\n",
              "        }\n",
              "      </script>\n",
              "    </div>\n",
              "  </div>\n",
              "  "
            ]
          },
          "metadata": {},
          "execution_count": 8
        }
      ]
    },
    {
      "cell_type": "code",
      "source": [
        "# 결측값 확인\n",
        "df.isnull().sum()"
      ],
      "metadata": {
        "id": "aevZklQd59tg",
        "colab": {
          "base_uri": "https://localhost:8080/"
        },
        "outputId": "c313de52-010a-48d9-eed4-222cd5eb6cf6"
      },
      "execution_count": 9,
      "outputs": [
        {
          "output_type": "execute_result",
          "data": {
            "text/plain": [
              "AI_id      0\n",
              "digit_1    0\n",
              "digit_2    0\n",
              "digit_3    0\n",
              "text       0\n",
              "dtype: int64"
            ]
          },
          "metadata": {},
          "execution_count": 9
        }
      ]
    },
    {
      "cell_type": "code",
      "source": [
        "df.shape"
      ],
      "metadata": {
        "id": "coXcCnNw6gQr",
        "colab": {
          "base_uri": "https://localhost:8080/"
        },
        "outputId": "646c25ec-019d-45b0-b335-831b0b3ff197"
      },
      "execution_count": 10,
      "outputs": [
        {
          "output_type": "execute_result",
          "data": {
            "text/plain": [
              "(1000000, 5)"
            ]
          },
          "metadata": {},
          "execution_count": 10
        }
      ]
    },
    {
      "cell_type": "code",
      "source": [
        "df['digit_1'].value_counts()"
      ],
      "metadata": {
        "id": "FpA7i6nJ9wgV",
        "colab": {
          "base_uri": "https://localhost:8080/"
        },
        "outputId": "637cae30-0fdb-49b8-eb32-2d498103bad3"
      },
      "execution_count": 11,
      "outputs": [
        {
          "output_type": "execute_result",
          "data": {
            "text/plain": [
              "G    246472\n",
              "I    187425\n",
              "C    105192\n",
              "S    100396\n",
              "H     98038\n",
              "P     46610\n",
              "L     40140\n",
              "Q     36087\n",
              "F     35050\n",
              "R     29751\n",
              "M     28434\n",
              "N     17701\n",
              "J     10862\n",
              "K     10378\n",
              "O      2965\n",
              "E      2255\n",
              "A      1064\n",
              "D       756\n",
              "B       424\n",
              "Name: digit_1, dtype: int64"
            ]
          },
          "metadata": {},
          "execution_count": 11
        }
      ]
    },
    {
      "cell_type": "code",
      "source": [
        ""
      ],
      "metadata": {
        "id": "_-yXDehY9wmo"
      },
      "execution_count": 12,
      "outputs": []
    },
    {
      "cell_type": "markdown",
      "source": [
        "\n",
        "\n",
        "#### **추후 과제: 분류가 현재 매우 불균형함 / 정규화를 이용해서 균형을 맞추면 정확도가 올라가는지 확인 필요**\n"
      ],
      "metadata": {
        "id": "a1OFqS_390dM"
      }
    },
    {
      "cell_type": "code",
      "source": [
        "df.loc[(df['digit_1'] == \"G\"), 'digit_1'] = 0  \n",
        "df.loc[(df['digit_1'] == \"I\"), 'digit_1'] = 1  \n",
        "df.loc[(df['digit_1'] == \"C\"), 'digit_1'] = 2  \n",
        "df.loc[(df['digit_1'] == \"S\"), 'digit_1'] = 3  \n",
        "df.loc[(df['digit_1'] == \"H\"), 'digit_1'] = 4  \n",
        "df.loc[(df['digit_1'] == \"P\"), 'digit_1'] = 5  \n",
        "df.loc[(df['digit_1'] == \"L\"), 'digit_1'] = 6  \n",
        "df.loc[(df['digit_1'] == \"Q\"), 'digit_1'] = 7  \n",
        "df.loc[(df['digit_1'] == \"F\"), 'digit_1'] = 8  \n",
        "df.loc[(df['digit_1'] == \"R\"), 'digit_1'] = 9  \n",
        "df.loc[(df['digit_1'] == \"M\"), 'digit_1'] = 10  \n",
        "df.loc[(df['digit_1'] == \"N\"), 'digit_1'] = 11 \n",
        "df.loc[(df['digit_1'] == \"J\"), 'digit_1'] = 12  \n",
        "df.loc[(df['digit_1'] == \"K\"), 'digit_1'] = 13  \n",
        "df.loc[(df['digit_1'] == \"O\"), 'digit_1'] = 14  \n",
        "df.loc[(df['digit_1'] == \"E\"), 'digit_1'] = 15  \n",
        "df.loc[(df['digit_1'] == \"A\"), 'digit_1'] = 16 \n",
        "df.loc[(df['digit_1'] == \"D\"), 'digit_1'] = 17  \n",
        "df.loc[(df['digit_1'] == \"B\"), 'digit_1'] = 18  "
      ],
      "metadata": {
        "id": "3MzQRuCp6gnE"
      },
      "execution_count": 12,
      "outputs": []
    },
    {
      "cell_type": "code",
      "source": [
        "data_list = []\n",
        "for q, label in zip(df['text'], df['digit_1'])  :\n",
        "    data = []\n",
        "    data.append(q)\n",
        "    data.append(str(label))\n",
        "\n",
        "    data_list.append(data)\n",
        "\n",
        "print(data_list[:5])"
      ],
      "metadata": {
        "colab": {
          "base_uri": "https://localhost:8080/"
        },
        "id": "TMCFMLE66gpQ",
        "outputId": "6c094403-a9a8-4ff1-c0b3-3849f0768a5b"
      },
      "execution_count": 13,
      "outputs": [
        {
          "output_type": "stream",
          "name": "stdout",
          "text": [
            "[['카센터에서 자동차부분정비 타이어오일교환', '3'], ['상점내에서 일반인을 대상으로 채소.과일판매', '0'], ['절단하여사업체에도매 공업용고무를가지고 합성고무도매', '0'], ['영업점에서 일반소비자에게 열쇠잠금장치', '0'], ['어린이집 보호자의 위탁을 받아 취학전아동보육', '7']]\n"
          ]
        }
      ]
    },
    {
      "cell_type": "markdown",
      "source": [
        "## Train data & test data"
      ],
      "metadata": {
        "id": "cmIeL8xg_UC1"
      }
    },
    {
      "cell_type": "code",
      "source": [
        "from sklearn.model_selection import train_test_split             \n",
        "dataset_train, dataset_test = train_test_split(data_list, test_size=0.99, random_state=0) #추후에 test_size 수정 필요"
      ],
      "metadata": {
        "id": "gJzLkJY6_dDm"
      },
      "execution_count": 14,
      "outputs": []
    },
    {
      "cell_type": "code",
      "source": [
        "print(dataset_train)"
      ],
      "metadata": {
        "id": "pIbxYOTg_dGK",
        "colab": {
          "base_uri": "https://localhost:8080/"
        },
        "outputId": "f66fc04f-6546-4bb1-a345-a5cf863a7d5d"
      },
      "execution_count": 15,
      "outputs": [
        {
          "output_type": "stream",
          "name": "stdout",
          "text": [
            "[['매장에서 일반고객들에게 의류.및잡화판매', '0'], ['현장에서 업체의뢰받아 실내인테리어', '8'], ['포크레인으로 출장하여 흙을파냄(토공,철근콘크리트)', '8'], ['철학원에서 방문고객 대상 사주,작명 서비스', '3'], ['미장원에서 두발미용서비스제공 머리자르기,염색등', '3'], ['주방용식기매장에서 일반인을 대상으로 커피머신판매', '0'], ['영업장에서 인터넷쇼핑몰 여성의류', '0'], ['철판 설계, 구매 프레스용 금형', '2'], ['노래방에서 노래방시설을 갖추고 노래방장소제공', '9'], ['매장에서 소비자에게 남성의류정장', '0'], ['편의점에서 체인계약을 체결하여 식료품,담배소매', '0'], ['서점에서 유아 초등대상으로 아동서적소매', '0'], ['사업장에서 산업사용자의 주문을 받아 강화유리제조', '2'], ['미용실에서 두발미용서비스제공 퍼마,커트', '3'], ['세탁소에서 일반인 대상 양복등 드라이크리닝', '3'], ['고시원에서 숙박시설을 갖추고 숙식제공', '1'], ['용달화물자동차로 고객의 요청으로 화물운송서비스', '4'], ['애견용품 매장 판매', '0'], ['매장에서 소매업자에게 원사도매', '0'], ['미용실 고객의두발서비스 파마.커트', '3'], ['쥬얼리 소매업 악세사리 귀걸이, 반지 등', '0'], ['사업장에서 일반인을 대상으로 요가', '5'], ['의류 일반인대상 통신소매판매', '0'], ['일반인을 대상으로 사업장에서 측량,설계', '10'], ['공방에서 목공예품 체험 목공예품 제작', '9'], ['스텐레스강 쇼트, 표면처리 금속표면처리', '2'], ['찻집에서 접객시설을 갖추고 커피판매', '1'], ['매장에서 일반소비자에게 골프의류', '0'], ['치과 외래환자대상 치과치료(교정)', '7'], [' 술.요리등을 판매하는 주점업 ', '1'], ['소비자가가져온 직물을 재봉.재단하여 천막', '2'], ['구입한 비닐를 고객의뢰를 받아 그라비아 인쇄', '2'], ['사업장에서 식당을대상으로 돈까스판매', '0'], ['치매환자를 입소시켜 요양시설 노인요양복지시설운영', '7'], ['개인택시로 일반인을 대상으로 승객운송서비스', '4'], ['용달화물자동차로 고객의 요청으로 화물운송서비스', '4'], ['미니문구에서 일반소비자에게 문구류판매', '0'], ['노인방문센터에서 노인재가장기요양 방문요양센터', '7'], ['음식점에서 접객시설을 갖추고 순대.국밥', '1'], ['음식점업 접객시설을  갖추고 한식  판매,죽전문', '1'], ['도배 및 실내장식 공사업 건물.구축물의 벽면에 실내 인테리어 공사', '8'], ['수산동물 및 채소 일반 소비자 건강보조용 액화식품 제조', '2'], ['카페에서 접객시설을갖추고 커피위주 제공', '1'], ['원단으로 재단재봉하여 태셔츠제조', '2'], ['태권도장에서 일반인을 대상으로 태권도 강습', '5'], ['사무소에서 계약및중개를통해 부동산거래서비스', '6'], ['한국식 음식을 제공  ', '1'], ['가게에서 일반손님대상으로 김치및 반찬 소매', '0'], ['개인택시로 일반인을 대상으로 승객운송서비스', '4'], ['사업장에서 일반인 대상 장어포장 판매', '0'], ['용달화물자동차로 고객의 요청으로 화물운송서비스', '4'], ['용달화물자동차로 고객의 요청으로 화물운송서비스', '4'], ['개별화물자동차로 고객의 요청으로 화물운송서비스', '4'], ['이용업 서비스 컷트', '3'], ['음식점에서 접객시설을 갖추고 한식판매', '1'], ['신앙촌에서 일반소비자에게 소매 식료품소매', '0'], ['주점에서 접객시설을 갖추고 민속주점', '1'], [' 화장품 소매 ', '0'], ['교회에서 기독교계통 종교서비스', '3'], ['매장에서 일반소비자에게 소매 여성내의', '0'], ['시장에서 다른소매업자에게도매 건오징어', '0'], ['영업소에서 소매업자에게 의약품도매', '0'], ['사업장에서 고객의 주문으로 실내인테리어', '10'], ['편의점 소매 생활용품', '0'], ['정육점에서 소비자에게 소고기,돼지고기', '0'], ['음식점에서 접객시설을 갖추고 백반판매', '1'], ['사업장에서 일반소비자대상으로 싱크대 판매', '0'], ['건축자재 산업사용자에게  도매 페인트', '0'], ['상가을 가지고 임대를 통해 부동산 임대', '6'], ['생맥주 전문점에서 접객시설을갖추고 생맥주제공', '1'], ['자전거소매점에서 일반소비자를 대상으로 자전거', '0'], ['음료점에서 접객시설을갖추고 커피,녹차', '1'], ['의류  ', '2'], ['음료점에서 접객시설을갖추고 커피', '1'], ['매장에서 일반소비자에게 소매 음반,비디오판매', '0'], ['정육점에서 일반소비자에게 돼지고기,소고기', '0'], ['기술센터에서 농촌지도사업 농촌지도육성사업', '14'], ['꽃시장에서 도소매 생화판매', '0'], ['사업장에서 전자상거래로 전기그릴,찜기판매', '0'], ['영업장에서 소매자에게 도매 빵,스넥', '0'], ['치킨점에서 접객시설을 갖추고 바베큐', '1'], ['채소가게에서 일반소비자에게 채소소매', '0'], ['일반의원에서 외래환자를위주로 일반과/내과/소아과', '7'], ['경찰지구대 공공질서행정 치안서비스', '14'], ['KT유선 고객의요청에의해 통신배선설치', '8'], ['문구점에서 일반소비자에게 노트,사무용품등', '0'], ['사업장에서 고객의주문받아 피자판매', '1'], ['버스를 이용 일반승객을 대상으로 운송', '4'], ['그외 기타 금속가공업, 절삭가공 및 유사처리업  ', '2'], ['이용원에서 두발 미용서비스', '3'], ['중국음식점에서 접객시설을 갖추고 양꼬치등판매', '1'], ['약국에서 일반고객을 대상으로 소매 일반의약품', '0'], ['스텐레스알미늄, BRASS 프레스, 애침,연마 ', '2'], ['용달화물자동차로 고객의 요청으로 화물운송서비스', '4'], ['자동차부품  ', '2'], ['장학회에서 덕화장학회단체,장학금 전달 장학단체', '3'], ['병원에서 외래환자위주로 피부과진료', '7'], ['의원에서 외래환자 위주로 치과 진료', '7'], ['골재구입 장비임대 골재판매', '0'], ['개인택시로 일반인을 대상으로 승객운송서비스', '4'], ['소매업자에게 도매 매장에서 건어물', '0'], ['엔진, 레이져물 레이져및부품발주, 용접 산업용로더', '2'], ['니트 웨어 제조  ', '2'], ['전분, 중력분 배합, 충진 ', '2'], ['종이,필름 경인쇄기를이용하여인쇄 초대장', '2'], ['음식점에서 접객시설을갖추고 돼지껍데기,순대(주류)', '1'], ['음식점에서 접객시설을갖추고 쌈밥판매', '1'], ['사업장에서 소비자대상으로 국밥', '1'], ['음식점에서 일반인을대상으로 돼지왕소금구이', '1'], ['음식점에서 접객시설을 갖추고 한식뷔페 제공', '1'], ['개별화물자동차로 고객의 요청으로 화물운송서비스', '4'], ['세무사에서 일반인을 대상 세무상담 서비스', '10'], ['아파트관리사무소에서 아파트입주자를위하여 주거용아파트관리서비스', '6'], ['사무실에서 평양조씨 족보 관리', '3'], ['마을버스 마을버스를 이용하여 사람들을 운송', '4'], ['세탁소에서 일반인에게 세탁물 수거 의류 드라이크리닝', '3'], ['동물병원에서 동물을 대상으로 동물 치료', '10'], ['파이프.열선 열선압착,조립 전기히터', '2'], ['전문대학에서 중등교육과정을 수료한 사람에게 기술.직업적인 학과교육', '5'], ['학원에서 관할구청인가받아 무용교육', '5'], ['보험지점에서 일반고객을 대상으로 생명보험', '13'], ['온라인통신망을통해 일반소비자에게 여성의류판매', '0'], ['미장원 두발미용서비스 퍼머, 캇트', '3'], ['입주민대상 관리사무소에서 아파트관리', '6'], ['사업장에서 화물 운전자와 화주간에 화물 운송주선서비스', '4'], ['현장에서 건축물내부의전기배선공사를전문수행 건물내부전기송사', '8'], ['식잡  ', '0'], ['사업장에서 건설업자들을 대상으로 건설자재판넬 임대', '11'], ['인쇄회로기판 라우터(외형가공) 경성인쇄회로기판', '2'], ['학원에서 학생들을대상으로 미술강습', '5'], ['의복 액세서리  ', '0'], ['음식점에서 접객시설을 갖추고 갈비 제공', '1'], ['매장에서 일반소비자에게 속옷,잠옷소매', '0'], ['농산물을 소매업자에게 농산물 도매', '0'], ['노래방에서 음향시설을 갖추고 노래연습장운영', '9'], ['유리광학물질 연마.코팅.조립 천체망원경렌즈', '2'], ['독서실에서 일반인을대상으로 독서실제공', '9'], ['키즈카페에서 시설을 갖추고 오락시설운영', '9'], ['영업장 다른소매업자에게 납품소매 건어물,오징어등', '0'], ['판유리 세척, 가열 ', '2'], ['현장에서 분수대설치된곳 수처리기 수리', '2'], ['개인택시로 일반인을 대상으로 승객운송서비스', '4'], ['개인택시로 일반인을 대상으로 승객운송서비스', '4'], ['영업장에서 놀이시설을 갖추고 키즈놀이터제공', '9'], ['제과점에서 접객시설없이 빵 판매', '1'], ['사무실 이용자를 위하여 관리사무소에서 사무용건물 관리서비스', '6'], ['건강 보조식품  ', '0'], ['매장에서 일반인을대상으로 휴대폰', '0'], ['편의점 일반인을 대상으로 편의점', '0'], ['편의점에서 계약을 체결하여 음식료품위주', '0'], ['음식점에서 접객시설을 갖추고 양꼬치', '1'], ['스포츠선수촌에서 체력단련실, 합숙실등을 갖추고 운동선수후원 전지훈련', '9'], ['사업장에서 해외무역 일반 소비재', '0'], ['분식점에서 간이음식 조리 떡볶이,김밥,라면', '1'], ['개인택시로 일반인을 대상으로 승객운송서비스', '4'], ['사업장에서 고객의 요청에 의해 봉제 재봉 기성복', '2'], ['제조업  주형및금형', '2'], ['음식점에서 접객시설 갖추고 한국식회 판매', '1'], ['철 절삭가공 자동차부품', '2'], ['사업장에서 신용카드 가맹대리점 온라인쇼핑몰', '11'], ['사업장에서 지점(백화점 전기레인지매장)관리 총괄관리 업무', '10'], ['영사시설을 갖추고 영화관에서 영화상영', '12'], ['빨래방에서 일반고객을 대상으로 운동화세탁', '3'], ['각종 활어회 전문  ', '1'], ['커피숍에서 접객시설을갖추고 커피', '1'], ['주민샌센타에서 주민을대상으로 특화사업', '5'], ['생활용품,민속품 영업장에서 중개업', '0'], ['사업장에서 일반소비자에게 자잔거소매수리', '0'], ['철, 플라스틱 재료입고, 절단(외주) ', '2'], ['세탁소에서 일반인상대로 세탁서비스', '3'], ['원목 고객의 의뢰를 받아 씽크대 제작 판매', '2'], ['약국에서 일반소비자에게 소매 각종의약품', '0'], ['수산물소매업 도매 및 소매업 영업장에서', '0'], ['상가에서 일반소매업자에게도매 헤어핀', '0'], ['미용실에서 일반인을 대상으로 커트,파마,염색', '3'], [' 산업용 포장기계 판매 ', '0'], ['매장에서 일반소비자에게 핸드폰소매', '0'], ['사무실에서 세무관련 업무를 의뢰를 받아서 세무조정 및 기장대리', '10'], ['철 연마가공 공작기계부품', '2'], ['사업장에서 일반소비자에게 애완용동물진료, 치료', '10'], ['농산물및붕어 한약재를 혼합가공하여 즙제공', '2'], ['지입차주 대상 사무소에서 건설기계행정사부업무관리업', '11'], ['외국어학원에서 교육서비스 제공 회화 문법', '5'], ['애월꼴통돼지 접객시설에서 돼지고기', '1'], ['개인택시로 일반인을 대상으로 승객운송서비스', '4'], ['복지시설 노인요양 서비스제공', '7'], ['셀프세차장에서 고객을 대상으로 동전식 셀프차량세차 서비스', '3'], ['음식점 접객시설을갖추고 된장찌개', '1'], ['수선집에서 수선의뢰받고 의류등 수선', '3'], ['미용실에서 일반인을 대상으로 파마 염색', '3'], ['체육관에서 학생을 대상으로 암벽등반강습지도', '5'], ['금속 절단.조립 철제쓰레기통', '2'], ['매장에서에서 일반소비자를대상으로 화장품소매', '0'], [' 5톤이상의 화물자동차로 토사운반 ', '4'], ['노래방에서 시설을 갖추고 노래방 운영', '9'], ['철을 절삭가공하여 기계부품금형 제조', '2'], ['사업장에서 의뢰를받아 자동차유리용접', '3'], ['매장에서 일반소비자에게 휴대폰 소매', '0'], ['일반소비자에게 매장에서 애완용품판매', '0'], ['사업장에서 전기수리 전동기수리', '2'], ['가게에서 일반소비자 자동차 판매', '0'], ['일반인을대상으로 화초산식물을 꽃,화분판매', '0'], ['현장에서 고객요청에의한 인테리어공사', '8'], ['음식점에서 접객시설을갖추고 파스타', '1'], ['알루미늄샤시 절단,조립시공 창틀,문틀', '2'], ['미장원에서 일반인대상으로 파마.컷.염색등', '3'], ['제과점에서 빵을제조하여 빵판매', '1'], ['학원생 대상으로 학원에서 영어 교육', '5'], ['철 선반밀링 금속가공제품', '2'], ['주유소에소 일반소비자에게 휘발유,경유', '0'], ['용달화물자동차로 고객의 요청으로 화물운송서비스', '4'], ['암석 채취 골재생산', '18'], ['포장마차에서 일반고객대상 주류,국수,떡볶이', '1'], ['매장에서 접객시설을 갖추고 후라이드 전문점', '1'], ['교회에서 천부교활동 천부교 서비스', '3'], ['사무실에서 컴퓨터를가지고 수학교육진단 소프트웨어 개발', '12'], ['개인택시로 일반인을 대상으로 승객운송서비스', '4'], ['부동산 계약및중개서비스 부동산중개서비스', '6'], ['매장에서 접객시설을 갖추고 베트남음식제공', '1'], ['복지센터에서 노인환자분들께 방문요양', '7'], ['약국 각종 의약품, 의료용품 소매 소독제,드링크제,방충제', '0'], ['영업장에서 다른소매업자에게 페인트 도매', '0'], ['학원에서 20~30대까지 대상으로 부사관장교시험준비', '5'], ['원단 재단,재봉 유니폼제조', '2'], ['의류매장에서 일반소비자을대상으로 스포츠웨어소매', '0'], ['여관에서 숙박시설갖추고 숙박임대서비스', '1'], [' 자동차 금형 제조 ', '2'], ['벼 도정, 포장 쌀', '2'], ['음식점에서 접객시설을 갖추고 콩요리판매', '1'], ['매장에서 지게차 수리', '2'], ['금속 머시닝센터를이용하여 자동차부품 엔진가공', '2'], ['음식점에서 접객시설을 갖추고 물회판매', '1'], ['견사 제직 견직물', '2'], ['열쇠,철물점에서 일반소비자에게 열쇠,철물판매', '0'], ['모텔에서 개별룸서비스 없이 일반인을 대상으로 숙박서비스 제공', '1'], ['당구장에서 당구시설을 갖추고 당구게임 서비스', '9'], ['수강생을 대상으로 어학원에서 일본어, 중국어 교육', '5'], ['사업장에서 고객을 대상으로 일반미용업', '3'], ['사업장에서 일반인 대상 건강보조용 액화 식품 제조', '2'], ['공업사 개인요청수리서비스 선반,밀링가공 용접', '2'], ['사업장에서 일반인대상으로 한식일반음식판매', '1'], ['개인택시로 일반인을 대상으로 승객운송서비스', '4'], ['음식점에서 접객시설없이배달 아구찜', '1'], ['매장에서 일반소비자를 대상으로 주방용품 소매', '0'], ['PC, ABS 재료투입, 사출 ', '2'], ['전문점에서 접객시설을갖추고 햄버거 제공', '1'], ['영업장에서 고객의 의뢰를 받아 부동산중개서비스', '6'], ['건설현장에서 건축 토목 공사시 지질조사', '10'], ['치과에서 외래환자위주 치과진료', '7'], ['음식점에서 접객시설을 갖추고 돼지국밥,순대국 판매', '1'], ['사업장에서 고객을 대상으로 다이어트(해독주스 디톡스)', '3'], ['매장에서 일반인대상 여성복 소매', '0'], ['피시방 일반대중상대로 컴퓨터 게임방 운영업', '9'], ['된장찌개,정식 판매  ', '1'], ['일정한시설내에서 몸이불편한노인들에게 노인양로복지시설운영업', '7'], ['사업에종사하는 기업상호간의 이익증진을위한 산업단체', '3'], ['영업장 소매업자에게 도매 고추가루', '0'], ['용달화물자동차로 고객의 요청으로 화물운송서비스', '4'], ['매장에서 일반소비자에게 음 식료품 소매', '0'], ['점포 소비자 세탁서비스', '3'], ['도장에서 학？대상 태권도교육', '5'], ['금속을 용접 금속 표면 가공', '2'], ['사무실에서 계약체결에의해 부동산중개서비스', '6'], ['미용실에서 일반인을 대상으로 퍼머.커트 등', '3'], ['슈퍼 소매업 음,식료품위주로 생활잡화를', '0'], ['사업장에서 자동차부품 구입하여 도매', '0'], ['주점에서 접객시설을 갖추고 주류및 안주판매', '1'], ['음식점에서 접객시설을 갖추고 치킨을판매', '1'], ['소주방에서 접객요원 및 무도시설 없이 소주, 맥주', '1'], ['주점에서 접객요원 없이 주류,안주류', '1'], ['매장에서 일반고객대상 떡류 소매', '0'], ['영업장소에서 부동산 중개 알선매매', '6'], ['접객요원 및 무도시설 없이 주류 판매  ', '1'], ['사업장에서 고객의요청으로 사업경영자문', '10'], ['사업장에서 일반인을 대상으로 가방 판매', '0'], ['음식점에서 일반인을 대상으로 삼겹살', '1'], ['영업장에서 일반고객을대상으로 발마사지서비스', '3'], ['건어물가게 일반고객대상 건어물판매', '0'], ['명상법,기명상,단전호흡  ', '9'], ['철물점에서 일반소비자에게 열쇠판매', '0'], ['개인작가, 양성 미술 화실에서 교육서비스', '9'], ['정육점에서 일반고객 대상 육류 소매', '0'], ['식당에서 접객시설을 갖추고 떡볶이', '1'], ['사무실에서 고객의 요청으로 인력알선', '11'], ['식당에서 일반고객에게 삼겹살제공', '1'], ['배관자재,보일러,도기,타일,수전 도소매 배관자재', '0'], ['민박집에서 일반인대상으로 숙박서비스', '1'], ['치킨점에서 접객시설을갖추고 치킨판매', '1'], ['문구점에서 일반소비자 문구류소매', '0'], ['개별화물자동차로 고객의 요청으로 화물운송서비스', '4'], ['외국바이어에게 사업장에서 과일 및 채소가공식품', '0'], ['철을가지고 절단가공하여 진공소재금속부품제조', '2'], ['중국식 음식점에서 접객시설을 깆추고 자장면. 짬뽕', '1'], ['신한은행에서 일반대중을 대상으로 자금을 여수신 자금 여수신 송금', '13'], ['구내식당에서 직원대상으로 식사제공', '1'], ['어린이집에서 보호자로부터위탁을받아 취학전유아보육', '7'], ['영업장에서 산업사용자에게 도매 비철금속', '0'], ['상거엣 소매업자에게도매 의류', '0'], ['건물내 고객의뢰받아 도배,장판시공', '8'], ['사업장에서 일반인을 대상으로 컴퓨터게임방운영', '9'], ['꽃집에서 일반소비자에 소매 꽃, 난 소매', '0'], ['현장에서 고객의 요청으로 토목 도로공사', '8'], ['지정폐기물을 차량을이용하여 폐기물수집운반', '15'], ['분식점에서 접객시설을갖추고 김밥, 국수등 제공', '1'], ['매장에서 접객시설을갖추고 매운떡볶이', '1'], ['일반소비자에게 사업장에서 수산물소매', '0'], ['개인택시로 일반인을 대상으로 승객운송서비스', '4'], ['커피？에서 접객시설으르 갖추고 커피 쥬스', '1'], ['음식점에서 접객시설갖추고 조개구이', '1'], ['피아노 학생에게교육서비스 피아노강습', '5'], ['돼지고기, 소고기 원료입고, 발골 ', '2'], ['매장에서 도소매 비가공농산물(알타리시금치양파)', '0'], ['한글 폰트 시각전달매체를 통해 기획 디자인 관리', '10'], ['피부관리실에서 손이나기구로피부관리 피부마사지', '3'], ['미용실에서 고객을 대상으로 머리자르기등', '3'], ['매장에서 일반소비자를 대상으로 여성의류', '0'], ['중식 음식점업  ', '1'], ['매장에서 일반고객을 대상으로 핸드폰 판매', '0'], ['스포츠교육학원 학생 일반인 대상으로 합기도', '5'], ['사업장에서 전자저울, 계측기계를 도.소매업자에게 판매', '0'], ['충전소에서 일반소비자를 대상으로 차량용가스', '0'], ['165㎡미만 마트에서 일반소비자에게 소매 음식료품 위주', '0'], ['매장에서 일반소비자에게 과일, 야채 소매', '0'], ['온라인 통신망을 통하여 일반대중 대상으로 전자상거래 소매(건강음료. 화장품)', '0'], ['일반화물자동차로 고객의 요청으로 화물운송서비스', '4'], ['커피숍에서 접객시설을 갖취고 커피,쥬스판매', '1'], ['일반여행업  ', '11'], ['사업장에서 중장비수리 기계장비수리', '2'], ['등유 복합화력발전 전기를생산', '17'], ['정형외과에서 외래환자 위주 진료서비스', '7'], ['접객시설을갖추고한국식음식판매  ', '1'], ['매장에서 접객시설을 갖추고서 피자', '1'], ['농산물을 소매업자에게 과일도매', '0'], ['건물내에서 고객의요구에따라 일반 청소업', '11'], ['고물상에서 고물을 수집하여 고물 판매', '0'], [' 미용실 ', '3'], ['의류점에서 일반인을대상으로 티셔츠판매', '0'], ['여인숙에서 숙박시설을 갖추고 숙박서비스', '1'], ['정비공업사에서 전기및 기계적인 방법으로 자동차 종합 수리업', '3'], ['마사지샵에서 손이나기구를이용하여 전신마사지', '3'], ['음식점에서 접객시설을 갖추고 한식음식 판매', '1'], ['부동산 중개소에서 계약에 의거 부동산중개 부동산 거래 중개서비스', '6'], ['분식점 일반고객 만두,라면,김밥', '1'], ['건물 고객의뢰를 받아 페인트 공사', '8'], ['부동산 중개소에서 계약 및 중개수수료를 받아 거래 중개 서비스 제공', '6'], ['고객의뢰받아 사업장에서 의복수선', '3'], ['아이스크림  ', '1'], ['개인택시로 일반인을 대상으로 승객운송서비스', '4'], ['치과 외래 환자 치과 진료', '7'], ['사업장에서 일반소비자에게소매 남녀의류', '0'], ['한의원에서 외래환자위주로 한방진료서비스', '7'], ['한의원에서 환자 위주로 한약 재료,진료', '7'], ['미용실에서 일반인을 대상으로 컷트,염색,파마', '3'], ['일반화물자동차로 고객의 요청으로 화물운송서비스', '4'], ['어린이집에서 관할지역의인가를받아 취학전아동의보육', '7'], ['교회에서 기독교 계통 종교활동 종교서비스', '3'], ['용달화물자동차로 고객의 요청으로 화물운송서비스', '4'], ['개별화물자동차로 고객의 요청으로 화물운송서비스', '4'], ['대리점에서 수퍼에 우유도매', '0'], ['접객시설을 갖추고 된장찌개제공  ', '1'], ['매장 소비자를 대상 수영복 소매', '0'], ['매장에서 일반인 대상으로 여성복 소매', '0'], ['사업장에서 엑셀등 범용성패키지프로그램 소프트웨어 개발,공급', '12'], ['개인택시로 일반인을 대상으로 승객운송서비스', '4'], ['모타,금속주물반제품 조립 산업용펌프', '2'], ['원피 염색처리 원피염색', '2'], ['체인계약을 체결하여 마트에서 음,식료품 소매', '0'], ['사무실에서 고객 요청에 의해 토목설계', '10'], ['사업장에서 의뢰를 받아 전기통신회선임대', '12'], ['산업사용자에게 사업장에서 중장비도매', '0'], ['음식점 접객시설갖추고 동태찌개', '1'], ['천연재료를 사용하여 매장에서 직접 만듬 로션 오일및 화장품', '2'], ['매장에서 일반 소비자에게 셔츠, 블라우스', '0'], ['농장에서 일반인을 대상으로 토마토소매', '0'], ['자동차 부품을 카센터에 도매 자동차 부품', '0'], ['사무실에서 고객의 의뢰에따라 변호사업', '10'], ['음식점에서 접객시설을 갖추고 중국식만두', '1'], ['학원에서 학생들 위주 입시 교육서비스', '5'], ['전선, 콤파운드 전선절단, 압착 ', '2'], ['고객의 주문 도소매 방송장비', '0'], ['사업장에서 고객의요구에따라 커피제공', '1'], ['사업장에서 고객에게 휴대폰판매', '0'], ['사무실에서 고객대상 국내외알선', '11'], ['사업장에서 자동차정비 자동차수리전문', '3'], ['교회에서 기독교계통종교활동 종교서비스', '3'], ['식당에서 접객시설을 갖추고 족발판매', '1'], ['음식점에서 접객시설을 갖추고 커피, 음료', '1'], ['사업장에서 토목 건축 관련 감리를 토목감리 및 설계', '10'], ['주점에서 접객요원을 두고 양주맥주판매', '1'], ['매장에서 일반소비자에게 안경 소매', '0'], ['초등학교 관할지역 교육청의인가를 받아 기초적인 초등교육', '5'], ['매장에서 일반소비자대상 활어소매', '0'], ['사업장에서 일반인을 대상으로 파마 컷트등을 제공', '3'], ['음식점에서 접객시설을갖추고 청국잔', '1'], ['음식점에서 접객시설을 갖추고 올갱이국, 김치찌게', '1'], ['인테리어매장에서 고객의 의뢰를 받아 바닥재교체, 도배장판공사', '8'], ['서비스 특정업무처리를 위한 통합시스템구축서비스', '12'], ['매장에서 일반인에게 커피 제공', '1'], ['영업장에서 접객시설을 갖추고 햄버거,치킨', '1'], ['전기판넬 조립,용접 판금제작', '2'], ['개인택시로 일반인을 대상으로 승객운송서비스', '4'], ['센터에서 일반인을 대상으로 가족,청소년상담', '7'], [' 인반인에게 전자상거래', '0'], ['닭갈비 일반인 대상으로 주문,포장 배달', '1'], [' 속눈썹, 왁싱 ', '3'], ['미용실 일반대상으로 헤어컷, 펌, 드라이', '3'], ['가죽원단으로 재단하여 가죽의류제조', '2'], ['철판 입고, 절단 ', '2'], ['사무소에서 고객의 의뢰를 받아 건축설계', '10'], ['사업장에서 아동용 그네 제작 판매', '0'], ['전기엔지니어링서비스  ', '10'], ['일반인 대상으로 소매 공예,패션,소품,기타', '0'], ['접객시설을갖추고 돼지고기및찌개류등제공  ', '1'], ['사업장에서 고객요구에의거 이벤트대행', '11'], ['사업장에서 인터넷을 통한 전자상거래', '0'], ['미술학원에서 학원생들에게 미술교육', '5'], ['매장에서 일반인대상으로 홍삼제품판매', '0'], ['음식점에서 접객시설 갖추고 치킨', '1'], ['일반소비자대상으로 매장에서 카메라판매', '0'], ['기계장비 기계장비 도매 펌프', '0'], ['사업장에서 고객대상으로 계란도소매', '0'], ['과일,한약재를 가지고 약탕기를 이용하여 복숭아즙,한약즙등', '2'], [' 가죽가방 제조 ', '2'], ['아파트관리사무소 아파트입주자를위해 주거용아파트관리서비스', '6'], ['전기매트  ', '2'], ['치킨점에서 접객시설갖추고 치킨판매', '1'], ['교회 기독교계통종교활동 종교서비스', '3'], ['분식점에서 소비자에게 김밥 주먹밥', '1'], ['직업소개소에서 수수료를 받고 고용알선', '11'], ['용달화물자동차로 고객의 요청으로 화물운송서비스', '4'], ['상가점포를 가지고 임대를 통하여 사무실임대', '6'], ['편의점에서 일반소비자대상 식료품위주의소매', '0'], ['화장품 소매 손톱관리및 발관리', '0'], ['사업장에서 고객요청으로 건물청소', '11'], ['음식점 접객시설을 갖추고 육류 요리 판매', '1'], ['간이주점에서 접객요원및무도시설없이 맥주,소주,안주류', '1'], ['접객시설을 갖추고 한국식 회, 백반을 판매  ', '1'], ['방앗간에서 떡기계를갖추고 떡제조', '2'], ['매장에서 일반소비자에게 가구소매', '0'], ['용달화물자동차로 고객의 요청으로 화물운송서비스', '4'], ['개인택시로 일반인을 대상으로 승객운송서비스', '4'], ['음료점에서 접객시설을 갖추고 커피,음료제공', '1'], ['제과점에서 접객시설을 갖추고 빵판매', '1'], ['노래 연습장 운영 영상기기를 가지고 일반고객에게 음향반주제공', '9'], ['매장에서 일반소비자에게 아동의류, 바지 등 소매', '0'], ['독서실에서 학생.일반인을 대상으로로 독서실운영', '9'], ['보건업 (의원에서) 외래환자 위주로 소아청소년과,내과,이비인후과 진료', '7'], ['세탁소에서 고객의요청에따라 세탁서비스', '3'], ['빨래방에서 일반인을 대상으로 세탁서비스', '3'], ['연구소 요리강습 남도요리', '5'], ['제과점 직접 빵을 만들어서 빵, 케？,생과자를 직접구워 판매', '1'], ['부동산중개소에서 계약및 중개등을 통해 수수료받음 부동산중개서비스', '6'], ['매장에서 병원으로 메디칼 장비 도매(의료용)', '0'], ['분식점에서 긴이음식을 조리하여제공 만두,김밥', '1'], ['치킨 일반인대상으로 치킨·피자', '1'], ['사무실에서 건강헬스기구 무역', '0'], ['사업장 조리하여 반찬제조', '2'], ['사업체에서 일반인을 대상으로 장판소매', '0'], ['건설공사를 일괄도급하여 분양 판매 아파트', '6'], ['수협에서 일반인대상으로 대출및 이자지급', '13'], ['PLC, 케이블 주문, 설계 ', '2'], ['사무실에서 고객의요청에따라 상용인력공급업', '11'], ['영업장에서 제빵시설을 갖추고 식빵,도넛판매', '1'], ['개별화물자동차로 고객의 요청으로 화물운송서비스', '4'], ['식품점에서 업체대상으로 중국식품도매', '0'], ['객실을이용 호텔에서 룸서비스제공', '1'], ['도매 사업장에서 주류', '0'], ['학원에서 학생들을 대상으로 영어 교육', '5'], ['개인택시로 일반인을 대상으로 승객운송서비스', '4'], ['주점에서 접객시설을 갖추고 소주, 맥주 등', '1'], ['미용실에서 두발미용서비스 제공 컷트.염색등', '3'], ['음식점에서 접객시설을갖추고 우렁쌈밥판매', '1'], ['매장에서 일반소비자대상 소매 반지,시계', '0'], ['매장에서 일반소비자에게 밑반찬', '0'], ['나눔의 집 일반인대상 무료급식제공', '7'], ['사업장에서 일반인대상 손톱아트 관리', '3'], ['영업장에서 화물운송업자와 화주간에 화물운송알선', '4'], ['음식점에서 접객시설없이 찌게배달', '1'], ['카본,크롬 용접후전기열가스 금속열처리제품', '2'], ['음식점에서 접객시설을갖추고 갈비탕제공', '1'], ['미용실에서 일반고객대상 파마,컷', '3'], ['토너, 전자부품실장기판 자재입고, 분해 토너카트리지제조, 화재경보기', '2'], ['교회 기독교종교활동 종교서비스', '3'], ['사업장에서 금속을 가지고 금속선반제조', '2'], ['일반횟집에서 접객시설을갖추고 오징어 광어회', '1'], ['해양안전심판원에서 해양교통행정 해양사고원인규명조사및 심판', '14'], ['음식점에서 접객시설을 갖추고 보신탕제공', '1'], ['식당에서 접객시설을갖추고 한식찌게', '1'], ['상가에서 소매업자에게 도매 의류', '0'], ['호프,치킨 접객시설을갖추고 호프,치킨판매', '1'], ['의류를 인터넷상으로 판매', '0'], ['개인택시로 일반인을 대상으로 승객운송서비스', '4'], ['미용실에서 머리를 아름답게 꾸미는 서비스 파마 염색 머리손질', '3'], ['매장에서 일반인을대상으로 골프웨어판매', '0'], ['스텐파이프로 주형금형제조 금형대', '2'], ['주점에서 접객원 없이 생선찌개,소주등 판매', '1'], ['사업장에서 화물 운송업자와 화주간에 화물운송주선업', '4'], ['접객시설을갖추고 음식점에서 떡,음료제공', '1'], ['부동산중계소에서 계약에의해 부동산중개', '6'], ['개인택시로 일반인을 대상으로 승객운송서비스', '4'], ['이용소 두발이용 서비스 머리자르기, 면도', '3'], ['사업장에서 국내외주 중국공장 생산 화장품용기 수출', '2'], ['노래주점에서 접객요원을 두고 양주,맥주 판매', '1'], ['목재 등 재단 접합 조립하여 원목가구 제작', '2'], ['영업장에서 접객시설을갖추고 주류판매', '1'], ['미용실에서 두발 미용서비스 파마.컷,염색', '3'], ['학원에서 학생들에게 영어교육', '5'], ['카센타에서 자동차특정부분을 전문으로 차량정비,수리', '3'], ['숙박시설를 갖추고 캠핑장에서 캠프장운영', '1'], ['핸드폰가게에서 일반소비자들에게 핸드폰', '0'], ['음식점에서 접객시설을 갖추고 갈비탕,육개장', '1'], ['주점에서 접객시설을 갖추고 맥주 양주', '1'], [' 반도체설계외주제작, 사업장에서 ', '2'], ['식당에서 접객시설을갖추고 한식', '1'], ['매장에서 일반인을 대상으로 의류및 잡화를 기증받아 판매', '0'], ['매장에서 일반소비자에게 아동복 소매', '0'], ['자동화설비 수주, 설계 ', '2'], ['세탁소에서 일반소비자를대상으로 세탁함', '3'], ['매장에서 일반인을대상으로 화장품판매', '0'], ['공장에서 사업주를대상으로 포장박스금박처리', '2'], ['면적165㎡미만 슈퍼에서 일반인 대상 음식료품 위주 판매', '0'], ['시설을 갖추고 볼링장에서 볼링게임', '9'], ['개별화물자동차로 고객의 요청으로 화물운송서비스', '4'], ['도서관에서 입주민을  대상으로 책대여', '9'], ['음식점에서 접객시설갖추고 삼겹살,돼지불고기', '1'], ['치과에서 외래환자에게 치과진료 스켈링 인플란트', '7'], ['현장에서 업체의뢰받아 놀이터 모래소독및방역서비스', '11'], ['사업장에서 고객의 요청으로 건물청소대행', '11'], ['속옷가게에서 일반소비자에게 속옷판매', '0'], ['사업장에서 사업체를대상로 인력공급', '11'], ['건축자재, 도배 장판  ', '0'], ['사업장에서 산업사용자에게 유승압밸브 도매', '0'], ['소프트웨어 설치, 하드웨어 구축 사업장에서 병원 관련 시스템 구축', '12'], ['쇠(스틸) 수작업 랩핑 기계부품 제조', '2'], ['점술인이 방문고객대상 사주.관상', '3'], ['초등학교 국민생활에 필요한 기초적인 초등교육 교육서비스', '5'], ['가게에서 접객시설을갖추고 치킨', '1'], ['편의점에서 체인계약을 체결하여 식료품, 담배 소매', '0'], ['개인택시로 일반인을 대상으로 승객운송서비스', '4'], ['구두닦기 구두닦기서비스제공 구두광택 등', '3'], ['매장에서 일반인대상 화장품판매', '0'], ['잔디관리 코스관리및잔디 골프장', '11'], ['슈퍼(165㎡미만) 소매 일반식료품외', '0'], ['직물(실크스크린용) 감광제등 OHP필름출력 감광액첨가하여 실크스크린인쇄', '2'], ['사업장에서 산업사용자에게 의료기기 도매', '0'], ['부동산에서 중개및수수료를받고 부동산중개거래서비스', '6'], ['음식점에서 접객시설갖추고 칼국수 제공', '1'], ['산부인과에서 외래환자위주로 환자진료,피부시술', '7'], ['사업장에서 접객시설을갖추고 감자탕', '1'], ['건물내 고객의요구에다라 벽면및 타일공사', '8'], ['의류  ', '0'], ['음식점에서 접객시설을갖추고 청국장등을판매', '1'], ['철 압형 금형', '2'], ['일반인대상 여관업 숙박제공', '1'], ['협회에서 회원의이익향상을위한단체 회원관리,반공교육', '3'], ['수리업 산업사용자의요구에의해 컨테이너수리', '2'], ['사업장에서 고객에게 복사인쇄제본', '11'], ['부동산 일반인 상대로 공인중개사,분양대행', '6'], ['고추 분쇄방법으로 즉석제조 고추가루', '2'], ['사업장에서 의료용소모품 병원에납품', '0'], ['재단된원단 봉제,완성출하 지갑', '2'], ['석회 모래 자갈 배수용 콘크리트 관 제조 배수로관 플륨관', '2'], ['P.P 사출 플라스틱주사기', '2'], ['네일샵에서 일반고객대상으로 손톱미용서비스', '3'], ['사업장에서 청솔아파트를 관리서비스', '6'], ['음료점 접객시설을 갖추고 커피, 차', '1'], ['개인택시로 일반인을 대상으로 승객운송서비스', '4'], ['매장에서 일반소비자에게 꽃,난등 소매', '0'], ['사업장에서 일반인대상 소매 이불,커튼', '0'], ['목욕탕에서 일반인대상으로 목욕서비스', '3'], ['어린이집에서 보호자로부터위탁을받아 취학전유아보육', '7'], ['노래방 시설을 갖추고 노래방제공', '9'], ['낚시터 실내외낚시시설갖추고 장소제공', '9'], ['개별화물자동차로 고객의 요청으로 화물운송서비스', '4'], ['사업장에서 일반소비자에게 카오디오', '0'], ['세탁소 일반 고객을 상대로 세탁물세탁', '3'], ['학생 대상 학원에서 무용교육', '5'], ['영업장에서 일반소비자에게 페인트판매', '0'], ['음식점에서 접객시설갖추고 삼겹살판매', '1'], ['음식점에서 접객시설을갖추고 칼국수제공', '1'], ['용달화물자동차로 고객의 요청으로 화물운송서비스', '4'], ['행정 서류 사무실에서 대행서비스', '10'], ['노래방  노래방운영', '9'], ['편의점에서 소비자에게 음식료품 판매', '0'], ['매장에서 일반소비자에게소매 음식료품위주', '0'], ['개인택시로 일반인을 대상으로 승객운송서비스', '4'], ['약국  ', '0'], ['미용실에서 두발미용 서비스제공 파마,염색,머리자르기', '3'], ['가게에서 일반인에게 문구용품 판매', '0'], ['인쇄소에서 고객요청 광고디자인(현수막디자인등)', '10'], ['개인과외교습(수학)  ', '5'], ['사업장에서 부동산업 KT건물 임대 및 관리', '6'], ['음식점에서 접객시설을갖추고 수제비,칼국수 판매', '1'], ['부동산에서 계약및중개수수료받고 중개 서비스', '6'], ['매장에서 소비자에 의류판매', '0'], ['학원 학생대상 영어지도', '5'], ['용달화물자동차로 고객의 요청으로 화물운송서비스', '4'], ['학원에서 일반인,청소년 대상으로 색스폰,올겐 음악교육', '5'], ['음식점에서 접객시설갖추고 닭볶음탕', '1'], ['사업장에서 병원,약국을 대상으로 의약품도매업', '0'], ['매장에서 일반인대상 손톱관리', '3'], ['사업장에서 의복 악세사리 의류부자재 부품 도매', '0'], ['일반소비자에게 미소유통에서 건어물소매', '0'], ['매장에서 일반인을 대상으로 소매 남녀청바지', '0'], ['개인택시로 일반인을 대상으로 승객운송서비스', '4'], ['개인택시로 일반인을 대상으로 승객운송서비스', '4'], ['CU마트에서 소비자에게 식료품판매', '0'], ['편의점에서 일반인대상으로 과자,음료소매', '0'], ['현장에서 계약에의해 하수정화처리', '15'], ['영업장에서 접객시설을갖추고 주류,안주', '1'], ['개인택시로 일반인을 대상으로 승객운송서비스', '4'], ['매장에서 소매 청바지.니트.셔츠', '0'], ['개별화물자동차로 고객의 요청으로 화물운송서비스', '4'], ['일반소비자에게 사업장에서 판넬등 건축자재판매', '0'], ['음식점에서 접객시설을 갖추고 백반등 판매', '1'], ['황산구리, 염화회토류 원료구입, 원료계량 ', '2'], ['부동산 개발 및 시행 주거용건물개발공급', '6'], ['철판 절삭가공 절삭가공업', '2'], ['농협중앙회에서 고객에게 예금,대출', '13'], ['사업장에서 일반인을대상으로 힐링맛사지？', '3'], ['소프트웨어 개발 및 공급  ', '12'], ['양념치킨 후라이드치킨  ', '1'], ['가방 및 가죽제품 소매업 가방 및 가죽제품', '0'], ['미용실에서 고객을대상으로 커트 파마 염색', '3'], ['연구소에서 시설을 갖추고 전기 연구', '10'], ['학원에서 일반인대성 영어', '5'], ['관리사무실에서 입주자를위해 주거용부동산서비스', '6'], ['고객요구에 따라 사업장에서 지질조사서비스', '10'], ['개인택시로 일반인을 대상으로 승객운송서비스', '4'], ['체인화 편의점 일반인을 대상으로 음식료품위주판매', '0'], ['사업장에서 소매 화장품', '0'], ['부동산중개사무소에서 계약및 중개등을 통해 수수료 받음 부동산 중개서비스', '6'], ['영업장에서 접객시설을 갖추고 피자, 햄버거, 샌드위치 및 유사 음식제공', '1'], ['고객의 영업장소에가서 영업용수조수리', '2'], ['사업장에서 소매업자에게 의류도매', '0'], ['연구소에서 체외진단의료기기,면역분석법,유전체분석 진단키트 개발,연구', '10'], ['보건업 고객의 요구에따라 성형외과,피부과,비뇨기과', '7'], ['합기도장에서 초중등학생을대상으로 합기도교육서비스', '5'], ['체육관에서 레포츠활동 배드민턴', '9'], ['대한 예수교 장로회 기독계통 종교활동 종교 서비스', '3'], ['음식점에서 접객시설을 갖추고 우동, 잔치국수등 면류판매', '1'], ['사업장에서 전자상거래 각종상품', '0'], ['택시정류장에서 일반인을 대상으로 택시운송서비스', '4'], ['체육관에서 체력단련시설을 갖추고 태권도 지도', '5'], ['한식 음식점업  ', '1'], ['건설업 철근콘크리트 토목공사', '8'], ['어린이집에서 관할구청에서 인가받아 취학전영아보육', '7'], ['수퍼(165미만) 일반인 과자 음료', '0'], ['학원에서 학생들에게 영어', '5'], ['매장에서 접객시설갖추고 커피,음료', '1'], ['보건업 환자를대상으로 정신과의원', '7'], ['사업장에서 운수대행 운수업', '4'], ['부산건강가정운동본부위탁으로 가족복지센터에서 상담문화 교육서비스제공', '7'], ['사업장에서 고객들에게 숙박시설 운영', '1'], ['학원에서 학생 대상으로 영어', '5'], ['부동산중개소 계약에 의거 부동산중개 부동산중개서비스', '6'], ['사업장에서 고객의 요청에 따라 화장실 타일및방수공사', '8'], ['사업장에서 일반고객대상 CCTV,키폰,컴퓨터 수리,설치서비스', '3'], ['아파트 관리 사무소에서 전원 아파트 입주자를 위하여 주거용 주택. 아파트괸리 서비스', '6'], ['새마을금고 고객으로부터 자금조성및 여수신 자금 여수신', '13'], ['사업장에서 제조 호이스트산업기계', '2'], ['영업장에서 고객에게 휴대폰 판매', '0'], ['매장에서 고객에게 네일아트', '3'], ['양념치킨, 프라이드 치킨 판매  ', '1'], ['이용원에서 고객의주문에따라 이발,면도', '3'], ['사업장에서 운영체제등 시스템소프트웨어 개발 공급', '12'], ['영업장에서 일반소비자에게 유리소매', '0'], ['음식점에서 접객시설을 갖추고 피자제공', '1'], ['건물내 고객의 요청에 의해 수도배관 공사', '8'], ['사업장 건축관련 종사자에게 배관장치 도매, 소매', '0'], ['부동산중개소에서 계약및중개등을 통해 수수료를 받음 부동산거래중개서비스', '6'], ['판촉물  ', '0'], ['요가원에서 고객을대상으로 요가,필라테스', '5'], ['플라스틱으로 사출성형 생활청소용품제조', '2'], ['학원에서  영어교습', '5'], ['영업장에서 음식을 조리하여 도시락', '1'], ['사무실에서 고객들에게 무역중개', '0'], ['카센터 자동차 전문 수리 자동차 수리', '3'], ['당구장에서 일반인 대상 당구장 운영', '9'], ['약국에서 일반인을 대상으로 병원처방약조제및판매', '0'], ['매장에서 일반인을 대상으로 유기농 농산물 판매', '0'], ['당구장에서 일반인대상으로 당구장운영', '9'], ['개인택시로 일반인을 대상으로 승객운송서비스', '4'], ['매장에서 일반소비자에게 전구,스위치', '0'], ['사업장에서 소매업자에게 도매 악세사리,잡화', '0'], ['농기계  ', '2'], ['용달화물자동차로 고객의 요청으로 화물운송서비스', '4'], ['접객시설을 갖추고 비지장  ', '1'], ['사업장에서 고객의주문에의해 샷시창호공사', '8'], ['음식점 접객시설을 갖추고 순대국밥제공', '1'], ['우체국 일반인대상으로 우편업,택배', '12'], ['가게에서 일반인에게 담배, 술, 과자를 판매', '0'], ['켜피숍에서 접객시설을갖추고 커피음료', '1'], ['건축물 구조물등 도로선 표시공사 제공', '8'], ['음식점에서 접객시설갖추고 부침개', '1'], ['당구장에서 일반인대상으로 당구장운영', '9'], ['점포에서 일반소비자를 대상으로소매 여성의류 가방등을 판매', '0'], [' 일반 영화 및 비디오물 제작업 ', '12'], ['사업장에서 생활 쓰레기 수거 폐기물 도소매', '15'], ['한의원에서 외래환자위주로 진료서비스', '7'], ['사업장에서  의약품 연구개발', '10'], ['사업장에서 접객시설갖추고 커파,음료', '1'], ['매장에서 일반소비자대상으로 핸드폰', '0'], ['커피 전문점 접객시설을갖추고 커피,음료', '1'], ['노인을 입소하여 요양시설 복지시설운영', '7'], ['일반인을대상으로 미장원에서 컷트,파마등', '3'], ['일반소비자 정육점 고기소매', '0'], ['영업장에서 고객의요구에 따라 기념행사대행', '11'], ['철판 용접 굴삭기부품', '2'], ['외국항로에 선박을 취항 외항 화물운송', '4'], ['음식점에서 접객새설을 갖추고 짬뽕 짜장 중국음식', '1'], ['음식점 접객시설을 갖추고 칼국수', '1'], ['미용실 두발서비스 파마, 염색, 커트', '3'], ['접착공장에서 카드재료를접착하여 카드.봉투', '2'], ['접객시설을 갖추고 곰장어를 요리하여 판매', '1'], [' 우리mart 안에 수산코너에서 소비자에게 수산물 판매하신다고 답함 ', '0'], ['사무실에서 고객 요청에 따라 하천 설계', '10'], ['시트지 절단 가공 건축자재', '2'], ['학원 교육서비스업 ', '5'], ['도매 사업장에서 농산물', '0'], ['한식판매  ', '1'], ['민박에서 일반인대상 숙박서비스제공', '1'], ['공장에서 금속절단가공 금속표면처리', '2'], ['음식점에서 접객시설을갖추고 스파게티 피자 판매', '1'], ['개인택시로 일반인을 대상으로 승객운송서비스', '4'], ['단란주점 접객요원을 두고 맥주,양주 제공', '1'], ['매장에서 고객의요청에의해 농산물 납품(학교)', '0'], ['용달화물자동차로 고객의 요청으로 화물운송서비스', '4'], ['커피전문점에서 접객시설을갖추고 커피', '1'], ['미장원에서 고객을대상으로 커트,염색등', '3'], ['사업장에서 산업사용자에게 공조기기 냉동기 도매', '0'], ['일반여행업  ', '11'], ['금속 주문제작 명판', '2'], ['사무용컴퓨터,팩시밀리 소비자대상 수리.판매', '0'], ['사업장 고객대상 맛사지', '3'], ['유치원에서 관할지역교육청의인가를받아 취학전아동을교육', '5'], ['폐배터리 입고, 절단 ', '2'], ['의류 고객대상 의류(내의,외의)', '0'], ['매장에서 일반소비자에게 조명기구판매', '0'], ['사업장에서 고객대상 약국', '0'], ['영업장에서 일반고객대상으로 셀프빨래', '3'], ['한약방 일반소비자에게 소매 한약 소매', '0'], ['용달화물자동차로 고객의 요청으로 화물운송서비스', '4'], ['음식점에 영업장에서 조미료 및 감미제 도매', '0'], ['학교에서 중학생대상 중학교수업', '5'], ['복합소재 열을가하여제품성형 복합소재제품', '2'], ['중개무역 영업장에서 pcb장비', '0'], ['개인택시로 일반인을 대상으로 승객운송서비스', '4'], ['금속가공품 수수료또는계약에의해 도장처리업', '2'], ['어린이집에서 관할시청에 인가받아 뵤육서비스', '7'], ['치킨집에서 접객시설을갖추고 치킨판매', '1'], ['건강원 건강즙 추출하여 일반소비자에게 소매 과일즙, 호박즙, 잉어즙등', '2'], ['타이어금형, 타이어수리.개조 타이어금형입고, 청소 ', '2'], ['교회에서 기독교계통 종교활동 종교서비스', '3'], ['치킨전문점에서 접객시설을갖추고 양념치킨 ,프라이드등판매', '1'], ['수퍼 일반인 음료및 생활잡화', '0'], ['가게에서 소비자대상 건과류,옥수수차및모자소매', '0'], ['사업장에서 일반고객을 대상으로 화장품 도매', '0'], ['사업장에서 제작 전자부품제조', '2'], ['철판을 절단하여 금속 사다리', '2'], ['비주거용건물 일정기간계약하고 사무실임대', '6'], ['모텔에서 숙박시설을 갖추고 숙박서비스제공', '1'], ['음식점에서 접객시설을갖추고 밀면,냉면', '1'], ['광택재료로 자동차에 광택서비스', '3'], ['카페에서 일반인대상 커피제공', '1'], ['커피숍에서 접객시설을 갖추고 커피,음료', '1'], ['개인택시로 일반인을 대상으로 승객운송서비스', '4'], ['쌀, 콩 가루로 분쇄 시루에 찌어 떡제조 시루떡 가래떡', '2'], ['학원에서 학생들에게 영어교육서비스', '5'], ['보험회사에서 일반반고객을 상대로 보험대리 중개', '13'], ['세탁소에서 일반 소비자를 대상으로 의류 세탁', '3'], ['매장에서 도소매 철물 및 공구, 전기, 황물, 잡화', '0'], ['철을 선반 밀링가공하여 유압기기', '2'], ['합성수지 사출성형 자동차부품', '2'], ['목재합판 가공 씽크대', '2'], ['부동산사무실에서 계약및 중개수수료 부동산중개업 및 컨설팅', '6'], ['교회에서 기독교계통종교활동 기독교종교서비스', '3'], ['방앗간에서 건고추를분쇄하여 고추가루기름판매', '2'], ['매장에서 일반 고객에게 커피', '1'], ['가게에서 도매 의약품', '0'], ['부동산중개소에서 계약수수료를 받고 부동산중개서비스', '6'], ['산업사용자 대상으로 사업장에서 건축,토목자재 판매', '0'], [' 주점 운영(접객서비스 없음) ', '1'], ['음식점에서 접객시설을 갖추고 냉면', '1'], ['음식료잡화점에서 일반소비자에게소매로 과자,음료소매', '0'], ['사업장에서 산업사용자에게 액체연료 도매', '0'], ['개인택시로 일반인을 대상으로 승객운송서비스', '4'], ['편의점에서 체인계약을 체결하여 음료 잡화소매', '0'], ['가게에서 고객의요청에따라 유리교환', '8'], ['접객시설을갖추고 식당에서 베트남쌀국수', '1'], ['사업장에서 고객의 요청에 따라 LPG배관망시설 공사', '8'], ['중고자동차를 일반인을대상으로 도소매판매및중개', '0'], ['용달화물자동차로 고객의 요청으로 화물운송서비스', '4'], ['사무실에서 고객요구에 따라 인터넷정보 서비스', '12'], ['사업장 청소년,소녀가장,미혼모,독거노인및 사회취약층 무료급식,무료공연 무상기부', '7'], ['음식점에서 접객시설을갖추고 양꼬치,갈비', '1'], ['사업장에서 고객요청으로 램프제조', '2'], ['외국어학원 학생들에게교육서비스 영어회화,문법,외국어강습', '5'], ['매장에서 일반소비자에게 악세사리, 잡화', '0'], ['매장에서 고객들에게 전동바이크대여', '11'], [' 광학렌즈제조업 ', '2'], ['병원에서 소아. 유아 위주로 소아과진료 서비스', '7'], ['커피숍에서 접객시설을 갖추고 커피', '1'], ['PFA불소수지, FEP 원자재반입, 금형예열 ', '2'], ['휴대폰 매장에서 일반인 대상으로 핸드폰 판매', '0'], ['영업장에서 소비자를 대상으로 건축자재 임대', '11'], ['현장에서 고객의요청으로 주거용건물건설', '8'], ['방대여  ', '1'], [' 나라장터에 책,문구등 도매(납품) ', '0'], ['부동산중개소에서 고객의 의뢰로 부동산매매,임대중개서비스', '6'], ['음식점에서 접객시설을 갖추고 한식뷔페', '1'], ['사업장에서 일반소비자에게 LPG가스판매', '0'], ['MDF,목재 재단 ,조립,가공 장농 ,서랍장', '2'], ['사업장에서 고철,비철을 수집,분리하여 재생업체에 판매', '0'], ['일반소비자 안경소매업 안경맞춤', '0'], ['미용실에서 일반인대상으로 파마,염색', '3'], ['문화사에서 복사기, 인쇄기, 사무기기 도매', '0'], ['개인택시로 일반인을 대상으로 승객운송서비스', '4'], ['매장에서 고객들을대상으로 애견분양및용품판매', '0'], ['개인택시로 일반인을 대상으로 승객운송서비스', '4'], ['매장에서 고객의 요청에 의해 운동화 세탁 서비스', '3'], ['슈퍼에서 일반인에게 소매 각종상품', '0'], ['생활폐기물을 차량을이용하여 수집운ㅂ반', '15'], ['전동 지게차 수리,임대,렌탈 전동 지게차', '2'], ['건축사무소에서 고객의 요청에 의해 건축,설계,감리', '10'], ['우정빌딩 비주거용건물 임대', '6'], ['용달화물자동차로 고객의 요청으로 화물운송서비스', '4'], ['개인택시로 일반인을 대상으로 승객운송서비스', '4'], ['매장에서 소매업자에게 도매 채소류(오이,애호박)', '0'], ['사업장에서 고객의 요청에 의해 치아보철 제조', '2'], ['매장에서 일반소비자에게 바지 티', '0'], ['커피숍에서 접객시설갖추고 커피를 판매', '1'], ['쇠를 절단 절곡 용접하여 운반용핸드카 제조', '2'], ['부천범박힐스테이트2단지 전자보안 경보시스템 아파트 감시 관리 서비스', '11'], ['플라스틱 조립 콘솔박스', '2'], ['가스를 가스통에충전하여 식당으로배달', '0'], ['차량을가지고 일반화물을 운송및 수송', '4'], ['편의점에서 체인계약을 체결하여 식료품, 담배 소매', '0'], ['플라스틱 플라스틱입하, 기계녹임 ', '2'], ['개인택시로 일반인을 대상으로 승객운송서비스', '4'], ['커피숍에서 접객시설을 갖추고 커피,주스등', '1'], ['개인택시로 일반인을 대상으로 승객운송서비스', '4'], ['사업장에서 일반소비자에게 열쇠,디지털도어록', '0'], ['사업장에서 고객의 대상으로 이벤트 대행', '11'], ['주점에서 접객요원을 두고 맥주, 양주', '1'], ['수산물냉동창고 운송장비에 화물을 적재 및 하역 운반하역', '4'], ['무대, 음향, 전시장치 설치 및 행사용품렌탈  ', '11'], ['음식점에서 접객시설을 갖추고 선지국 ,닭개장', '1'], ['사업장에서 고객의 요청에 따라 대기오염？지,폐수,환경오염방지시설서비스', '10'], ['사업장에서 사무실이용자를위하여 사무용건물관리서비스', '6'], ['방앗간에서 기계설비를갖추고 각종떡류제조', '2'], ['한식음식점 일반소비자에게 보쌈', '1'], ['사무실에서 태양물리 연구', '10'], ['음식점에서 접객시설을갖추고 이태리음식제공', '1'], ['철 CNC가공 유수압펌프', '2'], ['세탁소에서 일반고객을대상으로 세탁,다림질', '3'], ['매장에서 일반소비자에게,온라인통신망을 이용하여 여성옷', '0'], ['개인택시로 일반인을 대상으로 승객운송서비스', '4'], ['의뢰인을 대리하여 사무실에서 소송, 변호, 이의신청', '10'], ['개인택시로 일반인을 대상으로 승객운송서비스', '4'], ['개별화물자동차로 고객의 요청으로 화물운송서비스', '4'], ['지점에서 고객대상으로 신용카드 할부금융, 연체료 상담', '13'], ['사업장에서 일반인을 대상으로 소매 컴퓨터판매', '0'], ['유치원에서 관할교육청에 인가를 받아 취학전 아동 교육', '5'], ['야채 소매 일반인에게', '0'], ['스타일리스트  ', '9'], [' 기계류자동화부품도매 ', '0'], ['음식점에서 접객시설을 갖추고 삼계탕, 국밥', '1'], ['공장에서 재단봉재하여 티셔츠', '2'], ['용달화물자동차로 고객의 요청으로 화물운송서비스', '4'], ['농민상담소에서 농업인을 대상으로 농업상담', '14'], ['방앗간에서 고객의 의뢰를 받아 떡', '2'], ['세차장에서 세차시설을 갖추고 손세차.광택,왁스', '3'], ['사업장에서 인터넷으로 애견제품쇼핑몰', '0'], ['현장에서 의뢰를 받아 미장·방수공사', '8'], ['사업장에서 고객의요청에의해 화물자동차운송업', '4'], ['학원에서 일반인대상으로 기타', '5'], ['법무사사무실에서 고객의 의뢰를 받아 등기,소송의 서류작성', '10'], ['사업장에서 산업사용자의 의뢰에따라 소형전자제품부품제조', '2'], ['교회에서 종교인을 대상으로 종교서비스', '3'], ['도매 항만용자재 아스팔트유제', '0'], ['음악학원에서 학생들에게 음악교육', '5'], ['교회 기독교계통의 종교활동 종교서비스', '3'], ['개인택시로 일반인을 대상으로 승객운송서비스', '4'], ['지하에 고객의 요구에 따라 중장비를 이용하여 철근 콘크리트공사', '8'], ['보습학원 상급학교 진학을위한 학생에게 수학교과교육 (초등~고1)', '5'], ['커피숍에서 접객시설을갖추고 커피,차', '1'], ['주차장  ', '4'], ['노래연습장에서 일반소비자에게 노래연습장 제공', '9'], ['음식점에서 접객시설을 갖추고 족발등 제공', '1'], ['매장에서 소비자에게 휴대폰판매', '0'], ['마트에서 일반소비자대상 식품,잡화소매', '0'], ['세차장에서 고객을 대상으로 자동차세차처리 서비스', '3'], ['학원에서 학생들대상 수학교육', '5'], ['음식점 접객시설을갖추고 닭갈비 제공', '1'], ['직물을 재단, 봉제하여 직물포대', '2'], ['촬영장치구조물, 고전압발생장치 x선장치부품, 조립 진단용x선촬영장치', '2'], ['매장에서 도매 화섬직물', '0'], ['사업장에서 어린이대상 트램블린장운영', '9'], ['매장에서 일반인에게 인형뽑기', '9'], ['정부지원을 받아 창업보육센터에서 보육벤처등록', '11'], ['현장에서 고객의요구에따라 금속구조물.유리 및 샤시설치', '8'], ['음식점에서 접객시설을 갖추고 술과 함께 각기우동,똥집 판매', '1'], ['매장에서 산업사용자에게도매 철강제품도매', '0'], ['사업장에서 자동차를 가지고 일반인대상으로 렌트카', '11'], ['어린이집에서 취학전아동을 교육및보육', '7'], ['천주교에서 카톨릭계통의 종교활동 천주교', '3'], ['초중고생에게 학원에서 피아노강습', '5'], ['커피전문점에서 접객시설을 갖추고 커피제공', '1'], ['음식 일반인대상 한식', '1'], ['일반인대상으로 가게에서 남녀의류', '0'], ['카센타에서 고객의 요청에 의해 자동차부품수리교체', '3'], ['폐차량수거, 분류 폐차장에서 폐차량 파쇄', '15'], ['점포에서 고객을 대상 염색 커트', '3'], ['피시방에서 시설을갖추고 피시방운영', '9'], ['사업장에서 소매업자에게 도매 주방기구,자동식기세척기', '0'], ['음식점에서 접객시설갖추고 회판매', '1'], ['개별화물자동차로 고객의 요청으로 화물운송서비스', '4'], ['철물점에서 일반소비자에게 못,야외빗자루', '0'], [' 영농조합법인 묘지 관리', '3'], ['교회 기독교계종교활동 종교서비스', '3'], ['매장 일반소비자에게 소매 숙녀복 판매', '0'], ['반도체설비  ', '2'], ['미용실에서 두발 미용 서비스 제공 컷트,퍼머,염색 등', '3'], ['여관 개별룸서비스없이 숙박서비스제공', '1'], ['음식점에서 접객시설을갖추고 쌀국수, 볶음밥', '1'], ['상가에서 일반소비자에게 머플러 악세서리', '0'], ['도매,소매 시설을 갖추고 인삼정과，절편，홍삼', '0'], ['금속 선반 밀링 기계부품', '2'], ['용달화물자동차로 고객의 요청으로 화물운송서비스', '4'], ['현장에서 의뢰를 받아 수도설비공사', '8'], ['고용주,구직자의뢰받아 직업소개소 파출부소개', '11'], ['사업장에서 플라스틱호스제작 건설업', '8'], ['금은방에서 일반인 대상으로 시계와 귀금속 소매', '0'], ['정육잠에서 일반인대상으로 돼지고기소고기판매', '0'], ['골프장내 매점 체인계약을 맺고 일반소비자에게 음식료품 판매', '0'], ['음식점에서 일반인에게 튀김,분식포장', '1'], ['용달화물자동차로 고객의 요청으로 화물운송서비스', '4'], ['모텔에서 개별룸서비스없이 일반인을 대상으로 숙박서비스제공', '1'], ['가게에서 일반소비자에게소매 형광등,전기재료', '0'], ['카페 접객시설을 갖추고 커피.음료', '1'], ['주점에서 접객시설을 갖추고 맥주,소주', '1'], ['주점에서 접객시설을 갖추고 ㅁ 맥주양주판매', '1'], ['고객의 사업시설에서 고객의 의뢰에따라 태양광발전사업및 컨설팅', '11'], ['여관에서 숙박시설을 갖추고 숙박서비스제공', '1'], ['현장에서 고객에 요청에 따라 토목공사', '8'], ['개별화물자동차로 고객의 요청으로 화물운송서비스', '4'], ['음식점에서 접객시설을갖추고 오리백숙', '1'], ['음식점에서 접객시설을갖추고 찜닭판매', '1'], ['개인택시로 일반인을 대상으로 승객운송서비스', '4'], ['미용실에서 일반인 대상으로 펌. 컷트', '3'], ['언어치료실에서 특정인을 대상으로 언어치료서비스', '7'], ['음식점에서 접객시설을 갖추고 국수제공', '1'], ['사업장에서 사무실이용자를 위하여 사무용 건물관리', '6'], ['사업장에서 접객시설을갖추고 막창 삼겹살', '1'], ['냉열기, 냉난방공사 업소대상으로 냉난방설치공사 냉열기, 히타', '8'], ['음식점에서 접객시설을갖추고 족발.보쌈제공', '1'], ['핸드폰  ', '0'], ['철판. 도료 설계. 부품가공 고압배전반', '2'], ['영업장에서 도매 고철, 폐자원', '0'], [' 숙박시설을 갖추고 고시텔', '1'], [' 소화물 택배 ', '4'], ['미장원 두발미용 서비스 염색', '3'], ['체육관에서 학생대상으로 태권도 교육', '5'], ['가게에서 일반소비자에게 차시트 도난경보기등판매', '0'], ['용달화물자동차로 고객의 요청으로 화물운송서비스', '4'], ['사업장에서 고객위해 인력공급', '11'], ['비가공수산물 소매상대상 숭어.광어', '0'], ['사업장에서 고객의뢰받아 자동차정비수리', '3'], ['용달화물자동차로 고객의 요청으로 화물운송서비스', '4'], ['부동산중개소에서 계약에의거 부동산중개 부동산중개서비스', '6'], ['사업장에서 설비업체에 동관.스테인레스관 판매', '0'], ['고객대상 호텔에서 호텔숙박제공', '1'], [' 스탠드에어컨설치 ', '8'], ['미장원에서 두발미용.머리자르기.염색등 서비스제공', '3'], ['사무실에서 고객의 의뢰를 받아 건물 전기안전관리 서비스', '10'], ['개인택시로 일반인을 대상으로 승객운송서비스', '4'], ['용달화물자동차로 고객의 요청으로 화물운송서비스', '4'], ['편의점에서 체인계약을체결하여 식료품,담배', '0'], ['미용실에서 일반고객에게 두발 미용업', '3'], ['교회 신도대상으로 종교서비스', '3'], ['음료점업에서 배달을위주로 커피,생강차', '1'], ['부동산 중개소에서 계약에 의거 부동산중개 부동산 거래 중개 서비스', '6'], ['환봉 선삭가공하여 농기계부품(핀)제조', '2'], ['아파트관리사무소 아파트 입주자를 위하여 주거용 아파트 관리 서비스', '6'], ['음식점에서 접객시설을 갖추고 돼지국밥', '1'], ['교회에서 기독교계통종교활동 종교서비스', '3'], ['사무실에서 고객의 요청에 의해 프렌차이즈 가맹, 관리', '10'], ['음식점에서 접객시설을 갖추고 육고기 판매함', '1'], ['폐플라스틱 입고, 분쇄 ', '2'], ['가게에서 일반소비자에게 주니어복 판매', '0'], ['개별화물  ', '4'], ['주점에서 접객시설 갖추고 맥주 전문점', '1'], ['가게에서 일반인에게 문구.완구판매', '0'], ['매장에서 접객시설을 갖추고 김밥 판매', '1'], ['한식음식판매  ', '1'], ['단란주점에서 접객요원을 두고 맥주,양주 판매', '1'], ['학생들에게 사업장에서 중.고등하교 수업', '5'], ['헬스클럽에서 체력단련시설을 갖추고 체력단련서비스', '9'], ['음식점에서 접객시설갖추고 중식훠궈', '1'], ['사업장에서 일반인을대상으로 경락맛사지', '3'], ['사업장에서 산업사용자에게 합성섬유, 폴리에스테르 원단', '0'], ['음식점에서 접객시설을 갖추고 민물장어,매운탕', '1'], ['빵집 직접 만들어 빵판매', '1'], ['커피점에서 접객시설을갖추고 커피', '1'], [' 수출 포장을 위해 나무로된 파레트 제조 ', '2'], ['세탁소에서 일반고객에게 세탁서비스제공', '3'], ['음식점에서 접객시설을 갖추고 대게', '1'], ['꽃집에서 일반소비자대상 화초및 생화 판매', '0'], ['음식점에서 접객시설을갖추고 한식', '1'], ['커피숍에서 접객시설 갖추고 커피판매', '1'], ['매장에서 고객의 요청에 의해 보일러설치 및 수리', '8'], ['개인택시로 일반인을 대상으로 승객운송서비스', '4'], ['음식점에서 접객시설을 갖추고 한식', '1'], ['센타에서 노인을 대상으로 주간보호서비스', '7'], ['마스터,공판인쇄 종이 라벨', '2'], ['매장에서 다른소매업자에게 문구용품 도매', '0'], ['사업장에서 일반인을 대상으로 음식료품', '0'], ['교회 기독교종교활동 종교서비스', '3'], ['비고철을 수집하여 비고철판매', '0'], ['일반화물자동차로 고객의 요청으로 화물운송서비스', '4'], ['예식장에서 고객을 상대로 웨딩홀', '3'], ['네일샵에서 일반고객대상 손톱.발톱손질', '3'], ['펜션에서 숙박시설을 갖추고 숙박서비스 제공', '1'], ['음식점에서 접객시설을 갖추고 칼국수, 명태조림', '1'], ['일반인과 장애아들에게 체육관, 수영장 수영과기타재활치료', '9'], ['매장에서 기타산업사용자에게 치과교정기 도매', '0'], ['어린이집에서 부모로부터위탁받아 유아보육서비스', '7'], ['매장에서 일반소비자에게소매 즉석김', '0'], ['고물상에서 수집하여 고철,폐지등', '0'], ['일반화물자동차로 고객의 요청으로 화물운송서비스', '4'], ['떡집에서 고객의주문에의해 떡케익제공', '2'], ['부동산에서 계약에의거 부동산중개', '6'], ['학원에서 학생을대상으로 논술교육', '5'], ['편의점에서 체인계약체결후 음식료품소매', '0'], ['냉동오징어, 고등어 입고, 헤동 ', '2'], ['알루미늄 조립 가공 알루미늄주물', '2'], ['사업장에서 고객의의뢰하에 지역화폐가맹점', '11'], ['접객시설을 갖추고 순대전골 전문점  ', '1'], ['관리소에서 입주자 대상으로 건물시설및 위생관리', '6'], ['영업장에서 소매업자에게 육류도매', '0'], ['영업장에서 가죽을소재로 가방.지갑', '2'], ['부동산 중개소 계약및 중개등을 통해 부동산 거래 서비스', '6'], ['사업장에서 의뢰받아 건설인테리어', '8'], ['AL,SUS 절삭.밀링가공,사상 조립장비부품(플레이트)', '2'], ['노래방에서 시설을 갖추고 노래방운영', '9'], ['일반의원에서 오래환자를 위주로 외과 진료 서비스', '7'], ['영업점에서 사용자의요청으로 선박수리', '2'], ['개인택시로 일반인을 대상으로 승객운송서비스', '4'], ['커피숍에서 접객시설을 갖추고 커피', '1'], ['개인택시로 일반인을 대상으로 승객운송서비스', '4'], ['숙박시설을 운영  ', '1'], ['음식점에서 접객시설을갖추고 닭도리탕판매', '1'], ['음식점에서 접객시설을 갖추고 김치찌개', '1'], ['고객을 상대로 음식을 조리하여 식사제공', '1'], ['스틸 입고, 성형 ', '2'], ['배달점문점에서 접객시설없이 오리요리배달', '1'], ['개인택시로 일반인을 대상으로 승객운송서비스', '4'], ['개인택시로 일반인을 대상으로 승객운송서비스', '4'], ['연마봉 절단후 기계로 깎아 선반가공 절삭가공(반제품)', '2'], ['영업장에서 고객대상으로 컷트,파마,염색등', '3'], ['토목,건축관련감리를 사업장에서 안전진단및건물,토목엔지니어링서비스업', '10'], ['출장방문 소비자를 대상으로 세탁기.에어컨', '11'], ['프로그램을 개발시험하여 소프트프로그램개발', '12'], ['잡화  ', '0'], ['보습학원  ', '5'], ['카페에서 접객시설을 갖추고 커피,차', '1'], ['세탁소에서 일반고객을 상대로 세탁. 다림질', '3'], ['건강원 한약재등의 재료를 농축하여 일회용 엑기스판매', '2'], ['커피숍에서 접객시설갖추고 커피,음료', '1'], ['당구장 서비스 당구', '9'], ['하나로마트(165㎡-3000㎡) 일반소비자에게 음식료품위주 소매', '0'], ['매장에서 일반인을 대상으로 남녀캐주얼판매', '0'], ['사업장에서 일반인 대상으로 묘목,조경판매,공사,직원관리', '8'], ['영업장에서 산업사용자에게 식자재 도매', '0'], ['가게에서 일반인을 대상으로 치킨판매', '1'], ['사업장에서 일반인에게 소매 기타자재(일반철물)', '0'], ['개인택시로 일반인을 대상으로 승객운송서비스', '4'], ['사업장에서 접객시설을 갖추고 한식', '1'], ['매장에서 일반고객을 대상으로 여성용 정장 소매', '0'], ['개별화물자동차로 고객의 요청으로 화물운송서비스', '4'], ['빈대떡가게에서 접객요원및무도시설없이 소주,맥주', '1'], ['개별화물자동차로 고객의 요청으로 화물운송서비스', '4'], ['전자부품,인쇄회로기판 수삽조립 인쇄회로기판 실장 전원공급장치', '2'], [' 결혼 상담 및 준비 서비스업(웨딩플레너) ', '3'], ['매장에서 일반소비자를대상으로소매 와인,양주판매', '0'], ['사업장에서 고객요청에의해 건물청소', '11'], ['유치원에서 관할지역 교육청에서 인가를 받아 취학전 아동교육', '5'], ['도매 건축자재매장 타일,도기', '0'], ['필름부자재 주문받아서 원단에세사리부착', '2'], ['용달화물자동차로 고객의 요청으로 화물운송서비스', '4'], ['정제수, PEG-6카프릴릭 원재료입고, 혼합 ', '2'], ['슈퍼마켓(100㎡시설을갖추고 일반소비자에게 소매 음,식료품 위주', '0'], ['치킨전문점에서 음식을 조리하여 치킨', '1'], ['음식점에서 접객시설을 갖추고 백반', '1'], ['산채(산나물)를 일반소비자에게 소매 약초, 버섯 산나물 판매', '0'], ['음식점에서 접객시설을 갖추고 순대국,순대 판매', '1'], [' 피부미용 ', '3'], ['노래방에서 시설을갖추고 노래방운영', '9'], ['학교방송기기 미디어정보 음향.영상기기판매', '0'], ['매장에서 소비자 등산장비.의류', '0'], ['사무실에서 영어교육 서비스 수업 강의', '5'], ['학원에서 학생을 대상으로 수학보습', '5'], ['종교단체 기독교 계통의 기독교단체', '3'], ['용달화물자동차로 고객의 요청으로 화물운송서비스', '4'], ['매장에서 일반소비자에게 젓갈소매', '0'], ['부동산에서 계약 및 중개를 통해 수수로받음 부동산중개서비스', '6'], ['미용재료  ', '0'], ['학원에서 유치원.초등학생을 대상으로 로봇교구수업', '5'], ['학원에서 학원생 대상으로 음악교육', '5'], ['금속제를 절단접합하여제조 샤시문', '2'], ['매장 일반인대상 의료기기판매', '0'], ['이용원에서 고객을 대상으로 이발. 면도', '3'], ['영업장소에서 24시무인으로 성인용품자동판매기', '0'], ['어린이 급식관리지원센터에서 어린이집, 유치원을 대상으로 급식운영관리,교육,지원,점검,감독', '14'], ['가게에서 고객을 대상으로 구제의류 판매', '0'], ['영업장 고객 수산물', '0'], ['부동산을 가지고 중개에 의해 부동산 자문 및 중개업', '6'], ['공장에서 도무송 각종인쇄물', '2'], ['사업장에서 소매업자에게 컴퓨터및주변기기도매', '0'], ['커피숍에서 접객시설을 갖추고 원두커피제공', '1'], ['미용실 일반인대상 파마', '3'], ['노래방에서 시설을 갖추고 노래방운영', '9'], ['매장에서 도매 화섬직', '0'], ['학원에서 학원생들을대상으로 수학교육', '5'], ['고무 재단, 성형 ', '2'], ['사업장에서 떡판매(이바지떡) ', '2'], ['마사지샵에서 일반고객을 상대로 마사지', '3'], ['사업장에서 고객의 요청에 따라 건강보조액 제조', '2'], ['사업장에서 도소매 의약품', '0'], ['한식  ', '1'], ['일반소비자에게 백화점에서 주방용품소매', '0'], ['원단 재단 재봉하여 의류 일부분 제조', '2'], ['중국음식점에서 접객시설을갖추고 자장면.짬뽕등을판매', '1'], ['사무실에서 임대사업을영위 상업용임대사업장을', '6'], ['의원에서 외래환자 소아청소년진료', '7'], ['철물,파이프 소매 철물,파이프', '0'], ['개별화물자동차로 고객의 요청으로 화물운송서비스', '4'], ['사업장에서 시스템소프트웨어 개발.공급', '12'], ['학원에서 학원생을대상으로 피아노교육', '5'], ['소매업 일반인을 대상으로 담배,복권 등 잡화', '0'], ['교회 종교활동서비스 기독교', '3'], ['음식점에서 접객시설을갖추고 숯불구이제공', '1'], ['피아노학원에서 학생들을 대상으로 음악강습', '5'], ['미용실에서 일반인들에게 파마.컷트.서비스', '3'], ['사업장 산업사용자대상 영상장비납품', '0'], ['음식점에서 접객시설을 갖추고 짜장면,짬뽕', '1'], ['사업장에서 산업사용자에게 농업용 기계 및 장비 도매업', '0'], ['사업장에서 고객의뢰로 대부업', '13'], ['과일가게 일반소비자에게 판매 각종과일,야채', '0'], ['개인택시로 일반인을 대상으로 승객운송서비스', '4'], ['협회에서 일반인,단체대상 원예치료,치료사양성', '3'], ['도로공사에서 통행차량을 대상으로 통행요금징수', '4'], ['영업장에서 주문을 받아 소파천갈이', '2'], ['사무실에서 의뢰를 받아 건축설계', '10'], ['건물내 고객요청에따라 보일러배관냉, 난방공사', '8'], ['사업장  가죽제품판매', '0'], ['교회에서 기독교계등 종교활동 종교서비스', '3'], ['사업장에서 일반소비자에게 생활잡화.음식료판매', '0'], ['음식점에서 접객시설을 갖추고 해장국', '1'], ['사무실에서 지역의불우이웃에게 긴급지원연결', '3'], ['음식점에서 접객시설을 갖추고 삼겹살구이', '1'], ['철 절단,가공 철구조물', '2'], ['사무실에서 고객에게의뢰를받아 건축설계서비스', '10'], ['미장원에서 두발미용서비스제공 머리자르기 염색등', '3'], ['사업장에서 접객시설을갖추고 커피', '1'], ['영업자에서 일반인을대상으로 세탁업', '3'], ['학원에서 학생들을 대상으로 피아노교습', '5'], ['슈퍼에서 일반소비자를 대상으로 주류,음료판매', '0'], ['SHAFT, OUTERRING 반제품입고, 연마 워터펌프베어링', '2'], ['음식점에서 접객시설을갖추고 감자탕', '1'], ['연구소에서 연구개발 신약개발연구', '10'], ['탁구장 일반대상 탁구', '9'], ['사업장에서 일반고객 대상으로 음식료품 판매', '0'], ['화장품 원료를 수입하여 시제품 샘플로 마케팅하여 글리세린원터로즈,홍화씨오일', '0'], ['지역농협에서 일반대중을 대상으로 자금여수신 자금여수신 송금', '13'], ['음식점에서 접객시설을갖추고 오리백숫,오리탕', '1'], ['일반소비자에게 문구점에서 문구.완구소매', '0'], ['치과에서 외래환자위주로 치과치료', '7'], ['음식점에서 접객시설을갖추고 한식', '1'], ['가게에서(165㎡ 미만) 일반소비자에게 소매 과자 음료등 판매', '0'], ['세탁물수집 세탁소에서 이불,점퍼', '3'], ['사업장에서 고객의 요청에 의해 부동산 중개서비스', '6'], ['식당에서 접객시설을갖추고 삼겹살', '1'], ['불교 불교계통종교활동 종교서비스', '3'], ['카페 접객시설을 갖추고 커피등 판매', '1'], ['면/천연섬유, P.P/합성섬유 원료선별분쇄, 조성 ', '2'], ['쇠을가지고 절삭선반,밀링 플라스틱사출기금형제조', '2'], ['가물치.붕어 압축. 가열하여 제조 엑기스', '2'], ['까페에서 접객시설갖추고 커피등', '1'], ['가게에서 소비자에게 채소류소매', '0'], ['사업장에서 일반소비자에게 소매 일반철물', '0'], [' 성·인권교육에 관한  강사 양성교육 ', '5'], ['무역상사에서 수요자에게 산업용종합포장자재무역(플라스틱물질)', '0'], ['광고 문안 작성, 설계 영업장에서 광고물제공(홍보차량)', '10'], ['미장원에서 두발미용서비스 파마.컷트,염색', '3'], ['고객의 시설에서 고객을 방문하여 학습지를 교육서비스', '5'], ['매장에서 일반소비자대상 여성캐주얼의류소매', '0'], ['사업장에서 일반소비자에게 소매 귀금속, 시계', '0'], ['사업장에서 고객 요구에따라 기계설비, 에어컨설치수리', '3'], ['카센터에서 경정비,타이어수리 고객대상으로', '3'], ['마트에서 일반소비자에게 음식료품 위주 판매', '0'], ['사업장 소비자대상 건어물판매', '0'], ['개인택시로 일반인을 대상으로 승객운송서비스', '4'], ['  학교구내식당', '1'], ['매장에서 접객시설을 갖추고 추어탕', '1'], ['개인택시로 일반인을 대상으로 승객운송서비스', '4'], ['예술단체 예술인들의 이익향상을 위한 단체 회원관리 이익향상 도모', '3'], ['고객대상 법률서비스 외국법자문', '10'], ['매장 일반인대상 음식료품소매', '0'], [' 수수료 계약에 의한 부동산 중개 ', '6'], ['플라스틱 제작.조립 경광등.조명등', '2'], ['사업장에서 일반인들대상으로 필라테스강습', '5'], ['가게에서(165㎡미만) 일반인대상 식음료품판매', '0'], ['사업장에서 도비공구 장비제작', '2'], ['사진관에서 일반대중인을대상으로 인물사진촬영', '10'], ['플라스틱.전자부품 기타전기기기 환풍기', '2'], ['주점에서 접객시설을 갖추고 안주,술제공', '1'], [' 오락용게임장운영 ', '9'], ['일반인을 대상으로 한약재판매 한약방에서 한약,소화재,보약', '0'], ['연습실에서 학생대상으로 연습실대여서비스', '9'], ['개별화물자동차로 고객의 요청으로 화물운송서비스', '4'], ['판금 제조업 판금', '2'], ['용달화물자동차로 고객의 요청으로 화물운송서비스', '4'], ['사업장에서 입장객을대상으로 실내놀이터제공', '9'], ['영업장에서 소매업체 대상으로 육류 도매', '0'], ['주점에서 접객시설을 갖추고 술판매', '1'], ['사업장에서 감을이용하여 감말랭이,건시', '2'], ['커피숍에서 접객시설을갖추고 커피제공', '1'], ['바퀴,플라스틱바구니 조립 미장원트레이', '2'], ['음식점에서 접객시설을 갖추고 추어탕', '1'], ['조세,세무관련업무 의뢰를 받아서 기장대리,세무조정,세무관련업무수행', '10'], ['일반소비자대상으로 영업장에서 건강보조식품방문 소매', '0'], ['건설현장에서 장비를 갖추고 철근콘크리트공사', '8'], ['족발  ', '1'], ['사무실에서 타계정으로 종합상품 무역 중개', '0'], ['교회에서 기독교 종교활동 종교활동', '3'], ['차량을 고객의요구에 콘크리트블럭운송', '4'], ['금은방에서 일반인대상으로 금은제품소매', '0'], [' 병원에 관련된 의약품 주사제 처방약을 도매하고 있음 ', '0'], ['사업장에서 서비스 건축사', '10'], ['안전점검 선주의뢰에의해 선박안전도검사', '10'], ['용달화물자동차로 고객의 요청으로 화물운송서비스', '4'], ['노동조합에서 근로조건의 유지 개선을 위해 조합원관리', '3'], ['매장에서 일반소비자에게 생활용품 잡화판매', '0'], ['주점 접객요원없이 맥주,양주', '1'], ['자동제어컨트롤시스템  ', '2'], ['노래연습시설을갖추고 노래방에서 노래방운영', '9'], ['음식점에서 접객시설을 중국식 음식제공', '1'], ['영업장에서 운수회사 대상으로 엔진오일,디젤오일 도매', '0'], ['식당에서 접객시설을갖추고 국수,냉면', '1'], ['미술관에서 일반인을대상으로 미술관람', '9'], ['개인택시로 일반인을 대상으로 승객운송서비스', '4'], ['매장에서 고객의 주문에 따라 파스타.리조또 배달', '1'], ['사업장에서 일반인대상으로 의류판매', '0'], ['사업장에서 운영체제등의시스템소프트웨어 개발.공급', '12'], ['미장원 두발미용서비스제공 머리자르기', '3'], ['기능성코팅용액제 혼합하여 기초화합물 제조', '2'], ['편의점  ', '0'], ['미용실 일반고객대상 미용서비스', '3'], ['현장에서 고객요청 전기공사', '8'], ['사업장에서 고객의요청에의해 금은세공', '2'], ['공부방에서 학생들에게 영어공부', '5'], ['음식점에서 접객시설을 갖추고 김치찌개', '1'], ['사업장에서 일반고객을 상대로 세탁서비스', '3'], ['유흥주점에서 접객요원을 두고 양주,맥주', '1'], ['철판, Label Press, 1차조립 ', '2'], ['경매,중개활동을통해 동물을 애견경매', '0'], ['사무실 사무실 이용자를 위한 건물관리', '4'], ['금속 입고, 금수 실린더, 갤리퍼', '2'], ['매장에서 고객대상으로 여성복판매', '0'], ['재봉틀을 가지고 일반인에게 옷수선 서비스', '3'], ['소프트웨어 시스템소프트웨어 개발 및 공급 시스템관리 소프트웨어 개발', '12'], ['가게에서 주택상가대상으로 도배 장판', '0'], ['열쇠 열쇠 소매 열쇠', '0'], ['미용실 서비스 ', '3'], ['사업장에서 고객의 의뢰를 받아 우유배달', '0'], ['사무실에서 고객의의뢰에따라 고용알선업', '11'], ['사업장 소비자의 주문을 받아 전기테스트,계측기', '2'], ['매장에서 사업자대상 사무용기기,복사기', '0'], ['개인택시로 일반인을 대상으로 승객운송서비스', '4'], ['소프트웨어 소프트웨어 개발 주문형 소프트웨어 개발 공급(솔루션)', '12'], ['교회 기독교계통종교활동 종교서비스', '3'], ['사무실을 임대를 통해 사무실임대', '6'], ['사업장에서 무역도매 화공약품', '0'], ['영업소 다른소매업자에게 아이스크림', '0'], ['업체에서 자동화기계설비(생산설비) 유통.도매', '0'], ['일반소비자 매장에서 의류판매', '0'], ['영업장에서 소비자에게 소매 귀금속,목걸이', '0'], [' 정신과의원 ', '7'], ['사찰에서 종교활동 종교서비스', '3'], ['휴양림에서 일반인들에게 휴양림 운영', '9'], ['탕제원에서 액화엑기스 배즙,포도즙', '2'], ['사업장에서 주민을대상으로 복지서비스', '7'], ['건설업 도장공사 아파트 현설 및 영업 도장공사', '8'], ['사무실 일반인대상 범죄예방', '3'], ['거설현장에서 도급건설업자가 각종 공사를 받아굴착 땅고르기 기초토공사(굴정공사)', '8'], ['사업장에서 수출 원단 도매', '0'], ['온라인 사업장에서 게임,소프트웨어개발,공급', '12'], ['고객의 사업장에서 고객의 요구에 따라 모듈러주택', '8'], ['주점에서 접객요원및무도시설없이 맥주,소주,삼겹살', '1'], ['듀비, 전선 제품투입, 가공 ', '2'], ['개인택시로 일반인을 대상으로 승객운송서비스', '4'], ['매장에서 일반소비자대상 컴퓨터,프린터기 판매,관리', '0'], ['학원에서 중,고생대상으로 수학', '5'], ['사업장에서 고객을 대상으로 조명광고판수리서비스', '2'], ['운전학원에서 일반인대상으로 운전연습서비스', '9'], ['제조 사업장에서 원단으로브라인드제작', '2'], ['고객을 대상으로 자동차중고부품을 차량중고부품', '0'], ['접객시설을 갖추고 커피숍에서 커피판매', '1'], ['피부관리실에서 고객의 요청으로 피부관리', '3'], ['라이브카페  ', '1'], ['사업장에서 일반대상 피부미용,관리', '3'], ['각종건어물을 일반소비자에게 마른멸치,오징어 소매', '0'], ['일반인과업소를대상으로 매장에서 중고씽크대', '0'], [' 컴퓨터 및 주변장치, 소프트웨어 도매업(카드단말기도매) ', '0'], ['매장에서 일반소비자에게 신발소매', '0'], ['고객의 요청에 따라 사업장에서 신발A/S', '3'], ['화물차를 가지고 수송서비스 항공육상화물', '4'], ['음식점에서 접객시설을갖추고 술 전', '1'], ['인터넷으로 일반인대상 팔토시판매', '0'], ['사업장에서 일반소비자에게 애견.애견용품 소매', '0'], ['매장에서 일반인을 대상으로 화장품소매', '0'], ['모텔에서 개별룸서비스없이일반인대상 숙박서비스제공', '1'], ['음식점에서 접객시설을 갖추고 백반판매', '1'], ['부동산에서 고객의 의뢰를받아 토지개발분양', '6'], ['연어, 날치알 수입냉동구입, 반해동 ', '2'], ['철 절삭가공 금속약품탱크 부속품(체인기어)', '2'], ['배터리  ', '0'], ['식당에서 접객시설을갖추고 국수제공', '1'], ['가게에서 일반고객을 대상으로 세탁서비스', '3'], ['사업장에서 기계장치 비철금속,폐전선', '0'], ['화물운송  ', '4'], ['부동산중개소에서 계약에의거 부동산중게서비스', '6'], ['문구사 일반소비자에게소매 노트및 문구류', '0'], ['요양원 요양시설을갖추고 노인요양', '7'], ['영업장에서 고객을 대상 속눈썹연장', '3'], ['온라인 통신망을 통하여 일반대중 대상으로 전자상거래 소매(수입가구)', '0'], ['영업장에서 접객시설을 갖추고 한식 일반음식 제공', '1'], ['용달화물자동차로 고객의 요청으로 화물운송서비스', '4'], ['매장에서 일반소비자에게 사과.곶감.고로쇠판매', '0'], ['음식점에서 접객시설을 갖추고 부대찌개판매', '1'], ['음식점업 접객시설을 갖추고 회,매운탕', '1'], ['  의복 악세사리 및 모조 장신구 도매', '0'], ['PET, 염료 자동차시트입고(원단), 염색가공 ', '2'], ['치과 의원에서 일반환자에게 치아치료 및 약처방', '7'], ['매장에서 일반소비자를 대상으로 네일', '3'], ['음식점에서 접객시설갖추고 한우구이 제공', '1'], ['세탁소 일반인대상 세탁물수집 세탁', '3'], ['특수방수기술자 고객의 주문으로 방수공사', '8'], ['매장에서 일반소비자를대상으로 육류소매', '0'], ['우체국 일반대중에게 우편 및 체신업무 서비스 우편물', '12'], ['새마을금고에서 일반대중및기업대상 대출및 이자지급', '13'], ['부동산사무실에서 계약에의거 부동산중개서비스', '6'], ['음식점에서 접객시설을 갖추고 초밥.참치판매', '1'], ['축산물 유통 판매  ', '0'], ['주차장에서 일반차량을 대상으로 주차장운영', '4'], ['사업장에서 고객의 요구에 의해 디엠발송', '11'], ['사업장에서 전자상거래로 과자,음료판매', '0'], ['이용소에서 두발이용서비스 컷트 면도', '3'], ['개인택시로 일반인을 대상으로 승객운송서비스', '4'], ['건설공사를 일괄도급하여 비주거용건물 개발및 공급', '6'], ['관리사무실 입주민대상 관리 건물관리등', '6'], ['원단,염료 염색 염색원단', '2'], ['나의사업장에서 고객을대상으로 냉동기수리', '2'], ['건물내에서 입주자들을 위해 사업시설 유지관리', '11'], ['현장에서 고객 요구에 따라 토목시설및상하수도관 공사', '8'], ['개인택시로 일반인을 대상으로 승객운송서비스', '4'], ['금속 용접, 조립,도장 산업용펌프', '2'], ['정관장판매점에서 일반소비자에게 홍삼판매', '0'], ['고객이 지정한 곳에서 고객의 요청에 따라 사진,영상제공', '10'], ['일반인을 대상으로 시설을 갖추고 휴양림 제공', '9'], ['관리사무소 입주자를위하여 건물관리서비스', '6'], ['네일샵에서 일반인을 대상으로 손톱미용서비스', '3'], ['고객을 대상으로 이발소 이발, 면도', '3'], ['개인의원(치과의원)에서 외래환자 위주로 치과 진료 서비스 제공', '7'], ['소방시설 사업체건물 점검,관리', '10'], ['음식점에서 접객시설을 갖추고 양꼬치요리', '1'], ['정육점 소매 정육 판매', '0'], ['선박관리사에서 선사를 대리하여 선박관리서비스', '4'], ['음식점에서 접객시설 갖추고 치킨', '1'], ['매장에서 일반인대상 화장품 소매', '0'], ['가요주점에서 접객요원없이 양주,맥주', '1'], ['음식점 접객시설을 갖추고 한우고기', '1'], ['도매 및 소매업 의약품 및 의료용품 소매업 의약품, 의료용품', '0'], ['커피전문점에서 접객시설을갖추고 커피제공', '1'], ['건설업 고객의 요청으로 도장 방수 페인트공사', '8'], ['공인중개사에서 계약 및 중개수수료를 받고 부동산중개 거래서비스', '6'], ['사업장에서 일반고객에게 수산물소매', '0'], ['사업장에서 취사시설없이 독서실', '9'], ['사업장에서 고객을 대상으로 부동산중개', '6'], ['곱창집에서 접객시설을갖추고 술,안주제공', '1'], ['미용실에서 고객을 대상으로 커트, 파마, 염색등', '3'], ['휘트니스 센터에서 일반인대상 실내골프연습장', '9'], ['점포에서 속옷을 주로 판매 일반소비자에게 내의 등 제공', '0'], ['매장에서(165m2미만) 도소매 각종  상품', '0'], ['매장에서 일반인대상 골프웨어판매', '0'], ['매장에서 소매 아동복', '0'], ['교회에서 기독교계통 종교서비스', '3'], ['매장에서 일반소비자들을대상으로 핸드폰보호케이스소매', '0'], ['음식점에서 접객시설을갖추고 불고기.쌈밥등을판매', '1'], ['고객을대상으로 매장에서 귀금속판매', '0'], ['제빵.제과를 가지고 매장에서 일반인에게 판매', '1'], ['영업장에서 일반고객 대상 택배 서비스', '4'], ['사업장에서 금속을절삭가공하여 기계부품임가공', '2'], ['접객시설을갖춘매장에서 일반인상대한식제공  ', '1'], ['금속 방화문 방화문,금속장치 프레스가공', '2'], ['개별화물자동차로 고객의 요청으로 화물운송서비스', '4'], ['외국인 관광 도시 민박업  ', '1'], ['명태 해동, 세척 ', '2'], ['샵에서 고객에게 바디체험실(체형관리)', '3'], ['기타 자동차신품 부품 및 내장품 판매업,자동차 중고?  ', '0'], ['매장에서 일반소비자에게 네일', '3'], ['사무실에서 전자상거래 ', '0'], ['매장에서 일반고객에게 휴대폰', '0'], ['학교 초등교육서비스 초등학교', '5'], ['쌀을 가공하여 일반소비자에게 소매 꿀떡,인절미등', '2'], ['전선 조립 전기판넬', '2'], ['자전거가게에서 일반소비자에게 자전거소매', '0'], ['플라스틱 성형 플라스틱용기', '2'], ['순대국집  ', '1'], ['매장에서 일반소비자에게 소매 가구', '0'], ['미장원 두발미용 파마', '3'], ['산업사용자에게 매장에서 타일도기 도매', '0'], ['미장원에서 고객을 대상으로 커트.파마.염색', '3'], ['개인택시로 일반인을 대상으로 승객운송서비스', '4'], ['수선집에서 고객의 요청 옷수선', '3'], ['준보석 일반인대상 금은보석', '0'], ['방앗간에서 참깨,들깨이용하여 참기름,들기름제조', '2'], ['사무실에서 기업체의뢰받아 소프트웨어개발연구', '12'], ['예선업 대형선박을밀거나 끌어줌 수상운송지원', '4'], ['학원에서 학생대상 논술교육', '5'], ['사업장에서 고객의 요청에따라 공작기계 도매', '0'], ['음식점 접객시설을 갖추고 백반,닭도리탕판매', '1'], ['성인을 대상으로 시설을 갖추고 컴퓨터방 서비스', '9'], ['육지동물과한약재를 가열,압착하여 액기스제조', '2'], ['사업장에서 고객대상 의류소매', '0'], ['주점에서 접객요원을두고 맥주,  양주', '1'], ['매장에서 접객시설갖추고 커피.차 제공', '1'], ['학원에서 학생들을 대상으로 수학,과학교육서비스', '5'], ['안경점에서 일반인을대상으로 안경,콘텍트렌즈판매', '0'], ['나무 제작,절단하여 씽크대제조', '2'], ['음식점에서 접객시설을 갖추고 두부전골,된장찌개 판매', '1'], ['의원에서 외래환자위주로 진료', '7'], ['세탁소에서 일반고객대상 와이셔츠,양복다림질', '3'], ['암자에서 불교계통 종교활동을 위해 종교서비스', '3'], ['카센타 고객을대상으로 자동차특정부분정비', '3'], ['신용정보 사업장 신용조사및 추심', '11'], ['학원에서 학생, 일반인을 대상으로 영어교육', '5'], ['MDF, 목재 절단, 엣지가공 주문형목재가구', '2'], [' 흙돼지구이 / 삼겹살구이/ 가브리살 / 항정살 구이(육류구이전문점) ', '1'], ['사업장에서 소비자대상으로 오토바이수리,정비', '3'], ['고객을 대상으로 영업장에서 의류 세탁', '3'], ['사무실에서 기업대상 태양광전기기계장비,부속품', '0'], ['사업장에서 고객요청으로 LED조명설치', '8'], ['음식점에서 접객시설을 갖추고 술,안주판매', '1'], ['지정외 폐기물을 차량을 이용하여 지정외일반 폐기물 청소,수집,매립 처리', '15'], ['매장에서 소매 여성겉옷', '0'], ['커피점에서 고객에게 커피', '1'], ['음식점에서 접객시설을 갖추고 김치찌개', '1'], ['매장에서 접객시설을 갖추고 샌드위치 제공', '1'], ['미장원에서 두발미용 서비스 머리자르기', '3'], ['편의점 일반소비자에게 식음료판매', '0'], [' 접객시설을 갖추고 아메리카노,라떼판매 ', '1'], ['도토리 열처리 도토리묵제조', '2'], ['한식 음식 제공  ', '1'], ['미용실에서 고객을 대상으로 파마,커트', '3'], ['학회에서  고관절연구개발', '3'], ['호프집에서 무도시설 없이 소주, 맥주', '1'], ['사업장에서 사업체를 대상으로 문구,교구 도매', '0'], ['씨링용지 각종 제판술에 의한 인쇄 라벨', '2'], ['미용실에서 일반고객을 대상으로 컷,퍼머,염색', '3'], ['노래방에서 노래시설을 갖추고 노래연습장', '9'], ['한들교회에서 기독교계통 종교활동 종교서비스', '3'], ['매장에서 일반소비자에게 화장품 소매', '0'], ['용달화물자동차로 고객의 요청으로 화물운송서비스', '4'], ['영업장에서 일반인대상 퀵보드대여서비스', '11'], ['폴리카네이트 아연과용접 채광판,공장지붕', '8'], ['철판,아크릴. CNC머싱가공 LED,아크릴간판제조', '2'], ['사무실에서 의뢰인대리 특허등록신청', '10'], ['일반인을 대상으로 치킨집에서` 양념 후라이드 치킨 판매', '1'], ['사업장에서 고객의 요청에따라 화물운송', '4'], ['모텔에서 숙박시설을갖추고 숙박서비스제공', '1'], ['소화물 고객에게 퀵서비스', '4'], ['재생할수있는고물을 수집하여 재생 수집판매', '0'], ['기타회원단체에서 이순신장군정신계승 역사기념사업', '3'], ['공장사업주를 대상으로 공엽용지를 개발하여 공업용지 분양,판매', '6'], ['사업장에서 고객을 대상으로 해양구조선박설계', '10'], ['타투매장에서 일반인대상 문신서비스', '3'], ['사무실에서 농업인 지원을 위해 농업관련 행정', '14'], ['용달화물자동차로 고객의 요청으로 화물운송서비스', '4'], ['어린이집에서 보호자로부터 위탁을 받아 영유아 보육서비스', '7'], ['사업장 에서 고객의요청에 따라 인력공급', '11'], ['방문자에게 소매업 안전용품,산업용중간재,철물', '0'], ['고춧가루  ', '0'], ['매장에서 일반인에게 여성옷 판매', '0'], ['한식점에서 접객시설을 갖추고 족발', '1'], ['매장에서 일반소비자에게판매 전선,전구,전압기등', '0'], ['영업장에서 일반인을 대상으로 담배판매', '0'], ['음식점에서 접객시설을 갖추고 LA갈비판매', '1'], ['용달화물자동차로 고객의 요청으로 화물운송서비스', '4'], ['사업장에서 일반소비자에게 축전지,밧데리', '0'], ['음식점에서 접객시설을갖추고 한식제공', '1'], ['부동산 고객대상 부동산중개업', '6'], ['주점에서 일반대중에게 소주', '1'], ['농기계센타에서 각종 농기계 수리 경운기,트렉터등', '2'], ['건물내 고객요청에따라 건물전기배선공사', '8'], ['사업장에서 두발 미용서비스 커트, 염색', '3'], ['유치원에서 위탁을 받아 유아교육', '5'], ['영업장에서 개인고객대상 철학상담', '3'], ['일반인을 대상으로 객실을 갖추고 숙박제공서비스  ', '1'], ['교회에서 일반인을대상으로 종교활동', '3'], ['음식점 접객시설을갖추고 한식음식', '1'], ['주유소에서 주유시설을 갖추고 차량용액체연료', '0'], ['철 선반가공 자동차엔진부품', '2'], ['사업장에서 고객의 의뢰를받아 폐기물수집．운반업', '15'], ['매장에서 일반인대상으로 신발소매', '0'], ['음식점에서 접객시설을 갖추고 정식', '1'], ['노래방에서 노래시설을 갖추고 노래방제공', '9'], ['미용실에서 두발미용서비스 머리자르기,염색', '3'], ['요리학원에서 회원들을 대상으로 요리강습', '5'], ['화장품 소매  ', '0'], ['계약중개를 통해 수수료를 받음 부동산 중개소에서 부동산거래 중개서비스', '6'], ['음식점에서 접객시설을갖추고 삼겹살구이', '1'], ['영업장에서 일반고객대상으로 피자,파스타 판매', '1'], ['시장에서 과일을 낙찰받아 판매', '0'], ['용달화물자동차로 고객의 요청으로 화물운송서비스', '4'], ['현장에서 고객의 요청을 받아 산업용 정수기계제조', '2'], ['사용자를 대상으로 용지를 개발하여 부동산(임야)개발', '6'], ['사업장에서 산업사용자에게 통신 및 전기기계장비관련 기자재', '0'], ['사업장에서 일반소비자 대상으로 비료 판매', '0'], ['편의점에서 체인계약을 체결하여 식료품, 담배 소매', '0'], ['일반소비자에게 백화점에서 바지,티셔츠판매', '0'], ['사업장에서 전산 장비 유지관리 서비스', '12'], ['개인택시로 일반인을 대상으로 승객운송서비스', '4'], ['사업장에서 주문 받아서 천막제조', '2'], ['음식점에서 접객시설을갖추고 선지국,감자탕', '1'], ['서비스 시설을 갖추고 인터넷PC방', '9'], ['매장 소매상에게 접착테이프', '0'], ['노래방 일반인에게 노래방서비스', '9'], ['개인택시로 일반인을 대상으로 승객운송서비스', '4'], ['사업장에서 애완동물 대상 애견카페', '3'], ['커피점에서 일반인을대상으로 커피판매', '1'], ['음식점에서 접객시설갖추고 감자탕', '1'], ['사업장에서 소매업자를 대상으로 장어도매', '0'], ['구내식당에서 음식을조리하여 백반등의 음식을 제공', '1'], ['사무실에서 의뢰인에게 건축설계,감리', '10'], ['사업장에서 고객의 요청에의거 출장뷔페', '1'], ['음식점에서 접객시설을 갖추고 돼지고기', '1'], ['방문고객에게 고시텔에서 개별룸및 숙박서비스', '1'], ['개인택시로 일반인을 대상으로 승객운송서비스', '4'], ['음식점에서 접객시설을 갖추고 서양음식', '1'], ['음식점에서 접객시설을갖추고 장어구이', '1'], ['매장에서 일반소비자에게 캔들,디퓨져', '0'], ['의류점에서 일반소비자를 대상으로 여성의류 판매', '0'], ['보건행정 사회적으로필요한 사람들에게 질병관리및정신질환강좌,상담', '7'], ['약국에서 고객을대상 의약품판매', '0'], ['개인택시로 일반인을 대상으로 승객운송서비스', '4'], ['학원에서 수강생을 대상 검도교습', '5'], ['사법기관에 제출하는 서류 경매,공매 의뢰인을 대리 등기,경매,공매등 신청대행 및 대리 상담', '10'], ['여자 목욕탕내 입구 일반고객을 대상으로 음료,잡화 판매', '0'], ['합기도 학생,일반인에게 합기도교육', '5'], ['음악학원에서 학생을 대상으로 교육서비스 피아노', '5'], ['요양원에서 거동이 불편한 노인들을 위하여 노인요양복지시설운영', '7'], ['상가에서 고객의 의뢰에따라 의류전자상거래', '0'], ['학원에서 학생들대상 수학교습', '5'], ['개인택시로 일반인을 대상으로 승객운송서비스', '4'], ['매장에서 일반인대상으로 커피음료판매', '1'], ['개인과외교습소 교육서비스업 보습학원', '5'], ['학원에서 초.중.고학생을 학습지도', '5'], ['사업장에서 수집하여 고철,고물', '0'], ['중국식 음식점에서 접객시설을 갖추고 짜장.볶음밥 판매', '1'], ['용달화물자동차로 고객의 요청으로 화물운송서비스', '4'], ['개별화물자동차로 고객의 요청으로 화물운송서비스', '4'], ['매장에서 일반소비자대상으로 여성캐주얼 판매', '0'], ['편의점에서 일반소비자르 대상으로 식료품, 담배', '0'], ['사무실에서 의뢰인에 요청에 의해 행정대리 서비스', '10'], ['학원에서 학생대상으로 수학', '5'], ['센터에서 사회적도움이필요한이에게 비거주복지서비스', '7'], ['사업체에서 제조 전기 자동제어 장치', '2'], ['편의점에서 일반소비자대상 식음료및 생필품판매', '0'], ['음식점에서 접객시설갖추고 양곱창판매', '1'], ['사업장에서 중고차 폐부품 수거선별 재생부품', '0'], ['법무사사무실에서 의뢰인을대리하여수수료를받고 서류신청및대리상담', '10'], ['사업장에서 접객시설을 갖추고 커피,음료판매', '1'], ['개인택시로 일반인을 대상으로 승객운송서비스', '4'], ['용달화물자동차로 고객의 요청으로 화물운송서비스', '4'], ['음식점에서 접객시설을갖추고 피자판매', '1'], ['중식점에서 접객시설을 갖추고 자장면등', '1'], ['매장에서 고객을대상으로 구제옷', '0'], ['펜션에서 일반인을 대상으로 숙박서비스제공', '1'], ['미용실에서 일반인대상 파마.컷', '3'], ['사업장에서 고객에게 피부마사지', '3'], ['매장에서 일반소비자에게 아이스크림 판매', '0'], ['부동산에세 고객을대상으로 부동산자문및중개업', '6'], ['음식점에서 접객시설갖추고 한식백반제공', '1'], ['안경점에서 일반소비자에게 안경 및 렌즈 소매', '0'], ['건어물가게에서 일반인을 대상으로 멸치,오징어소매', '0'], ['철 입고, 제단 ', '2'], ['안경점 일반인소매 안경', '0'], ['현장에서 토목공사 도로건설', '8'], ['시장에서 일반인들에게 정육점', '0'], ['사업장에서 머시닝센터 반도체부품 절삭가공', '2'], ['부동산에서 수수료계약에의해 부동산서비스', '6'], ['도,소매 산업자에게 가공목재', '0'], ['일반소비자에게 정육점에서 육류소매업', '0'], ['사업장에서 일반인을 대상으로 인터넷 정보매개 서비스', '12'], ['쌀 과자 식품제조가공업', '2'], ['주점에서 접객요원을두고 양주.맥주', '1'], ['사업장에서 접객시설없이 마카롱테크아웃', '1'], ['가게에서 일반인에게 각종채소판매', '0'], ['매장에서 일반인을 대상으로 차량용네비게이션 소매', '0'], ['현장에서 고객의 요구에 따라 상하수도 설비공사', '8'], ['꽃가게소매  ', '0'], ['개별화물자동차로 고객의 요청으로 화물운송서비스', '4'], ['개별화물자동차로 고객의 요청으로 화물운송서비스', '4'], ['가게에서 일반소비자를 대상으로 구두수선', '3'], ['매장에서 일반고객대상으로 가구판매', '0'], ['건물 및 주택의 의뢰를 받아 벽지 등 리모델링', '8'], ['건설현장에서 철근및 콘크리트 이용하여 아파트 및 주택건설', '8'], ['구내식당에서 접객시설을 갖추고 백반판매', '1'], ['세탁소에서 일반소비자대상으로 의류 세탁', '3'], ['매장에서 일반인대상으로 상패.트로피 판매', '0'], ['매장에서 소비자에게 휴대전화판매', '0'], ['영업장에서 고객을 대상으로 육류소매', '0'], ['매장에서 일반인을 대상으로 숙녀복 소매', '0'], ['학원에서 일반인을 대상으로 드론교육100', '5'], ['수학학원 학생위주의 수학교습', '5'], [' 옥외시설물 판넬공사및 목공사업 ', '8'], ['금속 제조업 지그자동화기계', '2'], ['음식점 접객시설을 갖추고 해장국 판매', '1'], ['건물을 갖고 임차인에게 건물임대', '6'], ['식장에서 접객시설을 갖추고 만두,만두국 판매', '1'], ['전선 케이스등을 조립하여 LED전등제조', '2'], ['사업장에서 고객의 요청에 의해 토목사업', '8'], ['아파트 관리사무소에서 아파트 입주자를 위하여 주거용 아파트 관리서비스', '6'], ['가게에서 일반소비자에게 건어물소매업', '0'], ['교습소에서 일반학생을 대상으로 독서논술지도', '5'], ['학원에서 학생들에게 영어 회화 교육', '5'], ['음식점에서 접객시설을갖추고 찜닭요리', '1'], ['사업장에서 공예품 모형등 제작', '0'], ['교회에서 기독교 계통 종교활동 종교서비스', '3'], ['뉴스레터 일반대중을 대상으로 부동산 정보', '6'], ['커피숍에서 접객시설을 갖추고 커피', '1'], ['교회 기독교계통 종교활동 종교서비스', '3'], ['개별화물자동차로 고객의 요청으로 화물운송서비스', '4'], ['아파트관리사무소 아파트입주민을위하여 주거용아파트관리', '6'], ['안경원에서 시력이나쁜사람들에게 소매 안경테 , 안경렌즈', '0'], ['영업장에서 일반인 대상 분양대행서비스', '6'], ['온라인통신망을통하여 일반대중을대상으로 의류소매', '0'], ['구내식당에서 음식을 조리하여 기관구내식당업(식사제공)', '1'], ['고물상에서 재생할수있는고물수집 재활용재료수집', '0'], ['매장에서 소매업자에게 전열선,미크롬선', '0'], ['사업장에서 고객의 요구에따라라 전기 소방공사', '8'], ['주민센터에서 지방행정사무실 행정서비스', '14'], ['건물에서 고객 요청에 따라 청소서비스', '11'], ['매장에서 일반인을  대상으로 네비게이션', '0'], ['인쇄된원단에 금박을 입혀 쇼핑백 접지선', '2'], ['식육점에서 일반소비자에게 소매 소고기,돼지고기등', '0'], ['매장에서 일반소비자에게 자동차타이어 판매', '0'], ['당구장에서 일반인대상으로 당구게임', '9'], ['객석을 갖추고 일반인을 대상으러 한국식 회 판매  ', '1'], ['사업장에서 고객요청에 의해 건물시설물 안전점검', '10'], ['매장에서 일반소비자에게 소매 휴대폰', '0'], ['부동산중개소에서 계약에의거 부동산중개 공인중개사', '6'], ['사업장에서 고객의뢰에의해 스포츠메지니먼트광고대행', '10'], ['매장에서 일반인을대상으로소매 여성의류', '0'], ['정수장에서 정수처리시설을 갖추고 생활용수 공급', '15'], ['백화점에서 일반소비자에게 여성정장', '0'], ['매장에서 일반인대상으로 안경', '0'], ['가게에서 접객시설을 갖추고 맥주판매', '1'], ['세차장에서 고객을 대상으로 세차 서비스', '3'], ['사무실에서 의뢰인을 대리하여 수수료를 받고 동기,경매 등 신청대행', '10'], ['커피숍에서 접객시설을 갖추고 커피, 주스 판매', '1'], ['음식점에서 접객시설을 갖추고 수제비', '1'], ['레미콘협동조합 조달청의 의뢰를 받아 관급자재알선', '3'], ['건물내 고객요구에 따라 냉난방기 설비공사', '8'], ['교회 기독교계통 종교활동 종교서비스', '3'], ['음식점에서 접객시설을갖추고 순대', '1'], ['경로당에서 노인을대상으로 경로당', '3'], ['일반의원에서 외래환자를 위주로 일반내과. 가정의학과등', '7'], ['사업장에서 횟집,소매업자에게 전복,광어 도매', '0'], ['개별화물자동차로 고객의 요청으로 화물운송서비스', '4'], ['항공사 일정노선을 정기적으로 운행 승객, 을 운송', '4'], ['음식점에서 접객시설을갖추고 순두부,백반등판매', '1'], ['매장에서 일반소비자에게 농산물도소매', '0'], ['휴게음식  ', '0'], ['화물운송 차량으로 일반화물', '4'], ['음식점에서 접객시설을 갖추고 아구찜등 판매', '1'], ['상가매장에서 소매업자에게도매 원피스', '0'], ['기계제작부품가공  ', '2'], ['학원에서 학생을 대상으로 수학교습', '5'], ['미용실에서 일반고객을 대상으로 컷트,퍼머,염색', '3'], ['일반화물자동차로 고객의 요청으로 화물운송서비스', '4'], ['점포에서 일반소비자에게소매 연탄', '0'], ['사무실에서 무역중개로 소프트웨어 수출', '0'], ['사업체에서 한약재와혼합제조 건강보조식품(흑염소)', '2'], ['음식점에서 접객시설을 갖추고 된장찌게 등을 판매', '1'], ['금속기구 제조 캐비넷,가스메터기 제작', '2'], ['pcb 다이오드 납 조립 가공하여 인쇄회로기판', '2'], ['음식점에서 접객시설을 갖추고 돼지갈비', '1'], ['문구점 일반소비자에게소매 문구,필기,회화도구등', '0'], ['사업장에서 일반소비자 대상으로 음식료품', '0'], ['영업장에서 일반인대상으로 자동차특정부문전문수리', '3'], ['상가에서 소매업자에게도매 남성의류', '0'], ['사업장에서 고객의 의뢰를받아 건축설계', '10'], ['교회 기독교계통 종교서비스 종교활동', '3'], ['AL 알루미뮴전처리, 프린트 ', '2'], ['법당에서 불자들에게 기도,포교활동', '3'], ['용달화물자동차로 고객의 요청으로 화물운송서비스', '4'], [' 사업체를 대상으로 남여 겉옷등 판매 ', '0'], ['매장 고객에게 커피,음료', '1'], ['음식점에서 접객시설을갖추고 불고기,백반', '1'], ['교회 기독교계통 종교활동 종교서비스', '3'], ['영업장에서 영세사업자에게 서민대출및상담', '13'], ['사업장에서 일반고객에게 서양음식', '1'], ['의류  ', '0'], ['영업장에서 일반고객게게 타일,위생고기등 건설자재', '0'], ['미용실에서 고객을 대상으로 파마. 컷트', '3'], ['식당에서 접객시설을 갖추고 찌개, 볶음류', '1'], ['주점에서 접객요원 및 무도시설 없이 소주,안주', '1'], ['음식점 접객시설을 갖추고 참치회', '1'], ['카센타에서 자동차 경정비,A/S 정비 서비스', '3'], ['영업장에서 일반인대상으로 요가강습', '5'], ['사업장에서 일반인대상 마사지', '3'], ['사업장에서 대학창업교육및 창업문화활성화 지원을 위한 교육지원서비스', '5'], ['카센타에서 자동차의특정부분을 전문적으로수리', '3'], ['민박 관광객 대상 숙박 서비스', '1'], ['소매업자에게(수탁매매) 위탁상사에서 종이제품, 화장지, 세제 납품', '0'], ['알루미늄, 각파이프, 금속제,철골 주문, 절단 간판 후레임', '2'], ['제조 임가공 침구류,수예', '2'], ['매장에서 일반소비자 화장품판매', '0'], ['진료소에서 동네주민위주로 예방접종,약제조', '7'], ['카페에서 접객시설을 갖추고 커피제공', '1'], ['할인매장 일반소비자대상 가전제품.가구 판매', '0'], ['개별화물자동차로 고객의 요청으로 화물운송서비스', '4'], ['인터넷 신문발행 인터넷신문', '12'], ['매장에서 농약등 자재를 판매', '0'], ['어린이짐에서 관할구청인가를받아 취학전 영유아보육', '7'], ['매장에서 접객시설을 갖추고 핫도그,커피제공', '1'], ['매장에서 소매 여성의류', '0'], ['호프집에서 고객에게 호프,안주', '1'], ['가게에서 방문고객에게 여성의류 판매', '0'], ['부동산에서 계약및중개를통해 부동산중개', '6'], ['독서실에서 학생 및 일반인에게 독서실운영서비스', '9'], ['사업장에서 수입하여 합성수지도매', '0'], ['음식점에서 접객시설을 갖추고 족발 판매', '1'], ['개별화물자동차로 고객의 요청으로 화물운송서비스', '4'], ['관광객대상으로 사찰에서 문화재지킴이.가이드', '9'], ['카센터 자동차수리 자동차수리', '3'], ['식당에서 접객시설을 갖추고 회판매', '1'], ['법무사무실에서 의뢰인을 대리하여 수수료를 받고 등기 경매 신청 대행', '10'], ['사업장에서 화물운송 고객주선', '4'], ['교회 기독교계통 종교활동', '3'], ['사업장에서 고객요청에의하여 가정용전기기기임대업', '11'], ['사업장에서 프로그램이용 프로그램개발.공급', '12'], ['학원에서 학원생에게 입시지도', '5'], ['매장에서 도매 여성의류', '0'], ['사업장에서 기업대상으로 홈페이지제작', '12'], ['사업장에서 재개발조합원대상 행정업무대행', '10'], ['사업장에서 일반인에게 손발관리', '3'], ['매장에서 일빈인대상 핸드폰소매', '0'], ['음식점에서 접객시설을 갖추고 샤브샤브 제공', '1'], ['휴대폰  ', '0'], ['특수강철 가공 도매업', '0'], ['음식점에서 접객시설을갖추고 아구찜판매', '1'], ['사업장에서 일반인에게분양 강아지', '0'], ['사업장에서 접객시설을 갖추고 튀긴치킨판매', '1'], ['알미늄 단조압형성형 기계부품금현제조', '2'], ['아파트관리사무실에서 입주자를 위하여 주거용아파트 관리서비스', '6'], ['편의점에서 일반소비자에게 음,식료품 위주', '0'], ['어린이집에서 특정고객상대로 어린이보호교육등', '7'], ['사무실에서 고객의뢰에의한 자동차부분품조립', '2'], ['편의점에서 체인계약을 체결하여 음식료품 담배소매', '0'], ['용달화물자동차로 고객의 요청으로 화물운송서비스', '4'], ['사무실에서 중계수수료를 받고 화물알선 및 주선', '4'], ['개인택시로 일반인을 대상으로 승객운송서비스', '4'], ['매장에서 일반고객대상으로 꽃,화초', '0'], ['선별장에서 비파괴당도선별기로 수박,메론 당도 및 중량선별', '16'], ['방앗간에서 고객주문 각종떡제조', '2'], ['영업장에서 고객을대상으로 누릉지 판매', '2'], ['휴대폰,통신판매  ', '0'], ['영업장에서 식자재 도소매', '0'], ['커피전문점 접객시설을갖추고 원두커피', '1'], ['병원에서 입원, 외래진료. 내과,재활의학과,정신과', '7'], ['빌딩자동제어기술서비스  ', '10'], ['화장품판매 소비자를 대상으로 화장품방문판매', '0'], ['학교건물을 고객의 의뢰를 받아 청소및관리', '11'], ['식당에서 접객시설을 갖추고 해물찜,아귀찜 제공', '1'], ['사업장에서 의류셔츠 전자상거레', '0'], ['철물점에서 일반인을대상으로 철물 소매', '0'], ['기타음식  ', '1'], ['유치원에서 교육청의인가를 받아 유아교육', '5'], ['종이.나무틀 배접하여 병풍액자표구 표구', '2'], ['금속비금속물질 절삭,가공 베어링 표면 가공', '2'], ['음식점에서 접객시설 갖추고 치킨', '1'], ['매장에서 일반소비자에게 소매 양주', '0'], ['철 절단용접.접합, 철,쇠 철구조물', '2'], ['매장에서 일반고객에게 여성정장 의류 판매', '0'], ['개인택시로 일반인을 대상으로 승객운송서비스', '4'], ['매장에서 일반인을 대상으로 목걸이 귀걸이 판매', '0'], ['매장 일반소비자에게소매 양곡.잡곡등을판매', '0'], ['법률사무소에서 고객의 의뢰로 변호,법률자문', '10'], ['도서관에서 소외된주민및어린이청소년을대상으로 도서관 운영', '9'], ['개인택시로 일반인을 대상으로 승객운송서비스', '4'], ['골프연습장 일반인을대상으로 골프 연습', '9'], ['일반인을 대상으로 객실을 갖추고 숙박서비스 제공  ', '1'], ['아파트관리사무소 입주자를위하여 관리서비스', '6'], ['화장품을가지고 일반인을대상으로 피부맛사지.관리서비스', '3'], ['도매업자 도매 철물,공구', '0'], ['사업장에서 산모의뢰를받아 산모도우미서비스', '3'], ['고시원에서 일반인들을 대상으로 숙박서비스  ', '1'], ['속옷가게에서 일반소비자대상으로 내의류 소매', '0'], ['사업장에서 접객시설갖추고 일본식주점', '1'], ['음식점에서 고객을 대상으로 한식,감자탕 판매', '1'], ['음식점에서 접객시설을갖추고 메기매운탕,오리불고기판매', '1'], ['사업장에서 전자상거래로 화장품', '0'], ['부동산사무실에서 부동산중개소계약에의해 부동산서비스', '6'], ['병원에서 외레환자를대상으로 외과진료', '7'], ['슈퍼 일반인을 대상으로 음식료품 판매', '0'], ['개인택시로 일반인을 대상으로 승객운송서비스', '4'], ['음식점에서 접객시설을 갖추고 부대찌개', '1'], ['철물점에서 일반소비자에게 철근공구판매', '0'], ['폴리원사를 가지고 환편직기를 이용하여 편직원단', '2'], ['노래방에서 시설 갖추고 노래방운영', '9'], ['용달화물자동차로 고객의 요청으로 화물운송서비스', '4'], ['사업장에서 플라스틱을 압축,성형', '2'], ['회타운에서 수족관을 갖추고 생선회소매', '0'], ['영업장에서 고객들대상 세차서비스', '3'], ['부동산업 사업장에서 부동산중개및 컨설팅', '6'], ['사업장에서 고객요청 옷수선,세탁', '3'], ['음식점 접객시설을갖추고 중식', '1'], ['미장원에서 두발미용서비스 파마, 커트, 염색', '3'], ['동, 황동 절단, 평면밀링 ', '2'], ['음식점 접객시설갖추고 중국요리', '1'], ['영업장에서 접객시설을갖추고 분식전문', '1'], ['도소매 소매업자에게 전기,전자부품', '0'], [' 커피 전문점 ', '1'], ['환자를대상으로 요양병원에서 진료서비스', '7'], ['소매 매장 속옷', '0'], [' 설렁탕 전문점 ', '1'], ['광고사에서 고객의 요청으로 광고물,표지판,현수막 제작', '2'], ['학원에서 학생을 대상으로 수학', '5'], ['절에서 불교계통종교활동 종교서비스', '3'], ['영유아 대상으로 영업장에서 수영 강습', '9'], ['학원에서 학원생을 대상으로 수학교습', '5'], ['사업장에서 고객을 대상으로 특수효과장비 임대', '11'], ['사업장에서 일반인에게 장농 쇼파등 소매', '0'], ['사업장에서 일반 소비자에게 소매 수지침. 뜸. 침재료 판매', '0'], ['냉동수산물 도매 고등어,낙지', '0'], [' 유압기계 제조 ', '2'], ['철봉 CNC가공 금속1차가공', '2'], ['학원에서 일반인대상으로 피아노교습', '5'], ['음식점에서 접객시설을 갖추고 풍천장어구이 제공', '1'], ['식육점에서 일반소비자에게 육고기 판매', '0'], ['부동산중개소에서 계약 및 중개를 통해 수수료를 받고 부동산중개서비스', '6'], ['식당에서 접객시설을 갖추고 떡볶이 튀김 등 분식', '1'], ['영업장에서 업체대상으로 돼지고기 도매', '0'], ['미용실에서 두발미용서비스 제공 컷, 염색,파마', '3'], ['사업장에서 토지를사서 개발,판매', '6'], ['MDF.알루미늄 재단.조립 화이트보드(칠판)', '2'], ['도소매 일반소비자에게 식육', '0'], ['라이브까페에서 무도시설을갖추고 주류및장소제공', '1'], ['음식점에서 접개시설을 갖추고 우동등 판매', '1'], ['개인택시로 일반인을 대상으로 승객운송서비스', '4'], ['영화관에서 일반인대상으로 영화상영', '12'], ['사무실에서 기업상호간의 이익증진을 위한 사업자 단체임', '3'], ['학원에서 학생을대상으로 방문교육', '5'], ['사무실에서 일반인에게 국내외 여행알선', '11'], ['세차장에서 고객을 대상으로 자동차세차업', '3'], ['커피숍에서 접객시설을 갖추고 커피제공', '1'], ['사업장에서 종합무역 의류', '0'], ['미용실 일반고객을대상으로 퍼머 컷', '3'], ['카페에서 접객시설을 갖추고 커피 음료', '1'], ['지역농협에서 일반대중을 대상으로 자금여수신', '13'], ['진시장에서 일반소비자에게 소매 악세사리', '0'], ['음식점에서 접객시설을갖추고 돼지고기판매', '1'], ['일반도로 시멘트 포장공사 일반도로', '8'], ['미장원에서 두발미용서비스제공 컷트,파마,염색', '3'], ['교육 교재용 인쇄물 출판  ', '12'], ['영업장에서 접객시설을 갖추고 치킨판매', '1'], ['수석점에서 일반 소비자에게 소매 수석판매', '0'], ['맛사지샵에서 일반고객을 대상으롤 맛사지 서비스', '3'], ['공방에서 일반인대상 아로마비누강습', '5'], ['음식점에서 접객 시설을 갖추고 치킨 바베큐제공', '1'], ['비주거용건물을 가지고 수수료를 받아 임대서비스', '6'], ['교복판매점에서 학생을대상으로 교복판매', '0'], ['음식점에서 접객시설을 갖추고 김치찌게,제육볶음', '1'], ['부품입고 코팅 불소수지 코팅', '2'], ['음식점에서 접객시설을 갖추고 해장국 제공', '1'], ['음식점에서 접객시설을 갖추고 삼겹살,물회 한식제공', '1'], ['음식점에서 접객시설을 갖추고 낙지,연포탕판매', '1'], ['어린이집에서 보호자의위탁받아 취학전육아보육', '7'], ['자동차 수리점에서 자동차 부분품을 전문수리 자동차 수리', '3'], ['개인택시로 일반인을 대상으로 승객운송서비스', '4'], ['알루미늄바,원단 재단,절단,조립 간판 및 광고물', '2'], ['사업장에서 시설을 갖추고 홍삼,허브,세척,치미 증숙 등 제조', '2'], ['매장에서 일반인 대상으로 골프.스쿠버교육', '5'], [' 고객에게 의뢰를 받아 각종 토목 시설물 건설', '8'], ['댄스 교습소에서 일반인을 대상으로 댄스교육', '5'], ['노래방에서 노래방기기를 갖추고 노래서비스 노래 연습', '9'], ['가게에서 일반인을 대상으로 육걔장 전골판매', '1'], ['미장원 두발미용서비스 머리자르기,염색', '3'], ['건축설계사무소에서 고객의요청에의해 건축설계및관련서비스업', '10'], ['매장에서 일반소비자에게 여성의류 판매', '0'], ['학원에서 고객대상 요가수련', '5'], ['현장에서 고객의 의뢰를 받아 실내공사', '8'], ['성인을 대상으로 시설을 갖추고 컴퓨터', '9'], ['사업장에서 고객의요청에의해 광고대행', '10'], ['야채가게에서 일반소비자에게소매 야채 판매', '0'], ['일반소비자에게소매 매장 셔츠,바지', '0'], ['소아과 아동들에게 건강약품서비스', '0'], ['사업장에서 일반소비자에게 양복지', '0'], ['개인택시로 일반인을 대상으로 승객운송서비스', '4'], ['사업장에서 고객의뢰를받아 승용차대여', '11'], ['철 원재료 입고, 용해 유압밸브(이송용 유압기기)', '2'], ['사무실에서 세무관련업무 의뢰를 받아서 세무업무대행', '10'], ['기타용품 도매업  ', '0'], ['중화요리 음식점에서 접객시설을 갖추고 짜장면,짬뽕 판매', '1'], ['일반인을대상으로 사업장에서 경제신문발행', '12'], ['음식점애서 접객시설을 갖추고 국밥', '1'], ['인쇄소에서 계약에의하여각종인쇄물 공판,마스타 인쇄', '2'], ['이용원 두발미용서비스 컷트.면도', '3'], ['개별화물자동차로 고객의 요청으로 화물운송서비스', '4'], ['매장에서 일반인대상 안마제공', '3'], ['음식점에서 접객시설을 갖추고 감자탕 판매', '1'], ['매장에서 일반인대상 면도기,믹서기등', '0'], ['일반유흥 주점  ', '1'], ['음식점에서 접객시설을갖추고 구내식당', '1'], ['편의점에서 체인계약을 체결하여 음.식료품위주 소매', '0'], ['개별화물자동차로 고객의 요청으로 화물운송서비스', '4'], ['음식점에서 접객시설을갖추고 짜장,짬뽕', '1'], ['매장에서 접객시설을 갖추고 숯불구이', '1'], ['일반인소매업대상 도소매 산업용포장재', '0'], ['사업장에서 산업사용자들을 대상으로 액세서리, 핀 등 공장소모품등 도매', '0'], ['매장에서 일반소비자대상 수입과자', '0'], ['사업장에서 건어물 소매', '0'], ['보험및피보험자를위해각종손실파손등보험감정을수행하는기관  ', '13'], ['사무실에서 온라인통신망을 이용 잡화 소매', '0'], ['개인택시로 일반인을 대상으로 승객운송서비스', '4'], ['매장에서 일반소비자에게 소매 티셔츠 바지', '0'], ['건강원(즉석판매제조가공업) 제조업 건강즙', '2'], ['학원에서 학생에게 수학교육서비스', '5'], ['용달화물자동차로 고객의 요청으로 화물운송서비스', '4'], ['영업장 에서 고객을 대상으로 컴퓨터 판매', '0'], ['매장에서 일반소비자에게 화장품', '0'], ['음식점에서 일반고객을 대상으로 곱창판매', '1'], ['절 불교계통종교활동 종교서비스', '3'], ['학원에서 초등학생위주 수학교육', '5'], ['매장에서 일반소비자에게 녹차판매', '0'], ['커피숍에서 접객시설을갖추고 커피 음료 제공', '1'], ['슈퍼 일반인상대 음식료품판매', '0'], ['음식점에서 접객시설을 갖추고 설렁탕', '1'], ['항공기술고등학교에서 고등학생을 대상으로 고등학교 교육 서비스', '5'], ['목욕탕에서 목욕시설을 갖추고 사우나 및 서비스제공', '3'], ['학원에서 학생대상으로 영어논술교육', '5'], ['사업장에서 농장운영자에게 개사료도매', '0'], ['사업장에서 털실(뜨개실) 도매', '0'], ['부동산 사무실내에서 계약및 중개등을 통해 수수료를 받음 부동산거래 중개서비스', '6'], ['한의원에서 외래환자 일반인 대상으로 한방진료 서비스', '7'], ['사업장에서 기계장비부분품판매 콤푸레샤 도매', '0'], ['커피숍에서 접객시설을 갖추고 커피', '1'], ['비거주시설시설에서 노인들에게 노인돌봄서비스', '7'], ['학원에서 학생들을 대상으로 영어 교육', '5'], ['매장에서 일반소비자에게 휴대폰', '0'], ['상가에서 소매상인에게 도매 원피스, 치마', '0'], ['주점 접객시설을 갖추고 주류,안주등', '1'], ['다른 소매업자에게 대량 도매 매장 배관', '0'], ['철 선반밀링제작,조립 액투에이터(기계부품)', '2'], ['매장에서 일반인을대상으로 중고차판매', '0'], ['여업장에서 접객시설을 갖추고 마카롱', '1'], ['펜션 시설을 갖추고 숙박서비스', '1'], ['문화센터에서 성인을 대상으로 교육 홈패션 꽃꽃이 종이공예', '5'], ['제조업 일반인을 대상으로 표구 액자', '2'], ['비닐원단 절단하여인쇄 식품용비닐봉투제조', '2'], ['매장에서 소비자에게 신용카드체크키소매', '0'], ['주선업 고객요청에의해 이사화물운송', '4'], ['사업장에서 염창 우성2차아파트를 아파트 유지,관리,보수', '6'], ['부동산 중개소에서 계약에 의거 부동산 중개 부동산 중개 서비스', '6'], ['주문고객에 의해 도배,실내장식 장판,벽지시공', '8'], ['사업장에서 소비자에게 화장품', '0'], ['음식점에서 접객시설을갖추고 주류판매', '1'], ['개별화물자동차로 고객의 요청으로 화물운송서비스', '4'], ['교회에서 신도들에게 기독교 신앙교육', '3'], ['교습소에서 학생대상으로 일본어교습', '5'], ['개인택시로 일반인을 대상으로 승객운송서비스', '4'], ['분식점에서 접객시설을갖추고 오뎅,우동 판매', '1'], ['개별화물자동차로 고객의 요청으로 화물운송서비스', '4'], ['새보건약국에서 병원처방전에 따라 약제조 및 의료용품 판매', '0'], ['커피숍에서 접객시설을 갖추고 커피제공', '1'], ['영업장 고객 네일관리', '3'], ['일본에서 전자부품수입 업체에 도매로 납품', '0'], ['영업장에서 고객대상 육류 판매', '0'], ['사업장에서 출판 도서및정기간행물', '12'], ['음식점에서 접객시설을 갖추고 삼계탕', '1'], ['고객을 대상으로 사업장에서 체형등 자세교정', '3'], ['부동산중개소 계약및 중개등을 통해 수수료를 받음 부동산거래 중개서비스', '6'], ['사무실에서 경제산업의 데이터를 분석하여 연구및 개발', '10'], ['영업장에서 소매업자대상 화분,도매', '0'], ['용달화물자동차로 고객의 요청으로 화물운송서비스', '4'], ['모텔 개별룸서비스없이일반인대상으로 숙박서비스제공', '1'], ['의류매장에서 일반소비자를 대상으로 소매 여성정장', '0'], ['용달화물자동차로 고객의 요청으로 화물운송서비스', '4'], ['건설업 고객요청으로 도로포장(우레탄포장.탄성포장재)', '8'], ['편의점 체인계약 체결하여 음식료품 판매', '0'], ['개인택시로 일반인을 대상으로 승객운송서비스', '4'], ['개인택시로 일반인을 대상으로 승객운송서비스', '4'], ['음식점에서 접객시설을 갖추고 중국음식 판매', '1'], ['다방  ', '1'], ['음식점에서 접객시설을 갖추고 한식당', '1'], ['농장에서 일반소비자대상 동충하초판매', '0'], ['카센터에서 고객에게 경정비,레카', '3'], ['사업장에서 산업사용자와 일반인에게 배관장치도매', '0'], ['부동산에서 계약에의해 부동산중개서비스', '6'], ['양주나 맥주를 가요주점에서 접객요원을 두고함  ', '1'], ['매장 일반소비자대상 자동차 판매', '0'], ['철 용접, 제관 변압기 제작', '2'], ['금속 선반 금속부품제조', '2'], ['음식점에서 접객시설을갖추고 갈비,불고기판매', '1'], ['학원에서 학생을 대상으로 영어지도', '5'], ['일반 및 국외 여행사업,국내 여행사업,기타 여행보조  ', '11'], ['매장에서 일반소비자에게소매 아동복', '0'], ['부둥산사무소에서 계약에의하여 전.월세등부둥산서비스', '6'], ['건어물가게에서 일반소비자에게소매 오징어채,북어채등판매', '0'], ['매장에서 소비자에게 도소매업 중고 TV', '0'], ['철강재 압연 환봉제조', '2'], ['개인택시로 일반인을 대상으로 승객운송서비스', '4'], ['매장에서 산업사용자에게 펌프 도매', '0'], ['개인택시로 일반인을 대상으로 승객운송서비스', '4'], ['용달화물자동차로 고객의 요청으로 화물운송서비스', '4'], ['영업장에서 접객시설을 갖추고 토스트', '1'], ['음료점에서 접객시설을 갖추고 커피', '1'], ['맥주.빈대떡 접객시설을갖추고 빈대떡제공', '1'], ['영업장에서 일반인을 대상으로 자동차 정비', '3'], ['미장원에서 두발서비스 파마.염색등', '3'], ['개인택시로 일반인을 대상으로 승객운송서비스', '4'], ['커피솝에서 일반대상으로 커피, 음료', '1'], ['트럼블린에서 점프를 통해 일반인을 대상으로 점핑다이어트체력단련', '9'], ['사업장에서 산업사용자에게 유기질비료판매', '0'], ['사무실에서 학생대상 창업교육협회', '3'], ['음식점 접객시설을갖추고 햄버거', '1'], ['우유 발효 치즈,발효유', '2'], ['재단의 비거주용 건물 임대', '6'], ['우레탄 발포성형 스폰지', '2'], ['건설현장에서 사용자의요구로 건물및구축물철거', '8'], ['음식점 일반인대상으로 주점', '1'], ['구내식당에서 음식을조리하여 음식제공', '1'], ['건무러내에서 고객의 요구에 따라 기계장치설치', '8'], ['카센타에서 자동차전문적수리 경정비,도장', '3'], ['일반소비자 가정용 직물제품소매점 커튼 방석 침구류등 소매', '0'], ['소매업자에게 매장에서 유아용품 도매', '0'], ['매장에서 고객대상 남자정장 제조', '2'], ['산업사용자에게 사업장에서 전기선,케이블 도매', '0'], ['사업장에서 고객의 요청에 따라 에어컨설치,수리', '3'], ['슈퍼 고객대상 음식료품판매', '0'], ['펜션에서 숙박시설을갖추고 숙박제공', '1'], ['고객을대상으로 사무실에서 부동산 분양 및 분양대행,판매대리', '6'], [' 치킨 ', '1'], ['공판장에서 일반소매업자들에게도매 버섯,상추등', '0'], ['사업장에서 고객대상으로 시스템소프트웨어개발공급', '12'], ['일반화물자동차로 고객의 요청으로 화물운송서비스', '4'], ['당구장 일반인대상 여가활동제공', '9'], ['공원관리사무소에서 공원관리및정비 공원관리서비스', '9'], ['영업장에서 전자부품(디스플레이) 상품도매', '0'], ['목재 절단 조립하여 씽크대제조', '2'], ['빌딩관리실에서 입주사업체의 편의를 위해 비주거용 부동산관리 서비스', '6'], ['외래환자들을대상으로 병원에서 내과치료', '7'], ['개인택시로 일반인을 대상으로 승객운송서비스', '4'], ['카페에서 접객시설을 갖추고 커피,음료', '1'], ['사업장에서 고객 대상으로 인쇄기기 수리', '2'], ['용달화물자동차로 고객의 요청으로 화물운송서비스', '4'], ['주점에서 접객요원및 무도시설없이 막걸리, 부침게 등', '1'], ['개별화물자동차로 고객의 요청으로 화물운송서비스', '4'], ['매장에서 일반인대상으로 꽃판매', '0'], ['판넬,부품 조립하여 산업용보일러', '2'], ['구입한 조기와 소금(수산물) 염장하여 굴비 제조', '2'], ['사업장에서 고객요청에의거 점핑운동', '9'], ['개별화물자동차로 고객의 요청으로 화물운송서비스', '4'], ['아파트 관리 입주민을 위하여 주거용 부동산 관리', '6'], ['개인택시로 일반인을 대상으로 승객운송서비스', '4'], ['의원에서 외래환자위주로 내과.소아과', '7'], ['고객의요청으로 사무소에서 행정서류 대리작성', '10'], ['개별화물자동차로 고객의 요청으로 화물운송서비스', '4'], ['어린이집에서 보호자로부터 위탁을 받아 취학전 유아보육', '7'], ['학원에서 학생들대상 국어교습', '5'], ['편의점에서 일반소비자에게 음표식품 소매', '0'], ['독서실에서 학생 및 일반인에게 독서실운영서비스', '9'], ['사업장에서 제조 주방용전기기기', '2'], ['노래방에서 노래방기기설치하여 노래연습제공', '9'], ['사무실에서 토목 공사 및 설계 서비스', '10'], ['사업장에서 사용자에게 주방기기철제재료', '2'], ['주차장에서 주차시설을 갖추고 승용차 상용차등 주차', '4'], ['사업장에서 고객대상으로 아로마마사지', '3'], ['음식점에서 접객시설을 갖추고 돼지국밥', '1'], ['변호사사무실에서 의뢰인을 대리하여 소송,변호,이의신청', '10'], ['의뢰를 받아 세무관련조세업무를 기장대리 세무조정', '10'], ['당구장 운영업 서비스업 당구스포츠', '9'], ['음식점에서 접객시설을 갖추고 분식 및 김밥 전문점', '1'], ['용달화물자동차로 고객의 요청으로 화물운송서비스', '4'], ['학원에서 학생을 대상으로 국어교육', '5'], ['솜원단 누비 봉제 이불제조', '2'], ['사업장에서 산업사용자에게 판넬도매', '0'], ['주거용 건물 일반인에게 주거용 건물 임대', '6'], ['매장에서 소비자대상으로 여성 셔츠 등 상의 판매', '0'], ['탄소섬유 수지배합, 수지코팅 ', '2'], ['매장에서 일반인대상 속눈썹미용', '3'], ['사업장에서 소비자에게 전자담배판매', '0'], ['버스 승객운행 농어촌버스운행', '4'], ['미용실에서 두발미용서비스 머리자르기,염색등', '3'], ['교회에서 기독교계통종교활동 종교서비스', '3'], ['치킨집에서 접객시설을 갖추고 후라이드판매', '1'], ['가게에서 일반인 대상으로 활어를 손질하여 판매', '0'], ['외과에서 입원 및 외래환자위주로 외과진료서비스', '7'], ['편의점에서 고객을대상으로 식료품', '0'], ['어린이집에서 관할구청에서 인가받아 취학전 영유아 보육', '7'], ['건설현장에서 고객의요청에따라 배선.설치공사', '8'], ['사업장에서 고개대상 스포츠의류 제조', '2'], ['식육점에서 일반소비장에게 쇠고기.돼지고기소매', '0'], ['철강을 가지고 수수료 게약에 의해 기계가공', '2'], ['개인택시로 일반인을 대상으로 승객운송서비스', '4'], ['복지센테에서 도움이필요한 노인들에게 노인돌봄', '7'], ['부동산중개소에서 계약중개수수료를받고 부동산중개서비스', '6'], ['개별화물자동차로 고객의 요청으로 화물운송서비스', '4'], ['이비인후과에서 외래환자위주로 진료서비스', '7'], ['매장에서 과자및 음료를 일반소비자에게판매', '0'], ['개인택시로 일반인을 대상으로 승객운송서비스', '4'], ['사업장에서 일반대중 및 기업대상 보험계약체결을 대리, 중개', '13'], ['헬스기구를 설치하여 헬스클럽에서 운동', '9'], ['약국에서 일반소비자에게 소매 감기약조제,각종의약품', '0'], ['개인택시로 일반인을 대상으로 승객운송서비스', '4'], ['철 절삭가공 산업기계 부품', '2'], ['사업장에서 일반소비자에게 문구소매', '0'], ['제과점에서 접객시설을 갖추고 빵', '1'], [' 커피 ', '1'], ['체육관 일반학생대상 합기도,호신술교육', '5'], ['커피전문점에서 접객시설을갖추고 원두커피판매', '1'], ['소매업자에게 H형강 H형강도매', '0'], ['학원에서 학생대상으로 영어교육', '5'], ['일반인대상으로 다례원에서 다도교육', '5'], ['유유 배달 소비자에게 배달서비스', '0'], ['사업장에서 학교 구내대상으로 집단급식소식품납품', '0'], ['쥬스전문점에서 접객시설을갖추고 쥬스 판매', '1'], ['음식점에서 접객시설을갖추고 청국장,콩국수등 판매', '1'], ['플라스틱 가공 발포스티로품', '2'], ['천 나무 led등으로 현수막 제작', '2'], ['찻집에서 접객시설을갖추고 차 판매', '1'], ['사업장에서 매장면적100㎡의시설을 갖추고 음,식료품소매', '0'], ['영업장엥서 고객을 대상으로 죽제공', '1'], ['각가정의분뇨를 수집운반하여 분뇨처리', '15'], ['음식점에서 접객시설을 갖추고 짜장', '1'], ['미용실에서 일반고객대상 커트,파마,염색', '3'], ['카센터에서 자동차 특정부분 타이어 수리', '3'], ['비닐 재단 그늘막 엽소용천막', '2'], ['음식점에서 접객시설을 갖추고 한식 판매', '1'], ['음식점에서 접객시설을 갖추고 부대찌개', '1'], ['영업장에서 일반소비자를 대상으로 자동차정비', '3'], ['사업장에서 수수료계약에 의해 부동산 투자 자문업', '6'], ['교회에서 기독교계통종교활동 종교서비스', '3'], ['세탁소에서 세탁 세탁', '3'], ['원사 재료매입, 정경 화섬지(레이스)', '2'], ['식당에서 접객시설을 갖추고 떡볶이 순대', '1'], ['광고물  ', '10'], ['부동산에서 계약및중개를통하여 부동산중개서비스', '6'], ['사무실에서 의뢰인을대리하여 소송,변호,이의신청', '10'], ['음식점에서 접객시설을 갖추고 백반등 한식판매', '1'], ['각종서적이나 서적 팜플랫을 출판  ', '12'], ['음식점에서 접객시설을 갖추고 한식음식점업', '1'], ['스포츠 용품 도매 및 소매업 테니스용품', '0'], ['핸드폰가게에서 일반수요자대상으로 핸드폰 개통 판매', '0'], ['온라인통신망을통하여 일반소비자대상으로 구입한의류소매', '0'], ['커피,음료제공  ', '1'], ['사무실에서 각지사식당사업체 식당관리', '1'], ['학원에서 학생에게 수학교육서비스', '5'], ['음식점에서 접객시설을갖추고 일식제공', '1'], ['고구마,포도,배 가공 판매', '2'], ['사업자에서 주택의 수리를 원하는 고객에게 설비서비스', '8'], ['용달화물자동차로 고객의 요청으로 화물운송서비스', '4'], ['사업장에서 시설을갖추고 조립식판낼제조', '2'], ['사업장에서 일반고객 대상 커피,케익 전문', '1'], ['전선케이블,판넬 카바assy조립 배전반부품', '2'], ['용달화물자동차로 고객의 요청으로 화물운송서비스', '4'], ['커피숍  ', '1'], ['매장에서 일반소비자에게 가구소매', '0'], ['영업점에서 소비자에게 악세서리소매', '0'], ['비가공 축산물을 소매업자에게 개고기 판매', '0'], ['사업장에서 일반고객대상으로 홍삼가공식품소매', '0'], ['법무사 사무소에서 의뢰를 받아 법무업무', '10'], ['모텔 개별룸서비스없이일반인대상 숙박서비스', '1'], ['아파트에서 입주민대상으로 아파트유지관리', '6'], ['매장에서 비가공채소 소매 호박,단배추등', '0'], ['영업장에서 소매 반지,귀걸이', '0'], ['알미늄 성형, 쇼트 ', '2'], [' 고객의요청에의해, 사업장에서 전기.정밀기기수리', '2'], ['음식점에서 접객시설을 갖추고 황태 해장국 판매', '1'], ['영업장에서 시설갖추고 마사지서비스', '3'], ['약국에서 일반인들을 대상으로 의약품', '0'], ['사업장에서 일반인대상으로 두피관리,문신', '3'], ['사무실에서 입주자들을위해 상가관리', '6'], ['구직자 고용주를 대신하녀 사업장에서 인력을 알선', '11'], ['아동센터 아동청소년을 대상으로 교육, 돌봄, 무료급식 등 복지지원 서비스', '7'], ['의뢰인을 대리하여 민사,형사 소송사건 소송수행및 변론 법률 상담', '10'], ['쇠 제조 기계부품', '2'], ['과일류 가공하여(말려서) 말린과일식품도매', '0'], ['음식점 면요리 한식면요리전문', '1'], ['주점에서 접객시설을갖추고 맥주 안주', '1'], ['부동산에서 계약에의거 부동산중개 부동산중개 서비스', '6'], ['농산물을 고객에게 도소매', '0'], ['초,중 학생대상 공부방에서 교육지원서비스', '5'], ['매장에서 고객에게 계란 소매업', '0'], ['음식점에서 접객시설 갖추고 족발 제공', '1'], ['신협에서 부금형태로조성된자금을 고객에게대출', '13'], ['매니큐어(장식.악세서리) 일반인을 대상으로 손관리', '3'], ['인물사진 및 행사용 영상 촬영업  ', '10'], ['음식점에서 접객시설을 갖추고 된장찌개등 판매', '1'], ['사업장에서 일반소비자에게 커피판매', '1'], ['학원에서 학생을 대상으로 미술지도', '5'], ['개별화물자동차로 고객의 요청으로 화물운송서비스', '4'], ['개별화물자동차로 고객의 요청으로 화물운송서비스', '4'], ['건축물내부에서 통신배선공사를 LAN공사,케이블TV접속공사', '8'], ['사업장에서 학생을 대상으로 교육컨설팅 서비스', '5'], ['접객시설을 갖추고 사업장에서 커피,쥬스', '1'], ['용달화물자동차로 고객의 요청으로 화물운송서비스', '4'], ['영업장에서 접객시설을갖추고 소주,맥주', '1'], [' 해물전골 ', '1'], ['사업장에서 전시회,웹홍보,방문영업 전자부품,전자제품,가전제품', '0'], ['음식점에서 접객시설을 갖추고 오리등', '1'], ['기타도급  ', '11'], ['음식점에서 접객시설을갖추고 월남쌀국수', '1'], ['사업장에서 밀링머신장비 수리 서비스', '2'], ['개인택시로 일반인을 대상으로 승객운송서비스', '4'], ['활법체조강의 서비스업 일반인대상으로', '5'], ['커피전문점 접객시설을 갖추고 커피.음료제공', '1'], ['컴퓨터 마스타기계로 고객의 주문에 의해 명함,전단지 인쇄', '2'], ['슈퍼마켓에서 일반소비자를 대상으로 음.식료위주 잡화 판매', '0'], ['사업장에서 다른소비자에게 수공외 철분', '0'], ['편의점 일반소비자 음식료품', '0'], ['사업장에서 수요자대상으로 산업기계공구도매', '0'], ['마사지샵에서 일반대중에게 안마서비스제공', '3'], ['영업장소에서 고객요청에의해 남성정장맞춤', '2'], ['모텔에서 일반인을대상으로 숙박서비스', '1'], ['개인택시로 일반인을 대상으로 승객운송서비스', '4'], ['사업장에서 고객의의뢰로 인쇄,코팅', '2'], ['사업장에서 고객의뢰받아 광고대행', '10'], ['음식점에서 고객에게 생선 구이 정식판매', '1'], ['음식점에서 접객시설을 갖추고 회,매운탕', '1'], ['영업장에서 의뢰한 고객에게 주택건설', '8'], ['냉동창고에서 운송장비에 화물을 적재 및 하역 운반하역', '4'], ['상가에서 소매업자에게 도매 T셔츠', '0'], ['스플린트, 세라믹 주문, 보철설계 ', '2'], ['개인택시로 일반인을 대상으로 승객운송서비스', '4'], ['매장에서 접객시설갖추고 떡,차 판매', '1'], ['사업장에서 일반고객대상 인터넷통신판매업', '0'], ['영업장에서 접객시설을 갖추고 양꼬치', '1'], ['유통단지에서 도매 전자부품', '0'], ['민박  ', '1'], ['가게에서 일반소비자에게 여성의류 판매', '0'], ['매장에서 소매상대상 잠바도매', '0'], ['원단, 부자재 재단, 봉제 ', '2'], ['횟집에서 접객시설을 갖추고 회 매운탕제공', '1'], ['미장원에서 고객을 대상으로 커트, 파마, 염색', '3'], ['펜션에서 일반인 대상으로 숙박서비스 제공', '1'], ['자성입자를 연구개발하여 나노바이오 제품개발', '10'], ['사업장에서 고객요청에의해 태양광건설팅', '10'], ['백화점에서 고객에게 여성복판매', '0'], ['횟집에서 접객시설을 갖추고 물회 회 매운탕판매', '1'], ['유흥주점에서 접객요원을두고 양주.맥주', '1'], ['상가에서 소매업자에게도매 여성의류', '0'], ['샷시집에서 금속제품 제조 금속제 창문, 샤시문제조', '2'], ['영업장에서 산업사용자에게 목재', '0'], ['병원,의원, 약국 모든제약사 품목 마케팅', '0'], ['개인택시로 일반인을 대상으로 승객운송서비스', '4'], ['접객시설을 갖추고 구내식당에서 계약에의거음식제공', '1'], ['학원에서 아이들에게 미술교육', '5'], ['매장에서 일반소비자대상소매 전기용품.조명장치', '0'], ['세탁위탁업  ', '3'], ['용달화물자동차로 고객의 요청으로 화물운송서비스', '4'], ['사업장에서 고객의 사양을 기획및표현 그래픽디자인', '10'], ['매장에서 일반인 대상으로 화장품 판매', '0'], ['약국 일반소비자들에게 양약', '0'], ['동네슈퍼(165㎡ 미만) 일반소비자에게 소매 음식료품위주 생활잡화', '0'], ['의류, 신발  ', '0'], ['법무사사무실에서 의뢰인을 대리하여 수수료를받고 등기,경매등 신청대행', '10'], ['사무실에서 지역주민대상으로 봉사하는해병 해병전우단체', '3'], ['용달화물자동차로 고객의 요청으로 화물운송서비스', '4'], ['매장에서 일반인을 대상으로 휴대폰 판매', '0'], ['절임류  ', '2'], ['일반음식점  ', '1'], ['가스기기 일반소비자에게 가스보일러소매', '0'], ['매장에서 일반소비자에게 김치냉장고 소매', '0'], ['중고 기계 부품 매입 필요 고객 대상으로 중고품 소매', '0'], ['영업장에서 학생들에게 피아노.작곡교육', '5'], ['매장에서 접객시설을 갖추고 음.식료품판매', '0'], ['재가센터에서 돌봄이 필요한 노인대상으로 요양보호사파견', '7'], ['교회에서 신자들에게 기독교종교서비스', '3'], ['개인택시로 일반인을 대상으로 승객운송서비스', '4'], ['사우나 목욕시설 갖추고 탕, 사우나등의 제공', '3'], ['일반 의원에서 외래환자 위주로 내과 진료 서비스', '7'], ['한복지 재단재봉하여한복제조 각종한복', '2'], ['사업장에서 일반소비자 대상 자동차 신차 판매', '0'], ['어린이집 보호자의 위탁을 받아 취학전아동보육', '7'], ['부동산중개소에서 일반인을 대상으로 부동산중개서비스', '6'], ['생화 소매 ', '0'], ['학원에서 학생들에게 영어교육', '5'], ['안경점에서 일반소비자에게 소매 안경,콘택트렌즈', '0'], ['전문직별 건설업자가 건물,구축물및구조물에 도장,미장공사', '8'], ['카센타에서 자동차수리및 검사시설을 갖추고 자동차 경,정비서비스', '3'], ['개별화물자동차로 고객의 요청으로 화물운송서비스', '4'], ['맥주집에서 접객요원 및 무도시설없이 소주,호프판매', '1'], ['인테리어 주문받아서 건설업', '8'], ['사업장에서 일반인에게 복권판매', '9'], ['개인택시로 일반인을 대상으로 승객운송서비스', '4'], ['야채류를 가지고 일반 소매업자에게 배추.오이 도매', '0'], ['나일론,염료 염색코팅가공 원단', '2'], ['물류창고에서 특수시설없이 자사제품보관 의료기기 용품.', '4'], ['PB, 합판 재료구입, 재단 ', '2'], ['변호사사무실에서 의뢰인대상 소송변호이의신청', '10'], ['고객에게 호텔에서 숙박서비스', '1'], ['사업장에서 일반인대상으로 여성의류판매', '0'], ['학원에서 학생을 대상으로 수학 교육', '5'], ['동파이프, 절연재 설계, 가공(외주) ', '2'], ['미용실에서 고객을대상으로 파마,커트,염색', '3'], ['불교 단체  ', '3'], ['사업장에서 고객의 요청에 따라 음향기기 대여', '11'], ['영업장에서 고객을 대상으로 콩 두부판매', '0'], ['매장에서 일반소비자에게 아동복', '0'], ['이발관에서 두발이용 서비스 제공 머리 자르기 염색등', '3'], ['영상편집,녹음 더빙후 영화제작소에서 영화,비디오물 제작', '12'], ['사업장에서 고객의 요청에 의해 상하수도 건물 건설업', '8'], ['펜션에서 숙박시설을갖추고 숙박서비스', '1'], ['일반소비자에게 소매 매장에서 휴대폰 단말기,충전기', '0'], ['개인택시로 일반인을 대상으로 승객운송서비스', '4'], ['개인택시로 일반인을 대상으로 승객운송서비스', '4'], ['개인택시로 일반인을 대상으로 승객운송서비스', '4'], ['건설현장에서 고객의 요구에 의해 철근,콘크리트로 기반시설 공사', '8'], ['음식점에서 접객시설을 갖추고 쭈꾸미 제공', '1'], ['사업장에서 일반인 대상 구두수선', '3'], ['사업장에서 거래처를 대상으로 산업기계', '0'], ['고기,야채 절단,혼합,가공 가공파우치', '2'], ['사업장에서 소매업자에게 음료 도매', '0'], ['물류센타에서 일반소비자에게 운수업', '4'], ['사업장에서 일반소비자에게 곡물,사료소매', '0'], ['이발관에서 두발미용서비스제공 머리자르기등', '3'], ['바둑학원에서 학생 및 일반인을 대상으로 바둑교육서비스', '5'], ['개인택시로 일반인을 대상으로 승객운송서비스', '4'], ['단체에서 아동청소년대상으로 교육복지사업', '7'], ['음식점에서 접객시설을 갖추고 순대국밥', '1'], ['스크린 골프연습장 골프연습서비스', '9'], ['사업장에서 일반인 대상으로 사진,그림전시 및 판매', '0'], ['사업장에서 공작기계도매 공작기계', '0'], ['부동산에서 계약 부동산중개', '6'], ['매장에서 일반소비자에게소매 전기용품.조명장치', '0'], ['자동차 일반고객대상 광택,세차', '3'], ['면세점에서 일반소비자에게 신발소매', '0'], ['속옷 가게에서 일반인을 대상으로 메리야스, 양말 등 판매', '0'], ['건강원 액기스추출 과일 양파액', '2'], ['커피전문점 접객시설을 갖추고 커피,음료', '1'], ['쇠를구입하여 철를가공하여 산업용나이프제작', '2'], ['음식점에서 접객시설을 갖추고 돼지고기,소고기', '1'], ['사업장에서 접객시설을 갖추고 커피, 음료 제공', '1'], ['커피숍에서 접객시설을갖추고 커피', '1'], ['사무실에서 국가정부를 대상으로 지자체 예산 확보 및 지원', '14'], ['협동조합에서 조합원과일반인을 대상으로 자금여수신', '13'], ['개별화물자동차로 고객의 요청으로 화물운송서비스', '4'], ['절에서 불교계통 종교활동 종교서비스', '3'], ['매장에서 일반인을 대상으로 스포츠티셔츠,바지듣ㅇ 판매', '0'], ['보습학원에서 학생 대상으로 학습지 교육', '5'], ['용달화물자동차로 고객의 요청으로 화물운송서비스', '4'], ['매장에서 일반인대상으로 통닭제공', '1'], ['교습소에서 학생을 대상으로 피아노 레슨', '5'], ['엔지니어링 엔지니어링 설게 기업체 납품', '10'], ['현장에서 의뢰받아 전기공사', '8'], ['사업장에서 고객의 의뢰를 받아 홍보물,광고기획', '10'], ['금속 선반밀링 기계부품', '2'], ['페인트 차선도색공사 도로의 차선,횡단보도', '8'], ['학원에서 학생들에게 국어 교습', '5'], ['신용카드조회기,IC카드조회기  ', '0'], ['음식업에서 고객들에게 한식 일반음식점', '1'], ['매장에서 일반소비자를대상으로 셔츠및블라우스', '0'], ['도시철도 정기적으로 운행 승객 운송', '4'], ['세차장 고객대상 세차서비스', '3'], ['닭 손님대상 찜닭', '1'], ['사업장에서 입찰을통하여 소고기,돼지고기학교급식납품', '0'], ['미장원에서 고객을 대상으로 커트, 파마', '3'], ['수학학원에서 학생에게 수학교습', '5'], ['치과의원에서 외래환자위주로 치과진료서비스', '7'], ['학원에서 학생들을 대상으로 국어교육', '5'], ['미용실에서 두발미용서비스 머리 컷트,파마', '3'], ['개인택시로 일반인을 대상으로 승객운송서비스', '4'], ['유치원에서 관할교육청의 인가를받아 취학전아동을교육', '5'], ['편의점 일반소비자 각종상품소매', '0'], ['소 부산물 소매업자에게 육류 도매', '0'], ['용달화물자동차로 고객의 요청으로 화물운송서비스', '4'], ['화장품 가게에서 일반인 대상으로 화장품 소매', '0'], ['건설현장에서 고객요구에따라 토목건축공사업', '8'], [' 한정식 ', '1'], ['부동산중개소에서 계약및 중개를 통해 부동산거래 중개', '6'], ['사업장에서 고객을대상으로 원목가구제작판매', '2'], ['유흥주잠 접객요원두고 노래,맥주', '1'], ['가방 및 기타 가죽제품 소매업  ', '0'], ['개인택시로 일반인을 대상으로 승객운송서비스', '4'], ['음식점에서 접객시설을 갖추고 돼지 생막창', '1'], ['음식점에서 접객시설을 갖추고 버섯매운탕', '1'], ['플라스틱,테이프 접착처리하여 접착테이프제조', '2'], ['음식점에서 접객시설을 갖추고 감자탕판매', '1'], ['관리사무소에서 아파트입주민을 위해 아파트관리', '6'], ['접객시설을 갖추고 사업장에서 치키판매', '1'], ['금속 금형 산업기계부품', '2'], ['모텔 숙박시설을 갖추고 숙박서비스제공', '1'], ['자동차부품반제품 반제품입고, 조립 ', '2'], ['영업장에서 접객시설을갖추고 햄버거,피자', '1'], [' 제조시설을 갖추고  유리대용 투명매트 제조 ', '2'], ['점집에서 사주,궁합,굿 철학관', '3'], ['공업사에서 자동차를전문적으로 경정비 ,오일교환', '3'], ['사업장에서 사업체 대상으로 냉난방기 설치 공사', '8'], ['매장에서(165㎡미만) 외국인을대상으로 식료품소매', '0'], ['마사지샵에서 일반인을 대상으로 피부관리', '3'], [' 치킨전문점 ', '1'], ['숙박시설을 갖추고 고객을 대상으로 무인텔 제공', '1'], ['이용소 두발이용서비스 머리자르기등', '3'], ['메장에서 접객시설을갖추고 커피,음료', '1'], ['보습학원 중고생을 대상으로 수학강습', '5'], ['카센터에서 일반고객의 요청에 의해 자동차 부분정비', '3'], ['금속 연마가공 금형부품연마', '2'], ['진시장에서 다른소매업자에게도매 단체복', '0'], ['개인택시로 일반인을 대상으로 승객운송서비스', '4'], ['일반고객대상 사업장에서 에너지절약 정밀기기 판매', '0'], ['가공된금속 CNC가공 기계부품', '2'], ['사무실에서 노인지원 복지서비스제공', '7'], ['사무실에서 경영인에게 경영컨설팅', '10'], ['편의점 에서 체인화걔약에의해 각종상품 24시간 판매', '0'], ['현장에서 고객의 의뢰에 의해 배관공사', '8'], ['주점에서 접객시설갖추고 소주,맥주', '1'], ['비철금속, 초경 CND가공, 연마 ', '2'], ['자동차 전문 수리점에서 고객의 의뢰를받아 자동차썬팅, 복원,광택,흠집제거서비스', '3'], ['용달화물자동차로 고객의 요청으로 화물운송서비스', '4'], ['매장에서 일반인을대상으로 자전거외', '0'], ['사무소에서 의뢰를받아 건축물설계 서비스', '10'], ['편의점 일반소비자를대상으로 식료품,담배소매', '0'], ['접객 시설을 갖추고 가게에서 꼬치(닭산적)  ', '1'], ['철판 절단 용접 송풍기제조', '2'], ['음식점에서 접객시설을 갖추고 한정식', '1'], ['노래방 음향시설을갖추고 노래방', '9'], ['사업장에서 마스크팩을 접어서 수동 포장', '11'], ['사업장에서 수강생에게 도자기도예교육', '5'], ['음식점에서 접객시설을 갖추고 중식 음식점업', '1'], ['사업장에서 시설을 갖추고 당구장운영', '9'], ['음식점에서 접객시설을 갖추고 삼계탕', '1'], ['기계장비로 산업공단조성시의뢰를받아 지적, 측량', '10'], ['매장에서 접객시설을갖추고 소주,맥주', '1'], ['음식점에서 접객시설을갖추고 국밥', '1'], ['센타 소매 수삼', '0'], ['고객요구에 의해 구조용금속판제품 닥트제작', '2'], ['상가에서 소매업자에게 도매 의류', '0'], ['개별화물자동차로 고객의 요청으로 화물운송서비스', '4'], ['학원에서 학생들을 대상으로 수학,영어 교육', '5'], ['한약재및 액화할수있는 식품 가열 농출 압축 가공원액', '2'], ['개인택시로 일반인을 대상으로 승객운송서비스', '4'], ['부동산 계약및상담 중개서비스', '6'], ['음식점에서 접객시설갖추고 피자, 파스타', '1'], ['매장에서 고객에게 유아동복', '0'], ['음식점에서 접객시설을 갖추고 칼국수 판매', '1'], ['민박집에서 관광객대상으로 민박서비스', '1'], ['사무처리 사무실에서 제조업 본사', '10'], ['캬바레에서 무도시설 갖추고 주류및장소제공', '1'], ['미용실 두발 미용을 원하는 사람에게 머리자르기.파마', '3'], ['병원에서 외래환자위주로 이비인후과진료서비스', '7'], ['의류업  여성의류소매', '0'], ['의뢰를받아 사업장에서 전자부품도매', '0'], ['사업장에서 전기 화력발전업', '17'], ['사업장에서 고객의 요청으로 사무용가구 디자인', '10'], ['노래연습장  ', '1'], ['슈퍼에서 일반소비자대상 음식료품', '0'], ['개인택시로 일반인을 대상으로 승객운송서비스', '4'], ['완성된 인쇄물을 기계의 작업으로 제본. 제책', '2'], ['음식점업 접객시설을 갖추고 찜닭 판매', '1'], ['일정한장소에서 고객의요청에의해 전기공사', '8'], ['개별화물자동차로 고객의 요청으로 화물운송서비스', '4'], ['슈퍼에서 일반인을 대상으로 음 식료품 판매', '0'], ['철 선반가공 기계부품', '2'], ['약국에서 일반소비자대상으로 의약품조제,판매', '0'], ['법무사에서 의뢰를 받아 법무서비스 제공', '10'], ['개별화물자동차로 고객의 요청으로 화물운송서비스', '4'], ['피부과에서 외래환자 위주로 피부과진료 서비스', '7'], ['일반소비자에게 열쇠,도장재료 열쇠,도장제작', '3'], ['주민을대상으로 사업장에서 스포츠행사기획지도', '9'], ['제주은행 일반인을대상으로 자금여수신,송금', '13'], ['신발가게에게 일반소비자에게 소매 운동화. 구두', '0'], ['영업장 일반고객 세탁, 수선', '3'], ['세무관련 업무 의뢰를 받아 기장대리 세금 대리수행', '10'], ['사업장에서 고객의뢰 인테리어공사', '8'], ['매장에서 산업사용자에게 수도부속,도기,금속배관', '0'], ['부동산매매업 부동산 부동산', '6'], ['사업장에서 학생을 대상으로 입시 컨설팅', '5'], ['미용실에서 일반고객 대상으로 커트, 파마, 염색', '3'], ['치과에서 외래환자 위주로 치과진료', '7'], ['절 불교계통 종교활동 종교서비스', '3'], ['매장 다른 제조업자에게 도매 베어링', '0'], ['우유대리점에서 가공생산된유제품도매 유제품등', '0'], ['소매  통신기기', '0'], ['사업장에서 고객의 요청에 의해 훈장,마크메탈 등 제조', '2'], ['용달화물자동차로 고객의 요청으로 화물운송서비스', '4'], ['음식점 접객시설 한식제공', '1'], ['매장에서 일반소비자에게 화장품소매', '0'], ['개별화물자동차로 고객의 요청으로 화물운송서비스', '4'], ['개인택시로 일반인을 대상으로 승객운송서비스', '4'], ['개인택시로 일반인을 대상으로 승객운송서비스', '4'], ['사업장에서 중개무역 전기용품(애관)', '0'], ['매장에서 일반소비자에게소매 화장품', '0'], ['농산물을 선별하여 농산물 선별포장', '16'], ['커피전문점 접객시설을 갖추고 커피,음료,베이커리 판매', '1'], ['영업장소에서 접객시설을 갖추고 고객을 대상으로 피자 햄버거 판매  ', '1'], ['사업장에서 고객을 대상으로 화장품', '0'], ['영업장에서 일반인대상으로 pc방', '9'], ['매장에서 접객시설을갖추고 칼국수족발판매', '1'], ['가게에서 고객을대상으로 열쇠제작.수리', '3'], ['섬류제품을 기계로 끈', '2'], ['부동산 중개소에서 계약에 의거하여 부동산 중개 서비스', '6'], ['요가복  ', '0'], ['주유소에서 일반인을 대상으로 차량용 및 가정용 액체연료 소매', '0'], ['매장에서 일반소비자에게 악세사리 장신구 소매', '0'], ['음식점에서 접객시설없이 도시락전문점', '1'], ['현장에서 고객의요구에따라 철근콘크리트공사', '8'], ['행정사무소에서 의뢰인을 대리하여 법무관련서비스', '10'], ['피자판매  ', '1'], ['요양병원에서 입원환자위주 진료서비스', '7'], ['음식점에서 접객시설을갖추고 김치찌개', '1'], ['학원에서 초등학생을대상으로 전과목보습', '5'], ['사무실에서 고객의요청에의해 단기인력공급', '11'], ['사업장에서 소매업자에게 수산물도매', '0'], ['사업장에서 고객에 의뢰를 받아 중장비 부품수리', '2'], ['가입된회원에게 상조대행서비스업 관혼상제', '3'], ['이불 일반소비자를 대상으로 이불종류 판매', '0'], ['공부방에서 학생들을 대상으로 방과후 돌봐줌', '7'], ['매장에서 고객들에게 애완용품 판매', '0'], ['학습지를가지고 영유아대상방문판매교육서비스 신기한한글나라', '5'], ['헬스클럽에서 체력단련시설갖추고 체력단련서비스', '9'], ['드레스 제조 제조업 안나스포사럭스', '2'], ['직업소개소에서 고용주와구직자를 알선하고 사무인력,고급인력등을 알선', '11'], [' 에어컨소매 ', '0'], ['초등학교에서 초등학생대상으로 초등교육서비스', '5'], ['치과에서  치과진료', '7'], ['음숙 음식점에서 접객시설을 갖추고 한식 닭.오리백숙 판매', '1'], ['사업장에서 소매업자를대상으로 블루베리,표고버섯', '0'], ['노래방에서 시설을 갖추고 노래방운영', '9'], ['사업장에서 고객들에게 빵,케？ 제공', '1'], ['사업장에서 운동시설을 갖추고 재활,자세교정', '5'], ['자동차상사에서 일반고객을 대상으로 중고승용차,중고화물차', '0'], ['벽지 및 장판류  ', '0'], ['전당포  ', '13'], ['페르마타에서 접객시설을 갖추고 커피,음료', '1'], ['관리사무소 비거주용 상가관리 도난, 화재, 상가관리', '6'], ['커피숍에서 접객시설을 갖추고 커피 및 차류 제공', '1'], ['음식점에서 접객시설을갖추고 돼지고기.소고기', '1'], ['스텐레스 절삭가공 반도체기계장비부품', '2'], ['카센타에서 고객을 대상으로 자동차 특정부분정비', '3'], ['칩을 이용하여 SMP(기구)제조 PCB판', '2'], ['사업장에서 일반소비자에게 의료용품 소매', '0'], ['목재를 절단가공하여 약국인테리어 가구', '2'], ['매장에서 소비자에게 핸드폰판매', '0'], ['개인택시로 일반인을 대상으로 승객운송서비스', '4'], ['천응 재단,미싱하여 태권도 도복제작', '2'], ['미장원에서 고객을 대상으로 염색,파마,커트등', '3'], ['반찬가게에서 일반소비자에게 반찬,김치', '0'], ['매장에서 소비자에게 주류', '1'], ['서예학원에서 수강생에게 서예강습 붓글씨', '5'], ['일반 소비자를 대상으로 매장에서 시계소매', '0'], ['영업활동으로 일반고객대상 손해보험계약관리', '13'], ['펜션에서 일반인을 대상으로 숙박서비스제공', '1'], ['연합회에서 청년지도자의 권익도모', '3'], ['영업점에서 일반고객에게 피자,햄버거제공', '1'], ['용달화물자동차로 고객의 요청으로 화물운송서비스', '4'], ['지정폐기물을 차량을이용하여 수집운반', '15'], ['접객요원 및 무도시설없이 일본식주점에서 맥주.소주', '1'], ['매장에서 일반인대상으로 휴대폰판매', '0'], ['학원에서 학생대상 합기도', '5'], ['약국에서 조제약처방 의약품', '0'], ['사업장에서 시설을갖추고 코크스제조', '2'], ['건어물 일반소비자에게 각종건어물소매', '0'], ['영어교습소에서 학생을 대상 영어교육', '5'], ['영업장 고객 부동산중개', '6'], ['부동산중개소에서 계약에의거체결하여 부동산중개서비스', '6'], ['현장에서 고객의 의뢰를받아 인테리어공사', '8'], ['매장에서 일반인을 대상으로 농산물,음식료품 판매', '0'], ['음식점업 접객시설갖추고. 한식 음식점업', '1'], ['소방안전장비 용품 도매', '0'], ['사업장에서 제조업 촉매컨버터', '2'], ['음식점에서 접객시설을 갖추고 한식판매  ', '1'], ['매장에서 접객시설을갖추고 돈까스판매', '1'], ['P.P 사출,성형 플라스틱캡(화장품,물감뚜껑)', '2'], ['가방(완제품) 캄보디아에서 제조하여 수입 수출', '0'], ['미장원 두발미용서비스제공 머리자르기,염색등', '3'], ['사업장에서 금고 판매', '0'], ['금속통.금속봉 등을 절단.용접.조립 닭 잡는 기계', '2'], ['음식점  소곱창구이판매', '1'], ['음식점에서 소비자대상 피자등', '1'], ['사업체에서 태양발전시설을 갖추고 전기생산', '17'], ['게스트하우스에서 숙박시석을 갖추고 숙박서비스', '1'], ['중고자동차 및 부품  ', '0'], ['사업장에서 고객의요청 석면건축물철거', '8'], ['철판, 넛트,볼트 용접라인투입, 모체입고 ', '2'], ['신발가게 일반인 대상으로 남녀정장화,운동화', '0'], ['음식점에서 접객시설을 갖추고 닭계장등 제공', '1'], ['댄스교육장에서 일반고객을 대상으로 댄스교육', '5'], ['병원에서 소아청소년대상으로 병원진료', '7'], ['용달화물자동차로 고객의 요청으로 화물운송서비스', '4'], ['관리사무실에서 주민들 대상으로 주거용 부동산 관리', '6'], ['어린이집에서 보호자로부터위탁받아 유아보육', '7'], ['복권판매소 일반인대상 복권판매', '9'], ['매장에서 일반소비자 여성의류판매', '0'], ['음식점에서 접객시설을 갖추고 생선회 판매', '1'], ['화물을 화물운송업자와 화주간에 주선및알선 화물운송주선및알선', '4'], ['고객의 요청에 따라 사업장에서 계량, 견본추출, 감정', '10'], ['치과의원 외래환자를 위주 치과진료서비스 제공', '7'], ['모텔 룸서비스없이 숙박시설제공', '1'], ['매장에서 일반소비자에게 소매 수입화장품', '0'], ['음식점에서 접객시설을 갖추고 카레', '1'], ['개인택시로 일반인을 대상으로 승객운송서비스', '4'], ['헬스장에서 체력단력시설을 갖추고 체력단련서비스', '9'], ['음식점에서 접객시설을갖추고 두부,막국수', '1'], ['편의점에서 체인계약을 체결하여 식료품,담배', '0'], ['매장에서 조립식 건물세트 도,소매', '0'], ['접객시설을 갖추고 술과 안주 제공  ', '1'], ['어린이집에서 취학전 아동교육및 ㅁ보육 유아 교육기관', '7'], ['여관에서 고객을 대상으로 숙박시설서비스제공', '1'], ['개인택시로 일반인을 대상으로 승객운송서비스', '4'], ['부동산중개소 계약에의거하여 부동산중개서비스', '6'], ['사업장에서 일반인대상으로의뢰받아 식기세척기판매', '0'], ['소비자대상소매로 과일가게에서 각종과일판매', '0'], ['치킨집 직접조리하여 판매 치킨판매배달', '1'], ['불교 암자에서 신도 상대로 기도,포교활동', '3'], ['떡집에서 일반고객대상 수제떡판매', '2'], ['사업장에서 배를 이용하여 해외로 중고차 수출', '0'], ['미용실에서 일반고객에게 커트.염색 서비스', '3'], ['사업장에서 고객을 대상으로 계약및 중개', '6'], ['무용학원에서 일반인 대상으로 째즈 댄스', '5'], ['한약방에서 일반고객에게 한약소매', '0'], ['매장에서 일반소비자에게 소매 침구셋트판매', '0'], ['채소가게에서 일반소비자에게 표고버섯, 송이버섯 소매', '0'], ['비닐봉투 공장 에서 일반 소비자에게 비닐류 봉지등 판매', '0'], ['사업장에서 일반소비자에게 화장품을 판매', '0'], ['부동산 중개소에서 중개및계약을통해 중개서비스', '6'], ['건설현장에서 사업체의 요청으로 방수공사', '8'], ['사업장에서 고객을 대상으로 애완동물용품판매', '0'], ['사업장 병원을 대상으로 치과의료용장비', '0'], ['용달화물자동차로 고객의 요청으로 화물운송서비스', '4'], ['분식점에서 간이음식조리 김밥.국수', '1'], ['생명보험영업소에서 고객을대상으로 생명보험상품판매', '13'], ['사업장에서 접객시설을갖추고 쌀국수', '1'], ['용달화물자동차로 고객의 요청으로 화물운송서비스', '4'], ['일반인을 대상으로 가구매장 중고가구판매', '0'], ['운수업 일반소비자를대상으로 택시 운송업', '4'], ['식당에서 접객시설을갖추고 회판매', '1'], ['매장에서 일반인을 대상으로 아이폰과 아이패드수리', '3'], ['음식점에서 접객시설을갖추고 인도,네팔음식', '1'], ['주유소에서 주유시설를갖추고 차량용액체연료판매', '0'], ['영업장에서 주문,판매 자산관리 소프트웨어 개발', '12'], ['사업장에서 접객시설을갖추고 호프,소주', '1'], ['제과점에서 접객시설을갖추고 빵', '1'], ['요양센터에서 노인을 입소시켜 요양서비스', '7'], ['치과의원 외래환자 치과진료', '7'], ['음식점에서 접객시설갖추고 순대국', '1'], ['육류 가공발골하여 도매', '0'], ['교회 기독교계통 종교서비스', '3'], ['영업장에서 접객시설을 갖추고 주류,스테이크', '1'], ['환자 사업장 일반환자대상 조제 일반의약품', '0'], ['개인택시로 일반인을 대상으로 승객운송서비스', '4'], ['상가에서 악세사리 도매', '0'], ['매장에서 일반소비자에게 보일러 판매', '0'], ['건물에서 고객의 요청에 의해 미장타일공사', '8'], ['개별화물자동차로 고객의 요청으로 화물운송서비스', '4'], ['카페에서 접객시설을 갖추고 커피,음료', '1'], ['분양대행  ', '6'], ['건축설계및관련서비스업  ', '10'], [',매장 일반소비자에게 소매 안경,콘택트렌즈,선글라스', '0'], ['사업장에서 의뢰를 받아 견인차운영 서비스', '4'], ['가게에서 일반인을 대상으로 농기계수리', '2'], ['수선집 의류전문적으로 옷수선', '3'], ['숙박시설에서 일반고객에게 숙박업', '1'], ['부동산중개소 계약에의거 부동산중개서비스', '6'], ['건축자재 도소매 가설재', '0'], ['수학학원 학생들에게 수학교육', '5'], ['산후조리원에서 산모를 대상으로 산후조리서비스', '3'], ['노래연습장 서비스업 노래연습', '9'], ['PE, MC(양면테이프) 원재료입고, 압출 ', '2'], ['사업장에서 고객요구에의해 보일러배관설치', '8'], ['사업장에서 수입.수출 종합상품 도매업', '0'], ['식당에서 접객시설을 갖추고 돼지고기', '1'], ['사업장에서 고객을대상으로 요가.필라테스', '5'], ['용달화물자동차로 고객의 요청으로 화물운송서비스', '4'], ['이발관에서 일반인 대상으로 컷트, 염색 제공', '3'], ['개별화물자동차로 고객의 요청으로 화물운송서비스', '4'], ['접객시설을 갖추고 사업장에서 햄버거 판매', '1'], ['사업장에서 고객을 대상으로 사무용가구제조', '2'], ['음식점에서 접객시설을 갖추고 한국음식을 판매', '1'], ['학원에서 학생대상 피아노학원', '5'], ['가게에서 일반인 대상으로 구두수선', '3'], ['음식점에서 접객시설을 갖추고 흑돼지오겹살,삼겹살,목살', '1'], ['구입한스텐인레스를 성형및컷팅 써스파이바제조', '2'], ['일반고객 전자거래 분재,소품판매', '0'], ['음식점업 일반인을 대상으로 치킨', '1'], ['매장에서 일반인을 대상으로 부대찌개 포장판매', '1'], ['o.t.c, dextrose.auhydrous 원료수입, 투입준비 ', '2'], ['사업장에서 접객시설을갖추고 샌드위치', '1'], ['주점에서 접객요원및무도시설없이 소주맥주', '1'], ['사업장에서 침구류린넨류제조 린넨제조', '2'], ['영업장에서 고객을대상으로 필라테스', '5'], ['문구용품 소매업자에게 문구류크레파스.물감등 도매ㅑ', '0'], ['백화점에서 일반소비자대상으로소매 남성용점장', '0'], ['노래방 고객 노래방운영', '9'], ['객실을이용 호텔에서 숙박', '1'], ['미술학원에서 학원생을 대상으로 미술교육', '5'], ['편의점에서 체인계약을 체결하여 식료품,담배판매 소매', '0'], ['헤어샵에서 일반인들에게 퍼머,염색,커트', '3'], ['택배  ', '4'], ['학원에서 학생들을 대상으로 외국어교육', '5'], ['도서관에서 시각장애인을 대상으로 무료도서대출', '9'], [' 치킨 전문점 ', '1'], ['어린이집에서 보호자로부터 위탁을받아 취학전유아교육서비스', '7'], ['매장에서 일반인대상으로 캠핑용품', '0'], ['매장에서 일반소비자 대상으로 휴대폰 소매', '0'], ['매장에서 일반인에게 밥버거판매', '1'], ['팬션 일반인에게 숙박서비스', '1'], ['편의점에서 고객대상 생활용품판매', '0'], ['현장에서 고객요구에따라 인테리어공사', '8'], ['개별화물자동차로 고객의 요청으로 화물운송서비스', '4'], ['매장에서 일반소비자에게 애벌레소매', '0'], ['매장에서 일반고객을 대상으로 생화 소매', '0'], ['공업사 화물트럭 자동차종합수리', '3'], ['음식점 간이음식조리 순대 떡볶이', '1'], ['매장에서 소비자에게 정수기대여.관리', '11'], ['사업장에서 일반인대상으로 필라테스강습', '5'], ['학원에서 중고학생대상으로 수학학습', '5'], ['치과에서 외래환자위주로 치과진료', '7'], ['개별화물자동차로 고객의 요청으로 화물운송서비스', '4'], ['개별화물자동차로 고객의 요청으로 화물운송서비스', '4'], ['사무실에서 고객대상으로 생명보험', '13'], ['음악학원 학생을대상으로 피아노교습', '5'], ['사업장에서 고객의요청에의해 떡제조', '2'], [' 비주거용 건물을 고객에게 임대 ', '6'], ['개인택시로 일반인을 대상으로 승객운송서비스', '4'], ['음식점에서 접객시설갖추고 보신탕', '1'], ['사업장에서 다른소매업자에게 벽지,장판 도매', '0'], ['가스충전소 일반소비자에게소매 차량용L.P.G', '0'], ['영업장 일반인을 대상으로 속눈썹연장', '3'], ['사업장에서 고객요구에 따라 실내인테리어', '8'], ['롯데아울렛 매장에서 일반소비자에게 남녀 캐주얼의류 소매', '0'], ['종이 입고.재단 트레이(종이접시)', '2'], ['음식점에서 일반인 대상으로 팥죽제공', '1'], ['법률사무소에서 의뢰인을 대리하여 변호언론', '10'], ['개인택시로 일반인을 대상으로 승객운송서비스', '4'], ['기타 물품 취급장비 제조업  ', '2'], ['한식점에서 접객시설을 갖추고 장어구이등판매', '1'], ['와이어하네스를 가공하여 유.무선통신장비', '2'], ['매장에서 일반인을대상으로 핸드백,여행가방소매', '0'], ['매장에서 일반소비자를 대상으로 소매 생화', '0'], ['영업장에서 일반소비자에게 의류판매', '0'], ['사업장에서 즉석에서조리하여 핫도그', '1'], [' 요리주점 ', '1'], ['한방오리전문점  ', '1'], ['라이온스클럽에서 사회봉사단체 사회봉사', '3'], ['개인택시로 일반인을 대상으로 승객운송서비스', '4'], ['부동산에서 계약에 의거 부동산중개', '6'], ['매장에서 일반인의 의뢰를 받아 복사, 제본서비스 제공', '11'], ['생수 생산하여 샘물판매', '2'], ['협의회에서 농업인을 위하여 권익보호및 농업의 발전에 기여단체', '3'], ['노래방에서 노래방기기를 갖추고 노래방운영', '9'], ['사업장에서 소매업자에게 수산물도매', '0'], ['세？소에서 의류서비수제공 각종의류세탁', '3'], ['장학재단에서 자선단체에 공익문화사업', '3'], ['분식점에서 간이음식조리 떡볶이', '1'], ['학원에서 일반인에게 수경재배교육', '5'], ['부동산에서 계약에의거 부동산중개', '6'], ['광고물 설계 업체와의 계약에 의하여 광고물 작성대리', '10'], ['단기간의 숙박시설운영  ', '1'], ['폐수처리장에 쓰이는 고분자 응집제(여과포) 사업장에서 환경약품 도매', '0'], ['교습소에서 초,중,고등학생 대상으로 수학지도', '5'], ['목재 규격에의해제작 상자파레트', '2'], ['일반고객대상 영화관에서 영화상영', '12'], ['금속제 고객요청에 ㄸ라 난간 설치공사', '8'], ['매장에서 일반소비자에게 유아의류및 용품소배', '0'], ['사업장에서 산업사용자 대상으로 육류도매', '0'], ['음식점에서 접객시설을 갖추고 낙지볶음', '1'], ['약국에서 일반인대상 각종의약품,조제약판매', '0'], ['미용실에서 고객대상 파마.염색', '3'], ['사업장 일반 고객에게 한의원', '7'], ['우정사업본부 우편관리.규제및허가 통신 및 우편 관리행정', '14'], ['태권도 학원에서 학생들및 일반인 대상으로 태권도 강습', '5'], ['건강원에서 일반소비자를대상으로제조 양파즙,배즙', '2'], ['미장원 두발미용서비스 파마,커트,염색', '3'], ['개인택시로 일반인을 대상으로 승객운송서비스', '4'], ['식당에서 접객시설을 갖추고 일본식 덮밥,라면', '1'], ['부동산 고객의 의뢰에 의해 부동산 중개 및 대리', '6'], ['슬래그파우더, 포천랜트시멘트 분쇄, 배합 ', '2'], ['음식점에서 접객시설을갖추고 중국은식,밀면', '1'], ['치킨집에서 일반소비자 대상 치킨 등', '1'], ['태권도학원에서 학생,일반인들에게 태권도강습', '5'], ['음식점에서 접객시설을갖추고 백반정식', '1'], ['교회에서 기독교계통 종교활동 종교서비스', '3'], ['과일,야채, 한약재를 가열착압하여 과일,야채 엑기스', '2'], ['사무실에서 종합건강관리 서비스', '7'], [' 접객시설에서 차돌구이판매 ', '1'], ['제품 디자인 고객의 주문에 의햅 인테리어 가구 디자인', '10'], ['제조 자동선반 전기,전자부품', '2'], ['주방용품 및 가정용 유리, 요업제품 소매업  ', '0'], ['T/C,망사.다우다 베개속통제조납품 베개속', '2'], ['미용실에서 일반인을대상으로 퍼머.염색서비스', '3'], ['용달화물자동차로 고객의 요청으로 화물운송서비스', '4'], ['사업장 일반인대상 소독.방제서비스', '11'], ['미장원에서 두발미용서비스 제공 머리자르기, 염색 등', '3'], ['음식점에서 접객시설을 갖추고 냉면,칼국수', '1'], ['P.P 봉재 마대도매', '2'], ['사업장에서 고객의의뢰를받아 창호공사업', '8'], ['매장에서 다른소매업자에게 도매 볼트,너트', '0'], ['사업장에서 학교,식당으로 농수산물 납품', '0'], ['가게에서 소매업자에게 어묵,맛살,훈제어류등 도매', '0'], ['개인택시로 일반인을 대상으로 승객운송서비스', '4'], ['CELL(셀), 케이스 프론트크립, 프론트,미들조립 ', '2'], ['영업점에서 접객시설을 갖추고 한식 판매', '1'], ['사업장에서 도매 오일여과기', '0'], ['사무실에서  화장품원료인화학제품도매', '0'], ['음식점에서 접객시설을갖추고 치킨', '1'], ['사무실에서 고객대상으로 변호사업', '10'], ['개별화물자동차로 고객의 요청으로 화물운송서비스', '4'], ['고객의요구장소에서 고객의요구에따라 에어컨세척,A/S서비스', '3'], ['사업장에서 장애아동대상으로 언어미술교육서비스', '7'], ['매장에서 고객 대상으로 떡볶이,튀김 판매', '1'], ['사업장에서 고객대상으로 등공예품', '0'], ['매장에서 일반고객 의류', '0'], ['편의점에서 체인계약을맺고 음식료품판매', '0'], ['소매업자에게 사업장에서 마 도매', '0'], ['영업장에서 고객을 대상으로 커피등 음료제공', '1'], ['용달화물자동차로 고객의 요청으로 화물운송서비스', '4'], ['영업장에서 일반소비자대상으로 빵,케？판매', '0'], ['고객의 요청으로 사업장에서 시각디자인서비스', '10'], ['노래방에서 접객시설을 갖추고 술을 판매하는 유흥주점  ', '1'], ['사무실에서 고객 임대업', '6'], ['건어물점에서 일반소비자에게 미역,다시마등 건어물소매', '0'], ['사업장에서 고객을 대상으로 갈치,고등어등 판매', '0'], ['의류 잡화 일반소비자에게 의류 신발 판매', '0'], ['주유소에서 일반인을 대상으로 휘발유,경유판매', '0'], ['당구장에서 기기를갖추고 당구게임제공', '9'], ['영업장에서 고객을 대상으로 반찬소매를', '2'], ['매장에서 일반소비자에게 여성복판매', '0'], ['음식점에서 접객시설갖추고 돼지고기', '1'], ['개인택시로 일반인을 대상으로 승객운송서비스', '4'], ['사무실 고객의뢰 인터넷광고', '10'], ['사업장에서 일반소비자 대상 조미제 식품 소매', '0'], ['수선집 일반인에게 옷수선서비스', '3'], ['파마,염색약을 가지고 일반인들에게 파마,염색,컷트서비스', '3'], ['미장원에서 두발미용서비스제공 머리자르기.염색등', '3'], ['승마장에서 일반인대상 승마체험', '9'], ['악기 일반인을대상으로 악기지도', '5'], ['아파트관리사무소 아파트입주자를위하여 주거용아파트관리서비스', '6'], ['댄스장에서 회원대상 무용연습등 동우회', '3'], ['미용실에서 일반인을 대상으로 파마 염색 커트등 서비스', '3'], ['용달화물자동차로 고객의 요청으로 화물운송서비스', '4'], ['종이(골판지) 절단,접합 종이상자', '2'], ['냉동장치제조 절삭가공 냉동장치제조', '2'], ['접객시설을 갖추고 매장에서 햄버그,치킨판매', '1'], ['사업장에서 일반인을 대상으로 토목설계', '10'], ['영업장에서 접객시설을 갖추고 중국음식', '1'], ['고객이 요청한 장소 고객의 요청에 의해 수리 보일러수도누수난방방수등', '3'], ['음식점에서 접객시설을 갖추고 일본음식', '1'], ['EPS 부직포마감 제조', '0'], ['고객의뢰에따라 고객사업시설에서 시설유지관리', '11'], ['사업장에서 소매업자에게 전자부품,반도체', '0'], ['개별화물자동차로 고객의 요청으로 화물운송서비스', '4'], ['슈퍼에서165㎡미만 일반소비자를 대상으로 음,식품및 잡화 소매', '0'], ['상담소에서 청소년을 대상으로 청소년심리상담', '7'], ['학원에서 일반인대상으로 댄스교육', '5'], ['약국에서 일반소비자대상 약,약조제,약판매', '0'], ['일반소비자에게소매 대형할인매장에서 식료품.비품', '0'], ['매장에서 소매업자에게 전기부품 도매(전기용기계장비)', '0'], ['절에서 불교 계통 종교 서비스', '3'], ['우편취급소에서 우편물 수집하여 우편물접수', '12'], ['가게에서 접객시설갖추고 보리밥', '1'], ['법률서비스 고객대상 법률상담', '10'], ['개인택시로 일반인을 대상으로 승객운송서비스', '4'], ['일반소비자에게 매장에서 벽지 장판류 판매', '0'], ['가게에서 비가공해산물소매 고등어', '0'], ['중국에서 수입한 세라믹파우더,알루미나분말 산업사용자에게판매', '0'], ['편의점에서 체인계약을 체결하여 식료품 담배소매', '0'], ['중학교에서 중학생을 대상으로 교육학습', '5'], ['사업장에서 친환경 주택사업으로 관련해서 목조 수입하여 건축자재 목조 판매', '0'], ['교육서비스 일반인대상으로 태권도', '5'], ['개인택시로 일반인을 대상으로 승객운송서비스', '4'], ['음식점에서 접객시설을갖추고 낙지볶음,연포탕', '1'], ['개별화물자동차로 고객의 요청으로 화물운송서비스', '4'], ['기원에서 바둑시설을 갖추고 바둑기원운영', '9'], ['개별화물자동차로 고객의 요청으로 화물운송서비스', '4'], ['개별화물자동차로 고객의 요청으로 화물운송서비스', '4'], ['사업장에서 일반인 대상으로 남여의류(셔츠외) 소매', '0'], ['사업장에서 전기안전,시설물점검 안전관리대행업무', '10'], ['철,스텐 냉간단조 자동차 부품,리벳,장볼트 제조', '2'], ['사업장 재단미싱 임가공', '2'], ['사무실에서 태양광설치업체와개인 중개', '11'], ['식당에서 접객시설을 갖추고 국밥판매', '1'], ['부동산중개소 부동산 전,월세,매매', '6'], ['한약국에서 일반소비자에게 감기약, 보약', '0'], ['편의점에서 체인계약을 체결해 소매 음식료품 위주', '0'], ['매장에서 소매업자에게 채소류도매', '0'], ['매장에서 고객 대상 숙녀복 판매', '0'], ['아파트관리사무소에서 아파트입주자를위하여 주거용 아파트 관리서비스', '6'], ['개인택시로 일반인을 대상으로 승객운송서비스', '4'], ['개인택시로 일반인을 대상으로 승객운송서비스', '4'], ['음식점에서 간이음식 조리하여제공 떡볶이판매', '1'], ['사업장에서 도매 화장품 원료 무역', '0'], ['건설현장에서 업체로부터수주받아 토목시설물건설', '8'], ['사업장에서 고객의 의뢰로 피아노 수리', '3'], ['음식점에서 접객시설을 갖추고 한국식 회', '1'], ['개인택시로 일반인을 대상으로 승객운송서비스', '4'], ['사업장에서 고객의뢰로 부동산중개', '6'], ['전주성모간호교육학원에서 일반인을대상으로 간호조무사양성', '5'], ['음식점에서 접객시설을 갖추고 곱창', '1'], ['각종안주 세척,손질,포장 안주배달', '1'], ['사업장에서 고객대상으로 속눈섭 문신', '3'], [' 필라테스 시설 운영 ', '9'], ['부동산중개소 계약에 의거부동산중개 부동산중개서비스', '6'], ['영업장에서 일반인을대상으로 음식료품위주 소매업', '0'], ['커피전문점에서 접객시설을갖추고 커피제공', '1'], ['매장에서 학생대상으로 학생교복', '0'], ['관리사무소에서 아파트입주민들을위한 공동주택관리', '6'], ['세탁소 고객을 대상으로 세탁,다림질', '3'], ['고객의 주문을 받아 영업장에서 정수기설치', '3'], ['약국에서 일반인대상으로 약제조및판매', '0'], ['사찰 호국불교호예종 종교 활동 불교종교서비스 제공', '3'], ['사업장에서 기구를 이용한 운동 헬스', '9'], ['안경점 소매업 각종 안경', '0'], ['상가에서 소매업자에게 도매 의류', '0'], ['수련원에서 일반인들을  대상으로 체력단련', '9'], ['부동산중개소에서 계약및 중개등을 통해 수수료를 받음 부동산거래 중개서비스', '6'], ['학원에서 학생들에게 미용교육제공', '5'], ['개별화물자동차로 고객의 요청으로 화물운송서비스', '4'], ['현장에서 소방시설공사  스프링클러', '8'], ['피아노 학원에서 학생을 대상으로 피아노 교육', '5'], ['원사 카바링 카바링사(화학섬유)', '2'], ['사무실에서 세무관련 업무 의뢰를 받아서 세무조정 기장대리', '10'], ['건축설계 및 관련 서비스업  ', '10'], ['의료기 수입 소매업자에게 납품', '0'], ['가게에서 고추등 곡물분쇄 고추등 가루제조', '2'], ['폐전선 수집, 운반 비철금속수집,도매', '0'], ['마사지샵에서 일반인 대상으로 피부마사지', '3'], ['사업장에서 각종 인쇄물프린트 인쇄(명함인쇄)', '2'], ['지부에서 제과점을대상으로 회원관리,각종행사주최,이익향상 도모', '3'], ['커피점 접객시설을갖추고 원두커피', '1'], ['동물병원에서 애완견 동물을 대상 질병예방 치료 서비스', '10'], ['주물 선반임가공 중장비폐달제조', '2'], ['사업장에서 산업사용자대상으로 생활용품', '0'], ['교회에서 설교.예배 종교서비스', '3'], ['중개를 통하여 사업장에서 종합무역', '0'], ['일반인대상 오디오,기록물녹음 음반녹음', '12'], ['화장품  ', '0'], ['사업장에서 체인화된 편의점 편의점 운영', '0'], ['매장에서 일반소비자를 대상으로 화장품', '0'], ['내수면에서 새우를 양식', '16'], ['철사를 제조가공하여 철망생산', '2'], ['아파트관리사무소에서 아파트입주자를 위해 주거용 아파트관리서비스', '6'], ['용달화물자동차로 고객의 요청으로 화물운송서비스', '4'], ['사무실에서 디지털 장비 에니메이션 제작', '12'], ['개별화물자동차로 고객의 요청으로 화물운송서비스', '4'], ['매장에서 일반인대상으로 프린터기,복합기등판매', '0'], ['음식점에서 접객시설을 갖추고 삼겹살구이,돼지갈비', '1'], ['사업장에서 개발용 응용소프트웨어개발', '12'], ['개별화물자동차로 고객의 요청으로 화물운송서비스', '4'], ['떡집에서 일반소비자대상으로 각종떡제조판매', '2'], ['고물상에서 고철,폐지등을 수집하여 재생용 재료 수집', '0'], ['상가에서 소매업자에게 도매 여성의류', '0'], ['사업장에서 고객특정메세지 전달 그래픽 디자인 제공', '10'], ['카센타에서 자동차의 특정부분만전문적으로수리 경정이 타이어내장수리서빗스제공', '3'], ['수협위판장내 회센타 도소매 수산물(활어,선어,패류)', '0'], ['음식점에서 접객시설을 갖추고 곱창및돼지고기등제공', '1'], ['철 금형제작 철기공용금형제조', '2'], ['영업장에서 기업체를 대상으로 복사기 렌탈', '11'], ['매장 도소매업자에게 전구 콘센트 소켓', '0'], ['사업장에서 출산가정에 의뢰받아 산후도우미 서비스', '7'], ['매장에서 원단을 가지고 소품제작', '2'], ['매장에서 일반인대상 아웃도어,신발', '0'], ['인테리어회사 소매 건축자재', '0'], [' 도서관 운영 ', '9'], ['사업장에서 전자부품 도매업', '0'], ['미장원ㅇ서 고객을대상으로 커트파마염색', '3'], ['철 절삭가공 기계부품', '2'], ['기타 자동차 신품 부품 및 내장품 판매업  ', '0'], ['미장원 두발 미용 서비스 제공 파마, 컷트, 염색', '3'], ['용달화물자동차로 고객의 요청으로 화물운송서비스', '4'], ['사업장에서 주문의뢰받아 전기부품(배전반)제조', '2'], ['한식점에서 접객시설을갖추고 김치찌개등가정백반', '1'], ['연수원에서 직원을 대상으로 연수원제공', '5'], ['학원에서 중고생 대상으로 교과 교육 서비스', '5'], ['데무에서 일반소비자에게 여성의류소매', '0'], ['접객시설을 갖추고 커피 등 판매  ', '1'], ['상가관리 사무실에서 상가입주자를 위하여 상가시설 유지관리 서비스', '6'], ['매장에서 일반소비자에게 소매 바닥재,비닐,장갑', '0'], ['음식점에서 접객시설갖추고 국수', '1'], ['소매 의류 아동,옷', '0'], ['음식점에서 접객시설을갖추고 추어탕', '1'], ['미용실에서 두발미용서비스 파마,염색,머리자르기', '3'], ['사업장에서 의뢰에 의해 부동산임대업중개', '6'], ['치즈를 가지고 소매업자에게 치즈도매', '0'], ['종교계통 기독교계통 종교서비스', '3'], ['매장에서 일반소비자대상 화장품', '0'], ['마사지샵에서 고객에게 피부미용', '3'], ['대리점통해 사업장에서 의료수술용 내시경 기구', '0'], ['개별화물자동차로 고객의 요청으로 화물운송서비스', '4'], ['무도학원에서 회원대상 댄스교습', '5'], ['호프집에서 접객시설갖추고 호프', '1'], ['태권도장에서 서비스 태권도 강습', '5'], ['헬스장에서 아파트 주민 대상으로 체력단련시설', '9'], ['미용실에서 일반인대상으로 커트,파마', '3'], ['곰탕  ', '0'], ['음식점에서 접객시설을갖추고 한식 오리백숙', '1'], [' 실내 인테리어 공사 ', '8'], ['개인택시로 일반인을 대상으로 승객운송서비스', '4'], ['동 선반.가공.밀링 용접기및기계장치 제조', '2'], ['커피숍에서 접객시설을 갖추고 커피 제공', '1'], ['사무실에서 고객들의요청으로 자동차번호등록대행', '11'], ['카메라,모니터 조립 안구운동감시장치', '2'], ['사무실에서 고객의 의뢰로 화물운송', '4'], [' 제과,제빵 ', '1'], ['기타금융  ', '13'], ['철판,아크릴,전기배선 후레임제작,실사출력,전기배선,조립 LED체널간판', '2'], ['이발소에서 손님에게 이발소', '3'], ['모텔에서 숙박시설을 갖추고 숙박서비스', '1'], ['방화문 착색.도장.법랑처리등 방화문도장', '2'], ['사업장에서 도소매 자동차관련기기,사무기기', '0'], ['이용원에서 고객을대상으로 컷트,면도서비스', '3'], ['이발소에서 일반소비자들에게 커트면도등서비스', '3'], ['미용실에서 일반인들 대상으로 컷트 파마 염색', '3'], ['사업장에서 고객을 대상으로 중고책 판매', '0'], ['커피숍에서 접객시설을갖추고 커피,음료제공', '1'], ['노래방에서 고객들에게 노래연습장 서비스', '9'], ['의뢰를 받아서 커텐을 제작하여 설치 케텐,이불판매', '2'], ['약국에서 일반소비자에게소매 의약품', '0'], ['음식점에서 접객시설을  갖추고 메밀묵등을판매', '1'], ['관리사무소에서 일반아파트주민을 위한 아파트관리', '6'], ['직접판매할 수 있는 매장 일반소비자에게 소매 깍두기, 부추김치등', '0'], ['공장에서 꾸지뽕.작두콩가공하여 작두콩차,꾸지뽕차', '2'], ['세탁소에서 일반인을 대상으로 세탁 다림질', '3'], ['상가점포를 가지고 임대를 통하여 사무실 임대', '6'], ['노래클럽에서 접객시설을 갖추고 맥주 양주', '1'], ['사업장에서 소매사업자에게 생활잡화도매', '0'], ['요양센터에서 재가방문하여 방문요양 노인돌봄', '7'], ['일반인,기업대상으로 보험계약체결을 대리,중개', '13'], ['제화점에서 일반소비자에게 남,여구두 제조판매', '2'], ['개인택시로 일반인을 대상으로 승객운송서비스', '4'], ['미용실에서 고객을대상으로 파마.커트.염색', '3'], ['미용실에서 고객대상으로 두발서비스', '3'], ['철강 입고, 형틀가공 ', '2'], ['음식점에서 접객시설을갖추고 부대찌개등판매', '1'], ['상가에서 소매업자에게도매 의류', '0'], ['화물차량으로 고객을대상으로 화물운송서비스', '4'], ['비가공된 굴을 가지고 중개를 통하여 굴중개', '0'], ['일반매장에서(165~3000㎡) 일반소비자에게 음식료품위주', '0'], ['골프연습장에서 일반인대상으로 골프연습서비스', '9'], ['중개사사무실에서 수수료를받고 전월세 매매', '6'], ['주유소에서 주유시설을갖추고 차량용연료소매', '0'], ['자동차를 용접,도장하여 수리 서비스', '3'], ['사업장에서 의뢰인의 의뢰를 받아 부동산임대', '6'], ['사업장에서 일반인에게 의약품을소매판매', '0'], ['사업장 고객의요구에 따라 간판제조', '2'], ['사진관또는 다른장소에서 일반인 대상으로 사진촬영 서비스 여권사진,행사비디오촬영', '10'], ['장문볼락, 오징어 원재료입고, 해동 ', '2'], ['의뢰고객에게 방문하여 정수기교체,신규설치', '3'], ['상가에서 소매업자에서 도매 원피스,브라우스', '0'], ['건강원에서 직접 달여 판매 식이용가공식품', '2'], ['영업장에서 일반고객을 상대로 컴퓨터게임', '9'], ['철판.봉 절단.용접.조립 환경설비(배기장치)', '2'], ['음식점에서 접객시설을갖추고 굴국밥판매', '1'], ['목욕탕에서 일반고객을대상으로 대중탕', '3'], ['정미소 수배받아서 도정', '2'], ['개인택시로 일반인을 대상으로 승객운송서비스', '4'], ['사업장에서 고객의요청에의해 옷수선', '0'], ['철물점에서 일반소비자에게소매 못,망치', '0'], ['노래연습장에서 일반인을 대상으로 노래서비스', '9'], ['개별화물자동차로 고객의 요청으로 화물운송서비스', '4'], ['부동산중개소에서 일반인대상으로 부동산자문및중개업', '6'], ['노래주점에서 접객요원을 두고 맥주.양주', '1'], ['장식집에서 일반고객대상 벽지,장판시공', '8'], ['법무관련 서비스업 행정서류작성 행정사사무', '10'], ['회원제클럽에서 접객시설을 갖추고 한정식', '1'], ['사업장에서 고객을 대상으로 커트, 파마, 염색', '3'], ['음식점에서 접객요원없이 소주, 맥주', '1'], ['교회에서 기독교계통종교활동 종교서비스', '3'], ['주점에서 접객시설을 갖추고 소주,맥주', '1'], ['음식점에서 접객시설없이 배달 베트남쌀국수', '1'], ['당구장에서 일반인 대상으로 당구장', '9'], ['매장 일반인대상으로 마사지', '3'], ['편의점에서 체인계약을체결하여소매 음식료품위주', '0'], ['rockwodfelt 자재입고, 보온자재시공 ', '2'], ['매장에서 소매업자를 대상으로 한복도매', '0'], ['음식점에서 접객시설을 갖추고 삼겹살,된장찌개등 제공', '1'], ['일반광고주를상대로도매 매장에서 선케이블,전자부품,광고자재', '0'], ['도소매 일반소비자 과실및채소', '0'], ['간이주점,한식,일식  ', '1'], ['초등학교 초등교육기관 초등교육', '5'], ['금속 캔 도장 ', '2'], ['전자상거래(중고명품)  ', '0'], ['숙녀복가계에서 일반소비자에게 여성겉옷소매', '0'], ['강화유리 제단, 연마 ', '2'], ['영업장에서 산업사용자에게 배관장치도매', '0'], ['여관에서 일반인을 대상으로 숙박서비스 제공', '1'], ['스텐 절삭가공 수도배관부품', '2'], ['영업장에서 일반인을 대상으로 납골당시설분양 관리', '3'], ['보육시설에서 부모로 부터 위탁받은 유아를 대상으로 유아 조기교육', '7'], ['개별화물자동차로 고객의 요청으로 화물운송서비스', '4'], ['용달화물자동차로 고객의 요청으로 화물운송서비스', '4'], ['아파트관리소에서 입주자를위해서 주거용아파트관리서비스', '6'], ['미용실에서 일반인을대상으로 파마,커트,염색', '3'], ['약국 환자및 일반인 대상 약 조제및 의약품판매', '0'], ['매장 접객시설을 갖추고 햄버거', '1'], ['안과에서 외래환자위주로 안질환,각막염진료', '7'], ['아파트 관리소에서 주민들을 위하여 아파트 관리 업무', '6'], ['커피전문점에서 접객시설을갖추고 원두커피제공', '1'], ['음식점에서 접객시설을 갖추고 생선구이 판매', '1'], ['사업장에서 온라인을 이용하여 생활용품', '0'], ['스텐레스.대리석 절단,접합하여 씽크대 제조(금속제)', '2'], ['매장에서 접객시설을갖추고 샌드위치와음료', '1'], ['네일샵에서 일반인대상 손톱미용서비스', '3'], ['사무실에서 일반인 대상으로 현수막,광고물 제작', '2'], ['페인트매장에서 건설업자에게 페인트(유성,무성) 도매', '0'], ['옷가게에서 일반소비자에게 여성의류', '0'], ['접객시설을 갖추고 손님에게 김밥등분식제공', '1'], ['공구 도소매업 철물및수공구', '0'], ['매장에서 일반인대상으로 중국식품소매', '0'], ['노인일자리 개발을 위해 사무실에서 노인일자리 공급및연계', '7'], ['음식점에서 접객시설을갖추고 족발', '1'], ['음식점에서 접객시설을 갖추고 돈까스 판매', '1'], ['맛사지샵에서 일반인 대상으로 맛사지 서비스', '3'], ['화물차를 이용하여 고객의 의뢰를 받아 택배서비스', '4'], ['한약방에서 일반소비자에게 판매 한약', '0'], ['약국에서 외래 처방전에의한 조제 처방 의약품', '0'], ['학원에서 학생대상 음악학원교육', '5'], ['매장에서 일반 소비자에게 소매 숙녀티,바지,치마', '0'], ['사업장에서  인쇄', '2'], ['프로그램 일반인대상 수강', '5'], ['매장 일반소비자에게 타이어', '0'], ['고정광원을 갖지않은 광고물기획 제작', '2'], ['미용실에서 고객들을 대상으로 파마 커트 염색', '3'], ['교회 일반신자들 대상으로 기독교', '3'], ['양식  ', '1'], ['사무실에서 일반인상대 노래교습', '5'], ['용달화물자동차로 고객의 요청으로 화물운송서비스', '4'], ['한의원 환자대상으로 한약조제외 의료서비스', '7'], ['상가에서 소매업자에게도매 블라우스', '0'], ['특장차,건설기계 제조업 특장차', '2'], ['사업장에서 산업사용자에게 샷시제조', '2'], ['시장에서 소매업자에게 도매 양파, 감자등', '0'], ['개인택시로 일반인을 대상으로 승객운송서비스', '4'], ['사진관에서인물촬영  ', '10'], ['개인택시로 일반인을 대상으로 승객운송서비스', '4'], ['요양시설에서 요양등급판정자대상 목욕대화숙식요양서비스', '7'], ['식당에서 접객시설을 갖추고 행장국 판매', '1'], ['학원에서 학생들을 대상으로 수학교습', '5'], ['악세서리 매장에서 소비자판매 목걸이 팔찌', '0'], ['알미늄비렛트 압출, 교정 ', '2'], ['철선 용접 철망제조', '2'], ['미장원 두발미용서비스 커트,파마', '3'], ['음식점에서 간이음식을 조리하여제공 라면 떡볶이', '1'], ['신발 소매 ', '0'], ['식당에서 접객시설을 갖추고 메기 매운탕 제공', '1'], ['치과에서 외래환자 위주로 치과,치료 서비스', '7'], ['재단에서 예술문화사업지원 단체', '3'], ['피아노교습소에서 학생들을 대상으로 피아노 지도', '5'], ['어린이집 보호자로부터 위탁받아 유아및 취학전 어린이를 보육한다', '7'], ['음식점에서 배달주문 한식제공배달', '1'], ['건설현장에서 고객 요구에 따라 단독주택건설', '8'], ['구내식당에서 음식을 조리하여 식사제공', '1'], ['사업장 접객시설을갖추고 족발', '1'], ['매장에서 일반소비자에게 소매 의류,셔츠소매', '0'], ['환경오염측정평가 환경컨설팅및관련 엔지니어링 환경컨설팅및관련 엔지니어링', '10'], ['매장에서 도매 악세사리', '0'], ['아파트 관리소에서 아파트 입주자를 위하여 주거용 아파트 관리', '6'], ['매장에서 접객시설갖추고 음료판매', '0'], ['구입한철판으로 절단,절합하여 금속,창,셔터문제조', '2'], ['부동산중개및컨설팅 부동산업 ', '6'], ['개인택시로 일반인을 대상으로 승객운송서비스', '4'], ['세탁소에서 드라이크리닝서비스 빨래', '3'], ['음식점에서 접객시설을 갖추고 생선어죽,생선조림', '1'], ['청과에서 일반인에게 야채', '0'], ['고객의의뢰받아 영업장에서 부동산자문및중개', '6'], ['사업장에서 채굴 석회석', '18'], ['어린이집에서 관할지역인가를받아 취학전아동보육', '7'], ['개인택시로 일반인을 대상으로 승객운송서비스', '4'], ['병원에서 외래환자위주로 산부인과', '7'], ['수집된 소화물을 가지고 육상수단으로 택배서비스', '4'], ['사업장에서 전자랜드 사업시설유지관리', '11'], ['접객시설을 갖추고 손님들에게 음식을 제공  ', '1'], ['매장에서 접객시설을 갖추고 햄버거 치킨', '1'], ['사업장에서 선박구성부분품 족장등', '2'], ['매장에서 일반소비자에게소매 여성블라우스,치마', '0'], ['사업장에서 일반인에게 악세사리판매', '0'], ['민박집에서 일반인대상으로 숙박시설제공', '1'], ['사업장에서 어린이를대상으로 놀이시설운영', '9'], ['서비스 고객의요구에의해 세탁소', '3'], ['개별화물자동차로 고객의 요청으로 화물운송서비스', '4'], ['매장에서 일반소비자소매 남성의류', '0'], ['사무실에서 고객대상 여행알선', '11'], ['네일샵에서 일반인대상으로 손톱미용서비스', '3'], ['철판 레이저절단 절곡 공작기계카바', '2'], ['각종채소,육류 조리하여 각종반찬', '2'], ['음식점에서 접객시설을갖추고 한우,막창', '1'], ['사업장에서 부동산 중개 수수료 받음.', '6'], ['식당에서 접객시설을 갖추고 족발판매', '1'], ['여인숙에서 개별룸서비스없이 일반인대상으로 숙박서비스제공', '1'], ['사업장에서 옥주드림캐슬빌라 관리', '6'], ['매장에서 일반인 대상으로 보정속옷 제공', '0'], ['사업체에서 방송영상프로그램 제작', '12'], ['매장에서 일반인들에게 주니어복판매', '0'], ['치과에서 외래환자위주로 발치충치예방치료', '7'], ['매장에서 사업체에게 통신기기 도매', '0'], ['사업장에서 일반고객을 대상으로 오토캠핑장운영', '1'], ['식당(한식,분식)  ', '1'], ['접객시설을 갖추고 음식점에서 냉면등', '1'], ['주점에서 접객요원및무도시설없이 호프,소주,맥주', '1'], ['사업장에서 사무실이용자를위하여 사무용건물관리', '6'], ['도시민박  ', '1'], ['음식점에서 접객시설을 갖추고 정식', '1'], ['일반소비자에게 매장에서 씽크대 설치 판매', '0'], ['매장에서 고객상대로 벽지,장판 판매', '0'], ['재생용 고물 수집 고물 도매업자에게 도매', '0'], ['용달화물자동차로 고객의 요청으로 화물운송서비스', '4'], ['사업장에서 인터넷 전자상거래로 보온병 및 주방용품,생활용품 소매', '0'], ['네일 샵에서 일반인을 대상으로 손톱 발톱 관리', '3'], ['사업장에서 고객의 의뢰를 받아 인쇄. 디자인', '2'], ['용달화물자동차로 고객의 요청으로 화물운송서비스', '4'], ['사무실에서 일반인대상 부동산컨설팅', '6'], ['건설현장 건설업자의요구에따라 건축 토목공사', '8'], ['미용실에서 고객에게 두발미용서비스', '3'], ['축산물중개 및 축산물 육류소매업 소고기 돼지고기', '0'], ['유토피아매장에서 일반소비자에게 아이스크림판매', '0'], ['부동산중개소 계약에의거부동산중개 부동산중개서비스', '6'], ['개인택시로 일반인을 대상으로 승객운송서비스', '4'], ['빌딩 임대를통하여 빌딩임대', '6'], ['소주방에서 접객시설갖추고 소주.맥주', '1'], ['노래방에서 노래방기기를 갖추고 노래방 운영', '9'], ['사무실에서 컴퓨터를 이용하여 웹싸이트제작', '12'], ['전선 조립 광통신부품', '2'], ['헬스클럽에서 체력단련시설을 갖추고 체력단련서비스', '9'], ['백화점에서 일반소비자에게 소매 남캐주얼', '0'], ['플라스틱 플라스틱 사출 금형 패트병 금형 제조', '2'], [' 보드게임방 운영 ', '9'], ['부동산에서 계약,중개수수료를 받고 부동산 중개업', '6'], ['사무실에서 일반인을 대상으로 생명보혐운영', '13'], ['어린이집에서 보호자로부터 위탁을 받아 취학전아동을교육', '7'], ['일반인대상으로 만화방에서 만화책대여', '11'], ['한식 포자  ', '1'], ['개인택시로 일반인을 대상으로 승객운송서비스', '4'], ['유치원에서 관할지역교육청의인가를받아 취학전아동교육', '5'], ['미장원에서 두발미용서비스제공 머리자르기,염색등', '3'], ['노인성질환을 앓고 있는 농닌을 입소시켜 요양원에서 노인양로복지시설 운영', '7'], ['세무관련업무 의뢰를받아 세무관련기장 대리', '10'], ['도로현장에서 고객의 요구에 따라 도로 포장 공사', '8'], ['유흥 주점업  ', '1'], ['노래방에서 일반인을 대상으로 노래서비스 노래방', '9'], ['학원에서 학생들에게 영어교육', '5'], ['사업장에서 일반소비자에게 가발판매', '0'], ['생산공장구입,소매 농약 일반인에게농약소매', '0'], ['수산물 세척및 조미 쥐포고등어', '2'], ['사업장에서 접객시설을갖추고 커피 제공', '1'], ['사업장에서 고객요구에 의해 건축설비', '8'], ['독서실에서 일반학생대상 독서실운영', '9'], ['매장에서 소매업자에게 잉크,토너.프린터.기타 전산용품 도매', '0'], ['상가에서 일반소매업자에게도매 귀걸이', '0'], ['사업장 해산물 회 찌개', '1'], ['주점 접객시설을 갖추고 주류판매', '1'], ['슈퍼마켓에서 일반인을대상으로 식음료소매', '0'], ['음식점에서 접객시설을 갖추고 한식 제공', '1'], ['영업장에서 고객의요구에의한 광고디자인대행', '10'], ['학원에서 수강생을 대상으로 체육입시.스포츠지도', '5'], ['고객의뢰로 사업장 기술용역', '10'], ['스텐레스, 컴퓨레샤 원자재투입, 절단 ', '2'], ['보험대리점 소비자에게 보험중개', '13'], ['미용실에서 일반인대상 퍼머,커트', '3'], ['사업장에서 고객의요구에따라 행사대행', '11'], ['매장에서 접객시설을 갖추고 생맥주를 전문 판매', '1'], ['신용협동조합 고객에게 금융판매', '13'], ['현장에서 고객의 요구에 따라 인테리어시공', '8'], ['경영컨설팅업,공공관계 서비스업  ', '10'], ['의류수선 서비스 ', '3'], ['노래방에서 접객시설을갖추고 노래방서비스', '9'], ['응용소프트웨어개발및공급 컴퓨터 응용소프트웨어', '12'], ['다방 접객시설을 갖추고 커피.음료등배달및판매', '1'], ['커피숍에서 일반인대상 커피판매', '1'], ['소비자에서 편의점에서 각종 식료품 소매', '0'], ['핸드폰 가게에서 일반소비자에게 핸드폰 소매', '0'], ['고객의 시설에서 고객을 방문하여 학습지방문교육', '5'], ['영어학원 학생들을 대상으로 영어교육', '5'], ['커피숍에서 접객시설을갖추고 커피', '1'], ['음식점에서 접객시설을 갖추고 치킨전문점', '1'], ['개별화물자동차로 고객의 요청으로 화물운송서비스', '4'], ['개인택시로 일반인을 대상으로 승객운송서비스', '4'], ['개인택시로 일반인을 대상으로 승객운송서비스', '4'], ['건축용자재(보드텍) 의뢰받아 유통', '0'], ['일반화물자동차로 고객의 요청으로 화물운송서비스', '4'], ['부동산중개소에서 계약및 수수료를 받고 부동산중개', '6'], ['개인택시로 일반인을 대상으로 승객운송서비스', '4'], ['사업장에서 고객 대상으로 인테리어 가구 판매', '0'], ['건강원에서 장비를갖추어 호박즙,배즙등판매', '2'], ['젓갈집에서 일반소비자에게소매 젓갈', '0'], ['음식점에서 접객시설을 갖추고 삼겹살등 제공', '1'], ['세탁 사업장에서 의료기관세탁물', '3'], ['매장 일반고객에게 한식제공', '1'], ['식당에서 손님에게 한식제공  ', '1'], ['보험회사에서 일반대중을 대상으로 생명보험업', '13'], [' 실내인테리어공사 ', '8'], ['가게 업체대상 샷시뭄제작', '2'], ['도매 사업장에서 자동차유압부품및관련제품', '0'], ['용달화물자동차로 고객의 요청으로 화물운송서비스', '4'], ['제과점에서 직접 제조하여 일반인에게 판매 서비스', '1'], ['음식점에서 접객시설을갖추고 쌈밥판매', '1'], ['매장에서 일반인을 대상으로 의류수선', '3'], ['미장원에서 고객대상으로 머리자르기.파마', '3'], ['카센타에서 자동차의특정부분만을 경정비,타이어,내장수리등의서비스', '3'], ['조계종절에서 종교활동 종교서비스', '3'], ['구내음식점 기관과 계약을 맺고 정식 김치찌게', '1'], ['사업장에서 고객의 요청에따라 핸드폰수리', '3'], ['매장에서 접객시설을 갖추고 곱창 판매', '1'], ['양파, 과일, 한약재 가열 및 농축하여 과일즙, 양파즙등  판매', '2'], ['서비스 일반인을 대상으로 컴퓨터수리및유지보수', '3'], ['용달화물자동차로 고객의 요청으로 화물운송서비스', '4'], ['개인택시로 일반인을 대상으로 승객운송서비스', '4'], ['사무실에서 회원의 이익향상을위해 경찰모임', '3'], ['평상복(외의)제조 원단 재단 재봉하여', '2'], ['개인택시로 일반인을 대상으로 승객운송서비스', '4'], ['동물병원에서 동물대상으로 동물진료서비스', '10'], ['음료점에서 접객시설을 갖추고 원두커피제공', '1'], ['가죽 봉제 핸들커버', '2'], ['피자집에서 접객시설없이 배달 피자', '1'], ['동대문신발상가에서 소매업자에게도매로 숙녀화', '0'], ['사업장에서 고객의의뢰를받아 측량서비스', '10'], ['매장에서 접객요원및무도시설없이 술', '1'], ['주점에서 접객시설을 갖추고 소주 맥주', '1'], ['개인택시로 일반인을 대상으로 승객운송서비스', '4'], ['커피전문점에서 접객시설을 갖추고 커피.샌드위치', '1'], ['음식점 접객시설을 갖추고 한국식회', '1'], ['생선가게에서 일반소비자에게 소매 고등어.꽁치', '0'], ['영업점에서 음식료품 위주소매 생활잡화', '0'], ['개인택시로 일반인을 대상으로 승객운송서비스', '4'], ['오락 및 취미 경기용품  ', '0'], ['사업체에서 고개요청의하여 숲가꾸기및병해충방제', '16'], ['학원에서 학생들 대상으로 미술지도', '5'], ['건물공사현장에서 고객요구에따라목재이용 벽면목공사', '8'], ['사업장에서 고객요청의거 건설폐기물운반처리', '15'], ['명태탕,정식  ', '1'], ['음식점에서 접객시설을 갖추고 돈까스', '1'], ['가게에서 고객을 대상으로 자전거 대여', '11'], ['노래방에서 노래방기기를갖추고 노래연습장제공', '9'], ['매장에서 접객시설을 갖추고 통닭판매', '1'], ['일반창고(일반,유독물,위험물) 물품보관 일반창고업', '4'], ['병원에서 의료기기 약품 연구개발판매', '10'], ['일반의원에서 외래환자위주로 소아과,내과진료서비스', '7'], ['수선할 의류를 가지고 영업장에서 미싱이나 손바느질을 이용하여 의류수선', '3'], ['사업장에서 일반고객을대상으로 비만관리 서비스', '3'], ['업체에서 일반인을대상으로 차량경정비.내장수리', '3'], ['정육점에서 다른소매업자에게대량으로도매 돼지고기.소고기', '0'], ['사업장에서 임대 비주거용건물', '6'], ['사업장에서 화장품용기 포장', '11'], ['일반 의원에서 외래환자 위주로 내과진료 서비스', '7'], ['영업장에서 고객을대상으로 커피판매', '1'], ['음식점에서 접객시설을 갖추고 치킨', '1'], ['일반인 상대로 핸드폰소매 핸드폰 소매', '0'], ['주점에서 접객요원을 두고 양주,맥주', '1'], ['영업장에서 도,소매업체에 과일류  판매', '0'], ['무도시설을 갖추고 술을 판매  ', '1'], ['사업장에서 고철을 수집하여 고철 판매', '0'], ['사업장에서 일반인대상 네비.브랙박스', '0'], ['개인택시로 일반인을 대상으로 승객운송서비스', '4'], ['개별화물자동차로 고객의 요청으로 화물운송서비스', '4'], ['체육관 학생,일반인대상으로 복싱강습서비스', '5'], ['건축설계  ', '10'], ['음식점에서 접객시설을갖추고 메밀국수조리판매', '1'], ['교회 기독교 계통 종교활동 종교 서비스', '3'], ['매장에서만들어 테이크아웃 치킨, 치킨강정 외 소매', '1'], ['사업장에서 폴리에틸렌으로제조 비닐봉투', '2'], ['용달화물자동차로 고객의 요청으로 화물운송서비스', '4'], ['가게에서 고객의 요청으로 골재, 벽돌 판매', '0'], ['매장에서 일반인에게 오토바이 소매', '0'], ['골판지 재단, 인쇄 ', '2'], ['매장에서 산업사용자에게 안전보호구도매', '0'], ['정육점에서 일반소비자에게 소매 돈육,정육등', '0'], ['한식을 조리하여 판매  ', '1'], ['사업장에서 건설업자가 일반인들에게 목재창호설치공사', '8'], ['유치원에서 보호자로부터 위탁을 받아 취학전 유아교육', '5'], ['일반인대상으로 수선을 요하는 구두 구두,가방수선', '3'], ['음식 접객시설을갖추고 순대국', '1'], ['사무실에서 채권자를 대리하여 채권 추심', '11'], ['  금융지원 서비스', '13'], ['사업장에서 ？반인대상으로 자전거판매', '0'], ['법률사무소 의뢰인에게 소송사건 변호', '10'], ['영업장에서 고객에게 조명등 판매', '0'], ['관리사무실에서 아파트입주자를위해 아파트관리', '6'], ['카드사에서 일반인 대상으로 신용카드 발급', '13'], ['독서실에서 일반인을 대상으로 독서실 운영', '9'], ['사업장에서 중간상인에게 육류판매', '0'], ['사업장에서 일반인을 대상으로 화장품소매', '0'], ['개인택시로 일반인을 대상으로 승객운송서비스', '4'], ['음식점에서 고객을 대상으로 간이음식 포장판매', '1'], ['사업장에서 섬유외주가공하여도매 섬유원단', '0'], ['음식점 접객시설을 갖추고 순대 및 설렁탕 판매', '1'], ['영업장에서 고객을대상으로 피부관리', '3'], ['약국 일반소비자 약처방전조제', '0'], ['의원에서 외래환자 위주로 안과 진료', '7'], ['사업장에서 의뢰받아 외주제작 광고물 작성', '10'], ['각종상품을 타인을 대신하여 수출 중개', '0'], ['치킨전문점에서 접객시설을갖추고 양념,구이치킨', '1'], ['사업장에서 일반사업체 앵글.사다리 판매', '0'], ['사진스튜디오에서 일반소비자에게 사진촬영,장소대여', '10'], ['열쇠를가지고 소비자에게소매 열쇠소매업', '0'], ['구내식당에서 접객시설을 갖추고 식사제공', '1'], ['광고물설계 광고대행업체계약 광고물 작성', '10'], ['종이 옵셋 인쇄 카다로그', '2'], ['도서관 일반인상대로 도서열람', '9'], ['카페 접객시설을갖추고 커피 홍차 음료제공', '1'], ['사업장에서 고객을대상으로(의뢰에의해) 카드단말기수리', '2'], ['인터넷 설치 유지, 보수', '8'], ['사회적도움이필요한 사업장에서 활동지원', '7'], ['건축설계 설계.감리 건축설계용', '10'], ['반도체LCD 부품조립 반도체제조용기계장비제조', '2'], ['매장에서 일반인에게 동물용품 판매', '0'], ['음식점에서 접객시설을갖추고 삼겹살 등 판매', '1'], ['어린이집에서 보호자로부터 위탁을 받아 취학적 유아 보육', '7'], ['의류점 일반인대상으로소매 기타의류소매', '0'], ['사업장에서 교육생대상 요양보호사교육', '5'], ['스틸, 알루미늄 원소재구매, 1차절삭가공 ', '2'], ['주식회사 동해물류 고객의 요청에 따라 하역업 서비스', '4'], ['일반소비자들에게 소매 사업장에서 홍어', '0'], ['음식점에서 일식퓨전 음식제공', '1'], ['주점에서 접객요원없이 맥주.소주 제공', '1'], ['음식점에서 시설을 갖추고 한식제공', '1'], ['육지및수산동물,과실,채소를가지고 재료혼합,가열하여 액화식품(건강원)', '2'], ['사업장에서 위뢰를받아서 건축', '8'], ['접객시설을 갖추ㅜ고 매장에서 햄버거판매', '1'], ['영업점에서 고객의요청에따라 에어컨수리', '3'], ['주점 접객요원을 두고 양주,맥주', '1'], ['학원에서 일반인을 대상으로 게임.그래픽학원', '5'], ['어린이집에서 부모로위탁을받아서 취학전어린이보육', '7'], ['개인택시로 일반인을 대상으로 승객운송서비스', '4'], ['학원에서 학생에게 수학 교육 서비스', '5'], ['매장에서 소매상에게도매 접착제본드', '0'], ['사업장에서 산업용설비 산업플랜트공사', '8'], ['화물  ', '4'], ['용달화물자동차로 고객의 요청으로 화물운송서비스', '4'], ['사업장에서 소매업자을대상으로도매 쌀,보리,잡곡', '0'], ['사업장에서 고객을 대상으로 알리미늄 샷시 도.소매', '0'], ['종합소매점 일반소비자엑 음.식료품', '0'], ['용달화물자동차로 고객의 요청으로 화물운송서비스', '4'], ['사무실에서 고객의 의뢰를받아 도매 면.나일론', '0'], ['분식집에서 접객시설을갖추고 김밥.떡볶이', '1'], ['컴퓨터를 가지고 응용소프트웨어 개발 공급', '12'], ['무역을 통해 사업장에서 아트지,복사지,모조지,판지등 도매', '0'], ['부동산중개소에서 계약 및 중개등을 통해 수수료를 받음 부동산거래 중개서비스', '6'], ['사무실에서 고객의 주문으로 영업관리', '11'], ['영업장에서 일반인을 대상으로 맛사지제공', '3'], ['개인택시로 일반인을 대상으로 승객운송서비스', '4'], ['건물내 고객의 의뢰를 받아 배관공사', '8'], ['매장에서 일반고객을 대상으로로 커피제공', '1'], ['학원에서 학생대상으로 교육서비스', '5'], ['사업장 해외수입수출 도매 의류', '0'], ['미용업 일반인대상 일반미용업', '3'], ['합섬섬유 주문받아서 도매 합섬섬유', '0'], ['개인택시로 일반인을 대상으로 승객운송서비스', '4'], ['음식점에서 접객시설갖추고 김치찌개,된장찌개', '1'], ['비가공수산물을 다른소매업자에게 건조 오징어 도매', '0'], ['구입한 철판으로 고객요청 LED전광판', '2'], ['접객시설을갖추고 치킨전문점에서 매운닭발,닭날개판매', '1'], ['학원에서 학생대상으로 관리형 독서실', '9'], ['용달화물자동차로 고객의 요청으로 화물운송서비스', '4'], ['학원에서 중고학생을대상으로 교과과정교육', '5'], ['의뢰인에게 수리.인테리어주문받아 인테리어.보수.수리', '8'], ['커피숍에서 접객시설갖추고 원두커피제공', '1'], ['체육관 학생들을 대상으로 유도', '5'], ['노래방에서 서비스업 노래연습장 운영', '9'], ['마을버스연합회에서 회원의이익향상을위해 마을버스조합관리', '3'], ['음식점에서 간이음식을 조리하여 떡볶이 튀김 쫄면등 판매', '1'], ['음식점에서 일반인대상 짜장면,탕수육', '1'], ['사업장에서 일반소비자에게 소매 반짇고리,복주머니등(의복악세서리)', '0'], ['음식점에서 접객시설을 갖추고 정식,조림', '1'], ['고객들을 대상으로 숙박제공  ', '1'], ['개별화물자동차로 고객의 요청으로 화물운송서비스', '4'], ['커피숍에서 접객시설을 갖추고 원두커피 제공', '1'], ['영업점에서 일반소비자를 대상으로 생선류', '0'], ['사업장에서 기업체대상으로 광고기획,홍보,팜플릿제작', '10'], ['교회에서 기독교계통 종교활동 종교서비스', '3'], ['헬스장에서 체력단련시설을 갖추고 체력단련서비스', '9'], ['컴퓨터 관련 제조업 컴퓨터 관련 부품', '2'], ['금속제 가공연삭하여 자동차부품제조', '2'], ['음식점에서 접객시설을 갖 추고 찜닭', '1'], ['현장에서 화물자동차로 이삿짐센타', '4'], ['회원들에게 스포츠센터에서 수영,농구,탁구등', '9'], ['개별화물자동차로 고객의 요청으로 화물운송서비스', '4'], ['미술학원에서 학생들 대상으로 미술지도', '5'], ['법무사사무소에서 민원인에게 등기,경매,공매 신청대행 및 대리', '10'], ['용달화물자동차로 고객의 요청으로 화물운송서비스', '4'], ['접객요원을 두고 술을 판매하는 유흥주점  ', '1'], ['절에서 불교계통종교활동 종교서비스', '3'], ['미용실에서 고객을 대상으로 헤어미용서비스', '3'], ['PC방에서 일반인대상으로 인터넷게임서비스', '9'], ['주점에서 접객시설을 갖추고 소주,맥주', '1'], ['사무실에서 고객요청에 따라 건축, 토목 설계 서비스', '10'], ['사무실에서 고객의 의뢰 받아 건축설계', '10'], ['식당에서 접객시설을갖추고 대게찜판매', '1'], ['매장에서 아로마요법으로 피부맛사지', '3'], ['사업장에서 수집하여 고철도매', '0'], ['읍식점에서 접객시설을갖추고 치킨판매', '1'], ['영업장에서 일반소비자대상 생닭', '0'], ['점포에서 고객을 대상으로 모자판매', '0'], ['서적및교재교구 문구용품  ', '0'], ['영업장에서 소비자에게 의료기', '0'], ['지하상가에서 도매 이불, 방석, 담요등 판매', '0'], ['헬스장에서 일반고객들 대상 헬스운동지도', '9'], ['음식점에서 접객시설갖추고 중식', '1'], ['섹스폰 학원에서 일반인을 대상으로 섹스폰 교육', '5'], ['교회 교인대상으로 죵교활동', '3'], ['동물병원에서 애견 동물을 대상으로 동물치료 중절수술제공', '10'], ['사무실에서 응용소프트웨어 개발 공급 서비스', '12'], ['잉크, 금박 용기입고, 인쇄 ', '2'], ['초경, 특수관 헷다, 로링 ', '2'], ['사업장에서 산업사용자에게 도매 절삭공구, 기계공구', '0'], ['식당에서 접객시설을 갖추고 참치회 제공', '1'], ['커피숍에서 접객시설을 갖추고 커피,음료판매', '1'], ['미용실에서 두발미용서비스제공 파마,염색등', '3'], ['서비스 고객 요청에 따라 예식장', '3'], ['일반의원에서 외래환자 위주로 부인과 진료서비스', '7'], ['객석을 갖추고 커피와 그외 음료제공  ', '1'], ['음식점에서 일반고객을대상으로 족발,보쌈제공', '1'], ['영업장에서 접객시설을 갖추고 백반', '1'], ['주점에서 접객시설을 갖추고 소주, 맥주등', '1'], ['매장면적165㎡~3000㎡미만 일반소비자에게 소매 음식료품위주', '0'], ['사업장에서 일반인대상으로 복권', '9'], ['한의원에서 일반대상 침 뜸', '7'], ['인력사무실 인력알선의뢰받아 인력알선', '11'], ['사업장에서 금형주문받아서 선반가공', '2'], ['AL,SUS 머시닝가공조립 반도체 장비제조', '2'], ['커피마마에서 일반인대상 커피판매', '1'], ['사업장에서 입주자를 대상으로 비주거용건물 관리', '6'], ['학교에서 계약에 의거 방과후수업(영어)', '5'], ['동대문 종합상가 도매 화섬직', '0'], ['학원에서 학생.일반인 대상으로 영어교육 서비스', '5'], ['미용실에서 일반인을 대상으로 컷트, 파마', '3'], ['부동산에서 중개및계약 중개서비스', '6'], ['수학,과학학원 교육서비스 교육', '5'], ['설계 제조업본사 도면설계,기획,총괄', '10'], ['일반화물자동차로 고객의 요청으로 화물운송서비스', '4'], ['개인택시로 일반인을 대상으로 승객운송서비스', '4'], ['원단 제단,재봉 한복제작', '2'], ['일정한 장소에서 시민들을 대상으로 기타공연단체', '9'], ['매장에서 소매 전기용품,모터수리및판매', '0'], ['낚시점에서 일반인대상으로 소매 낚시용품', '0'], [' 주차장 운영업(주차장운영) ', '4'], ['회  ', '1'], ['기업체 도소매 화장품', '0'], ['음식점에서 시설을 갖추고 한식 음식', '1'], ['사업장에서 알루미늄가공 제조업', '2'], ['정형외과에서 외래환자위주로 물리치료,외과지료', '7'], ['여성의류매장에서 일반소비자에게 소매 스커트, 원피스 등 판매', '0'], ['사업장에서 접객시설 갖추고 커피,음료', '1'], ['사무실에서 일반고객을 대상으로 제주도,일본,중국 여행알선', '11'], ['영업장에서 고객의요구로 스팀세차', '3'], ['인테리어 실내장식및내장공사 실내인테리어', '8'], ['개인택시로 일반인을 대상으로 승객운송서비스', '4'], ['주점에서 접객요원및무도시설없이 소주.맥주', '1'], ['사업장에서 의뢰를 받아 인력파견 학교미화원 인력파견', '11'], ['사무실에서 개발공급 응용소프트웨어개발', '12'], ['부동산에서 계약에 의해 부동산중개업', '6'], ['음식점에서 시설을 갖추고 치킨', '1'], ['음식점에서 접객시설을 갖추고 일반 한식 제공', '1'], ['정육점에서 일반소비자에게 육류 소매', '0'], ['고철,비철  ', '0'], ['방문고객에게 매장에서 잡화팜매', '0'], ['제과점에서 일반소비자에게 빵 케익판매', '1'], ['용달화물자동차로 고객의 요청으로 화물운송서비스', '4'], ['매장에서 컴퓨터 및 사무용기기를 전문적으로 수리 컴퓨터및 주변기기 수리', '3'], ['시멘트, 모래등을 가지고 건축업자등에게 도매 시멘트, 모래 판매', '0'], ['학원에서 학생들대상으로 수학교육', '5'], ['호프집에서 접객시설을갖추고 호프판매', '1'], [' 여성용 블라우스, 원피스, 바지 등 제조 ', '2'], [' 자동차 배터리  판매 ', '0'], ['미용실에서 고객을 대상으로 커트,파마,염색', '3'], ['매장에서 일반소비자에게 여성바지 소매', '0'], ['식품점에서 소매업자에게 도매 간장.가공식품 등 판매', '0'], ['일반의뢰인대상 부동산업 부동산중개', '6'], ['창작극회에서 일반인대상으로 공연제공', '9'], ['세탁소 세탁물을수거 다림질.드라이크리닝', '3'], ['주점에서 접객요원및무도시설없이 맥주소주', '1'], ['분식집에서 접객시설을갖추고 라면,국수', '1'], ['사업장에서 고객의 의뢰를 받아 중장비 정비', '2'], ['음식점에서 접객시설을 갖추고 삼겹살 등 육류요리 제공', '1'], ['금속 부자재 절단, 도금 볼트, 너트 제조', '2'], ['현장에서 고객의 의뢰를받아 건물 청소업', '11'], ['용달화물자동차로 고객의 요청으로 화물운송서비스', '4'], ['사무실에서 일반고객대상으로 부동산 중개업', '6'], ['가게에서 일반인 대상으로 벽지,장판 소매', '0'], ['교회에서 기독교계통 종교활동 종교서비스', '3'], ['사우나에서 일반인대상 부동산자문,중개업', '6'], ['사업장에서 고객을 대상으로 피자 .쭈꾸미 볶음', '1'], ['고철 고물수집판매 고철,폐지등', '0'], ['매장에서 객석갖추고 토스트', '1'], ['개별화물자동차로 고객의 요청으로 화물운송서비스', '4'], ['현장에서 고객요청에따라 단독주택건설', '8'], ['화물운송업  ', '4'], ['식당에서 일반인을 대상으로 베트남쌀국수', '1'], ['음식점 접객시설을갖추고 찜닭', '1'], ['태권도학원에서 학생및일반인을대상으로 태권도교육', '5'], ['사업장 고객요청 음향기기수리', '3'], ['현장에서 사업주의 의뢰를받아 상업용건물청소', '11'], ['지역사회 중증장애인이용 장애인 활동지원사업 가사서비스', '7'], ['고등학교에서 고등학생을 대상으로 고등교육서비스', '5'], ['음식점에서 접객시설을 갖추고 돼지고기 요리판매', '1'], ['사무실에서 산업사용자에게 소프트웨어개발', '12'], ['고객의 사업장에서 고객의 요구에따라 실내인테리어 공사', '8'], ['약국내에서 소비자에게 건강기능식품 소매', '0'], ['사업장에서 화주와운송업자간에 화물운송중개', '4'], ['매장에서 시설을 갖추고 남성커트', '3'], ['폴리에스텔 합성섬유 제직', '2'], ['사업체에서 업자의 의뢰를 받아 여성의류제조', '2'], ['음식점에서 접객시설을 갖추고 짜장면', '1'], ['명란, 오징어 원료입고, 해동 ', '2'], ['영업장에서 일반소비자에게 LED광고,디자인', '10'], ['사무실에서 고객상대 부동산중개업', '6'], ['음식점에서 접객시설을 갖추고 추어탕', '1'], ['일반소비자에게 매장에서 일반장식소품', '0'], ['소주방에서 접객요원및무도시설없이 소주,맥주', '1'], ['당구장에서 일반인을 대상으로 당구장운영', '9'], ['사업장 고객의뢰받아 의치제조', '2'], ['사업장에서 고객의뢰에 맞추어 시설물 유지관리', '8'], ['영업장에서 고객의 주문에 따라 비데보관 및 배달', '4'], ['편의점에서 체인계약을 체결하여 음식료품위주', '0'], ['홍삼 액화 홍삼액', '2'], ['철 절단용접조립 방화문제작', '2'], ['주점에서 접객요원을 두고 맥주, 양주', '1'], ['철물점에서 건축관련철물.도소매 철물.공구', '0'], ['사업체에서 의뢰를 받아 인테리어공사', '8'], ['철판, 스텐 철판, (절단레이저 ', '2'], ['미용실 두발미용서비스 머리자르기,염색등', '3'], ['주점에서 접객요원,무도시설없이 소주,짬뽕탕', '1'], ['학원에서 학생들에게 미술교육 서비스', '5'], ['사업장에서 고객을 대상으로 네일아트서비스', '3'], ['주점에서 접객시설을 갖추고 술, 안주 제공', '1'], ['여행사에서 여행알선 국내여행', '11'], ['사업장에서 생수를 이용하여 얼음제조', '2'], ['모텔에서 일반인을 대상으로 숙박서비스제공', '1'], ['미용실 두발미용 서비스 머리자르기 염색', '3'], ['사무실에서 장애인대상 여행보조.지원서비스', '11'], ['공장에서 고객의 요구에 의해 씽크대 수납장 제조', '2'], ['세탁소에서 일반소비자에게 각종 세탁물 세탁', '3'], ['토스트가게에서 일반인 상대로 토스트판매', '1'], ['매장에서 일반소비자에게 정수기', '0'], ['슈퍼마켓(165㎡-3000㎡) 일반소비자에게 음식료품위주 판매', '0'], ['철물점에서 일반소비자에게 소매 철물등 판매', '0'], ['영어학원에서 학생들에게 영어교육', '5'], ['용달화물자동차로 고객의 요청으로 화물운송서비스', '4'], ['부동산 계약중개를통해수수료를받음 부동산거래중개서비스', '6'], ['사업장에서 수리 산업용기계', '2'], ['플라스틱을 가지고 영업을 통해 플라스틱 화학제품', '0'], ['교회에서 기독교 계통 종교활동 종교 서비스', '3'], ['사업장에서 기계기구조림 산업용브러쉬', '2'], ['사업장에서 도매 강관파이프, 철강재', '0'], ['네일샵에서 일반인 대상으로 손톱미용 서비스', '3'], ['노래방에서 고객을 대상으로 노래연습장', '9'], ['개인택시로 일반인을 대상으로 승객운송서비스', '4'], ['사업장에서 전기용기계장비 기자재도매', '0'], ['사업장에서 일반인대상으로 아이스크림 소매', '0'], ['콩을 가공하여 손두부제조', '2'], ['학원에서 수강생을 대상으로 무에타이강습', '5'], ['개별화물자동차로 고객의 요청으로 화물운송서비스', '4'], ['정수기,연수기등 가정에 직접 방문 정수기등 임대 관리 서비스', '11'], ['농산물을가지고 소매업자들에게 채소도매', '0'], ['협회에서 보호관찰 대상자를 대상으로 범죄예방', '3'], ['사업장에서 일반인대상으로 이불.침구류', '0'], ['사무실에서 의뢰인들에게 컴퓨터 s.w개발서비스', '12'], ['가게에서 일반고객을 대상으로 아동복 판매', '0'], ['문구사에서 일반소비자를대상으로 문구용품판매', '0'], ['교회 기독교계통 종교활동 종교서비스', '3'], ['상가에서 도.소매 신발', '0'], ['식당에서 일반 고객 대상 중식제공', '1'], ['장례식장에서 유족의요청에따라 장례음식제공', '1'], ['용달화물자동차로 고객의 요청으로 화물운송서비스', '4'], ['고객의요청에 영업장에서 정수기랜탈,임대', '11'], ['용달화물자동차로 고객의 요청으로 화물운송서비스', '4'], ['용달화물자동차로 고객의 요청으로 화물운송서비스', '4'], ['지게차를 가지고 고객의 의뢰에 의해 건설장비 임대', '8'], ['영업장에서 고객의 의뢰를 받아 부동산감정평가', '6'], ['병원대상으로 경영자문 ', '10'], ['용달화물자동차로 고객의 요청으로 화물운송서비스', '4'], ['개별화물자동차로 고객의 요청으로 화물운송서비스', '4'], ['중고자동차 매입하여 수출', '0'], ['사업장 도소매 자동차중고부품', '3'], ['사업장에서 접객시설을 갖추고 장어', '1'], ['금속 절당,조립 씽크대판,금속가구제조', '2'], ['옷수선 의류를 전문적으로 수선 의류 수선', '3'], ['호이스트  ', '2'], ['건설현장에서 고객의 요청에의해 전기공사업', '8'], ['부동산중개소에서 계약에 의해 부동산중개서비스', '6'], ['일반화물자동차로 고객의 요청으로 화물운송서비스', '4'], ['음식점에서 접객시설을 갖추고 오리,염소구이 판매', '1'], ['사업장에서 고객의요청에따라 내부배선공사', '8'], ['매장에서 일반고객을대상으로 여성복', '0'], ['개별화물자동차로 고객의 요청으로 화물운송서비스', '4'], ['부동산 중개및계약을통해수수료받음 부동산중개서비스', '6'], ['음식점에서 접객시설을 갖추고 김치찌게', '1'], ['손님에게 개량한복판매업 개량한복판매', '0'], ['공부방에서 초등학생 위주 학습지도', '5'], ['학원에서 초중고등학생대상으로 수학교육', '5'], ['교회에서 기독교계통종교활동 종교서비스', '3'], ['환전업무  ', '13'], ['헬스클럽 체력단련시설을갖추고 체력단련서비스', '9'], ['음식점에서 접객시설을 갖추고 조개구이 조개찜', '1'], ['음식점에서 접객시설을 갖추고 자장면 짬뽕제공', '1'], ['업체에서 선박설계,서비스 선박.기관실 서비스제공', '10'], ['학원에서 초등학생대상으로 한글 수학교육', '5'], [' 길고양이돌봄 ', '3'], ['음식점에서 접객시설을갖추고 등심.갈비', '1'], ['점포에서 열쇠 수리.판매', '0'], ['이용업 서비스업 ', '3'], ['사무실에서 학교운영전반 관리유지재단', '6'], ['방앗간에서 일반소비자에게 떡제조 판매 시루떡.인절미', '2'], ['게임방에서 일반일을 대상으로 전자오락서비스 제공', '9'], ['음식점에서 일반인대상 동태찌개', '1'], ['천연인조석을 세공가공 반지,목걸이', '2'], ['용달화물자동차로 고객의 요청으로 화물운송서비스', '4'], ['개인택시로 일반인을 대상으로 승객운송서비스', '4'], ['치킨집에서 접객시설을 갗추고 치킨', '1'], ['고객의사업장에서 고객요구에의해 전기설비및보수', '8'], ['생산업자 도소매 고철,비철', '0'], ['쌀,찹쌀을 빻고 쪄서 시루떡 등', '2'], ['병원에서 환자들에게 이비인후과 진료서비스', '7'], ['사업장에서 고객의 요청에 따라 물류보관', '4'], ['카센타에서 일반고객을대상으로 경정비,타이어교체', '3'], ['음식점에서 접객시설갖추고 소곱창구이', '1'], ['업체에서 의뢰를 받아 하수관청소', '15'], ['매장메서 고객대상 우쿠렐레판매', '0'], ['건물을가지고 고객요청에의해 건물임대', '6'], ['매장에서 노래방서비스 노래방운영', '9'], ['미용실에서 일반인에게 파마,염색등미용서비스제공', '3'], ['일반인대상 사업장 자동차정비', '3'], ['편의점에서 체인체결을맺고 식음료,담배소매', '0'], ['꽃시장에서 도매업자 대상으로 생화 판매', '0'], ['협회에서 시각장애인들을 위해 권익보호 및 나눔캠페인 활동', '3'], ['의류 부분작업 제품마무리', '2'], ['매장에서 고객의뢰에의해 인테리어', '8'], ['수선집에서 손님의 요구에 따라 옷수선', '3'], ['전복치패 육상시설에서 전복종묘', '16'], ['건물철거공사 건물 해체작업 건축물 철거공사', '8'], ['플라스틱,스텐레스 신체적주입,부착 골절치료구.보정기부목제조', '2'], ['제과점에서 일반인을 대상으로 빵, 케이크판매', '1'], ['철 가공, 조립 ', '2'], ['보호자의 위탁을 받아 어린이집에서 취학전 아동보육', '7'], ['미용실에서 고객을 대상으로 컷트, 파마, 염색 제공', '3'], ['학원에서 학생대상 무용교육', '5'], ['접객시설을 갖추고 김치찌개, 설렁탕 판매  ', '1'], ['세탁소에서 일반고객을 대상으로 세탁 서비스 제공', '3'], ['음식점에서 접객시설을갖추고 짬뽕  짜장', '1'], ['사업장에서 고객의요청에따라 개별화물운송', '4'], ['미용실에서 고객을 대상으로 커트, 파마', '3'], ['우유 도매업 보급소로 도매 우유 유제품', '0'], ['영업장에서 세탁물 위탁받아 세탁, 다림질', '3'], ['중개소에서 농가와 산업사용자를 중개하는 가축 중개업', '0'], ['사무실에서 의뢰인들에게 상품종합중개업', '0'], ['소매업체에 납품 의약품 영업소에서 의약품', '0'], ['매장에서 일반소비자에게 캐쥬얼의류소매', '0'], ['애완용품  ', '0'], ['사업장에서 의뢰인의요청에의해 그래픽디자인', '10'], ['용달화물자동차로 고객의 요청으로 화물운송서비스', '4'], ['사업장에서 산업사용자에게 전자부품(해외구매) 도매', '0'], ['사업장에서 일반소비자대상 안경,렌즈', '0'], ['노래방에서 노래연습시설을 갖추고 노래할수있는 장소 제공', '9'], ['지역농협에서 고객으로부터 자금조성및 여수신 자금 여수신', '13'], ['개인택시로 일반인을 대상으로 승객운송서비스', '4'], ['철학원에서 일반인으 ㄹ대상으로 사주.철학', '3'], ['당구장 시설갖추고 일반인에게제공', '9'], ['음식점에서 접객시설을갖추고 해물찜', '1'], ['이용원 일반고객애게 컷트', '3'], ['귀금속,장신구를 일반인들 대상으로 소매 금.은.반지. 시계판매', '0'], ['교육 직무 훈련 및 연수 교육 서비스', '5'], ['매장에서 일반고객을 대상으로 생화판매', '0'], ['음식점에서 접객시설을갖추고 추어탕', '1'], ['수산물을 음식점이나학교급식실에 도매', '0'], ['소매업자를대상으로 사업장에서 산양산삼판매', '0'], ['편의점에서 체인계약을 체결하고 음식료품위주 소매', '0'], ['PP, 마스타비치 재료입고, 용해 플라스틱생활용품(컵.옷걸이등)', '2'], ['부동산사무소에서 부동산업 부동산 자문 및 중개업', '6'], ['단위농협에서 일반대중 및 기업대상으로 대출, 예금 및 이자지급', '13'], ['약국에서 일반소비자에게 의약품소매', '0'], ['카센타에서 고객을 대상으로 자동차 특정부분정비', '3'], ['과일가게에서 일반소비자에게 소매 참외,토마토등', '0'], ['학원에서 학생들에게 피아노 교습', '5'], ['핸드폰 매장에서 일반인에게 핸드폰 소매', '0'], ['개인택시로 일반인을 대상으로 승객운송서비스', '4'], ['직업소개소에서 고옹주와 구직자를 알선 인력알선서비스', '11'], ['개별화물자동차로 고객의 요청으로 화물운송서비스', '4'], ['사업장에서 소매업자 상대로 바지락 도매', '0'], ['영업장에서 부품수리 산업용기계부품수리', '2'], ['일반 음식점에서 접객시설을 갖추고 김치,청국장찌게 판매', '1'], ['서비스 수업 영어교습소', '5'], ['부동산 계약및중개등을통해 부동산중개서비스', '6'], ['행복웰빙센터 접객시설을 갖추고 새싹비빔밥, 손만두등', '1'], ['가게에서 접객시설을갖추고 김치찌개. 청국장', '1'], ['사업장에서 의뢰인의 요청으로 건축설계', '10'], ['치과에서 외래환자위주로 치과진료', '7'], ['백화점에서 일반소비자에게 건강보조식품 소매', '0'], ['붉은대게 원료, 탈갑 ', '2'], ['지하상가 점술집에서 일반인을 대상으로 관상.사주', '3'], ['의류매장에서 일반소비자에게 청바지등 남녀의류소매', '0'], ['코팅액, 폴리에스텔 원단입고, 준비 ', '2'], ['부동산에서 수수료를받고 부동산거래중개서비스', '6'], ['철물점에서 일반 소비자에게 소매 열쇠', '0'], ['금형부품가공 제조업 반도체금형', '2'], ['용달화물자동차로 고객의 요청으로 화물운송서비스', '4'], ['부동산 계약,중개를통해수수료받음 부동산중개서비스', '6'], ['매장에서 일반인을 대상으로 여성의류', '0'], ['빌딩 입주자대상 입대업', '6'], ['철재, 수입서브모터 재료입고, 선반밀링(외주) ', '2'], ['매장에서 소비자들에게소매 그릇등잡화', '0'], ['가게에서 일반인대상으로 실사소재장비컴퓨터판매', '0'], ['음식점에서 접객시설을갖추고 딱새우요리전문점', '1'], ['개별화물자동차로 고객의 요청으로 화물운송서비스', '4'], ['문구용품 학생들에게 문구용기, 필기도구 판매', '0'], ['종이 끈 접착제 등 재단 접합 접지하여 쇼핑백 제조', '2'], ['학원에서 어린이대상 교과과정,자기주도학습 코칭학원', '5'], ['도서관 일반인에게 개인에게 책대여', '9'], ['철 설계, 절단,절곡 탈지면기계제조', '2'], ['원단으로 재단 모자부분작업', '2'], ['가게에서 일반인대상 과일판매', '0'], ['백반 및 한식판매  ', '1'], ['매장에서 소매업자에게 도매 양변기 세면기', '0'], ['매점에서 경찰직원을대상으로 음식료품,담배소매', '0'], ['마트에서 소비자에게 음식료품위주', '0'], ['맥주전문점 접객시설을갖추고 생맥주제공', '1'], ['건설현장에서 고객요구에따라 주택건설', '8'], ['영업장에서 일반소비자에게 소매 과자, 음료수', '0'], ['음식점에서 접객시설을 갖추고 한국식회 판매', '1'], ['현장방문하여 의뢰를 받고 종합수리서비스 덤프, 레미콘전기장치수리서비스', '3'], ['정보를 의뢰인에게 주민청원 빅테이터 분석회사', '12'], ['커피숍에서 접객시설을갖추고 원두커피 ,음료', '1'], ['약국에서 처방전위주로 조제약.일반약판매', '0'], ['의뢰를 받아 사무실에서 인증컨설팅 서비스 잰행', '10'], [' 화장품 ', '0'], ['매장에서 일반소비자대상으로 남녀의류판매', '0'], ['영업장에서 일반고객대상 중고차할부대행', '13'], ['미술학원 교육서비스 그림, 미술', '5'], ['요양보호사 방문 파견 돌봄', '7'], ['유흥주점에서 접객시설을갖추고 양주.맥주제공', '1'], ['사업장에서 일반대중및기업대상 보험계약체결', '13'], ['학원에서 학생을 대상으로 음악 교육', '5'], ['골판지 제단, 절단 지관', '2'], ['가게에서 일반소비자에게 가방판매', '0'], ['영업장에서 소비자에게 핸드폰소매', '0'], ['접객시설을갖추고 치킨제공  ', '1'], ['부동산중개소 계약에의거 부동산중개소 부동산중개서비스', '6'], ['매장에서 일반고객대상으로 커피전문점', '1'], ['지물포에서 일반소비자에게 벽지,장판소매', '0'], ['음식점에서 접객시설을 갖추고 추어탕,한정식', '1'], ['유흥업소에서 접객시설을갖추고 주류판매  ', '1'], ['매장에서 일반인을 대상으로 중고여성의류소매', '0'], ['사업장에서 무역으로 의료기,홍삼등종합상품', '0'], ['안경점에서 일반소비자에게 안경.선글라스등 소매', '0'], ['부동산 중개소에서 계약에 의거 부동산 중개서비스', '6'], ['개인택시로 일반인을 대상으로 승객운송서비스', '4'], ['병원에서 환자에게 진료서비스', '7'], ['사무실에서 장애인을 대상으로 쟝애인 지원 복지 협회', '3'], ['매장에서 일반고객을 대상으로 휴대폰 소매', '0'], ['부동산에서 부동산업 부동산중개서비스', '6'], ['매장에서 고객주문 실내인테리어공사', '8'], ['부동산 사무실에서 일반인 대상으로 임대', '6'], ['상가를 가지고 다른사용자에게 사무실및 비주거용건물임대', '6'], ['한국언론진흥재단에서 언론인들대상 언론인 협회', '3'], ['사업장에서 학원과학교에 학습지납품', '0'], ['미용실 두발서비스 퍼머,컷,염색', '3'], ['일반인을 대상으로 사업장에서 낚시용품', '0'], ['문화원에서 일반인을대상으로 문화관련교육', '5'], ['사업장에서 고객의 주문에 따라 캠핑카 제작', '2'], ['어린이집에서 보호자 위탁받아 취학전 아동보육서비스', '7'], ['편의점에서 체인계약을 체결해일반소비자에게 소매 음식료품위주판매', '0'], ['접객시설을 갖추고 피자집에서 피자', '1'], ['일반화물자동차로 고객의 요청으로 화물운송서비스', '4'], ['사업장에서 시설을갖추고 헬스장운영', '9'], ['PCB, 골드와이어 구입, 다이본딩 ', '2'], ['제조 도매 대리점 등 일반 상품', '0'], ['학원에서 학생들 대상으로 바이올린,악기', '5'], ['카센타 수리점에서 고객 의뢰에 의해 자동차  수리 서비스', '3'], ['음식점에서 접객시설을갖추고 생선구이', '1'], ['부동산에서 계약 및 중개를 통해 전세, 월세, 매매', '6'], ['매장에서 고객대상으로 김밥및칼국수판매', '1'], ['부동산사무소에서 고객의뢰를 받아 부동산중개', '6'], ['사업장에서 고객의요청으로제작 간판', '2'], ['광고물 도안, 설계 작성  ', '10'], ['선박내에서 의장수를 선박에설비설치하여 선박의장', '8'], ['매장에서 일반소비자에게소매 구두.숙녀화', '0'], ['기계기구 압력온도계 제조', '2'], ['음식점에서 접객시설을 갖추고 닭도리탕', '1'], ['매장에서 고객대상 수제떡, 빵제조', '2'], ['사물실에서 원고정리편집 소설책출간', '12'], ['철자재, 모터 절단, 절삭 ', '2'], ['배추 절임.세척 양염하여 김치 제조', '2'], ['영업장에서 소매자 의뢰 쥬얼리제작', '2'], ['비철 절삭가공 정밀기계부품', '2'], ['용달화물자동차로 고객의 요청으로 화물운송서비스', '4'], ['학원에서 학원생대상으로 영어', '5'], ['복지센터에서 도움이 필요한 다문화 가족에게 교육 및 상담', '7'], ['현장에서 고객의요구에따라 소독,구충', '11'], ['구내수퍼에서 일반고객을 대상으로 식,음료품 위주 판매', '0'], ['대한주택관리 입주민들에게 주거안전관리서비스', '6'], ['미용실에서 파마 염색 두발서비스', '3'], ['음식점에서 접객시설을갖추고 칼국수,수제비 제공', '1'], ['약국에서 일반소비자 대상 약품퓨 소매', '0'], ['원단으로 재단,봉재하여 침구류제조', '2'], ['미용실에서 일반인을 대상으로 코트,퍼머', '3'], ['매장에서 일반소비자에게 골프의류소매', '0'], ['자전거를 일반인을 대상으로 소매 자전거판매', '0'], ['노래방에서 노래기기시설을 갖추고 노래서비스 노래연습', '9'], ['분식점에서 간이음식조리 떡볶이', '1'], ['무도학원에서 일반인대상으로 무도교육', '5'], ['사업체에서 의뢰를 받아 기업 경영컨설팅해주는 일', '10'], ['약국에서 일반소비자에게 각종의약품판매', '0'], ['아연판, 가성소다 원자재입고, 산처리 ', '2'], [' 도소매 고철,비철,각종철재,공병,파지,폐품등', '0'], ['고객의 요청에 의해 위생관리용역 주거용건물청소', '11'], ['관할구청인가받아 어린이집에서 미취학 영유아보육', '7'], ['음식점에서 접객시설을 갖추고 한식', '1'], ['회집에서 접객시설을 갖추고 한국식회를 판매', '1'], ['매장에서 소비자에게 반지,목걸이판매', '0'], ['사업장에서 산업 사용자에게 소변검사지(리트머스)도매', '0'], ['음식점에서 접객시설을 갖추고 한식', '1'], ['사업장에서 고객의 요구에 의해 장례서비스 제공', '3'], ['음식점에서 접객시설갖추고 백반', '1'], ['유리섬유, 수지 금형부착, 열가함 ', '2'], ['매장에서 접객시설을 갖추고 커피음료제공', '1'], ['농산물센터에서 일반소매상에게 야채 도매', '0'], ['한식  ', '1'], ['학원에서 학생을대상으로 영어보습', '5'], ['전자상거래업  ', '0'], ['음식점에서 접객시설을 갖추고 한국식음식제공  ', '1'], ['노래방에서 시설을 갖추고 노래방', '9'], ['매장에서 일반소비자를 대상으로 핸드폰판매', '0'], ['사무실에서 계약자의뢰 부동산중개', '6'], ['제조업 기계장비및부품 용접,제관', '2'], ['개별화물자동차로 고객의 요청으로 화물운송서비스', '4'], ['사업장에서 시설을 갖추고 양봉', '16'], ['건설현장에서 시멘트이용하여 주택건설', '8'], ['일반화물자동차로 고객의 요청으로 화물운송서비스', '4'], ['부동산중개소에서 계약 및 중개를 통해 부동산거래중개 서비스', '6'], ['용달화물자동차로 고객의 요청으로 화물운송서비스', '4'], ['사업장에서 무역상품 중개서비스', '0'], ['음식점에서 접객시설을 갖추고 짜장면 등', '1'], ['용달화물자동차로 고객의 요청으로 화물운송서비스', '4'], ['사업장에서 시설을 갖추고 한식', '1'], ['일반인을대상으로 전업사에서 전기재료판매', '0'], ['크레인 사업장에서 임대', '11'], ['건설업 전기공사 전기공사업체', '8'], ['의원에서 외래환자위주로 일반의원', '7'], ['업체의뢰받아 원단을 가지고 여성정장제조', '2'], ['교회에서 교인을 대상으로 기독교 활동', '3'], ['일반인을 대상으로 사업장에서 가죽공방운영', '0'], ['현장에서 고객요청에따라 전기공사', '8'], ['주유소에서 주유시설을 갖추고 휘발유 경유', '0'], ['매장에서 일반소비자에게 여성겉옷 소매', '0'], ['아이스크림을 소비자 소매', '0'], ['서비스 대리운전 알선 대리운전연결서비스', '11'], ['매장에서 접객시설을 갖추고 생맥주를 전문 판매', '1'], ['학원에서 초,중학생을 대상으로 영,수학 교습', '5'], ['지적공사 성북구 측량', '10'], ['개인택시로 일반인을 대상으로 승객운송서비스', '4'], ['사무실에서 세무관련 업무의뢰를 받아 세무조정 기장대리', '10'], ['의원에서 외래환자 위주 성형외과 진료 서비스', '7'], ['개별화물자동차로 고객의 요청으로 화물운송서비스', '4'], ['음식점에서 접객시설을 갖추고 게장백반판매', '1'], ['음식점에서 접객시설을 갖추고 닭칼국수', '1'], ['스포츠센타에서 입주민대상 체력단련', '9'], ['사업장에서 고객의 의뢰를 받아 의류 사진촬영', '10'], ['철물점에서 일반소비자를 대상으로 각종 공구및 철물류 판매', '0'], ['학원에서 학생대상 수학교습', '5'], ['사업장에서 일반인대상 건출설계및 감리', '10'], ['사업장에서 일반인 대상 의류세탁', '3'], ['군민들을 대상으로 상하수도사업소에서 수돗물 공급 서비스', '15'], ['사무실에서 고객의 의뢰를 받아 공장자동화설비조립설치', '8'], ['교회에서 기독교 계통 종교활동 종교서비스', '3'], ['매장에서 시설을 갖추고 커피제공', '1'], ['고객의요청에 의해서 건축사무소에서 주택.관공서.아파트설계제공', '10'], ['일반화물자동차로 고객의 요청으로 화물운송서비스', '4'], ['의류수선,판매  ', '3'], ['고객의 의뢰로 매장에서 공고판촉물 배포', '10'], ['공장에서 사업체로부터주문을받아 밥상제조', '2'], ['손해보험회사에서 일반인을대상으로 보상처리업무', '13'], ['일반의원에서 왜래환자위주로 치과진료서비스', '7'], ['고물상에서 수집하여 폐장판', '0'], [' 아이스크림전문점 ', '1'], ['마트(49.5㎡)에서 일반인을 대상으로 음식료품 위주', '0'], ['사무실에서 계약에 의거 부동산중개서비스', '6'], ['가게에서 일반소비자에게 중고의류 소매', '0'], ['부동산중개소에서 계약및중개를통하여 부동산중개', '6'], ['매장에서 일반소비자 대상으로 핸드폰 판매', '0'], ['게임방에서 성인을위주로 슬롯머신', '9'], ['학원에서 학생들에게 교육서비스 수학교육', '5'], ['제조업 주문을 받아 여성속옷', '2'], ['음식점 접객시설을 갖추고 샤브샤브 제공', '1'], ['미용실 서비스업 커트파마 염색', '3'], ['고객이 원하는 장소에 인테리어공사 도배및 실내장식', '8'], ['개인택시로 일반인을 대상으로 승객운송서비스', '4'], ['재가센타에서 방문요양서비스 환자돌봄', '7'], ['사업장에서 일반소비자를 대상으로 차량 인테리어부품 판매', '0'], ['가게에서 일반인을 대상으로 온열찜질로 독소배출', '3'], ['음식점에서 접객시설을갖추고 사철탕,한식제공', '1'], ['112 순찰차 범죄예방 범인검거', '14'], ['여관에서 숙박시설을 갖추고 숙박서비스제공', '1'], ['굿당 찾아오는 손님대상 사주,점,굿', '3'], ['현장 인테리어공사 카펫공사.도배', '8'], ['가게에서(165미만) 소비자를대상으로소매 음식료품위주', '0'], ['영업장소 일반소비자 꽃판매', '0'], ['교회에서 기독교계통 종교활동 종교서비스', '3'], ['사업장에서 인쇄업, 컴퓨터 명함,전단지,스티커등', '2'], ['건물내외에서 고객요청에의해 전기공사', '8'], ['용달화물자동차로 고객의 요청으로 화물운송서비스', '4'], ['음식점에서 접객시설을 갖추고 광어 우럭', '1'], ['오페라단에서 관람객들을 대상으로 오페라공연', '9'], ['매장에서 일반소비자에게 인테리어소품', '0'], ['영업장에서 도매 목재', '0'], ['매장에서 산업사용자에게 음향기기', '0'], ['사업장에서 소비자에게 편의점음료', '0'], ['건설현장에서 고객요구에 따라 주택건설', '8'], ['매장(165제곱미터미만) 일반소비자에게 음식료품및 생활잡화', '0'], ['미장원 두발미용서비스제공 머리자르기,염색', '3'], ['미용실에서 두발서비스 컷트. 파마', '3'], ['음식점에서 접객시설을 갖추고 설렁탕,해장국', '1'], ['월출식당 접객시설을 갖추고 삼겹살,소등심구이 판매', '1'], ['고객이원하는 장소 일반인에게 집수리', '8'], ['사업장에서 고객의요청으로 알루미늄새시바', '2'], ['매장에서 일반인에게 싱크대 소매', '0'], ['업체에서 일반인을 대상으로 찜질방 운영', '3'], ['소수수속옷판매 및 과일채소  ', '0'], ['사업장에서 장비임대 건설기계', '8'], ['용달화물자동차로 고객의 요청으로 화물운송서비스', '4'], ['소매업자에게 모피부자재 도매', '0'], ['금속자재 압축,조형,가공 자동차용 부분품 제조', '2'], ['학원에서 학생대상 국어', '5'], ['황 동 철 프레스가공 조립 버클 뱃지(귀금속제)', '2'], ['도자기  ', '2'], ['사회적도움이필요한사람에게 센터에서 청소년보호', '7'], ['사업장에서 고객의의뢰를받아 의류임가공', '2'], ['창고에서 고객요청에 의거 물류, 창고업', '4'], ['에그드랍 접객시설을 갖추고 샌드위치', '1'], ['교회 종교서비스 종교활동', '3'], ['개별화물자동차로 고객의 요청으로 화물운송서비스', '4'], ['매장에서 일반소비자에게소매 셔츠 블라우스 바지', '0'], ['샵에서 일반고객대상으로 속눈썹연장', '3'], ['세탁소에서 가정용세탁업 드라이 ,다림질', '3'], ['사업장에서 접객시설을 갖추고 떡볶이 .분식판매', '1'], [' 비료 도소매 ', '0'], ['음식점에서 접객시설을 갖추고 한식제공', '1'], ['교회에서 기독교계통 종교활동 종교서비스', '3'], ['교회에서 기독교계통 종교활동 종교서비스', '3'], ['매장에서 일반소비자에게 여성 캐주얼의류', '0'], ['철판, 환봉 입고, 절단 ', '2'], ['사업장에서 제조 금속압형제품제조', '2'], ['금, 은 금, 은, 알로이 혼합, 융해 목걸이,팔찌', '2'], ['자동차부품판매소에서 고객을 대상으로 배터리', '0'], ['파지, 재활용품(폐플라스틱) 파지.고철, 압축성형 재생플라스틱수지 제조', '2'], ['사업장에서 고객을 대상으로 경락, 마사지', '3'], ['매장에서 일반인을 대상으로 청소기등가전제품 판매', '0'], ['개인택시로 일반인을 대상으로 승객운송서비스', '4'], [' 생활도자기를 주문받아서 직접만들어 판매 ', '2'], ['소주방에서 접객요원 및 무도시설 없이 소주, 맥주', '1'], ['접객시설을 갖추고 음식점에서 한식제공', '1'], [' 매점(음,식료품) ', '0'], ['관리사무소에서 아파트입주민에게 아파트 관리서비스를', '6'], ['미진에서  골재, 벽돌,시멘트', '0'], ['매장에서 일반인대상 여성원피스 등 소매', '0'], ['사무실에서 일반고객을대상으로 건축설계및감리', '10'], ['공사장에서 사업체를 대상으로 기계설비 공사', '8'], ['한의원에서 외래환자위주로 한방진료서비스', '7'], ['재생용재료를 수집및 판매 빈병, 파지, 고철', '0'], ['미용실에서 고객을 대상으로 염색', '3'], ['일반화물자동차로 고객의 요청으로 화물운송서비스', '4'], ['미용실에서 일반인대상 헤어컷트,파마', '3'], ['용달화물자동차로 고객의 요청으로 화물운송서비스', '4'], ['알루미늄,PVC 절단,조립 창호제작,시공', '8'], ['음식점에서 접객시설을 갖추고 짬뽕,짜장판매', '1'], ['화원에서 일반소비자에게 꽃및 산식물소매', '0'], ['음식점에서 접객시설을 갖추고 순대국, 순대', '1'], ['매장에서 일반인대상 도배,장판', '8'], ['매장에서 일반소비자 도소매업 의류관련제품(잡화)', '0'], ['개인택시로 일반인을 대상으로 승객운송서비스', '4'], ['스텐레스 절단 철재가구(사무용책상)', '2'], ['호프집에서 접객요원 및 무도시설없이 맥주', '1'], ['음식점에서 접객시설을 갖추고 국밥제공', '1'], ['매장에서 접객시설갖추고 커피', '1'], ['등대 항오표시 신호등 배에목표,뱃길알려줌', '4'], ['상회에서 일반소비자 대상 사과', '0'], ['어린이집에서 보호자로부터 위탁을 받아 취학전아동 보육', '7'], ['사업체대상으로 도매 매장에서 전기재료', '0'], ['건물내에서 고객의요청에의하여 실내내장공사', '8'], ['음식점에서 접객시설을갖추고 장어구이', '1'], ['철판을 선반 가공하여 유압기계 부품 제조', '2'], ['석유류 도소매 액체연료', '0'], ['사무소에서 계약중개알선 아파트,건물', '6'], ['제약회사의의약품을도매 사무실에서 의약품', '0'], ['까페에서 접객시설을갖추고 맥주양주', '1'], ['사업장에서 고객의요청에의해 보일러설비', '8'], ['음식점에서 접객시설을갖추고 갈비탕,갈비', '1'], ['음식점에서 접객시설 갖추고 양식', '1'], ['사업장에서 산업사용자의 주문을 받아 농업용기계', '2'], ['한의원에서 외래환자 위주로 진료서비스', '7'], ['용달화물자동차로 고객의 요청으로 화물운송서비스', '4'], ['일반고객을 대상으로 건물내에서 도배, 벽 실내장식', '8'], ['음식점에서 접객시설을 갖추고 칼국수', '1'], ['음식점 접객시설 갖추고 순대국 제공', '1'], ['용달화물자동차로 고객의 요청으로 화물운송서비스', '4'], ['일반인대상으로 시설을갖추고 컴퓨터방서비스', '9'], ['교회에서 신도들에게 신앙생활', '3'], ['건축사무소에서 고객의 요청에 의해 건축설계', '10'], ['휴양림에서 숙박시설을 갖추고 민박.방갈로 운영', '1'], ['사업장에서 고객의 요구에따라 건물내수도공사', '8'], ['약국 고객 처방약,드링크', '0'], ['사업장 일반인대상 사진촬영', '10'], ['매장에서 접객시설을 갖추고 커피음료판매', '1'], ['음식점에서 접객시설을 갖추고 생선회판매', '1'], ['요양병원에서 요양시설을 갖추고 요양병원', '7'], ['유치원 관할지역 교육청의 인가를 받아 취학전 아동을 교육', '5'], ['개인택시로 일반인을 대상으로 승객운송서비스', '4'], ['사업체에서 고객의 요청에 따라 수도설비공사', '8'], ['용달화물자동차로 고객의 요청으로 화물운송서비스', '4'], ['사업장에서 제조 도소매 프로젝터램프등 영상기', '2'], ['냉동수산물 도매 수산물무역', '0'], ['복권판매소에서 일반소비자에게  소매 각종복권', '9'], ['외환이체, 환전업  ', '13'], ['생선가게에서 일반소비자에게소매 동태.고등어.조기', '0'], ['초장집에서 접객시설을 갖추고 해산물제공', '1'], ['어린이집에서 보호자로부터위탁받아 취학전유아교육', '7'], ['업체에서 주문에 의해 씨디인쇄물및포장', '11'], ['음식점에서 접객시설을갖추고 생선회', '1'], ['가전홈케어  ', '3'], ['개인택시로 일반인을 대상으로 승객운송서비스', '4'], ['카센타 모든자동차를 대상으로 자동차수리,도장등', '3'], ['다방에서 접객시설을 갖추고 차, 음료판매', '1'], ['그릇가게 소비자들에게 냄비,국자등', '0'], ['펜션에서 숙박시설을 갖추고 숙박서비스', '1'], ['현장에서 고객의 요구에 따라 샤시설치', '8'], ['어린이집에서 보호자로부터위탁을받아 취학전아동보육', '7'], ['매장에서 일반인대상 여성정장류 판매', '0'], [' 미용실 ', '3'], ['주류, 잡화  ', '0'], ['일만인대상으로 당구장에서 당구게임서비스', '9'], ['상가점포를 가지고 임대를 통하여 사무실', '6'], ['의류  ', '0'], ['업무지원 도,소매 사업본부', '8'], ['빗물펌프장 홍수방제를 위한 배수펌프처리', '15'], ['미용실에서 두발미용서비스제공 머리자르기', '3'], ['검도관에서 일반인을 대상으로 검도교육', '5'], ['노래방에서 노래방시설을갖추고 노래서비스', '9'], ['두부콩 두부만들어 판매', '2'], ['SDMX, ATP 입고, 합성 화장품원료, 감광재료', '2'], ['슈퍼 일반 소비자에게 잡화.음식료 판매', '0'], ['음식점에서 접객시설을 갖추고 칼국수 판매', '1'], ['상가에서 소매업자에게 도매 포장제 비닐', '0'], ['쌀가게 일반소비자대상 쌀,잡곡등 소매', '0'], ['사업장에서 소매업자에게 소형전자제품', '0'], ['편의점에서 체인계약에 의해 음식료품위주판매', '0'], ['뷰티샵에서 일반인을 대상으로 속눈썹연장', '3'], ['용접,절단 금속 금속용접처리', '2'], ['편의점에서 체인계약을 체결하여 음식료품소매', '0'], ['음식점에서 접객시설을 갖추고 퓨전음식제공', '1'], ['어린이집에서 미취학아동대상으로 보육서비스', '7'], ['철단조, RoundBar 단조품입고, 절삭가공 ', '2'], ['교회 기독교계종교활동 종교서비스', '3'], ['서비스 체력단련실 체력단련장업', '9'], ['간이주점에서 접객시설을 갖추고 접객요원 없이 각종 주류및 안주 제공', '1'], ['미용실에서 일반인을 대상으로 컷트 퍼머', '3'], ['교회 기독교계통종교활동 종교서비스', '3'], ['사업장에서 이어폰 연구개발 골전도 이어폰', '10'], ['플라스틱 사출 화장품 용기', '2'], ['커피숍  ', '1'], ['광고사에서 고객 요구에 따라 각종광고용전기조명장치제조', '2'], ['미용업 서비스 ', '3'], ['스테인레스 용접 조립 오븐기계', '2'], ['사업장에서 별정통신 서비스', '12'], ['가게에게 일반소비자대상 중고의류소매', '0'], ['시멘트, 모래 원재료투입, 컨베어이송 레미콘', '2'], ['일반인 대상으로 헬스장에서 복합운동시설제공', '9'], ['사업주가 건물을가지고 건물임대', '6'], ['건축사무실 일반주민대상 설비', '8'], ['미용학원에서 학생들에게 미용기술교육', '5'], ['매장에서 일반인대상 핸드폰판매', '0'], ['중개소에서 계약및중개 중개거래서비스', '6'], ['매장에서 일반소비자에게 구제 옷 판매', '0'], ['미용실 서비스 퍼머컷', '3'], ['사업장에서 일반인대상으로 임,식료품 위주 소매', '0'], ['법률사무소 의뢰인을대리하여 변호,소송대행', '10'], ['구입한 조기와 소금 염장 가공하여 굴비 제조', '2'], ['화장품 방문판매 매장에서', '0'], ['사업장에서 개발,도매 컴퓨터주변장치소프트웨어', '0'], ['음식점 접객시설을갖추고 냉면.돈까스', '1'], ['교회 기독교계통 종교활동 종교서비스', '3'], ['학원에서 학생들을 대상으로 영어,수학교육', '5'], ['음식점에서 접객시설을 갖추고 해장국,떡만두국', '1'], [' 제조 쌀가루빵', '2'], ['미용실에서 고객대상으로 커트 파마 염색', '3'], ['회집에서 접객시설을 갖추고 일본식이 아닌 한국식회 제공', '1'], ['전자상거래 소매업 일반대중을대상으로 온라인상품서비스', '0'], ['한의원에서 외래환자위주로 한방진료', '7'], ['편의점에서 체인계약을통해 과자,음료등', '0'], ['헤어샵에서 일반고객대상 파마,염색', '3'], ['신문사에서 주 월간발행(외주) 주간신문', '12'], ['음식점에서 접객시설을갖추고 막창,삼겹살', '1'], ['원단, 실 자재입고, 재단 ', '2'], ['식당에서 접객시설을갖추고 메기매운탕,잡고기매운탕 등', '1'], ['부동산중개소에서 계약에 의거하여 부동산중개서비스', '6'], ['학원에서 수강생대상 영어', '5'], ['개별화물자동차로 고객의 요청으로 화물운송서비스', '4'], ['의뢰받아 사무실에서 자동차렌트', '11'], ['아파트관리사무소 아파트입주자를위하여 주거용 아파트 관리서비스', '6'], ['피부관리실에서 고객을 대상으로 피부마사지', '3'], ['교회 기독교계통 종교활동 종교서비스', '3'], ['사업장에서 전자상거래 의류,식품등 구매대행', '0'], ['가게에서 기계시설작동하여 인형뽑기', '9'], ['매장에서 일반소비자에게 남성겉옷소매', '0'], ['학원에서 학생들대상으로 수학학습', '5'], ['일반인을 대상으로 가게에서 갓김치,젓갈', '0'], ['매장에서 일반인대상 커피,음료판매', '1'], ['어린이집에서 관할구청의인가를받아 취학전영유아보육', '7'], ['학원에서 초등생대상 수학', '5'], ['매장에서 생산업자에게 도매 가스켓 패킹,기계장비', '0'], ['일반소비자에게 슈퍼마켓(165-3,000㎡미만)에서 음식료품 소매', '0'], ['단위농협에서 고객을 대상으로 자금 여,수신 제공', '13'], ['개인택시로 일반인을 대상으로 승객운송서비스', '4'], ['매장에서 일반인게 화장품 소매', '0'], ['일식  ', '1'], ['민박집에서 숙박시설을 갖추고 숙박서비스', '1'], ['동대문종합상가에서 도매 원사,화섬사', '0'], ['중학교에서 학생들 대상으로 중등교육', '5'], ['개인택시로 일반인을 대상으로 승객운송서비스', '4'], ['사업장에서 소매업체대상으로 생활용품', '0'], ['사업장에서 고객의 요청에 따라 실내장식', '8'], ['일식집에서 접객시설을 갖추고 일식', '1'], ['음식점에서 접객시설을 갖추고 짜장면', '1'], ['PET필름 코터기삽입, 건조 ', '2'], ['사업장에서 고객대상 서적및교과서출판', '12'], ['취학전 유치원아동 교육서비스', '5'], ['고객의 의뢰를 받아 레아에서 명품가방수선,맞춤판매,일반수선', '3'], ['사업장에서 그림그리기를 하여 미술심리상담', '7'], ['피아노학원에서 초중학생대상으로 피아노교육학습', '5'], ['치킨집에서 접객시설을 갖추고 치킨', '1'], ['사업장에서 일반인을 대상으로 레크레이션교육', '5'], ['철강재 절단, 용접하여 철골 구조물 제조', '2'], ['건설현장에서 철근콘크리트를이용하여 철근,콘크리트공사', '8'], ['사업장에서 일반고객대상으로 안마.지압', '3'], ['사업장에서 산업사용자에게 페인트도매', '0'], ['선박에서 특정부분을 전문적으로 수리 선박전기수리(배전반)', '2'], ['편의점에서 체인갹을체결하여 음식료품소매', '0'], ['제작판매 사업장에서 목재합판으로 가정용가구', '0'], ['커피숍에서 접객시설을갖추고 원두커피제공', '1'], ['매장에서 일반인을 대상으로 가정용전기제품 용품수리', '3'], ['매장에서 일반소비자에게소매 여성캐주얼의류', '0'], ['로타리클럽에서 회원단체를위한 회원관리', '3'], ['치과의원에서 외래환자위주 치관진료 치료', '7'], ['철 절단조립용접, 철센서 산업용보일러외', '2'], ['식당에서 접객시설을 갖추고 중국음식', '1'], ['미용실에서 일반고객대상으로 파마.컷트.염색', '3'], ['사업장에서 도매 미용재료', '0'], ['음식점에서 접객시설을갖추고 갈비제공', '1'], ['음식점에서 접객시설을 갖추고 순대국밥 순대등 판매', '1'], ['한의원 한약재료를가지고 약침 뜸등의료시설제공', '7'], ['부동산중개소에서 계약에의거 부동산중개서비스', '6'], ['주점에서 접객시설을 갖추고 호프.안주일체', '1'], ['온라인에서 고객을 대상으로 쥬얼리 판매', '0'], ['카센타에서 일반인을대상으로 자동차수리', '3'], ['백화점매장에서 일반소비자대상으로 화장품판매', '0'], ['샵에서 고객대상으로 피부관리', '3'], ['치과에서 외래환자위주로 치과진료', '7'], ['사업장에서 시스템소프트웨어 개발공급', '12'], ['음식점에서 일반인에게 닭요리제공', '1'], ['음식점에서 접객시설갖추고 만두요리판매', '1'], ['세탁소에서 세탁물을 수거하여 다림질, 드라이크리닝제공', '3'], ['사무실에서 기업체도매 치약판매', '0'], ['세탁소에서 고객의위뢰에 의해 세탁서비스', '3'], ['사업체에서 일반고객을 대상으로 여성복소매', '0'], ['편의점 일반인대상 식료품위주 소매', '0'], ['영업장에서 일반인을 대상으로 의료기 판매', '0'], ['사업장에서 커피용품 도소매', '0'], ['재건축사무실에서 조합원대상으로 주택,재건축 추진', '3'], ['부동산중개소에서 계약에 의거한 부동산중개 부동산중개,컨설팅서비스', '6'], ['매장에서 즉석식빵을 생산하여 소비자에게 판매 식빵, 생과자등', '1'], ['음식점에서 고객을 대상으로 한식', '1'], ['법률사무소에서 고객의뢰로 소송 변호', '10'], ['용달화물자동차로 고객의 요청으로 화물운송서비스', '4'], ['개인택시로 일반인을 대상으로 승객운송서비스', '4'], ['사업장에서 고객대상 의료기판매', '0'], ['용달화물자동차로 고객의 요청으로 화물운송서비스', '4'], ['사업장에서 소매업자에게 전기전자부품', '0'], ['섹소폰교습소에서 일반인.동호인학생위주로 섹소폰교습, 악기', '5'], ['사업장에서 프랜차이즈관리 ', '10'], ['수학학원 학생들을대상으로 수학지도', '5'], ['실내현장에서 고객의 요구에따라 도배,장판', '8'], ['영업점에서 고객을 대상으로 네일아트', '3'], ['음식점에서 접객시설을갖추고 떡볶이판매', '1'], ['가요주점에서 접객요원 업싱 양주 맥주 안주류 판매  ', '1'], ['항공기계 제조 및 판매  ', '2'], ['사무실에서 고객의요구에따라 건축설계및관련서비스업', '10'], ['알루미늄바 커튼봉 조립 커튼부자재', '2'], ['매장에서 일반소비자에게 성인용품', '0'], ['썬팅 기계를 이용하여 일반인을 대상으로 태닝', '3'], ['가게에서 일반인을대상으로 복권판매', '9'], ['사업장에서 해외여행객을 대상으로 휴대폰로밍서비스', '12'], ['여성용외의를 다른소매업자에대량으로도매 여성용셔츠', '0'], ['치과에서 외래환자위주로 치과진료서비스', '7'], ['어린이집에서 관할구청의 인가를 받아 영유아 보육', '7'], ['사업장에서 일반소비자의뢰받아 상패.명패.감사패', '2'], ['개인택시로 일반인을 대상으로 승객운송서비스', '4'], ['협회에서 정신요양시설 정신보건사업에 관한정보제공', '3'], ['개별화물자동차로 고객의 요청으로 화물운송서비스', '4'], ['매장에서 소비자에게 중국음식판매', '1'], ['유투버 동영상 제작서비스', '12'], ['음식점에서 접객시설을 갖추고 생고기구이', '1'], ['주점에서 접객시설을 갖추고 소주 맥주', '1'], ['중개수수료받고 부동산중개소 부동산거래중개서비스', '6'], ['개인택시로 일반인을 대상으로 승객운송서비스', '4'], ['영업장에서 접객시설을 갖추고 감자튀김제공', '1'], ['제과점에서 접객시설을갖추고 빵,케익 .생과자판매', '1'], ['학원에서 학생대상 무용수업', '5'], ['구입한 철을 프레시 가공하여 산업용배기장치제조', '2'], ['원목,나무 파쇄,분쇄 톱밥판매', '2'], ['용달화물자동차로 고객의 요청으로 화물운송서비스', '4'], ['매장에서 일반고객대상으로 소매 티셔츠,바지', '0'], ['용달화물자동차로 고객의 요청으로 화물운송서비스', '4'], ['매장에서 산업사용자에게도매 철물공구자재', '0'], ['사업장에서 산업사용자에게 과학기자재도매', '0'], ['사업장에서 고객의 요청에 따라 전기수리.출장', '3'], ['Cfbuprazone, Cefazedone 원료입고, 과립혼합 레포스포렌주외', '2'], ['개인택시로 일반인을 대상으로 승객운송서비스', '4'], ['인삼 일반소비자에게도.소매 인삼.홍삼등', '0'], ['건설현장에서 고객의요구에따라 전기공사', '8'], ['사업장에서 고객요청으로 휴대폰판매', '0'], ['식당에서 접객시설을 갖추고 갈치조림등 판매', '1'], ['영업장에서 고객의 요청에 따라 밸런스테이프 판매', '0'], ['개인택시로 일반인을 대상으로 승객운송서비스', '4'], ['매장에서 일반소비자에게 파마,컷 미용서비스', '3'], ['사업장에서 소매업자에게 수입.비료 농약도매', '0'], ['매장에서(50평이상) 일반인에게 음,식료품 판매', '0'], ['지물포에서 일반소비자에게 벽지,장판', '0'], ['노래방에서 음향시설을 갖추고 노래서비스 노래연습장', '9'], ['계량기,계측기 의뢰에따라 계량및계측 판매', '0'], ['매장 일반소비자에게 소매 직물,의류관련 제품', '0'], ['사업장에서 산업사용자에게 건축자재 판매', '0'], ['접객시설을 갖추고 커피.음료 제공업  ', '1'], ['슈퍼에서 체인및계약을 체결하고 일반인대상으로 음료수 과자', '0'], ['초등학교에서 초등학생을 대상으로 초등교육 서비스', '5'], ['세차장에서 고객을 대상으로 차량세차서비스', '3'], ['화장품으로 피부맛사지서비스 피부관리', '3'], ['수선집에서 고객을 대상으로 의류수선', '3'], ['아동센터 아동청소년을 대상으로 교육, 돌봄, 무료급식 등 복지지원 서비스', '7'], ['농업용기계 소비자에게 농업용기계장비임대', '11'], ['영업장에서 고객을 대상으로 스키용품대여', '11'], ['교회에서 기독교계통의종교 종교서비스', '3'], ['사업장에서 배관라임에 고무코팅작업', '8'], ['사업장에서 소비자에 화장품도 소매', '0'], ['매장에서 접객시설을 갖추고 치킨', '1'], ['사업장에서 도난경보장치보안시스템을이용 원격감시및유지관리', '11'], ['사무소에서 구직자를대리하여 인력알선', '11'], ['사업장에서 제조 안전벨트', '2'], ['용천사에서 불교신자 대상 종교활동 서비스', '3'], ['목욕탕에서 일반고객 대상으로 목욕', '3'], ['일반인을 대상으로 사업장에서 인물촬영', '10'], ['개인택시로 일반인을 대상으로 승객운송서비스', '4'], ['터미널에서 일반인을 대상으로 터미널 운영', '4'], ['의류  ', '0'], ['아동센터 아동청소년을 대상으로 교육, 돌봄, 무료급식 등 복지지원 서비스', '7'], ['웨딩고객에게 예식장에서 예식장 운영', '3'], ['일반사업자에게 만들어진 매트리스를 매트리스도매', '0'], ['일반인대상으로 사업장에서 전기부품,전기조명', '0'], ['사업장에서 고객의 의뢰를 받아 낚시배 알선', '4'], ['참치요리 접객시설을갖추고 참치회판매', '1'], ['현대차 서비스점에서 일반차량 차량점검 전문수리 서비스', '3'], ['음식점에서 접객시설갖추고 삼겹살구이', '1'], ['개인택시로 일반인을 대상으로 승객운송서비스', '4'], ['개별화물자동차로 고객의 요청으로 화물운송서비스', '4'], ['개별화물자동차로 고객의 요청으로 화물운송서비스', '4'], ['상회에서 일반소비자에게 각종 수산물 판매', '0'], ['사업장에서 접객시설을 갖추고 차', '1'], ['현장에서 고객의 요청에 의해 샷시.창호설치공사', '8'], ['노래연습실에서 접객시설을 갖추고 노래연습실', '9'], ['상가에서 일반 소비자에게 소매 가정용 잡화', '0'], ['음식점에서 접객시설을갖추고 차돌박이제공', '1'], ['직업소개소에서 소개수수료받고 고용알선', '11'], ['휴대폰매장에서 일반인대상으로 휴대폰소매', '0'], ['미용실에서 고객을 대상으로 퍼머,염색,커트', '3'], ['가게에서 일반인을 대상으로 커피', '1'], ['인쇄업 제조업 영업장에서', '2'], ['음식점에서 접객시설을 갖추고 백반 제공', '1'], ['수퍼에서 일반소비자에게 식품,잡화', '0'], ['사무실에서 소매업자들에게 밀가루 수입판매', '0'], ['장판 벽지등 의뢰인대상 시공업자에게 하청', '0'], [' 가맹점을 대상으로 돼지고기 도매 ', '0'], ['CONTROL PANOL 제작 전기자동제어반 제조', '2'], ['체육관에서 학생들에게 태권도 교육', '5'], [' 건물관리업 ', '11'], ['접객 시설을 갖추고 대중에게 한식 제공  ', '1'], ['체육관에서 일반인을 대상으로 합기도체육', '5'], ['부동산중개소에서 고객의뢰 중개서비스', '6'], ['사업장에서 고객의요구로 상조서비스', '11'], ['세탁소에서 일반고객을 대상으로 세탁', '3'], ['인삼을 가지고 소비자 대상으로 소매 인삼，인삼제품 도매 소매', '0'], ['음식점에서 객실시설을 갖추고 중식,짜장면', '1'], ['철 선반빌링,가공 산업기계부품', '2'], ['사업장에서 일반농업인을 대상으로 농기계수리서비스', '2'], ['음식점에서 접객시설을 갖추고 철판불고기, 수제갈비', '1'], ['개별화물자동차로 고객의 요청으로 화물운송서비스', '4'], ['식당에서 접객시설을 갖추고 조개구이와식사제공', '1'], ['펄리사 편직 화섬직물', '2'], ['개별화물자동차로 고객의 요청으로 화물운송서비스', '4'], ['벼를가지고 기계를 이용하여 쌀을 도정', '2'], ['고객의 요청에 의해 가스설비 배관 공사 설치', '17'], ['사업장에서 케이스, 머그컵 등을 전자상거래 운영', '0'], ['한식당에서 접객시설을 갖추고 한식뷔페', '1'], ['사업장에서 고객요구에따라 풍력설비', '8'], ['매장에서 일반소비자에게 아돔복 소매', '0'], ['금속 재단,가공 제작 명판제조,캐스터', '2'], ['펜션에서 숙박시설을 갖추고 숙박서비스', '1'], ['개인택시로 일반인을 대상으로 승객운송서비스', '4'], ['개별화물자동차로 고객의 요청으로 화물운송서비스', '4'], ['사업장에서 외국인을  대상으로 운송업주선', '4'], ['부동산에서 고객에게 부동산중개', '6'], ['사업장에서 일반소비자를 대상으로 표구 액자제조', '2'], ['가게에서 접객시설을 갖추고 커피판매', '1'], ['음식점에서 접객시설을갖추고 김밥', '1'], ['모터,플라스틱바디 조립 부스터펌프', '2'], ['동양 O．A사무용가구 일반소비자대상으로 사무용가구 외', '0'], ['사업장에서 일반학생대상으로 수학교육', '5'], ['펜션 숙박시설을 갖추고 숙박 서비스', '1'], ['가정용 세탁물 드리이크리닝을 설치하여 세탁서비스', '3'], ['사업체에서 병원등에 의료기도매', '0'], ['사업장에서 다른소매업자에게 비알콜음료판매', '0'], ['무역회사에서 해외에서 산업용기계를 수입하여 기계장비도매', '0'], ['사업장에서 소매업자에게 우육도매', '0'], ['부동산에서 계약, 중개수수료를 받아 부동산중개서비스', '6'], ['음식점에서 접객시설을갖추고 소갈비,삼겹살', '1'], ['개인택시로 일반인을 대상으로 승객운송서비스', '4'], ['현장에서 고객의 요청에 의해 실내인테리어공사', '8'], ['주점에서 접객요원없이 소주,맥주', '1'], ['분식점에서 간이음식조리 떡볶이', '1'], ['휠타,휀,팬모터,어댑터 조립,시험,완성 공기청정기 제조', '2'], ['커피.홍차.쌍화차등 판매  ', '1'], ['개별화물자동차로 고객의 요청으로 화물운송서비스', '4'], ['개인택시로 일반인을 대상으로 승객운송서비스', '4'], ['가게에서 일반인을 대상으로 아동복 소매', '0'], ['음식점에서 접객시설 갖추고 부대찌개', '1'], ['개별화물자동차로 고객의 요청으로 화물운송서비스', '4'], ['개인택시로 일반인을 대상으로 승객운송서비스', '4'], ['음식점에서 접객시설을 갖추고 오리불고기', '1'], ['음식점에서 접객시설을 갖추고 수제비,칼국수', '1'], ['용달화물자동차로 고객의 요청으로 화물운송서비스', '4'], ['음식점에서 접객시설을 갖추고 복국 아구탕', '1'], ['전기ㆍ전자공학 연구개발업  ', '10'], ['어린이집에서 보호자로부터 위탁을 받아 취학전유아보육서비스', '7'], ['법무사 사무실에서 의뢰인을 대리하여 법무서비스', '10'], ['학원에서 학생들에게 영어 수학', '5'], ['사업장에서 일반인 대상으로 여성의류', '0'], ['분식점에서 접객시설을 갖추고 우동.튀김,김밥', '1'], ['분식집에서 간이음식조리 김밥 떡볶이', '1'], ['제과점에서 제조시설을 갖추고 빵,생과자등 판매', '1'], ['분식집에서 접객시설을 갖추어서 호떡.김밥 등', '1'], ['각종 중고자동차를 고객을대상으로 중고자동차매매', '0'], ['해수 태양열에 증발시켜 천일염', '18'], ['시멘트, 골재 시멘트골재투입, 믹싱 ', '2'], ['요가학원에서 일반인을대상으로 요가', '5'], ['원예농업협동조합서곡점에서 일반대중 및 기업을 대상으로 여수신업무', '13'], ['주점에서 접객요원및무도시설없이 소주,맥주', '1'], ['음식점에서 접객시설을갖추고 태국음식', '1'], ['매장에서 일반인대상으로소매 바지.셔츠', '0'], ['용달화물자동차로 고객의 요청으로 화물운송서비스', '4'], ['꽃 일반인 대상 소매 꽃판매', '0'], ['원단으로 재단재봉하여 티셔츠제조', '2'], ['음식점에서 접객시설을 갖추고 참치', '1'], ['고객이원하는장소에 고객이원하는사업장에 건축자재임대', '8'], ['세차장에서 차량대상으로 세차업', '3'], ['용달화물자동차로 고객의 요청으로 화물운송서비스', '4'], ['한식을 제공하는 산업  ', '1'], ['초경S45 밀링 연삭 초경,기계공구', '2'], ['광학전자부품 조립, 생산  ', '2'], ['홍，야채과일에서 일반인을 대상으로 야채,과일', '0'], ['  한식음식점업', '1'], ['사업장에서 일반인을 대상으로 정기간행물, 잡지발행', '12'], ['문구점에서 일반인 대상 복사지,화일등 판매', '0'], ['사업장에서 건강식품 방판', '0'], ['부동산 계약에의해 부동산중개', '6'], ['매장에서 고객에게 홍콩식음식', '1'], ['매장에서 일반소비자 정육판매', '0'], ['개인택시로 일반인을 대상으로 승객운송서비스', '4'], ['빵 및 과자류  ', '0'], ['용달화물자동차로 고객의 요청으로 화물운송서비스', '4'], ['음식점에서 접객시설을갖추고 샤브샤브,샐러드', '1'], ['약국에서 일반인을대상으로소매 감기약,소화제', '0'], ['사무실에서 고객대상으로 여행알선', '11'], ['합성수지 용제 안료 첨가제 혼합 페인트 색상만들기', '2'], ['사무실에서 고객의 의뢰를 받아 세금관련업무 대행 서비스', '10'], ['사업장에서 일반소비자 대상 육류 소매', '0'], ['화물차로 소화물운송 택배업', '4'], ['한의원에서 외래환자위주로 침,뜸', '7'], ['사무실에서 일반인대상으로 보안장치설치', '11'], ['용달화물자동차로 고객의 요청으로 화물운송서비스', '4'], ['네일샵에서 일반인을 대상으로 네일 서비스', '3'], ['영상제작  ', '12'], ['소주방에서 접객요원및 무도시설없이 소주맥주판매', '1'], ['노래방에서 노래방기기를 이용하여 노래장소제공', '9'], ['사업장에서 소매업자를 대상으로 야채 유통', '0'], ['협회 산악운동을 범국민으로 발전시킴 산악협회', '9'], ['부동산중개소에서 계약에 의거 부동산중개 부동산중개서비스', '6'], ['펌프,모터 일반 소비자대상 펌프,모터 도,소매', '0'], ['용달화물자동차로 고객의 요청으로 화물운송서비스', '4'], ['학원에서 학생 대상으로 전과목 교습', '5'], ['매장에서 일반소비자들대상으로 음.식료품판매', '0'], ['여관에서 개별룸서비스없이 숙박서비스제공', '1'], ['세탁방 일반고객 세탁', '3'], ['용달화물자동차로 고객의 요청으로 화물운송서비스', '4'], ['성형외과에서 외래환자위주로 성형진료서비스', '7'], ['한식  ', '1'], ['사업장에서 일반소비자에게 각종 식탁용및 주방용품 소매', '0'], ['음식점에서 접객시설을 갖추고 일본식음식', '1'], ['한식  ', '1'], ['용달화물자동차로 고객의 요청으로 화물운송서비스', '4'], ['음식점에서 접객시설을갖추어 석쇠불고기배달', '1'], ['매장에서 일반소비자를 대상으로 한약제소매', '0'], ['음식점에서 접객시설을 갖추고 갈비구이 제공', '1'], ['매장에서 산업 사용자에게 철망도매', '0'], ['카페 접객시설갖추고 커피', '1'], ['음식점에서 접객시설을 갖추고 김치찌게 된장찌게등', '1'], ['음식점에서 일반인대상 민물장어참숯구이', '1'], ['철 쇼트용접,알곤용접 제품생산', '2'], ['치과에서 외래환자 위주로 치과진료 서비스', '7'], ['사무실에서 일반인 대상으로 부동산중개', '6'], ['차량을 가지고 고객의 요청에 따라 대리 운전 서비스', '3'], ['개인택시로 일반인을 대상으로 승객운송서비스', '4'], ['음식점에서 접객시설을갖추고 순대,족발', '1'], ['매장에서 고객대상 식료품 판매', '0'], ['미장원 고객대상 커트파마염색', '3'], ['사업장에서 사회소외계층매매 물품지원,재능기부', '3'], ['제과점에서 접객시설을 갖추고 빵 케？', '1'], ['음식점에서 접객시설을 갖추고 덮밥(퓨전음식)을 제공', '1'], ['문방구에서 학생이나 일반인을대상으로 노트.연필.일기장등', '0'], ['민박에서 일반인을 대상으로 숙박서비스', '1'], ['토속주점에서 접객요원없이 소주, 맥주', '1'], ['천연물로 연구개발 건강기능식품', '10'], ['음식점에서 접객시설을갖추고 한식제공', '1'], ['세탁소에서 세탁의뢰자를 대상으로 드라이 세탁서비스', '3'], ['휴대폰  ', '0'], ['개인택시로 일반인을 대상으로 승객운송서비스', '4'], ['한식.칼국수  ', '1'], ['영업장소에서 일반소비자에게 가전제품판매', '0'], ['매장에서 일반인을 대상으로 여성의류', '0'], ['현장에서 고객의 요구에 따라 철근, 콘크리트 공사', '8'], ['사무실에서 기업 등 고객 의뢰를 받아 영상콘텐츠제작', '12'], ['고객의 사업시설에서 고객의 의뢰에따라 건축구조설계 ,안전진단', '10'], ['스텐레스를 구축물에 부착되는 각종 구조용 금속판제품 제조 배기닥트,금속지붕', '2'], ['편의점에서 일반소비자를 대상으로 음,식료품', '0'], ['사업장에서 일반대중에게 숙박제공', '1'], ['매장에서 일반소비자에게 화장품', '0'], ['블루페페에서 일반소비자에게 여성의류소매', '0'], ['사업체에서 재활용폐지 수출', '0'], ['사업장에서 연습을 통해 오케스트라 공연기획', '9'], ['학원에서 학생을대상으로 합기도,유도', '5'], ['철판을가지고 자동차 부품생산', '2'], ['용달화물자동차로 고객의 요청으로 화물운송서비스', '4'], ['영업장에서 고객에게 김치찌개판매', '1'], ['사업장에서 김치제조 김치,깍두기', '2'], ['사업장에서 소비자 대상으로 블루투스스피커', '0'], ['광고사 제조 간판및광고현수막', '2'], ['호떡, 커피  ', '1'], ['일반소비자에게 접객시설을갖추고 백반,된장찌개판매', '1'], ['사업장에서 소비자에게 화장품소매', '0'], ['사업장에서 일반 소비자에게 음,식료품(165m²미만)', '0'], ['매장에서 소매업자에게도매 티셔츠', '0'], ['만두집에서 접객시설을 갖추지않고 찐빵, 만두', '1'], ['양파, 마늘 탈피 냉장창고，농산물창고', '4'], ['의원에서 외래환자 위주로 이비인후과 진료', '7'], ['구입한원단을 재단,재봉하여 속옷제조', '2'], ['철판 프레스가공 후렌지임가공', '2'], ['  편의점', '0'], ['사업장에서 소매업자에게 비철금속 도매', '0'], ['인터넷으로 고객에게 해외명품소매 전자상거래', '0'], ['재생용금속 수집하여 도매 스텐판매 스크랩', '0'], ['수학학원 학생들에게 수학교육', '5'], ['레스토랑 접객시설을 갖추고 스테이크 판매', '1'], ['가게에서 일반 농민 대상자에게 농약,비료 등 판매', '0'], ['용달화물자동차로 고객의 요청으로 화물운송서비스', '4'], ['소매업자에게 사업장에서 페인트 도매', '0'], ['진흥회에서 장애인들을 위한 장애인권익보호단체', '3'], ['부동산중개소에서 계약에의거 부동산중개서비스', '6'], ['사진인화,현상처리 사업장에서 고객의 의뢰를 받아  ', '10'], ['음식점에서 접객시설을 갖추고 일본식음식제공', '1'], ['사업장에서 의뢰인요청으로 실내장식, 도배', '8'], ['부식가게에서 일반소비자에게 무우.배추', '0'], ['개인택시로 일반인을 대상으로 승객운송서비스', '4'], ['매장에서 일반고객대상 화장품 판매', '0'], ['소매업자에게 사업장에서 페인트도매', '0'], ['생화꽃 소비자에게 꽃집', '0'], ['철, 합금 입고, 믹싱 금속분말', '2'], ['자전거 매장에서 일반 소비자에게 소매 자전거', '0'], ['분식점에서 일반소비자대상으로 김밥,간이음식제공', '1'], ['사업장에서 굴삭기용어터치 브레이카수리', '2'], ['시설내에서 주문을 받아 거울,도장 판매', '0'], ['주점에서 접객시설을갖추고 소주,사케판매', '1'], ['음식점에서 접객시설을갖추고 순대국밥', '1'], ['정형외과에서 외래환자 진료', '7'], ['금형 기계설비 개발 컨설팅 금형,기계설계', '10'], ['사업장에서 각기업체에 인력파견', '11'], ['가게 소매 건어물', '0'], ['알루미늄 원재료, 임가공MCT ', '2'], ['사무실에서 건물인테리어 고객서비스', '8'], ['사업장에서 고객들을대상으로 노래,주류', '1'], ['사무실에서 NGO 교육', '3'], ['미용실에서 고객을대상으로 염색 파마등', '3'], ['영업장에서 일반소비자를 대상으로 핸드폰소매', '0'], ['전화매체를 통하여 영업장에서 고객요청으로대여전문', '11'], ['미용실에서 고객대상으로 파마,염색', '3'], ['음식점에서 접객시설을갖추고 감자탕', '1'], ['사무실 의뢰인대상 무료진료봉사등 서비스', '3'], ['용달화물자동차로 고객의 요청으로 화물운송서비스', '4'], ['매장 일반소비자에게 자동차소매', '0'], ['개인과외교습소  ', '5'], ['학원에서 학생대상 수학교육', '5'], [' 스테이크와 샐러드등 양식전문식당 ', '1'], ['관리사무소 입주상인의편의를위해 건물관리', '6'], ['사업장에서 일반인을상대로 커피및음료', '1'], ['매장에서 고객의 요청에 의해 피부미용업', '3'], ['사업장에서 온도 조절장치 없이 보관 서비스', '4'], ['지역주민대상 보건소 건강관리.질병예방', '7'], ['마사지샵에서 고객을대상으로 피부마사지', '3'], ['교회에서 신도들을 대상으로 종교활동 서비스', '3'], ['의원에서 환자대상 이비인후과 진료', '7'], ['주점에서 무도시설을 갖추고 맥주,양주', '1'], ['음식점에서 접객시설을갖추고 막창제공', '1'], ['현장에서 고객의요청으로 도배장판시공', '8'], ['매장에서 일반소비자에게 회', '0'], ['용달화물자동차로 고객의 요청으로 화물운송서비스', '4'], ['사업장에서 고객들에게 부동산투자컨설팅', '6'], ['구내식당에서 접객시설을 갖추고 백반', '1'], ['매장에서 일반소비자에게 가정용이불소매', '0'], ['미용실에서 고객을 대상으로 파마 염색서비스제공', '3'], ['실크스크린 의뢰를 받아 각종인쇄', '2'], [' 숙녀복 원단 소매 ', '0'], ['사업장에서 의뢰받아 상품포장기계', '2'], ['차 재료  ', '0'], ['사무실에서 방송제작 방송프로그램제작', '12'], ['개인택시로 일반인을 대상으로 승객운송서비스', '4'], ['어린이집에서 영유아아동대상으로 보육서비스', '7'], ['사업장에서 일반인에게 전신맛사지', '3'], ['음식점에서 접객시설을 갖추고 갈비등을 판매', '1'], ['오락실에서 일반인들에게 마작오락서비스제공', '9'], ['학원 학생대상 수학, 영어교육', '5'], ['치킨점에서 접객시설을 갖추고 치킨', '1'], ['미장원에서 두발미용서비스 퍼머,염색,커트등', '3'], ['사업장에서 철골을 가지고 철구조물 기계제작', '2'], ['음식점에서 접객시설을 갖추고 오리양념', '1'], ['민박집에서 숙박시설을 갖추고 숙박서비스', '1'], ['카페에서 접객시설을갖추고 커피등제공', '1'], ['영업장에서 다른소매업자에게 도매 빵류', '0'], ['찜질방에서 찜질방고객에게 음료수소매', '0'], ['사업장에서 일반소비자대상 배추김치제조', '2'], ['판매점에서 구매자대상 자동차부품판매', '0'], ['음식점에서 접객시설을갖추고 보신탕,삼계탕등을판매', '1'], ['사업장에서 업체에납품 단미.보조사료', '0'], ['아크릴 조립제작 광고물(싸인물)', '2'], ['방앗간 쌀을 가공하여 떡제조', '2'], ['일반음식점  ', '1'], ['영업장에서 접객시설을 갖추고 한식제공', '1'], ['교회에서 신자들을 대상으로 기독교계 종교활동', '3'], ['모텔에서 숙박시설을갖추고 숙박서비스제공', '1'], ['현장에서 고객의 요구에 따라 토목공사(흙운반및 땅고르르기)', '8'], ['편의점에서 체인계약체결하여 음식료품소매', '0'], ['고객의요청에따라 사업장에서 인력공급업', '11'], ['트레일러  ', '4'], ['장충동왕족발에서 고객의 주문을 받아 족발판매', '1'], ['편의점 쳬인계약을체결하여 음료및 생활용품판매', '0'], ['편의점에서 일반인을대상으로 식.음료품판매', '0'], ['매장에서 고객에게 안경판매', '0'], ['커피숍에서 접객시설을 갖추고 원두커피 제공', '1'], ['당구장에서 당구장시설을 갖추고 당구장운영', '9'], ['건설사업관리 작업자들이기술제안서를작성 건축설계서비스', '10'], ['사업체에서 제조 통신전자부품제조', '2'], ['음식점에서 접객시설을 갖추고 돼지국밥', '1'], [' 농업영양제,비료,유박을 소매로 판매하고 있음 ', '0'], ['주점에서 접객시설을 갖추고 소주,맥주', '1'], ['철판 업체의뢰받아 실크인쇄', '2'], ['용달화물자동차로 고객의 요청으로 화물운송서비스', '4'], ['영업장에서 병원대상으로 의료용품도매', '0'], ['매장에서 치과병원에 의료용치과재료 납품', '0'], ['용달화물자동차로 고객의 요청으로 화물운송서비스', '4'], ['스틸.양은 절단.절곡 유압산업하역기계', '2'], ['사업장에서 고객요구에 따라 전기내부공사', '8'], ['사업장에서 일반인대상으로 보험대리 서비스', '13'], ['사업장에서 병원에 병원용품도매', '0'], ['화장품을가지고 일반소비자에게 방문하여 한방화장품', '0'], ['음식점에서 접객시설을갖추고 멕시코퓨전음식', '1'], ['미장원에서 고객을 상대로 염색 파마 커트', '3'], ['한약재,고기,수산물 엑기스 추출기에서 혼합엑기스판매', '2'], ['사무실에서 일반인대상으로 부동산중개서비스', '6'], ['포교원에서 일반인 대상으로 종교활동', '3'], ['점집에서 일반인 대상 점을 보거나 복을 기원', '3'], ['식당에서 일반고객대상으로 쌈밥', '1'], ['개인택시로 일반인을 대상으로 승객운송서비스', '4'], ['BMCSMC 압축 싱크대상판', '2'], ['비철 고찰 수거수집해서 고물상운영', '0'], ['사무실에서 응용소프트웨어개발 개발 공급', '12'], ['선박에 관한 각종업무대행 해운대리점', '4'], ['사무실에서 채권자를 대리하여 채권추심', '11'], ['아크릴,금속,목재 절단,본드,피스작업 진열대제조', '2'], ['매장에서 일반소비자에게 중고TV소매', '0'], ['사업체와체결하여 대흥물산 골재납품', '0'], ['ABS 조립가공 칫솔살균기', '2'], ['사업장에서 전자부품 도매', '0'], ['중국음식점에서 접객시설을 갖추고 짬봉, 우동등을 판매', '1'], ['개별화물자동차로 고객의 요청으로 화물운송서비스', '4'], ['복권 소매 ', '9'], ['음식점에서 접객시설을 갖추고 삼겹살', '1'], ['일반화물을 업체대상으로 운수업', '4'], ['일반음식점 접객시설을갖추고 닭곰탕', '1'], ['음식점에서 접객시설을갖추고 짜장 짬뽕', '1'], ['철 선반가공 기어제작', '2'], ['건강원에서 액화식품 제조법 배즙,개소주', '2'], ['건물내 고객의 요구에 따라 도배공사', '8'], ['가공우유를가지고 다른소매업자에에 우유.요구르트도매', '0'], ['사무실에서 계약에의한 부동산중개', '6'], ['산업사용자의 요구에 따라 영업장에서 재생목재제조', '2'], ['용달화물자동차로 고객의 요청으로 화물운송서비스', '4'], ['가게에서 일반소비자에게 소매 이불 카바', '0'], ['선재 입고, 단조 자동차부품(볼트,너트)', '2'], ['현장에서 의뢰인의 요청을 받아 타일. 설비공사', '8'], ['사업장에서 제조 인삼 홍삼제품제조', '2'], ['사업장에서 시설을 갖추고 유기질비료 제조', '2'], ['사무실에서 병원요청으로 의교용품도매', '0'], ['신협 고객대상 은행관련 서비스', '13'], ['개인택시로 일반인을 대상으로 승객운송서비스', '4'], ['어르신 돌봄 요양원', '7'], ['부동산 고객요청으로 중개업', '6'], ['도서관 일반및 학생대상 영어서적임대', '11'], ['사무실에서 의뢰인을 대리하여행정기관및공공기관등에 제출 노동상담.서류대행작성제출', '10'], ['매장에서 일반인을 대상으로 생활용품판매', '0'], ['작업실에서 의뢰인에게 컵 그릇등제조', '2'], ['알루미늄, 아크릴 명판조각 조각가공업', '2'], ['연구소에서 고객의뢰 기계소재,부품', '2'], ['개인택시로 일반인을 대상으로 승객운송서비스', '4'], ['부동산에서 고객을대상으로 부동산중개서비스', '6'], ['미용실에서 일반고객 대상 파마, 염색, 컷트 제공', '3'], ['다방에서 접객시설을 갖추고 커피, 주스, 사이다 판매', '1'], ['사업장에서 고객을대상으로 화초', '0'], ['사업장에서 일반이대상 환경보호운동사법', '3'], ['회사에서 소비자에게 여성의류소매', '0'], ['부동산에서 중개및 계약에의거 부동산중개서비스', '6'], ['개인택시로 일반인을 대상으로 승객운송서비스', '4'], ['접객시설이 있는 매장에서 일반인을 대상으로 빵,음료등 판매', '1'], ['정수기.샤워기 조립 정수기.샤워기', '2'], ['용달화물자동차로 고객의 요청으로 화물운송서비스', '4'], ['매장에서 소매 남성의류', '0'], ['매장에서 소매업자에게도매 셔츠', '0'], ['개별화물자동차로 고객의 요청으로 화물운송서비스', '4'], ['학원 학생 보습학원', '5'], ['음식점에서 접객시설을 갖추고 아구찜', '1'], ['미장원에서 두발미용서비스제공 머리자르기.염색', '3'], ['개별화물자동차로 고객의 요청으로 화물운송서비스', '4'], ['음식점에서 일반인을대상으로 팥죽,수제비 판매', '1'], ['커피숍에서 고객들에게 커피.음료제공', '1'], ['화물터미널에서 수출입업체를 대상으로 운송,통관대행서비스', '4'], ['사업장에서 접객시설을갖추고 김밥판매', '1'], ['이화청기와 일반소매업자에게도매 기와,동판,방부목', '0'], ['상점에서 소매업자에게도매 전기자재,전동기', '0'], ['개별화물자동차로 고객의 요청으로 화물운송서비스', '4'], ['사업장에서 제철과일을 가지고 과일수제청 양갱 육포제조', '2'], ['치과에서 외래환자위주로 치과진료', '7'], ['매장에서 고객을대상으로 손,발톱관리', '3'], ['사업장에서 고객의 요구에 따라 토목측량,설계', '10'], ['분식음식점에서 접객시설을갖추고 분식 만두', '1'], ['음식점에서 접객시설을깆추고 삼계탕', '1'], ['아스콘산업단체 동일분야산업이익증진 단체홍보', '3'], ['산모들에게 조리원에서 산모돌봄', '3'], ['정육점 일반소비자들에게 소매 돼지고기, 쇠고기', '0'], ['사업장에서 장비조립하여 대기측정장비제조', '2'], ['건설현장에서 고객의 요구에따라 거주용주택건설', '8'], ['부동산중개소에서 계약에의해 부동산중개서비스', '6'], ['필터 제조 차량용냉난방기', '2'], ['모텔에서 개별룸서비스없이 숙박서비스제공', '1'], ['목욕탕에서 일반인을 대상으로 사우나', '3'], ['관리사무소 입주자를위해 아파트관리', '6'], ['음식점에서 접객시설을 갖추고 육류 구이', '1'], ['가축의오염물질의수집 운반 처리및처분 축산분뇨 처리시설 가축분뇨 축산폐수등.', '15'], ['음식점에서 접객시설을 갖추고 갈비찜', '1'], ['매장에서 일반소비자에게 가정용가구소매', '0'], ['렉스모텔 숙박시설을갖추고 숙박서비스제공', '1'], ['주거용 건물에서 일반인상대로 원룸 임대업', '6'], ['밀가루, 설탕 원료계량, 혼합 ', '2'], ['편의점에서 체인계약을 체결하여 식료품.상품판매', '0'], ['음식점에서 접객시설을 갖추고 돼지고기 구이 판매', '1'], ['핸드폰매장에서 일반소비자를 대상으로 핸드폰판매', '0'], ['개인택시로 일반인을 대상으로 승객운송서비스', '4'], ['사업장에서 소매업자에게 화장품도매', '0'], ['구매자대상으로 판매점에서 자동차배터리도소매', '0'], ['용달화물자동차로 고객의 요청으로 화물운송서비스', '4'], ['시장에서 소매업자에게 도매 야채류', '0'], ['개별화물자동차로 고객의 요청으로 화물운송서비스', '4'], ['아이에프에이코프에서 일반인 대상으로 보험 컨설팅 상담', '13'], ['카센타에서 고객을대상으로 엔진교환및 타이어수리및교환', '3'], ['어린이집에서 부모에게 위탁받아 취학전유아교육', '7'], ['개인택시로 일반인을 대상으로 승객운송서비스', '4'], ['가게에서 소비자에게 소매 반찬', '0'], ['사업장에서 고객의 요청으로 인테리어시공', '8'], ['업체로부터의뢰를 받아 콜센타상답원을채용 고용알선업무대행중개', '11'], ['사업장에서 고객의 요구에 따라 실내장식공사', '8'], ['일반소비자를 대상으로 매장에서 여성 속옷 소매', '0'], ['음식점에서 접객시설을갖추고 순대국판매', '1'], ['다른 소매업자에게 사업체에서 베지밀 그린비아 도매', '0'], ['음식점에서 접객시설을갖추고 피자', '1'], ['사무실에서 의뢰받아 노동상담,서류대행', '10'], ['사업장에서 모래채취 세척판매', '18'], ['철학관에서 일반고객대상으로 사주.궁합', '3'], ['미장원에서 두발미용서비스제공 머리자르기. 염색등', '3'], ['개인택시로 일반인을 대상으로 승객운송서비스', '4'], ['고시원에서 숙박시설갖추고 숙박제공', '1'], ['이용실에서 고객의 요청에 따라 파마,커트,염색', '3'], ['기독교 단체  ', '3'], ['상가에서 소매업자에게 도매 양말', '0'], ['재생용 재료 수집 및 판매업 녹여서 플라스틱 재생 재료', '0'], ['음식점에서 접객시설갖추고 해산물요리', '1'], ['개인택시로 일반인을 대상으로 승객운송서비스', '4'], ['커피솝에서 접객시설을갖추고 커피', '1'], ['철재,금속 절단조립제작 테이프코팅기 기계', '2'], ['정미소에서 일반 소비자가 곡물 도정을 부탁하면 쌀도정', '2'], ['사업장에서 일반소매업자에게 청소용품', '0'], ['교회에서 기독교계통 종교활동 종교서비스', '3'], ['부동산사무실에서 계약에의거 부동산중개서비스', '6'], ['사업장에서 소매업자에게 의류，잡화', '0'], ['모텔에서 숙박시설을 갖추고 숙박', '1'], ['음식점에서 접객시설을갖추고 꼬막정식제공', '1'], ['미장원에서 고객을대상으로 커트.파마', '3'], ['사무실에서 종중들을대상으로 종중재산관리', '3'], ['음식점에서 시설을 갖추고 회,대구탕', '1'], ['플라스틱 조립 미용기구', '2'], ['치과에서 외래환자위주로 충치등 치과진료', '7'], ['카센타에서 고객요청에따라 경정비, 타티터, 내장 수리등의 서비스제공', '3'], ['제조 금형제조 금형,부품가공조립', '2'], ['벽지및장판류소매업 일반소비자에게 벽지,장판', '0'], ['치과의원에서 외래환자에게 치과진료', '7'], ['철 프레스 전자부품프레스가공', '2'], [' 도배 등 실내 인테리어 공사 ', '8'], ['매장에서 사용자를 대상으로 안전화,작업복,장갑등 안전용구 도매', '0'], ['주점에서 접객요원을 두고 맥주,양주', '1'], ['상가점포를 가지고 임대를통하여 사무실', '6'], ['고물상에서 고철 폐지 수립 판매 고철 폐지 재활용', '0'], ['매장에서 일반소비자에게 소매 의류(골프)', '0'], ['식당에서 일반고객을 대상으로 육개장,삼계탕,탕류판매', '1'], ['의류  ', '0'], ['어린이집에서 취학전아동 교육', '7'], ['미용실에서 두발미용서비스제공 머리자르기,염색,등', '3'], ['현장 고객요구따라 토목건축', '8'], ['수지,화학제품 도소매업 기초유기화합물', '0'], ['접객시설을 갖추고 한국식 음식 제공  ', '1'], ['관리사무소에서 부동산업 및 임대업 주거용 부동산을관리하는 산업', '6'], ['소포,택배 위탁배달원  ', '4'], ['고객의요청에따라 영업장에서 가구，씽크대및수리', '3'], ['소매 일반인을 대상으로 반찬', '0'], ['미용실 여성두발 미용서비스제공 컷트,염색,퍼머등', '3'], ['개인택시로 일반인을 대상으로 승객운송서비스', '4'], ['접객시설을 갖추고 음식점에서 한우 및 한식 판매', '1'], ['수선집에서 바느질로 의류 수선', '3'], ['고객대상 사업장에서 원단무역중개', '0'], ['슈퍼(매장면적165m2의 시설을 갖추고) 일반소비자에게 음식료품 위주 소매', '0'], ['부동산에서 계약및중개등을 통해수수료받음 부동산중개 서비스', '6'], ['개별화물자동차로 고객의 요청으로 화물운송서비스', '4'], ['사업장에서 일반대중을대상으로 타인의계정으로타인을대신하여각종상품중개', '0'], ['일반소비자에게 매장에서 뜨개실', '0'], ['부동산중개사무소에서 계약및 중개 부동산중개서비스', '6'], ['용달화물자동차로 고객의 요청으로 화물운송서비스', '4'], ['음식점에서 접객시설을 갖추고 가정식 백반, 갈치조림', '1'], ['건설현장에서 고객의요구에따라 건물내외부도장공사', '8'], ['각종토지 개발하여 분양,판매', '6'], ['지역농협에서 조합원및 일반고객대상 금융서비스', '13'], ['아리송에서 접객시설을갖추고 소주.맥주', '1'], ['개별화물자동차로 고객의 요청으로 화물운송서비스', '4'], ['일반소비자에게 소매 영업장에서 운동기구', '0'], ['매장에서 접객시설을 갖추고 빵 판매', '1'], ['알루미늄 MCT가공 방산품부품', '2'], ['사업장에서 건물,창고 기타 부동산임대업', '0'], ['학원에서 학생대상으로 수학', '5'], ['사업장에서 접객시설을갖추고 와인', '1'], ['보건업 외래환자 위주로 내과', '7'], ['일반소비자에게 영업장에서 알세사리 판매', '0'], ['주점에서 접객요원을 두고 양주,맥주판매', '1'], ['가게에서 소비자에게 소매 마늘쫑', '0'], ['아파트관리사무실에서 아파트입주민 대상으로 관리서비스', '6'], ['영업소 의뢰인 요청 도배, 실내장식, 목공예 서비스', '8'], ['일반 화물자동차 고객의 의뢰를 받아 화물 운송', '4'], [' 아랫층 횟집의 상차림 전문점/매운탕전문점 ', '1'], ['사무실에서 고객의뢰 주식투자.컨설팅', '13'], ['영어학원에서 학생을 대상으로 영어교육', '5'], ['다방에서 접객시설을갖추고 커피,주스', '1'], ['주점에서 접객시설을갖추고 맥주.양주제공', '1'], ['매장에서 일반소비자를 대상으로 컴퓨터 소매', '0'], ['음식점에서 접객시설을 갖추고 장어요리판매', '1'], ['식품임가공(건강원) 제조업 붕어즙.개소주등제조', '2'], ['참깨 볶고 참기름제조', '2'], ['소매업자에게 매장에서 문구,체육용품', '0'], ['주차장에서 수수료를 받고 자동차를 일정기간 주차시켜주는 산업  ', '4'], ['사업장에서 고객요구에 따라 보일러판매', '0'], ['사업장에서 일반인대상으로 피부마사지', '3'], ['인력 건설현장에 일용직 인력알선', '11'], ['사업장에서 어린이를 대상으로 놀이기구대여서비스', '9'], ['미용실에서 고객을 대상으로 컷트,파마,염색', '3'], ['음식점에서 접객시설갖추고 냉면판매', '1'], ['학원에서 일반인에게 댄스교육', '5'], ['귀금속 일반대중 소매', '0'], ['점집에서 일반인대상으로 사주,궁합', '3'], ['음식점에서 접객시설을갖추고 순대국제공', '1'], ['마커잉크 충진조립스리타, 트위마카생산조관 ', '2'], ['창고에서 계약에의해 정부양곡보관', '4'], ['매장에서 일반인에게 앰프 음향기기 소매', '0'], ['음식점에서 접객시설을갖추고 고기등판매', '1'], ['사업체에서 일반소비자에게 소매 담배.각종음료및잡화', '0'], ['사업장에서 일반인들에게 상품권유통', '11'], ['개별화물자동차로 고객의 요청으로 화물운송서비스', '4'], ['건설 고객의 의뢰를 받아 통신공사', '8'], ['관광 민예품 및 선물용품  ', '0'], ['합판을이용하여 절단 접합하여제조 모델하우스모형', '2'], ['사업장에서 어린이들을 대상으로 축구클럽 운영', '5'], ['매장에서 방문고객 대상으로 피자 판매', '1'], ['펜션에서 숙박시설을갖추고 숙박서비스 제공', '1'], ['건설현장에서 고객의요구에따라철근시멘트를이용하여 다리교량용품제조', '2'], ['용달화물자동차로 고객의 요청으로 화물운송서비스', '4'], ['구내식당에서 직원대상으로 한식제공', '1'], ['미장원에서 고객을 대상으로 커트.파마 서비스', '3'], ['편의점에서 체인계약을 체결하여 생필품,담배', '0'], ['교회 기독교 계통 종교활동 종교 서비스', '3'], ['학원에서 학원생에게 영어교습', '5'], ['일반소비자에게 문구점에서 문구용품소매', '0'], ['전기및 정밀기기를 전문적으로 수리 모터.조립금속제품등', '2'], ['주점에서 접객요원및무도시설없이 맥주,소주', '1'], ['사업장 제조 가방', '2'], ['사업장에서 소매업자에게 휴대폰,유선상품 통신기기도매', '0'], ['커피점에서 접객시설을갖추고 휴게음식(커피)', '1'], ['채소·과일(이동판매)  ', '0'], ['사업장에서 부품,압축기 콤프레샤수리', '2'], ['영업장에서 일반인을 대상으로 타이어 교환 및 판매', '0'], ['신문보급소에서 배달 신문', '0'], ['사업장에서 고객의뢰로 전자제품수리', '3'], ['안경점에서 일반소비자에게 소매 선글라스 안경', '0'], ['약국에서 일반고객을 개상으로 의약품소매', '0'], ['요앵원에서 시설입소 어르신 일상생활지원,의료지원,프로그램제공,재활치료제공', '7'], ['사업장에서 일반소비자에게 캠핑용품 소매', '0'], ['매장에서 컴퓨터를 조립하여 기업체.관공서에납품', '0'], ['가게에서 일반상인에게 도매 각종 사무용품', '0'], ['개인택시로 일반인을 대상으로 승객운송서비스', '4'], ['알루미늄, 빌레트 원자재선별작업, 용회로주조 ', '2'], ['가요주점에서 접객요원을두고 양주.맥주', '1'], ['여관에서 개별룸 서비스없이 여관', '1'], ['매장에서 고객에게 떡제조판매', '2'], ['지역축협에서 일반고객을 대상으로 여수신업무,송금등', '13'], ['용달화물자동차로 고객의 요청으로 화물운송서비스', '4'], ['사무실에서 고객을대상으로 가스,전기,수도계량기대리', '11'], ['방앗간에서 소비자의 주문에따라 각종떡생산제공', '2'], ['미용실에서 일반인 대상 컷.퍼머.염색', '3'], ['매장에서 애견인은 대상으로 애견카페', '1'], ['안마소에서 안마 안마시술', '3'], ['LED모니더, 메인모드 입고, 검사 ', '2'], ['가요주점에서 접객요원을 두고 주류, 안주', '1'], ['음식점에서 접객시설을갖추고 빵,떡판매', '1'], ['중장비 임대업 사업자에게 건설용기계임대', '8'], ['사업장에서 사회적으로도움이필요한사람에게 도움서비스', '7'], ['온라인통신망을 통하여 일반인대상으로 전자상거래', '0'], ['사업장에서 일반인대상으로 가발소매', '0'], ['학원에서 초 중학생대상으로교육서비스업 영어수학 교습', '5'], ['요양이 필요한 노인을 위해 복지시설에서 노인양로 복지시설 운영', '7'], ['사업장에서 사무실 이용자를 위하여 건물임대', '6'], ['보건업 외래환자의주 내과,피부과,가정의학과', '7'], ['지역민을 대상으로 수도사업소에서 생활용수공급', '15'], ['매장에서 일반인을 대상으로 스커트,남방등 소매', '0'], ['실내골프장에서 일반인에게 실내스크린', '9'], ['도장에서 일반및 학생들 대상으로 태권도', '5'], ['사업장에서 고객의 요청에 의해 간판 광고물제작', '2'], ['사업장에서 주문을 받아 어망,통발제조', '2'], ['개인택시로 일반인을 대상으로 승객운송서비스', '4'], ['개인택시로 일반인을 대상으로 승객운송서비스', '4'], ['음식점에서 접객시설을갖추고 일본식라멘', '1'], ['영업장에서 일반인대상으로 손톱관리서비스', '3'], ['카센타 자동차 특정 부분 수리 타이어등 수리', '3'], ['사업장에서 시설을 갖추고 컴퓨터게임', '9'], ['커피숍 접객시설갖추고 커피제공', '1'], ['용달화물자동차로 고객의 요청으로 화물운송서비스', '4'], ['학원에서 초,중등생을 대상으로 일반교과교육', '5'], ['세탁소에서 고객을 대상으로 세탁,다림질', '3'], ['건설업 고객 대상으로 난방시공', '8'], ['음식점에서 간이음식을조리하여 칼국수', '1'], ['미용실에서 일반고객에게 파마,컷트', '3'], ['사출물 임가공 차단기.전기기기부품', '2'], ['편의점에서 체인계약체결하여 음식료품위주', '0'], ['학술연구용역 원가계산.개발비산정 경영컨설팅', '10'], ['개인택시로 일반인을 대상으로 승객운송서비스', '4'], ['고시원에서 일반인대상 숙박제공', '1'], ['유치원에서 관할지역 교육청의 인가를 받아 취학전 아동교육', '5'], ['사업시설에서 고객요구에따라 경호경비서비스', '11'], ['치오민, 센티놀 원료입고, 원료혼합제조 ', '2'], ['가게에서 조리하여 반찬 판매', '0'], ['음식점에서 접객시설을 갖추고 분식 제공', '1'], ['모터, 스텐레스자재 가공 조립 휴대용 온수보일러', '2'], ['한식제공  ', '1'], ['커피숍에서 접객시설을 갖추고 커피 제공', '1'], ['매장에서 도소매 이동통신기기', '0'], ['사무실에서 약국을 대상으로 밴드,마스크', '0'], ['음식점에서 접객시설을갖추고 족발 제공', '1'], ['철 선반,밀링 공작기계부품', '2'], ['어린이집 보호자로부터위탁받아 취학전유아보육', '7'], ['영어학원에서 학생들 대상으로 영어교습', '5'], ['영업장에서 접객시설을 갖추고 치킨제공', '1'], ['콩,메밀,도토리등을가지고 가열하여 두부,어묵,묵제조', '2'], ['영업점에서 SK하이닉스 대상으로 반도체장비운송업', '4'], ['사업장에서 도소매 자동차시트 가죽시트', '0'], ['사무실에서 기업의뢰받아 교육컨설팅', '5'], ['은행에서 고객을대상으로 송금여수신', '13'], ['커피전문점 접객시설을갖추고 커피', '1'], ['금속 절삭가공 기계부품', '2'], ['교회에서 일반인을 대상으로 선교활동', '3'], ['미용실 두발미용서비스 커트,염색', '3'], ['음식점에서 접객시설을 갖추고 백반제공', '1'], ['정비소에서 자동차 종합수리 종합수리', '3'], ['매장에서 일반인대상으로 아이옷', '0'], ['미술학원에서 학원생 대상 미술교육', '5'], ['교회 기독교 계통 종교활동 종교서비스', '3'], ['영업장에서 접객시설을갖추고 샌드위치판매', '1'], ['주점에서 접객요원 및 무도시설 없이 맥주,소주 등 판매', '1'], ['대리점관리 지점사무실에서 우유도매', '0'], ['일반교과학원 상급학교진학및보습을위한교육서비스 속셈학원', '5'], ['어린이집 관할시청에서 인가받아 취학전 영유아 보육', '7'], ['학원에서 학생들에게 영어교육서비스', '5'], ['사업장에서 소비자를 대상으로 각종 조명 장치 판매', '0'], ['현장에서 고객의요구에따라 통신케이블공사', '8'], ['휴대폰 도소매업 핸드폰 소매', '0'], ['접객시설을 갖추고 한식,매운탕등을 제공  ', '1'], ['사업장에서 일반대중및 기업대상 보험손해사정', '13'], ['교회에서 종교활동 종교서비스', '3'], ['다방에서 접객시설을 갖추고 커피,생강차', '1'], ['  주류및 안주일절제공', '1'], ['부동산중개소 계약및 중개등을 통한 수수료 받음 부동산 중개 서비스', '6'], ['매장에서 소매업 시계,귀금석 준보석 악세사리', '0'], ['개별화물자동차로 고객의 요청으로 화물운송서비스', '4'], ['건설현장에서 고객의 요청에 의하여 실내 목공인테리어', '8'], ['방앗간에서 고객의 주문에의해 쌀가루분쇄', '2'], ['비가공수산물 다른소매업자들에게 전복,꽃게 중도매인', '0'], ['일반인을 대상으로 사업장에서 내비게이션 판매', '0'], ['개별화물자동차로 고객의 요청으로 화물운송서비스', '4'], ['세차장에서 고객을대상으로 손세차', '3'], ['노인성질환을앓고있는노인을대상으로 요양시설에서 노인요양복지', '7'], ['사무실에서 캐드및 설계작업으로 엔지니어링 서비스제공', '10'], ['사업장에서 자기계정으로 종합상품수입도매', '0'], ['약국에서 병원처방및 의약품소매 의약품', '0'], ['가게에서(165㎡미만) 일반인을 대상으로 식.음료품 판매', '0'], ['음식점 접객시설갖추고 소주,맥주', '1'], ['구두수선집에서 고객의 위탁을 받아 구두수선 서비스', '3'], ['매장에서 일반소비자를대상으로소매 이불등 판매', '0'], ['철판 절단,밴딩하여 경첩', '2'], ['디자인,광고대행,출판,편집  ', '10'], ['오리고기 삼겹살 일반인 대상으로 음식제공. 판매', '1'], ['사무용기기를 소비자에게 복사기,복사용지,잉크,토너판매', '0'], ['배터리,배터리시스템 설계,제조 완제품 재포장 이차전지팩도매', '2'], ['당구장에서 일반인을대상으로 당구장운영', '9'], ['출장또는 사업장에서 전기및정밀기기수리 전기식모터 전기제어장치등', '2'], ['접객시설을 갖추고 페스트푸드점에서 햄버거', '1'], ['광고를 수주 편집용컴퓨터를 가지고 생활정보지 발행', '12'], ['사업체에서 산업사용자에게 철물 및 냉,난방자재 도매', '0'], ['원단, 솜, 실 재단, 재봉 이불 제조', '2'], ['음식점 접객시설을갖추고 해물', '1'], ['매장에서 일반소비자에게 소매 여성복,티 바지', '0'], ['플라스틱 성형틀에압축, 젖병,이유식용그릇 젖병, 이유식용그릇', '2'], ['인쇄소 계약에 의해 경인쇄', '2'], ['비닐에 산업사용자의 계약에 따라 포장지스크린 인쇄', '2'], ['사업장에서 조직구복용재료 라이펜', '2'], ['음식점에서 접객시설을갖추고 치킨', '1'], ['매장에서 일반소비자 대상 아동복 판매', '0'], ['PVC시트 거래처에 플라스틱필름(PVC시트)', '0'], ['고객을대상으로 낚시점에서 낚시장비소매업', '0'], ['사무실에서 세무관련 업무의뢰 받아서 세무조정 기장대리 등', '10'], ['음식점에서 접객시설을 갖추고 생선회', '1'], ['매장에서 접객시설을 갖추고 커피,음료', '1'], ['매장 일반인대상으로 의류', '0'], ['용달화물자동차로 고객의 요청으로 화물운송서비스', '4'], ['용달화물자동차로 고객의 요청으로 화물운송서비스', '4'], ['일반인을대상으로 매장에서 낚시용품', '0'], ['용달화물자동차로 고객의 요청으로 화물운송서비스', '4'], ['카센터 자동차의 특정부분만 전문적 수리 타이어, 내장수리', '3'], ['음식점에서 접객시설을 갖추고 분식', '1'], ['한복집에서 한복을 주문받아제조 한복,두루마기', '2'], ['약국에서 고객들에게 처방전조재, 약 소매', '0'], ['학원에서 학생들에게 수학교육', '5'], ['사업장에서 고객의 의뢰를받아 업소용 냉장고 모터수리', '3'], ['5톤이상의 화물차로 고객의 요구에 따라 화물운송', '4'], ['사진관에서 일반인을 대상으로 사진촬영.인화서비스', '10'], ['매장에서 일반소비자에게 소매 남성복정장', '0'], ['개인택시로 일반인을 대상으로 승객운송서비스', '4'], ['사업장에서 응용소프트웨어 개발및공급', '12'], ['염색방에서 일반고객을 대상으로 염색', '3'], ['웅진코웨이 가정및사업체방문상품소매 정수기 판매 및 렌탈', '0'], ['사업장에서 일반인을 대상으로 분재 꽃판매', '0'], ['가요주점에서 접객시설을 갖추고 술,안주판매', '1'], ['사업장에서 일반소비자에게 낚시장비,잡화판매', '0'], ['사진관에서 고객을 대상으로 인물사진촬영', '10'], ['영업장소에서 고객의뢰받아 농수산물판매', '0'], ['매장에서 접객시설을 갖추고 아이스크림 판매', '1'], ['다목적회관에서 주민대상 비거주복지서비스', '7'], ['동 절삭 기계부품 (신추 너트 볼트)', '2'], ['구내식당에서 음식을조리하여 식사제공', '1'], ['음식점에서 접객시설을갖추고 고기판매', '1'], ['교회 신도대상 기독교활동', '3'], ['사업장에서 자동차부품 도장', '2'], ['철도보수차량을가지고 전기통신신호점검 고속철도유지.보수관리', '4'], ['사무실에서 고객의요청에따라 인력공급', '11'], ['학원에서 학생을 대상 수학', '5'], ['개별화물자동차로 고객의 요청으로 화물운송서비스', '4'], [\"사업장에서' 접객실을갖추고 육계장 설렁탕 판매\", '1'], ['애완용 동물 및 관련용품 소매업  ', '0'], ['염소,잉어,양파등을 가열,농축 각종엑기스판매', '2'], ['약국에서 처방전 및 일반인 대상으로 의약품 판매', '0'], ['의원에서 외래환자대상으로 치과진료서비스', '7'], ['매장에서 도소매업자에게 수공구,기계판매', '0'], ['사무실에서 의뢰인대상으로 심리상담', '2'], ['커피전문점에서 접객시설을갖추고 커피제공', '1'], ['건설현장에서 고객의 요청에 따라 전문소방공사', '8'], ['펜션에서 일반인을 대상으로 숙박서비스제공', '1'], ['악기점 소매 기타 소매', '0'], ['커피전문점에서 고객들에게 원두커피등 제공', '1'], ['영업장에서 의류소매 캐주얼웨어', '0'], ['사업장 소매업자에도매 기계공구', '0'], ['독서실에서 일반인,학생을 대상으로 장소 제공', '9'], ['사업장에서 고객요청에의해 인력알선', '11'], ['용달화물자동차로 고객의 요청으로 화물운송서비스', '4'], ['오일장 일반인들에게 배추무우', '0'], ['현장에서 고객의요구에따라 인테리어철거', '8'], ['산업사용자에게 사업장에서 페인트도매', '0'], ['고물상에서 수집하여 고철 폐지등', '0'], ['영업장에서 일반인 대상 애견용품 소매', '0'], ['영업장에서 고객의 요청 옷수선', '3'], ['개인택시로 일반인을 대상으로 승객운송서비스', '4'], [' 족발제조업 ', '2'], ['사업장에서 고객의특정메시지를전달 그래픽디자인제공', '10'], ['음식점에서 접객시설을 갖추고 소고기,돼지고기구이판매', '1'], ['신나, 도료 CASE입고, 샌딩 ', '2'], ['주유소 자동차주유시설을 갖추고 휘발유 경유 주유', '0'], ['개별화물자동차로 고객의 요청으로 화물운송서비스', '4'], ['사업장에서 소매업자 대상 수산물 판매', '0'], ['용달화물자동차로 고객의 요청으로 화물운송서비스', '4'], ['사업장에서 고객의뢰에 의해 인테리어디자인서비스', '10'], ['개인택시로 일반인을 대상으로 승객운송서비스', '4'], ['철재 설계, 절단 ', '2'], ['욕탕시설을 갖추고 목욕탕에서 목욕서비스 제공', '3'], ['곡물,과일,야채 가열조리하여 이유식', '2'], ['음식점에서 접객시설을 갖추고 해물찜 판매', '1'], ['매장에서 접객시설을 갖추고 닭꼬치', '1'], [' 곰탕 전문점 ', '1'], ['건축물내부 통신장비 유지보수', '8'], ['사업장에서 소매업자에게도매 전산소모품', '0'], ['의류매장에서 일반인을 대상으로 숙녀복 판매', '0'], ['매장에서 일반고객에게 도매 냉난방기', '0'], ['사업장에서 고객대상으로 컴퓨터수리및조립', '3'], ['제조 콘트롤패널 선박배전반', '2'], ['중개소에서 일반인대상 부동산중개', '6'], ['건강원(호박,배 등을) 중탕하여 배즙,호박액기스 등 제조', '2'], ['개인택시로 일반인을 대상으로 승객운송서비스', '4'], ['고물상에서 수집 고철.폐지등', '0'], ['치킨전문점에서 접객시설을갖추고 치킨', '1'], ['매장에서 일반인 대상으로 핸드폰수리', '3'], ['매장에서 일반소비자을 대상으로 여성의류판매', '0'], ['일반주점에서 일반인을 대상으로 맥주양주판매', '1'], ['괴목진주공예사에서 목재를 이용하여 목공예품제작판매', '2'], ['편의점에서 체인계약을 체결해 일반소비자에게 소매 음식료품 판매', '0'], ['음식점에서 접객시설을갖추고 삼겹살', '1'], ['음식점에서 접객시설을 갖추고 낙지,쭈꾸미 요리 등 한식 제공', '1'], ['매장에서 일반소비자대상으로 바지잠바', '0'], ['매장에서 일반인을 대상으로 음식료품제공', '0'], ['음식점에서 초밥전문시설을갖추고 초밥', '1'], ['음식점에서 접객시설을 갖추고 샤브', '1'], ['사업장에서 고객요청에따라 실내장식,내장공사', '8'], ['개인택시로 일반인을 대상으로 승객운송서비스', '4'], ['케이스, 모터, 베아링 기계 조립, 접합하여 발전기', '2'], ['매장에서 일반소비자에게 티셔츠등', '0'], ['산업사용자에게 사업장에서 정밀자동제어부품도매', '0'], ['사업장에서 일반소비자에게 현관중문판매', '0'], ['음식 접객시설을갖추고 한식', '1'], ['주점에서 접객시설을 갖추고 소주.맥주', '1'], ['미장원에서 방문 고객대상으로 파마 염색', '3'], ['음식점에서 일반소비자대상 한식 음식점업', '1'], ['인쇄기를가지고 수수료및계약에의한 전단지 인쇄', '2'], ['사업장에서 자동차 중고타이어판매교환', '0'], ['법률사무소 고객의뢰를 받아 소송변호', '10'], ['세종보에서 공급 생활용수유지관리', '15'], ['음식점에서 접객시설을 갖추고 한식.대게등 판매', '1'], ['용달화물자동차로 고객의 요청으로 화물운송서비스', '4'], ['슈퍼마켓 일반소비자에게 음식료품제공', '0'], ['한의원에서 외래환자 위주로 한방 진료', '7'], ['학원에서 학생을 대상으로 한문교습소', '5'], ['학원에서 초중고등학생을 대상으로 수학교육', '5'], ['점포에서 도매 일용잡화판매', '0'], ['철공구강 열처리 금속열처리', '2'], ['음식점에서 접객시설을 갖추고 삼겹살, 쌈밥', '1'], ['주점 접객시설을 갖추고 맥주판매', '1'], ['전자부품 조립 온수매트', '2'], ['보트를 가지고 일반인 대상으로 래프팅 체험 제공', '9'], ['보건의료인을 대상 시험원에서 시험관례 출제,문항개발', '5'], ['PB합판 재단,조립 씽크대제조', '2'], ['미장원에서 두발미용서비스 컷트 파마', '3'], ['개별화물자동차로 고객의 요청으로 화물운송서비스', '4'], ['개별화물자동차로 고객의 요청으로 화물운송서비스', '4'], ['음악학원에서 초등학생을 대상으로 피아노 피아노실기및 이론', '5'], ['사업체방문기계설비 X선,자기초음속시험 안전관리(기계설비)대행', '10'], ['독서실 ？생과일반인대상으로 독서실운영', '9'], ['사업장에서 중개를 통해 상품종합중개', '0'], ['음식점에서 접객시설을 갖추고 막창판매', '1'], ['가게에서 일반인을 대상으로 각종 꽃 화분 판매', '0'], ['사업장에서 업체 대상 원단무역 중개', '0'], ['매장에서 인터넷을통하여 카메라', '0'], ['개인택시로 일반인을 대상으로 승객운송서비스', '4'], ['사업장에서 고객의요청에따라 가전제품수리', '3'], ['개별화물자동차로 고객의 요청으로 화물운송서비스', '4'], ['시설을갖추고 일반인에게 양주,맥주판매', '1'], ['사업장에서 일반인대상 피부관리', '3'], ['인쇄,프린트 주문의뢰 경인쇄업', '2'], ['사업장 일반 과메기', '0'], ['개인택시로 일반인을 대상으로 승객운송서비스', '4'], ['부동산중개소 계약에의거부동산중개 중개서비스', '6'], ['점포에서 일반소비자대상으로 이불 베게 방석', '0'], ['사무실 이용자를 위하여 사업장에서 사무실건물관리서비스', '6'], ['범용성패키지프로그램 사업장에서 응용소프트웨어개발공금', '12'], ['매장에서 일반인대상 커텐', '0'], ['사업장에서 온라인통신망이용하여 임직원들위한전자상거래', '0'], [\"VacuumInterrupter, TankAss'y 탱크세척및단품조립, 하우징성형및조립 \", '2'], ['개인택시로 일반인을 대상으로 승객운송서비스', '4'], ['사업장에서 제조 반도체부품', '2'], ['사출성형 PP 쎈타레스(자동차부품)', '2'], ['일반인대상으로소매 영업장 컴퓨터 소프트웨어', '0'], ['피아노학원 학원생대상 피아노', '5'], ['청과  ', '0'], ['사업장에서 산업용자에게 펌프.모터.설비 도매', '0'], ['횟집에서 접객시설을갖추고 일본식이아닌한국식회를판매', '1'], ['사업장 토목건축관련 감리서비스', '10'], ['네일아트 서비스 네일？', '3'], [' 태양광설치중개 태양광설치중개업', '0'], ['부동산중개소에서 계약에 의거하여 부동산중개서비스', '6'], ['개인택시로 일반인을 대상으로 승객운송서비스', '4'], ['개별화물자동차로 고객의 요청으로 화물운송서비스', '4'], ['매장에서 일반소비자에게 골프의류스포츠용품', '0'], ['영업장에서 고객의요청에따라 금거래', '0'], ['사업장에서 고철,비철,금속 수집 판매', '0'], ['축구장이나 트레이닝센터에서 학생대상으로 축구교실', '5'], ['스포츠의류  ', '0'], ['고객의 애견을 상대로 애견미용샵 애견미용서비스', '3'], ['건설현장 고객요구 주택건설', '8'], ['건설공사를일괄도급하여 분양,판매 사무실분양', '6'], ['지하상가에서 일반소비자에게 여성용겉옷소매', '0'], ['종이 재단성형하여 골판지제조', '2'], ['일반도매 공장에서 장례용품 수의', '2'], ['민박집에서 숙박시설을 갖추고 숙박서비스업', '1'], ['매장에서 일반소비자에게 소매 티셔츠 바지', '0'], ['영업장에서 해외사업체대상으로 정수기수출', '0'], ['음식점에서 접객시설을갖추고 회,문어튀김,탕종류등', '1'], ['LDPE,HDPE 재단,접착 포장용비닐봉투', '2'], ['음식점에서 접객시설갖추고 한식판매', '1'], ['구내식당에서 조리하여 급식제공', '1'], ['사업장에서 고객요청으로 빔,철골 제작 설치', '8'], [' 장의차량 운송업 ', '4'], ['사업장에서 고객의요구에의해 부동산 컨설팅', '6'], ['개인택시로 일반인을 대상으로 승객운송서비스', '4'], ['노래방에서 시설을 갖추고 노래방운영', '9'], ['사업장에서 일반인을 대상으로 판매 식품,잡화,주류', '0'], ['개별화물자동차로 고객의 요청으로 화물운송서비스', '4'], ['음식점에서 접객시설갖추고 찜닭', '1'], ['고객의요구에따라 현장에서 토목공사', '10'], ['접객시설을 갖추고 대중에게 주류판매  ', '1'], ['슈퍼에서165㎡ 미만 일반소비자에게 음식료품 위주소매', '0'], ['금,메탈을 이용하여 치과의 의뢰를받아 틀니,보철제작', '2'], ['용달화물자동차로 고객의 요청으로 화물운송서비스', '4'], ['사무실에서 경매물건 집행관리', '10'], ['사업장에서 병원업체 대상으로 의료기계 도매', '0'], ['음식점에서 접객시설을 갖추고 양식제공', '1'], [' 산업사용자에게 사무용가구판매', '0'], [' 온라인유통 건강식품판매', '0'], ['사업장에서 주문을 받아 고추가루 기름유통', '0'], ['스텐, 알루미늄합금 설계, 가공/구매 ', '2'], ['일반음식점업  ', '1'], ['개별화물자동차로 고객의 요청으로 화물운송서비스', '4'], ['제조업 일반인을 대상으로 즉석판매제조가공', '2'], ['요가학원에서 학원생을 대상으로 요가강습', '5'], ['개인택시로 일반인을 대상으로 승객운송서비스', '4'], ['사무실에서 건설장비를 운영하는 회원들 부가세신고 사무업무지원', '11'], ['사업장에서 사용자에게 보루', '0'], ['도로건설 포장공사 도로포장', '8'], ['주유소 급유시설 갖추고 차량연료소매', '0'], ['한의원에서 외래환자대상으로 침.뜸 물리치료제공', '7'], ['현장에서 고객의 요청으로 전기 공사', '8'], ['미장원에서 두피모발관리 펌,염색등', '3'], ['사업장에서 일반인대상으로 네일아트서비스', '3'], ['사무실에서 관련업체에 종합무역 중개', '0'], ['알루미늄 절단 접합하여 창호', '2'], ['음식점에서 일반소비자를 대상으로 치킨제공', '1'], ['영업장에서 제조 의류', '2'], ['현장에서 고객요청으로 보링,그라우팅공사', '8'], ['일반사무실에서 소비자에게 옥외간판제조 설치', '2'], ['문구점에서 일반인을 대상으로 문구류 소매', '0'], ['고객의사업시설에서 고객의의뢰에따라 시설유지관리', '11'], ['한식 조리하여 고객제공', '1'], ['센터에서 장애인 대상으로 장애인 주간 보호서비스', '7'], ['사업장에서 고객대상으로 소프트웨어 개발', '12'], ['음식점에서 접객시설없이 해장국,감자탕 배달 전문', '1'], ['골프시설을 갖추고 골프장에서 골프장운영', '9'], ['철물점 일반소비자에게 철물,열쇠판매', '0'], ['음식점에서 접객시설을 갖추고 회 제공', '1'], ['학원에서 초 중 대상 영어 수학', '5'], ['사업장에서 업체의뢰를 받아 조경식재공사', '8'], ['우정사업(우편,금융) 우편을수집하여 각가정에 배달', '12'], ['사업장에서 고객들에게 가방판매', '0'], ['한식음식점  ', '1'], ['매장엣 접객시설을갖추고 고기,음식류판매', '1'], ['사무실에서 고객의 의뢰를받아 세무상담및 기장관련서비스제공', '10'], ['공작기계도매 산업활동을 하는 사업체에 절삭공구', '0'], ['간판집에서 일반소비자를대상으로 간판 재료 도매', '0'], ['카페에서 접객시설을 갖추고 커피,차', '1'], ['개인택시로 일반인을 대상으로 승객운송서비스', '4'], ['주유소에서 주유시설을갖추고 가정용,차량용 액체연료제공', '0'], ['고객을대상 미용실에서 파마', '3'], ['부동산중개소에서 계약에의거 부동산중개 부동산중개서비스', '6'], ['센터에서 사회적 도움이 필요한 사람에게 주간보호서비스', '7'], ['나눔의집에서 사회적으로 도움이 필요한사람에게 무료급식소 운영', '7'], ['사업장에서 직장인에게 음식제공', '1'], ['매장에서 자동차전문수리 일상적인 단순수리활동', '3'], ['자동차부품을 소매업자에게 범퍼 헤드라이트 도매', '0'], ['천부교종교 천부교 종교활동 종교 서비스', '3'], ['찻집에서 일반인대상으로 차.음료제공', '1'], ['사무실에서 의뢰인을 대상으로 변호사 사무실', '10'], ['일반화물자동차로 고객의 요청으로 화물운송서비스', '4'], ['일반소비자에게 농원 과실수묘목판매 조경수도매', '0'], ['매장에서 접객시설을갖추고 치킨판매', '1'], ['현장에서 고객의요구에따라 건물마무리공사', '8'], ['와이어, 레진 치과에서의뢰받아, 와이어밴딩 ', '2'], ['주점에서 접객시설을 갖추고 소주,막걸리', '1'], ['미용실에서 두발미용서비스 퍼머,컷', '3'], ['가게에서 소비자대상으로 소주맥주', '1'], ['사업장에서 소매업자를 대상으로 청소장비 도매', '0'], ['사업장에서 진도아파트를 관리', '6'], ['영업장에서 접객시설을 갖추고 피자 제공', '1'], ['사볍기관에제출하는서류경매.공매 의뢰인을대리하여 등기.경매.공매등신청대행대리상담', '10'], ['고객의사업장에서 고객요구에따라 전기배선공사', '8'], ['가죽 재단 미싱작업하여 자동차용가죽커버', '2'], ['매장에서 일반인대상 휴대폰판매', '0'], ['매장에서 일반소비자에게 중고냉장고소매', '0'], ['문구점에서 일반소비자에게 노트.연필 소매', '0'], ['모텔에서 개별룸서비스없이 일반인을 대상으로 숙박서비스제공', '1'], ['편의점에서 체인계약을 체결하고 식료품,담배소매', '0'], ['매장 고객대상 화장품판매', '0'], ['개인택시로 일반인을 대상으로 승객운송서비스', '4'], ['개인택시로 일반인을 대상으로 승객운송서비스', '4'], ['매장에서 접객시설갖추고 커피,음료판매', '1'], ['자기차량 고객요청에의거 화물배달', '4'], ['현장에서 고객의요청에의해 조경공사(토목)시공', '8'], ['사업장을방문 소매업자에게 의약품선전활동', '0'], ['우체국에서 고객으로부터 여수신업무 자금여수신', '12'], ['용달화물자동차로 고객의 요청으로 화물운송서비스', '4'], ['건설현장에서 고객의 요청에 의해 토목공사', '8'], ['유아용 서적및 교재를 가지고 각 가정을 방문하여 동화책 및 교구 판매', '0'], ['상가에서 소매업자에게 도매 티셔츠', '0'], ['태권도장에서 일반인 에게 태권도 교육', '5'], ['사업장에서 일반소비자에게 음식료품위주소매', '0'], ['일반소비자에게 매장에서 귀금속', '0'], ['적층인쇄회로기판 입고, 표면처리 ', '2'], ['편의점에서 체인계약을 체결하여 음료,담배소매', '0'], ['개인택시로 일반인을 대상으로 승객운송서비스', '4'], ['음식점에서 접객시설을 갖추고 삼겹살전문', '1'], ['의원에서 일반인을 대상으로 성형 진료 서비스', '7'], ['철 자르고, 용접 ', '2'], ['소매업자에게 사업장에서 장갑류를도매', '0'], ['사업장에서 입찰받아서 전기공사', '8'], ['의원에서 일반인을대상 정신의학진료', '7'], ['매장에서 소비자를대상 보청기판매', '0'], ['의원에서 외래환자위주로 진료서비스', '7'], ['백반  ', '1'], ['개별화물자동차로 고객의 요청으로 화물운송서비스', '4'], ['건물내 고객의뢰를받아 철골 축조전문공사', '8'], ['도소매 일반소비자에게 쇠고기,돼지고기등판매', '0'], ['매장에서 일반인대상 커튼 인테리어', '0'], ['개인택시로 일반인을 대상으로 승객운송서비스', '4'], ['한의원에서 외래환자위주로 한방진료서비스', '7'], ['사업장에서 산업사용자에게 산업용공구도매', '0'], ['사업장에서 접객시설을 갖추고 주류판매(맥주)', '1'], ['매장에서 접객시설을갖추고 곱창', '1'], ['이용원에서 고객을대상으로 이발,면도등', '3'], ['식당에서 접객시설을 갖추고 고기류판매', '1'], ['매장에서 의류소매판매 고객대상', '0'], ['교습소에서 학생을 대상으로 수학', '5'], ['개인택시로 일반인을 대상으로 승객운송서비스', '4'], ['주유소에서 주유시설을 갖추고 일반소비자에게 차량용 액체연료 소매', '0'], ['상가에서 도소매 구두', '0'], ['동문상가 소매업자에도매 운동화.실내화', '0'], ['음식점에서 접객시설을갖추고 돼지국밥', '1'], ['음식점에서 접객시설을 갖추고 전골.된장찌개', '1'], ['사업장에서 고객을 대상으로 비거주용 건물 임대', '6'], ['산업사용자를 대상으로 매장에서 자동차부품도매', '0'], ['식당에서 접객시설을 갗추고 낙지소면 판매', '1'], ['산업기계  ', '2'], ['사업장에서 고객의요청에 의해 접착필름제품제조', '2'], ['플라스틱  ', '0'], ['주민센터 노래교실및 각종교육 주민을위한 취미생활서비스', '5'], ['사업장에서 타업체를 대상으로 LED 금형, 생산', '2'], ['영업장소에서 치과에주문받아 보철제조', '2'], ['제조업 고객대상 귀금속', '2'], ['학원에서 중고등학생대상으로 영어지도학습', '5'], ['음식점에서 접객시설갖추고 양꼬치', '1'], ['영업장에서 접객시설을 갖추고 생맥주,안주제공', '1'], ['주점에서 접객요원없이 맥주 안주 판매', '1'], ['의뢰인대상 사무실에서 계약배달', '0'], ['원단 재단.재봉 잠바', '2'], ['사업장에서 철.비철을수집하여 재생용품 도매', '0'], ['매장에서 일반소비자에게 소매 운동기구', '0'], ['사무실에서 고객의요청에의해 이벤트행사,기획', '11'], ['주유소에서 주유시설을갗주고 차량용액체원료소매', '0'], ['슈퍼마켓에서(165㎡-3000㎡) 일반소비자에게 소매 기타 음식료품 위주 판매', '0'], ['가공우유를 가지고 소매업자에게 우유,요구르트 도매', '0'], ['카페에서 접객시설 갖추고 커피', '1'], ['용달화물자동차로 고객의 요청으로 화물운송서비스', '4'], ['원지 원자재투입, 골형성 ', '2'], ['일반고객상대로 세탁 다림질 서비스', '3'], ['주점에서 접객원없이 생맥주', '1'], ['철판 프레스찍어서 모터 부분품(자동차용)', '2'], ['치킨가계 일반대상 닭강정', '1'], ['매장에서 일반소비자대상 스포츠신발 판매', '0'], ['노래방에서 시설을 갖추고 노래방운영', '9'], ['사업장에서 소매업자에게 향료도매', '0'], ['민박 일반인을 대상으로 관광숙박 서비스 제공', '1'], ['가게에서 고객을 대상으로 파마,컷트,염색', '3'], ['교회 신도대상으로 기독교종교활동', '3'], ['의원에서 외래환자 위주로 진료서비스', '7'], ['음식점에서 접객시설을갖추고 양,대창숯불구이', '1'], ['소매업체를대상으로 사업장에서 생활용품', '0'], ['고시원에서 숙박시설을갖추고 숙식제공', '1'], ['매장에서 일반인대상으로 소매 안경', '0'], ['컴퓨터게임방운영 서비스 게임 및 정보제공', '9'], ['제공받은 원단을 가지고 봉제하여 여성니트의류', '2'], ['일반소비자에게소매 꽃가게에서 꽃판매', '0'], ['제과점 접객시설을 갖추고 빵, 음료', '1'], ['매장에서 일반소비자에게 여성의류 소매', '0'], ['헬스클럽에서 체력단련 서비스 ', '9'], ['사업장 소비자대상 골프용품전자상거래', '0'], ['고객의의뢰를받고 사업장에서 위생용역,소독,방역업', '11'], ['개별화물자동차로 고객의 요청으로 화물운송서비스', '4'], ['용달화물자동차로 고객의 요청으로 화물운송서비스', '4'], ['매장에서 소비자대상으로 떡류 제조 판매', '2'], ['일반인을 대상으로 사진촬영  ', '10'], ['사업장에서 고객을 대상으로 여성복판매', '0'], ['매장에서 고객대상 손톱관리', '3'], ['분식점에서 간이음식조리 떡볶이,김밥,라면판매', '1'], ['원사 편조기를 이용하여 니트원단', '2'], ['소매상에게 사업장에서 육류가공식품 도매', '0'], ['음식점에서 접객시설을갖추고 삼겹살구이', '1'], ['소매 소비자에게 가전제품', '0'], ['일반화물자동차로 고객의 요청으로 화물운송서비스', '4'], ['시설 현장에서 고객의 의뢰를 받아 조경용 시설공사', '8'], ['채소가게에서 일반인대상으로 각종채소판매', '0'], [' 서적도매 ', '0'], ['용달화물자동차로 고객의 요청으로 화물운송서비스', '4'], ['편의점에서 체인계약을 체결하여 식료품, 담배 소매', '0'], ['미용실에서 고객을 대상으로 파마,커트', '3'], ['용달화물자동차로 고객의 요청으로 화물운송서비스', '4'], ['부동산 중개업 부동산중개,부동산컨설팅', '6'], ['작업장에서 고객의 의뢰에 의해 선박엔진 수리', '2'], ['합판 재단, 접착 붙박이장, 싱크대', '2'], ['가게에서 일반소비자에게 소매 칼치 고등어등', '0'], ['개인택시로 일반인을 대상으로 승객운송서비스', '4'], ['미장원에서 일반인들을 대상으로 컷트 파마 염색 등', '3'], ['개별화물자동차로 고객의 요청으로 화물운송서비스', '4'], ['숭례문 상가에서 일반인에게 소매 장신구,귀걸이,브로치(악세서리)', '0'], ['사업장에서 일반고객 대상으로 대부업', '13'], ['개인택시로 일반인을 대상으로 승객운송서비스', '4'], ['pcb,저항 납땜 인쇄회로기판,', '2'], ['고시원에서 숙식 제공  ', '1'], ['가게에서 일반인대상 약초소매', '0'], ['외과병원에서 외래진료 수술 입원실 종합관리 제공', '7'], ['건물내 고객 요구에 따라 에어컨배관시공및수리', '8'], ['사업장에서 100%자가발전기 발전기제조', '2'], ['청소년대상 수련관에서 청소년시설운영', '5'], ['단란주점 접객요원없이 맥주 소주', '1'], ['어린이집에서 보호자로부터위탁을받아 취학전유아보육', '7'], ['사업장에서 대형마트등에 도매 소고기, 돼지고기', '0'], ['사업장에서 일반인을 대상으로 건강식품 소매', '0'], ['사업장에서 일반고객을 대상 전자상거래', '0'], ['학원에서 학생들에게교육서비스제공 수학교육', '5'], ['사업장에서 고객을 대상으로 메이크업 피부관리', '3'], ['일반화물자동차로 고객의 요청으로 화물운송서비스', '4'], ['영업장에서 고객의 요청에 의하여 생수판매및배달', '0'], ['주유소에서 일반소비자에게 소매 경유,휘발유,등유등', '0'], ['일반소비자 대상으로 사업장에서 의류 잡화 전자상거래', '0'], ['김밥집 접객시설을 갖추고 김밥,분식', '1'], ['개별화물자동차로 고객의 요청으로 화물운송서비스', '4'], ['빌딩사무실에서 상가입주자를위하여 비주거용상가임대 서비스', '6'], ['떡가게, 떡제조 일반인에게 떡판매,제조', '2'], ['가게애서 접객시설을 갖추고 김밥', '1'], ['사업장에서 화물운송업자와 화주간에 화물주선및 알선', '4'], ['사무실에서 다른소매업자에게 산업용화학제품도매', '0'], ['사업장에서 운동시설을 갖추고 요가필라테스', '5'], ['음식점에서 접객시설을 갖추고 소고기', '1'], ['보급소에서 주민들에게 신문배달', '0'], ['매장에서 소비자에게 소매 속옷,내의류', '0'], ['개별화물자동차로 고객의 요청으로 화물운송서비스', '4'], ['부동산중개소에서 계약?중개서비스 부동산거래', '6'], ['골판지종이 여러장 결합하여 종이박스제조', '2'], ['한식음식점에서 접객시설을갖추고 순대,순대국', '1'], ['건설현장에서 수수료및계약에의하여 건설용기계및장비제공', '8'], ['학생 초등학교와 계약하여 방과후 위탁교육 교육사업(방과후 교육)', '5'], ['용달화물자동차로 고객의 요청으로 화물운송서비스', '4'], ['도시가스 배관을 통하여 가스 공급', '17'], ['사업장에서 일반소비자에게 밧데리 판매', '0'], ['일반고객을대상으로 미용실에서 커트,펌', '3'], ['PCB 조립 인쇄회로기판', '2'], ['목욕탕에서 일반대중을상대로 목욕서비스제공', '3'], ['주점에서 접객시설을 갖추고 주류제공', '1'], ['음식점에서 접객시설을 갖추고 알콜성음료판매', '1'], ['매장에서 소비자에게 휴대폰판매', '0'], ['사업장에서 고객상대로 벽시 인테리어', '8'], ['스텐레스 성형가공 후렉시볼 전선보호관', '2'], ['약국에서 일반소비자를 대상으로 소매 의약품', '0'], ['매장에서 일반소비자에게 스포츠용품 소매', '0'], ['포차에서 접객 시설을 갖추고 호프 맥주', '1'], ['합판 절단, 타가하여 프레임', '2'], ['음식점 접객시설을 갖추고 소고기.돼지갈지등', '1'], ['철학관 일반인을 대상으로 사주.관상', '3'], ['개인택시로 일반인을 대상으로 승객운송서비스', '4'], ['음식점 접객시설을 갖추고 회. 해물탕 등 판매', '1'], ['PC방에서 컴퓨터게임시설을 갖추고 컴퓨터게임제공', '9'], ['용달화물자동차로 고객의 요청으로 화물운송서비스', '4'], ['아연도금판 상하수관 제작', '2'], ['개인택시로 일반인을 대상으로 승객운송서비스', '4'], ['퀵서비스배달  ', '4'], ['세탁소에서 세탁시설을갖추고 가정용의류세탁', '3'], ['전기,전자부품  ', '2'], ['한의원 외래환자위주로한방진료서비스 침뜸,부황서비스', '7'], ['학습준비물 입찰 납품(학교)', '0'], ['사업장에서 어린이 대상 피아노교육', '5'], ['구내식당 고객대상 식사제공', '1'], ['어린이집에서 관할시청에 인가를 받아 유아동보육서비스', '7'], ['장애인복지회에서 장애인을 대상으로 자질향상,자활대책도모,선도지원', '7'], ['사업장에서 무역중개를 통해서 종합상품', '0'], ['사업장에서 일반인대상 옷,운동화세탁', '3'], ['일반인대상으로 영업장에서 애완견용품', '0'], ['문구점에서 소매 문구용품', '0'], ['한의원 외래환자 진료서비스', '7'], ['신촌교회에서 교인들 대상으로 선교활동', '3'], ['음식점에서 접객시설을 갖추고 감자탕', '1'], ['음식점에서 접객시설을 갖추고 일반 한식 제공', '1'], ['성인대상 일반인대상 PC게임방', '9'], ['사업장에서 소매업자에게도매 봉투', '0'], ['사업장에서 건설토목업체대상으로 거푸집임대', '11'], ['농산물을 소매업자에게 사과', '0'], ['영업장에서 소비자에게 소매 컴퓨터 범용성 소프트웨어', '0'], ['커피점에서 접객시설을 갖추고 커피,생강차', '1'], ['이발소 일반 소비자에게 염색,컷트 서비스 제공', '3'], ['개인택시로 일반인을 대상으로 승객운송서비스', '4'], ['농장에서 사육 돼지', '16'], ['미용실에서 일반고객대상으로 컷,퍼머,염색', '3'], ['순대전문점  ', '1'], ['매장에서 일반소비자에게 이불소매', '0'], ['세탁물을 일반인에게 세탁서비스', '3'], ['레이온,면,솜 기계로솜과직물을결합하여이불제조 이불', '2'], ['문구점에서 일반인을 대상으로 노트,풀등 판매', '0'], ['서적, 교과서 도매 학습지, 문제집등', '0'], ['일반인대상으로 사업장에서 청소용역, 방역', '11'], ['접객시설을 갖추고 음료점에서 커피. 음료판매', '1'], ['프로그래머 컴퓨터 프로그램제공', '12'], ['매장에서 일반고객 대상으로 가방. 지갑', '0'], ['교회 기독교계통 종교활동 종교서비스', '3'], ['주거용부동산 관리업 주거용 부동산 주택관리', '6'], ['원사 직조 어망', '2'], ['종이, 잉크 입고, 디자인 ', '2'], ['주철 용접.가공 발전소.선박 부품', '2'], ['음식점에서 접객시설을갖추고 생고기', '1'], ['영업장에서 주문,계약에의해 벽돌,시멘트도매', '0'], ['사무실에서 고객의 요청에따라 토목설계', '10'], ['의원에서 외래환자위주로 내과치료서비스', '7'], ['영업장소에서 밑반찬을만들어 고객에게제공', '0'], ['요양병원에서 치료가필요한사람을대상으로 요양,치료', '7'], ['건설현장에서 고객의요구에따라 전기공사', '8'], ['주점에서 접객요원및 무도시설 없이 해산물 전문점,소주,맥주', '1'], ['사업장에서 고객에게 여성의류판매', '0'], ['부동산에서 계약에 의거 부동산중개서비스', '6'], ['지역농협에서 일반대중을대상으로자금을여수신 자금여수신', '13'], ['유흥주점에서 접객요원을 두고 맥주, 양주', '1'], ['고객주문에의해 사업장에서 간판광고물제작', '2'], ['음식점 접객시설 갖추고 주물럭, 삼겹살', '1'], ['음식점에서 접객시설을 갖추고 백반', '1'], ['사업장에서 일반고객에게 웃수선', '3'], ['사업장에서 고객의뢰받아 직업컨설팅', '10'], ['식당에서 일반고객을 대상으로 족요리 제공', '1'], ['영업장에서 일반인대상으로 손톱네일', '3'], ['매장에서 일반인을 대상으로 주방후라이팬 소매', '0'], ['피부마사지시설을 갖추고 일반고객을 대상으로 피부마사지등 피부관리', '3'], ['건강원에서 한약재료를혼합.가열.농축하여 붕어즙.개소주', '2'], ['용달화물자동차로 고객의 요청으로 화물운송서비스', '4'], ['구내식당에서 회사와 계약을 맺고 정식', '1'], ['가게에서 일반소비자에게 아이스크림 등 소매', '0'], ['세무사 사무실 조세신고,청구 등의 대리,대행업무 세무대행', '10'], ['철재  철재가공', '2'], ['용달화물자동차로 고객의 요청으로 화물운송서비스', '4'], ['미용실에서 고객을 상대로 컷트,파바,염색', '3'], ['가게에서 고객대상 빵판매', '1'], ['센터에서 거동이 불편한 노인을 위해 개인 간병 서비스', '7'], ['어린이집에서 보건복지부인가받아 취학전아동보육', '7'], ['매장에서 일반소비자에게 돼지고기,소고기소매', '0'], ['황제사에서 일반인에게 의류수선서비스', '3'], ['건설현장에서 철근,시멘트이용 주거용주택건설업', '8'], ['사업장에서 건설업자대상 조경수등 도소매', '0'], ['카페에서 접객시설갖추고 커피판매', '1'], ['플라스틱제품 사출 자동차부품', '2'], ['사업장에서 몰딩 절단 액자 제작', '2'], ['매장에서 일반소비자를 대상으로 화장품', '0'], ['  친환경 농산물 유통(야채)', '0'], ['철물점에서 일반소비자대상으로 농기구 호미판매', '0'], ['시각 디자인  ', '10'], ['각종과일 채소 다른소매업자에게 대량으로소매 사과,배추', '0'], ['개인택시로 일반인을 대상으로 승객운송서비스', '4'], ['학원에서 일반인과 학생들에게 종이접기교육', '5'], ['학원 학생대상 일반교과교육', '5'], ['관리사무소 입주민들을위하여 주거용 관리서비스', '6'], ['세탁소에서 세탁물을 세탁 및 관리 다리미질드라이등세탁,세탁물수집', '3'], ['매장에서 일반소비자대상 소매 아동복', '0'], ['매장에서 일반인 성인용품', '0'], ['커피숍에서 접객시설을 갖추고 커피전문점', '1'], ['절에서 불교계통 종교서비스', '3'], ['가게에서 일반인 대상으로 나전 칠기 제조', '2'], ['사업장에서 장애인농구지원사업 선수단육성,대회유치', '3'], ['부동산중개소 계약에 의거 부동산중개서비스', '6'], ['영업장에서 접객시설을 갖추고 치킨제공', '1'], ['사업장에서 고객의요청 의류수선', '3'], ['주점에서 접객시설을 갖추고 소주,맥주', '1'], ['분식점에서 접객시설을 갖추고 김밥,떡볶이', '1'], ['민박집에서 숙박시설을 갖추고 숙박서비스', '1'], ['건설용 기계장비를 운전자와 함께(건설장비운영업) 건설용기계장비 제공', '8'], ['개인택시로 일반인을 대상으로 승객운송서비스', '4'], ['태권도장 학생대상 태권도', '5'], ['유치원 아동 교육', '5'], ['자동차 판매 도소매 자동차', '0'], ['의류  ', '0'], ['음식점에서 접객시설을 갖추고 머리고기', '1'], ['치킨집에서 접객시설을갖추고 치킨', '1'], ['의류 소매 ', '0'], ['카본 제조 수제신발', '2'], ['노래연습장 서비스 노래방운영', '9'], ['사무실에서 의뢰를 받아 기계식주차설계엔지니어링', '10'], ['관리사무소에서 아파트입주민을 위한 주거용부동산관리', '6'], ['사업장 고객요청 건설업 미장 방수', '8'], [' 승강기유지보수업 ', '2'], ['음식점에서 접객시설을갖추고 오리구이외', '1'], ['매장에서 일반소비자에게 소매 이불, 침구', '0'], ['부동산중개소에서 계약에의해 부동산중개서비스', '6'], ['매장에서 일반인 대상으로 머리커트,파마서비스', '3'], ['PEA원료, PTFE원료 모래입고, 샌딩 ', '2'], ['금속 반제품입고,에어분사,입자가공 절삭가공', '2'], ['공인회계사무소에서 일반사업체를 대상으로 회계감사, 세무조정', '10'], ['사업장에서 일반인대상으로 화장품 미용용품소매', '0'], ['음식점에서 접객시설을 갖추고 삼겹살 판매', '1'], ['사업장에서 산업사용자 대상으로 섬유 기계부품 판매', '0'], ['사업장에서 개인또는 건설업자의요구에따라 크레인차량 운영(운전자딸린)', '8'], ['급유시설을 갖추고 일반일을 대상으로 주유서비스', '0'], ['주점에서 접객시설을 갖추고 술 안주 판매', '1'], ['약국에서 일반소비자 소매 약,드링크', '0'], ['매장에서 일반소비자에게 화장품', '0'], ['매장에서 고객을 대상으로 골프의류 판매', '0'], [' 소고기 돼지고기등의 도매업 ', '0'], ['커피숍에서 접객시설을 갖추고 커피 제공', '1'], ['상가에서 소매상인에게도매 여성 브라우스', '0'], ['선박임가공  ', '11'], ['개인택시로 일반인을 대상으로 승객운송서비스', '4'], ['자원봉사자들을 사업장에서 관리,활성화사업', '7'], ['호프집에서 접객시설을 갖추고 소주.맥주.치킨', '1'], ['사업장에서 일반인 대상으로 체력단련 서비스', '9'], ['서비스 고객에게 여행알선，매표대행', '11'], ['접객시설을 갖추고 은식점에서 중화요리 판매,배달', '1'], ['편의점에서 일반소비자에게소매 과자,음료수', '0'], ['음식점에서 접객시설을 갖추고 메밀국수 칼국수등을 판매', '1'], ['도서관에서 일반인대상 책 서비스', '9'], ['음식점 접객시설을 갖추고 치킨', '1'], ['한의원에서 외래환자 위주로 한방 진료 서비스', '7'], ['가게에서 일반인에게 각종차 건강식품 소매', '0'], ['커피숍에서 접객시설을 갖추고 커피 제공', '1'], ['철자재, 로프(엘리베이터용) 자재입고, 검수 ', '2'], ['매장에서 소매업자에게 당근,채소', '0'], ['휴대폰 가게에서 일반인을대상으로 핸드폰', '0'], ['다른사업자에게도매 매장에서 햄,소시지', '0'], ['건물내 고객요구에 따라 실내조명 공사', '8'], ['일반 교과 학원에서 학생을 대상으로 수학교육', '5'], ['사업장에서 산업사용자에게 전동기.발전기등 판매', '0'], ['교회에서 교인들을 대상으로 기도와 선교활동', '3'], ['상점에서 일반인들을대상으로 음식료품 및 잡화 소매', '0'], ['사업장에서 소매업자에게 수산물판매', '0'], ['일반매장에서 고객주문에 따라 엔진헤즈시린드를 생산', '2'], ['사업장에서 고객을 대상으로 비거주용 개발및공급', '6'], ['고객의 의뢰를 받아 계약을 체결하고 요구에 따라서 실내 인테리어 시공', '8'], ['철물,못,자물쇠등을 일반소비자대상으로 철물,건재등판매', '0'], ['용달화물자동차로 고객의 요청으로 화물운송서비스', '4'], ['철골을 설계,건설공정,건축법규,건설자재등에 관한 지식을 이용하여 기획및 설계', '10'], ['자동차를 전문적으로 수리 카센타 경정비', '3'], ['나누 조립 통.목재철목공사', '2'], ['사업장에서 일반인대상으로 방송의상 코디', '3'], ['유치원에서 유아대상 유아교육', '5'], ['매장에서 소매업자에게 두유도매', '0'], [' 한식 육류요리', '1'], ['슈퍼에서(165㎡이하) 일반소비자에게 식음료품등 판매', '0'], ['주점에서 접객시설을갓추고 주류 제공', '1'], ['대학원 학생 교육', '5'], ['페인트가게 일반인대상으로 페인트소매', '0'], ['농원에서 다른소매업자에게도매 화초,난등', '0'], ['현장에서 고객의 요구에따라 판넬을 이용하여 공장건설', '8'], [' 건축자재도매(욕실용) ', '0'], ['미장원 두발미용서비스 컷 염색', '3'], ['매장에서 일반소비자에게 유기농 건강식품소매', '0'], ['매장에서 일반소비자에게 핸드폰소매', '0'], ['사업장에서 산업사용자에게 의료기기(초음파장비)', '0'], ['매장에서 접객시설을 갖추고 커피,빵', '1'], ['부동산 중개서비스 부동산중개업', '6'], ['독서실에서 취사시설 없이 독서할수 있는 장소제공', '9'], ['음식점에서 접객시설을 갖추고 김치찌개,김치찜등판매', '1'], ['신문사에서 취재 편집, 발행 일간지 발행', '12'], ['교회에서 기독교계통 종교활동 종교서비스', '3'], ['개별화물자동차로 고객의 요청으로 화물운송서비스', '4'], ['영업장에서 고객을대상으로 화장품소매', '0'], ['음식점에서 접객시설을 갖추고 고기국수,국밥등 판매', '1'], ['사업장에서 합성수지원료 도매', '0'], ['가게에서 고객의요청에따라 ㄷ 도배.장식', '0'], ['건설공사를 도급하여 분양.판매 상가분양', '6'], ['교회에서 일반인대상 종교활동', '3'], ['철판,PCB,센서등을 조립,테스트하여 소방기기(불꽃감지기,무선감지기)', '2'], ['매장에서 산업사용자에게 가스기기', '0'], ['독서실에서 학생,일반인을 대상으로 학습장소제공서비스', '9'], ['질환이있는노인을입소시켜 요양시설에서 복지시설운영', '7'], ['의류판매 일반인대상 전자상거래', '0'], ['모텔에게 개별룸써비스 없이 숙박서비스 제공', '1'], ['사업장에서 다른사업체로 카드단말기 도매', '0'], ['사무실에서 고객의 의뢰을 받아 일반통신공사', '8'], ['커피숍에서 일반소비자대상으로 음료판매', '1'], ['영업장에서 일반소비자에게 소매 수산물 줄돔.숭어', '0'], ['매장에서 소비자대상 휴대폰 도,소매', '0'], ['금형 금속열처리 금형부품 열처리업', '2'], ['모아넷 통신배선공사 케이블TV접속공사', '8'], ['태권도 학원에서 학생및일반인대상으로 태권도 교육', '5'], ['개인택시로 일반인을 대상으로 승객운송서비스', '4'], ['서해소방에서 고객의 의뢰를받아 소방시설안전관리서비스', '11'], ['사업장에서 기획,디자인하여 출판', '12'], ['피자집에서 접객시설을 갖추고 피자', '1'], ['사업장에서 고객의뢰로 광고대행업', '10'], ['미용실에서 일반인을 대상으로 커트, 염색', '3'], ['상가점포를가지고 임대를통하여 사무실임대', '6'], ['영업장에서 농산물을 가공하여 머루음료제조', '2'], ['분식점에서 접객시설을 갖추고 주먹밥등 판매', '1'], ['LCD,터치스크린 조립 생산,출하', '2'], ['펜션에서 숙박시설을 갖추고 숙박서비스', '1'], ['미용실에서 고객을 대상으로 커트,파마', '3'], ['음식점에서 접객시설을 갖추고 오겹살,목살구이', '1'], ['용달화물자동차로 고객의 요청으로 화물운송서비스', '4'], ['사업체의 의뢰를받거나/현장영업을통해 사무실에서 인력소개업', '11'], ['현장에서 위생기구및배관공사 아파트건물등', '8'], ['사무실에서 의뢰를 받아 부동산자문', '6'], ['매장에서 고객에게 안경판매', '0'], ['부동산중개업 부동산 ', '6'], ['카센타에서 자동차특정부분을전문적수리 경정비,타이어수리등', '3'], ['전자부품 조립 전자다트기계(게임기)', '2'], ['도서관에서 일반인을 대상으로 도서관운영', '9'], ['옷가게에서 일반소비자에게 셔츠블라우스', '0'], ['작업장에서 여러종류동식물갖고 엑기스작업', '2'], ['핸드폰사업장에서 일반소비자을대상으로 핸드폰판매', '0'], ['전기회로 납땜.조립 전기커넥터 제조', '2'], ['아파트관리사무소에서 입주자를 위하여 주거용 아파트 관리', '6'], ['학원에서 초,중,고등학생들을 대상으로 단과학원', '5'], ['매장에서 일반소비자에게 애견용품소매', '0'], ['매장에서 접객시설을 갖추고 커피음료판매', '1'], ['치킨전문점 접객시설을 가지고 양념치킨', '1'], ['음식점 일반인 복어탕등', '1'], ['식당에서 일반인대상 음식판매', '1'], ['미용실에서 일반인을 대상으로 퍼머,염색,컷트', '3'], ['검도장에서 학생,일반인등에게 검도,강습', '5'], ['플라스틱 입고, 검수 ', '2'], ['음식점에서 접객시설을 갖추고 오리구이,삼계탕', '1'], ['개별화물자동차로 고객의 요청으로 화물운송서비스', '4'], ['서점에서 일반및 학생들을 대상으로 각종 참고서 책등 판매', '0'], ['사업장에서 일반고객을 대상으로 피부관리', '3'], ['용달화물자동차로 고객의 요청으로 화물운송서비스', '4'], ['사업장에서 소매업자에게 화장지도매', '0'], ['음식점에서 접객시설을갖추고 갈비', '1'], ['사업장에서 다른소매업자에게 식품포장지', '0'], ['차를 이용하여 화물을 운송하는 산업활동 육로를통해 화물운송', '4'], ['음식점에서 접객시설을갖추고 삼겹살구이.소고기판매', '1'], ['카센타에서 자동차의 특정 부분만을 전문적으로 수리 경정비.타이어.내장수리등', '3'], ['고객사업시설을 관리사업 사업시설관리', '11'], ['피아노 학원에서 학원생대상으로 피아노,기타교육', '5'], ['음식점에서 접객시설을 갖추고 한국식회 판매  ', '1'], ['용달화물자동차로 고객의 요청으로 화물운송서비스', '4'], ['채소 다른소매업자에게 채소류', '0'], ['매장에서 일반소비자에게 아동복소매', '0'], ['커피숍에서 접객시설을 갖추고 커피전문점', '1'], ['가요주점에서 무도시설없이 주류판매  ', '1'], ['개인택시로 일반인을 대상으로 승객운송서비스', '4'], ['전자상거래업  ', '0'], ['쌀을가지고 빻아서가열하여떡제조 인절미.절편등', '2'], ['태권도 도장에서 학생대상으로 태권도 교육', '5'], ['영업장소에서 어린이대상 축구.야구.농구등 놀이교육', '5'], [' 반도체설비 가스 배관공사 ', '8'], ['사무실에서 관공서 및 기업을 대상으로 토목설계 및 측량', '10'], ['커피전문점에서 접객시설을갖추고 커피', '1'], ['미용 재료 두발 미용 서비스 컷트,염색 등', '3'], ['학원에서 초중고학생들에게 정속독지도', '5'], ['사업장에서 토목공사시사용하는 PHC파일봉을제조', '2'], ['음식점에서 접객시설을 갖추고 스시,덮밥일식', '1'], ['사업장에서 고객대상 화장품소매', '0'], ['미용실에서 고객의 의뢰를 받아 파마, 염색', '3'], ['사업장에서 고객을대상으로 번역', '10'], ['사업장에서 일반인을 대상으로 건미역 판매', '0'], ['음식점에서 접객시설을갖추고 전', '1'], ['사업장에서 보관의뢰를 받아 물품보관(생활용품)', '4'], ['실 편조기술을이용 각종양말 제조', '2'], ['개별화물자동차로 고객의 요청으로 화물운송서비스', '4'], ['음식점에서 소비자 삼겹살판매', '1'], ['개인택시로 일반인을 대상으로 승객운송서비스', '4'], ['시중은행 일반및기업대상 여수신 자금 여수신및송금', '13'], ['쌀,콩으로 제분하여 각종 떡제조', '2'], ['매장에서 통신판매를통해 가전제품', '0'], ['개인택시로 일반인을 대상으로 승객운송서비스', '4'], ['편의점에서 체인계약을체결하여 식료품판매', '0'], ['골프연습장에서 고객들에게 스크린골프', '9'], ['영업장소 일반소비자에게소매 이불, 벼개판매', '0'], ['고객을 대상으로 집행관 사무실에서 법무관련 서비스', '10'], ['사업장에서 일반인을 대상으로 손톱네일', '3'], ['음식점에서 접객시설을 갖추고 보리밥', '1'], ['물차를가지고 요청을받아 도로청소', '11'], ['의류  ', '0'], ['개인택시로 일반인을 대상으로 승객운송서비스', '4'], ['패브릭원단, 프레임 재료입고, 원단재단 ', '2'], ['음식점 접객시설을갖추고 한식업', '1'], ['모텔에서 일반인 대상으로 숙박 서비스', '1'], ['청소사업체에서 전문청소장비를갖추고 검축물청소', '11'], ['사업장에서 임대 비거주용사무실', '6'], ['어린이집에서 보호자로부터 위탁을 받아 취학전 유아보육', '7'], ['SUS(스테인레스), 알미늄AI 재료입고, 프레스가공 ', '2'], ['학원에서 학생을 대상으로 미술교육', '5'], ['건물에서 고객의요구에따라 건물에 도색시공', '8'], ['서점에서 일반소비자에게 소매 각종 중고도서류', '0'], ['과일가게에서 일반인 대상 사과,배,감등 판매', '0'], ['고객을대상으로 미용실에서 컷트,퍼머등', '3'], ['음식점에서 접객시설 갖추고 불고기 오징어 볶을', '1'], ['도매업자에게 사업장에서 각종패류(냉동수산물)도매', '0'], ['치과에서 외래환자위주로 치과진료', '7'], ['영업소 일반고객 속눈썹, 네일, 왁싱 서비스 제공', '3'], ['슈퍼마켓  ', '0'], ['서점에서 일반소비자를대상으로 각종서적및참고소판매', '0'], ['사업장에서 접객시설을 갖추고 스테이크 등', '1'], ['사업장에서 소비자에게 음식료품위주소매', '0'], ['맛사지샵에서 고객대상으로 맛사지제공', '3'], ['PP, PBT+PC 원재료투입, 사출성형 ', '2'], ['사업장에서 일반인을 대상으로 가전제품(음향기계)소매', '0'], ['개별화물자동차로 고객의 요청으로 화물운송서비스', '4'], ['소매 자전거가게 자전거및자전거부품', '0'], ['음식점에서 접객시설을갖추고 양고기꼬치구이음식', '1'], ['대리점에서 일반소비자에게 화장품 방문 판매', '0'], ['개인택시로 일반인을 대상으로 승객운송서비스', '4'], ['상가점포를 가지고 임대를 통하여 사무실 임대', '6'], ['사업장에서 수요자를 대상으로 기계공구 도매', '0'], ['교회 종교활동 종교서비스', '3'], [' 중식 ', '1'], ['음식점에서 접객시설을 갖추고 삼겹살 판매', '1'], ['표구사 주문제작 액자,표구', '2'], ['주점에서 접객요원없이 동동주', '1'], ['고객의 사업장에서 고객의 요구에 따라 건물 전기 배선공사', '8'], ['음식점에서 접객시설을 갖추고 분식', '1'], ['식당에서 접객시설을 갖추고 생태탕 판매', '1'], ['음식점에서 접객시설을갖추고 돼지갈비', '1'], ['미용실에서 일반인 대상으로 두발 서비스 제공', '3'], ['사업장에서 일반인대상 손톱관리 서비스', '3'], ['정육점에서 일반인대상으로 돈육,우육등 판매', '0'], ['용달화물자동차로 고객의 요청으로 화물운송서비스', '4'], ['사업장에서 일반소비자에게 소매 타이어', '0'], ['개인택시로 일반인을 대상으로 승객운송서비스', '4'], ['한국음식 제공 일반인대상 순대국밥', '1'], ['PC방에서 일반인대상 전자오락서비스제공', '9'], ['음식점에서 접객시설을 갖추고 피자, 떡볶이', '1'], ['피자집에서 일반인들에게 피자 판매', '1'], ['철도 도시간철도운송 승객 및 화물운송', '4'], ['사진관(동전식 사진촬영제외) 인물중심 사진촬영 아기사진.가족사진', '10'], ['종친회 종친발전을위한 친목단체', '3'], ['미용실에서 일반인대상으로 머리자르기 염색 파마', '3'], ['회사의재산,영업상황,재무관련서류 의뢰를 받아서 회계감사,세무조정,경영진단', '10'], ['사무실에서 농아인을 대상으로 친목도모', '3'], ['세탁물을 수집하여 세탁서비스', '3'], ['주점에서 접객시설을갖추고 소주,맥주등제공', '1'], ['식당에서 접객시설을갖추고 한정식', '1'], ['커피숍에서 접객시설을 갖추고 커피', '1'], [' 오리육가공식품도매업 ', '0'], ['슈퍼에서 일반인대상 식음료잡화소매', '0'], ['음식점 접객시설갖추고 자장면,잠뽕판매', '1'], ['헬스장에서 학생일반인을 대상으로 스피닝교육', '9'], ['매장에서 일반소비자에게 소매 이불,베개등', '0'], ['주유소에서 일반인을 대상으로 각종유류및 판매및 배달', '0'], ['사업장에서 고객요청에따라 컵밥제공', '2'], ['수공예품  ', '0'], ['은행에서 일반인대상 자금여수신', '13'], ['요양원에서 노인요양복지 재가노인복지(주간보호시설)', '7'], ['사업장에서 초등학생대상 보드게임', '9'], ['영업장에서 일반인대상 택시운송', '4'], ['건축사무소에서 고객요청에의해 건축설계및서비스', '10'], ['사업장에서 의뢰를 받아 경영컨설팅', '10'], ['개별화물자동차로 고객의 요청으로 화물운송서비스', '4'], ['아파트 입주민을 위한 주거용 부동산관리업', '6'], ['병원에서 일반인 대상으로 치과진료', '7'], ['개인택시로 일반인을 대상으로 승객운송서비스', '4'], ['해산물, 홍게 음식점  ', '1'], ['외래환자위주 치과의원 치과진료', '7'], ['세무사사무소에서 사업체를대상으로 세무업무대리', '10'], ['용달화물자동차로 고객의 요청으로 화물운송서비스', '4'], ['사업체에서 산업사용자 공작기계무역도매', '0'], ['사업체에서 5톤이상 화물자동차를 이용하여 화물운송', '4'], ['건설현장에서 철근및철근콘크리트 공사업', '8'], ['철판 가공 철구조물', '2'], [' 전기기계장비판매 ', '0'], ['사업장에서 제조 차량 특장 제조', '2'], ['현장에서 의뢰를받아 내부전기배선공사', '8'], ['고객의뢰에 따라 건축물내부의 전기배선공사', '8'], ['학원에서 일반인을 대상으로 교습학원 실용외국어', '5'], ['주점에서 접객요원을두고 유흥주점', '1'], ['영업장에서 일반소매업자에게 미용재료 도매', '0'], ['학원에서 학생들에게 과학교육서비스', '5'], ['방앗간에서 찌고 분쇄 천연 및 혼합조제', '2'], ['사무실에서 고객의 의뢰를 받아 부동산 중개 서비스', '6'], ['사업장에서 접객시설을 갖추고 한식음식판매', '1'], ['노래방 시설을 갖추고 노래연습장', '9'], ['부동산에서 계약에 의거 부동산 중개', '6'], ['건물내외에서 고객요청에의해 통신공사', '8'], ['건물내에서 고객의 요구에 따라 냉.난방기기 설치', '8'], ['건설중기 부품판매 도매업', '0'], ['개인택시로 일반인을 대상으로 승객운송서비스', '4'], ['보건소 외래환자 위주로 진료서비스', '7'], ['교수님들의 사업장에서 업무지원, 연구비 관리', '10'], ['농협중앙회 일반인을 대상으로 자금여수신', '13'], ['다방에서 배달을위주로 커피,홍차 배달', '1'], ['용달화물자동차로 고객의 요청으로 화물운송서비스', '4'], ['건설현장에서 전문직별 건설업자가 도로 건설', '8'], ['분식점에서 간이음식조리 떡볶이, 김밥, 라면 등 간이 음식제공', '1'], ['전자상거래  ', '0'], ['네일샵에서 일반인을 대상으로 손톱미용 서비스', '3'], ['영업소 택배운송 배달', '4'], ['개별화물자동차로 고객의 요청으로 화물운송서비스', '4'], [' 화장품 도매 ', '0'], ['고객요청으로 일정기간동안 인력공급', '11'], ['음식점에서 접객시설을 갖추고 떡볶이', '1'], ['가게에서 일반 소비자에게 이불 소매', '0'], ['이용소 두발이용서비스 제공 머리자르기,염색등', '3'], ['공연팀 마케팅 공연배급', '9'], ['펜션에서 숙박시설을갖추고 숙박서비스', '1'], ['음식점에서 접객시설을갖추고 곱창구이', '1'], ['게스트하우스 숙박시설을 갖추고 숙박서비스', '1'], ['어린이집에서 관할구청에서 인가받아 취학전유아보육', '7'], ['매장에서 일반소비자에게 노트북,pc 소매', '0'], ['용달화물자동차로 고객의 요청으로 화물운송서비스', '4'], ['50평 미만 슈퍼마켓에서 일반소비자에게 과자, 음료수 제공', '0'], ['사업장에서 홍보영상제작 ', '12'], ['매장에서 일반 소비자 대상 여성의류 판매', '0'], ['사업장에서 배달위주로 홍게찜,대게찜', '1'], ['용달화물자동차로 고객의 요청으로 화물운송서비스', '4'], ['화물 운송업  ', '4'], ['개별화물자동차로 고객의 요청으로 화물운송서비스', '4'], ['서비스 학생들을 가르침 국어교습소', '5'], ['음식점에서 접객시설을갖추고 돼지족발판매', '1'], ['체육관에서 학생및 일반인대상 무에타이 킥복싱', '5'], ['사업장에서 교육 지원 관리', '5'], ['매장에서 일반소비자에게 꽃', '0'], ['사업장에서 일반인대상으로 눈썹문신.눈썹파마', '3'], ['사업장에서 고객들을 대상으로 마사지', '3'], ['음식점에서 접객시설을갖추고 중국식요리', '1'], ['부동산에서 계약에 의거하여 부동산중개서비스', '6'], ['금속,크리스탈 도매 상패,트로피', '2'], ['아동센터 아동청소년을 대상으로 교육, 돌봄, 무료급식 등 복지지원 서비스', '7'], ['건강 기능식품  ', '0'], ['영업장에서 고객을 대상으로 석쇠 고기구이  화로구이 등 주방용품 도매등', '0'], ['음식점에서 접객시설을 갖추어 회', '1'], ['음식점 접객시설을 갖추고 된장찌개 등 한식제공', '1'], ['에틸렌프로필렌고무, 실리콘 고무배합, 고무절단 ', '2'], ['마트에서(165㎡미만) 일반인을대상으로 각종음료,식료품등소매', '0'], ['일반인대상으로 매장에서 운동화', '0'], ['사무실엥서 화주와화물운송업자간에 화물운송대행', '4'], ['히터, SUS 입고, 레이저 ', '2'], ['영업장에서 고객의의뢰를받아 샷시 창호공사', '8'], ['사업장에서 고객을 대상으로 전자담배 판매', '0'], ['음식점에서 접객시설을갖추고 중식', '1'], ['학원에서 일반인을대상으로 색소폰교습', '5'], ['정보공업고등학교에서 관할교육청인가를받아실무교육 기술교육서비스', '5'], ['음식점에서 접객시설을갖추고 아구찜', '1'], ['당구장에서 당구시설을 갖추고 당구대대여', '9'], ['PVC 압출, 융착 ', '2'], ['기계를가지고 솜사탕을만들어 포장판매', '0'], ['용달화물자동차로 고객의 요청으로 화물운송서비스', '4'], ['범양냉방(주) 업체를 상대로 냉난방기기 도매', '0'], [' 생대패삼겹살구이.차돌박이구이 ', '1'], ['컴퓨터에수록하여 정보를 로또온라인정보제공', '12'], ['가게에서 소비자에게판매 시공 페인트판매', '0'], ['사업장에서 수리후매장등으로판매 업소용냉장,냉동고', '0'], ['사업장에서 회원들에게 헬스장제공', '9'], ['사무실에서 농업용 자재 연구개발', '10'], ['민박에서 일반인을 대상으로 숙박서비스', '1'], ['용달화물자동차로 고객의 요청으로 화물운송서비스', '4'], ['사업장에서 산업사용자의 의뢰를 받아 선박도장공사', '8'], ['음식점  일식퓨전요리', '1'], ['음식점 접객시설을갖추고 갈치국,옥돔구이', '1'], ['학생 일반인에게 학원에서 검도', '5'], ['개인택시로 일반인을 대상으로 승객운송서비스', '4'], ['개인택시로 일반인을 대상으로 승객운송서비스', '4'], ['매장에서 소비자에게 여성의류', '0'], ['미용실에서 두발미용서비스 퍼머, 염색', '3'], ['개인택시로 일반인을 대상으로 승객운송서비스', '4'], ['매장에서 일반소비자를대상으로 즉석홍삼엑기스추출,홍삼엑기스소매', '0'], ['공장용지를개발하여 공장사업주대상으로 공업용용지분양', '6'], ['사업장에서 산업 사용자에게 활어용 산소 도매', '0'], ['공부방 학생 대상 일반교과 과목교습', '5'], ['포리판 PU 절단 재봉 신발창 임가공', '2'], ['사업장에서 강사협회 ', '3'], ['초밥전문점에서 접객시설을갖추고 초밥전문', '1'], ['영업장에서 주문에 의해 자동차항공분야기기검사측정', '2'], ['사업장에서 곡식으로누룽지를  만들어 현미누룽지.등', '2'], ['사업장에서 제조업 LCD모니터', '2'], ['개인택시로 일반인을 대상으로 승객운송서비스', '4'], ['개인택시로 일반인을 대상으로 승객운송서비스', '4'], ['의뢰를 받아 사업장에서 토목 측량', '10'], ['매장에서 일반인에게 눈영양제 소매', '0'], ['펜션에서 일반인에게 숙박서비스', '1'], ['커피숍에서 접객시설을 갖추고 음료,커피', '1'], ['전당포에서 일반고객 대상물건을 담보로 현금대출', '13'], ['음식점업에서 접객시설을 갖추고 된장찌개판매', '1'], ['사업장에서 회원들과 자전거 라이딩', '3'], ['빌라관리사무소에서 입주자들을 위하여 주거용빌라 관리서비스', '6'], ['미용실에서 고객들에게 컷트,펌,염색', '3'], ['여성정장  소매', '0'], ['매장에서 접객시설을갖추고 커피', '1'], ['매장에서 일반소비자에게 식품, 일용잡화', '0'], ['가정용가스연료를 가지고 가스소매 일반인을 상대료', '0'], ['채소농산물을 소매업자에게 사과도매', '0'], ['동물성 유지 제조업 시설을 갖추고 동물성 유지 제조', '2'], ['개인택시로 일반인을 대상으로 승객운송서비스', '4'], ['음식점에서 접객 요원 없이 맥주,양주', '1'], ['사업장에서 일반인을대상으로 대출서비스', '13'], ['실내오락용 사격장 사격연습장 시설을 갖추고 오락사격연습장', '9'], ['사무실에서 고객의뢰를 받아 광고물 문안 도안작성', '10'], ['사업장에서 고객을대상으로 심리 상담치료', '7'], ['치과 외래환자대상 치아및잇몸치료', '7'], ['서양식 조리 일반소비자', '1'], ['핸드폰 소비자에게 통신기기', '0'], ['사업장에서 의뢰로 일반통신공사업', '8'], ['유치원에서 관할교육청인가를 받아서 취학전아동보육교육', '5'], ['사업장에서 고객의뢰 광고대행업', '10'], ['건축자재 산업사용자에게 골재및 건축자재판매', '0'], ['개인택시로 일반인을 대상으로 승객운송서비스', '4'], ['커피？에서 접객시설을 갖추고 커피, 음료', '1'], ['사업체에서 우편배달 우편물 배달서비스', '12'], ['노래방에서 시간제기계로 노래서비스제공', '9'], ['분식점에서 접객시설을 갖추고 떡복이 김밥등 판매  ', '1'], ['현장에서 고객의 요구에 페인트및 도장공사', '8'], ['매장에서 소비자에게 모터수리업', '2'], ['플라스틱 NC가공 핸드폰케이스 금형', '2'], ['사업장 고객의요구에따라 치과기공', '2'], ['주점에서 접객시설을 갖추고 맥주,소주', '1'], ['영업장에서 소비자에게 매연저감장치판매', '2'], ['사업장에서 일반인대상 부동산중개서비스', '6'], ['부동산중개소에서 계약에의거 부동산중개 부동산중개서비스', '6'], ['세탁소에서 일반대중을 상대로 드라이크리닝', '3'], ['용해계 정량계근, MIXER ', '2'], ['모터, 필터 디자인, 필터제작 공기청정기제조', '2'], ['고객의시설물을 고객의사업장에서 유지.관리서비스', '11'], ['부동산중개소에서 계약에의거 부동산중개서비스', '6'], ['컴퓨터 서버를 사업장에서 유지, 보수, 관리', '12'], ['철판 절단,절곡 식품기계 부분품', '2'], ['일반소비자에게소매 페인트가게에서 페인트', '0'], ['어린이집에서 위탁을받아 영유아보육', '7'], ['사업장에서 학생대상으로 국어,영어보습', '5'], ['식당에서 접객시설을갖추고 곱창', '1'], ['수선방에서 고객대상으로 구두수선', '3'], ['치킨집에서 양념,후라이드치킨제공  ', '1'], ['순대집 접객시설을 갖추고 순대판매', '1'], ['여행사에서 일반인을 대상으로 국니외여행알선', '11'], ['상가에서 소매업자에게 도매 정장티셔츠', '0'], ['용달화물자동차로 고객의 요청으로 화물운송서비스', '4'], ['일반고객을 대상으로 미용실에서 커트, 파마, 염색', '3'], ['음식점에서 접객시설을 갖추고 순두부,청국장', '1'], ['주점에서 접객시설을갖추고 주류,안주판매', '1'], ['직업훈련학원 학원생대상으로 학원에서', '5'], ['일반소비자에게 매장에서 성인의류판매', '0'], ['관리사무소 사무실이용자를위하여 건물관리', '6'], ['고객의 요청으로 사업장에서 산업용모터수리', '2'], ['가게에서 일반소비자에게 반찬 소매', '0'], ['학원에서 학생을 대상으로 국어교육', '5'], ['영업서비스 지게차 판매,수리', '0'], ['옷가게 일반인대상소매 모피', '0'], ['축산물 경매 축산현장에서 중개 도매인', '0'], ['주점에서 접객요원을 두고 맥주, 양주 판매', '1'], ['미용실에서 일반인을대상으로 커트,파마,염색', '3'], ['대형마트에서 접객시설을 갖추고 한국음식을 판매', '1'], ['공사현장에서 고객의요구에따라 형틀설치공사,비계공사', '8'], ['가게에서 일반소비자 대상으로 생선 판매', '0'], ['편의점에서 체인계약을 체결하여 식료품, 담배및 각종상품소매', '0'], ['음식점에서 접객시설을 갖추고 곱창,막창구이', '1'], ['금속 조립 상수도관청소기', '2'], ['사업장에서 간관련 학술대회개최', '3'], ['사업장에서교육 영상물제작인터넷 유선방송 중개소에서 송출하여 종합유선방송제공', '12'], ['상가에서 소매업자에게도매 여성의류', '0'], ['병원 외래,입원환자 진료처방', '7'], ['사업장에서 고객을대상으로 타이어교체', '0'], ['매장에서 접객시설을 갖추고 음료', '1'], ['카페에서 접객시설을갖추고 커피,음료판매', '1'], ['음식점에서 접객시설을 갖추고 빈대떡. 파전판매', '1'], ['개별화물자동차로 고객의 요청으로 화물운송서비스', '4'], ['매장에서 일반 소비자에게 여성의류', '0'], ['중국음식점에서 접객시설을 갖추고 중국식코스요리', '1'], ['인터넷에서 일반대중을 대상으로 소독,살균제 판매', '0'], ['고객대상(브랜드중개) 사업장에서 기타 사업지원서비스', '11'], ['사업장에서 일반소비자를대상으로 냉동만두.햄 판매', '0'], ['고객의사업장에서 고객요구에따라 시설물유지관리공사', '8'], ['다육식물  ', '0'], ['티셔츠, 바지 원단, 재단 ', '2'], ['매장에서 소매 남녀 정장구두', '0'], ['포장재, 실 자재입고, 조립 ', '2'], ['고객의 요청에 의거 매장에서 피자', '0'], ['개인택시로 일반인을 대상으로 승객운송서비스', '4'], ['사업장에서 토목.건축 관련 감리를 건물및 토목 엔지니어링서비스', '10'], ['음식점 접객시설을 갖추고 닭구이,닭발', '1'], ['개별화물자동차로 고객의 요청으로 화물운송서비스', '4'], ['사무실에서 일반소비자 주택매매알선', '6'], ['사업장에서 수강생대상 필라테스', '5'], ['제과점에서 접객시설을 갖추고 빵 케？등 제공', '1'], ['어린이집에서 보호자로부터 위탁을받아 취학전 유아보육', '7'], ['금은방에서 고객을 대상으로 시계.금반지.은제품', '0'], ['소비자에게 가게에서 약초 판매', '0'], ['현장에서 의뢰를받아 전기공사', '8'], ['영업장에서 접객시설을 갖추고 수제맥주,와인 등', '1'], ['사무실에서 소속선수들을 관리', '3'], ['음식점에서 접객시설갖추고 경양식', '1'], ['주점에서 접객요원 및 무도시설없이 소주, 맥주 판매', '1'], ['학원에서 학생대상으로 수학수업', '5'], ['영어교습소에서 서비스（교육관련）업 초등영어교육', '5'], ['접객시설을 갖추고 사업장에서 족발 제공', '1'], ['가전제품 도,소매 가전제품,정수기렌탈', '11'], ['카센타 자동차의특정부분만을전문적으로수리 경정비,타이어,내장수리', '3'], ['중국집 일반고객을상대 짜장등 요리 서비스', '1'], ['천으로 외주가공으로 제조 안전조끼', '2'], ['목재 재단 절단 접합 스피커통(인클로저)제조', '2'], ['비경화고무를 성형하여 실리콘 고무바킹제조', '2'], ['일반화물  ', '4'], ['1차금속 소매업자에게 동부스바,동판', '0'], ['노래방에서 일반고객대상으로 노래연습제공서비스', '9'], ['사무실에서 고객의뢰에 비거주용건물임대', '6'], ['교회 종교 활동 종교 서비스', '3'], ['음식점에서 접객시설을 갖추고 육류구이', '1'], ['농장에서 삼채농사지어서 삼채판매', '0'], ['용달화물자동차로 고객의 요청으로 화물운송서비스', '4'], ['매장에서 소비자대상 캔들 방향제', '0'], ['용달화물자동차로 고객의 요청으로 화물운송서비스', '4'], ['개인택시로 일반인을 대상으로 승객운송서비스', '4'], ['치킨집에서 접객시설갖추고 치킨판매', '1'], ['개인택시로 일반인을 대상으로 승객운송서비스', '4'], ['건설현장에서 고객의 요구에 따라 인테리어공사', '8'], ['미장원 고객을 대상 커트.파마.염색', '3'], ['개인택시로 일반인을 대상으로 승객운송서비스', '4'], ['매장에서 직접반죽하여 꽈배기,빵 판매', '1'], ['공사현장에서 고객요청에따라 리모델링공사', '8'], ['사업장을갗추고 고객의요청에따라 플라스틱클리너제조', '2'], ['세차장에서 일반인을대상 세프세차', '3'], ['사업장에서 접객시설을 갖추고 술 판매', '1'], ['사업장에서 디자인제조 여성의류', '2'], ['사업장에서 일반인 대상으로 건강보조식품 판매', '0'], [' 싱싱한 뒷고기 숯불구이 ', '1'], ['중장비를이용하여 현장에서 배관공사', '8'], ['개인택시로 일반인을 대상으로 승객운송서비스', '4'], ['치킨전문점에서 접객시설을 갖추고 치킨', '1'], ['수의업  ', '10'], ['사업장에서 학교에 급식자재납품', '0'], ['귀금속 세공 반지,목걸이', '2'], ['노래방 노래방기기와접객시설을갖추고 노래방기기제공.음료수판매', '9'], ['사업장에서 일반인 대상으로 염색,컷트,파마 등', '3'], ['교회에서 기독교계통종교활동 종교서비스', '3'], ['어린이집 영유아대상 보육', '7'], ['상가에서 사업장 이용자를 위하여 상가관리', '6'], ['사업장에서 사무실이용자를위하여 비거주용 건물관리', '6'], ['부동산중개소에서 계약 및 중개를 통한 수수료를 받고 부동산중개서비스', '6'], ['가게에서 일반소비자에게 생선 소매', '0'], ['소매업자대상으로 사업장에서 석유판매', '0'], ['부동산 중개소 일반고객을 대상으로 부동산 중개 서비스', '6'], ['천연고무, 원사 원자재입고, 보빈 ', '2'], ['치과에서 외래환자위주 치과진료서비스', '7'], ['부동산 중개소에서 계약및 중개들을 통해 부동산거래 중개 서비스', '6'], ['미용실 고객을대상으로 머리자르기.염색,퍼머서비스', '3'], ['점포에서 일반소비자에게 소매 이불.쿠션', '0'], ['주점에서 접객시설을갖추고 주류판매', '1'], ['분체가루(도료) 재료입고, 세척 ', '2'], ['사업장에서 정구태양광가로등 제조', '2'], ['손님에게 방제공  ', '1'], ['수도과에서 시민을대상으로 생활용수공급', '15'], ['개인택시로 일반인을 대상으로 승객운송서비스', '4'], ['산업사용자에게 도매 화학제품', '0'], ['접객시설을 갖추고 음식점에서 한식제공', '1'], ['컴퓨터 수리  ', '3'], ['학원에서 학생들을 대상으로 보습학원', '5'], ['가게에서 일반소비자에게 셔츠,블라우스판매', '0'], ['한의원 외래환자위주로 한약.조제.진료', '7'], ['개인택시로 일반인을 대상으로 승객운송서비스', '4'], ['당구장에서 당구대를 갖추고 당구장 서비스', '9'], ['음식점에서 접객시설을 갖추고 각종 죽 판매', '1'], ['음식점에서 접객시설을갖추고 송어회판매', '1'], ['사업장에서 수입 석유화학촉매재 원자재수입', '0'], ['시트지 제작 그래픽스티커제작', '2'], ['변호사사무소에서 의뢰인을대리하여 소송,변호,이의신청', '10'], ['소주방에서 접객요원없이 아나고 소주', '1'], ['매장에서 일반소비자 등산복 등산용품판매', '0'], ['용달화물자동차로 고객의 요청으로 화물운송서비스', '4'], ['사업장에서 일반소비자에게 모터수리', '2'], ['농산물을 가지고 저온 저장하여 농산물 소비자에게 제공', '0'], ['개인택시로 일반인을 대상으로 승객운송서비스', '4'], [' 단미사료 및 기타 사료 제조업 ', '2'], ['가게에서 소비자를 대상으로 채소판매', '0'], ['용달화물자동차로 고객의 요청으로 화물운송서비스', '4'], ['일반화물자동차로 고객의 요청으로 화물운송서비스', '4'], ['사업장에서 고객을대상으로 커피,주스판매', '1'], ['제과점에서 접객시설을 갖추고 빵.케익', '1'], ['사업장에서 고객의요구에의해 철구조물제조', '2'], ['미용실에서 일반인을 대상으로 염색,컷트,퍼머제공', '3'], ['개인택시로 일반인을 대상으로 승객운송서비스', '4'], ['가게에서 일반인을대상으로 속옥판매', '0'], ['여행사에서 국내외 여행상품 상담 및 알선서비스 국내외 여행상품', '11'], ['불교 불교계통 종교 활동 종교 서비스', '3'], ['매장 고객 과이소매', '0'], ['매장에서 일반인에게 임식료품위주 소매', '0'], ['치킨전문점에서 일반인에게배달판매 치킨', '1'], ['옥매트 제조업 전기매트', '2'], ['송산공업사 농기계 농기계수리', '2'], ['접객시설을갖추고 매장에서 빵,케익등', '1'], ['일반저울 제조업  ', '2'], ['업체에서 의뢰를 받아 고객의 요청으로 지반조성관련 공사업', '8'], ['노래방에서 노래방시설을 갖추고 노래방 제공', '9'], ['일반소비자에게 소매 매장 의류 부자재', '0'], ['문경읍갈평출장소에서 주민들에게 일반행정서비스제공', '14'], ['보험회사에서 영업소대상 영업소 총괄관리 손해보험', '13'], ['부동산중개소에서 계약에 의거 부동산중개서비스', '6'], ['교회에서 교인을대상으로 교리설교', '3'], ['음식점에서 접객시설을 갖추고 한식제공', '1'], ['매장에서 일반소비자에게 남성골프의류소매', '0'], ['부동산중개소에서 계약및중개수수료받고 주택매매및임대서비스', '6'], ['공사현장에서 인력등으로 상하수도공사', '8'], ['가게에서 접객시설을갖추고 죽판매', '1'], ['사업장에서 의뢰를 받아 영상장비 설치', '8'], ['수퍼마켓에서 일반소비자 상대로 식음료,생활용품 소매', '0'], ['매장에서 일반인을 대상으로 휴대폰', '0'], ['치과에서 외래환자를 대상으로 치과진료.임플란트', '7'], ['종이.잉크 마스타인쇄 책.서식', '2'], ['미장원에서 고객을 대상으로 커트,파마,염색', '3'], ['소주방에서 접객요원 및 무도시설 없이 소주, 맥주', '1'], ['사무실에서 화물차량을이용 화물운송', '4'], ['마트에서 일반소비자에게 식료품위주소매', '0'], ['통신판매업(화장품,의류)  ', '0'], ['매장에서 일반인 대상 티셔츠 소매', '0'], ['소매업자 대상으로 도매 사업장에서 안경테,선글라스', '0'], ['중개사무소에서 계약에의거 중개 부동산업', '6'], ['영업장에서 일반인대상 양식판매', '1'], ['한식  ', '1'], ['매장에서 접객시설을 갖추고 커피, 음료', '1'], ['사회교육시설 체력단련실 요가.헬스', '9'], ['방앗간에서 분쇄해서 찌고 떡제조', '2'], ['식당에서 접객시설을 갖추고 한식', '1'], ['사업장에서 산업사용자에게 도매 화학제품', '0'], ['세탁소에서 일반대상 셀프세탁', '3'], ['공장에서 거래처 위탁받아 편조의류제조', '2'], ['쌀과곡물로 세척,분쇄,스팀,성형 송편,인절미제조', '2'], ['사업장에서 계약 체결을 맺고 부동산 중개 부동산 중개', '6'], ['개별화물자동차로 고객의 요청으로 화물운송서비스', '4'], ['카센타에서 자동차특정부분을 자동차정비서비스', '3'], ['식당에서 접객요 시설을 갖추고 삼계탕,영양탕', '1'], ['매장에서 일반인들을대상으로 중고 냉장고,세탁기소매', '0'], ['사업장에서 컨테이너에물품보관 보관서비스', '4'], ['가게에서 일반대상 ？제조판매', '2'], ['사업장에서 탁주,약주 도매 약주，탁주', '0'], ['사업장에서 고객의요청으로 실내장식디자인', '10'], ['학습시설을갖추고 초등학생대상으로 전과목교습', '5'], ['매장에서 일반소비자에게 가구판매', '0'], ['영업장에서 ？란인을 대상으로 주류와 안주 제공', '1'], ['정비소에서 전기 및 기계적인 방법으로 자동차수리서비스', '3'], ['참조기, 소금 조기구입, 해동 굴비 제조', '2'], ['영업장에서  사진촬영', '10'], ['소프트웨어 개발 및 공급업  ', '12'], ['문구점에서 일반인을대상으로 문구판매', '0'], ['주점에서 접객요원없이 맥주,소주제공', '1'], ['약국메서 일반소비자에게 소매 처방약 제조 의약품', '0'], ['사업장에서 산업사용자에게 판촉물 인쇄제공', '0'], ['사업장에서 일반인을 대상으로 철물판매', '0'], ['양조장에서 쌀과 누룩으로 막걸리 제조', '2'], ['미용실에서 일반인에게 컷트,파마,염색 등 두발 미용 서비스', '3'], ['교회 기독교계통종교활동 종교서비스', '3'], ['사업장에서 고객의 요청에 따라 미싱수리', '3'], ['은행에서 일반인들에게 여,수신업무', '13'], ['사무실에서 의뢰인을대리하여 소송변호이의신청', '10'], ['카페에서 접객시설갖추고 커피,음료', '1'], ['프랜차이즈컨설팅  ', '10'], ['학원에서 학생대상으로 중국어학원', '5'], ['사업장에서 환자 요청으로 응급환자 운송', '7'], ['사업장에서 소매업자에게 골재판매', '0'], ['가정용가스 일반소비자에게 부탄 프로판가스', '0'], ['카센터 고객을대상으로 자동차정비', '3'], ['도료관련제품을 산업사용자에게 도매 페인트,레커', '0'], ['가전제품을 수리하거나 보관하여 중고 매장에서 일반인이나 가전 중고품을 식당에 소매', '0'], ['알루니늄 조립 알루미늄샷시제작', '2'], ['제조업 계측기 전자계측기', '2'], ['매장(음식점)에서 접객시설을 갖추고 일식, 참치회 판매', '1'], ['용달화물자동차로 고객의 요청으로 화물운송서비스', '4'], ['사업장에서 고객을대상으로 법률상담', '10'], ['전자상거래업  ', '0'], ['개인택시로 일반인을 대상으로 승객운송서비스', '4'], ['제조업 회사본부 소속 사업체 운영 통제, 관리 관리 업무', '10'], ['음식점에서 접객시설을 갖추고 한식', '1'], ['무도시설을갖추고 일반고객을 대상으로 술판매', '1'], ['커피숍에서 접객시설을갖츠고 커피,음료', '1'], ['음식점에서 일반대상 치킨,간이주점', '1'], ['운송업 화물운송 화물지입', '4'], ['육류 소매업자와 산업사용자에게 도매', '0'], ['음식점에서 접객시설을 갖추고 해산물 요리판매', '1'], ['노상에서 일반소비자에게 과일 채소 판매', '0'], ['현장에서 고객의요청에의해 도배.실내장식공사업', '8'], [' 화물 운송업자와의 우주베키스탄으로 국제물류 주선업 ', '4'], ['상가에서 일반인대상으로 피부왁싱', '3'], ['사업장에서 일반소비자를 대상으로 생활도자기 소매', '0'], ['공장에서 배추를 가지고 일반인의 주문을 받아 배추를 절임상태로 만들어 판매', '2'], ['현장에서 고객의 설계에 따라 낸각탑,낸동기 배관공사', '8'], ['편의점에서 일반인 음식료품', '0'], ['매장에서 일반인대상으로 네일아트', '3'], ['사업장에서 고객의 요청에따라 인물,행사사진 촬영', '10'], ['전자상거래 소매업 일반인을 대상으로 온라인소매', '0'], ['매장에서 일반소비자 구두판매', '0'], ['사업장에서 소매업자에게 캔음료도매', '0'], ['도매 비가공의 과실채소을 고구마 감자 쌈', '0'], ['매장에서 일반소비자에게 골프의류판매', '0'], ['식품  ', '0'], ['사회적으로 도움이 필요한사람에게 사업장에서 복지서비스', '7'], ['사업장에서 일반소비자에게 철물및 난방용품', '0'], ['165평방미터미만미트에서 일반소비자에게소매 잡화,음료,담배등', '0'], ['매장 일반소비자대상 화장품', '0'], ['사업장에서 고객의 요청으로 닥트설치', '8'], ['사업장에서 소비자에게 돼지고기,소고기', '0'], ['고객의 의뢰에 의해 사무실에서 건축설계', '10'], ['미용실에서 고객을 대상으로 커트,파마,염색', '3'], ['수협에서 어민들을 대상으로 액체연료제공', '0'], ['음식점에서 접객시설을 갖추고 해장국,한식판매', '1'], ['안과에서 외래환자 위주로 안과진료 서비스', '7'], ['분식점에서 일반 고객을 대상으로 김밥,오뎅', '1'], ['음료 도매  ', '0'], ['용달화물자동차로 고객의 요청으로 화물운송서비스', '4'], ['개별화물자동차로 고객의 요청으로 화물운송서비스', '4'], ['개인택시로 일반인을 대상으로 승객운송서비스', '4'], ['태권도장 학생및일반인대상으로 태권도지도', '5'], ['개인택시로 일반인을 대상으로 승객운송서비스', '4'], ['가게에서 접객시설을 갖추고 치킨', '1'], ['일반외래환자위주로 외과에서 정형외과진료', '7'], ['애견미용업 서비스 애견미용', '3'], ['센터에서 일반고객대상으로 상담,음악,정서적치료', '7'], ['조합을 구성하여 조합에서도급주어 주택공급', '6'], ['꽃가게에서 일반소비자대상으로 생화판매', '0'], ['비전기식 난방기구 절삭, 가공 연탄보일러부품제조', '2'], ['개별화물자동차로 고객의 요청으로 화물운송서비스', '4'], ['건물내부에서 고객의 의뢰에 따라 통신전기배관공사', '8'], ['산업사용자에게 무역(전기재료) 케이블전선', '0'], ['매장에서 일반인을 대상으로 수산물 소매업/생선', '0'], ['학원에서 학생을 대상으로 피아노 레슨', '5'], ['사업장에서 가전제품및부품 도매업', '0'], ['외의  ', '0'], ['꽃을가지고 꽃다발을만들어 꽃다발판매', '0'], ['부동산중개업 부동산업 부동산중개서비스', '6'], ['학원에서 학생을 대상으로 영어,과학 교육', '5'], ['사무용기기를 도매 복사기.팩시밀리', '0'], ['학원 학생대상 미술강습', '5'], ['용달화물자동차로 고객의 요청으로 화물운송서비스', '4'], ['교회 기독교계통 종교서비스', '3'], ['매장에서 일반소비자에게 여성복정장판매', '0'], ['매장에서 간이음식을 조리하여 김밥', '1'], ['주점에서 접객요원없이 맥주,소주', '1'], ['원료 한약재 한약재도매', '0'], ['주점에서 접객시설을 갖추고 소주,맥주', '1'], ['사업장에서 시설을 갖추고 카트바퀴 수입판매', '0'], ['외국어학원에서 학생, 일반인 등에게 교육서비스 제공 영어 회화, 문법 등', '5'], ['사업장에서 주문을 받아서 별정통신', '12'], ['개인택시로 일반인을 대상으로 승객운송서비스', '4'], ['도시락  ', '1'], ['사업장에서 고객의의뢰를받아 차？렌트', '11'], ['공업사에서 자동차 종합수리 자동차정비및종합수리', '3'], [' 커피,음료 ', '1'], ['사무실에서 주민대상 민원업무', '14'], ['사무실에서 시공사의 의뢰에따라 건축공학계산(적산),감리', '10'], ['매장에서 고객을대상으로 커피및차류판매', '0'], ['주점에서 접객시설을 갖추고 소주,맥주등을 판매', '1'], ['병원에서 일반인위주로 내과응진료서비스', '7'], ['음식점에서 배달위주로 김치찌개', '1'], ['개인택시로 일반인을 대상으로 승객운송서비스', '4'], ['의뢰인을대리하여 법무사사무실에서 신청대행대리상담', '10'], ['기기용 자동측정 및 제어장치 제조업  ', '2'], ['수산물을 일반인을 대상으로 소매 갈치 자반고등어', '0'], ['매장에서 일반인고객대상으로 인형뽑기', '9'], ['꽃가게에서 일반인에게 생화판매', '0'], ['원단 재단, 가봉 남자 및 소년용 정장 제조', '2'], ['가게에서 일반인을 대상으로 여성겉옷 소매', '0'], ['사업장 시설에서 일반고객대상으로 자동차전문수리업', '3'], ['플라스틱 사출 자동차차체용부품', '2'], ['개인택시로 일반인을 대상으로 승객운송서비스', '4'], ['태권도장에서 학생들에게 태권도교육', '5'], ['매장에서 일반소비자에게 편의점', '0'], ['가게에서 일반인대상으로 왁싱', '3'], ['육류 산업사용자에게 도매 돼지고기 부산물', '0'], ['민사형사소송사건 의뢰인대리하여 소송수행', '10'], ['도매업 사업장에서 컴퓨터주변기기', '0'], ['매장에서 일반인에게 육류판매', '0'], ['개별화물자동차로 고객의 요청으로 화물운송서비스', '4'], ['일반인에게소매 시장에서 오징어.마른안주판매', '0'], ['음식점에서 접객시설을 갖추고 스테이크제공', '1'], ['사업장에서 부동산개발 토지매매', '6'], ['사업장에서 고객의요구에따라 실내인테리어', '8'], ['떡집에서 쌀,콩,찹쌀 등을 가공하여 각종 떡 제조', '2'], ['꽃가게에서 일반소비자에게 꽃,난초', '0'], ['한옥에서 수각시설을 갖추고 민박제공', '1'], ['매장에서 일반소비자에게 여성셔츠.블라우스', '0'], ['사업장에서 접객시설없이 빵,케익', '1'], ['세탁소에서 일반고객을 대상으로 세탁서비스제공', '3'], ['매장에서 인반고객을대상으로 반찬포장 판매', '0'], ['음식점에서 접객요원을 두고 술을 판매  ', '1'], ['학원에서 초등생들에게 영어독서논술', '5'], ['사무실에서 일반인대상으로 인력알선', '11'], ['홍삼가게에서 건강보조식품소매 홍삼,엑기스등', '0'], ['매장에서 접객시설을 갖추고 음료,케？판매', '1'], ['개인택시로 일반인을 대상으로 승객운송서비스', '4'], ['음식점에서 접객시설을 갖추고 꼬막정식', '1'], ['반도체 제조 조립  ', '2'], ['개인택시로 일반인을 대상으로 승객운송서비스', '4'], ['영업장에서 일반소비자에게 음식료품', '0'], ['부동산에서 일반인을상대로 부동산중개', '6'], ['교습소에서 학생에게 영어교육', '5'], [' 인터넷으로 인테리어소품가구도매', '0'], ['매장에서 일반고객에게 소매 일반가구.침대', '0'], ['사무실 소개수수료받고 고용 알선', '11'], ['미용실에서 고객을 대상으로 마파, 컷, 염색', '3'], ['영업장에서 일반소비자 대상 핸드폰 판매', '0'], ['부동산중개소에서 계약 및 중개등을 통해 수수료를 받음 부동산 중개거래서비스', '6'], ['사업장에서 일반사업장에 간장,고추장,각종소스등 유통', '0'], ['학원에서 학생들을 대상으로 교육 서비스 논술,토론', '5'], ['영업장에서 접객시설을 갖추고 짜장면 중화요리', '1'], ['주점에서 접객시설을 갖추고 일본술', '1'], ['음식점에서 접객시설갖추고 닭볶음탕 제공', '1'], ['미술학원에서 학생들에게 미술 그림 입시 서비스', '5'], ['부동산 고객들을 대상 부동산알선,중개', '6'], [' 도배 및 장판, 마루시공 ', '8'], ['펜션에서 일반인을 대상으로 숙박서비스제공', '1'], ['소주방에서 접객요원없이 소주방', '1'], ['상인회 사무실에서 풍물시장상인들대상 상가상인관리', '3'], ['커피숍에서 접객시설을 갖추고 커피', '1'], ['세무사사무실에서 의뢰를받아 세무상담,작성대리', '10'], ['사업장에서 일반고객을대상으로 네일관리', '3'], ['인쇄물 일반고객에게 출판,인쇄다듬기 서비스', '2'], ['미용실 서비스업 컷트및 파마', '3'], ['영업장에서 고객에게 객실서비스', '1'], ['음식점에서 접객시설을갖추고 회 덮밥등', '1'], ['약국에서 일반소비자대상 의약품', '0'], ['애견샵에서 고개의 애완동물을 대상으로 ㅇ애견미용서비스', '3'], ['사업장에서 고객의뢰를받아 무인주차관리시스템개발공급', '12'], ['매장 고객에게 마사지', '3'], ['카센터에서 자동차의 특정부분을 전문적으로 수리 경정비타이어 내장수리', '3'], ['개별화물자동차로 고객의 요청으로 화물운송서비스', '4'], ['주점에서 접객요원을 두고 맥주,양주등 판매', '1'], ['음식점 접객시설을 갖추고 아구찜', '1'], ['매장에서 다른소매업자에게도매 멸치,건어물', '0'], ['핸드폰가게에서 일반고객대상으로 핸드폰', '0'], ['당구장 고객대상 당구', '9'], ['용달화물자동차로 고객의 요청으로 화물운송서비스', '4'], ['영업장에서 계약체결에의하여 비거주용임대업', '6'], ['다방에서 접객시설을 갖추고 쌍화차 등', '1'], ['EPS 입고, 발포 ', '2'], ['매장에서 접객시설을 갖추고 돈까스판매', '1'], ['어린이집 미취학아동대상 영,유아보육서비스', '7'], [' 응용소프트웨어 개발 준비중 ', '12'], ['간이 음식점에서 일반인들을 대상으로 만두.찐빵등을 판매', '1'], ['미장원에서 고객대상 ？,파마', '3'], ['수련장에서 일반인을대상으로 체력단련서비스', '9'], ['매장에서 접객시설을갖추고 돈까스', '1'], ['마사지 샵에서 고객을 대상으로 마사지 서비스', '3'], ['식품점 소매상,식당에 도매 장류,케첩', '0'], ['매장에서 펜션 대상으로 주방용품 도매', '0'], ['사업장에서 일반인대상 밧데리도소매', '0'], ['교회 기독교계통종교활동 종교서비스', '3'], ['인쇄회로기판 적층판 인쇄회로기판', '2'], ['음식점에서 접객시설을갖추고 탕수육판매', '1'], ['인터넷으로 사무실 의류전자상거래', '0'], ['개별화물자동차로 고객의 요청으로 화물운송서비스', '4'], ['매장에서 일반소비자에게 여성겉옷소매', '0'], ['기획사에서 대중을 대상 공연기획', '9'], ['양로원에서 양로시설을 갖추고 노인양로서비스', '7'], ['음식점에서 접객시설을 갖추고 갈비,삼겹살', '1'], ['어린이집에서 보호자로부터  위탁받아 취학전 영유아보육', '7'], ['약국에서 일반인들 대상으로 소매 약조제', '0'], ['용달화물자동차로 고객의 요청으로 화물운송서비스', '4'], ['음식점에서 접객시설을 갖추고 쪽갈비', '1'], ['구두류 제조업  ', '2'], ['학원에서 초중학생대상 피아노교육', '5'], ['사업장에서 의뢰인에 의해 재정 관리 자문', '10'], ['오토바이 수리서비스 중고오토바이', '3'], ['요식업대상으로 주류 주류를 도매', '0'], ['교회 기독교계통종교활동 종교서비스', '3'], ['음식점에서 접객시설을 갖추고 황태찜요리', '1'], ['카센타에서 고객을 대상으로 자동차유리 설치시공', '3'], ['사무실에서 온라인으로 여성의류판매', '0'], ['주점에서 접객요원을 두고 맥주,양주판매', '1'], ['사업장에서 고객의요청에 오토바이수리', '3'], ['커피숍에서 접객시설갖추고 커피제공', '1'], ['개별화물자동차로 고객의 요청으로 화물운송서비스', '4'], ['사업장에서 처리활동 이외의 수집운반활동 사업장 지정폐기물', '15'], ['매장에서 일반소비자대상 퀼트 수강', '5'], ['용달화물자동차로 고객의 요청으로 화물운송서비스', '4'], ['괘삭강 절삭가공 모니터부품.흰지부품', '2'], ['편의점 일반소비자대상 식료품편의제공', '0'], ['매장에서 일반대상 청바지', '0'], ['가게에서 손님들에게 음료수 과자등 소매', '0'], ['고객사업장 고객요구에 따라 정보통신공사', '8'], ['사업장에서 사업체을 대상으로 공장임대', '6'], ['사무실에서 일반고객을 대상으로 보험설계서비스', '13'], ['개인택시로 일반인을 대상으로 승객운송서비스', '4'], ['용달화물자동차로 고객의 요청으로 화물운송서비스', '4'], ['사업장에서 일반소비자에게 민물메기,장어', '0'], ['세탁소에서 고객을 상대로 세탁다림질', '3'], ['용달화물자동차로 고객의 요청으로 화물운송서비스', '4'], ['음식점에서 접객시설을 갖추고 추어탕 추어탕', '1'], ['골프연습장에서 골프연습장 시설을 제공 골프연습장시설', '9'], ['사업장에서 일반인을 대상으로 세탁서비스', '3'], ['음식점에서 접객시설을갖추고 칼국수판매', '1'], ['생두 개？.투입,볶음 볶은 커피 생산', '2'], ['사업장에서 일반인을 대상으로 골프용품 온라인판매', '0'], ['매장에서 산업사용자에게 소금', '0'], ['도장에서 학생일반인대상 태권도교육', '5'], ['사업장에서 중개를통하여 휴대품부품글라스무역', '0'], ['미용실 두발서비스 파마,염색 서비스', '3'], ['미용실 서비스업 펌염색', '3'], [' 정육점 ', '0'], ['주점에서 접객시설을 갖추고 소주, 맥주 등 판매', '1'], ['건설현장에서 철거 경미한공사', '8'], ['매장에서 고객들에게 커피판매', '1'], ['매장에서 소비자에게 커피', '1'], ['미장원에서 고객을 대상으로 커트, 파마, 염색', '3'], ['태권도장에서 학생들을대상으로 태권도교육', '5'], ['음식점에서 접객시설을 갖추고 치킨', '1'], ['미용업 서비스 컷트.파마', '3'], ['가스 고객의요구에따라 가정용가스배달서비스', '0'], ['개별화물자동차로 고객의 요청으로 화물운송서비스', '4'], ['음식점에서 접객시설을갖추고 아구찜', '1'], ['주점에서 접객요원및 무도시설없이 소주, 곱창', '1'], ['핸드폰 소매업 일반소비자에게 핸드폰판매', '0'], ['음식점에서 접객시설을 갖추고 제육 비빔밥 판매', '1'], ['개인택시로 일반인을 대상으로 승객운송서비스', '4'], ['실내운전연습실에서 연습기기를 설치하여 실내운전연습 서비스', '9'], ['  배구동호회', '3'], ['개인택시로 일반인을 대상으로 승객운송서비스', '4'], ['카인테리어에서 일반인대상 자동차시트 수리업', '3'], ['사업장에서 두발 미용서비스 파마, 염색', '3'], ['사업장에서 고객요청에따라 전기식간판', '2'], ['사업장에서 제조 자동화설비 기기', '2'], ['영업장에서 일반인을 대상으로 주류', '1'], ['시장내 매장에서 일반고객에게 닭 오리 판매', '0'], ['사업장에서 고객을 대상으로 화장품', '0'], ['고객요구에 사업시설에서 주차관리', '11'], ['매장에서 일반소비자에게 여성복 치마 바지', '0'], ['매장에서 일반인대상 각종그릇소매', '0'], ['바에서 접객요원및무도시설없이 맥주,양주,소주', '1'], ['사업장에서 원단으로 여성의류 제조', '2'], ['편의점에서 체인계약을 해서 식료품 위주', '0'], ['편의점에서 체인계약을 체결하여 음료,식료', '0'], ['법무법인에서 의뢰인을 대리하여 공증업무 수행서비스제공', '10'], ['금속 절삭가공 금형부품', '2'], ['매장에서 고객대상으로 숙녀복판매', '0'], ['의뢰받은 건물에 고객의 요구에 따라 페인트공사', '8'], ['운동교육  ', '9'], ['학교교과교습학원 학생에게 교과학습', '5'], ['화장품매장에서 일반소비자에게 스킨 로션및 화장품', '0'], ['개인택시로 일반인을 대상으로 승객운송서비스', '4'], ['커피숍에서 접객시설을갖추고 원두커피제공', '1'], ['영업장에서 일반소비자에게 주류안주판매', '1'], ['개별화물자동차로 고객의 요청으로 화물운송서비스', '4'], ['부동산업 일반인 대상으로 부동산컨설팅(부동산중개업 제외)', '6'], ['가게에서 일반고객대상 아동신발 소매', '0'], ['치과기공소  ', '2'], ['소매업 일반인대상 수산물', '0'], ['매장에서 일반인을 대상으로 숙녀복판매', '0'], ['트램폴린을 이용한 체중 감량 운동  ', '9'], ['체인화 편의점 소매업 식료품,담배및 각종상품판매', '0'], ['음식점에서 접객시설을갖추고 계삼탕판매', '1'], ['소비자를 대상으로 매장에서 홍삼 혼합엑기스 판매', '0'], ['영업장에서 고객을 대상으로 정수기, 청정기, 비데 렌탈', '11'], ['5t미만 화물차 고객들의 의뢰를 받아 이삿짐운반', '4'], ['화원 화초및산식물을 난.및꽃소매', '0'], ['전파사에서 A/S및 전자제품 판매 전자제품A/S', '0'], ['떡을 제조하여 판매.  ', '2'], ['가게에서 고객 요청에 의해 의류 및 가방 수선', '3'], ['음식점에서 접객시설 갖추고 치킨', '1'], ['사업장에서 도소매 고객에게 중기부품,건설용기계', '0'], ['필건축에서 고객의요청에의해 도배.실내장식및내장공사', '8'], ['교회에서 신도들을대상으로 종교활동', '3'], [' 닭곰탕 전문점 ', '1'], ['보일러 설치(냉.난방)  ', '8'], ['에어컨 고객이지정한장소에 설치', '8'], ['공예체험 재료구입하여 반지만들기', '0'], ['음식점 에서 접객시설을 갖추고 치킨', '1'], ['매장에서 접객요원 및 무도시설없이 소주, 맥주 판매', '1'], ['사업장에서 고객의요청에의해 명함,스티커광고물작성', '10'], ['고객의 사업장에서 고객의 요구에 따라 전기공사업.신호등공사', '8'], ['보건업 외래진료 일반의원 피부과', '7'], ['한의원에서 외래환자 위주로 한방진료', '7'], ['미용실에서 일반고객대상 커트파마', '3'], ['고무를 압출,성형하여 고무패킹제조', '2'], ['펜션에서 일반인 대상으로 숙박서비스', '1'], ['영업장에서 일반인 대상으로 타로카드점', '3'], ['영업장에서 요가 시설과 환경을 갖추고 요가 서비스', '5'], ['음식점에서 접객시설을 갖추고 연어', '1'], ['영업장에서 의뢰를 받아 광고 대행', '10'], ['용달화물자동차로 고객의 요청으로 화물운송서비스', '4'], ['이벤트회사 고객요구에의하여 오픈기념행사등대행', '11'], ['공장에서 일반소비자를 대상으로 씽크대, 목재가구제조', '2'], ['가판대에서 일반고객대상 북어채 오징어채', '0'], ['일반음식점  ', '1'], ['영업장에서 고객의 요청으로 세탁물서비스', '3'], ['요양시설에서 숙식,치료 노인요양복지시설운영', '7'], ['사업장에서 고객요청에따라 밥솥가정용기기a/s', '3'], ['용달화물자동차로 고객의 요청으로 화물운송서비스', '4'], ['분식점에서 접객시설을 갖추고 김밥,떡볶이등 제공', '1'], ['가게에서 일반소비자에게 소매업 여성셔츠,치마', '0'], ['스치로폼, 종이 절단 포장박스제조', '2'], ['사업장에서 수입을통하여 육가공,정육도매', '0'], ['기공소에서 주문에의해 보철제작', '2'], ['사무실에서 컴퓨터를 가지고 선실설계', '10'], ['슈퍼마켓 소매업 생필품 판매', '0'], ['청과 중매업으로 입찰보아 청과물판매', '0'], ['건강원에서 배와호박등을이용해 배즙,호박즙만듬', '2'], ['개인택시로 일반인을 대상으로 승객운송서비스', '4'], ['여호와의 증인 교회 종교활동 종교서비스', '3'], ['영업점 고객에게 부동산중개', '6'], ['카페에서 방문고개 대상으로 커피 음료 제공', '1'], ['소아과에서 외래환자 위주로 소아과진료서비스', '7'], ['레스토랑에서 접객시설을 갖추고 돈가스 제공', '1'], ['매장에서 고객대상으로 여성의류판매', '0'], ['학원에서 학생들에게 교육서비스 제공 전과목 교육', '5'], ['영업장 고객의 요청으로 시스템에어컨설치및수리', '8'], ['방앗간에서 즉석제조시설을 갖추고 떡 제조 및 판매', '2'], [' 속눈섭연장 ', '3'], ['사업장에서 개발및 공급 시스템소프트웨어', '12'], ['사업장에서 각종 등 제조 백열등,형광등', '2'], ['의원에서 외래환자위주로 진료서비스', '7'], ['음식점에서 접객시설을갖추고 돼지불고기, 삼겹살구이, 목살구이 판매', '1'], ['휴게소엥서 일반이대상으로 한식제공', '1'], ['음식점에서 접객시설을 갖추고 삼겹살', '1'], ['학원에서 학생을대상으로 교육', '5'], ['사업장에서 고객의 의뢰를 받아 게임소프트 웨어 개발', '12'], ['매장에서 일반고객대상으로 피부 마사지', '3'], ['사무실에서 핸디페인팅 협회사무실', '3'], ['영업장에서 산업소비자에게 중장미,특수장비부품도매', '0'], ['개별화물자동차로 고객의 요청으로 화물운송서비스', '4'], ['매장에서 일반소비자를 대상으로 소매 여성티셔츠', '0'], ['술집에서 접객시설을 갖추고 주류제공', '1'], ['철판,철 구입,절단,절곡 철케이스', '2'], ['개인택시로 일반인을 대상으로 승객운송서비스', '4'], ['용달화물자동차로 고객의 요청으로 화물운송서비스', '4'], ['접객시설을 갖추고 일반인을 대상으로 커피판매', '1'], [' 중고 자동차용품판매및장착 ', '0'], ['영업장에서 접객시설을 갖추고 낙지요리제공', '1'], ['합판, 가공목재 원재료입고, 재단 ', '2'], ['감정평가사무소 부동산감정평가 업무 토지및건물평가', '6'], ['건축설계 및 관련 서비스업  ', '10'], ['매장에서 고객애견상대로 애견미용서비스', '3'], ['영업장소에서 접객시설을갗주고 치킨 및 맥주제공', '1'], ['용달화물자동차로 고객의 요청으로 화물운송서비스', '4'], ['식자재유통  ', '0'], ['유원지에서 일반인을 대상으로 방가로 대여', '1'], ['화원에서 일반소비자에게 꽃 화분소매', '0'], ['사업장에서 고객의요구에따라 수산물도매', '0'], ['매장에서 일반소비자 대상 여성의류', '0'], ['학원에서 초,중등학생을 대상으로 영어교육 서비스', '5'], ['전자상거래업  ', '0'], ['개인택시로 일반인을 대상으로 승객운송서비스', '4'], ['트럭으로 고객의뢰 건설장비운영', '4'], ['매장에서 고객에게 피자배달', '1'], ['비철, 모터 발주, 설계.설비Test FFU', '2'], ['분식  떡뽁이', '1'], ['사무실에서 주문을 받아 기타 발전 서비스', '17'], ['매장에서 고객을 상대로 한식음식', '1'], ['상업장에서 고객의뢰에따라 셔터 공사업', '8'], ['매장면적이 165㎡미만인 상회에서 일반소비자들에게 식품,잡화', '0'], ['학원에서 학생에게 수학', '5'], ['주거용건물을 가지고 입주주민들을 대상으로 주거용건물 임대', '6'], ['학원에서 중,고생대상으로 어학보습', '5'], ['용달화물자동차로 고객의 요청으로 화물운송서비스', '4'], ['부동산에서 고객의 의뢰를 받아 부동산중개', '6'], ['매장에 일반소비자에게 수산물 소매', '0'], ['매장에서 수족관시설을갖추고소매 관상어, 물고기', '0'], ['PC방에서 시설을 갖추고 PC방 운영', '9'], [\"매장에서 일반소비자를 대상으로' 남성복 판매\", '0'], ['사업장에서 산업사용자대상으로 냉동사료 도매', '0'], ['주점에서 접객요원을 두고 양주,맥주 등을 판매', '1'], ['모텔에서 일반인에게 숙박서비스제공', '1'], ['미용실에서 고객을대상으로 커트,파마,염색', '3'], ['화물중개및대리외  ', '4'], ['일반인을 대상으로 영업장에서 타이아로마마사지', '3'], ['주점에서 접객요원 및 무도요원없이 소주, 맥주', '1'], ['개별화물자동차로 고객의 요청으로 화물운송서비스', '4'], ['고객요청에 따라 사무실에서 홈페이지 제작,관리 컴퓨터 프로그래밍', '12'], ['음식점에서 접객시설을 갖추고 김치찌개', '1'], ['미용실에서 고객을 대상으로 컷트, 파마', '3'], ['사업장에서 고객에의뢰를 받아 기계설계.제작', '10'], ['편의점에서 체인계약을 체결하여 식료품 소매', '0'], ['분식점에서 접객시설 갖추고 김밥 라면', '1'], ['식당에서  한식', '1'], ['재래시장에서 일반소비자에게소매 김,미역,북어', '0'], ['현장에서 고객의 요구에 따라 태양광발전 설비 설치공사', '8'], ['사업장에서 일반인대상 한복대여', '11'], ['점포에서 소비자에게 알루미늄샷시설치공사', '8'], ['사업장에서 의뢰를 받아 캐릭터 개발 및 디자인 서비스', '10'], ['사업장에서 산업사용자에게 네일 스티커 판매', '0'], ['사업장에서 고객대상 화물운송', '4'], ['황동율 조립 EYELET(프레스)', '2'], ['일반소비자에게 사업장에서 조기,고등어 판매', '0'], ['사업장에서 일반대중을 대상으로 증권 중개업', '13'], ['보험대리점에서 일반대중을대상 보험대리및중개', '13'], ['아파트관리 사무소에서 아파트 입주자를 위하여 주거용 아파트 관리서비스', '6'], ['호프매장 일반인 호프,안주 제공', '1'], ['파출소 공공질서 행정 치안서비스', '14'], ['어린이집에서 취학전아동을 상대로 취학전유아교육', '7'], ['개인택시로 일반인을 대상으로 승객운송서비스', '4'], ['점포에서 일반소비자에게 페인트 소매', '0'], ['미용관련용품  ', '0'], ['경영컨설팅, 금융컨설팅  ', '10'], ['가전제품을 일반인대상으로소매 가스렌지.누전경보기', '0'], ['노래방에서 시설을갖추고 노래방운영', '9'], ['문구점에서 일반인에게 문구용품 및 회화용품 소매', '0'], ['매장에서 일반소비자대상 신발', '0'], ['165㎡～3,000㎡매장을가지고 일반소비자를 대상으로 음료.과자. 잠화 소매', '0'], ['매장에서 접객시설을 갖추고 치킨 판매', '1'], ['민박에서 일반인을 대상으로 숙박서비스 제공', '1'], ['사상구청 건물에서 상업용 내부 건물청소 구내 청소 대행', '11'], ['사업장에서 다른 소매업자에게 각종 채소 판매', '0'], ['용달화물자동차로 고객의 요청으로 화물운송서비스', '4'], ['죽집에서 접객시설을 갖추고 각종죽', '1'], ['용달화물자동차로 고객의 요청으로 화물운송서비스', '4'], ['매장에서 일반인대상 아동복', '0'], ['안경점에서 일반소비자에게 소매 안경', '0'], ['노상주차장에서 민원인에게 주차서비스', '4'], ['영업장 접객시설 닭요리', '1'], [' 매운탕을 전문으로 제공(메기매운탕,어죽등) ', '1'], ['매장에서 소매 제기,상', '0'], ['협회ㅇ에서 각종학술대회 학회개최', '3'], ['매장에서 일반고객대상 등산용품', '0'], ['음식점에서 접객시설을 갖추고 닭갈비,막국수 제공', '1'], ['블라인드를 제작하여 도.소매', '2'], ['일반 건축물 대상으로 건물에서 청소 서비스 제공', '11'], ['피부관리실 손이나 기구를 이용하여 두피관리.피부트러블', '3'], ['네일샵에서 일반인 대상 손톱미용서비스', '3'], ['한식(쭈꾸미 음식점) 일반인대상을로 쭈꾸미요리제공', '1'], ['용달화물자동차로 고객의 요청으로 화물운송서비스', '4'], ['노래방에서 노래방기기를설치하고 노래방운영', '9'], ['음식점에서 접객시설을 갖추고 한식뷔페', '1'], ['음식점에서 접객시설없이 떡볶이,튀김류', '1'], ['사업장에서 음식점을 대상으로 돈육,우육 도매', '0'], ['카페에서 접객시설을 갖추고 원두커피 음료등', '1'], ['매장에서 일반소비자대상 광고 간판 제조', '2'], ['각종 섬유 섬유 날염 날염 가공', '2'], ['개인택시로 일반인을 대상으로 승객운송서비스', '4'], ['일반소비를 대상으로 맛사지 서비스 마사지서비스제공', '3'], ['수선할 의류를 재봉시설을 갖추고 의류수선', '3'], ['이벤트회사 고객의 요구에 의하여 문화활동기획', '11'], ['일반소비자에게 소매 가게에서 금,은,보석,시계', '0'], ['커피숍에서 접객시설을 갖추고 커피,음료', '1'], ['학원에서 학생및일반인 대상 검도 교육', '5'], ['음식점업 접객시설을 갖추고 돼지국밥', '1'], ['개인택시로 일반인을 대상으로 승객운송서비스', '4'], ['우체국 고객 대상으로 우편물 배송 자금여수신', '12'], ['석유류  ', '0'], [' 접객시설 갖추고 갈비구이판매 ', '1'], ['1급정비공장에서 일반인을 대상으로 자동차 수리서비스', '3'], ['매장에서 일반인 대상으로 여성복', '0'], ['쌀등으로 기계를 이용하여 인절미, 백설기등', '2'], ['인력사무소 구직자를대리하여 인력알선', '11'], ['사업장에서 일반인을 대상으로 유아옷.장신구 판매', '0'], ['용달화물자동차로 고객의 요청으로 화물운송서비스', '4'], ['사업장에서 소매업자에게 페인트 도매업', '0'], ['영업장에서 소매업자에게 문구.사무기기 도매', '0'], ['미술교육 방문하여 미술방문 수업', '5'], ['개인택시로 일반인을 대상으로 승객운송서비스', '4'], ['보습학원에서 학생들에게 수학.영어 강습', '5'], ['사업장에서 일반고객대상으로 속눈썹연장', '3'], ['사찰에서 불교계통의 종교활동서비스', '3'], ['음식점에서 접객시설을갖추고 감자탕판매', '1'], ['아파트관리소에서 현대맨션을 아파트 관리', '6'], ['영업장에서 고객을 대상으로 피부 관리', '3'], ['부동산에서 고객 의뢰를 받아 부동산 중개', '6'], ['학원에서 학생에게 영어교육', '5'], ['개인택시로 일반인을 대상으로 승객운송서비스', '4'], ['개별화물자동차로 고객의 요청으로 화물운송서비스', '4'], ['치과에서 외래환자 위주로 치아치료', '7'], ['네일숍에서 고객을 대상으로 네일아트', '3'], ['일반교과학원 학원생에게 상급학교 진학 및 보습 교육 초 중 입시학원', '5'], ['매장에서 소매 바디제품.화장품', '0'], ['영업장에서 소매업자에게 장난감수입 도매', '0'], ['개별화물자동차로 고객의 요청으로 화물운송서비스', '4'], ['도매  전자부품', '0'], ['사무실에서 고객에게 대부업', '13'], ['용달화물자동차로 고객의 요청으로 화물운송서비스', '4'], ['도배,장판을 가지고 일반인을 대상으로 도배장판판매및시공', '8'], ['개인택시로 일반인을 대상으로 승객운송서비스', '4'], ['병원에서 외래환자 위주 치과 진료', '7'], ['사업장에서 주문에의해 마그넷자석판', '2'], ['개인택시로 일반인을 대상으로 승객운송서비스', '4'], ['사업장에서 소매업자에게 김치도매', '0'], ['학원에서 학생에 영어교육', '5'], ['세탁소에서 일반인 대상으로 세탁서비스', '3'], ['음식점에서 접객시설갖추고 꼼장어구이', '1'], ['초등학교에서 초등교육과정 교육서비스', '5'], ['알루미늄 도금가공하여 목걸이,귀걸이', '2'], ['부동산중개업 부동산업 ', '6'], ['편의점에서 일반고객을 대상으로 식료품, 담배소매', '0'], [' 철로 된 배관 파이프,공구등 판매 ', '0'], ['고물상에서 고철수집 재생업체에 도매', '0'], ['음식점에서 음식을 조리하여 배달(한식)', '1'], ['상가에서 일반옵셋 전단지', '2'], ['학원에서 학생대상 수학교습', '5'], ['당구장에서 시설갖추고 당구서비스', '9'], ['경강선 소재입고, 코일링 ', '2'], ['사업장에서 접객시설갖추고 쥬스제공', '1'], ['영업점에서 일반소비자나회사에도매 예치기,건설기계,전동공구', '0'], ['철판 절삭,용접 지그', '2'], ['시스템 통합을 위하여 사무실에서 컴퓨터 시스템 구축설계', '12'], ['노래연습장에서 고객들의요청으로 노래연습장제공', '9'], ['주점에서 일반인 대상 소주,맥주 판매', '1'], ['영업장에서 소매업자에게 대게도매', '0'], ['노래방에서 일반인 대상으로 노래방 서비스', '9'], ['개인택시로 일반인을 대상으로 승객운송서비스', '4'], ['주유소에서 소매 휘발유,경유 등유,', '0'], ['사업장에서 사업체의뢰받아 세무기장대리', '10'], ['농약상회에서 농민을 대상으로 농약.비료 판매', '0'], ['매장에서 일반소비자에게 소매 여성화,여성샌달', '0'], ['철 절단.절삭 주방용품', '2'], ['사업장에서 고개을 대상으로 여성의류판매', '0'], ['사업장에서 인터넷통해주문받아 쇼파', '0'], ['음식점에서 접객시설을갖추고 짬뽕', '1'], ['165㎡ 미만의시설 일반소비자에게 소매 음. 식료품 위주', '0'], ['음식점에서 접객시설갖추고 국밥,한식', '1'], ['세계주류 접객시설 맥주', '1'], ['미용실 여성두발 컷,염색', '3'], ['사업장에서 소매업자를대상으로 청소용품도매', '0'], ['음식점에서 접객시설을 갖추고 중화요리 제공', '1'], ['부동산에서 일반인 대상으로 부동산 중개', '6'], [' 무역중개업 ', '0'], ['음식점에서 접객시설을갖추고 냉면', '1'], ['건설 운전자 없이 가설재', '11'], ['영업장에서 일반소비자를 대상으로로 커텐소매', '0'], ['미용실에서 두발미용 커트,파마', '3'], ['음식점 간이음식조리하여제공 김밥,만두,떡볶이', '1'], ['농장에서 생산판매 생닭, 계란', '0'], ['화랑 일반인 그림전시판매', '0'], ['매장에서 일반고객을 대상으로 핸드폰소매', '0'], ['소방자재 소방설치 소방공사업', '8'], ['반도체 부품 산업사용자에게 구매대행', '0'], ['개별화물자동차로 고객의 요청으로 화물운송서비스', '4'], ['공장에서 무,배추등에 양념을혼합하여 배추김치등', '2'], ['사무실에서 거래처 대상으로 장갑,안전모,안전화,안전용품', '0'], ['사무실에서 구직자대리하여 취업알선후수수료받음', '11'], ['원석을 가지고 절삭 연마 비석.조각상', '2'], ['미용실에서 고객대상 커트,파마', '3'], ['사업장에서 고객대상 학습공간 대여', '9'], ['미용실에서 일반인 대상으로 파마,염색 등', '3'], ['사업장에서 일반소비자에게 항균기 방문판매', '0'], ['학생들에게 학원에서 영어', '5'], ['개인택시로 일반인을 대상으로 승객운송서비스', '4'], ['스틸 고객주문에의해 기계선반(금속절삭가공기계)', '2'], ['쇠 기계로 깍아서 자동차 부품', '2'], ['사업장에서 중개수수료를 받고 부동산중개서비스', '6'], ['매장에서 접객시설을 갖추고 편의점', '0'], ['용달화물자동차로 고객의 요청으로 화물운송서비스', '4'], ['개인택시로 일반인을 대상으로 승객운송서비스', '4'], ['의원에서 외래및 입원환자 위주로 진료서비스', '7'], ['용달화물자동차로 고객의 요청으로 화물운송서비스', '4'], ['식당에서 접객시설갖추고 한식제공', '1'], ['약국에서 일반인대상으로 외래환자의처방으로 약 조제및판매', '0'], ['음식점에서 접객시설을갖추고 삼겹살,찌개류판매', '1'], ['목재를 활용 고객의 주문에 의해 야외방부목 공사', '8'], ['매장에서 일반인대상 블랙박스', '0'], ['음식점 접객시설을 갖추고 보신탕·삼계탕등 판매', '1'], ['매장에서 고객에게 아이스크림 판매', '1'], ['음식점에서 접객시설을갖추고 일본식이아닌한국식회를판매', '1'], ['이용원에서 고객을대상으로 이발 염색등', '3'], ['사업장에서 주문의뢰받은 금속물질 용접기공', '2'], ['매장에서 소비자에게 소고기,돼지고기 육류판매', '0'], ['사업장에서 고용주와구직자를소개하여 수수료받음 인력알선', '11'], ['음식점에서 접객시설을 갖추고 중식', '1'], ['미장원에서 두발미용서비스 파마.염색', '3'], ['안경점에서 일반소비자에게 안경 및 렌즈 소매', '0'], ['부동산중개사무소에서 계약에의거 부동산중개서비스', '6'], ['일반의원에서 외래환자 위주로 내과진료서비스', '7'], ['매장에서 소매 소보루', '0'], ['농장에서 송아지번식을위한 사양관리,질병관리', '16'], ['음식점에서 접객시설을갖추고 김밥', '1'], ['개별화물자동차로 고객의 요청으로 화물운송서비스', '4'], ['속옷대리점 일반인에게 속옷판매', '0'], ['미장원에서 두발서비스 커트 파마 염색', '3'], ['매장에서 고객대상으로 캐주얼의류', '0'], ['김치찌개,된장찌개  ', '1'], ['독서실에서 학생및일반인에게 독서실운영', '9'], ['커피숍에서 접객시설을 갖추고 원두커피 제공', '1'], ['일반인을대상으로 사무실에서 신용조사 서비스', '11'], ['음식점에서 접객시설을 갖추고 꼬치구이', '1'], ['활어수산물을 일반소비자에게 소매 잡어 광어 등 판매', '0'], ['조경건설업체에서 고객의 요청에 의해 조경시설물 설치', '8'], ['커피전문점에서 접객시설을 갖추고 커피 판매', '1'], ['사업장에서 도매 만두', '0'], ['편의점 소매 음식료품위주', '0'], ['의류매장에서 일반소비자를 대상으로 여성의류 판매', '0'], ['학원에서 공무원 수험생 대상으로 체력단련 교육', '5'], ['그린진주에서 소매업자 대상 육류.훈제식품', '0'], ['사무실 기업체를대상으로시스템기술적통합작업 시스템통합', '12'], ['교복사 학생들의 교복 소매 교복', '0'], ['사업장에서 산업사용자에게 냉동,냉장기기 도매', '0'], ['피부샵에서 일반인대상으로 속눈썹연장 왁싱', '3'], ['매장에서 일반대중에게 골프옷소매', '0'], ['병원에서 일반인대상 진료', '7'], ['금속 가공후조립 압력숱부품', '2'], ['사업장에서 일반소비자 대상 철물재료소매', '0'], ['음식점에서 접객시설을 갖추고 김치,된장찌개 제공', '1'], ['매장에서 일반고객을대상으로 마사지', '3'], ['인조석제품 가공하여 인조석제조', '2'], ['한의원 외래환자위주로 침.뜸.한약제조', '7'], ['영어교습소 교육서비스업 영어학습', '5'], ['개인택시로 일반인을 대상으로 승객운송서비스', '4'], ['철판 절단가공 조립 산업용 보일러 부품 제조', '2'], ['노래방에서 시설을 갖추고 노래방운영서비스', '9'], ['부동산에서 계약,중개수수료를 받고 부동산중개', '6'], ['음식점에서 조리접객시설을 갖추고 된장찌개,김치찌개', '1'], ['부동산중개소에서 계약에 의거 부동산중개 부동산중개서비스', '6'], ['매장에서 소매업 통신기기', '0'], ['용달화물자동차로 고객의 요청으로 화물운송서비스', '4'], ['개별화물자동차로 고객의 요청으로 화물운송서비스', '4'], ['현장에서 고객요청에따라 수도배괸설비', '8'], ['영업장에서 고객의사업시설유지및관리 유지.관리', '11'], ['학원에서 학생들의 수학 교육 서비스 제공 수학', '5'], ['PCB, IC,MMIIC,TR,RLC 조립후 TEST RF무선통신모듈(중계기)', '2'], ['부동산중개소에서 계약에의거하여 부동산중개서비스', '6'], ['미용실에서 일반고객대상으로 컷 파마 염색', '3'], ['코코 상가에서 다른 소매업자에게 대량으로 도매 안경. 렌즈', '0'], ['주광 주철 보링 CNC가공 선박엔진부품', '2'], ['미술교습  ', '5'], ['고객에게 농업용지를 농지매매', '6'], ['폴리원사를 와인딩하여(임가공) 가연사', '2'], ['교회에서 기독교계통종교활동 종교서비스', '3'], ['당구장에서 당구시설을갖추고 당구장운영', '9'], ['고객을 대상으로 미용실에서 커트, 파마, 염색', '3'], ['매장 전자부품 도매', '0'], ['개별화물자동차로 고객의 요청으로 화물운송서비스', '4'], ['통신기기 소매업  ', '0'], ['일반화물자동차로 고객의 요청으로 화물운송서비스', '4'], ['피자 주문배달을 통해 피자 제공', '1'], ['매장에서 일반소비자대상소매 아동복', '0'], ['현장에서 고객 요청에 의해 전기배선공사', '8'], ['가게에서 학생,일반인대상으로 고구마튀김등 튀김판매', '1'], ['매점에서 고객대상 러시아빵', '1'], ['한식당에서 접객시설을 갖추고 가자미.된짱찌개 판매', '1'], ['기타주점에서 접객시설을갖추고 맥주,소주', '1'], ['사업장에서 주로 군부대에 면장갑을 도매', '0'], ['매장에서 고객요청으로 생활잡화', '0'], ['사업장에서 매장면적165제곱미터미만의시설을갖추고 음식료품 판매', '0'], ['용달화물자동차로 고객의 요청으로 화물운송서비스', '4'], ['PCB,로드셀 조립하여 전자저울을 제조', '2'], ['음식점에서 접객시설을갖추고 칼국수', '1'], ['목재 절단및접합조립하여 인테리어진열장', '2'], ['안과에서 외래환자위주로 안과진료서비스', '7'], ['산업사용자에게 한약방에서 한약재료도매', '0'], ['개인택시로 일반인을 대상으로 승객운송서비스', '4'], ['일반의원에서 외래환자위주 내과 진료서비스', '7'], ['고객대상 사업장에서 부동산중개업', '6'], ['개별화물자동차로 고객의 요청으로 화물운송서비스', '4'], ['사무실에서 일반인을 대상으로 국외 여행알선', '11'], ['종이 잉크 옵셋 카다로그', '2'], ['영업장에서 산업사용자에게 철물 금속도매업', '8'], ['사업장에서 산업사용자에게 시멘트 도매', '0'], ['태권도장에서 학생들을 대상으로 체력단련서비스', '5'], ['매장에서 스크린골프 영업', '9'], ['관광안내및유적지관리 유물전시관 관광서비스', '9'], ['약국 일반 소비자에 소매 각종의약품', '0'], ['사업장에서 기독교 활동 종교서비스', '3'], ['육류 소매업 도매 및 소매업 ', '0'], ['일반소비자들에게 매장 열쇠 도장', '0'], ['음식점에서 접객시설을 갖추고 한식제공', '1'], ['용달화물자동차로 고객의 요청으로 화물운송서비스', '4'], ['식육,정육  ', '0'], ['개인택시로 일반인을 대상으로 승객운송서비스', '4'], ['영어학원에서 학생들을대상으로 영어', '5'], ['농촌현장에서 농민들에게 농사지도서비스', '14'], ['사업장에서 운송업자와화주간에 운송주선 화물운송중개업', '4'], ['음료점에서 접객시설갖추고 커피 상화차', '1'], ['수상스키장에서 수상스키 모터보트를 이용하여 수상오락서비스', '9'], ['팬션에서 숙박시설을 갖추고 숙박서비스제공', '1'], ['철 금형 금형부품가공', '2'], ['사업장에서 세척,분할,가공포장하여 돼지고기(생고기,내장)', '2'], ['미용실에서 일반인대상으로 머리자르기.염색등', '3'], ['가게에서 봉제공장을대상으로 미싱수리', '3'], ['건물내 고객의 요청에 의해 실내 인테리어 공사', '8'], ['용달화물자동차로 고객의 요청으로 화물운송서비스', '4'], ['영업장에서 고객에게 제과.제빵 판매', '1'], ['영업장에서 소매 화장품 및 방향제 소매업', '0'], ['매장에서 일반소비자에게 차량네비게이션,블랙박스AS서비스', '3'], ['학원에서 교육생을 대상으로 미용강의', '5'], ['낙농품을 다른소매업자에게 도매 우유', '0'], ['매점에서 일반소비자에게 소매 음식료품', '0'], ['영업장에서 고객을 대상으로 노래연습장제공', '9'], ['음식점, 주점에 대리점에서 소주,맥주', '0'], ['고객의 건물에서 고객의요구에따라 보일러 설치', '8'], ['학원에서 학생대상 영어교습', '5'], ['사업장에서 비철, 고철, 파지 등을 수집하여 고철, 비철, 파지 수집', '0'], ['개인택시로 일반인을 대상으로 승객운송서비스', '4'], ['장식용 실크 조화 제조업  ', '2'], ['돗서실에서 학생및일반인에게 독서실운영', '9'], ['일반의원 외래환자 위주로 내과진료 서비스', '7'], ['용달화물자동차로 고객의 요청으로 화물운송서비스', '4'], ['사업장에서 일반소비자대상 자동차전기.전자부품도매', '0'], ['영업장 일반소비자 미술교재판매', '0'], ['한약재료. 과일 추출기를 통해 중탕하여 한약엑기스. 과일엑기스', '2'], ['철사를가지고 절단,절곡하여 옷걸이제조', '2'], ['사업자에서 산업사용자에게도매 전동기,발전기', '0'], ['사업장에서 일반인에게 납골당분양 및 관리', '3'], ['영업장에서 접객시설을 갖추고 아이스크림 판매', '1'], ['고물상에서 폐품을 수집하여 고철 ,폐지,공병 도매', '0'], ['병원에서 30명이상 입원시설을 갖추고 환자진료', '7'], ['사업장에서 소매업자들에게 돼지고기,소고기,육류판매', '0'], ['보험대리점 일반대중 및 기업대상 보험계약체결을 대리 또는 중개, 알선', '13'], ['부동산에서 부동산계약 부동산중개서비스', '6'], ['조명기기  ', '0'], ['전자  ', '2'], ['이발소 두발서비스제공 머리자르기.염색등', '3'], ['산업사용자대상으로 사업장에서 묘목', '0'], ['가공된 유제품을 도매 우유. 유제품', '0'], ['사업장에서 일반고객을 대상으로 위생도기 타일 소매', '0'], ['모텔에서 숙박시설을 갖추고 숙박서비스', '1'], ['사업장에서 산업사용자에게 닭 도매', '0'], ['소사장제  ', '2'], ['사업장에서 일반인대상 파마 컷트', '3'], ['개별화물자동차로 고객의 요청으로 화물운송서비스', '4'], ['음식점에서 접객시설을 갖추고 중국음식 제공', '1'], ['개별화물자동차로 고객의 요청으로 화물운송서비스', '4'], ['미장원 두발미용서비스제공 머리자르기,염색등', '3'], ['음식점에서 접객시설을 갖추고 만두요리전문점 운영함', '1'], ['치과에서 외래환자위주로 치과진료', '7'], ['사업장에서 사업체를 대상으로 판매 접착제,젤라틴)', '0'], ['한복 일반인을 대상으로 한복대여', '11'], ['매장에서 일반소비자에게 복권판매', '9'], ['일반화물자동차로 고객의 요청으로 화물운송서비스', '4'], ['사업장 개발 공급 응용소프트웨어', '12'], ['부동산에서 계약에 의해 부동산자문중개', '6'], ['사업장에서 소매업자 대상 생수도매', '0'], ['비철,스텐 절단,사상,용접,조립 스팀소스교방기(금속주방용기)', '2'], ['카센타에서 자동차의 특정부분만을 전문적으로 수리 경정비,타이어수리제공', '3'], ['음식점에서 접객시설갖추고 일본음식판매', '1'], ['음식점에서 접객시설을갖추고 김밥,쫄면', '1'], ['호프방에서 접객요원없이 맥주안주', '1'], ['개인택시로 일반인을 대상으로 승객운송서비스', '4'], ['음식점에서 접객시설을 갖추고 초밥', '1'], ['매장에서 일반인을대상으로 생선소매', '0'], ['음식점에서 접객시설을 갖추고 돼지 주물럭,쌈밥 등', '1'], ['사업장에서 소매업자에게도매 죽염판매', '0'], ['매장 소매 스포츠의류', '0'], ['개인택시로 일반인을 대상으로 승객운송서비스', '4'], ['송배전선 현장에서 내부전기배선공사', '8'], ['미용실에서 일반고객을대상으로 퍼머,염색,컷트', '3'], ['창고에서 홈쇼핑반품물건 상품포장.정리', '11'], ['커피,녹차 등 판매  ', '1'], ['카센타에서 고객을대상으로 자동차특정부분정비', '3'], ['외래환자위주로 보건업 영상의학과', '7'], ['미용실에서 고객의 대상으로 컷트,파마,영색서비스 제공', '3'], ['전자부품(저항 비드 IC) 일반소매업자에게 도매', '0'], ['분식점에서 접객시설을 갖추고 칼국수, 김밥', '1'], ['자동차공업소에서 일반인을대상으로 자동차경정비', '3'], ['구내식당에서 음식을 조리하여 식사제공', '1'], ['음식점에서 일반인을 대상으로 중화요리', '1'], ['개인택시로 일반인을 대상으로 승객운송서비스', '4'], ['미용실에서 일반인을대상으로 컷트파마서비스', '3'], ['사업장에서 화물운송 중개', '4'], ['영업점에서 인터넷을 통해 생활용품', '0'], ['컴퓨터수리기술을 이용해 전문적으로 수리 유지함 컴퓨터 수리', '3'], ['보명인쇄에서 수수료및 계약에 의한 스티커,라벨인쇄', '2'], ['개인택시로 일반인을 대상으로 승객운송서비스', '4'], ['사업체에서 일반고객을대상으로 자동차흠집제거.코팅', '3'], ['절에서 불교계통 종교활동 서비스', '3'], ['사업장에서 일반인대상으로 지압,마사지', '7'], ['미용실에서  두발세비스', '3'], ['버스를가지고 고객의 요구에따라 버스운행', '4'], ['펜션에서 일반인을대상으로 숙박용펜션운영', '1'], ['노래주점에서 노래시설을 갖추고 맥주 양주 판매', '1'], ['일반 소비자에게 소매 전기가게에서 전기용품, 배선, 콘센트등을 판매', '0'], ['알루미늄 프레스가공 리스바명판', '2'], ['신동아공인중개사에서 게약에의거부동산중개 부동산중개서비스', '6'], ['매장에서 접객시설을 갖추고 생맥주를 전문 판매', '1'], ['폴리에틸렌 압축성형 폴리에틸렌수도관.하수관제조', '2'], ['금속구조재 및 구성 부분품 철구조물 제조', '2'], ['전자제품디자인 사업장에서 제품디자인 시제품제작', '10'], ['매장(165㎡미만)에서 일반소비자에게 음식료품위주 소매', '0'], ['미용실 두발미용서비스제공 머리자르기.염색', '3'], ['건물내 고객요구에따라 내부배선전기공사', '8'], ['사업장에서 소매 핸드폰', '0'], ['이동통신매장에서 일반소비자에게 통신기기판매', '0'], ['교습소 일반학생대상 영어교육', '5'], ['영업소에서 GM 고객을 대상으로 자동차부품 판매', '0'], ['영업장에서 고객의 요청에 따라 건설장비 대여', '8'], ['개별화물자동차로 고객의 요청으로 화물운송서비스', '4'], ['기능성의류  ', '0'], ['교회 종교활동 종교활동', '3'], ['업소에서 접객시설을 갖추고 죽을제조하여판매', '1'], ['도소매 전자상거래 컴퓨터 및 주변기기', '0'], ['사업장에서 산엽사용자에게 철물도매', '0'], ['매장에서 고객을대상으로 조명기구소매', '0'], ['사업장에서 사업자에게 건축, 설비자재 합판 판매', '0'], ['사업장에서 중개를 통하여 종합 무역 중개', '0'], ['천연재료를 일반인을 대상으로 머리염색', '3'], ['사업장에서 고객의뢰를받아 자동차썬팅', '3'], ['사업장에서 소비자에게 페인트 판매', '0'], ['미용실에서 고객을 대상으로 파마.컷트', '3'], ['의원 외래환자대상 소아과', '7'], ['사업장에서 사업자의 요청으로 소프트웨어 자문,개발및공급', '12'], ['상가사무실에서 상가관리 서비스 비거주용 상가', '6'], ['유소년야구교실에서 유소년을 대상으로 야구교육', '5'], ['인력사업장에서 고객요구 고용알선', '11'], ['매장에서 소비자에게 마카롱커피', '1'], ['만두전문점에서 일반소비자를 대상으로 접객시설없이 판매 만두', '1'], ['상  ', '0'], ['용달화물자동차로 고객의 요청으로 화물운송서비스', '4'], ['냉장냉동 과메기 일반인에게 과메기소매', '0'], ['미용실 일반인 파마', '3'], ['목재를가지고 외주가공하여 ㅜ방기구제조', '2'], ['용달화물자동차로 고객의 요청으로 화물운송서비스', '4'], ['고객의 사업장에서 고개요구에따라 조경건설공사', '8'], ['마트에서 일반인을 대상으로 주방용품및 잡화', '0'], ['사업장에서 소매업자 대상으로 식기세척기기, 주방기기 도매', '0'], ['요양시설에서 노인성질환을 앓고 있는 노인을 노인요양복지시설운영', '7'], ['매장에서 일반소비자에게 소매 자동차 윤활류 판매', '0'], ['보헝회사에서 일반인을 대상으로 생명보험', '13'], ['사업장에서 고객의요구에 미디어광고제작', '12'], ['사업장에서 주문에의해 배달대행서비스', '4'], ['슈퍼에서(165㎡미만) 일반소비자를 대상으로 음식료품 위주', '0'], ['연질(비닐), 경질(비닐) PVC  고추파가공(기계) 포장용비닐(비닐백,CD비닐케이스)', '2'], ['주유소 일반소비자에게 휘발유 경유판매', '0'], ['사업장에서 사무실이용자를 위하여 사무용건물 관리서비스', '6'], [' 용해, 폐그물망 플라스틱원료', '2'], ['점포에서 수요자에게 보청기소매', '0'], ['일반화물을 일반인 대상으로 일반화물운송', '4'], ['일반인들에게 매장에서 중고기계소매', '0'], ['가게에서 일반 소비자에게 소매 석유,등유', '0'], ['일반소비자에게 매장에서 셔츠및 블라우스', '0'], ['편의점에서 체인계약을 체결하여 식료품 판매', '0'], ['사업장에서 고객의뢰에의해 전기배선공사', '8'], ['부동산중개소 계약및 중개를 통해 수수료 받음 부동산거래 서비스', '6'], ['수출 오토모티브플래터 자동차부품(클러치)', '0'], ['건설현장에서 고객요구에따라철근시멘트이용 단독주택건설', '8'], ['일반인 대상으로 영업장에서 부동산 매매', '6'], ['매장에서 일반인대상 건강식품판매', '0'], ['일반고객에게 대여 오리배를 가지고 오리배탑승서비스', '9'], ['매장에서 고객들에게 아이스크림', '0'], ['네일？에서 일반인을대상으로 네일아트등', '3'], ['접객요원을 두고 술을 판매  ', '1'], ['음식점에서 접객시설을 갖추고 냉면, 칼국수 등을 제공', '1'], [' 플라스틱 물질 및 합성고무 도매 ', '0'], ['각종조명기구를 소매업자를 대상으로 조명기구 도매', '0'], ['스튜디오앤갤러리 일반인대상 소품,판매', '0'], ['사업장에서 고객의 요청으로 인력알선', '11'], ['교회 기독교계통종교활동 종교서비스', '3'], ['미용실에서 일반고객을 대상으로 파마,컷트', '3'], ['사업장에서 일반소비자에게 의류소매', '0'], ['개별화물자동차로 고객의 요청으로 화물운송서비스', '4'], ['일반인을 대상으로 사업장에서 가구 판매', '0'], ['매장에서 일반인대상 페인트미장', '8'], ['음식점에서 접객시설을 갖추고 백숙,오리불고기', '1'], ['스텐 절단, 용접 ', '2'], ['펜션에서 일반인을 대상으로 숙박서비스', '1'], ['사업장에서 일반인에게 시스템S/W개발및공급업', '12'], ['영업장 매매 임대서비스 부동산 임대 매매', '6'], ['용달화물자동차로 고객의 요청으로 화물운송서비스', '4'], ['구입한철 금형을제작하여 경첩등을생산', '2'], ['사업장에서 고객대상으로 자동차렌트', '11'], ['미용실 두발미용 서비스제공 머리자르기 등', '3'], ['제과점에서 접객시설 갖추고 빵, 케익 등 제공', '1'], ['사업장에서 의뢰의고객을받아 세무대행', '10'], ['사업장에서 도매 수산물', '0'], ['커피숍에서 접객시설을 갖추고 원두커피제공', '1'], ['가게에서 접객시설갖추고 서양요리', '1'], ['모텔에서 개별 룸서비스없이 숙박서비스 제공', '1'], ['부동산 계약및중개 중개서비스', '6'], ['sus가공품 설계, 가공품구매 ', '2'], ['매장에서 회원들에게 피부관리', '3'], ['매장에서 고객들에게 야구복,운동복판매', '0'], ['접객시설을갖추고 음식점에서 라면,국수', '1'], ['음식점에서 접객시설을갖추고 삼계탕', '1'], ['일반인을 대상으로 사업장에서 타이어판매', '0'], ['개인택시로 일반인을 대상으로 승객운송서비스', '4'], ['플라스틱 사출 케이블부품제조', '2'], ['커피점에서 접객시설을 갖추고 커피,음료', '1'], ['주점에서 접객시설을갖추고 소주,맥주', '1'], ['위탁가공무역업  ', '0'], ['부동산에서 계약,중개를 통해 수수료 받음 부동산 중개서비스', '6'], ['음식점에서 접객시설을 갖추고 찌게,백반', '1'], ['매장 도매 컴퓨터주변기기', '0'], ['건설공사를일괄도급하여 분양,판매 주택신축판매', '6'], ['개인택시로 일반인을 대상으로 승객운송서비스', '4'], ['영업장에서 일반인을 대상으로 공구', '0'], ['영업장에서 고객의 의뢰받고 건설업(비주거용)', '8'], ['이발소에서 고객대상으로 염색 커트 면도', '3'], ['고물상 신문폐품수집 판매', '0'], ['철물점에서 일반소비자에게 앵글,열쇠 판매', '0'], ['펜션에서 일반고객대상으로 숙박서비스', '1'], ['공업용지 개발 고객에게 부동산 개발공급', '6'], ['음식점에서 접객시설갖추고 일식전문점', '1'], ['채소가게에서 일반소비자에게 당근.양파 소매', '0'], ['매장에서 소비자에게 생선판매', '0'], ['부동산중개소에서 계약에의해중개 부동산중개서비스', '6'], ['고객의 주문으로 매장에서 도면복사', '11'], ['노래주점에서 접객요원을두고 양주,맥주제공', '1'], ['사업장에서 고객의 의로를 받아 항온항습기 A/S', '2'], ['매장에서 접객시설을 갖추고 원두커피제공', '1'], ['치과에서 외래환자위주로 치과진료서비스', '7'], ['영업장 산업사용자 대상 산업용 자동제어기 도매', '0'], ['골판지 재단 골판지상자', '2'], ['OPP, 잉크 발주, 인크드라이 ', '2'], ['음식점에서 접객시설을갖추고 설렁탕', '1'], ['영업장에서 접객시설 갖추고 한식 음식점(순대국)', '1'], ['영업장에서 떡류제조및유통 감자떡제조', '2'], ['제조시설을 갖추고 천연동식물성물질로 유기질비료 제조', '2'], ['분식점에서 접객시설을 갖추고 분식 제공', '1'], ['매장에서 제조 밥솥부품', '2'], ['사무실에서 임대 등을 통해 부동산(건물)임대', '6'], ['화학약품을 혼합조제하여 테프론코팅도료제제조', '2'], ['페인트 입고.준비 ？', '2'], ['영업장에서 재단제봉 남자용정장', '2'], ['영업장에서 고객에게 양주,주류판매', '1'], ['음식점에서 접객시설을 갖추고 닭발', '1'], [' 기타 기반 공사 ', '8'], ['일반인대상으로 영업장에서 LED조명소매', '0'], ['매장에서 접객시설을갖추고 커피판매', '1'], ['교회에서 기독교신자들대상으로 기독교', '3'], ['사업장에서 농업인을 대상으로 비료및 농자재 판매', '0'], ['가게에서 상인에게 수산물도매', '0'], ['영업장에서 접객시설을 갖추고 피자, 햄버거, 샌드위치 및 유사 음식제공', '1'], ['주방용품을수입하여 소매업자에게도매 그릇.도자기', '0'], ['개인택시로 일반인을 대상으로 승객운송서비스', '4'], ['아파트 관리사무소 아파트 입주자를 위하여 주거용관리서비스', '6'], ['현장에서 고객요구에 따라 조립식건축,내외장공사', '8'], ['어린이집에서 만2세아동대상 아이들 돌봄', '7'], ['어린이집에서 어린이대상으로 보육서비스', '7'], ['사무실에서 사업장에 업무지원', '11'], ['음식점에서 접객시설을갖추고 바베큐판매', '1'], ['나무,뿔 글을 새겨 도장', '2'], ['용달화물자동차로 고객의 요청으로 화물운송서비스', '4'], ['모직, 실 반제품, 손바느질 ', '2'], ['학원에서 초,중학생을 대상으로 영어교육', '5'], ['건설기계를 계약에의해 관리,중개', '8'], ['사업장에서 일반고객을대상으로 기타 시설물 축조관련 전문공사업', '8'], ['개인택시로 일반인을 대상으로 승객운송서비스', '4'], ['제품디자인  ', '10'], ['횟집에서 접객시설을갖추고 회', '1'], ['분식점에서 간이음식조리 김밥 국수', '1'], ['개인택시로 일반인을 대상으로 승객운송서비스', '4'], ['사업장에서 고객의요청에따라 가전제품수리서비스', '3'], ['주점에서 접객시설을 갖추고 맥주 소주 판매', '1'], ['교회에서 기독교 계통 종교활동 종교서비스', '3'], ['음식점에서 접객시설을 갖추고 한식부페', '1'], ['사업장에서 해양선상 컴퓨터로 수치모형실험통해(시물레이션) 설계회사에 자료제공', '10'], ['중개사사무소에서 계약에의거 부동산중개서비스', '6'], ['세탁소에서 세탁의뢰자를대상으로 드라이,수선,세탁서비스', '3'], ['일반소비자를 대상으로 충전소에서 차량용 가스연료 소매', '0'], ['어린이집에서 부모로부터위탁받아 취학전아동교육', '7'], ['개인택시로 일반인을 대상으로 승객운송서비스', '4'], ['사업장에서 일반소비자에게 각종 채소', '0'], ['구내식당에서 음식을조리하여 식사제공', '1'], ['학원에서 학생들대상으로 피아노교육', '5'], ['영업장에서 소매업자를 대상으로 쓰레기통 도매', '0'], [' 특수부위.껍데기구이 ', '1'], ['사업장에서 인터넷으로교육 교육콘텐츠,프로그램제작', '12'], ['어린이집에서 보건복지부인가를받아 취학전아동을보육', '7'], ['협회에서 회원향상을위반 회원관리', '3'], ['알반소비자에게 매장에서 의료기기소매', '0'], ['사업장에서(165㎡미만) 일반소비자에소매 식.음료품판매', '0'], ['용달화물자동차로 고객의 요청으로 화물운송서비스', '4'], ['미용실에서 고객을대상으로 컷트.파마', '3'], ['서비스 장의차량이용 장의 용역', '3'], ['독서실에서 학생대상으로 독서실운영', '9'], ['개인택시로 일반인을 대상으로 승객운송서비스', '4'], ['음식점에서 접객시설을 갖추고 한식', '1'], ['매장 자동차내장품 도.소매 자동차 인테리어용품', '0'], ['사업장에서 다른소매업자에게 축산물', '0'], ['소매업자에게 사업장에서 가공식품 도매', '0'], ['제과에서 접객시설을갖추고 빵,케？등판매', '1'], ['변기수입해서 대리점납품 변기도매', '0'], ['음식점에서 접객시설을 갖추고 일본식초밥', '1'], ['사업장에서 다른소매업자에게 도매 볼트,너트', '0'], ['주점에서 일반인 대상으로 소주,맥주 판매', '1'], ['천,스폰지 프레스 압착가공 신발안창', '2'], ['펜션에서 일반인을 대상으로 숙박 서비스제공', '1'], ['매장 소매 시계', '0'], ['이동통신 일반소비자에게 휴대폰판매', '0'], ['환봉, 철강재 소재입고, CNC ', '2'], ['사업장에서 절단, 용접 레미콘부품제조', '2'], ['주점에서 접객시설을갖추고 맥주,소주', '1'], ['음식점에서 접객시설을 갖추고 칼국수 판매  ', '1'], ['건설현장에서 타일을 이용하여 타일 시공', '8'], ['음식점에서 접객시설을갖추고 칼국수,잔치국수', '1'], ['미용실에서 일반고객을 대상으로 두발미용서비스', '3'], ['매장에서 접객시설을 갖추고 커피,음료 판매', '1'], [' 부동산 중개 및 대리업 ', '6'], ['음식점에서 접객시설을 갖추고 보쌈', '1'], ['건어물가게에서 일반인을 대상으로 오징어,노가리등소매', '0'], ['산부인과의원 외래환자 위주로 산부인과 진료', '7'], ['사업장에서 물류회사업무대행 차량 운행 일보 관리', '11'], ['건강원에서 한약재등의재료를농축하여 액화식품을제조', '2'], ['미장원에서 두발미용서비스 머리자르기, 염색,퍼머등', '3'], ['마른 건어물을 영업장에서 소매업자에게 도매', '0'], ['음식점에서 접객시설을 갖추고 순대국 해장국 판매', '1'], ['나무 타발,재단 수출목재상자제조(파레트)', '2'], ['유아복가게에서 일반소비자에게 유아복의류소매', '0'], [' 작업여성블라우스 ', '0'], ['사업장에서 일반 소비자에게 우엉차,작설차', '0'], ['용달화물자동차로 고객의 요청으로 화물운송서비스', '4'], ['매장에서 고객의요청에의해 옷수선 서비스', '3'], ['수선집에서 일반인을 대상으로 옷 수선 서비스 제공', '3'], ['공장에서 신발,셔츠세탁후 크린토피아본사납품', '3'], ['인력사무실에서 수수료를 받고 인력공급업', '11'], ['환봉, 철 입고, 절삭 ', '2'], ['개인택시로 일반인을 대상으로 승객운송서비스', '4'], ['쌀가루,콩등을가지고 제조.접객시설없이 떡류.약밥판매', '2'], ['학원에서 학생을 대상으로 영어교육서비스', '5'], ['어린이집에서 관할구청에서 인가받아 취학전 영유아보육', '7'], ['음식점에서 시설갖추고 한식판매', '1'], ['일반대중에게 조세관련 박물관 시설운영', '9'], ['업체에서 업체대상 제본기계 납품', '2'], ['제과점에서 접객시설을 갖추고 식빵', '1'], ['개별화물자동차로 고객의 요청으로 화물운송서비스', '4'], ['외래환자위주로 치과에서 치과진료서비스', '7'], ['화물용금속,플랫폼 제조  ', '2'], ['음식점에서 접객시설을 갖추고 염소탕,족발', '1'], ['한의원 외래환자위주로 한방치료서비스', '7'], ['유치원에서 교수학습 유아교육', '5'], ['원단,솜 재단,미싱 이불제조', '2'], ['영업장에서 일반고객에게 실내스크린공프', '9'], ['음식점에서 접객시설을 갖추고 갈비탕.김치찌게.갈비찜등', '1'], [' 직접 양초나 방향제을 만들어 판매 ', '2'], ['매장에서 일반소비자를 대상으로 금.은제품판매', '0'], ['개별화물자동차로 고객의 요청으로 화물운송서비스', '4'], [' 사설우편물 택배등 ', '4'], ['요정 접객요원을 두고 양주,맥주판매', '1'], ['레스토랑에서 접객시설을갖추고 파스타', '1'], ['사업장에서 접객시설을 갖추고 한식제공  ', '1'], ['분식점에서 간이음식조리 떡볶이.김밥등 제공', '1'], ['매장에서 일반고객대상으로 여성의류판매', '0'], ['미장원 두발미용서비스 파마 컷', '3'], ['영업장에서 학생대상으로 체험요리', '9'], ['개인택시로 일반인을 대상으로 승객운송서비스', '4'], ['성형외과에서 외래환자위주로 성형외과진료서비스', '7'], ['토지위에 주차시설을 갖추고 일반인대상으로 주차임대', '3'], ['벨로즈,스텐망 절삭 후렉시블조인트기계부품 절삭가공', '2'], ['용달화물자동차로 고객의 요청으로 화물운송서비스', '4'], ['부동산중개소 계약에 의거 부동산중개 부동산중개', '6'], ['모텔에서 개별룸서비스없이 일반인을 대상으로 숙박 서비스 제공', '1'], ['스텐,모터,전기판넬,전선 설계,절단,용접,조립 컨베이어장치(분체이송설비)', '2'], ['면, 폴리 원재료입고, 재단 ', '2'], ['농약판매점에서 농약, 살충제, 소독제 도매, 소매 판매', '0'], ['음식점에서 접객시설을 갖추고 한식(국밥)', '1'], ['부동산에서 계약에 의거하여 부동산 중개업', '6'], ['고객의 요청에 따라 일반소비자들에게 한식음식등 배달', '1'], ['당구장에서 일반인에게 당구장운영', '9'], ['사업장 녹색성장에 필요한 기반 구성 녹색인증마크 부여', '10'], ['개인택시로 일반인을 대상으로 승객운송서비스', '4'], ['개인택시로 일반인을 대상으로 승객운송서비스', '4'], ['치과의원에서 외래환자위주로 치과진료서비스', '7'], ['개인택시로 일반인을 대상으로 승객운송서비스', '4'], ['교회 기독교계통 종교활동 종교 서비스', '3'], ['일반화물자동차로 고객의 요청으로 화물운송서비스', '4'], ['분식점에서 간이음식조리하여 떡볶이 김밥제공', '1'], ['매장에서 소매 장난감', '0'], ['백화점매장에서 일반소비자에게 소매 가방', '0'], ['선박 가공 및 제조  ', '2'], ['기숙사  ', '1'], ['가방 소매점에서 일반 소비자에게 소매 가방 판매', '0'], ['소사장제 제조업 포장용상자제조', '2'], ['제과점에서 일반인을 대상으로 빵판매', '1'], ['용달화물자동차로 고객의 요청으로 화물운송서비스', '4'], ['주유소에서 급유서설을 갖추고 휘발유판매', '0'], ['분양, 판매 건설공사를 일괄도급하여 비주거용 건물 개발 및 공급(주택)', '6'], ['사무실에서 일반인들에게 류관순열사 기념사업 홍보', '3'], ['마을금고에서 여수신금융업무 여수신금융서비스', '13'], ['개별화물자동차로 고객의 요청으로 화물운송서비스', '4'], ['소매 산야초담금주 산약초.담금주', '2'], ['개인택시로 일반인을 대상으로 승객운송서비스', '4'], ['개인택시로 일반인을 대상으로 승객운송서비스', '4'], ['교회 기독교 계통 종교활동 종교서비스', '3'], ['매장에서 접객시설을 갖추고 족발과 보쌈', '1'], ['학원에서 학생을대상으로 줄넘기교육', '5'], ['한약방 일반인을대상으로 한의약조제', '0'], ['개인택시로 일반인을 대상으로 승객운송서비스', '4'], ['에너지 저장장치 제조업  ', '2'], ['음료점 접객시설을 갖추고 커피.차', '1'], ['알루미나옥시드 배합성형 연마석', '2'], ['협의회에서 보조금을 받아 취약지대 정비', '3'], ['노인재가센타에서 노인들에게 서비스 제공 요양보호', '7'], ['영업장에서 접객시설을갖추고 염소탕', '1'], ['교회에서 교인대상 종교서비스', '3'], ['음식점에서 일반인대상으로 찌개,밥판매', '1'], ['사업장에서 소비자에게 식료품 판매', '0'], ['사업장에서 건축사용자에게 타일판매', '0'], ['화장품 생활용품 소매 화장품', '0'], ['개별화물자동차로 고객의 요청으로 화물운송서비스', '4'], ['사무실에서 산업사용자에게 전사지 중개', '0'], ['개인택시로 일반인을 대상으로 승객운송서비스', '4'], ['수련원에서 학생,일반인을 대상으로 필라테스', '5'], ['노래연습장에서 일반인을 대상으로 노래반주 서비스', '9'], ['일반소비자를대상으로 매장에서 인삼홍삼판매', '0'], ['사업장에서 일반고객을 대상으로 보험계약 대리 중개', '13'], ['음식점에서 접객시설을 갖추고 순대국, 순대정식', '1'], ['개인택시로 일반인을 대상으로 승객운송서비스', '4'], ['매장에서 소매업자에게 육류도매', '0'], ['체육관에서 학생,일반인대상으로 격투기,무술등강습', '5'], ['사무실에서 계약및 수수료에의해 조경건설', '8'], ['영업장에서 산업사용자에게 안전화,작업복도매', '0'], ['매장에서 일반인 대상으로 화장품 판매', '0'], ['철물점에서 일반인대상으로 전기재료및 철물등을 소비자에게 판매', '0'], ['소화물을 고객을 대상으로 퀵서비스', '4'], ['음식점 주점에 사업장에서 소주도매', '0'], ['영업장에서 접객시설갖추고 샌드위치', '1'], ['부동산 고객에게 서비스 부동산 자문 및 중개업', '6'], ['어린이집에서 관할구청인가를 받아 영,유아보육', '7'], ['철판 기계가공 후레임', '2'], ['소매 매장 의류,잡화,악세사리', '0'], ['용달화물자동차로 고객의 요청으로 화물운송서비스', '4'], ['매장에서 일반인 대상 신발 구두', '0'], ['치과병원에서 외래환자 위주로 치과진료서비스', '7'], ['주점에서 접객요원및무도시설없이 소주,맥주,안주류', '1'], ['목재 절단,조립 목재포장박스', '2'], ['사업장에서 일반고객대상 커피판매', '1'], ['미장원에서 고객을 대상으로 컷트 파마 염색', '3'], ['사료 도매 및 소매업 젖소.양돈사료', '0'], ['사업장에서 일반고객을 대상으로 화장품 소매', '0'], ['사진관에서 일반인대상 증명사진', '10'], ['철 가공 전동기부품제작', '2'], ['학원에서 초등학생 대상으로 영어교육', '5'], ['홍어  ', '1'], ['도서관에서 지역주민대상으로 도서관운영', '9'], ['가게에서 일반소비자를대상으로 악세사리,모자판매', '0'], ['건물을 가지고 임대인으로 수수료 받아 건물  임대', '6'], ['미용업(피부등 종합)  ', '3'], ['마트에서 소비자에게 소매 음식료품', '0'], ['각종과일을 다른소매업자에게 사과 배도매', '0'], ['사찰에서 불교계통종교활동 종교서비스', '3'], ['건축사무소 건축협회 건축협회단체', '3'], [' 농수산유통업 ', '0'], ['음식점에서 접객시설을갖추고 설렁탕,해장국등판매', '1'], ['음식점에서 일반인을 대상으로 삼겹살', '1'], ['철판 절단,용접 공업용버너', '2'], ['유치원에서 교육청의 인가를 받아 취학전아동을교육', '5'], ['가게에서 일반소매업자에게 축산물 도매', '0'], ['부동산중개소에서 계약및 중개등을 통해 수수료 받음 부동산거래중개사무소', '6'], ['사업체에서 고객대상 안마시술소', '3'], ['음식점에서 접객시설을갖추고 한식(갈비탕)', '1'], ['개인택시로 일반인을 대상으로 승객운송서비스', '4'], ['철 조립하여 차단기부품', '2'], ['공장에서 셔츠, 여성의류를 시장에납품제조', '2'], ['개인택시로 일반인을 대상으로 승객운송서비스', '4'], ['네일샵에서 일반인대상 손발톱관리', '3'], ['철강재 기계가공 볼베어링', '2'], ['쎈타에서 일반인대상 종합심리상담', '7'], ['철판 절삭가공 산업용기계부품', '2'], ['고객주문에 의해 매장에서 생활용품, 잡화 소매', '0'], ['플라스틱 입고, 조립 차체내장제', '2'], ['영업장에서 시설을갖추고 고시텔운영', '1'], ['사업장에서 일반인을 대상으로 케익,쿠키강습', '5'], ['사업장에서 고객요청에의해 시계수리', '3'], ['음식점에서 접객시설을 갖추고 찌게 국등을 판매', '1'], [' 대구탕 알탕 등 ', '1'], ['사업장에서 소화물택배 택배운송서비스', '4'], ['현장에서 내부통신공사 건물내부전기공사', '8'], ['카폐에서 접객시설을갖추고 원두커피제공', '1'], ['현장에서 계약에 의해 실내 인테리어', '8'], ['사업장에서 각종상품을 자기계정으로구매하여 종합도매', '0'], ['카메라,기구 프로그램설계,시험 검사장비', '2'], ['음식점업 접객시설을갖추고 한식', '1'], ['광고매체산업 매체광고 대행수수료', '10'], ['체력단련시설을갖추고 체력단련서비스 헬스장', '9'], ['음식점 접객시설 돼지껍데기등', '1'], ['사업장에서 일반인대상 젓갈', '0'], ['사업장에서 일반고객의 요청에 의해 의류수선', '3'], ['우체국 일반고객 우편업', '12'], ['서비스 고객 공연기획,컨설팅,매니지먼트', '9'], ['매장에서 소비자를 대상으로 초콜릿판매', '0'], ['시멘트.모래 자갈 혼합해서 레미콘', '2'], ['음식점에서 접객시설을 갖추고 돼지,소,생고기', '1'], ['사업체에서 의뢰을받아 인력알선', '11'], ['개별화물자동차로 고객의 요청으로 화물운송서비스', '4'], ['매장에서 일반고객 아동의류', '0'], ['학생들을 대상으로 복사업 복사.제본', '11'], ['마늘,양배추,양파 압축,추출하여 마늘,양배추엑기스제조', '2'], ['매장에서 일반소비자에게 유아복소매', '0'], ['음식점에서 접객시설을 갖추고 일반한식 제공', '1'], ['매장에서 접객시설을 갖추고 한식', '1'], ['사무실에서 온라인을 통해 해드헌터 직업소개', '11'], ['용달화물자동차로 고객의 요청으로 화물운송서비스', '4'], ['개별화물자동차로 고객의 요청으로 화물운송서비스', '4'], ['미용실에서 고객을 대상으로 커트.파마', '3'], ['음식점에서 접객시설을갖추고 뼈,해장국', '1'], ['영업장에서 접객시설을 갖추고 주류판매', '1'], ['산부인과 에서 외래환자 위주로 산부인과 진료', '7'], ['가게에서 접객시설을 갖추고 커피 판매', '1'], ['음식점에서 접객시설을 갖추고 백반제공', '1'], ['음식점에서 접객시설을갖추고 말면,만두제공', '1'], ['PVC 도면, 가공, 조립 반도체장비, PVC부품가공', '2'], ['농협마트 대리점에서 커피가공품 도매', '0'], ['가죽, 인조가죽 재단, 재봉 바인더, 다이어리,메모장 제조', '2'], ['일반인들대상으로ㅓ 컴퓨터를가지고 노트북(전자상거래)', '0'], ['금속 절단,가공 금형제조', '2'], ['학교 교육시설 초등학생교육', '5'], ['통신기기 소비자에게 소매 핸드폰 판매', '0'], ['중개 전자부품 전자부품', '0'], ['재생할수 있는 고물 판매 산업 활동 재활용품 고지.플라스틱 금속', '0'], ['비철 금속 CNC가공 자동절단기(섬유절단용)', '2'], ['음식점에서 접객시설을 갖추고 쌈밥정식 판매', '1'], ['동물벙원에서 동물을 대상으로 치료', '10'], ['음식점에서 접객시설을 갖추고 국수판매', '1'], ['어린이집에서 부모의위탁을받아 아동보육', '7'], [' 한식(족발) ', '1'], ['매장에서 어린이용 서적,교구', '0'], ['사업장에서 일반소비자을 대상으로 우유 배달', '0'], ['학원에서 학생들에게 수학교육서비스', '5'], ['철강재 절삭가공하여 선박엔진 부속품 저장용기', '2'], ['주문받아 화물트럭으로 골제,폐기물 운송', '15'], ['건물 및 구축물의 전문직별 건설업자가 냉 난방공사 보일러,수도,방수', '8'], ['부동산에서 부동산중개및 계약 부동상중개', '6'], ['영업장에서 일반인 대상으로 핸드폰', '0'], ['자유시장(화장품) 일반소비자에소매 로션,스킨', '0'], ['사업장에서 고객대상으로 지질전문기술 제공', '10'], ['강철 절단, 절곡, 용접 집진기', '2'], ['개인택시로 일반인을 대상으로 승객운송서비스', '4'], ['매장에서 일반소비자에게 화장품판매', '0'], ['회원,비회원인들을대상으로 골프장시설을갖추고 골프장시설제공', '9'], ['플라스틱 성형사출 기타기계.장비조립용플라스틱제품', '2'], ['매장에서 소매업자에게 발전기 밧데리', '0'], ['가요방에서 접객요원을 두고 맥주,양주', '1'], ['사업장에서 접객시설을갖추고 커피,과일쥬스', '1'], ['고객을대상으로 자동차부품판매소에서 타이어, 자동차부품', '0'], ['사업장에서 소매업자에게 컴퓨터 및 주변기기, 전산소모품 등 도매', '0'], ['판유리 건축용 유리 다른 소매업자에게 도매 유리도매', '0'], ['세탁소에서 일반 소비자를 대상 의류 세탁', '3'], ['전기공사 전기용품 옥내배선', '0'], ['부동산중개소 일반고객을 대상으로 부동산중개서비스', '6'], ['교회에서 선교활동 기독교', '3'], ['사업장에서 화물운송 주선및알선', '4'], ['사업장에서 산업사용자에게 의료기기 도매', '0'], ['치과기공소에서 고객의요청으로 의료용의치제작', '2'], ['어린이집에서 어린이를 위탁받아 유아보육', '7'], ['고객을 대상으로 사업장에서 정수기AS', '3'], ['부동산중개소 계약에의해 부동산중개', '6'], ['식당에서 접객시설을 갖추고 한식찌개', '1'], ['용달화물자동차로 고객의 요청으로 화물운송서비스', '4'], ['산업사용자대상 철물점에서 농자재판매', '0'], ['구입한원단 가공의뢰후 원단무역', '0'], ['매장에서 일반소비자에게 김치 소매', '0'], [' 구입한 토지를 매매 ', '6'], ['개별화물자동차로 고객의 요청으로 화물운송서비스', '4'], ['부동산중개소에서 계약에 의거 부동산중개서비스', '6'], ['주간보호센터에서 노인분을 대상으로 주간보호, 돌봄서비스', '7'], ['사업장에서 택지 개발 및 분양 부동산 개발업', '6'], ['학원에서 학생들에게 수학교육', '5'], ['음식점에서 접객시설을 갖추고 순대볶음판매', '1'], ['옷수선 리폼  ', '3'], ['서비스 컴퓨터 아아디 소프트웨어 개발 및 공급업', '12'], ['전자부품 사출.조립 초음파치료용장치', '2'], ['미용실에서 일반소비자에게 컷, 파마, 염색 등 서비스', '3'], ['부동산중개업 부동산업 부동산임대차 거래 중개', '6'], ['개인택시로 일반인을 대상으로 승객운송서비스', '4'], ['카센터에서 고객의요청으로 부분수리', '3'], ['서비스 일반소비자대상으로 미용', '3'], ['사업장에서 수요자 요청에의해 정수기 도매', '0'], ['임대 여가및 유희용품을 카니발용품,게임기', '11'], ['찹쌀 위장보호용 기능성 식품 제조', '2'], ['상가 점포를 가지고 임대를 통하여 사무실임대업', '6'], ['주유소에서 일반소비자에게 주유 판매', '0'], ['사업장에서 소매업자에게 화장지.냅킨도매', '0'], ['미용 서비스 파마,커트', '3'], ['한약방 일반인을 대상으로 한약판매', '0'], ['주점에서 접객시설을갖추고 소주,맥주', '1'], ['음식점에서 접객시설을 갖추고 칼국수를 판매', '1'], ['주야간보호센타에서 요양이필요한노인들에게 복지서비스', '7'], ['매장에서 일반대상 아동복', '0'], ['사무실에서 의뢰받아 회계사', '10'], ['사업장에서 고객의뢰로 엔지니어링서비스', '10'], ['편의점 소매 식료품,담배', '0'], ['개인택시로 일반인을 대상으로 승객운송서비스', '4'], ['영업장에서 접객시설을 갖추고 커피', '1'], ['인터넷 일반대중대상으로 구강용품 소매', '0'], ['일반인대상으로 박물관에서 전시관 관람 운영', '9'], ['우체국에서 우편물등을 접수및예금', '12'], ['일반인을대상으로 공연장에서 연극공연', '9'], ['이비인후과에서 외래환자 위주로 이비인후과 진료 서비스', '7'], ['사무실에서 치과의 주문을 받아 치과의료도구도매', '0'], ['PC방에서 시설을갖추고 컴퓨터게임', '9'], ['사업장에서 홈쇼핑업체로 레저,스포츠의류', '0'], ['음식점에서 접객시설을 갖추고 전골', '1'], ['노래방에서 음향시설을 갖추고 노래방운영', '9'], ['세탁소에서 일반가정의 세탁물을수집하여 세탁서비스', '3'], ['옷가게 일반소비자에게소매 중고의류', '0'], ['수성코팅액을 수입하여 원료제공및국내판매', '0'], ['사업장에서 고객의 요청에의해 전기공사업', '8'], ['폐플라스틱 분쇄, 용해 ', '2'], ['사업장에서 소매업자에게 화공약품도매', '0'], ['개인택시로 일반인을 대상으로 승객운송서비스', '4'], ['밸리댄스 교육서비스업 ', '5'], ['철강, 공압류 투입, 설게 ', '2'], ['매장에서 일반소비자에게 커튼 소매', '0'], ['호프점에서 적객요원？무도시설없이 맥주판매', '1'], ['부동산중개사무실에서 고객의 계약에 의거 부동산중개및 대리서비스', '6'], ['음식점에서 접객시설을갖추고 돼지고기', '1'], [' 국내외여행상품판매 ', '11'], ['편의점 소매업 음료 , 식품,생활용품등', '0'], ['음식점에서 접객시설을 갖추고 순대,순대국', '1'], ['안경점에서 각종 안경을 소매 콘택트렌즈 안경', '0'], ['편의점에서 체인계약을 체경하여 음식료품 담재등 판매', '0'], ['학생을대상으로 영어 보습학원', '5'], ['미장원 두발미용서비스 제공 머리자르기,염색 등', '3'], ['교회에서 기독교계통종교활동 종교서비스', '3'], ['한식  ', '1'], ['개별화물자동차로 고객의 요청으로 화물운송서비스', '4'], ['영업장에서 소매업자에게 도매 기타가공식품도매', '0'], ['세탁소에서 일반인에게 세탁서비스', '3'], ['인터넷으로 예약손님을대상으로 매표대리', '11'], [' 육회비빔밥 및 각종 찌개류 ', '1'], ['사업장에서 일반인 대상으로 케？만들기 강습', '5'], ['미용실에서 두발미용서비스 커트.염색.파마', '3'], ['교회에서 아동 돌봄지원', '7'], ['매장에서 단열재 판매', '0'], ['사업장에서 산업사용자에게 서까래, 말뚝,목자재등도매', '0'], ['매장에서 도매 청소년게임기', '0'], ['관광버스로 고객들상대로 관광버스운행', '4'], ['금속가공 사업체에서 기계부품', '2'], ['교회에서 기독교 종교서비스', '3'], ['가게에서 일반소비자에게 공예품소매', '0'], ['접객시설을 갖추고 순대국밥 판매  ', '1'], ['물류센터에서 운송 자사제품보관운송', '4'], ['시장에서 다른 소매업자에게 채소 도매', '0'], ['음식점 접객시설을갖추고 등심,갈비', '1'], ['음식점에서 접객시설을갖추고 김치찌게', '1'], ['개별화물자동차로 고객의 요청으로 화물운송서비스', '4'], ['화물차를가지고 일반인을대상으로 개별화물운송', '4'], ['매장에서 일반소비자에게소매 등산의류', '0'], ['주점에서 접객요원을두고 양주.맥주', '1'], ['냉장냉동 수산물을 가지고 일반인을 대상으로 과메기 소매', '0'], ['사업장에서 제조업 업무지원 본사(석재용앙카공구제조)', '10'], ['학원에서 일반인 대상으로 미용관련 교육', '5'], ['용달화물자동차로 고객의 요청으로 화물운송서비스', '4'], ['매장에서 도매업자에게 실 등 의류부자재 판매 도매', '0'], ['사업장에서 일반인대상 전기자재납품', '0'], ['매점에서 일반인을대상으로 과자 음료', '0'], ['매장에서 일반인대상 한식,육류제공', '1'], ['음식점 간이음식 김밥', '1'], ['5톤미만화물자동차를이용하여 고객의요청으로 개별화물', '4'], ['매장 일반소비자 뜨개실 강습', '0'], ['고물상에서 재생가능한고물을수집하여 고철,비철,파지', '0'], ['미장원에서 고객을 대상으로 컷, 파마, 염색', '3'], ['신용조합 조합원 대상으로 대출 및 이자지급', '13'], ['용달화물자동차로 고객의 요청으로 화물운송서비스', '4'], ['개별화물자동차로 고객의 요청으로 화물운송서비스', '4'], ['교회 신도들에게 종교서비스', '3'], ['사업장에서 일반커피매장업주에게 볶음커피(로스팅)제공', '0'], ['제조업 산업사용자에게 전자부품', '0'], ['상가에서 다른소매업자에게 의류도매', '0'], ['어린이집에서 미취학아동대상으로 보육서비스', '7'], ['노래방에서 시설을갖추고 노래방운영', '9'], ['세탁소에서 일반고객을 대상으로 세탁서비스', '3'], ['카페에서 접객시설을 갖추고 커피 음료 제공', '1'], ['관리실에서  아파트관리업무', '6'], ['한의원에서 외래환자 위주로 한방진료', '7'], ['네일샵에서 일반인을 대상으로 손톱미용', '3'], ['세탁소 세탁시설을갖추고 가정용세탁서비스', '3'], ['교회에서 기독교계통 종교활동 종교서비스', '3'], ['영업장소에서 의로인 대상으로 선박 및 부품 수리', '2'], ['정비소에서 전기및기계적인방법으로 자동차종합수리', '3'], ['일반유흥 주점업  ', '1'], ['사업장에서 소비자에게 과일판매(전자상거래)', '0'], ['음식점업 접객시설을 갖추고 한식 음식점업', '1'], ['매장에서 일반소비자에게 애견용품판매', '0'], ['미용실에서 고객을 대상으로 커트,파마,염색', '3'], ['비계구조물해체, 토목구조물철거  ', '8'], ['음식점 접객시설을갖추고 갈비', '1'], ['연구소에서 기계공학연구개발 로봇연구개발', '10'], ['매장에서 일반소비자에게 가구판매', '0'], ['주점애서 접객시설을갖추고 맥주', '1'], ['미장원 두발미용서비스 커트,염색등', '3'], ['여관에서 일반인 대상으로 숙박서비스 제공', '1'], ['영업장에서 수요자를 대상으로 모터 판매', '0'], ['개인택시로 일반인을 대상으로 승객운송서비스', '4'], ['매장에서 일반소비자에게 자수실 소매', '0'], ['휴게소등을 대상으로 사업장에서 가공커피도매', '0'], ['사업장에서 다른소매업자에게 사무용품 도매', '0'], ['영업장에서 일반소비자에게 소매 건어물(멸치,오징어)', '0'], ['미용실 일반인대상 파마,컷트', '3'], ['보건진료소 외래진료 진료서비스', '7'], ['복권방에서 일반소비자를 대상으로 로또판매', '9'], ['음식점 접객시설을 갖추고 한식 육류제공', '1'], ['미용실 두발미용서비스 파마', '3'], ['식육점에서 일반소비자에게 돼지고기,소고기판매', '0'], ['사업장에서 고객대상 의류판매', '0'], ['고객이 지정한 곳에서 고객의 요청에 따라 사진촬영', '10'], ['민박집에서 숙박시설을 갖추고 숙박서비스', '1'], ['개인택시로 일반인을 대상으로 승객운송서비스', '4'], ['건설현장에서 거래처의뢰를 받아 교통신호등설치', '8'], ['개인택시로 일반인을 대상으로 승객운송서비스', '4'], ['재단에서 사회적으로도움이필료한 사람에세 청소년문화의집 운영', '7'], ['학원에서 초.중.고등생 속셈.영어등교육', '5'], ['가게에서(165㎡ 미만) 일반소비자에게 소매 음식료품위주', '0'], ['사업장에서 소매함 중고 가전', '0'], ['태권도학원에서 학생및일반인대상 태권도교육', '5'], ['서점에서 소매 서적,참고서', '0'], ['주점에서 접객요원 없이 무도시설없이 맥주양주판매  ', '1'], ['샤시등을 이용하는대상자에게 샛시제작판매', '2'], ['점포에서 일반인에게 성기구 보조용품 소매 성 보조용품 소매', '0'], ['음식점에서 접객시설을갖추고 한식판매', '1'], ['개별화물자동차로 고객의 요청으로 화물운송서비스', '4'], ['용달화물자동차로 고객의 요청으로 화물운송서비스', '4'], ['음식점에서 접객시설을 갖추고 순대국, 순대볶음 판매', '1'], ['영업장에서 일반인들에게 백반, 찌개', '1'], ['주유소에서 급유시설을 갖추고 차량용 액체연료 소매', '0'], ['커피전문점에서 접객시설을 갖추고 원두커피 제공', '1'], ['공부방에서 학생을 대상으로 영어교육', '5'], ['인터넷으로 사업장에서 휴대폰가입유치', '11'], ['동대문종합시장에서 도매업자에게 화섬직 등 직물 도매', '0'], ['매장에서 접객시설을 갖추고 커피,차', '1'], ['학원에서 학생들대상으로 피아노', '5'], ['택배물품을 수집하여 발송 및 배달서비스제공', '4'], ['가게에서 일반 소비자에게 문구용 소매', '0'], ['정신질환자를 입소시켜 복지시설에서 숙식및 간단한 치료 활동제공', '7'], ['고객들에게 매장에서 눈썹정리,손질', '3'], ['사무실에서 의뢰인을대리하여 행정기관및 공공기관 등에 제출 노동상담,서류대행 작성 제출', '10'], [' 온라인 정보 제공 ', '12'], ['사업장에서 접객시설을 갖추고 갈비탕,백반판매', '1'], ['새마을 금고에서 일반인을 대상으로 자금여수신', '13'], ['영업장에서 일반인대상 택배운송서비스', '4'], ['매장에서 접객시설을 갖추고 호떡, 음료 판매', '1'], ['분식점에서 간이음식조리 떡볶이,김밥,라면', '1'], ['헬스클럽에서 체력단련시설을 갖추고 체력단련서비스', '9'], ['식당에서 접객시설을 갖추고 부대찌개제공', '1'], ['운송회사에서 고객의 의뢰를 받아 화물운송', '4'], ['교육, 사회복지, 도시락 제조 및 판매  ', '7'], ['한식 음식점업  ', '1'], ['매장에서 곡류를재료로 떡제조판매', '2'], ['매장에서 고장난 농기계를 수리 서비스', '2'], ['약국에서 일반고객을 대상으로 가정용 의약품,드링크', '0'], ['카센타에서 자동차의 특정부분만을 전문적으로 수리 경정비,타이어,도장등의 서비스 제공', '3'], ['50평이하슈퍼에서 소매 음.식료품', '0'], ['개인택시로 일반인을 대상으로 승객운송서비스', '4'], ['사업장에서 접객시설을갖추고 커피', '1'], ['점포내에서 가정용품 전문적으로수리 자전거 수리', '3'], ['건축사무소에서 고객요청에 의해 주택 관공서 아파트 설계제공', '10'], ['샤워기를 가지고 일반인 대상으로 전자상거래', '0'], ['직업소개소  ', '11'], ['구입한제품으로 부자재도매 악세서리.모조장식판매', '0'], ['한식 음식점에서 접객시설 갖추고 보리밥, 묵밥 제공', '1'], ['철 절단.전조 특수너트', '2'], ['음식점에서 접객시설을갖추고 참치회', '1'], ['사업장에서 사용자에게 독서공간제공', '9'], [' 수제 비누 제조 ', '2'], ['사업장에서 접객시설을갖추고 커피', '1'], ['용달화물자동차로 고객의 요청으로 화물운송서비스', '4'], ['리사무소에서 리민들대상 사무지원서비스', '11'], ['용달화물자동차로 고객의 요청으로 화물운송서비스', '4'], ['매장에서 일반소비자에게 두부 야채등', '0'], ['고객요청에 체험마을에서 농촌체험', '9'], ['사업장에서 일반고객대상으로 커피,음료제공', '1'], ['학원에서 학생들을 대상으로 영어교육', '5'], ['사업장에서 일반소비자에게 블랙박스판매', '0'], ['사업장에서 소비자대상으로 조경수소매', '0'], ['학원에서  영어교육', '5'], ['의원에서 환자들에게 환자진료', '7'], ['건물외 고객 요구에 따라 비닐, 천 천막 시공', '8'], ['SUS,스틸,알루미늄 외주가공후 반도체 진공장비', '2'], ['사업장에서 일반고객대상 수제신발판매', '0'], ['애견동반전용호텔에서 객실을 이용 숙박서비스 제공', '1'], ['사업장에서  세무사업', '10'], ['음식점에서 시설을 갖추고 해물찜', '1'], ['커피전문점에서 접객시설을 갖추고 커피,음료', '1'], ['합기도 학원에서 일반인과 학생을 대상으로 합기도 교육', '5'], ['매장에서 일반소비자에게 수리 시계수리', '3'], ['분식 및 김밥전문점  ', '1'], ['부동산사무실에서 계약에의거하여 부동산중개서비스', '6'], ['한식당 일반인에게 숯불구이, 냉면 판매', '1'], ['사업장에서 일반인을대상으로 자동차판매(딜러)', '0'], ['음식점에서 접객시설을 갖추고 닭백숙, 오리로스 등을 판매', '1'], ['음식점에서 접객시설을 갖추고 생선회,매운탕', '1'], ['세탁소에서 고객의 세탁물을 세탁 및 드라이 서비스', '3'], ['여관에서 숙박시설을갖추고 숙박서비스', '1'], ['사무실에서 일반소비자대상으로 부동산컨설팅', '6'], ['사업장에서 고객요청 가스 설비', '8'], ['노래방에서 노래방 기기를 갖추고 노래 연습', '9'], ['주점에서 접객시설을 갖추고 주류판매', '1'], ['한식제공  ', '1'], ['남대문 상가에서 다른 소매업자에게 도매 안경', '0'], ['교회 기독교계통종교활동 종교서비스', '3'], ['내의 소매업,유아용 의류 소매업,기타 섬유, 직물 및  ', '0'], ['합판 절단 조립하여 싱크대제조', '2'], ['신발가게에서 일반인대상 신발 소매', '0'], ['교회에서 접객시설갖추고 커피.음료수', '1'], ['자동차 내장품및악세사리 일반 소비자를 대상으로 소매 핸들카바, 악세사리', '0'], ['영업장에서 고객을대상 마사지서비스', '3'], ['세탁업에서 일반대중을 대상으로 세탁물을 수집및 세탁함', '3'], ['치과의원에서 일반인대상 치아치료', '7'], ['미용실 곡객의요구에 미용업', '3'], ['식당에서 접객시설을갖추고 김치찌개,동태탕', '1'], ['사업장에서 일반소비자에게 건강체험,척추론열기판매', '0'], ['영업장에서 광고문안작성,설계 광고물 제공', '10'], ['가게에서 중고등학생을 대상으로 교복판매', '0'], ['인터넷 방송 신문  ', '12'], ['레스토랑에서 접객시설을 갖추고 돈까스, 파스타등', '1'], ['고물상에서 고철을 수집하여 고철폐지', '0'], ['편의점에서 체인계약을 체결하고 음식료품 소매', '0'], ['접객시설을 갖추고 떡볶이 순대 를 조리하여 제공  ', '1'], ['사무실에서 고객대상으로 해외여행알선', '11'], ['회사의재무관련서류 사업체의 의뢰를받아 세무조정', '10'], ['노래방에서 시설을 갖추고 노래방운영', '9'], ['부동산중개소에서 중개수수료를 받고 부동산거래서비스', '6'], ['매장에서 일반소비자에게 소매 캐주얼의류', '0'], ['사업장에서 접객요원 없이 주류', '1'], ['사무실에서 여행객대상 국내외여행알선', '11'], ['매장에서 일반인을 대상으로 비알콜음료점', '1'], ['철 선반 드릴가공 강관', '2'], ['사무실 화물알선 화물알선업', '4'], ['음식점에서 접객시설을 갖추고 백반', '1'], ['교회 기독교계통의 종교활동 종교 서비스', '3'], ['소매 일반인 란제리품목', '0'], ['가게에서 철판구이를 갖추고 김구이판매', '0'], ['사업장에서 공장,회사 대상으로 크린룸 시공', '8'], ['음식점 접객시설을갖추고 돼지국밥내장국밥', '1'], ['벽지 및 장판류 소매업 도매 및 소매업 ', '0'], ['개인택시로 일반인을 대상으로 승객운송서비스', '4'], ['카센터 자동차 부분 전문수리', '3'], ['원단 도소매 원단', '0'], [' 소프트웨어 개발 ', '12'], ['영업장에서 접객시설 갖추고 커피 등', '1'], ['학원에서 수강생을대상으로 음악 학원', '5'], ['매장에서 일반소비자에게 네일아트', '3'], ['카센타에서 체인점을 체결하여기계장비를 가지고 차량수리,타이어교체', '3'], ['노래방에서 접개시설를갖추고 노래방운영', '9'], ['매장에서 고객을 대상으로 숙녀복 판매', '0'], ['교습소에서 학생들을 대상으로 영어', '5'], ['음식점에서 접객시설을갖추고 김치찌개판매', '1'], ['영업장에서 접객시설을 갖추고ㅂ 삼겹살 판매', '1'], ['용달화물자동차로 고객의 요청으로 화물운송서비스', '4'], ['사업장에서 일반인을대상으로 경락마사지서비스', '3'], ['주차장에서 주차된차량에의해 주차관리서비스', '4'], ['주차장에서 일반차량을 대상으로 주차시설 제공', '4'], ['교회에서 기독교 성도들에게 종교 서비스', '3'], ['개인택시로 일반인을 대상으로 승객운송서비스', '4'], ['개별화물자동차로 고객의 요청으로 화물운송서비스', '4'], ['건설업 기타토목시설물건설 상하수도관공사', '8'], ['사업장에서 소비자의의리받아 알미늄샷시', '2'], ['사업장에서 고객대상 경영컨설팅', '10'], ['버섯을 가지고 건조,분쇄 버섯차,분말', '2'], ['보건소에서 지역주민을 대상으로 예방접종,', '7'], ['인쇄소에서 마스타제판술에 의해 각종서식', '2'], ['제조 요청에 의해 출력인쇄,프린터', '2'], ['사업장에서 일반소비자 대상으로 음식료품 위주 판매', '0'], ['사업장에서 토목건축관련감리를 감리서비스', '10'], ['음식점에서 조리접객시설을 갖추고고 한식제공', '1'], ['채소가게에서 일반인에게소매 배추.대파', '0'], ['부동산 계냑에의해 부동산중개', '6'], ['음식점에서 접객시설을 갖추고 정식', '1'], ['매장에서 소매 여성의류', '0'], ['여행사에서 일반고객을 대상으로 여행사，기타여행알선', '11'], ['애견카페에서 고객들에게 차음료 제공', '1'], ['음식점에서 접객시설을 갖추고 광어, 우럭, 매운탕', '1'], ['의류매장 일반인 대상으로소매 여성 캐주얼', '0'], ['주유소 금유시설을 갖추고 차량용 액체연료(휘발유 경유) 판매', '0'], ['고객의 사업장에서 고객의 요구에 따라 건설토목공사', '8'], ['편의점에서 체인 계약을 맺고 음식료품판매', '0'], ['피부마사지시설을 갖추고 일반고객을 대상으로 피부마사지', '3'], ['회원사무실에서 회원이익향상을위한단체 회원관리', '3'], ['애견분양  ', '0'], ['기원에서 바둑시설운영 바둑경기장(교육아님)', '9'], [' 생선 소매업 ', '0'], ['개인택시로 일반인을 대상으로 승객운송서비스', '4'], ['쌀, 보리 수세, 중간 파스타소스, 발아현미가루', '2'], ['매장에서 고객의 의뢰로 사출기기계수리', '2'], ['음식점에서 접객시설갖추고 초밥제공', '1'], ['개별화물자동차로 고객의 요청으로 화물운송서비스', '4'], ['무용학원에서 강습생에게 발레교육', '5'], ['음식점에서 접객시설을 갖추고 족발 판매', '1'], ['노래연습장운영업 서비스업 노래방운영', '9'], ['개별화물자동차로 고객의 요청으로 화물운송서비스', '4'], ['전자상거래  ', '0'], ['여인숙 숙박시설을갖추고 숙박서비스제공', '1'], ['쇠고기 염장및 냉동건조,훈연 육포제조', '2'], ['수거하여 음식물쓰레기를 처리', '15'], ['미용실에서 일반인대상으로 커트,퍼머', '3'], ['사무실에서 사건사고 취재보도 신문 잡지 수행', '12'], ['수상스키장에서 수상스키, 모터보트를 이용하여 수상오락 서비스 제공', '9'], ['사무실에서 전자상거래 녹차,홍차', '0'], ['태권도장에서 체력단련시설을 갖추고 태권도', '5'], ['칼국수전문점  ', '1'], ['지업사에서 일반인대상으로 장판.벽지 소매', '0'], ['개별화물자동차로 고객의 요청으로 화물운송서비스', '4'], ['개인택시로 일반인을 대상으로 승객운송서비스', '4'], ['약국 일반인대상 의약품판매', '0'], ['바느질,잡화 소매 가정용 직물 제품', '0'], ['미용실에서 일반인대상 퍼머 컷', '3'], ['음식점에서 접객시설을 갖추고 참치회', '1'], ['매장에서 고객대상으로 스포츠의류소매', '0'], ['혼합 배합비율방법 유기혼합비료', '2'], [' 구독자를 대상으로 신문계약배달 판매업', '0'], ['농협연쇄점(165-3000㎡)를 가지고 일반소비자 식품잡화판매', '0'], ['민박집에서 일반인대상으로 숙박시설제공', '1'], ['가게에서 접객시설을갖추고 백반,찌게', '1'], ['학원에서 학생대상 영어교육', '5'], ['학산주공아파트를 사업장에서 관리', '6'], ['개인택시로 일반인을 대상으로 승객운송서비스', '4'], ['사업장에서 다른소매업자에게 화장지종합 도매', '0'], ['매장에서 일반 고객 상대로 소매 육류', '0'], ['필터 전선 공진기 재단 성형 소결 통신필터 gps안테나', '2'], ['사업장에서 고객을 대상으로 용품점 도매', '0'], ['매장에서 일반인을 대상으로 꽃 소매', '0'], ['사무실에서 의뢰를 받아 세무상담 기장대리', '10'], ['쌀 직매장에서 식당위주로 도매 쌀 판매', '0'], ['사업장에서 무선장비 연구개발', '10'], ['병원에서 외래환자 위주로 치과진료', '7'], ['검도장 교육서비스업 검도', '5'], [' 건축물 방수, 도장 공사 ', '8'], ['사업장에서 화물운송업자와 화주간에 화물운송주선', '4'], ['용달화물자동차로 고객의 요청으로 화물운송서비스', '4'], ['사업장에서 증류기,열교환기 제조', '2'], ['학원에서 학생에게 영어교습', '5'], ['매장에서 일반고객을 대상으로 배달 치킨', '1'], ['사업장에서 일반소비자에게 콩자반,강정', '2'], ['생두 로스팅,분쇄하여 원두커피분말제조', '2'], ['음식점에서 접객시설을 갖추고 한방오리등 판매', '1'], ['문구점에서 일반인. 학생 문구류 소매', '0'], ['전도협회에서 어린이대상 기독교선교 전도', '3'], ['사업장에서 고객의특정메세지를전달또는표현 그래픽디자인', '10'], ['사업장에서 고객의대상으로 차량 대여', '11'], ['시각 디자인  ', '10'], ['건축기술을 이용하여 제조공장 건축 유사산업용 건물 공업용 창고 건물건설', '8'], ['복지센터에서 도움이필요한사람에게 방문요양서비스', '7'], ['천연석재 조각.가공하여 건축용 대리석 제조', '2'], ['영업장에서 접객시설을갖추고 커피,차,음료', '1'], ['사업장에서 고객요청으로 비철금속 제조', '2'], ['개별화물자동차로 고객의 요청으로 화물운송서비스', '4'], ['철자재, 유공압품,구동품 공정설계, 가공 ', '2'], ['접객시설을갖추고 숙박업.  ', '1'], ['여행객을대상으로 여행사에서 여행지원서비스', '11'], ['사업장에서 고객대상으로 홈트레이닝기구 제조', '2'], ['매장에서 접객시설을 갖추고 해물탕', '1'], ['매장에서 일반소비자 여성의류', '0'], ['초등학교 교육서비스 초등교육', '5'], ['정육점에서 일반소비자에게 소고기 돼지고기 소매', '0'], ['노점에서 일반소비자에게 각종야채판매', '0'], ['캬바레에서 무도시설을 갖추고 주류및장소제공', '1'], ['절단 환봉 환봉', '0'], [' 접객시설을 갖추고 병맥주, 소주등 판매 ', '1'], ['사무소에서 고객을 대상으로 부동산 중개', '6'], ['현장에서 업체의요청으로 철근용접,설치공사', '8'], [' 꽃집 ', '0'], ['커피샵에서 접객시설을 갖추고 커피', '1'], ['유치원에서 관할지역 교육청의 허가를 받아 취학전아동 교육', '5'], ['음식점에서 접객시설을 갖추고 수제 갈비 제공', '1'], ['학원에서 학생대상으로 영어교습', '5'], ['사업장에서 고객의 요청으로 대부중개', '13'], ['음식점에서 접객시설을 갖추고 청국장,된장찌개', '1'], ['매장에서 일반고객을 대상으로 등산용품소매', '0'], ['철 용접.절단 건축마감재(파스너)', '2'], ['통영신애원 미혼모및한가정보호시설 미혼모자공동생활서비스', '7'], ['음식점에서 접객시설을 갖추고 순대국', '1'], ['건설용기계장비를 수수료를 받고 운전자와함께건설용기계장비임대', '8'], ['부동산중개소 계약및중개등을통해수수료받음 부동산중개거래서비스', '6'], ['음식점에서 접객시설을 갖추고 돼지갈비', '1'], ['매장에서 고객의 요청에 의해 에어컨 설비', '8'], ['코일,케이수부품 조립 트랜스', '2'], ['점포 일반인대상 전기밥솥', '0'], ['음식점에서 접객시설을 갖추고 한우국밥 판매', '1'], ['교과교습/보습학원 중고생 대상으러 국어교육', '5'], [' 알루미늄절단기 제작 ', '2'], ['산업사용자에게 사업장에서 배관기자재', '0'], ['건설장비운영업 운전사딸린 노면파쇄기', '8'], ['영업장에서 다른소매업자에게 기타가공식품도매업', '0'], ['개인택시로 일반인을 대상으로 승객운송서비스', '4'], ['초등학교에서 초등학생을 대상으로 학생교육', '5'], ['음식점에서 접객시걸을갖추고 닭도리탕,삼겹살제공', '1'], ['고객이 의뢰한 장소에 식재,파종,조경물설치 조경공사', '8'], ['사무실 샷시 건설', '8'], ['영업장에서 접객시설을갖추고 일본음식', '1'], ['화원에서 일반소비자에게 관엽식물꽃소매', '0'], ['개별화물자동차로 고객의 요청으로 화물운송서비스', '4'], ['노래방에서 시설을 갖추고 노래방운영', '9'], ['음식점 접객시설갖추고 설렁탕 판매', '1'], ['영업장에서 고객대상 속눈썹펌,연장,왁싱', '3'], ['태양을활용하여 태양열을 전기생산', '17'], ['접객시설을갖추고 레스토랑에서 피자.파스타', '1'], ['사업장에서 의뢰받아 여성의류 제작', '2'], ['사회복지시설에서 청소년대상으로 행사,상담,봉사', '3'], ['접객시설을갖추고한식음식제공  ', '1'], ['철물. 공구. 안전용품,철물점 소매 철물, 안전 용품 판매', '0'], ['중학교 중등교육과정 고교진학을 위한 교육서비스', '5'], ['개인택시로 일반인을 대상으로 승객운송서비스', '4'], ['사업장에서 조립,부착 led 조명기기', '2'], ['매장에서 일반소비자에게 여성겉옷소매', '0'], ['PP, OPP 입고, 혼합 ', '2'], ['서점에서 산업사용자에게도매 소설책,참고서', '0'], ['사업장에서 소매업자대상 원단도매', '0'], ['직업소개소에서 소개수수료를받고 고용알선', '11'], ['편의점에서 고객을 대상으로 식음료 소매', '0'], ['사업장에서 도소매업자에게 화섬직등 직물도매', '0'], ['편의점에서 체인계약을 체결하여 식료품, 담배및 각종상품소매', '0'], ['센타에서 가정을 방문하여 요양서비스', '7'], ['사업장에서 일반인을대상으로 한식도시락제공', '1'], ['음식점에서 접객시설을 갖추고 돈가스', '1'], ['한의원 환자대상 한방치료', '7'], ['교회에서 기독교계통의종교활동 종교서비스', '3'], ['매장에서 일반소비자에게 애견 소매로 판매', '0'], ['영업장에서 게임시설을 갖추고 보드게임', '9'], ['사업장에서 소매업자에게 돼지고기,소고기', '0'], ['사무실에서 화물운송업자와 화물운송 주선', '4'], ['용달화물자동차로 고객의 요청으로 화물운송서비스', '4'], ['부동산중개소 계약에 의거 부동산중개 부동산 중개서비스', '6'], ['음식점에서 접객시설을 갖추고 아구탕,동태탕,민물새우탕등', '1'], ['제과점에서 일반고객을대상으로 빵판매', '1'], ['사업장에서 소매업자에게 간장.고추장', '0'], ['사업장에서 고객의요구에따라 석축쌓기', '8'], ['개별화물자동차로 고객의 요청으로 화물운송서비스', '4'], ['개인택시로 일반인을 대상으로 승객운송서비스', '4'], ['사업장에서 일반인 대상으로 체인점 모집및 관리 컨설팅', '10'], ['건축내부에서 전선배선 내부전기배선공사', '8'], ['옵셋인쇄,경인쇄,스크린인쇄,그라이바인쇄,기타 컵받아서 인쇄 캐릭터 컵', '2'], ['용달화물자동차로 고객의 요청으로 화물운송서비스', '4'], ['보습학원 학생들을 대상으로 영어 수학 단과', '5'], ['사업장에서 일반인 대상 컴퓨터 부품 판매', '0'], ['사업장에서 화물운송업자와화주간에 냉동운반선화물운송주선및알선', '4'], ['문구점에서 일반소비자에게 소매 문구류등을 판매', '0'], ['치킨전문점  ', '1'], ['사업장에서 포장작업(해사) 창고에입고', '11'], ['사무실에서 세무관련업부의뢰 세무조정기장대리', '10'], ['치킨점에서 접객시설을 갖추고 치킨배달', '1'], ['가게에서 일반 소비자를 상대로 한복 제조 판매', '2'], ['학원에서 학생을 대상으로 수학교과학원', '5'], ['매장에서 일반 소비자를 대상으로 여성의류소매', '0'], ['사업장에서 가축방역및 축산물검사 축산관련실험및연구', '10'], ['건축사협회업 회원이 이익 향상 단체 회원 관리 이익 도모', '3'], ['음식점에서 한식조리해서 뷔페제공', '1'], ['노래방에서 음향시설을 갖추고 노래연습서비스', '9'], ['사업장에서 종이로 고객의 요청에 의해 도서,상품권 인쇄', '2'], ['목욕탕에서 일반인을 대상으로 목욕서비스', '3'], ['음식점에서 접객시설을갖추고 정통일식회판매', '1'], ['수석점에서 일반소비자에게 수석 좌대', '0'], ['사업장에서 고객들에게 마사지 서비스', '3'], ['부동산 중개소 계약에 의거 부동산중개서비스', '6'], ['일반인을대상으로체육시설개방제공 실내체육관.공설운동장을 체육관.운동장운영', '9'], ['합성수지 공작칼로조각 신발목형', '2'], ['동심에서 일반여성을대상으로소매 브라우스', '0'], ['옷가게 일반소비자에게 소매 바지,셔츠', '0'], ['편의점에서 계약및체결에의하여 잡화및 과자, 식음료', '0'], ['영업장에서 일반인대상 컷,펌,염색', '3'], ['영업장에서 일반소비자들에게 치킨', '1'], ['매장에서 일반소비자에게 운동복', '0'], ['개인택시로 일반인을 대상으로 승객운송서비스', '4'], ['영업장 고객대상 생화판매', '0'], ['자재공급도급 각종 전기공사 등 일반전기공사업 수행', '8'], ['채소 다른사업자에게도매 열무,배추', '0'], ['사업장에서 산업사용자에게 치과 의료기 도매', '0'], ['음식점에서 접객시설을 갖추고 부대찌개 판매', '1'], ['음식점에서 접객시설을 갖추고 순대국', '1'], ['공구상가에서 비닐,잡자재 도,소매', '0'], ['주차장에서 주차고객대상으로 유료주차장운영', '4'], ['쌀 제조업 한과', '2'], ['사업장에서 소매업자 대상으로 전기자재도매', '0'], ['사업장에서 접객시설을갖추고 커피판매', '1'], ['요식업협회 요식업자의 이익증진 향상을 위한관리 회원관리 이익향상도모', '3'], ['부동산중개소에서 계약및중개를통해 부동산거래중개서비스', '6'], ['가게에서 일반소비자대상으로 음식료품위주소매', '0'], ['화장품 화장품 소매 각종 화장품', '0'], ['사무실에서  응용소프트웨어개발 및 공급', '12'], ['사업장 선박 대리점', '0'], ['체형관리  ', '3'], ['가게에서 일반인 대상 대게 소매', '0'], ['편의점에서 체인계약을 체결하여 식료품, 담배 및 각종상품소매', '0'], ['사업장에서 숙박시설갖추고 민박', '1'], ['개별화물자동차로 고객의 요청으로 화물운송서비스', '4'], ['건설업자가 건물이나구축물에관련된 배관및설치보수공사', '8'], ['위원에서 외래환자들 위주로 이빈후과 진료', '7'], ['매장에서 소매업자에게 모타펌프', '0'], [' 건물내 인테리어공사 ', '8'], ['절에서 불교신도대상 종교서비스', '3'], ['식당에서 접객시설갖추고 찜닭', '1'], ['쌀, 콩 혼합, 반죽, 스팀 시루떡, 송편', '2'], ['쇠(금속) 절삭가공 기계부품', '2'], [' 매장에서 일반소비자에게 남성 외의 소매 ', '0'], ['가게에서 일반소비자에게 야채감자무우등소매', '0'], ['서스 스텐을 가지고 절단 용접하여 반도체 마이크로필터제조', '2'], ['매장 일반인대상 아동복', '0'], ['영업장에서 접객시설을 갖추고 김밥,만두,분식판매', '1'], ['개인택시로 일반인을 대상으로 승객운송서비스', '4'], ['플라스틱 절단,접합하여 플라스틱 문틀제작', '2'], ['가게에서 접객시설갖추고 재첩국등 음식판매', '1'], ['보드,콘솔,전선등을가지고 결합하여 전기배전반 제조', '2'], ['일반인을 대상으로 소매 농산물(버섯,고구마,밤)', '0'], ['지하매장에서 일반소비자에게 핸드폰케이스.악세서리소매', '0'], ['교회 기독교 계통 종교 서비스', '3'], ['매장에서 일반고객에게 여성의류판매', '0'], ['개인택시로 일반인을 대상으로 승객운송서비스', '4'], ['당구장에서 일반인대상 당구장제공', '9'], ['사업장에서  여행상품판매', '11'], ['용달화물자동차로 고객의 요청으로 화물운송서비스', '4'], ['학원  ', '5'], ['주점에서 접객시설 갖추고 소주 맥주', '1'], ['미용실에서 고객을대상으로 커트 파마', '3'], ['일반인을 대상으로 치료실에서 아동발달, 심리상담서비스제공', '7'], ['사업장에서 온라인으로 잡화', '0'], ['주점에서 접객시설갖추고 소주,맥주', '1'], ['사업장에서 체력단련시설업자를위한 회원단체', '3'], ['피아노학원 학생일반인등에게 음악이론및피아노교육', '5'], ['음식점 접객시설갖추고 닭도리탕', '1'], ['매장에서 일반소비자에게소매 귀걸이.반지', '0'], ['교회에서 기독교계통 종교활동 종교서비스', '3'], ['고객의사업장에서 고객의요청에따라 고추건조기수리등', '2'], ['이발소 두발미용 서비스 제공 머리자르기', '3'], ['음식점에서 접객시설을 갖추고 소갈비,돼지갈비', '1'], ['택시회사에서 일반인에게 택시를 이용 승객 운송', '4'], ['사업장에서 일반인 대상으로 핸드폰수리', '3'], ['개인택시로 일반인을 대상으로 승객운송서비스', '4'], ['용달화물자동차로 고객의 요청으로 화물운송서비스', '4'], ['분식점에서 접객시설을 갖추고 김밥,라면등', '1'], ['사업장에서 설비업체에 동관.스테인레스관도매', '0'], ['주점 일반인에게 소부 안주', '1'], ['전수관에서 일반인대상으로 검도에관한 교육', '5'], ['사업장에서 일반인에게 복권 판매', '9'], ['폴리에스텔 재단재봉하여 여성용의류생산 여성용정장', '2'], ['수목원에서 일반인대상으로 수목원운영', '9'], ['영업장에서 일반인을대상으로 운동교육서비스', '9'], ['영업장에서 대부알선,중개 서비스제공', '13'], ['학원에서 학생에게 수학교육학원', '5'], ['용달화물자동차로 고객의 요청으로 화물운송서비스', '4'], ['매장에서 접객시설을갖추고 커피판매', '1'], [' 육류 소매 사업체 ', '0'], ['식당에서 일반인을 대상으로 삼계탕', '1'], ['철판, 사각파이프 자재입고, 절단 ', '2'], ['알루미늄을 절단 용접하여 조립 문틀제조(창호)', '2'], ['사다리차  ', '4'], ['합판 필름을 입혀 오버레일(합판코팅)', '2'], ['장학회 장학기금으로 장학금 지원', '3'], ['당구장에서 서비스업 당구연습장 제공', '9'], ['영업장에서 일반소비자 숙녀복판매', '0'], ['꽃.화환 배달 꽃.화환을 만들어', '0'], ['부동산 중개소에서 계약 및 중개등을 통해 중개수수료받음', '6'], ['의원에서 외래환자 위주로 내과진료', '7'], ['기타 운송장비 임대업 운전자없이 중장비 임대', '11'], ['사업장에서 소매업자를대상으로 등,갓 등 커버도매', '0'], ['매장에서 일반소비자에게 도너츠소매', '1'], ['축산물판매업  식육식당', '1'], ['주유소에서 고객대상으로 윤활유,석유,경유판매', '0'], ['사업장에서 의료기기 도매', '0'], ['음식점에서 접객시설을 갖추고 보리밥제공', '1'], ['도축된고기를 일반소비자를 대상으로 부산물을', '0'], ['사업장에서 산업사용자에게 종시산업용기계', '0'], ['가게에서 접객시설갗추고 닭', '1'], ['상가에서 소매업자에게 도매 니트T셔츠', '0'], ['미장원에서 두발미용서비스제공 머리자르기,염색', '3'], ['용달화물자동차로 고객의 요청으로 화물운송서비스', '4'], ['사업장에서 고객대상 종교서적', '0'], ['사업장에서 학생대상으로 수학 가르침', '5'], ['사업장 접객시설을 갖추고 치킨', '1'], ['주유소 차량 보일러 유류판매', '0'], ['매장에서 도소매 컴퓨터주변기기', '0'], ['개별화물자동차로 고객의 요청으로 화물운송서비스', '4'], ['개별화물자동차로 고객의 요청으로 화물운송서비스', '4'], ['음식 배달 치킨', '1'], ['음식점에서 접객시설을 갖추고 삼겹살구이', '1'], ['미용업 일반인대상으로 속눈썹연장시술', '3'], ['사업장에서 접객시설을갖추고 치킨제공', '1'], ['사업장에서 일반인을 대상으로 컴퓨터게임방 운영', '9'], ['용달화물자동차로 고객의 요청으로 화물운송서비스', '4'], ['화장품판매점에서 일반소비자에게소매 각종화장품판매', '0'], [' 육류구이 ', '1'], ['사업장에서 고객의 의뢰에 의해 이삿짐운송', '4'], ['부동산중개소에서 부동산업 부동산중개업', '6'], ['사무실에서 소비자에게 잡화 온라인소핑몰', '0'], ['세탁소 일반대중에게 세탁물을 받아 드라이크리닝', '3'], ['매장에서 산업사용자에게 베어링 도매', '0'], ['학원에서 학생대상 태권도', '5'], ['목욕탕에서 일반인(장애인)대상으로 목욕서비스제공', '3'], ['개별화물자동차로 고객의 요청으로 화물운송서비스', '4'], ['철강 입고, 절단 ', '2'], ['노래방에서 음향시설을 갖추고 노래연습장', '9'], ['매장에서 소비자의 요구에 주방가구', '0'], ['관공계에 입찰 사업장에서 조경사업', '11'], ['염화코린 원자재구입, 혼합 ', '2'], ['일반의원에서 외래환자 대상으로 정신과치료', '7'], ['제조 임가공 철구조물', '2'], ['음식점에서 접객시설을 갖추고 소고기해장구,수육판매', '1'], ['영업장에서 일반인을 대상으로 휴대폰수리', '3'], ['음식점에서 접객시설을 갖추고 치킨요리제공', '1'], ['어린이짖ㅂ에서 관할구청에서 인가받아 취학전 영유아보육 서비스', '7'], ['음식점에서 접객시설을 갖추고 백반전문', '1'], ['도장에서 학생들을 대상으로 태권도 강습', '5'], ['민,형사 사건 의뢰인을 변호하여 소송수행,법률상담', '10'], ['사업체에서 일반인대상 소매 가전제품', '0'], ['철자재 용접 선박사다리임가공', '2'], ['서비스 고객의요청에의해 화물자동차운송주선', '4'], ['지역농협에서 일반고객대상으로 자금.여수신', '13'], ['편의점에서 체인계약을 체결하여 식료품, 담배 및 각종상품소매', '0'], ['음식점에서 접객시설을 갖추고 삼겹살판매', '1'], ['커피숍에서 접객시설을 갖추고 커피전문', '1'], ['미장원에서 고객을대상으로 염색', '3'], ['접객시설을갖추고 초밥판매  ', '1'], ['사무실에서 고객의 의뢰에 의해 인테리어 자문서비스', '10'], ['매장에서 접객시설을 갖추고 회초밥 판매', '1'], ['건강원 음식 양파즙, 배즙', '2'], ['편의점 체인계약을 체결하고 음식료품 위주 소매', '0'], ['사업장에서 빙수, 아이스크림, 커피, 디저트 제공 커피,음료', '1'], ['교재를가지고 사업자를방문하여 영어교재소매', '0'], ['철 CNC가공 통신부품 1차가공', '2'], ['일반 소비자에게 매장에서 햄버거등 프랜차이즈 체인 음식점', '1'], ['카페에서 접객시설 갖추고 커피', '1'], ['미장원에서 두발미용서비스 파마 컷트', '3'], ['개별화물자동차로 고객의 요청으로 화물운송서비스', '4'], ['초등학교에서 초등교육 교육제공', '5'], ['사업장에서 일반인을 대상으로 한복 대여', '11'], ['홈쇼핑방송 용역대행  ', '0'], ['산업사용자에게 도매 미싱판매', '0'], ['전기자재 가공조립 수배전반', '2'], ['벼보리 도정 쌀,보리생산', '2'], ['기관과 계약에 의한 구내식당  ', '1'], ['사업장에서 제조시설을갖추고 떡판매', '2'], ['마을금고에서 일반및기업대상으로 금융서비스', '13'], ['사업장에서 일반대중및기업대상 보험금산정및손해평가', '13'], ['사업장에서 고객의 의뢰를 받아 부동산투자개발', '6'], ['사업장에서 소매 중고오디오', '0'], ['인쇄정보산업협동조합 인쇄업체이익향상을위한단체 인쇄업체지원', '3'], ['음식점업  집단급식', '1'], ['개인택시로 일반인을 대상으로 승객운송서비스', '4'], ['음식점에서 접객시설갖추고 백반.찌개', '1'], ['어린이집에서 보호자로부터 위탁받아 영.유아 보육', '7'], ['여인숙에서 개별룸서비스 없이 일반인 대상으로 숙박 서비스 제공', '1'], ['개별화물자동차로 고객의 요청으로 화물운송서비스', '4'], ['제과점에서 접객시설을 갖추고 빵, 도너츠', '1'], ['주점에서 접객요원없이 맥주,양주서비스', '1'], ['  농약및 비료판매', '0'], ['사업장에서 고객에게 퓨전(한식)', '1'], ['사업장에서 가방디자인해서 제조해서판매', '2'], ['사업장에서 고객에게 커피 음료 제공', '1'], ['사업장에서 미용실대상으로 미용재료', '0'], ['사업장에서 옷으로 세탁 및 다리미 서비스', '3'], ['음식점에서 접객시설을 갖추고 한정식제공', '1'], ['현장에서 건물에배관공사 냉.난방공사', '8'], ['매장에서 일반인대상으로소매 티셔츠,바지판매', '0'], ['음식점에서 접객시설을 갖추고 설렁탕 해장국', '1'], ['사업장에서 고객의 요청에 의해 나무가구 제작', '2'], ['사업장에서 고객을 대상으로 도매 바닥재', '0'], ['미장원에서 두발미용 서비스제공 커트,파마,염색', '3'], ['매장 일반인대상 생활가전잡화판매', '0'], ['부동산중개소 중개수수료 부동산중개서비스', '6'], ['발달장애아동대상 센타 언어.미술치료', '7'], ['부동산에서 고객을 대상으로 부동산중개', '6'], ['교회 기독교계종교활동 종교서비스', '3'], ['영업장에서 주유기로 차량에게가스제공', '0'], ['한복지를 재단재봉하여 한복', '2'], ['음식점에서 접객시설을 갖추고 칼국수', '1'], ['사업장에서 소매 치과재료', '0'], ['매장면적165제곱미터미만시설을갖추고 사업장에서 음식료품위주소매', '0'], ['건축현장에서 고객의 의뢰를 받아 실내인테리어,바닥타일시공', '8'], ['개인택시로 일반인을 대상으로 승객운송서비스', '4'], ['사업장에서 일반고객대상으로 숙박서비스', '1'], ['사업장에서  음악연습실', '6'], ['사무실에서 고객의 요구에 따라 온라인 항공권 서비스(국내)', '11'], ['사업장에서 고객에게 철물 도매', '0'], ['카센타 자동차의 특정부분만을 전문적으로 수리 경정비,타이어 내장수리등 서비스제공', '3'], ['마트 일반인대상으로 음식품위주판매', '0'], ['사업장에서 원단재단재봉 의류제조', '2'], ['사업장에서 제조업 회사본사관리 회사경영관리', '10'], ['비가공수산물 소매업자에게대량으로도매 광어,우럭', '0'], ['가게에서 일반인대상으로 소매', '0'], ['보험대리점 보험사업자를 대리하고 알선 보험 계약대리 중개', '13'], ['일송에서 접객시설을갖추고 해물찜요리', '1'], ['일반인을 대상으로 매장에서 벽지,장판,판매', '0'], ['매장에서 일반소비자에게 아동복판매', '0'], ['개별화물자동차로 고객의 요청으로 화물운송서비스', '4'], [' 부동산 중개업 ', '6'], ['음식점에서 접객시설을갖추고 치킨판매', '1'], ['편의점에서 체인계약하여 음식료품위주', '0'], ['매장에서 접객시설을갖추고 커피', '1'], ['매장에서 일반인대상으로 옷만들기교육(공방)', '5'], ['한국식 음식 제공  ', '1'], ['용달화물자동차로 고객의 요청으로 화물운송서비스', '4'], ['핸드메이드 악세사리(귀걸이,키링,책갈피) 전자상거래 소매업  ', '2'], ['매장에서 일반소비자대상 휴대폰', '0'], ['택배  ', '4'], ['가용주점에서 접객요원없이 술판매  ', '1'], ['사업장에서 고객을대상으로 신문보급', '0'], ['자동차 유리 자동차 내장품 및 부품을 도.소매 자동차 유리 등', '0'], ['일반 한식집에서 접객실을 갖추고 송어회, 회덮밥', '1'], ['사무실에서 계약에의해 부동산중개', '6'], ['부동산중개소 일반인을 상대로 계약 중개 서비스', '6'], ['제조업 고객의 요청에 전복가두리제작', '2'], ['사업장에서 제조 가구손잡이', '2'], ['부동산 사무실에서 고객을 대상으로 부동산 중개서비스', '6'], ['사무실에서 회원들을 대상으로 전통시장활성화', '3'], ['컴퓨터 프로그래밍 서비스', '12'], ['중국집에서 접객시설을 갖추고 중식판매', '1'], ['원단 재단재봉하여 숙녀복제조', '2'], ['동전식세차장에서 일반소비자가 세차', '3'], ['편의점에서 체인계약을 체결하여 음식료품,담배', '0'], ['가게에서 일반인등 대상으로 각종 채소류등을 소매', '0'], ['개별화물자동차로 고객의 요청으로 화물운송서비스', '4'], ['교회에서 기독교계통 종교서비스', '3'], ['음식점에서 접객시설을 갖추고 한식', '1'], ['마트에서 일반인들을 대상으로 슈퍼마켓', '0'], ['편의점 체인계약을 체결하여 식음료품 소매', '0'], ['개인택시로 일반인을 대상으로 승객운송서비스', '4'], ['갤러리에서 일반인들에게 점토작품전시및 판매', '0'], ['게임장 무인기계로 인형뽑기', '9'], ['주점에서 접객요원및 무도시설없이 소주 맥주', '1'], ['상가에서 일반소매업자에게 산업용바퀴를도매(공구)', '0'], ['  체인화 편의점', '0'], ['과일등을 가지고 가열,압축하여 과일즙', '2'], ['음식점에서 접객시설을 갖추고 초밥,이자카이', '1'], ['매장 일반 소비자에게 소매 스카우트단복', '0'], ['사업체에서 소매 전동공구', '0'], ['초등학교 초등학생 대상으로 교육서비스 제공', '5'], ['사업장에서 재생할수있는고물을 수집,판매', '0'], ['매장에서 일반인을 대상으로 유아아동복', '0'], ['사업장에서 일반인 기업대상 보험금평가', '13'], ['간이주점에서 접객시설을갖추고 맥주.안주', '1'], ['철 절삭가공 기계부품', '2'], ['곡물 제조시설을 갖추고 제분', '2'], ['사업체에서 자동차 내장품 부품을 일반인을 대상으로 판매', '0'], ['학원에서 초,중.고생에게 국어,영어,수학지도', '5'], ['용달화물자동차로 고객의 요청으로 화물운송서비스', '4'], ['사업장에서 의복 악세사리 도매', '0'], ['고물상에서 수집하여 고물,폐지등', '0'], ['분식집에서 접객시설을 갖추고 김밥,떡볶이', '1'], ['용달화물자동차로 고객의 요청으로 화물운송서비스', '4'], ['영업장에서 일반소비자에게 옹기그릇판매', '0'], ['주점에서 접객요원및 무도시설없이 호프,맥주,소주', '1'], ['교회 종교활동 기독교', '3'], ['미용실 일반인대상 컷트, 펌 제공', '3'], ['식당에서 접객시설을 갖추고 소고기국밥 판매', '1'], ['학원에서 학생들 대상으로 미술', '5'], ['철판 조립 자동화설비및 방진장치', '2'], ['부동산중개소에서 계약및중개등을통해수수료받음 부동산거래중개서비스', '6'], ['공사현장에서 의뢰를 받아 냉.난방 공사업', '8'], ['미용실에서 일반고객에게 두발미용서비스 파마 커트', '3'], ['소주방에게 접객요원및무도시설없이 맥주,소주', '1'], ['사업장에서 산업사용자에게 플라스틱 필름', '0'], ['사내스튜디오 영상장비등으로 광고영화관련제작및영상그래픽', '12'], ['민박집에서 숙박시설을 갖추고 숙박서비스', '1'], ['고객을 대상으로 접객시설을 갖추고 소주, 맥주', '1'], ['작은도서관에서 입주민을 위해 도서대출', '3'], ['병원에서 환자대상으로 치과진료', '7'], ['부동산업 일반인에게 부동산중개 및 컨설팅', '6'], ['사업장에서 일반인을 대상으로 아이스크림 판매', '0'], ['구입한 철강을 기계로자르고 강하게열처리 열처리', '2'], ['알루미늄 가공하여 광고물 판제작', '2'], ['타포린캔포스직물을 재봉재단하여 겉덮개 제조 천막푸대', '2'], ['주점에서 접객시설을 갖추고 맥주 소주', '1'], ['음시점에서 주문에의하여 파티음식', '1'], ['과일 가게에서 일반소비자 대상으로 과일 소매', '0'], ['교회에서 기독교계통 종교활돌 종교서비스', '3'], ['사업장에서 고객의 요청에 홈페이지 제작', '12'], ['전자상거래 소매업  ', '0'], ['사업장에서 드론을 이용 드론 강습', '5'], ['금형강(MAK80외), 금형부재료CU,Fe CNC 사출금형', '2'], ['음식점에서 접객시설을 갖추고 생선회', '1'], ['음식점에서 접객시설을 갖추고 양꼬치구이 판매', '1'], ['사업장에서 종자를 재배하여 종자 판매', '0'], ['종합식품센타 소매업 음식료품', '0'], ['사업장에서 의뢰를 받아서 조명장치 도매업', '0'], ['음식점에서 접객시설을갖추고 죽판매', '1'], ['구입한 철판을 기계로 절단하여 제작 소형기계', '2'], ['노래방에서  노래방', '9'], ['오일장 소비자를 대상으로 과일류', '0'], ['사업장에서 컴퓨터수리 수리서비스', '3'], ['횟집에서 접객시설을갖추고 한국식회판매', '1'], ['채소가게에서 다른업체에게 도매 배추 무', '0'], ['커피숍에서 일반고객들에게 커피판매', '1'], ['과자점에서 일반인 대상 빵류, 과자류 및 당류 소매', '0'], ['약국 일반인에게 조제, 약 판매', '0'], ['영업장에서 고객을 대상으로 도매 벽돌', '0'], ['철판, 알루미늄 제품성형press가공, press물(세척) ', '2'], ['재래시장 상인들을 위하여 사무실에서 상가임대', '6'], ['어린이집에서 보호자로 부터 위탁받아 취학전 유아보육', '7'], ['사업장에서 접객시설을 갖추고 동태찜', '1'], ['음식점에서 접객시설갖추고 동태찜', '1'], ['꽃가게에서 일반소비자에게 꽃', '0'], ['사업장에서 사무실이용자를 위하여 사무용건물관리', '6'], ['호프전문점에서 접객시설을 갖추고 생맥주 제공', '1'], ['편의점에서 체인계약을 체결하고 음,식료품위주 판매', '0'], ['체육관 학생들에게 태권도교육', '5'], ['사업장에서 화물운송업자와화주간에 화물운송', '4'], ['매장에서 일반소비자를 대상으로 가정및 개인용 의료기소매', '0'], ['영업장에서 산업사용자에게 엔진오일', '0'], ['매장에서 일반소비자 침구류', '0'], ['구입한 조기와 소금 염장 가공하여 굴비 제조', '2'], ['사업장에서 부동산알선중개서비스 부동산중개', '6'], ['매장에서 일반고객을대상으로 건강베개,건강식품소매', '0'], ['음식점에서 접객시설을 갖추고 삼겹살 제공', '1'], ['교회 기독교 종교활동 종교서비스', '3'], ['매장에서 일반인 대상 건강보조식품소매', '0'], ['개인택시로 일반인을 대상으로 승객운송서비스', '4'], ['인쇄회로기판 실장하여 인쇄회로기판', '2'], ['음식점에서 접객시설을 갖추고 돈까스 제공', '1'], ['카센타 차량의 특정부분만을 전문적으로 수리 라이닝교체, 오일교환', '3'], ['자동차 부품 일반인을 대상으로 윈도 브러시 세정제등 판매', '0'], ['출력,제본.복사  ', '11'], ['H빔,철판 절단 ', '2'], ['매장에서 일반인들을 대상으로소매 빵판매', '0'], ['사업장에서 기독교 협회 회의, 협력단체', '3'], ['커피숍에서 접객시설을 갖추고 원두커피 제공', '1'], ['일반소비자에게 소매 캐주얼 의류 판매', '0'], ['미용실 머리미용서비스 염색,파마,커트', '3'], ['매장에서 일반인을 대상으로 안경소매', '0'], ['주차장운영  유료 주차장 운영', '4'], ['학원에서 초중고학생대상 영어교육', '5'], ['개인택시로 일반인을 대상으로 승객운송서비스', '4'], ['  방송프로그램제작', '12'], ['영업장소에서 접객시설을 갖추고 술 안주 판매', '1'], ['매장에서 일반소비자 여성의류판매', '0'], ['철 선반밀링 전동기,발전기제어시스템', '2'], ['사무실에서 청소년,아동 대상으로 심리상담', '7'], ['사기치아의원자재 치과보철의뢰, 모델작업 ', '2'], ['배추, 무 입고, 세척 ', '2'], ['화물터미널에서 수출입 업체를 대상으로 운송 및 통관대행 서비스', '4'], ['주점에서 접객시설을갖추고 주류판매', '1'], ['개인택시로 일반인을 대상으로 승객운송서비스', '4'], ['음료점에서 접객시설을 갖추고 커피,주스', '1'], ['사업장에서 수입하여 업체에 도매 문구', '0'], ['은행에서 일반대중 및 기업대상 금융여수신', '13'], ['영업장에서 고객의 요구에 따라 의안 제조(의료기기 제조업)', '2'], ['매장에서 일반인대상 칼국수,쭈꾸미', '1'], ['사업장에서 일반인을 대상으로 복권판매', '9'], ['치과에서 환자를대상으로 치아교정,틀니 진료서비스', '7'], ['일반화물자동차로 고객의 요청으로 화물운송서비스', '4'], ['매장에서  곱창 전골', '1'], ['접객시설을 갖추고 대중에게 술 판매  ', '1'], ['사업장에서 의뢰인 경영컨설팅', '10'], ['미용실에서 고객을 대상으로 파마,염색등', '3'], ['자동화기계제작 설계, 자재구입 ', '2'], ['스텐레스 절단 가공 머플러', '2'], ['매장에서 고객을 대상 의류', '0'], ['가게에서 일반소비자에게 소매 가정용저울판매', '0'], ['떡집에서 일반인을 대상 떡 제조 판매', '2'], ['학원에서 일반인을 대상으로 연기학원', '5'], ['개별화물자동차로 고객의 요청으로 화물운송서비스', '4'], ['복합상가관리소에서 입주자및상가를위해 관리서비스제공', '6'], ['부동산중개사무소에서 부동산중개및계약수수료받음 토지임야상가건물아파트등중개', '6'], ['사업장에서 고객이의뢰한택배업 택배업', '4'], ['일반인대상으로 만화방에서 만화책', '11'], ['요양센터에서 가정에 요양보호사파견', '7'], ['음식 조리 및 배식 구내식당', '1'], ['소아과 병원에서 소아, 청소년 대상으로 외래 진료 서비스', '7'], ['사업장에서 배달을 통하여 족발', '1'], ['미장원에서 고객대상으로 커트 파마 염색서비스', '3'], ['민박업  ', '1'], ['남성의류판매 고객에게 남성의류판매', '0'], ['어린이집에서 관할구청인가받아 취학전아동보육서비스', '7'], ['SUS(스테인레스), 철판 재료입고, 절단 실드캔(휴대폰부품)', '2'], ['영업장 의뢰를 받아 금세공', '2'], ['매장에서  찜요리', '1'], ['건설현장을 의뢰 받아서 안전성관리 분석서비스', '10'], ['택지를 개발하여 사업주대상으로 택지분양 판매', '6'], ['현장에서 고객의 의뢰를 받아 조경', '8'], ['개인택시로 일반인을 대상으로 승객운송서비스', '4'], ['음식점에서 접객시설을갖추고 백반제공', '1'], ['학원에서 학생들을 대상으로 수학교육', '5'], [' 당구장운영 ', '9'], ['유치원 관할지역 교육청의 인가를 받아 취학전 아동을 교육', '5'], ['비알콜 음료점업  ', '1'], ['미장원에서 두발미용서비스제공 컷트,염색', '3'], ['카센타에서 모든차량대상 타이어.오일교환 전문수리', '3'], ['사업장에서 일반인대상 속눈썹서비스', '3'], ['노래방에서 시설을 갖추고 노래방운영', '9'], ['자동차흡차음재 주문,오더접수, 원료외구입배합 자동차내장제(흡차음제) 엔진소음 흡차음제', '2'], ['일반고객소매업을 사업장에서 장판,비닐코팅필름', '0'], ['어학원에서 학생들대상으로 영어회화.문법강습', '5'], ['음식점에서 접객시설을 갖추고 국구, 칼국수', '1'], ['학원에서 학생위주로 영어교육', '5'], ['개별화물자동차로 고객의 요청으로 화물운송서비스', '4'], ['동물 예방접종 및 치료  ', '10'], ['사업장에서 고객의 요구에 따라 조경건설 공사', '8'], ['개인택시로 일반인을 대상으로 승객운송서비스', '4'], ['부동산중개소에서 계약에의거 부동산중개알선', '6'], ['고철 비철 도 소매 매입판매', '0'], ['매장에서 소비자에게 의류판매', '0'], ['분식점에서 접객시설을 갖추고 분식', '1'], ['학원에서 일반인을 대상으로 필라테스 교습', '5'], ['미용실에서 두발미용서비스제공 퍼머,컷트 등', '3'], ['치과에서 외래환자들을대상 치과진료서비스', '7'], ['사업장에서 어린이대상 자동차시뮬레이션 게임', '9'], ['교회에서 일반인 대상 기독교계통 종교활동 서비스', '3'], ['빌딩관리사무소 임대인을 위하여 빌딩관리 서비스', '6'], ['음식점에서 접객시설을 갖추고 삼겹살 등 육류 제공', '1'], ['음식점에서 접객시설을 갖추고 조개구이', '1'], ['세차장에서 차량을대상으로 자동차세차', '3'], ['음식점에서 접객시설을 갖추고 김치찌개 백반', '1'], ['사업장에서 고객의의뢰에따라 유지보수', '8'], ['영업장에서 고장난차를가지고 자동차 특정부분정비', '3'], ['용달화물자동차로 고객의 요청으로 화물운송서비스', '4'], ['철 선박가공 후렌지', '2'], ['건조된 수산물을 일반소비자에게 판매 건어물', '0'], ['건설현장에서 조경자재를 가지고 조경공사', '8'], ['사업장에서 고객요청으로 설비공사', '8'], ['치킨  ', '1'], ['미용실 고객요청에의해 파마.컷트', '3'], ['플라스틱원료 녹여서추출하여 친환경수지', '2'], ['부동산중개소 계약및중개등을통해 수수료받음 중개서비스', '6'], ['금속 절삭가공 기계부품', '2'], ['음식점에서 접객시설을갖추고 순대국', '1'], ['사용자를대상으로 연수원에서 연수원시설대여', '5'], ['체인계약을 체결하여 편의점에서 음식료품', '0'], ['점포 여성의류소매 정장,블라우스', '0'], ['세탁소에서 일반인을대상으로 의류수선 세탁', '3'], ['사업장에서 건축업자들에게 판넬도매', '0'], ['정육점에서 방문고객에게 소고기 돼지고기', '0'], ['주택재개발 정비사업조합에서 조합원을 대상으로 재개발논의', '6'], ['주점에서 접객시설을갖추고 막걸리판매', '1'], ['농림수산행정 원산지표시. 농약 잔류물 검사등', '14'], ['커피숍에서 접객시설을갖추고 커피,음료', '1'], ['에어컨 설치 서비스 에어컨설치및 도.소맨', '8'], ['철판 자재입고, 가공 ', '2'], ['기름 제조가공공장에서 제조시설을 갖추고 기름제조', '2'], ['일반의원에서 외래환자 위주로 진료행위', '7'], ['소매업자에게 사업장에서 우유,유지류', '0'], ['건강원에서 중탕기에서 가열농축하여 건강보조식품', '2'], ['용달화물자동차로 고객의 요청으로 화물운송서비스', '4'], ['고객에게 의뢰를 받아 에어컨설치공사', '8'], ['철 기계제작 문샷시', '2'], ['철 평면연삭 기계부품', '2'], ['식당에서 접객시설을갖추고 등갈비', '1'], ['개별화물자동차로 고객의 요청으로 화물운송서비스', '4'], ['사업장에서 일반인 대상으로 전자상거래소매', '0'], ['치과에서 외래환자위주로 치과치료', '7'], ['김밥집에서 접객시설을 갖추고 각종 김밥 라면등 판매', '1'], ['노래방 노래방기기로 노래서비스', '9'], ['영업장에서 고객의 요청에 의해 옷수선', '3'], ['매장에서 일반소비자에게 소매 스킨,로션등', '0'], ['한의원에서 외래환자 위주로 침 뜸 물리치료 한약제조', '7'], ['개인택시로 일반인을 대상으로 승객운송서비스', '4'], ['사업장에서 실을이용하여 의류부분품작업', '2'], ['매장에서 고객대상 부동산', '6'], ['한약방에서 한약재이용 한약다림', '0'], ['화장품,비누공방 소매 비누 화장품', '0'], ['가요주점에서 접객시설을 갖추고 주류 양주 판매', '1'], ['음식점에서 접객시설을 갖추고 한식제공', '1'], ['용달화물자동차로 고객의 요청으로 화물운송서비스', '4'], ['사업장에서 산업사용자에게 건축자재도매', '0'], ['주유소 급유시설을갖추고 등유경유', '0'], ['쌀을 가지고 일반인대상으로 떡제조', '2'], ['꽃집에서 소비자에게 소매 화분', '0'], ['커피숍에서 접객시설을 갖추고 커피 제공', '1'], ['목제 절단, 접합 책꽂이', '2'], ['일반인대상으로 매장에서 가방,의류등판매', '0'], ['턴키에서 계약에의해포장서비스제공 의류검수,포장', '11'], ['사업장에서 일반인대상 스포츠마사지서비스', '3'], ['사업장에서 고객의 요구에 따라 마스크 포장', '11'], ['사업장에서 재활용품수집 수거 분리하여 공병,비철,금속', '0'], ['거즈원단, 탈지 면사, 거즈원단 거즈,붕대', '0'], ['음식점 접객시설 한삭', '1'], ['일반소비자에게 보급소에서 신문배달', '0'], ['가게에서 소비자를대상으로소매 화분,꽃', '0'], ['산업사용자에게 사업장에서 솔비톨.포도당도매', '0'], ['음식점에서 접객시설을갖추고 한식제공', '1'], ['영업장에서 일반인을대상으로 주류,안주 판매', '1'], ['녹차잎 가공 녹차 및 발효차', '2'], ['미용실 서비스 펌 ,컷트', '3'], ['LPG를 일반인에게 판매 가정소비용 가스', '0'], ['사업장에서 산업사용자로부터의뢰받아 중장비기계수리', '2'], ['매장에서 접객시설갖추고 피자,파스타제공', '1'], ['음식점에서 접객시설을 갖추고 일반 한식 제공', '1'], ['옷수선점에서 고객을대상으로 헌옷,새옷 리폼등', '3'], ['태권도장 학생들에게 태권도', '5'], ['건설업체 전문직별건설업자가 상업용건설', '8'], ['사업장에서 일반소비자에게 가스,기기', '0'], ['가게에서 일반 소비자를 대상으로 닭', '0'], ['사업장 고객대상 사업지원', '11'], ['민박집에서 일반인을 대상으로 숙박서비스제공', '1'], ['일반소비자에게 소매 매장에서 전기용품판매', '0'], ['일반여행사에서 관광객을 대상으로 국내여행 편의를 제공', '11'], ['편의접 고객대상 라면.과자판매', '0'], ['배달 위주로 바베큐 오리 삼겹살 제공  ', '1'], ['음식점 접객시설 갖추고 해산물,소주,맥주', '1'], ['법률사무소에서 의뢰인을 대리하여 소송,변호,이의신청', '10'], ['영업장에서 의뢰인에게 소형가구제조업', '2'], ['복사점에서 일반인대상으로 복사 및 제본', '11'], ['매장에서 고객주문 마카롱제조판매', '1'], ['간이음식 조리 제공  ', '1'], ['영업장에서 시설을 갖추고 노래연습장 운영', '9'], ['식당에서 접객 시설을 갖추고 곰탕, 갈비탕 제공', '1'], ['쇠 금속가공 금형부품제조', '2'], ['개인택시로 일반인을 대상으로 승객운송서비스', '4'], ['음식점에서 접객시설을 갖추고 돼지국밥', '1'], ['한의원 침, 뜸, 약제조 일반손님에게 제공', '7'], ['일반소비자에게 소매 롯데마트에서 귀금속', '0'], ['고객을 대상으로 서비스 손해사정', '13'], ['노동조합 근로조건의 유지, 개선을 위하여 근로자의 경제적, 사회적 지위향상제공', '3'], ['팬션 일반일들에게 숙박제공', '1'], ['모텔 개별 룸서비스없이 일반인대상으로 숙박서비스', '1'], ['교회에서 기독교계통 종교활동 종교서비스', '3'], ['사무실에서 의용소방대원대상으로 회원모임', '3'], ['학원 학생대상으로 국,영,수학교습', '5'], ['용달화물자동차로 고객의 요청으로 화물운송서비스', '4'], ['의료기 상사에서 전자상거래 의료기기,의료용품판매', '0'], ['일반화물자동차로 고객의 요청으로 화물운송서비스', '4'], ['수원한의사협회 협회비로운영 조합원권익보호 행정업무', '3'], ['매장에서 소매 조명기구', '0'], ['매장에서 일반소비자들에게 건어물판매', '0'], ['사업장에서 제조 LED전광판', '2'], ['가게에서 일반인 대상으로 중고자동차 판매 자동차 중고 매매', '0'], ['사업장에서 배를 이용하여 중고차 수출', '0'], ['사업장에서 사용자를 대상으로 녹음실 대관', '12'], ['매장에서 소매업자에게 도매 청과류', '0'], ['구내식당에서 음식을 조리하여 식사제공', '1'], ['방향제  ', '0'], ['사업장에서 고객 요청에 따라 여행 알선 서비스', '11'], ['음식점에서 접객시설을 갖추고 매운탕 판매', '1'], ['커피가공업,차류가공업,인삼식품제조업  ', '2'], ['꽃집에서 일반인을 대상으로 생화 식물판매', '0'], ['사업장에서 아파트 주상복합 전기공사업', '8'], ['매장에서 일반인을대상으로 서적잡지류참고서판매', '0'], ['사진관에서 일반인대상으로 사진촬영및 현상서비스', '10'], ['건축자재 고객의 의뢰를 받아 금속구조물창호공사', '8'], ['사업장에서 제조 유기질및석회질 비료', '2'], ['과학기기 제조 과학기기 X-ray', '2'], ['사업장에방문하여 고객의요청에따라 전기제어프로그램설치', '12'], ['당구장에서 일반인을 대상으로 당구게임서비스', '9'], ['현장에서 주문에 따라 태양광설치공사(내부전기공사)', '8'], ['건강원에서 주문을 받아 칡즙 호박즙', '2'], ['유료주차장에서 일반차량을대상으로 주차장운영업', '4'], ['매장에서 노래방기기를갖추고 노래연습', '9'], ['편의점에서 체인계약을 체결하여 식료품, 담배소매', '0'], ['상가점포를가지고 임대를통하여 오피스텔임대', '6'], ['사업장에서 비주거용건물 임대', '6'], ['약국에서 일반인을 대상으로 드링크 및 처방전 조제', '0'], ['음식점에서 접객시설을 갖추고 회 및 게 판매  ', '1'], ['영업장 접객시설을 갖추고 음식제공', '1'], ['주방용품을 일반소비자에게 주방용품판매', '0'], ['사업체에서 일반인을 대상으로 세탁', '3'], ['식품  ', '0'], ['사무실에서 임대업자를 대상으로 입대업', '6'], ['용달화물자동차로 고객의 요청으로 화물운송서비스', '4'], ['개인택시로 일반인을 대상으로 승객운송서비스', '4'], ['문구점 학생,일반인대상 각종 문구류 판매', '0'], ['음식점에서 접객시설을갖추고 갈비판매', '1'], ['사업장에서 일반인을 대상으로 화장품', '0'], ['매장에서 일반인을 대상으로 페인트 소매', '0'], ['사업장에서 일반인대상 사진찰영.현상서비스드', '10'], ['알루미늄 SUS 주물 샌댕작업 알루미늄주물 주조', '2'], ['학원에서 학원생대상 한자교육', '5'], ['약국에서 처방전에의한 약,의약품', '0'], ['개별화물자동차로 고객의 요청으로 화물운송서비스', '4'], ['정제수, 글리세린 입고, 계량 ', '2'], ['일반인에게 안주를만들어 술과.음식제공', '1'], ['매장에서 소매업 여성의류', '0'], ['비경화고무 주문에의한 생산 벨트,벨트', '2'], ['다방에서 접객시설을 갖추고 커피,생강차', '1'], ['일반인을 대상으로 교육원에서 영어교습', '5'], ['커피숍에서 접객시설을갖추고 커피', '1'], ['영업사원을 두고 사업장에서 신차 판매', '0'], ['음식점에서 접객시설을 갖추고 오리탕제공', '1'], ['한의원 외래환자위주로 참.한약', '7'], ['피시방에서 시설을 갖추고 컴퓨터방 서비스', '9'], ['영업장 고객대상 이삿짐센터', '4'], ['매장에서(3000제곱미터미만) 일반소비자에게소매 각종주방용품,잡화판매', '0'], ['사업장에서 산업사용자에게 화공약품', '0'], ['매장에서 소매업자대상으로 자동차용부품', '0'], ['사업장에서 음식을 조리하여 공장급식 제공', '2'], ['사무실에서 고객을 대상으로 국내외여행알선', '11'], ['음식점에서 접객시설을 갖추고 장어구이', '1'], ['개별화물자동차로 고객의 요청으로 화물운송서비스', '4'], ['원단 재단, 재봉하여 제조 및 수선 남자용 정장', '2'], ['고시원에서 일반고객대상으로 숙박서비스', '1'], ['미용실에서 일반인을 대상으로 파마.컷', '3'], ['개인택시로 일반인을 대상으로 승객운송서비스', '4'], ['철자제를가지고 절삭 가공을하여 기계부품,자동화기계생산', '2'], ['상가에서 소매업자에게 도매 원피스', '0'], ['잡 방문하여 소비자 의뢰를 받아 Tv부착시공', '3'], ['사업장에서 서비스 세무사서비스', '10'], ['사업장에서 연구 농사작물재배연구', '10'], ['수선 가게에서 고객의 요구에 따라 옷 수선', '3'], ['영업장에서 접객시설을 갖추고 치킨,호프', '1'], ['사업장에서 고객요구에따라 금속창호설치공사', '8'], ['미장원에서 고객을대상으로 커트,파마,염색', '3'], ['요양센터에서 도움을필요로한노인들에게 방문요양서비스', '7'], ['승차권 판매  ', '4'], ['파이프, 철판 설계, 재료수급구입 후레임제작', '2'], ['매장에서 일반인대상으로 스포츠웨어등산복', '0'], ['사업장에서 일반인대상으로 조명,전기용품', '0'], ['매장에서 일반소비자에게 속옷, 내의소매', '0'], ['모텔에서 숙박시설을 갖추고 숙박서비스', '1'], ['애견을 대상으로 애견훈련장에서 애견훈련.', '3'], ['커피전문점에서 접객시설을 갖추고 원두커피 제공', '1'], ['사업장에서 일반인에게 치과보철제조', '2'], ['체인편의점에서 고객에게 과자,음료등', '0'], ['음식점 접객시설을갖추고 삼겹살', '1'], ['편의점에서 체인계약을 체결하여 음,식료품위주', '0'], ['사업장에서 일반소비자에게소매 퀼트제품', '0'], ['태양광 Sl lngot 기계가공 Sl Seed Rod', '2'], ['부동산중개사무소에서 일반고객을 대상으로 부동산중개서비스', '6'], ['건설현장에서 고객의요청에의해 주거용건물건설업', '8'], ['영업장에서 일반인대상으로 대부채권,매입추심원', '13'], ['제과점에서 접객시설 갖추고 빵, 케익 등 제공', '1'], ['재생플라스틱 용해,압출 알갱이 원료', '15'], ['사업장 온라인으로 생활용품판매', '0'], ['한복가게에서 일반인을 대상으로 한복,제조 판매', '2'], ['치킨전문점에서 접객시설을갖추고 치킨', '1'], ['개별화물자동차로 고객의 요청으로 화물운송서비스', '4'], ['사업장에서 고객의 의뢰로 광고물작성', '10'], ['음식점에서 접객시설을 갖추고 돼지국밥,수육 등을 판매', '1'], ['시설을갖추고 노래방에서 노래방운영', '9'], ['매장에서 일반소비자에게 여성의류판매', '0'], ['세탁소 세탁물수집 세탁, 드라이', '3'], ['농원에서 일반인을 대상으로 소매 난, 꽃, 관상수', '0'], ['유치원에서 취학전 아동을 대상으로 유아교육', '5'], ['비거주용건물(본사사옥)에서 일반인에게 일부분 계약으로 임대 사무실임대', '6'], ['사업장에서 고객에게 도매 화장, 네일악세사리,네일아트용품', '0'], ['부동산에서 고객에게 중개서비스', '6'], ['합성수지  제조 판매', '2'], ['관리사무소에서 입주자를 대상으로 건물 관리서비스', '6'], ['주차장에서 일반차량대상 주차장운영', '4'], ['환경보호단체에서 환경운동 회원관리및운영', '3'], ['사업장에서 고객 의뢰받아 유리 샷시 공사', '8'], ['사업장에서 고객과 화주간의 복합물류 주선업', '4'], ['사업장에서 전자상거래 신발판매', '0'], ['매장에서 일반인대상 아이스크림판매', '0'], ['숙박시설를 갖추고 모텔에서 숙박서비스제공', '1'], [' 접객시설을 갖추고 삼겹살 음식점 ', '1'], ['개인택시로 일반인을 대상으로 승객운송서비스', '4'], ['음식 접객시설을 갖추고 한식', '1'], ['일반음식점 에서 접객시설을 갖추고 떡볶이 오뎅 판매', '1'], ['부동산중개소 계약에 의거 부동산중개 부동산중개서비스', '6'], ['상점에서 여성용의류소매 바지, 자켓', '0'], [' 매장에서 일반인을 대상으로 피부관리 ', '3'], ['사업장에서 의뢰를 받아 구조물관련 설계', '10'], ['부동산에서 계약에 의거하여 부동산 중개 서비스', '6'], ['건설업설비 고객의요청에따라 건물철근토목공사', '8'], ['사업장에서 고객대상으로 차량내.외 왁스 코팅및청소', '3'], ['학원에서 초중고학생에게 영어 수학 전과목 학습제공', '5'], ['사무실에서 입주자 대상으로 건물 관리', '6'], ['반찬  ', '0'], [' 컴퓨터, 사무기기, 전산소모품 ', '0'], ['소비자를대상으로 쌀집에서 양곡소매', '0'], ['고객의요청에따라 사무실에서 신문배송,광고', '12'], ['음식점에서 접객시설을 갖추고 각종분식류 판매  ', '1'], ['개별화물자동차로 고객의 요청으로 화물운송서비스', '4'], ['사업장에서 배양하여 버섯종균생산및재배', '16'], ['사무실에서건강식품 일반소비자대상 건강기능식품', '0'], ['마트에서 일반소비자에게 생활용품위주', '0'], ['가게에서 재래시장에 도매 닭고기', '0'], ['사업장에서 고객의요청에의해 통신장비부품 실장기판', '2'], ['용달화물자동차로 고객의 요청으로 화물운송서비스', '4'], ['용달화물자동차로 고객의 요청으로 화물운송서비스', '4'], ['절 신도들을 대상으로 종교수행 및 기도처', '3'], ['교회 기독교계통 종교서비스', '3'], ['네일샵에서 일반인대상 손톱네일아트', '3'], ['다방에서 접객시설을갖추고 비알콜음료서비스', '1'], ['철판,형강류 용접.사상 해상.육상플랜트', '2'], ['사업장에서 의료용품 인터넷쇼핑몰운영', '0'], ['현장에서 고객의의뢰를받아 주택내,외부공사', '8'], ['장애인부모님모임회 비영리민간업체 장애인복지증진', '3'], ['가구자재  ', '0'], ['조세,세무관련업무 의뢰를받아서 기장대리,세무조정,세무관련업무수행', '10'], ['일반고객에게 영업장에서 주방용품판매', '0'], ['사업장에서 고객을 대상으로 차유리 전문수리', '3'], ['사업장에서 일반인대상 좌훈찜질', '3'], ['매장에서 일반인대상 셔츠 블라우스', '0'], ['부동산 중개 체결 수수료 받음 대지 임야 주택등', '6'], ['접객시설을 갖추고 제과점에서 제과점업', '1'], ['라벨원단 발주, 생산 라벨, 택', '2'], ['빌딩 사업장에서 비주거용 건물 관리', '6'], ['사업장에서 일반소비자대상으로 휴대폰', '0'], ['개인택시로 일반인을 대상으로 승객운송서비스', '4'], ['화원에서 일반인대상 생화，난', '0'], ['매장에서 고객을 대상으로 속눈썹 연장술', '3'], ['철판,쇠 절단,용접 발전소의배관,밸브', '2'], ['사업장에서 입장객을 대상으로 보드게임 등(음료 및 컵라면 무료 제공)', '9'], ['oppmcm, mcm패드 입고, 포장지인쇄 ', '2'], ['음식점에서 접객시설을 갖추고 육류구이', '1'], ['미장원에서 일반 고객을 대상으로 컷트,퍼머,염색 서비스', '3'], ['사업장에서 산업사용자에게 철물공구,잡자재 도매', '0'], ['영업장에서 일반인을 대상으로 부동산 중개업', '6'], ['매장연면적165미만에서 일반인을 대상으로 소매 과장,음료수등', '0'], ['교회에서 종교서비스 기독교', '3'], ['음식점에서 접객시설을 갖추고 칼국수 면요리', '1'], ['써비스 피부미용 피부관리', '3'], ['도매 및 소매업 소매업자에게 농산물을', '0'], ['주점에서 접객요원및무도시설없이 소주,닭도리탕', '1'], ['교회 기독교계통 종교활동', '3'], ['식당에서 접객시설을갖추고 돼지갈비', '1'], ['식당에서 접객시설을갖추고 중식.짬뽕.짜장판매', '1'], ['철재류 절단,용접, 볼트성형 콘베이어 생산', '2'], ['제과점에서 접객시설을 갖추고 빵, 케이크', '1'], ['매장에서 일반인 대상으로 휴대폰 소매', '0'], ['편의점에서 체인계약을체결하여 식료품소매', '0'], ['현대차a/s점에서 일반소비자  대상으로 자동차 전문수리', '3'], ['한문학원에서 학생 일반인 에게 한문 교육 강의', '5'], ['포스코내에 사무실에서 제조업회사본부', '10'], ['접객시설울 갖추고 한식음식점을 운영함  ', '1'], ['절에서 불교계통 종교활동 종교서비스', '3'], ['일반 소매업자에게 사업장에서 동물용의약품 도매', '0'], ['금속. 비금속을 절삭.재단.가공처리 기계부품 제조', '2'], ['부동산 중개소 일반인을 대상으로 부동산 중개 수수료 받음', '6'], ['매장에서 접객시설을 갖추고 치킨,술판매', '1'], ['개인택시로 일반인을 대상으로 승객운송서비스', '4'], ['노래(유흥)주점에서 접객시설을 갖추고 노래, 술', '1'], ['철 절삭가공 산업기계 절삭 가공품', '2'], ['영업장에서 입장객대상 보드게임서비스', '9'], ['일반도로 아스팔트 포장및 도로 관련 구조물 설치 각종도로,인도,보도 공사', '8'], ['현장에서 수주및계약에의해 소방시설공사검사', '8'], ['주점에서 접객요원 없이 생맥주', '1'], ['의류,실 기계로직접수를넣어 기계자수', '2'], ['농기계 부품을 가지고 마을 주민을 대상으로 경운기, 트렉타 수리', '2'], ['의류점 일반인 대상 남녀의류', '0'], ['매장에서 일반소비자에게 소매 여성겉옷', '0'], ['이용원에서 일반인대상 커트,면도', '3'], ['음식점에서 접객시설을 갖추고 돼지고기 막창', '1'], ['개인택시로 일반인을 대상으로 승객운송서비스', '4'], ['금은방에서 일반소비자에게 귀금속 판매', '0'], ['광산에서 채취한 석회를 사무실에서 포스코와 한전에 석회 납품', '0'], ['고객이원하는장소에서 고객의요청으로 방역,소독서비스', '11'], ['매장에서 소비자에게 야채,과일소매', '0'], ['사업장에서 온라인으로 핸드폰케이스 소매', '0'], ['공장 시설을 가추고 고객의 요구에 따라 자동차부분정비 경정비', '3'], ['사업장에서 고객대상으로 조명제조,판매', '0'], ['매장에서 일반소비자대상 중고의류, 장난감 등', '0'], ['사업장에서 영농조합법인에 비료, 농약 유통', '0'], ['가게에서 소매업자에게 김도매', '0'], ['영업장에서 고객의요청에따라 공인중개업', '6'], ['용달화물자동차로 고객의 요청으로 화물운송서비스', '4'], ['편의점에서 일반소비자를대상으로 음료식품', '0'], ['사업장에서 고객의요청에 따라 초경공구,합금제조', '2'], ['용달화물자동차로 고객의 요청으로 화물운송서비스', '4'], ['화물  ', '4'], ['철학관에서 일반인을대상으로 사주,궁합판독', '3'], ['사무실 고객의요청으로 부동산중개', '6'], ['사업장에서 일반인대상 체형관리서비스', '3'], ['비료 제조 도매', '0'], ['음식점에서 접객시설을 갖추고 한식', '1'], ['음료점에서 접객시설을 갖추고 커피, 차 등 제공', '1'], ['영업장에서 서비스 아이폰수리', '3'], ['사업장에서 재단.재봉 여성용티셔츠', '2'], ['핸드폰가게에서 일반소비자에게 핸드폰 소매', '0'], ['개인택시로 일반인을 대상으로 승객운송서비스', '4'], ['사무실에서 원단공장에 원사판매', '0'], ['매장에서 일반소비자 복권', '9'], ['삼성전자 사내 사원 대상 화장품 판매', '0'], ['외래및 입원환자를 대상으로 재활병원에서 진료서비스', '7'], ['골판지 골판지제조용 원지 재단 종이상자제조', '2'], ['사업장에서 접객시설을 갖추고 샌드위치판매', '1'], ['의원에서 외래환자위주로 정신과진료', '7'], ['영업장에서 접객시설을 갗추고 치킨', '1'], ['고객요청에 따라 사업장에서 피아노 기타 A/S 수리', '3'], ['미용재료  ', '0'], ['매장에서 일반소비자에게 악세사리 잡화', '0'], ['개인택시로 일반인을 대상으로 승객운송서비스', '4'], ['노래방에서 음향시설을 갖춰놓고 노래연습장 운영', '9'], ['부동산에서 수수료를 받고 부동산 중개 서비스', '6'], ['매장에서 고객에게 커피,케익', '1'], ['음식점에서 접객시설을갖추고 짜장,짬봉', '1'], ['개인택시로 일반인을 대상으로 승객운송서비스', '4'], ['매장에서 일반인을대상으로소매 이불,베게등판매', '0'], ['제조업 조립하여 전자부품', '2'], ['의뢰를 받아 기업체 방문 통신장비설치 및 유지보수', '3'], ['영업점에서 고객을대상으로 농산물가공', '0'], ['철학관 일반인을대상으로 관상및사주풀이 등', '3'], ['매장에서 일반소비자에게 소매 정장,블라우스', '0'], ['매장에서 소매업자에게 도매 청과', '0'], ['PCB 체열기 선반 밀링 자동화기계', '2'], ['의원에서 외래환자 위주로 성형외과', '7'], ['개인택시로 일반인을 대상으로 승객운송서비스', '4'], ['분식점에서 간이음식조리하여제공 떡볶이.순대', '1'], ['개인택시로 일반인을 대상으로 승객운송서비스', '4'], ['AL(알루미늄), 목재 도면설계, 주조 목형,주조모형', '2'], ['케이블 절단,조립(하네스) 화재경보기센서케이블', '2'], ['사업장에서 일반소비자에게 참치캔, 어묵', '0'], ['미용실에서 일반인상대로 컷트.파머', '3'], ['사업장에서 산업사용자에게 계측기도매', '0'], ['사업장에서 소비자에게 음,식료품위주소매', '0'], ['주점에서 접객시설을 갖추고 양주,맥주', '1'], [' 생활용품 잡화 소매업 ', '0'], ['미용실에서 고객을 대상으로 컷트,파마', '3'], ['사업장에서 노인요양 복지서비스', '7'], ['철판 절단용접하여 파렛트', '2'], ['현장에서 고갱의요구에의해 실내장식업', '8'], ['사업장에서 도매 및 소매업 중기부품,자동차부품(중고.재생부품포함)', '0'], ['한식음식점 접객 시설을 갖추고 한식제공', '1'], ['미용실 두발미용서비스 염색,컷,퍼머', '3'], ['개인택시로 일반인을 대상으로 승객운송서비스', '4'], ['접객시설을 이용해 음식을 만들어 제공  ', '1'], ['단란주점에서 접객시설과접객요원을두고 일반유흥 주점업', '1'], ['입시위주의 수학 학원  ', '5'], ['개별화물자동차로 고객의 요청으로 화물운송서비스', '4'], ['사업장에서 일반인대상으로 떡을만들고소매', '2'], ['접객시설을 갖추고 주스,커피,홍차 등을 판매  ', '1'], ['커피숍 접객시설을갗추고 차.음료', '1'], ['용달화물자동차로 고객의 요청으로 화물운송서비스', '4'], ['개인택시로 일반인을 대상으로 승객운송서비스', '4'], ['절 불교계통 불교활동 불교종교서비스', '3'], ['사업장에서 일반인 대상 사회교육', '5'], ['일반화물자동차로 고객의 요청으로 화물운송서비스', '4'], ['용달화물자동차로 고객의 요청으로 화물운송서비스', '4'], ['실내골프연습장에서 일반인에게 스크린골프장 제공', '9'], ['사업장에서 접객시설 갖추고 돼지고기 구이', '1'], ['일반화물자동차로 고객의 요청으로 화물운송서비스', '4'], ['주유소에서 주유시설을 갖추고 차량용액체원료소매', '0'], ['음식점 접객시설을갖추고 두루치기,김치찌개', '1'], ['개별화물자동차로 고객의 요청으로 화물운송서비스', '4'], ['매장에서 접객시설을갖추고 곰치국생선조림', '1'], ['수리점에서 의뢰받아 오토바이수리', '3'], ['베어링, 볼트,너트 분해, 점검,세척,건조,도색 발전소 전동기 유지보수', '2'], ['매장에서 일반인을대상으로 스포츠의류,등산용품', '0'], ['교회에서 기독교계통 교인들에게 교리제공 기독교단체', '3'], ['보습학원 교육서비스업 수학교육', '5'], ['농자재  ', '2'], ['네온싸인,간판에 들아가는 재료 고객의 요청으로 네온간판 제작', '2'], ['음식점에서 접객시설을 갖추고 육류 연탄구이', '1'], ['사찰 신자들을 대상으로 종교활동', '3'], ['매장에서 소매업자대상으로 수예품도매,타올', '0'], ['음식점에서 접객시설을갖추고 삼겹살', '1'], ['음식점에서 접객시설을 갖추고 양갈비 구이', '1'], ['편의점에서 체인계약을체결하고 식.음료', '0'], ['손이나 기구로 얼굴 맛사지 일반소비자에게 피부미용업', '3'], ['사무실에서 회원들 이익현상을 위한 단체 회원관리,이익향상 도모', '3'], ['용달화물자동차로 고객의 요청으로 화물운송서비스', '4'], ['수석집에서 일반인에게 수석판매', '0'], ['가게에서 소비자에게 견과류,간장,된장담아서제조해서판매', '2'], ['교회에서 기독교게통의종교활동 종교서비스', '3'], ['목욕탕내이용원에서 두발서비스제공 머리카락자르기(이용업)', '3'], ['용달화물자동차로 고객의 요청으로 화물운송서비스', '4'], ['콜택시 연결  ', '4'], ['건설현장에서 의뢰를 받아 콘크리트 공사 수행', '8'], ['사업장에서 산업사용자에게 복사기,가전제품,컴퓨터', '0'], ['간이음식을조리하여제공 음식점에서 만두.김밥', '1'], ['pc방 일반고객에게 컴퓨터 게임운영', '9'], ['정보통신사업 생활용품위탁판매 온라인플랫폼', '0'], ['아파트입주자를위하여 관리사무소에서 주거용 아파트 관리', '6'], ['계약에의거부동산중개 부동산중개소 부동산중개서비스', '6'], ['현장에서 고객을 대상으로 철근및 시멘트 사용 상가,공장등 건설', '8'], ['조세.세무관련업무 의뢰를 받아서 세무상담,서류작성,기장대리등', '10'], ['산업사용자, 거래업체 당사 소매 및 도매 연마재, 도료', '0'], ['야영장에서 숙박시설을 갖추고 숙박서비스', '1'], ['영업장에서 고객의요청에의해 가정용품을수리', '3'], ['횟집에서 접객시설을갖추고 한국식회제공', '1'], ['개인택시로 일반인을 대상으로 승객운송서비스', '4'], ['보험회사에서 일반대중을 대상으로 생명보험영업', '13'], ['건물 현장에서 건설 해체 장비를 가지고 건물 및 구축물을 철거함.', '8'], ['카센타에서 고객을 대상으로 자동차 특정부분 정비', '3'], ['구내식당에서 음식을  조리하여 식사제공', '1'], ['용지개발하여 사업자에게 분양 판매', '6'], ['매장에서 소비자에게 여성의류', '0'], ['음식점에서 접객시설을갖추고 생삼겹살및 돌솥밥 등', '1'], ['가게에서 제조공장에 도매 철물 공구', '0'], ['건설 현장에서 고객의요구에따라 화장실 칸막이공사', '8'], ['부동산중개소 일반인 부동산거래,중개', '6'], ['매장에서 사업체에게 각종공구자재도매', '0'], ['건물내 고객의 요구에 의해 배관공사', '8'], ['사업장에서 스파등 업체의 의뢰를받아 음료납품', '0'], ['카페에서 접객시설을 갖추고 마카롱,케？,커피', '1'], ['전기공사  ', '8'], ['학원에서 학생,일반인에게 미술교육', '5'], ['고객의 의뢰로 법무사 사무실에서 등기, 경매 신청 등', '10'], ['음식점에서 접객시설을 갖추고 한식 제공', '1'], ['음식점에서 접객 시설을 갖추고 백반판매', '1'], ['사업자에서 시스템 연구 자동제어 시스템 연구개발, 테스트', '10'], ['모텔에서 일반인대상으로 숙박서비스제공', '1'], ['매장 일반인에게 꽃소매', '0'], ['사업장에서 사업체 대상으로 육류도매업', '0'], ['매장에서 소비자들에게 승용차판매', '0'], [' 분류되지 않은 일반 목적용 기계를 제조하며 트럭같은 경우 탑제작을 제조함 ', '2'], ['센터에서 노인재가 방문서비스', '7'], ['커피숍에서 접객시설을 갖추고 커피비알콜음료', '1'], ['국내은행 고객을 대상으로 금융업', '13'], ['노래방기기제공 노래연습장 노래부르기', '9'], ['사업장에서 고객대상 필라테스, 요가교육', '5'], ['미용실에서 두발미용서비스 머리자르기,퍼머', '3'], ['건설업케이블설치 통신공사 케이블', '8'], ['음식점에서 접객시설을 갖추고 칼국수 판매', '1'], ['개별화물자동차로 고객의 요청으로 화물운송서비스', '4'], ['건축설계및관련서비스업  ', '10'], ['계약,수수료를 받고 부동산업 부동산 자문 중개업', '6'], ['면, 폴리 원단입고, 제단 ', '2'], ['음식점엥서 접객시설을 갖추고 족발', '1'], ['학원에서 학생들을 대상으로교육 영어', '5'], ['고추 기게로 분쇄 고초가루', '2'], ['다방 접객시설을 갖추고 주스, 커피', '1'], ['개인택시로 일반인을 대상으로 승객운송서비스', '4'], ['사업장에서 고객의의뢰를받아서 건물 임대업', '6'], ['어린이집에서 관할구청의인가를받아 어린이보육', '7'], ['사업장에서 고객의 요청으로 인터넷,홈페이지제작', '12'], ['음시점에서 접객시설을 갖추고 한국음식 판매  ', '1'], ['부동산에서 일반인 대상으로 계약및 중개서비스', '6'], ['문구점에서 일반소비자 각종 필기용품', '0'], ['영업장에서(카센타) 자동차의 특정부분만을 전문적으로수리 경정비타이어.내장수리', '3'], ['기념사업회 임대사업으로기금마련 장학회운영', '3'], ['사업장에서 노인대상으로 전문요양보호방문', '7'], ['개인택시로 일반인을 대상으로 승객운송서비스', '4'], ['음식점에서 접객시설을갖추고 콩나물국밥', '1'], ['접객시설갖추고 키친점에서 치킨류', '1'], ['매장에서 고객요청으로 피부 바디 등 미용', '3'], ['개인택시로 일반인을 대상으로 승객운송서비스', '4'], ['영업장에서  한식 제공', '1'], ['종합적인 소매활동 백화점 잡화.의류 .생필품 판매', '0'], ['음식점에서 접객시설을갗추고 오리,닭판매', '1'], ['보험사에서 일반인대상으로 생명보험업무', '13'], ['철판, 파이프 용접 기계부품', '2'], ['원단 주문에의해 한복', '2'], ['영업장에서 주방가구류 판매', '0'], ['모터등 의뢰받아서 전문적으로 수리', '2'], ['사업장에서 반도체 조립 장비 자동화기계(판넬)', '2'], ['일반화물자동차로 고객의 요청으로 화물운송서비스', '4'], ['개인택시로 일반인을 대상으로 승객운송서비스', '4'], ['사업장에서 고객의 요청에의해 실내인테리어', '10'], ['건설현장에서  건물건축공사', '8'], ['성당 천주교 종교활동 종교서비스', '3'], ['음식점에서 접객시설을 갖추고 돼지갈비 제공', '1'], ['새마을금고에서 일반고객을대상으로 예금및대출', '13'], ['알루미늄 금형가공 알루미늄 제품 포장재', '2'], ['영업장에서 다른산업사용자에게 귀리등,곡물가공품도매', '0'], ['사업장에서 산업사용자에게도매 고철,비철', '0'], ['사무실에서 고객의 요청으로 일력공급업', '11'], ['상가에서 일반소비자에게 소매 토탈의류', '0'], ['개별화물자동차로 고객의 요청으로 화물운송서비스', '4'], ['매장에서 일반고객에게 중고의류소매', '0'], ['용달화물자동차로 고객의 요청으로 화물운송서비스', '4'], ['용달화물자동차로 고객의 요청으로 화물운송서비스', '4'], ['도매 도료를 유성.수성도료', '0'], ['부동산중개소에서 계약에 의거 부동산 중개 서비스', '6'], ['음식점에서 접객시설을 갖추고 백반', '1'], ['편의점에서 체인계약을 체결하여 식료품 담배 소매', '0'], ['영업점 접객시설을갖추고 치킨 판매', '1'], ['영업장에서 일반소비자에게 구제의류', '0'], ['  아동복', '0'], ['산업사용자에게 사업장에서 1차비철금속선 도매', '0'], ['사무실에서 세무관련업무를의뢰받아 세무조정기장대리', '10'], ['매장에서 일반인 대상 소매 여성의류', '0'], ['음식점에서 간이 음식점 조리 즉석 떡볶이 제공', '1'], ['영업장에서 일반인대상방문판매 화장품,건강기능식품', '0'], ['병원내에서 건강식품 판매  ', '0'], ['사업장에서 고객을대상으로 체형,신체관리서비스', '3'], ['카센터에서 시설을 갖추고 자동차수리', '3'], ['감을손질 건조 곶감판매', '0'], ['용달화물자동차로 고객의 요청으로 화물운송서비스', '4'], ['음료점에서 접객시설을갖추고 커피,차', '1'], ['치과에서 외래환자를대상으로 치과진료', '7'], ['호프집에서 접객시설을 갖추고ㅓ 맥주 안주등 판매', '1'], ['학원에서 학생대상 수학교육', '5'], ['음식점메서 접객시설을 갖추고 갈비', '1'], ['매장엥서 접객시설을갖추고 커피.음료', '1'], ['용달화물자동차로 고객의 요청으로 화물운송서비스', '4'], ['가게에서 접객시설을 갖추고 커피 판매', '1'], ['모텔에서 숙박시설을갖추고 숙박서비스', '1'], ['사업장에서 일반인을 대상으로 꽃 소매', '0'], ['영업장에서 접객시설을갖추고 소주맥주', '1'], ['영업장에서 중간유통 펌프납품', '0'], ['매장에서 일반소비자에게 여러가지야채 소매', '0'], ['배추,무우,파,고추가루,마늘 절임후 혼합 양념하여 배추김치,깍뚜기제조', '2'], ['음식점에서 접객시설을 갖추고 한식류 제공', '1'], ['음식점에서 접객시설갖추고 면종류등판매', '1'], ['사업장에서 수수료또는 계약에의해 각종인쇄물 프린트', '2'], ['매장에서 소매업자에게도매 단추', '0'], ['용달화물자동차로 고객의 요청으로 화물운송서비스', '4'], ['수선집 재봉틀을 갖추고 의류수선', '3'], ['신용협동조합 일반인대상 대출 여신', '13'], ['판지가 아닌 종이 제품 도매 화장지, 냅킨등', '0'], ['사업체에서 고객의 요청에따라 토목건설과 관련된 엔지니어링 서비스', '10'], ['매장에서 고객상대 해드폰판매', '0'], ['영업장에서 고객들에게 학습정보온라인서비스', '12'], ['유선통신 유선통신시설을이용하여 유선통신회선설비', '12'], ['사업장에서 주택 개발 서비스', '8'], ['떡제조업에서 쌀,밀가루,콩등을 이용하여 가래떡,송편 등 제조', '2'], ['용달화물자동차로 고객의 요청으로 화물운송서비스', '4'], ['식당에서 접객시설을 갖추고 막국수 판매', '1'], ['영업장에서 접객시설을 갖추고 후라이드, 양년치킨', '1'], ['사업장에서 컴퓨터시스템 연구개발', '12'], ['전선.전기부품 설계조립 계측제어판넬', '2'], ['세탁소에서 일반고객을 대상으로 세탁.다림질', '3'], ['실리콘 압출가공 용기뚜껑제조', '2'], ['어린이집에서 관할시청에서 인가받아 취학전 영유아 보육', '7'], ['학원에서 학생을 대상에서 음악교육서비스', '5'], ['상가에서 소비자에게 소매 도자기', '0'], ['식당에서 접객시설을 갖추고 돼지고기,소고기구이', '1'], ['가구 무역  ', '0'], ['금속방화문제조  ', '2'], ['분식점에서 접객시설을 갖추고 김밥', '1'], ['어린이집에서 관할구청에서 취학전 영유아보육', '7'], ['사업장에서 계약및중개 부동산매매.전세', '6'], ['핸드폰매장에서 휴대용기기를 가지고판매 핸드폰 판매및 개통', '0'], ['사업장에서 고객요청에 따라 실내인테리어', '8'], ['부동산개발및공급  비주거용건물개발및공급업', '6'], ['송전및배전 소비자에게공급 전기공급', '17'], ['매장에서 소비자에게 제과점업', '1'], ['사업장에서 일반고객을 상대로 생식 등 판매', '0'], [' 막창구이,삼겹살구이 ', '1'], ['개인택시로 일반인을 대상으로 승객운송서비스', '4'], ['현장에서 의뢰를 받아 환경오염방지시설(폐기물소각로)공사', '8'], ['영업장에서 제조시설을 갖추고 호박즙등 제조및 판매', '2'], ['펫트알미늄종이 인쇄에듀시 스크린인쇄', '2'], ['오락실에서 일반인을 대상으로 VR게임', '9'], ['화학약품 혼합 믹싱하여 의약품원료제조', '2'], ['개별화물자동차로 고객의 요청으로 화물운송서비스', '4'], ['플라스틱 조립하여 자동차부품(콘솔박스)', '2'], ['편의점에서 체인계약을 통해 소매 식료품', '0'], ['선박에서 특정부분을 전문적으로 수리 선박엔진 수리', '2'], ['사업장에서 일반인을 대상으로 주류(와인) 소매', '0'], ['소주방에서 접객시설을 갖추고 소주·맥주제공', '1'], ['개인택시로 일반인을 대상으로 승객운송서비스', '4'], ['음식점에서 접객시설을갖추고 일식', '1'], ['주점에서 접객요원없이 호프. 맥주', '1'], ['산업사용자에게 농기계대리점에서 농기계도매', '0'], ['학원에섭 학생대상 영어회화', '5'], ['개인택시로 일반인을 대상으로 승객운송서비스', '4'], ['사무실에서 의뢰 및 요청을 받아 전세버스대여', '4'], ['미장원에서 일반인 대상으로 컷트, 파마, 염색', '3'], ['도매 일반소비자 및조달청 컴퓨터,주변장치, 소프트웨어 등', '0'], ['음식점에서 접객시설을 갖추고 백반전문', '1'], ['네일아트샵 일반인상대 네일아트', '3'], ['가게에서 일반소비자대상으로 채소소매', '0'], ['철 절삭가공 기계부품', '2'], ['음식점에서 접객시설을 갖추고 김밥,라면등', '1'], ['사업장에서 산업사용자등을대상으로 고,저압배전반등판매', '0'], ['음식점에서 즉석음식을 조리하여 김밥 라면', '1'], ['미용실에서 고객에게 파마,커트', '3'], ['아크릴가공  가림막', '2'], ['사업장에서 공공업체 인력공급', '11'], ['사무실에서 고객의 의뢰를받아 건축설계', '10'], ['개인택시로 일반인을 대상으로 승객운송서비스', '4'], ['펜션에서 접객시설 갖추고 숙박 서비스', '1'], ['철판,피스비기기판 철외형조립 밴딩머신(자동판매기', '2'], ['약국에서 일반인을대상으로소매 처방받은 약을 조재', '0'], ['일반학원(수학) 학생대상으로 수학지도', '5'], ['식당에서 접객시설을 갖추고 찜,오리고기', '1'], ['고무 절단하여 신발부분품제조', '2'], ['영업장에서 산업사용자에게 자동차부품판매', '0'], ['영업장에서 일반소비자를 대상으로 주방소형가전제품 판매', '0'], ['사무실에서 보험 고객을 대상으로 보험 보상 관련 업무', '13'], ['사업장에서 고객의 의뢰를 받아 컴퓨터 수리 서비스', '3'], ['냉난방기 산업사용자에게 장작보일러', '0'], [' 분식(김밥, 떡볶이) ', '1'], ['개인택시로 일반인을 대상으로 승객운송서비스', '4'], ['초등학교 초등학생을 대상으로 기초적인 교육서비스 초등교육', '5'], ['사업장에서 타사업체의뢰로 통신장비(네트워크)도매', '0'], ['자동차부품을 주문받아생산회사에 자동차부품판매', '0'], ['매장에서 일반인대상으로 커피판매', '1'], ['사업장에서 고추가루,설탕,마늘 양념제조', '2'], ['펜션에서 숙박시설 갖추고 숙박서비스', '1'], ['민박  ', '1'], ['체육관에서 일반인을 대상으로 요가. 탁구 등 강습', '9'], ['구두수선점에서 구두수선 구두수선', '3'], ['사업장 고객주문 의료기기', '0'], ['사업장에서 고객을상대로 복권판매', '9'], ['식당에서 접객시설갖추고 추어탕제공', '1'], ['정육점에서 도매 소 돼지고기', '0'], ['영업점에서 일반인을 대상으로 홍삼, 인삼, 건강보조식품판매', '0'], ['음식점에서 접객시설을 갖추고 복요리를 판매', '1'], ['원단,가죽 제작 및 판매 가방', '2'], ['용달화물자동차로 고객의 요청으로 화물운송서비스', '4'], ['교회 종교인을대상으로 종교서비스', '3'], ['사업장에서 고객의 요청으로 모터수리', '2'], ['음식점에서 접객시설을 갖추고 해산물요리 제공', '1'], ['음식점에서 접객시설을갖추고 만두,어묵등판매', '1'], ['분식집에서 간이음식조리 떡볶이,김밥,라면', '1'], [' 정육점 ', '0'], ['사업장 부모의 위탁을 받아 어린이교육', '7'], ['연습실에서 일반인을 대상으로 악기공연,연습실제공', '9'], ['태양광 고객의요구에따라 태양광발전기', '8'], ['사업장에서 고객을 대상으로 펌프수리서비스', '2'], ['병설유치원 관할지역 교육청 인가를 받아 취학전 아동교육', '5'], ['음식점에서 접객시설을 갖추고 국수제공', '1'], ['음식점에서 접객시설을 갖추고 순두부', '1'], ['일반 소비자의 의류세탁 서비스업 세탁소에서 드라이 크리닝', '3'], ['미용실에서 고객에게 파마 커트 염색', '3'], ['용달화물자동차로 고객의 요청으로 화물운송서비스', '4'], ['주차장 일반인대상 주차장운영', '4'], ['일반소비자에게 소매 수족관매장에서 열대어판매', '0'], ['명함지와 이크로 명함인쇄하여 명함완성', '2'], ['용달화물자동차로 고객의 요청으로 화물운송서비스', '4'], ['사업장에서 일반소비자대상 척추교정', '7'], ['사업장에서 고객의 요구에 따라 간판제조', '2'], ['컴퓨터전문지식을 가지고 사업자 요청 포털및 홈페이지제작', '12'], ['용달화물자동차로 고객의 요청으로 화물운송서비스', '4'], ['개인택시로 일반인을 대상으로 승객운송서비스', '4'], ['사무실 생명공학의료관련 불임센타(공동시약구매지원)', '11'], ['의류  ', '0'], ['도서판매장 소매업자에게 각종문제집.책출판도매', '0'], [' 홍삼,음료 건강기능음료,식품', '0'], ['개인택시로 일반인을 대상으로 승객운송서비스', '4'], ['일반소비자대상으로 이불가게에서 이불판매', '0'], ['교회에서 기독교계통종교활동 종교서비스', '3'], ['시멘트를 의뢰를 받아 개발,공사 보링, 그라우팅 및 관정 공사업', '8'], ['세탁소에서 드라이크리닝,고객의위탁받아 의류세탁서비스', '3'], ['학원에서 초중고대상으로 수학교육', '5'], ['분식점에서 간이음식 조리 떡볶이.순대', '1'], ['일반인에게 영업장에서 천막소매', '0'], ['원단가지고 재단, 봉제하여 티셔츠 제조', '2'], ['단열재 소매자에게 스티로폼 도소매', '0'], ['학동마을펜션 숙박시설을 가지고 펜션운영', '1'], ['식당에서 접객시설을 갖추고 서양식, 일식, 중식을 제외한 외국식 음식 제공', '1'], ['개인택시로 일반인을 대상으로 승객운송서비스', '4'], ['부동산중개소에서 계약에 의거 중개서비스', '6'], ['사업장에서 일반인대상 자동차세차', '3'], ['개인택시로 일반인을 대상으로 승객운송서비스', '4'], ['야채가게에서 일반소비자에게 청과,야채 소매', '0'], ['수산물가게에서 일반소비자에게 고등어 갈치 소매', '0'], ['음식점에서 접객시설을갖추고 돼지국밥등한식판매', '1'], ['아파트관리사무소에서 아파트입주자를 위하여 주거용아파트관리서비스', '6'], ['영업장에서 친환경 농산물을 한살림으로 도매', '0'], ['매장에서 일반고객대상 반찬류소매', '0'], ['알루미늄 자재입고, 수입검사 ', '2'], ['약국 일반인에게 양약소매', '0'], ['사업장에서 고객들에게 의류', '0'], ['화물차를가지고 의뢰를받아 화물운반', '4'], ['일반화물자동차로 고객의 요청으로 화물운송서비스', '4'], ['음식점에서 접객시설을 갖추고 홍어삼합', '1'], ['개별화물자동차로 고객의 요청으로 화물운송서비스', '4'], ['남성의류 소매업  ', '0'], ['협회에서 등록된 선수들 선수관리및대회개최', '9'], ['학원에서 학생들을대상으로 영어교육', '5'], ['음식점에서 접객시설을 갖추？ 감자전,옹심이', '1'], ['커피숍에서 일반고객대상으로 커피제공', '1'], ['초등학교 초등학생 초등학교', '5'], ['은행에서 일반대중및 기업을대상으로 대출및이자지급', '13'], ['사업장에서 고객을 대상으로 농업용약품도매', '0'], ['사업체에서 계약에의거부동산관리 주거용부동산관리', '6'], ['노래연습장 노래방기기를 갖추고 노래연습장', '9'], ['미용실에서 일반고객대상 염색, 파마 등', '3'], ['개인택시로 일반인을 대상으로 승객운송서비스', '4'], ['산업기계,플랜트제작  ', '2'], ['가게에서 일반소비자에게 셔츠블라우스', '0'], ['음식점에서 접객 시설을 갖추고 소주 맥주 제공', '1'], ['꽃방에서 일반소비자에게 화초,식물', '0'], ['사업장에서 업체에납품 화장품', '0'], ['매장에서 일반소비자에게 바지 티 판매', '0'], ['음식점에서 접객시설을갖추고 막회', '1'], ['슈퍼에서 일반소지자에게 음식료품 위주 소매', '0'], ['주문에 의해서 원단에 기계로 자수하여 장식용 자수제품', '2'], ['가게에서 접객시설을갖추고 멸치국수', '1'], ['가게에서 접객시설을갖추고 일본식선술집', '1'], ['학원에서 일반인들을 대상으로 요양 보호사 교육', '5'], ['사업장에서 주문받아 엽서(제조)', '2'], ['성당에서 종교인을 대상으로 천주교', '3'], ['알루미늄 냉간단조 볼트.너트,금속파스너', '2'], ['음식점에서 접객시설을갖추고 칼국수등을 제공', '1'], ['사업장에서 산업사용대상으로 파이프,철강류도매', '0'], [' 원단도매업 ', '0'], ['고객요청에따라 사업장에서 소방기구 소매', '0'], ['철 선반가공 기계부품가공', '2'], ['사업장에서 전자상거래 가구부속', '0'], ['음식점에서 접개시설을갖추고 코다리찜', '1'], ['어묵전문점 접객시설을갖추고 어묵', '1'], ['미용실에서 일반인들에게 파마,컷트등 두발미용서비스', '3'], ['사업장에서 다른 산업자를 대상으로 건축자재 도매', '0'], ['용지를 개발하여 사업주에게 용지분양,판매', '6'], ['개별화물자동차로 고객의 요청으로 화물운송서비스', '4'], ['사업자요청으로 사무실에서 홍보영상제작', '12'], ['키즈카페에서 어린이고객을 대상으로 키즈카페운영', '9'], ['아파트 관리사무소에서 아파트 입주자를 위하여 주거용 아파트 관리 서비스', '6'], ['동물,한약재,과일 주문 일반소비자 대상으로 건강식품 과일즙제조판매', '2'], ['사업장 고객대상 실내인테리어', '8'], ['세탁소에서 일반인을대상으로 세탁,다림질,드라이크리닝 제공', '3'], ['쇠 연삭,방전 자동차부품', '2'], ['매장에서 일반소비자를대상으로 여성의류', '0'], ['여행사에서 관광객을 대상으로 국내외여행알선', '11'], [' 전기자전거  도매 ', '0'], ['알루미늄 CNC기계가공 자동차차체부품', '2'], ['개인택시로 일반인을 대상으로 승객운송서비스', '4'], ['사업장에서 일반소비자를 대상으로 음료,식품 판매', '0'], ['고객에게 주차장 주차서비스', '4'], [' 음.식료품소매(10평정도됨) ', '0'], ['개인택시로 일반인을 대상으로 승객운송서비스', '4'], ['펜션에서 일반인대상 숙박', '1'], ['음식점에서 접객시설을갖추고 코다리.김치찌개', '1'], ['카센타 자동차특정부분을전문적으로수리 경정비.내장수리', '3'], [' 육류 요리 전문점-숯불갈비 ', '1'], ['음식점에서 접객시설을 갖추고 뚝배기', '1'], ['농업용기계 소비자 농업용기계수리업', '2'], ['사업장에서 접객시설을 갖추고 면요리 제공', '1'], ['건강기능식품 일반소비자 건강식품판매', '0'], ['중고물품  ', '0'], ['일반인에게 매장에서 철물판매', '0'], ['사업장에서 일반인을 대상으로 반찬. 계란 소매', '0'], ['청보리,볏짚을 사료로 산업사용자에게 도매', '0'], ['매장에서 판매 여행상품', '11'], ['찌개류 판매  ', '1'], ['대도 상가에서 일반 소매업자에게 대량으로 도매 바구니, 조화', '0'], ['치과의원에서 외래환자위주로 치과진료서비스', '7'], ['일반소비자에게 꽃집 꽃 판매', '0'], ['사업장 일반인대상 건강식품소매', '0'], ['영업장에서 접객시설을 갖추고 술 및 안주류 판매  ', '1'], ['매장 고객 아동복소매', '0'], ['매장에서 소비자들에게 의류판매', '0'], ['쇠 성형해서 스프링만듬', '2'], ['사업장에서 노인을 대상으로 돌봄, 건강돌봄 이동 서비스', '7'], ['매장에서 일반인을 대상으로 커피, 음료', '1'], ['목공소에서 의뢰를받아 목재장식용품제조', '2'], ['사업장에서 택배차량으로 택배업무', '4'], ['개인택시로 일반인을 대상으로 승객운송서비스', '4'], ['중개를 통하여 사업장에서 기계장비를', '0'], ['음식점 접객시설갖축 삼계탕.백반', '1'], ['운송업체 일화물자동차 화물운송', '4'], ['식당에서 접객시설을 갖추고 삽겹살 갈비를 판매', '1'], ['한복원단을 가지고 재단봉재하여 제조 한복', '2'], ['사업장에서 사각지대에처해있는 지역복지', '7'], ['교회에서 기독계통 종교활동', '3'], ['영업장에서 고객을대상으로 인형들을뽑는오락제공', '9'], ['매장에서 일반인대상으로 책 대여', '11'], ['경영컨설팅업,공공관계 서비스업  ', '10'], ['주민자치센타에서 동주민들을 대상으로 체력단련시설운영', '9'], ['노래연습장  ', '9'], ['인터넷선,전화선 통신공사(광케이블) kt협력업체', '8'], ['샌드위치판넬, 강관 원재료호일투입, 스티로폼투입 ', '2'], ['개별화물자동차로 고객의 요청으로 화물운송서비스', '4'], ['음식점에서 접객시설을 갖추고 커피,음료제공', '1'], ['고객대상 매장에서 건강기능식품', '0'], ['개인택시로 일반인을 대상으로 승객운송서비스', '4'], ['애완용 동물 및 관련용품 소매업  ', '0'], ['점포에서 일반인을대상으로소매 성경책', '0'], ['사업장에서 제조 섬유,의류부자재', '2'], ['비닐, 종이 손잡이조립, 검사 ', '2'], ['세차장에서 자동차 셀프세차장 운영', '3'], ['개인택시로 일반인을 대상으로 승객운송서비스', '4'], ['대순진리회에서 민족종교계통종교활동 대순진리회', '3'], ['점포에서 일반인대상으로 쌀,잡곡', '0'], ['선박수리  ', '2'], ['대학워에서 학생 교육', '5'], ['부동산중개소에서 계약및중개등을통해수수료받음 부동산거래중개서비스', '6'], ['교회에서 기독교계통의 종교활동 종교서비스', '3'], ['개인택시로 일반인을 대상으로 승객운송서비스', '4'], ['고물상에서 재활용재료수집 및 판매 고철', '0'], ['사업장에서 계약에 의거 부동산중개서비스', '6'], ['건축사사무실에서 고객요청에따라 건축설계', '10'], ['개별화물자동차로 고객의 요청으로 화물운송서비스', '4'], ['기름집에서 곡물를분쇄가공하여 기름제조및 소매', '2'], ['음식점에서 배달위주의 치킨', '1'], ['사업장에서 고객의 의뢰를 받아 응용 소프트웨어개발', '12'], ['수산업협회에서 어업인들에게 기술공유, 수산업발전을 위한 단체', '3'], ['사업장에서 일반인대상 도자기소매', '0'], ['알루미늄 표면처리 아노다이징', '2'], ['사업장에서 일반인대상으로 네일', '3'], ['용달화물자동차로 고객의 요청으로 화물운송서비스', '4'], ['사업장에서 고객의 의뢰를 받아 백일상.돌상.상차림대여', '11'], ['마트에서 일반소비자에게 식품잡화판매', '0'], ['매장에서 일반소비자에게 여성용의류소매', '0'], ['공장에서 주문의뢰받은 산업용기계제작가공', '2'], ['부동산에서 수수료받고 부동산 중개', '6'], ['커피숍에서 접객시설을 갖춰 커피, 음료 제공', '1'], ['철을 프레스 금형하여 프레스기계부품제조', '2'], ['조사,연구검사업무수행으로 보건환경연구소에서 물질성분검사분석제공', '10'], ['현장에서 고객의뢰로 실내인테리어공사', '8'], ['사업장에서 항공기엔진및부품을 제조하여납품', '2'], ['중고자동차 해외수출 수출 자동차', '0'], ['학원 중고학생을 대상으로 영어전문', '5'], ['관리사무소에서 시업시설유지관리예방 비주거용 부동산 관리업', '6'], ['의원에서 외래환자대상으로 외과진료', '7'], ['음식물쓰레기 영업장에서 수거', '15'], ['식당에서 접객시설을 갖추고 치킨', '1'], ['용달화물자동차로 고객의 요청으로 화물운송서비스', '4'], ['입주민을 위하여 통영어민 영어조합법인에서 비주거용 부동산관리', '6'], ['전당포에서 금품을 담보로 자금대부', '13'], [' 커피전문점 ', '1'], ['역에서 열차 철도운송', '4'], ['직업소개소에서 소개수수료받고 직업소개소', '11'], ['사업장에서 고객의 요청으로 냉동기 설치수리', '2'], ['용달화물자동차로 고객의 요청으로 화물운송서비스', '4'], ['공판장에서 일반소매업자들에게도매 수박,참외등', '0'], ['수리점에서 고객의뢰에의해 컴퓨터수리서비수', '3'], ['주차장에서 일반인을 대상 주차장서비스', '4'], ['고시식당에서 접객시설갖추고 한식뷔페', '1'], ['교내식당에서 학생들에게 급식제공', '1'], ['민박집에서 숙박시설을갖추고 숙박서비스', '1'], ['교회에서 기독교계 종교활동 종교 서비스', '3'], ['환경디자인  ', '10'], ['현장에서 고객의 요청으로 태양열판설치', '8'], ['사업장에서 일반,학생대상 음악녹음시설운영', '12'], ['일반의원에서 외래환자위주로 내과진료서비스', '7'], ['상담자신고.의뢰 기관에서 아동학대사례상담등', '7'], ['사업장에서 일반고객 대상 한식뷔페제공', '1'], [' 토공사업(용지조성) ', '8'], ['사무실에서 산업사용자에게 퇴비', '0'], ['건축사무소에서 고객요청에의해 건축설계,감리', '10'], ['음식점에서 접객시설을 갖추고 생등심구이,된장찌개등을 판매', '1'], ['매장에서 일반고객에서 화장품소매', '0'], ['사업장에서 소매업자대상 가정용식탁 납품', '0'], ['주점에서 점객요원을 두고 맥주, 양주판매', '1'], ['사무실에서 의뢰인을 대리하여 소송,이의신청,변호', '10'], ['남성의류전문 일반소비자를 대상으로 정장및와이셔츠판매', '0'], ['영업장에서 접객시설을갖추고 양주,맥주판매', '1'], ['사업장에서 산업사용자에게 통신 케이블 도매', '0'], ['점집 일반소비자매장 미래 예언 예언서비스', '3'], ['TR아이디 자동차부품생산 온도생사제작', '2'], ['횟집에서 접객시설을 갖추고 한국식회', '1'], ['산채등 고객의요청 도,소매', '0'], ['음식점에서 접객시설을갖추고 비빔밥', '1'], ['사업장에서 체인계약하여 편의점', '0'], ['일반화물자동차로 고객의 요청으로 화물운송서비스', '4'], [' 직물 도매(옷감) ', '0'], ['알루미늄 소재입고, 기계가공 ', '2'], ['건설업자의 요구에따라 포크레인 굴삭기이용하여 건설장비운영', '8'], ['매장 소매 아동복', '0'], ['가게에서 일반소비자에게 젓갈,된장,간장 소매', '0'], ['커피점에서 접객시설을갖추고 커피.음료제공', '1'], ['사업장에서 소매업자에게 식자재,가공식품', '0'], ['매장에서 음식점등에 수산물 도매', '0'], ['마사지샵에서 일반고객대상 피부마사지', '3'], ['음식점에서 접객시설을 갖추고 국수 등 제공', '1'], ['카페에서 접객시설을 갖추고 커피 음료', '1'], ['음식점에서 접객시설을갖추고 한식', '1'], ['미용실에서 손님에게 미용 서비스제공', '3'], ['시장 어각가게에서 일반소비자에게 바다및 민물의 건조해 수산물 소매', '0'], ['한의원에서 환자대상 외래진료', '7'], ['가게에서 일반소비자에게 금,은 보석', '0'], ['노래연습장에서 일반고객을 대상으로 노래연습 제공', '9'], ['욕실제품 수입하여 도매', '0'], ['치과의원 외래환자위주로 충치치료.임플란트', '7'], ['TV스탠드 거치대 일반소비자에게 인터넷 판매', '0'], ['인터넷을 통하여 일반인을대상으로 반려동물용품 소매', '0'], ['사업장 일반인대상 뽑기기계제공', '9'], ['사무실에서 본사지원연락사무소 연락사무소', '11'], ['매장에서 일반인대상으로 손톱미용서비스', '3'], ['개인택시로 일반인을 대상으로 승객운송서비스', '4'], ['영업장에서 고객을대상으로 정수기.렌탈서비스업', '11'], ['지역농협에서 고객으로부터 자금조성및 여수신 자금여수신', '13'], ['  핸드폰', '0'], ['미용실 두발 미용서비스 퍼머.염색', '3'], ['고객을 대상으로 매장에서 돼지,소괴판매', '0'], ['펜션에서 일반인들에게 숙박서비스', '1'], ['매장에서 일반고객 대상 식, 음료 판매', '0'], ['부동산을 수수료또는 계약에의거 부동산자문및 중개서비스', '6'], ['매장에서 학교, 회사에 고기납품판매', '0'], ['부동산중개소에서 계약에의거하여 부동산중개서비스', '6'], ['개별화물자동차로 고객의 요청으로 화물운송서비스', '4'], ['음식점에서 접객시설을 갖추고 동태전골', '1'], ['카센터에서 고객을대상으로 자동차수리업', '3'], ['편의점 체인계약을 체결하여 음식료품, 공산품', '0'], ['사업장에서 소매업자에게 식자재', '0'], ['유리매장에서 일반인을 대상으로 강화유리 설치,시공', '0'], ['용달화물자동차로 고객의 요청으로 화물운송서비스', '4'], ['화물자동차 고객의 요구에 따라 특수화물운송', '4'], ['현장에서 고객요청에의해 배관및난방공사', '8'], ['돌을가지고 기계로 ？아서 비석,상돌제조', '2'], ['개별화물자동차로 고객의 요청으로 화물운송서비스', '4'], ['종이로 재단,접착하여 쇼핑백제조', '2'], ['매장에서 일반소비자에게 소매 시계, 귀금속', '0'], ['플라스틱,수지 사출,성형 플라스틱수지', '2'], [' 송수신 무선 음향제조 ', '2'], ['절에서 불교계통의 종교활동 종교서비스', '3'], ['아이비스PC 고객대상으로 컴퓨터방', '9'], ['혐회에서 문화에술인 권익향상', '3'], ['영업장소에서 일반인대상 벽지 . 장판외 판매', '0'], ['교회 기독교계통 종교활동 교회', '3'], ['찻집에서 접객시설을갖추고 전통차제공', '1'], ['학원에서 학생대상 피아노교육', '5'], ['내의류, 속옷 속옷 소매', '0'], ['사업장에서 주유소에 액체연료도매', '0'], ['사업장에서 일반인을 대상으로 피부·네일 관리', '3'], ['사업장에서 일반인을대상으로 귀금속,시계판매', '0'], ['가구점 일반소비자에게소매 식탁,의자', '0'], ['사업장에서 건축업자에게 도매 싱크대', '0'], ['커피숍에서 접객시설을 갖추고` 원두 커피', '1'], ['푸트코트 접객시설을갖추고 한식음식제공', '1'], ['일반고객에게 장옥생선가게에서 건어물및,생선판매', '0'], ['매장에서 일반소비자에게 애견분양', '0'], ['미용실에서 고객대상 컷트,펌', '3'], ['관련사업대상자를상대로 사업장에서 보건관리대행및의무기록', '7'], ['방송 프로그램 드라마제작사', '12'], ['영업장가서 접객시설을 갖추고 소주,맥주판매', '1'], ['유흥주점에서 접객시설을 갖추고 유흥주점', '1'], ['음식점에서 일반인대상으로 닭강정', '1'], ['떡집에서 주문받아 떡', '2'], ['학교에서 초등학생을 대상으로 초등교육 서비스', '5'], ['매장에서 고객대상으로 화장품판매', '0'], ['개인택시로 일반인을 대상으로 승객운송서비스', '4'], ['매장에서 산업사용자에게도매 고무벨트류 ,호스도매', '0'], ['주점에서 접객요원을 두고 양주 맥주', '1'], ['사업장에서 고객을 대상으로 차량 스팀세차 제공', '3'], ['노래방기기 시설을 갖추고 노래방에서 노래방운영', '9'], ['회사내에서 직원들에게 식사제공', '1'], ['관리소에서 입주민에게 주거용아파트관리', '6'], ['커피숍에서 접객시설을 갖추고 커피 제공', '1'], ['아파트관리사무소에서 삼보맨션아파트를 관리', '6'], ['한식  ', '1'], ['점포에서 일반인에게 화장품및방향제소매', '0'], ['온라인판매 소매 여성의류', '0'], ['천 재단,봉제 천막', '2'], ['업체에서 학생들 위주로 논술 수업', '5'], ['학원에서 수강생을 대상으로 미술지도', '5'], ['사업장에서 포크레인,도자등을운전자포함하여 중장비운영', '8'], ['사무소에서 전기설계 전기설계 서비스 제공', '10'], ['매장에서 일반고객 대상으로 피부마사지 제공', '3'], ['학원에서 원생대상으로 미술교육', '5'], ['모텔에서 일반인에게 숙박서비스', '1'], ['휴대폰  ', '0'], ['비닐 열처리 바인더.비닐케이스', '2'], ['체육관에서 학생을대상으로 줄넘기 수업', '5'], ['교회에서 기독교계통종교활동 종교서비스', '3'], ['슈퍼  ', '0'], ['음식점에 접객시설갖추고 돈가스', '1'], ['사업장에서 도소매 업자에게 샘물，음료수', '0'], ['사업장에서 농기계 판매및 수리', '2'], ['사업장에서 아파트를 관리', '6'], ['일반여행업  ', '11'], ['상가에서 일반소매업자에게 도매 아동핀,방울', '0'], ['세무사무소에서 고객의 의뢰를 받아 세무조정,기장대리', '10'], ['개인택시로 일반인을 대상으로 승객운송서비스', '4'], ['주차장에서 일반인을 대상으로 주차장운영업', '4'], ['당구장에서 일반인을대상으로 당구서비스제공', '9'], ['가게에서 일반소비자에게 양파,파 무, 등 소매', '0'], ['면,솜 재단,봉제 침구류제조', '2'], ['영업장에서 일반소비자대상 도배및실내장식', '8'], ['매장을갖추고 일반소비자에게소매 가정용에어컨', '0'], ['학생들에게 학원에서 연기,댄스,보컬강습', '5'], ['음식점에서 일반가정집 찜닭배달 판매', '1'], ['음식점에서 접객시설을 갖추고 낚지볶음', '1'], ['사업장에서 영화인대상 울산영화인들의친목단합', '3'], ['고객대상으로 사업장에서 낚시대판매', '0'], ['사무실에서 전자상거래 잡화', '0'], ['회집에서 접객요원및무도시설없이 한국식회를판매', '1'], ['유치원에서 관할교육청의인가를받아 미취학아동교육및보육', '5'], ['사업장에서 중개 육가공포장지 기계', '0'], ['유스호스텔에서 숙박시설을 갖추고 숙박서비스', '1'], ['중개서비스 비가공수산물 고등어, 메가리', '0'], ['방앗간에서 곡물을 가루내어 떡제조', '2'], ['시청출장소에서 지방자치단체 행정 집행 기관', '14'], ['미용실에서 일반인을 대상으로 퍼머,커트,염색', '3'], ['카페에서  커피,음료', '1'], ['수리점에서 고객의 의뢰에 의해 컴퓨터수리', '3'], ['사업장에서 고객의 요청에 의해 시설물 유지 관리,보수,개량', '8'], ['편의점에서 체인계약을 체결하여 음식료품위주', '0'], ['매장에서 일반인을 대상으로 여성의류 소매', '0'], ['매장에서 일반소비자에게 젓갈 소매', '0'], ['매장에서 일반소비자에게 의류소매', '0'], ['음식점에서 접객시설을 갖추고 해물탕,초밥', '1'], ['개별화물자동차로 고객의 요청으로 화물운송서비스', '4'], ['사업체에서 접객시설을 갖추고 맥주,안주제공', '1'], ['영업장에서 미용시설을 갖추고 두발미용업', '3'], ['주점에서 접객요원없이 양주,맥주 제공', '1'], ['사업장에서 고객의 의류을 세탁', '3'], ['시청안매장에서 일반인 대상으로 홍삼 소매 홍삼엑기스', '0'], ['노래방에서 시설을 갖추고 노래방운영', '9'], ['커피숍에서 접객시설을 갖추고 커피 제공', '1'], ['가게에서 일반소비자에게 과일소매', '0'], ['사업장에서 일반인들에게 당구연습운영', '9'], ['야채,간장등으로 나물등을 만들어 각종나물 및 반찬류 판매', '0'], ['개별화물자동차로 고객의 요청으로 화물운송서비스', '4'], ['부동산에서 계약및중개를통해 부동산거래서비스', '6'], ['사업장에서 일반소매업자를대상으로 과일야채곡류도매', '0'], ['약국에서 처방전에 의한 조제약, 의약품', '0'], ['안마카페에서 일반인을 대상으로 전동의자안마 서비스', '3'], ['가전제품 소매업(정수기, 비데)  ', '0'], ['음식점에서 접객시설갖추고 갈비찜 육회제공', '1'], ['주점에서 접객시설을 갖추고 소주,맥주', '1'], ['사업장에서 고객의 특정메시지를 전달 또는 표현 파워포인트제작(시각디자인)', '10'], ['매장에서 소매업자에게 도매 진미채,북어채,멸치등', '0'], ['농장에서 시설재배 버섯', '16'], ['사업장에서 고객의 주문을 받아 PVC.PP.PE 제조', '2'], ['부동산중개 계약에의거 중개', '6'], ['음식점에서 접객시설을 갖추고 일본식식사', '1'], ['던킨도너츠매장에서 접객시설을갖추고 도너츠 판매', '1'], ['청정식품 소비자 대상으로 식품잡화（식당재료）도매', '0'], ['매장에서 일반소비자에게 남성의류', '0'], ['사업장에서 접객시설을갖추고 커피 음료제공', '1'], ['부동산중개소에서 계약에 의거 부동산중개', '6'], ['매장에서 일반소비자에게소매 의약품,가정용의료용품', '0'], ['재단에서 학생들 대상으로 장학기금 운영', '3'], ['사업장에서 여성 겉옷 외주가공 여성 의류(겉옷)', '2'], ['친인척끼리 화합을 목적으로 친목도모', '3'], ['사업장에서 도소매 농약,종묘,비료,농자재', '0'], ['일반의원에서 외래환자위주로 이비인후과', '7'], ['가게에서 일반소비자에게소매 안경,콘텍트렌즈', '0'], ['건설현장에서 고객의 요구에 따라 연립주택건설', '8'], ['세탁소에서 드라이크리닝 의류세탁', '3'], ['사업장에서 일반인에게 전기용품.조명장치 도소매', '0'], ['의원에서 외래환자를 피부 및 진료', '7'], ['일반소비자에게 소매 조명점에서 형광등,스텐드,전구', '0'], ['편의점에서 일반인대상 식음료판매', '0'], ['사업자에서 일반인대상 헤어미용', '3'], ['개인택시로 일반인을 대상으로 승객운송서비스', '4'], ['유아청소년대학생대상 청소년성문화센터에서 성문화체험관성교육지도', '7'], ['매장에서` 일반소비자에게 콩나물판매', '0'], ['용달화물자동차로 고객의 요청으로 화물운송서비스', '4'], ['펜션에서 일반인을 대상으로 숙박서비스', '1'], ['고객에게제공 사업장 광고기획인쇄', '10'], ['고객의 의뢰로 오토바이를 이용하여 퀵서비스', '4'], ['금속 수주, 설계 ', '2'], ['개인택시로 일반인을 대상으로 승객운송서비스', '4'], ['음악실에서 연주 활동 악단 운영(동호회)', '9'], ['사업장에서 전기전자정밀기기 자동차밧데리등판매', '0'], ['사업장에서 고객의 의뢰를 받아 표구서비스', '2'], ['음식점에서 접객시설을갖추고 닭죽,오리백숙 닭도리탕판매', '1'], ['사업장에서 도매업자에게 철판, 철강 도매', '0'], ['개별화물자동차로 고객의 요청으로 화물운송서비스', '4'], ['철물점에서 일반소비자를대상 앵글.삽.호미판매', '0'], ['건축구축물의 건축물 내외부전기 전기설비설치공사', '8'], ['사무실에서 인터넷으로 대부중개서비스', '13'], ['인터넷으로 일반소비자에게소매 전복,새우장', '0'], ['용달화물자동차로 고객의 요청으로 화물운송서비스', '4'], ['금형제작 쇠 프레스금형', '2'], ['사업장에서 종교화원을 대상으로 불교단체 서비스', '3'], ['접객시설 갖추고 일반소비자 대상 떡볶이, 순대', '1'], ['매장에서 고갤을 대상으로 침구류판매', '0'], ['사업장에서 중개를 통하여 종합무역상품중개', '0'], ['개인택시로 일반인을 대상으로 승객운송서비스', '4'], ['사업장에서 접객시설을 갖추고 맥주,안주 제공', '1'], ['사무실에서 다른소매업자 화공약품', '0'], ['고객의요청에 현장에서 전기내선공사', '8'], ['나무,판넬 벌통제조 벌통', '2'], ['온라인 통신망을 통하여 일반소비자 대상으로 전자상거래 소매(의류 인터넷 쇼핑몰', '0'], ['치안센터 공공질서행정 치안서비스', '14'], ['일반소비자에게 사업장에서 가구 소매', '0'], ['여자용 외의를 가지고 일반소비자를 대상으로 여성용정장 바지등', '0'], ['영업장에서 접객시설을 갖추고 피자, 햄버거, 샌드위치 및 유사 음식제공', '1'], ['119구급대에서 국민들의안전을위하여 응급구조및화재진압', '14'], ['트레일러, 철판 자재입고, 가공 ', '2'], ['편의점에서 체인계약을 체결하여 식료품.담배 소매', '0'], ['사무실에서 인터넷을이용하여 유아 아동복소매', '0'], ['슈퍼에서 일반소비자 대상으로 식료품판매', '0'], ['음식점에서 접객시설을 갖추고 인도음식판매', '1'], ['치킨점에서 접객시설을 갖추고 치킨제공', '1'], ['비철 금속 전자기기, 부품제조 기타전자전자부품제조', '2'], ['오락실에서 일반인들에게 게임방제공', '9'], ['의류매장에서 일반인을 대상으로 성인. 아동의류 판매', '0'], ['사업장에서 레져용품 소매', '0'], ['일반인에게계약배달 사업장에서 신문보급소', '0'], ['사업장에서 고객요구에따라 인테리어공사', '8'], ['노래방에서 시설을갖추고 동전노래연습장', '9'], ['가구점에서 일반소비자에게판매 목재가구  쇼파등', '0'], ['음식점에서 접객시설을 갖추고 화초밥, 일본식 음식점', '1'], ['매장에서 소매업자에게 건축자재 도매', '0'], ['개별화물자동차로 고객의 요청으로 화물운송서비스', '4'], ['요양식당에서 음식을 조리하여 식사제공', '1'], ['안경점에서 일반인을 대상으로 안경,콘텍트렌즈등판매', '0'], ['음식점에서  분식.돈가스 제공', '1'], ['매장에서 일반고객을 대상으로 화장품등을 소매', '0'], ['조경자재를 가지고 도매업체에 납품 금속제울타리', '0'], ['용달화물자동차로 고객의 요청으로 화물운송서비스', '4'], ['상가에서 소비자들을대상으로 빵, 음료', '1'], ['매장에서 일반소비자대상으로 여자용겉옷소매', '0'], ['영업장에서 고객의뢰를받아 가정용 주방가구제조', '2'], [' 약국 ', '0'], ['간판 및 광고물 제조업 제조업 간판 및 광고물 제작', '2'], ['용달화물자동차로 고객의 요청으로 화물운송서비스', '4'], ['음식점에서 객석시설갖추고 파스타제공', '1'], ['사업장에서 굼벵이분말 제조, 판매', '0'], ['개별화물자동차로 고객의 요청으로 화물운송서비스', '4'], ['휴게소에서 일반소비자에게 커피.음료 등', '1'], ['생활예절교육 신청하는 수강생에게 교육을 함', '5'], ['자동차전문수리 특정부분만 전문적으로 수리 경정비,타이어,튜브수리', '3'], ['사업장에서 산업사업자에게 유압 호스 도매', '0'], ['치킨 전문점에서 접객시설 갖추고 후라이드,찜닭', '1'], ['선교원에서 기독교종교활동 선교사업,봉사활동', '3'], ['사업장에서 일반소비자에게 중고타이어소매', '0'], ['약국 일반소비자대상 소매 의약품 판매', '0'], ['금속 가공 기계부품(베아링)', '2'], ['음식점에서 접객시설을 갖추고 삼겹살등', '1'], ['가게에서 소매업자에게 CCTV. 카메라', '0'], ['천막천 고객의 의뢰를 받아 천막제작', '2'], ['노래방에서 코인을 넣은 만큼 노래를 부르는 곳', '9'], ['보험대리점에서 일반인대상으로 보험생명', '13'], ['개별화물자동차로 고객의 요청으로 화물운송서비스', '4'], ['개별화물자동차로 고객의 요청으로 화물운송서비스', '4'], ['사업장에서 산업사용자에게 철강재도매', '0'], ['분체도료, 포장자재 제품걸고-탈취-수세, 건조 ', '2'], ['매장에서 소매업자에게 전동공구', '0'], ['음식점에서 접객시설을 갖추고 파스타 스테이크 피자', '1'], ['커피숍에서 접객시설을갖추고 커피', '1'], ['판유리 특수유리 혼합 가공 건축인테리어유리', '2'], ['원단구입하여 가공업체 가공의뢰후 섬유원단 도매', '0'], ['아파트 입주자를 위하여 주거용아파트관리', '6'], ['교회에서 기독교계통 종교활동 종교서비스', '3'], ['사업장에서 하청주어 서류가방제조', '2'], ['매장에서 고객대상으로 핸드폰 판매', '0'], ['철 절단 금형 자동차부품', '2'], ['사업장에서 고객의 요청 종합운송 알선 서비스', '4'], ['상가에서 상인에게도매 모자', '0'], ['개인택시로 일반인을 대상으로 승객운송서비스', '4'], ['현장에서 고객의 요청에 따라 다리보수, 보강공사', '8'], ['상가에서 소매상에게 도매 여성의류', '0'], ['사업장에서 일반고객대상 페인트도매', '0'], ['사업장에서 고객을 대상으로 조사료배합판매', '2'], ['종이 제본 가공하여 책제조', '2'], ['남.여의류 방문고객대상 바지.셔츠(구제옷)', '0'], ['치과에서 외래환자위주로 치과진료서비스', '7'], ['분식  ', '1'], ['매장에서 일반소비자에게 전자제품판매', '0'], ['일반 교과 학원(기타 준사설강습소,교습소)  ', '5'], ['건설업 화학회사를 대상으로 건설기계 도급 및 대여', '8'], ['용달화물자동차로 고객의 요청으로 화물운송서비스', '4'], ['매장에서 고객에게 여성옷', '0'], ['부동산중개소에서 계약및중개등을통해 부동산중개업,컨설팅', '6'], ['음식점에서 접객시설을 갖추고 짜장면.짬뽕등 면종류 제공', '1'], ['매장에서 일반소비자에게 소매 여성겉옷', '0'], ['매장에서 접객시설을 갖추고 커피판매', '1'], ['교회에서 기독교계통의 종교서비스', '3'], ['빨래방 일반대중이 셀프세탁서비스', '3'], ['영업장에서 소비자를 대상으로 골동품 중개', '0'], ['마트에서 매장면적600㎡의 시설을 갖추고 음식료품 위주소매', '0'], ['음식점에서 접객시설을 갖추고 치킨제공', '1'], ['매장에서 일반인대상으로 여성의류판매', '0'], ['학원에서 학생을 대상으로 일반 교과 학원', '5'], ['사무실에서 고개의 의뢰에 의해 건축설계, 감리', '10'], ['사무실에서 구민을 대상으로 체육대회 행사지원', '3'], ['개인택시로 일반인을 대상으로 승객운송서비스', '4'], ['유통 동물용 의약품 동물약품도매', '0'], ['물/글리세린 원료배합.자동화기계화.포장 마스크팩', '2'], ['스텐인레스, 철 설계, 원재료구매 ', '2'], ['개별화물자동차로 고객의 요청으로 화물운송서비스', '4'], ['식품잡화  ', '0'], ['사업장에서 일반인대상으로 반찬판매', '0'], ['식당에서 접객시설을갖추고 옻닭 보신탕', '1'], ['음식점에서 접객시설을 갖추고 한식 판매(명태,갑오징어 조림)', '1'], ['소주방에서 접객시설을 갖추고 소주,맥주 판매', '1'], ['사업장에서 농작물 작업하여 농작물 보관', '4'], ['음식점에서 접객시설을갖추고 한식제공', '1'], ['복지재단 사무실에서 고객의 요청에 의해서 활동보조인사업,재가장기요양서비스 지원활동', '7'], ['미용실에서 일반인을 대상으로 머리자르기 염색', '3'], ['사업장에서 일반인대상 자동차타이어판매', '0'], ['주점에서 무도시설및접객요원없이 맥주.안주', '1'], ['학원에서 학생들에게 발표교육', '5'], ['동물대상으로 동물병원에서 동물치료,중절수술제공', '10'], ['사무실에서 본사연락을 통해 시즈오카현관광안내서비스(홍보, 시장조사)', '11'], ['음식점에서 접객시설을갖추고 돼지갈비 삼겹살등판매', '1'], ['사업장에서 소매업 여성의류판매', '0'], ['아파트관리 입주민을 위하여 주거관리', '6'], ['아파트 관리 사무소에서 아파트 입주자를 위하여 주거용 아파트 관리 서비스', '6'], ['사업장에서 전화주문을 받아  판매 경조화환', '0'], ['매장에서 접객시설을 갖추고 커피,음료', '1'], ['플라스틱 사출 성형 산업용 로봇 제작', '2'], ['점포에서 소매업자에게 도소매 음향기기', '0'], ['  부동산중개업', '6'], ['서류작업관련 대리 사업장에서 노무사', '10'], ['무좀예방치료용양말  ', '2'], ['사업장에서 산업사용자대상 실험실용과학기기도매', '0'], ['사업장에서 고객의뢰시 공연장대여', '6'], ['개인택시로 일반인을 대상으로 승객운송서비스', '4'], ['학원에서 학생을 대상으로 피아노,바이올린', '5'], ['부동산 계약에의거 부동산중개및대리', '6'], ['음식점에서 접객시설을 갖추고 육개장,추어탕', '1'], ['판매장에서 소비자에게 소매 페인트 판매', '0'], ['음식점에서 접객시설을 갖추고 맥주소주 판매', '1'], ['절에서 일반신도들을 대상으로 불교서비스', '3'], ['영업장 일반 소비자 벽지,장판', '0'], ['보건지소에서 외래환자위주 진료서비스', '7'], ['점포 일반인 옷수선', '3'], ['정육점에서 일반소비자에게 소고기,돼지고기', '0'], ['음식점에서 접객시설을 갖추고 전,막걸리', '1'], ['영업장에서 접객시설을갖추고 피자전문점', '1'], ['사업장에서 해외쇼핑몰에 인터넷 판매 가전제품(청소기)', '0'], [' 한식도시락전문점 ', '1'], ['염색방에서 고객을 대상으로 머리염색서비스', '3'], ['이발소에서 두발이용서비스 이발, 면도', '3'], ['계약에 의해 오폐수 정화조 시설공사 오.폐수 정화조 설치', '8'], ['산수환경기술에서 위탁을 받아 산업폐수처리 운영', '15'], ['미용실에서 두발미용서비스 염색,파마등', '3'], ['화학섬유사 직조 혼방합성섬유', '2'], ['편의점에서 체인계약을 체결하여 음식료품판매', '0'], ['철판,철강 가공,조립 건설기계제조', '2'], ['건설현장에 전기공사에 필요한 케이블도매', '0'], ['사무실에서 고객과계약에의해 정수기렌탈', '11'], ['동물병원 ？물을 대상으로 수의서비스', '10'], ['전자부품 개발,컨설팅 판매,제조', '0'], ['동물을 대상으로 동물병원에서 질병예방.치료', '10'], ['남성용외의를 다른소매업자에대량으로도매 등산복', '0'], ['생병보험업 일반대중을 대상으로 생명보험운영', '13'], ['플라스틱을 녹여서 풍선처럼 필름제조', '2'], ['음식점에서 접객시설을 갖추고 양념갈비,삼겹살', '1'], ['가구점에서 일반인대상 가구,쇼파 판매', '0'], ['음식점에서 접객시설을갖추고 설렁탕', '1'], ['사업장에서 어린이 환경운동', '3'], ['특산품 제조업 미역건조', '2'], ['건설현장에서 건설업자의 요청에 따라 철근 및 철근콘크리트 공사업', '8'], ['비가공 수산물을 일반 소비자에게 소매 광어 우럭', '0'], ['다이어트댄스 서비스 댄스교육', '5'], ['부동산에서 계약에 의해 전 월세 알선', '6'], ['매장에서 일반소비자에게 천연,유기농화장품판매', '0'], ['개인택시로 일반인을 대상으로 승객운송서비스', '4'], ['사업장에서 소비자에 화장품판매', '0'], ['노래방에서 노래연습반주기를 갖추고 노래방서비스', '9'], ['개별화물자동차로 고객의 요청으로 화물운송서비스', '4'], ['쌀 분쇄, 열처리하여 떡류 생산 송편, 절편', '2'], ['PP, PBT PP, 녹임 플라스틱배합성형재료구입가공', '2'], ['사업장에서 일반소비자에게 철물소매', '0'], ['현장에서 주택을 대상으로 인테리어건설업', '8'], ['매장에서 일반소비자에게 여성의류', '0'], ['개인택시로 일반인을 대상으로 승객운송서비스', '4'], ['회로,스텐파이프 자재입고 납땜하여 전화기', '2'], ['가죽 재봉 의류.피혁제품.무역', '2'], ['사무실에서 사업자의요청으로 광고문안 도안 작성', '10'], ['학원에서 학생을 대상으로 영어교육', '5'], ['사업장에서 반도체부품 제조용기계 제작.납품', '2'], ['레진 자재입고, 사출 ', '2'], ['폴리원단, PVC(실사부착물) 기획디자인, 컴퓨터입력 ', '2'], ['개인택시로 일반인을 대상으로 승객운송서비스', '4'], ['용달화물자동차로 고객의 요청으로 화물운송서비스', '4'], ['막 투입, 재단 ', '2'], ['매장에서 소비자에게 소매 퀼트', '0'], ['음식점에서 접객시설을갖추고 가오리찜', '1'], ['교습소에서 학생에게 수학교육', '5'], ['사업장에서 전화주문통해 한식.배달', '1'], ['용달화물자동차로 고객의 요청으로 화물운송서비스', '4'], ['게스트하우스 일반인대상 숙박제공', '0'], ['치과에서 외래환자위주 치과진료', '7'], ['매장에서 일반소비자에게 여성의류 소매(정장)', '0'], ['개인택시로 일반인을 대상으로 승객운송서비스', '4'], ['음식점에서 접객시설을 갖추고 일본식 카레', '1'], ['외과에서 외래환자위주로 외과 진료', '7'], ['티타늄,TR 안경테조립 안경테', '2'], ['세탁소에서 일반인을 대상으로 가정세탁물 취급', '3'], ['용달화물자동차로 고객의 요청으로 화물운송서비스', '4'], ['학원에서 학생에게 미술 교육', '5'], ['용달화물자동차로 고객의 요청으로 화물운송서비스', '4'], ['아파트 관리 사무소 아파트 입주자들을 위하여 주거용 아파트 관리 서비스', '6'], ['한식  ', '1'], ['매장에서 일반인대상으로 캐쥬얼의류판매', '0'], ['철 전처리, 가열 ', '2'], ['영업장에서 고객에게\\\\ 한식', '1'], ['음식점에서 접객시설을 갖추고 비빔밥,정식판매', '1'], ['가게에서 학생등 일반인을 대상으로 문구용품, 잡화', '0'], ['노래연습장에서 서비스 제공 노래방시설', '9'], ['씽크대등주방제품 주문받아 제작', '2'], ['매장에서 일반소비자에게 유아동복', '0'], ['상가에서 일반인에게 구두소매', '0'], ['매장에서 일반소비자를 대상으로 골프의류 소매', '0'], ['미용실에서 일반인을 대상으로 컷트.염색.펌', '3'], ['학원에서 학생을 대상으로 수학교육', '5'], ['사업장에서 일반소비자를 대상으로 떡전문점', '2'], ['복순태양광발전소에서 태양열 정기', '17'], ['음식점에서 접객시설을 갖추고 한식판매(산채비빔밥등)', '1'], ['AL스틸 가공 반도체장비부품', '2'], ['펜션에서 숙박시설을 가지고 숙박제공', '1'], ['한의원 외래환자위주 진료', '7'], ['미용실 두발미용서비스 커트염색 퍼머등', '3'], ['수입 소매상을 대상으로 의류', '0'], ['법률사무소에서 고객의 요청에 소송 변호', '10'], ['용달화물자동차로 고객의 요청으로 화물운송서비스', '4'], ['이발소에서 두발미용서비스제공 머리자르기.염색', '3'], ['개인택시로 일반인을 대상으로 승객운송서비스', '4'], ['개인택시로 일반인을 대상으로 승객운송서비스', '4'], ['당구장에서 일반인대상으로 당구게임 서비스', '9'], ['영업장에서 고객에게 민박', '1'], ['영업점에서 고객의요청으로 피자배달전문', '1'], ['가게에서 소비자에게 소매 통닭', '1'], ['천연석재을 가지고 절단 성형가공하여 비석.묘지석제품제조', '2'], ['음식점에서 접객시설 갖추고 자장면.짬뽕', '1'], ['주점에서 접객요원을 두고 소주맥주판매', '1'], ['매장에서 일반인대상 생선', '0'], ['철판 소재입고, 유압프레스 ', '2'], ['어린이집 보호자로부터위탁받아 유아보육', '7'], ['사업장에서 일반소비자를 대상으로 복권판매', '9'], ['음식을 조리하여 단체급식서비스(외부조리공급)', '2'], ['합판PB 절단,가공,조립 수납가구 제작', '2'], ['교습소에서 수강생을 대상으로 피아노 교습', '5'], ['개인택시로 일반인을 대상으로 승객운송서비스', '4'], ['일반의원에서 외래환자위주로 산부인과진료', '7'], ['냉동및냉동창고 고객의요청 식용얼음도매', '0'], ['어린이집에서 보호자로부터 위탁받아 취학전 유아보육', '7'], ['건축업자대상 매장에서 타일도매', '0'], ['매장에서 소매업자에게 포장자재 도매', '0'], ['암자에서 불교 계통 종교 활동 종교 서비스', '3'], ['일반화물자동차로 고객의 요청으로 화물운송서비스', '4'], ['부동산에서 중개자에게 중개수수료,매매', '6'], ['음식점에서 접객시설을갖추고 설렁탕판매', '1'], ['커피콩 고객의 주문으로 원두커피가공', '2'], ['피부관리실에서 일반인대상으로 피부관리서비스제공', '3'], ['용달화물자동차로 고객의 요청으로 화물운송서비스', '4'], ['보건업 입원시설을 갖추고 노인,장애인 요양병원', '7'], ['영업장에서 일반소비자에게 티,바지', '0'], ['개인택시로 일반인을 대상으로 승객운송서비스', '4'], ['기타금융  ', '13'], ['사무실에서 구문천산업단지 조성', '6'], ['사업장에서 산업사용자나 소매업자에게 액체연료및 관련제품 도매', '0'], ['매장에서 일반소비자를대상으로 음식료 잡화', '0'], ['사업장에섭 일반인대상으로 반찬가게', '1'], ['사찰에서 종교활동 종교서비스업', '3'], ['  게스트하우스', '1'], ['용달화물자동차로 고객의 요청으로 화물운송서비스', '4'], ['사업장에서 다른소매업자에게 도매 참깨,고추도매', '0'], ['용달화물자동차로 고객의 요청으로 화물운송서비스', '4'], ['미용실 두발미용서비스 제공 커트 염색 퍼머 등', '3'], ['의뢰받은 사업장에서 도배 장판지를 가지고 도배 장판시공', '8'], ['대명3차아파트에서 관리비 아파트관리', '6'], ['공사현장 포크레인 중장비 건설기계 임대및 운영', '8'], ['플라스틱, 에틸렌프로필렌고무 재료입고, 재단 ', '2'], ['매장에서 고객을대상으로 유아복 소매', '0'], ['부동산사무실 부동산정보를이용 부동산임대및중개알선', '6'], ['사업체에서 토목건설에관련된 엔지니어링서비스', '10'], ['커피 접객시설을갖추고 비알콜음료제공', '1'], ['사업장에서 숙박시설을 갖추고 숙박 서비스', '1'], ['용달화물자동차로 고객의 요청으로 화물운송서비스', '4'], ['매장 소매 종합상품 판매', '0'], ['주점에서 접객시설 갖추고 술과 안주류 연탄불 곱창 등을 판매', '1'], ['세탁소에서 일반인 대상 세탁,드라이 서비스', '3'], ['철사이팅 목재스티로품 절단 조립붙임 스틸하우스건물용컨테이너 제작', '2'], ['사업장 기계시설갖추고 떡제조', '2'], ['세차장에서 고객을 대상으로 차량세차서비스', '3'], ['미용실 고객대상으로 컷트 파마', '3'], ['분식점에서 접객시설을 갖추고 김밥,분식판매', '1'], ['잡화, 생활용품 등  ', '0'], ['에어플러스에서 계약에의거 부동산중개 부동산중개서비스', '6'], ['용달화물자동차로 고객의 요청으로 화물운송서비스', '4'], ['과일가게 소비자대상으로 소매 사과.배.수박', '0'], ['노래연습장에서 일반고객에게 노래연습장서비스', '9'], [' 도자기 제조 ', '2'], ['학교에서 교육서비스 초등학교', '5'], ['사업장에서 제조 공기압축기부품', '2'], ['치킨.맥주  ', '1'], ['개인택시로 일반인을 대상으로 승객운송서비스', '4'], ['건설업 의뢰받아 각종건설업', '10'], ['음식점에서 접객시설을갖추고 갈비탕', '1'], ['우유대리점에서 다른 소매업체로 도매 우유', '0'], ['세탁소 세탁물수집하여 드라이크리닝세탁서비스', '3'], ['의류 도소매 여성정장', '0'], ['음식점에서 접객시설을 갖추고 양꼬치 짬뽕', '1'], ['일반소비자에게 슈퍼마켓(165㎡-3,000㎡) 음식료품 위주 소매', '0'], ['백화점에서 일반소비자에게 신발소매', '0'], ['안경점 일반고객에게 안경,렌즈소매', '0'], ['금,은등을 성형,연마하여 각종귀금속부분품 제조', '2'], ['개별화물자동차로 고객의 요청으로 화물운송서비스', '4'], ['학원에서 수강생을 대상으로 태권도', '5'], ['노래방 일반인 노래연습장', '9'], ['관리사무소에서 아파트입주자를 위하여 관리서비스', '6'], ['개인택시로 일반인을 대상으로 승객운송서비스', '4'], ['부동산중개사무소 계약및중개들을통해수수료를받음 부동산거래중개서비스', '6'], ['아이스크림할인점에서 일반소비자에게 아이스크림판매', '0'], ['비주거용건물을 임대를 통하여 사무실', '6'], ['사업장에게 일반인대상으로 요가강습', '5'], ['커피숍에서 접객시설을 갖추고 커피, 차', '1'], ['고객요청으로 매장에서 악기대여(색소폰)', '11'], ['개별화물자동차로 고객의 요청으로 화물운송서비스', '4'], ['편의점 일반인대상 체인화편의점', '0'], ['부동산중개소 계약및중개 중개서비스', '6'], ['접객시설을갖추고 호프집에서 맥주,안주', '1'], ['음식점에서 접객시설을갖추고 보양탕판매', '1'], ['영업점에서 소비자에게 속눈썹 문신, 아트메이컵', '3'], ['주점에서 접객요원및무도시설없이 소주,맥주', '1'], ['매장에서 일반소비자에게 소매 귀금속판매', '0'], ['음식점에ㅓ 접객시설갖추고 차돌박이덮밥', '1'], ['음식점에서 접객시설을 갖추고 일반 한식 제공', '1'], ['음식점 접색시설 양꼬치', '1'], ['사업장에서 산업사용자에게 냉열연코일및철판', '0'], ['호산나 검사대행에서 고객의 요청에 의해 자동차검사 대행서비스', '11'], ['용달화물자동차로 고객의 요청으로 화물운송서비스', '4'], ['사업장에서 가정심리상담 서비스', '7'], ['음식점에서 간이음식을 조리하여제공 라면,분식', '1'], ['매장 접객시설을 두고 한식', '1'], ['교회에서 기독교계통 종교서비스', '3'], ['사업장에서 산업사용자에게 전력제어장치제조', '2'], ['매장에서 소매업자에게 통신기기 도매', '0'], ['부동산중개소에서 계약에 의거 부동산중개 부동산 중개 서비스', '6'], ['부동산중개소에서 토지등 부동산 중개서비스 토지,건물', '6'], ['개별화물자동차로 고객의 요청으로 화물운송서비스', '4'], ['단란주점  ', '1'], ['주점에서 접객요원없이 소주 맥주', '1'], ['치킨가게에서 접객시설을갖추고 양념후라이드판매', '1'], ['매장에서 일반소비자대상 도자기류', '0'], ['편의점에서 일반인대상 음식료품, 잡화', '0'], ['분식점에서 간이음식조리하여 떡볶이,김밥 제공', '1'], ['부동산중개소에서 계약에 의거 부동산 중개 서비스', '6'], ['농장에서 일반소비자에게 소매 밤，감', '0'], ['개인택시로 일반인을 대상으로 승객운송서비스', '4'], ['영업장에서  스팀 세차 광택', '3'], ['부동산 중개업소 계약에 의거 부동산 중개 부동산 중개, 경매서비스', '6'], ['사무실에서 의뢰를받아 토목설계서비스', '10'], ['사업장에서 접객시설을 갖추고 커피', '1'], ['마카롱디저트카페 접객시설을 갖추고 마카롱.쿠기.커피', '1'], ['무역 도매 기타생활용품', '0'], ['교회에서 기독교신자들대상으로 종교서비스', '3'], ['미장원에서 두발미용서비스제공 머리자르기.염색등', '3'], ['음악학원 학생들을 대상으로 피아노교육', '5'], ['소주방에서 일반인대상으로 소주,안주', '1'], ['피부마사지 시설을 갖추고 일반인을 대상으로 피부마사지', '3'], ['사업장에서 고객대상으로 화장품판매', '0'], ['타이어 일반인 대상으로 타이어 교환', '0'], ['음식점에서 접객시설을갖추고 생고기', '1'], ['매장에서 소비자 대상 꽃판매', '0'], ['가게에서 일반소비자에게 바지,티셔츠소매', '0'], ['개인택시로 일반인을 대상으로 승객운송서비스', '4'], ['사업장에서 소매상을 대상으로 면류도매', '0'], ['판매장에서 일반인대상으로 여성의류', '0'], ['홈패션  ', '0'], ['실을 가지고 컴퓨터기계를 이용하여 자수', '2'], ['사업장에서 고장난 모터 수리', '2'], ['한의원에서 외래환자위주로 한의학과 진료', '7'], ['사무실에서 농지관리 농지,수자원관리', '16'], ['사업장에서 일반인 대상으로 철물,건재 판매', '0'], ['사업장에서 일반인 대상으로 천연염색 체험', '9'], ['개별화물자동차로 고객의 요청으로 화물운송서비스', '4'], ['철자재, 전기자재 주문, 설계 ', '2'], ['개인택시로 일반인을 대상으로 승객운송서비스', '4'], ['음악학원에서 학생 대상 피아노 교습', '5'], ['목재 MDF 재단 조립 서랍장', '2'], ['음식점에서 접객시설을갖추고 오리고기', '1'], ['합기도도장에서 유치부에서 일반인까지 합기도 수련 서비스제공', '5'], ['부동산사무소 계약에의거 부동산중개서비스', '6'], ['편의점 일반소비자 음식료품판매', '0'], ['사업장에서 소매업자를대상으로 도매 조립식건축자재', '0'], ['아파트 관리사무소에서 아파트 입주가를 위하여 주거용 아파트 관리서비스', '6'], ['카센타에서 자동차특정부분 전문수리 경정비 타이어내장수리', '3'], ['개인택시로 일반인을 대상으로 승객운송서비스', '4']]\n"
          ]
        }
      ]
    },
    {
      "cell_type": "code",
      "source": [
        ""
      ],
      "metadata": {
        "id": "xdv6VPGk_dIX"
      },
      "execution_count": 15,
      "outputs": []
    },
    {
      "cell_type": "markdown",
      "metadata": {
        "id": "aFjncd4CnGZR"
      },
      "source": [
        "# KoBERT 입력 데이터로 만들기"
      ]
    },
    {
      "cell_type": "code",
      "source": [
        "class BERTDataset(Dataset):\n",
        "    def __init__(self, dataset, sent_idx, label_idx, bert_tokenizer, max_len,\n",
        "                 pad, pair):\n",
        "        transform = nlp.data.BERTSentenceTransform(\n",
        "            bert_tokenizer, max_seq_length=max_len, pad=pad, pair=pair)\n",
        "\n",
        "        self.sentences = [transform([i[sent_idx]]) for i in dataset]\n",
        "        self.labels = [np.int32(i[label_idx]) for i in dataset]\n",
        "\n",
        "    def __getitem__(self, i):\n",
        "        return (self.sentences[i] + (self.labels[i], ))\n",
        "\n",
        "    def __len__(self):\n",
        "        return (len(self.labels))"
      ],
      "metadata": {
        "id": "19YLwHwC_3y2"
      },
      "execution_count": 16,
      "outputs": []
    },
    {
      "cell_type": "code",
      "source": [
        "# Setting parameters\n",
        "max_len = 64\n",
        "batch_size = 64\n",
        "warmup_ratio = 0.1\n",
        "num_epochs = 1 #추후 num_epochs 증가할 필요 있음\n",
        "max_grad_norm = 1\n",
        "log_interval = 200\n",
        "learning_rate =  5e-5"
      ],
      "metadata": {
        "id": "sO26V97-_31Z"
      },
      "execution_count": 17,
      "outputs": []
    },
    {
      "cell_type": "markdown",
      "source": [
        " ### 추후 과제 : 쓰이는 parameters 최적화 필요"
      ],
      "metadata": {
        "id": "uCkta63aAI9f"
      }
    },
    {
      "cell_type": "code",
      "source": [
        "#토큰화\n",
        "tokenizer = get_tokenizer()\n",
        "tok = nlp.data.BERTSPTokenizer(tokenizer, vocab, lower=False)"
      ],
      "metadata": {
        "colab": {
          "base_uri": "https://localhost:8080/"
        },
        "id": "x9cRyQFZ_33r",
        "outputId": "dc601d1e-c7fb-4c19-bfde-f444c9995afc"
      },
      "execution_count": 18,
      "outputs": [
        {
          "output_type": "stream",
          "name": "stdout",
          "text": [
            "using cached model. /content/.cache/kobert_news_wiki_ko_cased-1087f8699e.spiece\n"
          ]
        }
      ]
    },
    {
      "cell_type": "code",
      "source": [
        "data_train = BERTDataset(dataset_train, 0, 1, tok, max_len, True, False)\n",
        "data_test = BERTDataset(dataset_test, 0, 1, tok, max_len, True, False)"
      ],
      "metadata": {
        "id": "qdchyUi8MHuZ"
      },
      "execution_count": 19,
      "outputs": []
    },
    {
      "cell_type": "code",
      "source": [
        "data_train[0]"
      ],
      "metadata": {
        "colab": {
          "base_uri": "https://localhost:8080/"
        },
        "id": "x9NbB8ut_36O",
        "outputId": "90c6a2b1-8273-4c46-e7b9-c3e12a083fb6"
      },
      "execution_count": 20,
      "outputs": [
        {
          "output_type": "execute_result",
          "data": {
            "text/plain": [
              "(array([   2, 1998, 6903, 3807, 5440, 5936, 3625,  517,   54, 2184, 7176,\n",
              "        7941, 7689,    3,    1,    1,    1,    1,    1,    1,    1,    1,\n",
              "           1,    1,    1,    1,    1,    1,    1,    1,    1,    1,    1,\n",
              "           1,    1,    1,    1,    1,    1,    1,    1,    1,    1,    1,\n",
              "           1,    1,    1,    1,    1,    1,    1,    1,    1,    1,    1,\n",
              "           1,    1,    1,    1,    1,    1,    1,    1,    1], dtype=int32),\n",
              " array(14, dtype=int32),\n",
              " array([0, 0, 0, 0, 0, 0, 0, 0, 0, 0, 0, 0, 0, 0, 0, 0, 0, 0, 0, 0, 0, 0,\n",
              "        0, 0, 0, 0, 0, 0, 0, 0, 0, 0, 0, 0, 0, 0, 0, 0, 0, 0, 0, 0, 0, 0,\n",
              "        0, 0, 0, 0, 0, 0, 0, 0, 0, 0, 0, 0, 0, 0, 0, 0, 0, 0, 0, 0],\n",
              "       dtype=int32),\n",
              " 0)"
            ]
          },
          "metadata": {},
          "execution_count": 20
        }
      ]
    },
    {
      "cell_type": "code",
      "source": [
        ""
      ],
      "metadata": {
        "id": "33jE6fNZthzB"
      },
      "execution_count": 20,
      "outputs": []
    },
    {
      "cell_type": "code",
      "source": [
        "train_dataloader = torch.utils.data.DataLoader(data_train, batch_size=batch_size, num_workers=5)\n",
        "test_dataloader = torch.utils.data.DataLoader(data_test, batch_size=batch_size, num_workers=5)"
      ],
      "metadata": {
        "colab": {
          "base_uri": "https://localhost:8080/"
        },
        "id": "-UgKG-K6Qg5n",
        "outputId": "5a66a53f-ef4c-4a62-d44b-75ff784c2679"
      },
      "execution_count": 21,
      "outputs": [
        {
          "output_type": "stream",
          "name": "stderr",
          "text": [
            "/usr/local/lib/python3.7/dist-packages/torch/utils/data/dataloader.py:481: UserWarning: This DataLoader will create 5 worker processes in total. Our suggested max number of worker in current system is 4, which is smaller than what this DataLoader is going to create. Please be aware that excessive worker creation might get DataLoader running slow or even freeze, lower the worker number to avoid potential slowness/freeze if necessary.\n",
            "  cpuset_checked))\n"
          ]
        }
      ]
    },
    {
      "cell_type": "code",
      "source": [
        ""
      ],
      "metadata": {
        "id": "3HLvSfnPQg8L"
      },
      "execution_count": 21,
      "outputs": []
    },
    {
      "cell_type": "markdown",
      "source": [
        "# KoBERT 학습 모델 만들기"
      ],
      "metadata": {
        "id": "txXyxDxdPE5w"
      }
    },
    {
      "cell_type": "code",
      "source": [
        "class BERTClassifier(nn.Module):\n",
        "    def __init__(self,\n",
        "                 bert,\n",
        "                 hidden_size = 768,\n",
        "                 num_classes=19,   ##클래스 수 조정##\n",
        "                 dr_rate=None,\n",
        "                 params=None):\n",
        "        super(BERTClassifier, self).__init__()\n",
        "        self.bert = bert\n",
        "        self.dr_rate = dr_rate\n",
        "                 \n",
        "        self.classifier = nn.Linear(hidden_size , num_classes)\n",
        "        if dr_rate:\n",
        "            self.dropout = nn.Dropout(p=dr_rate)\n",
        "    \n",
        "    def gen_attention_mask(self, token_ids, valid_length):\n",
        "        attention_mask = torch.zeros_like(token_ids)\n",
        "        for i, v in enumerate(valid_length):\n",
        "            attention_mask[i][:v] = 1\n",
        "        return attention_mask.float()\n",
        "\n",
        "    def forward(self, token_ids, valid_length, segment_ids):\n",
        "        attention_mask = self.gen_attention_mask(token_ids, valid_length)\n",
        "        \n",
        "        _, pooler = self.bert(input_ids = token_ids, token_type_ids = segment_ids.long(), attention_mask = attention_mask.float().to(token_ids.device))\n",
        "        if self.dr_rate:\n",
        "            out = self.dropout(pooler)\n",
        "        return self.classifier(out)"
      ],
      "metadata": {
        "id": "xMb9tpMkQg-Z"
      },
      "execution_count": 22,
      "outputs": []
    },
    {
      "cell_type": "code",
      "source": [
        "#BERT 모델 불러오기\n",
        "model = BERTClassifier(bertmodel,  dr_rate=0.5).to(device)\n",
        "\n",
        "#optimizer와 schedule 설정\n",
        "no_decay = ['bias', 'LayerNorm.weight']\n",
        "optimizer_grouped_parameters = [\n",
        "    {'params': [p for n, p in model.named_parameters() if not any(nd in n for nd in no_decay)], 'weight_decay': 0.01},\n",
        "    {'params': [p for n, p in model.named_parameters() if any(nd in n for nd in no_decay)], 'weight_decay': 0.0}\n",
        "]\n",
        "\n",
        "optimizer = AdamW(optimizer_grouped_parameters, lr=learning_rate)\n",
        "loss_fn = nn.CrossEntropyLoss()\n",
        "\n",
        "t_total = len(train_dataloader) * num_epochs\n",
        "warmup_step = int(t_total * warmup_ratio)\n",
        "\n",
        "scheduler = get_cosine_schedule_with_warmup(optimizer, num_warmup_steps=warmup_step, num_training_steps=t_total)\n",
        "\n",
        "#정확도 측정을 위한 함수 정의\n",
        "def calc_accuracy(X,Y):\n",
        "    max_vals, max_indices = torch.max(X, 1)\n",
        "    train_acc = (max_indices == Y).sum().data.cpu().numpy()/max_indices.size()[0]\n",
        "    return train_acc\n",
        "    \n",
        "train_dataloader"
      ],
      "metadata": {
        "id": "wX1tgnXZQhA5",
        "colab": {
          "base_uri": "https://localhost:8080/"
        },
        "outputId": "9d95afad-26a3-4565-f3b4-c373ce75619f"
      },
      "execution_count": 23,
      "outputs": [
        {
          "output_type": "stream",
          "name": "stderr",
          "text": [
            "/usr/local/lib/python3.7/dist-packages/transformers/optimization.py:309: FutureWarning: This implementation of AdamW is deprecated and will be removed in a future version. Use the PyTorch implementation torch.optim.AdamW instead, or set `no_deprecation_warning=True` to disable this warning\n",
            "  FutureWarning,\n"
          ]
        },
        {
          "output_type": "execute_result",
          "data": {
            "text/plain": [
              "<torch.utils.data.dataloader.DataLoader at 0x7f3bf604ea10>"
            ]
          },
          "metadata": {},
          "execution_count": 23
        }
      ]
    },
    {
      "cell_type": "code",
      "source": [
        ""
      ],
      "metadata": {
        "id": "wPe2dTOZQhDA"
      },
      "execution_count": 23,
      "outputs": []
    },
    {
      "cell_type": "code",
      "source": [
        ""
      ],
      "metadata": {
        "id": "3F7oMnWQQluQ"
      },
      "execution_count": 23,
      "outputs": []
    },
    {
      "cell_type": "code",
      "source": [
        ""
      ],
      "metadata": {
        "id": "4_CkFowjXYtQ"
      },
      "execution_count": 23,
      "outputs": []
    },
    {
      "cell_type": "markdown",
      "source": [
        "# KoBERT 모델 학습시키기"
      ],
      "metadata": {
        "id": "wok_Ds2QPYGG"
      }
    },
    {
      "cell_type": "code",
      "source": [
        "for e in range(num_epochs):\n",
        "    train_acc = 0.0\n",
        "    test_acc = 0.0\n",
        "    model.train()\n",
        "    for batch_id, (token_ids, valid_length, segment_ids, label) in enumerate(tqdm_notebook(train_dataloader)):\n",
        "        optimizer.zero_grad()\n",
        "        token_ids = token_ids.long().to(device)\n",
        "        segment_ids = segment_ids.long().to(device)\n",
        "        valid_length= valid_length\n",
        "        label = label.long().to(device)\n",
        "        out = model(token_ids, valid_length, segment_ids)\n",
        "        loss = loss_fn(out, label)\n",
        "        loss.backward()\n",
        "        torch.nn.utils.clip_grad_norm_(model.parameters(), max_grad_norm)\n",
        "        optimizer.step()\n",
        "        scheduler.step()  # Update learning rate schedule\n",
        "        train_acc += calc_accuracy(out, label)\n",
        "        if batch_id % log_interval == 0:\n",
        "            print(\"epoch {} batch id {} loss {} train acc {}\".format(e+1, batch_id+1, loss.data.cpu().numpy(), train_acc / (batch_id+1)))\n",
        "    print(\"epoch {} train acc {}\".format(e+1, train_acc / (batch_id+1)))\n",
        "    \n",
        "    model.eval()\n",
        "    for batch_id, (token_ids, valid_length, segment_ids, label) in enumerate(tqdm_notebook(test_dataloader)):\n",
        "        token_ids = token_ids.long().to(device)\n",
        "        segment_ids = segment_ids.long().to(device)\n",
        "        valid_length= valid_length\n",
        "        label = label.long().to(device)\n",
        "        out = model(token_ids, valid_length, segment_ids)\n",
        "        test_acc += calc_accuracy(out, label)\n",
        "    print(\"epoch {} test acc {}\".format(e+1, test_acc / (batch_id+1)))"
      ],
      "metadata": {
        "colab": {
          "base_uri": "https://localhost:8080/",
          "height": 282,
          "referenced_widgets": [
            "7cb85a9ec8d3432292e745b7340582e5",
            "55328bd38fff4ae19b65acaaafdcf358",
            "362dae8761a4454eb1bf2242b18ad393",
            "377ae174d2174632bb782487ac8417d1",
            "a4c5ae3639a8467fa0bf5c2de1cc666b",
            "b2eabbfe991a41d0bc4c76dfba830124",
            "bbf5c31963514e4786648b46d4f5da92",
            "71229dc038384b86a04672c784b70c05",
            "27b8488a55cd4b80a53a9bb7f44fc716",
            "65d5543164bd47dca24efa9b00675b0f",
            "f339afe6ace644b2aa6ac14cff3a4f7a",
            "37a7747c68df49dab91a60cc6c7ba5a2",
            "cb63b140747d4df481a94141f84240b2",
            "3219afda79cd44fa84d1956bd50ec9c6",
            "2409020877b44703ae08b638ca6a560a",
            "c383870b809141cebe00e23e86ff643f",
            "02a406be779240caa03a81dd778be857",
            "d52548be15da4982b1c7f06ef0db9137",
            "10639284858743d98f4210845fd83de6",
            "64b4f95f5f9348f29ca246e9c22e1b4b",
            "35c5304afe1a47f294b3c89337b71df7",
            "4c264adf2d3445a6b77c5c335d53cb29"
          ]
        },
        "id": "GzT0FWndXYvw",
        "outputId": "55228793-3c3c-4108-ac71-ee1690799395"
      },
      "execution_count": 24,
      "outputs": [
        {
          "output_type": "stream",
          "name": "stderr",
          "text": [
            "/usr/local/lib/python3.7/dist-packages/ipykernel_launcher.py:5: TqdmDeprecationWarning: This function will be removed in tqdm==5.0.0\n",
            "Please use `tqdm.notebook.tqdm` instead of `tqdm.tqdm_notebook`\n",
            "  \"\"\"\n"
          ]
        },
        {
          "output_type": "display_data",
          "data": {
            "text/plain": [
              "  0%|          | 0/157 [00:00<?, ?it/s]"
            ],
            "application/vnd.jupyter.widget-view+json": {
              "version_major": 2,
              "version_minor": 0,
              "model_id": "7cb85a9ec8d3432292e745b7340582e5"
            }
          },
          "metadata": {}
        },
        {
          "output_type": "stream",
          "name": "stderr",
          "text": [
            "/usr/local/lib/python3.7/dist-packages/torch/utils/data/dataloader.py:481: UserWarning: This DataLoader will create 5 worker processes in total. Our suggested max number of worker in current system is 4, which is smaller than what this DataLoader is going to create. Please be aware that excessive worker creation might get DataLoader running slow or even freeze, lower the worker number to avoid potential slowness/freeze if necessary.\n",
            "  cpuset_checked))\n"
          ]
        },
        {
          "output_type": "stream",
          "name": "stdout",
          "text": [
            "epoch 1 batch id 1 loss 3.036078453063965 train acc 0.046875\n",
            "epoch 1 train acc 0.6928742038216561\n"
          ]
        },
        {
          "output_type": "stream",
          "name": "stderr",
          "text": [
            "/usr/local/lib/python3.7/dist-packages/ipykernel_launcher.py:23: TqdmDeprecationWarning: This function will be removed in tqdm==5.0.0\n",
            "Please use `tqdm.notebook.tqdm` instead of `tqdm.tqdm_notebook`\n"
          ]
        },
        {
          "output_type": "display_data",
          "data": {
            "text/plain": [
              "  0%|          | 0/15469 [00:00<?, ?it/s]"
            ],
            "application/vnd.jupyter.widget-view+json": {
              "version_major": 2,
              "version_minor": 0,
              "model_id": "37a7747c68df49dab91a60cc6c7ba5a2"
            }
          },
          "metadata": {}
        },
        {
          "output_type": "stream",
          "name": "stdout",
          "text": [
            "epoch 1 test acc 0.8879843019372077\n"
          ]
        }
      ]
    },
    {
      "cell_type": "code",
      "source": [
        ""
      ],
      "metadata": {
        "id": "49OIv3aVXYyS"
      },
      "execution_count": 24,
      "outputs": []
    },
    {
      "cell_type": "code",
      "source": [
        ""
      ],
      "metadata": {
        "id": "nUvgntFpXY0X"
      },
      "execution_count": 24,
      "outputs": []
    },
    {
      "cell_type": "code",
      "source": [
        ""
      ],
      "metadata": {
        "id": "chYPIQ75Qly-"
      },
      "execution_count": 24,
      "outputs": []
    },
    {
      "cell_type": "markdown",
      "source": [
        "# 문장 test 해보기"
      ],
      "metadata": {
        "id": "l9sDYuTPPhQE"
      }
    },
    {
      "cell_type": "code",
      "source": [
        "#토큰화\n",
        "tokenizer = get_tokenizer()\n",
        "tok = nlp.data.BERTSPTokenizer(tokenizer, vocab, lower=False)\n",
        "\n",
        "def predict(predict_sentence):\n",
        "\n",
        "    data = [predict_sentence, '0']\n",
        "    dataset_another = [data]\n",
        "\n",
        "    another_test = BERTDataset(dataset_another, 0, 1, tok, max_len, True, False)\n",
        "    test_dataloader = torch.utils.data.DataLoader(another_test, batch_size=batch_size, num_workers=5)  \n",
        "    model.eval()\n",
        "    for batch_id, (token_ids, valid_length, segment_ids, label) in enumerate(test_dataloader):\n",
        "        token_ids = token_ids.long().to(device)\n",
        "        segment_ids = segment_ids.long().to(device)\n",
        "        valid_length= valid_length\n",
        "        label = label.long().to(device)\n",
        "        out = model(token_ids, valid_length, segment_ids)\n",
        "        test_eval=[]\n",
        "        for i in out:\n",
        "            logits=i\n",
        "            logits = logits.detach().cpu().numpy()\n",
        "        return np.argmax(logits)"
      ],
      "metadata": {
        "id": "iFIdmbZ3Ql1w",
        "colab": {
          "base_uri": "https://localhost:8080/"
        },
        "outputId": "c9e3f10e-e13f-4b2e-c04d-43683dcf3604"
      },
      "execution_count": 25,
      "outputs": [
        {
          "output_type": "stream",
          "name": "stdout",
          "text": [
            "using cached model. /content/.cache/kobert_news_wiki_ko_cased-1087f8699e.spiece\n"
          ]
        }
      ]
    },
    {
      "cell_type": "markdown",
      "source": [
        "            if np.argmax(logits) == 0:\n",
        "                test_eval.append('G 도매 및 소매업(45~47)')\n",
        "            elif np.argmax(logits) == 1:\n",
        "                test_eval.append('I 숙박 및 음식점업(55~56)')\n",
        "            elif np.argmax(logits) == 2:\n",
        "                test_eval.append('C 제조업(10~34)')\n",
        "            elif np.argmax(logits) == 3:\n",
        "                test_eval.append('S 협회 및 단체, 수리 및 기타 개인 서비스업(94~96)')\n",
        "            elif np.argmax(logits) == 4:\n",
        "                test_eval.append('H 운수 및 창고업(49~52)')\n",
        "            elif np.argmax(logits) == 5:\n",
        "                test_eval.append('P 교육 서비스업(85)')\n",
        "            elif np.argmax(logits) == 6:\n",
        "                test_eval.append('L 부동산업(68)')\n",
        "            elif np.argmax(logits) == 7:\n",
        "                test_eval.append('Q 보건업 및 사회복지 서비스업(86~87)')\n",
        "            elif np.argmax(logits) == 8:\n",
        "                test_eval.append('F 건설업(41~42)')\n",
        "            elif np.argmax(logits) == 9:\n",
        "                test_eval.append('R 예술, 스포츠 및 여가관련 서비스업(90~91)')\n",
        "            elif np.argmax(logits) == 10:\n",
        "                test_eval.append('M 전문, 과학 및 기술 서비스업(70~73)')\n",
        "            elif np.argmax(logits) == 11:\n",
        "                test_eval.append('N 사업시설 관리, 사업 지원 및 임대 서비스업(74~76)')\n",
        "            elif np.argmax(logits) == 12:\n",
        "                test_eval.append('J 정보통신업(58~63)')\n",
        "            elif np.argmax(logits) == 13:\n",
        "                test_eval.append('K 금융 및 보험업(64~66)')\n",
        "            elif np.argmax(logits) == 14:\n",
        "                test_eval.append('O 공공 행정, 국방 및 사회보장 행정(84)')                               \n",
        "            elif np.argmax(logits) == 15:\n",
        "                test_eval.append('E 수도, 하수 및 폐기물 처리, 원료 재생업(36~39)')\n",
        "            elif np.argmax(logits) == 16:\n",
        "                test_eval.append('A 농업, 임업 및 어업(01~03)')\n",
        "            elif np.argmax(logits) == 17:\n",
        "                test_eval.append('D 전기, 가스, 증기 및 공기 조절 공급업(35)')\n",
        "            elif np.argmax(logits) == 18:\n",
        "                test_eval.append('B 광업(05~08)')"
      ],
      "metadata": {
        "id": "jKN1vd3YnO2T"
      }
    },
    {
      "cell_type": "code",
      "source": [
        ""
      ],
      "metadata": {
        "id": "Bh1AJ_1koj-l"
      },
      "execution_count": null,
      "outputs": []
    },
    {
      "cell_type": "code",
      "source": [
        ""
      ],
      "metadata": {
        "id": "-uO35SFFokBJ"
      },
      "execution_count": null,
      "outputs": []
    },
    {
      "cell_type": "markdown",
      "source": [
        "# 제출하기"
      ],
      "metadata": {
        "id": "p67LGw4M6n2d"
      }
    },
    {
      "cell_type": "code",
      "source": [
        "ts=ts[0:100]\n",
        "\n",
        "ts.head(10)"
      ],
      "metadata": {
        "colab": {
          "base_uri": "https://localhost:8080/",
          "height": 363
        },
        "id": "jFQM1Rv-6LEp",
        "outputId": "ea7cd430-c80c-4574-978a-da6acf1bf5be"
      },
      "execution_count": 26,
      "outputs": [
        {
          "output_type": "execute_result",
          "data": {
            "text/plain": [
              "       AI_id  digit_1  digit_2  digit_3    text_obj  text_mthd text_deal\n",
              "0  id_000001      NaN      NaN      NaN     치킨전문점에서   고객의주문에의해      치킨판매\n",
              "1  id_000002      NaN      NaN      NaN        산업공구  다른 소매업자에게    철물 수공구\n",
              "2  id_000003      NaN      NaN      NaN         절에서   신도을 대상으로    불교단체운영\n",
              "3  id_000004      NaN      NaN      NaN       영업장에서      고객요구로     자동차튜닝\n",
              "4  id_000005      NaN      NaN      NaN    실내포장마차에서  접객시설을 갖추고   소주,맥주제공\n",
              "5  id_000006      NaN      NaN      NaN   철,아크릴,포맥스      스크린인쇄        명판\n",
              "6  id_000007      NaN      NaN      NaN         음식점    접객시설가지고    조개구이판매\n",
              "7  id_000008      NaN      NaN      NaN      스테인레스를  프레스가공하여제조      주방용품\n",
              "8  id_000009      NaN      NaN      NaN          수리    서비스센터에서  전문수리 수입차\n",
              "9  id_000010      NaN      NaN      NaN  약품(화공), 미싱  완성품입고, 수선       NaN"
            ],
            "text/html": [
              "\n",
              "  <div id=\"df-27a99e3a-b430-4678-a3e1-eaa7390017d0\">\n",
              "    <div class=\"colab-df-container\">\n",
              "      <div>\n",
              "<style scoped>\n",
              "    .dataframe tbody tr th:only-of-type {\n",
              "        vertical-align: middle;\n",
              "    }\n",
              "\n",
              "    .dataframe tbody tr th {\n",
              "        vertical-align: top;\n",
              "    }\n",
              "\n",
              "    .dataframe thead th {\n",
              "        text-align: right;\n",
              "    }\n",
              "</style>\n",
              "<table border=\"1\" class=\"dataframe\">\n",
              "  <thead>\n",
              "    <tr style=\"text-align: right;\">\n",
              "      <th></th>\n",
              "      <th>AI_id</th>\n",
              "      <th>digit_1</th>\n",
              "      <th>digit_2</th>\n",
              "      <th>digit_3</th>\n",
              "      <th>text_obj</th>\n",
              "      <th>text_mthd</th>\n",
              "      <th>text_deal</th>\n",
              "    </tr>\n",
              "  </thead>\n",
              "  <tbody>\n",
              "    <tr>\n",
              "      <th>0</th>\n",
              "      <td>id_000001</td>\n",
              "      <td>NaN</td>\n",
              "      <td>NaN</td>\n",
              "      <td>NaN</td>\n",
              "      <td>치킨전문점에서</td>\n",
              "      <td>고객의주문에의해</td>\n",
              "      <td>치킨판매</td>\n",
              "    </tr>\n",
              "    <tr>\n",
              "      <th>1</th>\n",
              "      <td>id_000002</td>\n",
              "      <td>NaN</td>\n",
              "      <td>NaN</td>\n",
              "      <td>NaN</td>\n",
              "      <td>산업공구</td>\n",
              "      <td>다른 소매업자에게</td>\n",
              "      <td>철물 수공구</td>\n",
              "    </tr>\n",
              "    <tr>\n",
              "      <th>2</th>\n",
              "      <td>id_000003</td>\n",
              "      <td>NaN</td>\n",
              "      <td>NaN</td>\n",
              "      <td>NaN</td>\n",
              "      <td>절에서</td>\n",
              "      <td>신도을 대상으로</td>\n",
              "      <td>불교단체운영</td>\n",
              "    </tr>\n",
              "    <tr>\n",
              "      <th>3</th>\n",
              "      <td>id_000004</td>\n",
              "      <td>NaN</td>\n",
              "      <td>NaN</td>\n",
              "      <td>NaN</td>\n",
              "      <td>영업장에서</td>\n",
              "      <td>고객요구로</td>\n",
              "      <td>자동차튜닝</td>\n",
              "    </tr>\n",
              "    <tr>\n",
              "      <th>4</th>\n",
              "      <td>id_000005</td>\n",
              "      <td>NaN</td>\n",
              "      <td>NaN</td>\n",
              "      <td>NaN</td>\n",
              "      <td>실내포장마차에서</td>\n",
              "      <td>접객시설을 갖추고</td>\n",
              "      <td>소주,맥주제공</td>\n",
              "    </tr>\n",
              "    <tr>\n",
              "      <th>5</th>\n",
              "      <td>id_000006</td>\n",
              "      <td>NaN</td>\n",
              "      <td>NaN</td>\n",
              "      <td>NaN</td>\n",
              "      <td>철,아크릴,포맥스</td>\n",
              "      <td>스크린인쇄</td>\n",
              "      <td>명판</td>\n",
              "    </tr>\n",
              "    <tr>\n",
              "      <th>6</th>\n",
              "      <td>id_000007</td>\n",
              "      <td>NaN</td>\n",
              "      <td>NaN</td>\n",
              "      <td>NaN</td>\n",
              "      <td>음식점</td>\n",
              "      <td>접객시설가지고</td>\n",
              "      <td>조개구이판매</td>\n",
              "    </tr>\n",
              "    <tr>\n",
              "      <th>7</th>\n",
              "      <td>id_000008</td>\n",
              "      <td>NaN</td>\n",
              "      <td>NaN</td>\n",
              "      <td>NaN</td>\n",
              "      <td>스테인레스를</td>\n",
              "      <td>프레스가공하여제조</td>\n",
              "      <td>주방용품</td>\n",
              "    </tr>\n",
              "    <tr>\n",
              "      <th>8</th>\n",
              "      <td>id_000009</td>\n",
              "      <td>NaN</td>\n",
              "      <td>NaN</td>\n",
              "      <td>NaN</td>\n",
              "      <td>수리</td>\n",
              "      <td>서비스센터에서</td>\n",
              "      <td>전문수리 수입차</td>\n",
              "    </tr>\n",
              "    <tr>\n",
              "      <th>9</th>\n",
              "      <td>id_000010</td>\n",
              "      <td>NaN</td>\n",
              "      <td>NaN</td>\n",
              "      <td>NaN</td>\n",
              "      <td>약품(화공), 미싱</td>\n",
              "      <td>완성품입고, 수선</td>\n",
              "      <td>NaN</td>\n",
              "    </tr>\n",
              "  </tbody>\n",
              "</table>\n",
              "</div>\n",
              "      <button class=\"colab-df-convert\" onclick=\"convertToInteractive('df-27a99e3a-b430-4678-a3e1-eaa7390017d0')\"\n",
              "              title=\"Convert this dataframe to an interactive table.\"\n",
              "              style=\"display:none;\">\n",
              "        \n",
              "  <svg xmlns=\"http://www.w3.org/2000/svg\" height=\"24px\"viewBox=\"0 0 24 24\"\n",
              "       width=\"24px\">\n",
              "    <path d=\"M0 0h24v24H0V0z\" fill=\"none\"/>\n",
              "    <path d=\"M18.56 5.44l.94 2.06.94-2.06 2.06-.94-2.06-.94-.94-2.06-.94 2.06-2.06.94zm-11 1L8.5 8.5l.94-2.06 2.06-.94-2.06-.94L8.5 2.5l-.94 2.06-2.06.94zm10 10l.94 2.06.94-2.06 2.06-.94-2.06-.94-.94-2.06-.94 2.06-2.06.94z\"/><path d=\"M17.41 7.96l-1.37-1.37c-.4-.4-.92-.59-1.43-.59-.52 0-1.04.2-1.43.59L10.3 9.45l-7.72 7.72c-.78.78-.78 2.05 0 2.83L4 21.41c.39.39.9.59 1.41.59.51 0 1.02-.2 1.41-.59l7.78-7.78 2.81-2.81c.8-.78.8-2.07 0-2.86zM5.41 20L4 18.59l7.72-7.72 1.47 1.35L5.41 20z\"/>\n",
              "  </svg>\n",
              "      </button>\n",
              "      \n",
              "  <style>\n",
              "    .colab-df-container {\n",
              "      display:flex;\n",
              "      flex-wrap:wrap;\n",
              "      gap: 12px;\n",
              "    }\n",
              "\n",
              "    .colab-df-convert {\n",
              "      background-color: #E8F0FE;\n",
              "      border: none;\n",
              "      border-radius: 50%;\n",
              "      cursor: pointer;\n",
              "      display: none;\n",
              "      fill: #1967D2;\n",
              "      height: 32px;\n",
              "      padding: 0 0 0 0;\n",
              "      width: 32px;\n",
              "    }\n",
              "\n",
              "    .colab-df-convert:hover {\n",
              "      background-color: #E2EBFA;\n",
              "      box-shadow: 0px 1px 2px rgba(60, 64, 67, 0.3), 0px 1px 3px 1px rgba(60, 64, 67, 0.15);\n",
              "      fill: #174EA6;\n",
              "    }\n",
              "\n",
              "    [theme=dark] .colab-df-convert {\n",
              "      background-color: #3B4455;\n",
              "      fill: #D2E3FC;\n",
              "    }\n",
              "\n",
              "    [theme=dark] .colab-df-convert:hover {\n",
              "      background-color: #434B5C;\n",
              "      box-shadow: 0px 1px 3px 1px rgba(0, 0, 0, 0.15);\n",
              "      filter: drop-shadow(0px 1px 2px rgba(0, 0, 0, 0.3));\n",
              "      fill: #FFFFFF;\n",
              "    }\n",
              "  </style>\n",
              "\n",
              "      <script>\n",
              "        const buttonEl =\n",
              "          document.querySelector('#df-27a99e3a-b430-4678-a3e1-eaa7390017d0 button.colab-df-convert');\n",
              "        buttonEl.style.display =\n",
              "          google.colab.kernel.accessAllowed ? 'block' : 'none';\n",
              "\n",
              "        async function convertToInteractive(key) {\n",
              "          const element = document.querySelector('#df-27a99e3a-b430-4678-a3e1-eaa7390017d0');\n",
              "          const dataTable =\n",
              "            await google.colab.kernel.invokeFunction('convertToInteractive',\n",
              "                                                     [key], {});\n",
              "          if (!dataTable) return;\n",
              "\n",
              "          const docLinkHtml = 'Like what you see? Visit the ' +\n",
              "            '<a target=\"_blank\" href=https://colab.research.google.com/notebooks/data_table.ipynb>data table notebook</a>'\n",
              "            + ' to learn more about interactive tables.';\n",
              "          element.innerHTML = '';\n",
              "          dataTable['output_type'] = 'display_data';\n",
              "          await google.colab.output.renderOutput(dataTable, element);\n",
              "          const docLink = document.createElement('div');\n",
              "          docLink.innerHTML = docLinkHtml;\n",
              "          element.appendChild(docLink);\n",
              "        }\n",
              "      </script>\n",
              "    </div>\n",
              "  </div>\n",
              "  "
            ]
          },
          "metadata": {},
          "execution_count": 26
        }
      ]
    },
    {
      "cell_type": "code",
      "source": [
        "ts.shape"
      ],
      "metadata": {
        "colab": {
          "base_uri": "https://localhost:8080/"
        },
        "id": "v-aheUb-vLlh",
        "outputId": "806b3e21-8339-4a61-bb57-d1b31d13138c"
      },
      "execution_count": 28,
      "outputs": [
        {
          "output_type": "execute_result",
          "data": {
            "text/plain": [
              "(100, 7)"
            ]
          },
          "metadata": {},
          "execution_count": 28
        }
      ]
    },
    {
      "cell_type": "code",
      "source": [
        "ts['text']=ts['text_obj'].map(str)+\" \"+ts['text_mthd'].map(str)+\" \"+ts['text_deal'].map(str)\n",
        "\n",
        "i=[]\n",
        "for sentence in ts['text']:\n",
        "    a=sentence.replace('nan', '')\n",
        "    i.append(a)\n",
        "ts['text']=pd.DataFrame(i)\n",
        "\n",
        "ts=ts.drop(['text_obj','text_mthd', 'text_deal'], axis=1) # 기존에 있던 세개의 text변수 삭제\n",
        "\n",
        "ts.head(10)"
      ],
      "metadata": {
        "colab": {
          "base_uri": "https://localhost:8080/",
          "height": 363
        },
        "id": "kheYXl3WqBeT",
        "outputId": "af132ab1-f6fd-4ea1-a234-8243b65b2efe"
      },
      "execution_count": 29,
      "outputs": [
        {
          "output_type": "execute_result",
          "data": {
            "text/plain": [
              "       AI_id  digit_1  digit_2  digit_3                        text\n",
              "0  id_000001      NaN      NaN      NaN       치킨전문점에서 고객의주문에의해 치킨판매\n",
              "1  id_000002      NaN      NaN      NaN       산업공구 다른 소매업자에게 철물 수공구\n",
              "2  id_000003      NaN      NaN      NaN         절에서 신도을 대상으로 불교단체운영\n",
              "3  id_000004      NaN      NaN      NaN           영업장에서 고객요구로 자동차튜닝\n",
              "4  id_000005      NaN      NaN      NaN  실내포장마차에서 접객시설을 갖추고 소주,맥주제공\n",
              "5  id_000006      NaN      NaN      NaN          철,아크릴,포맥스 스크린인쇄 명판\n",
              "6  id_000007      NaN      NaN      NaN          음식점 접객시설가지고 조개구이판매\n",
              "7  id_000008      NaN      NaN      NaN       스테인레스를 프레스가공하여제조 주방용품\n",
              "8  id_000009      NaN      NaN      NaN         수리 서비스센터에서 전문수리 수입차\n",
              "9  id_000010      NaN      NaN      NaN       약품(화공), 미싱 완성품입고, 수선 "
            ],
            "text/html": [
              "\n",
              "  <div id=\"df-3841f090-24a8-4395-92ae-6cc8e5c4884a\">\n",
              "    <div class=\"colab-df-container\">\n",
              "      <div>\n",
              "<style scoped>\n",
              "    .dataframe tbody tr th:only-of-type {\n",
              "        vertical-align: middle;\n",
              "    }\n",
              "\n",
              "    .dataframe tbody tr th {\n",
              "        vertical-align: top;\n",
              "    }\n",
              "\n",
              "    .dataframe thead th {\n",
              "        text-align: right;\n",
              "    }\n",
              "</style>\n",
              "<table border=\"1\" class=\"dataframe\">\n",
              "  <thead>\n",
              "    <tr style=\"text-align: right;\">\n",
              "      <th></th>\n",
              "      <th>AI_id</th>\n",
              "      <th>digit_1</th>\n",
              "      <th>digit_2</th>\n",
              "      <th>digit_3</th>\n",
              "      <th>text</th>\n",
              "    </tr>\n",
              "  </thead>\n",
              "  <tbody>\n",
              "    <tr>\n",
              "      <th>0</th>\n",
              "      <td>id_000001</td>\n",
              "      <td>NaN</td>\n",
              "      <td>NaN</td>\n",
              "      <td>NaN</td>\n",
              "      <td>치킨전문점에서 고객의주문에의해 치킨판매</td>\n",
              "    </tr>\n",
              "    <tr>\n",
              "      <th>1</th>\n",
              "      <td>id_000002</td>\n",
              "      <td>NaN</td>\n",
              "      <td>NaN</td>\n",
              "      <td>NaN</td>\n",
              "      <td>산업공구 다른 소매업자에게 철물 수공구</td>\n",
              "    </tr>\n",
              "    <tr>\n",
              "      <th>2</th>\n",
              "      <td>id_000003</td>\n",
              "      <td>NaN</td>\n",
              "      <td>NaN</td>\n",
              "      <td>NaN</td>\n",
              "      <td>절에서 신도을 대상으로 불교단체운영</td>\n",
              "    </tr>\n",
              "    <tr>\n",
              "      <th>3</th>\n",
              "      <td>id_000004</td>\n",
              "      <td>NaN</td>\n",
              "      <td>NaN</td>\n",
              "      <td>NaN</td>\n",
              "      <td>영업장에서 고객요구로 자동차튜닝</td>\n",
              "    </tr>\n",
              "    <tr>\n",
              "      <th>4</th>\n",
              "      <td>id_000005</td>\n",
              "      <td>NaN</td>\n",
              "      <td>NaN</td>\n",
              "      <td>NaN</td>\n",
              "      <td>실내포장마차에서 접객시설을 갖추고 소주,맥주제공</td>\n",
              "    </tr>\n",
              "    <tr>\n",
              "      <th>5</th>\n",
              "      <td>id_000006</td>\n",
              "      <td>NaN</td>\n",
              "      <td>NaN</td>\n",
              "      <td>NaN</td>\n",
              "      <td>철,아크릴,포맥스 스크린인쇄 명판</td>\n",
              "    </tr>\n",
              "    <tr>\n",
              "      <th>6</th>\n",
              "      <td>id_000007</td>\n",
              "      <td>NaN</td>\n",
              "      <td>NaN</td>\n",
              "      <td>NaN</td>\n",
              "      <td>음식점 접객시설가지고 조개구이판매</td>\n",
              "    </tr>\n",
              "    <tr>\n",
              "      <th>7</th>\n",
              "      <td>id_000008</td>\n",
              "      <td>NaN</td>\n",
              "      <td>NaN</td>\n",
              "      <td>NaN</td>\n",
              "      <td>스테인레스를 프레스가공하여제조 주방용품</td>\n",
              "    </tr>\n",
              "    <tr>\n",
              "      <th>8</th>\n",
              "      <td>id_000009</td>\n",
              "      <td>NaN</td>\n",
              "      <td>NaN</td>\n",
              "      <td>NaN</td>\n",
              "      <td>수리 서비스센터에서 전문수리 수입차</td>\n",
              "    </tr>\n",
              "    <tr>\n",
              "      <th>9</th>\n",
              "      <td>id_000010</td>\n",
              "      <td>NaN</td>\n",
              "      <td>NaN</td>\n",
              "      <td>NaN</td>\n",
              "      <td>약품(화공), 미싱 완성품입고, 수선</td>\n",
              "    </tr>\n",
              "  </tbody>\n",
              "</table>\n",
              "</div>\n",
              "      <button class=\"colab-df-convert\" onclick=\"convertToInteractive('df-3841f090-24a8-4395-92ae-6cc8e5c4884a')\"\n",
              "              title=\"Convert this dataframe to an interactive table.\"\n",
              "              style=\"display:none;\">\n",
              "        \n",
              "  <svg xmlns=\"http://www.w3.org/2000/svg\" height=\"24px\"viewBox=\"0 0 24 24\"\n",
              "       width=\"24px\">\n",
              "    <path d=\"M0 0h24v24H0V0z\" fill=\"none\"/>\n",
              "    <path d=\"M18.56 5.44l.94 2.06.94-2.06 2.06-.94-2.06-.94-.94-2.06-.94 2.06-2.06.94zm-11 1L8.5 8.5l.94-2.06 2.06-.94-2.06-.94L8.5 2.5l-.94 2.06-2.06.94zm10 10l.94 2.06.94-2.06 2.06-.94-2.06-.94-.94-2.06-.94 2.06-2.06.94z\"/><path d=\"M17.41 7.96l-1.37-1.37c-.4-.4-.92-.59-1.43-.59-.52 0-1.04.2-1.43.59L10.3 9.45l-7.72 7.72c-.78.78-.78 2.05 0 2.83L4 21.41c.39.39.9.59 1.41.59.51 0 1.02-.2 1.41-.59l7.78-7.78 2.81-2.81c.8-.78.8-2.07 0-2.86zM5.41 20L4 18.59l7.72-7.72 1.47 1.35L5.41 20z\"/>\n",
              "  </svg>\n",
              "      </button>\n",
              "      \n",
              "  <style>\n",
              "    .colab-df-container {\n",
              "      display:flex;\n",
              "      flex-wrap:wrap;\n",
              "      gap: 12px;\n",
              "    }\n",
              "\n",
              "    .colab-df-convert {\n",
              "      background-color: #E8F0FE;\n",
              "      border: none;\n",
              "      border-radius: 50%;\n",
              "      cursor: pointer;\n",
              "      display: none;\n",
              "      fill: #1967D2;\n",
              "      height: 32px;\n",
              "      padding: 0 0 0 0;\n",
              "      width: 32px;\n",
              "    }\n",
              "\n",
              "    .colab-df-convert:hover {\n",
              "      background-color: #E2EBFA;\n",
              "      box-shadow: 0px 1px 2px rgba(60, 64, 67, 0.3), 0px 1px 3px 1px rgba(60, 64, 67, 0.15);\n",
              "      fill: #174EA6;\n",
              "    }\n",
              "\n",
              "    [theme=dark] .colab-df-convert {\n",
              "      background-color: #3B4455;\n",
              "      fill: #D2E3FC;\n",
              "    }\n",
              "\n",
              "    [theme=dark] .colab-df-convert:hover {\n",
              "      background-color: #434B5C;\n",
              "      box-shadow: 0px 1px 3px 1px rgba(0, 0, 0, 0.15);\n",
              "      filter: drop-shadow(0px 1px 2px rgba(0, 0, 0, 0.3));\n",
              "      fill: #FFFFFF;\n",
              "    }\n",
              "  </style>\n",
              "\n",
              "      <script>\n",
              "        const buttonEl =\n",
              "          document.querySelector('#df-3841f090-24a8-4395-92ae-6cc8e5c4884a button.colab-df-convert');\n",
              "        buttonEl.style.display =\n",
              "          google.colab.kernel.accessAllowed ? 'block' : 'none';\n",
              "\n",
              "        async function convertToInteractive(key) {\n",
              "          const element = document.querySelector('#df-3841f090-24a8-4395-92ae-6cc8e5c4884a');\n",
              "          const dataTable =\n",
              "            await google.colab.kernel.invokeFunction('convertToInteractive',\n",
              "                                                     [key], {});\n",
              "          if (!dataTable) return;\n",
              "\n",
              "          const docLinkHtml = 'Like what you see? Visit the ' +\n",
              "            '<a target=\"_blank\" href=https://colab.research.google.com/notebooks/data_table.ipynb>data table notebook</a>'\n",
              "            + ' to learn more about interactive tables.';\n",
              "          element.innerHTML = '';\n",
              "          dataTable['output_type'] = 'display_data';\n",
              "          await google.colab.output.renderOutput(dataTable, element);\n",
              "          const docLink = document.createElement('div');\n",
              "          docLink.innerHTML = docLinkHtml;\n",
              "          element.appendChild(docLink);\n",
              "        }\n",
              "      </script>\n",
              "    </div>\n",
              "  </div>\n",
              "  "
            ]
          },
          "metadata": {},
          "execution_count": 29
        }
      ]
    },
    {
      "cell_type": "code",
      "source": [
        "result=[]\n",
        "for sentence in ts['text']:\n",
        "  temp=predict(sentence)\n",
        "  result.append(temp)\n",
        "\n",
        "ts['digit_1']=pd.DataFrame(result)\n",
        "\n",
        "ts.to_csv('result.csv', index=False)\n",
        "\n",
        "ts.head(10)"
      ],
      "metadata": {
        "id": "rvPb1Uzt7CQg",
        "colab": {
          "base_uri": "https://localhost:8080/",
          "height": 419
        },
        "outputId": "8e8a3811-067c-42e4-abff-6f61b1341268"
      },
      "execution_count": 30,
      "outputs": [
        {
          "output_type": "stream",
          "name": "stderr",
          "text": [
            "/usr/local/lib/python3.7/dist-packages/torch/utils/data/dataloader.py:481: UserWarning: This DataLoader will create 5 worker processes in total. Our suggested max number of worker in current system is 4, which is smaller than what this DataLoader is going to create. Please be aware that excessive worker creation might get DataLoader running slow or even freeze, lower the worker number to avoid potential slowness/freeze if necessary.\n",
            "  cpuset_checked))\n"
          ]
        },
        {
          "output_type": "execute_result",
          "data": {
            "text/plain": [
              "       AI_id                            digit_1  digit_2  digit_3  \\\n",
              "0  id_000001                 I 숙박 및 음식점업(55~56)      NaN      NaN   \n",
              "1  id_000002                  G 도매 및 소매업(45~47)      NaN      NaN   \n",
              "2  id_000003  S 협회 및 단체, 수리 및 기타 개인 서비스업(94~96)      NaN      NaN   \n",
              "3  id_000004  S 협회 및 단체, 수리 및 기타 개인 서비스업(94~96)      NaN      NaN   \n",
              "4  id_000005                 I 숙박 및 음식점업(55~56)      NaN      NaN   \n",
              "5  id_000006                       C 제조업(10~34)      NaN      NaN   \n",
              "6  id_000007                 I 숙박 및 음식점업(55~56)      NaN      NaN   \n",
              "7  id_000008                       C 제조업(10~34)      NaN      NaN   \n",
              "8  id_000009  S 협회 및 단체, 수리 및 기타 개인 서비스업(94~96)      NaN      NaN   \n",
              "9  id_000010                       C 제조업(10~34)      NaN      NaN   \n",
              "\n",
              "                         text  \n",
              "0       치킨전문점에서 고객의주문에의해 치킨판매  \n",
              "1       산업공구 다른 소매업자에게 철물 수공구  \n",
              "2         절에서 신도을 대상으로 불교단체운영  \n",
              "3           영업장에서 고객요구로 자동차튜닝  \n",
              "4  실내포장마차에서 접객시설을 갖추고 소주,맥주제공  \n",
              "5          철,아크릴,포맥스 스크린인쇄 명판  \n",
              "6          음식점 접객시설가지고 조개구이판매  \n",
              "7       스테인레스를 프레스가공하여제조 주방용품  \n",
              "8         수리 서비스센터에서 전문수리 수입차  \n",
              "9       약품(화공), 미싱 완성품입고, 수선   "
            ],
            "text/html": [
              "\n",
              "  <div id=\"df-bb936790-f4b0-4584-93c2-f6378c76dc76\">\n",
              "    <div class=\"colab-df-container\">\n",
              "      <div>\n",
              "<style scoped>\n",
              "    .dataframe tbody tr th:only-of-type {\n",
              "        vertical-align: middle;\n",
              "    }\n",
              "\n",
              "    .dataframe tbody tr th {\n",
              "        vertical-align: top;\n",
              "    }\n",
              "\n",
              "    .dataframe thead th {\n",
              "        text-align: right;\n",
              "    }\n",
              "</style>\n",
              "<table border=\"1\" class=\"dataframe\">\n",
              "  <thead>\n",
              "    <tr style=\"text-align: right;\">\n",
              "      <th></th>\n",
              "      <th>AI_id</th>\n",
              "      <th>digit_1</th>\n",
              "      <th>digit_2</th>\n",
              "      <th>digit_3</th>\n",
              "      <th>text</th>\n",
              "    </tr>\n",
              "  </thead>\n",
              "  <tbody>\n",
              "    <tr>\n",
              "      <th>0</th>\n",
              "      <td>id_000001</td>\n",
              "      <td>I 숙박 및 음식점업(55~56)</td>\n",
              "      <td>NaN</td>\n",
              "      <td>NaN</td>\n",
              "      <td>치킨전문점에서 고객의주문에의해 치킨판매</td>\n",
              "    </tr>\n",
              "    <tr>\n",
              "      <th>1</th>\n",
              "      <td>id_000002</td>\n",
              "      <td>G 도매 및 소매업(45~47)</td>\n",
              "      <td>NaN</td>\n",
              "      <td>NaN</td>\n",
              "      <td>산업공구 다른 소매업자에게 철물 수공구</td>\n",
              "    </tr>\n",
              "    <tr>\n",
              "      <th>2</th>\n",
              "      <td>id_000003</td>\n",
              "      <td>S 협회 및 단체, 수리 및 기타 개인 서비스업(94~96)</td>\n",
              "      <td>NaN</td>\n",
              "      <td>NaN</td>\n",
              "      <td>절에서 신도을 대상으로 불교단체운영</td>\n",
              "    </tr>\n",
              "    <tr>\n",
              "      <th>3</th>\n",
              "      <td>id_000004</td>\n",
              "      <td>S 협회 및 단체, 수리 및 기타 개인 서비스업(94~96)</td>\n",
              "      <td>NaN</td>\n",
              "      <td>NaN</td>\n",
              "      <td>영업장에서 고객요구로 자동차튜닝</td>\n",
              "    </tr>\n",
              "    <tr>\n",
              "      <th>4</th>\n",
              "      <td>id_000005</td>\n",
              "      <td>I 숙박 및 음식점업(55~56)</td>\n",
              "      <td>NaN</td>\n",
              "      <td>NaN</td>\n",
              "      <td>실내포장마차에서 접객시설을 갖추고 소주,맥주제공</td>\n",
              "    </tr>\n",
              "    <tr>\n",
              "      <th>5</th>\n",
              "      <td>id_000006</td>\n",
              "      <td>C 제조업(10~34)</td>\n",
              "      <td>NaN</td>\n",
              "      <td>NaN</td>\n",
              "      <td>철,아크릴,포맥스 스크린인쇄 명판</td>\n",
              "    </tr>\n",
              "    <tr>\n",
              "      <th>6</th>\n",
              "      <td>id_000007</td>\n",
              "      <td>I 숙박 및 음식점업(55~56)</td>\n",
              "      <td>NaN</td>\n",
              "      <td>NaN</td>\n",
              "      <td>음식점 접객시설가지고 조개구이판매</td>\n",
              "    </tr>\n",
              "    <tr>\n",
              "      <th>7</th>\n",
              "      <td>id_000008</td>\n",
              "      <td>C 제조업(10~34)</td>\n",
              "      <td>NaN</td>\n",
              "      <td>NaN</td>\n",
              "      <td>스테인레스를 프레스가공하여제조 주방용품</td>\n",
              "    </tr>\n",
              "    <tr>\n",
              "      <th>8</th>\n",
              "      <td>id_000009</td>\n",
              "      <td>S 협회 및 단체, 수리 및 기타 개인 서비스업(94~96)</td>\n",
              "      <td>NaN</td>\n",
              "      <td>NaN</td>\n",
              "      <td>수리 서비스센터에서 전문수리 수입차</td>\n",
              "    </tr>\n",
              "    <tr>\n",
              "      <th>9</th>\n",
              "      <td>id_000010</td>\n",
              "      <td>C 제조업(10~34)</td>\n",
              "      <td>NaN</td>\n",
              "      <td>NaN</td>\n",
              "      <td>약품(화공), 미싱 완성품입고, 수선</td>\n",
              "    </tr>\n",
              "  </tbody>\n",
              "</table>\n",
              "</div>\n",
              "      <button class=\"colab-df-convert\" onclick=\"convertToInteractive('df-bb936790-f4b0-4584-93c2-f6378c76dc76')\"\n",
              "              title=\"Convert this dataframe to an interactive table.\"\n",
              "              style=\"display:none;\">\n",
              "        \n",
              "  <svg xmlns=\"http://www.w3.org/2000/svg\" height=\"24px\"viewBox=\"0 0 24 24\"\n",
              "       width=\"24px\">\n",
              "    <path d=\"M0 0h24v24H0V0z\" fill=\"none\"/>\n",
              "    <path d=\"M18.56 5.44l.94 2.06.94-2.06 2.06-.94-2.06-.94-.94-2.06-.94 2.06-2.06.94zm-11 1L8.5 8.5l.94-2.06 2.06-.94-2.06-.94L8.5 2.5l-.94 2.06-2.06.94zm10 10l.94 2.06.94-2.06 2.06-.94-2.06-.94-.94-2.06-.94 2.06-2.06.94z\"/><path d=\"M17.41 7.96l-1.37-1.37c-.4-.4-.92-.59-1.43-.59-.52 0-1.04.2-1.43.59L10.3 9.45l-7.72 7.72c-.78.78-.78 2.05 0 2.83L4 21.41c.39.39.9.59 1.41.59.51 0 1.02-.2 1.41-.59l7.78-7.78 2.81-2.81c.8-.78.8-2.07 0-2.86zM5.41 20L4 18.59l7.72-7.72 1.47 1.35L5.41 20z\"/>\n",
              "  </svg>\n",
              "      </button>\n",
              "      \n",
              "  <style>\n",
              "    .colab-df-container {\n",
              "      display:flex;\n",
              "      flex-wrap:wrap;\n",
              "      gap: 12px;\n",
              "    }\n",
              "\n",
              "    .colab-df-convert {\n",
              "      background-color: #E8F0FE;\n",
              "      border: none;\n",
              "      border-radius: 50%;\n",
              "      cursor: pointer;\n",
              "      display: none;\n",
              "      fill: #1967D2;\n",
              "      height: 32px;\n",
              "      padding: 0 0 0 0;\n",
              "      width: 32px;\n",
              "    }\n",
              "\n",
              "    .colab-df-convert:hover {\n",
              "      background-color: #E2EBFA;\n",
              "      box-shadow: 0px 1px 2px rgba(60, 64, 67, 0.3), 0px 1px 3px 1px rgba(60, 64, 67, 0.15);\n",
              "      fill: #174EA6;\n",
              "    }\n",
              "\n",
              "    [theme=dark] .colab-df-convert {\n",
              "      background-color: #3B4455;\n",
              "      fill: #D2E3FC;\n",
              "    }\n",
              "\n",
              "    [theme=dark] .colab-df-convert:hover {\n",
              "      background-color: #434B5C;\n",
              "      box-shadow: 0px 1px 3px 1px rgba(0, 0, 0, 0.15);\n",
              "      filter: drop-shadow(0px 1px 2px rgba(0, 0, 0, 0.3));\n",
              "      fill: #FFFFFF;\n",
              "    }\n",
              "  </style>\n",
              "\n",
              "      <script>\n",
              "        const buttonEl =\n",
              "          document.querySelector('#df-bb936790-f4b0-4584-93c2-f6378c76dc76 button.colab-df-convert');\n",
              "        buttonEl.style.display =\n",
              "          google.colab.kernel.accessAllowed ? 'block' : 'none';\n",
              "\n",
              "        async function convertToInteractive(key) {\n",
              "          const element = document.querySelector('#df-bb936790-f4b0-4584-93c2-f6378c76dc76');\n",
              "          const dataTable =\n",
              "            await google.colab.kernel.invokeFunction('convertToInteractive',\n",
              "                                                     [key], {});\n",
              "          if (!dataTable) return;\n",
              "\n",
              "          const docLinkHtml = 'Like what you see? Visit the ' +\n",
              "            '<a target=\"_blank\" href=https://colab.research.google.com/notebooks/data_table.ipynb>data table notebook</a>'\n",
              "            + ' to learn more about interactive tables.';\n",
              "          element.innerHTML = '';\n",
              "          dataTable['output_type'] = 'display_data';\n",
              "          await google.colab.output.renderOutput(dataTable, element);\n",
              "          const docLink = document.createElement('div');\n",
              "          docLink.innerHTML = docLinkHtml;\n",
              "          element.appendChild(docLink);\n",
              "        }\n",
              "      </script>\n",
              "    </div>\n",
              "  </div>\n",
              "  "
            ]
          },
          "metadata": {},
          "execution_count": 30
        }
      ]
    },
    {
      "cell_type": "code",
      "source": [
        ""
      ],
      "metadata": {
        "id": "rsgrHV-Z3hlL"
      },
      "execution_count": null,
      "outputs": []
    },
    {
      "cell_type": "code",
      "source": [
        ""
      ],
      "metadata": {
        "id": "Tdtfq_NQZqOY"
      },
      "execution_count": null,
      "outputs": []
    },
    {
      "cell_type": "code",
      "source": [
        ""
      ],
      "metadata": {
        "id": "2xUXh2YC7CXD"
      },
      "execution_count": null,
      "outputs": []
    }
  ]
}