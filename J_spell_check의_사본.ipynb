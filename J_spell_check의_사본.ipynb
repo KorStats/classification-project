{
  "cells": [
    {
      "cell_type": "markdown",
      "metadata": {
        "id": "view-in-github",
        "colab_type": "text"
      },
      "source": [
        "<a href=\"https://colab.research.google.com/github/KorStats/classification-project/blob/main/J_spell_check%EC%9D%98_%EC%82%AC%EB%B3%B8.ipynb\" target=\"_parent\"><img src=\"https://colab.research.google.com/assets/colab-badge.svg\" alt=\"Open In Colab\"/></a>"
      ]
    },
    {
      "cell_type": "markdown",
      "metadata": {
        "id": "U3wrPXQ_ORLb"
      },
      "source": [
        "## 구글드라이브에서 파일 읽어오기"
      ]
    },
    {
      "cell_type": "code",
      "execution_count": 2,
      "metadata": {
        "colab": {
          "base_uri": "https://localhost:8080/"
        },
        "id": "dqJbzoq_OPxK",
        "outputId": "55bfb60c-2b6c-4c70-e406-14934b50f4ab"
      },
      "outputs": [
        {
          "output_type": "stream",
          "name": "stdout",
          "text": [
            "Mounted at /content/drive\n"
          ]
        }
      ],
      "source": [
        "from google.colab import drive\n",
        "drive.mount('/content/drive')"
      ]
    },
    {
      "cell_type": "code",
      "execution_count": 3,
      "metadata": {
        "colab": {
          "base_uri": "https://localhost:8080/"
        },
        "id": "wmtIZqMGOdVX",
        "outputId": "2e371429-b7c8-4b76-88b2-074fe2e82718"
      },
      "outputs": [
        {
          "output_type": "stream",
          "name": "stdout",
          "text": [
            "Mounted at /content/gdrive\n",
            " 산업분류자동화\t\t df_C_inc.csv\t   df_K_inc.csv     spell_check\n",
            "'Colab Notebooks'\t'# df_G_inc.csv'   df_P_inc.csv\n",
            " C_ori_model.pt\t\t df_G_inc.csv\t  'My Drive'\n",
            "'답안 작성용 파일.csv'\t df_J_inc.csv\t   Q_inc_model.pt\n"
          ]
        }
      ],
      "source": [
        "from google.colab import drive\n",
        "drive.mount('/content/gdrive')\n",
        "!ln -s /content/gdrive/My\\ Drive/ /mydrive\n",
        "!ls /mydrive"
      ]
    },
    {
      "cell_type": "code",
      "execution_count": 4,
      "metadata": {
        "colab": {
          "base_uri": "https://localhost:8080/"
        },
        "id": "xV_iSLl7QFgx",
        "outputId": "eb8fbf3d-2418-4cf3-c87f-f66dc52b8489"
      },
      "outputs": [
        {
          "output_type": "stream",
          "name": "stdout",
          "text": [
            "Archive:  /content/gdrive/My Drive/산업분류자동화/실습용 자료.zip\n",
            "1. 실습용자료.txt:  mismatching \"local\" filename (1. ьЛдьК╡ьЪйьЮРыгМ.txt),\n",
            "         continuing with \"central\" filename version\n",
            "  inflating: /content/dataset/1. 실습용자료.txt  \n"
          ]
        }
      ],
      "source": [
        "!unzip /content/gdrive/'My Drive'/산업분류자동화/'실습용 자료'.zip -d /content/dataset"
      ]
    },
    {
      "cell_type": "code",
      "execution_count": 5,
      "metadata": {
        "id": "-lGZy4fGpXlo"
      },
      "outputs": [],
      "source": [
        "import pandas as pd\n",
        "df=pd.read_csv('/content/dataset/1. 실습용자료.txt', sep = \"|\", encoding = \"euc-kr\")"
      ]
    },
    {
      "cell_type": "markdown",
      "metadata": {
        "id": "geFjTXHh5-dy"
      },
      "source": [
        "## 데이터 전처리"
      ]
    },
    {
      "cell_type": "code",
      "execution_count": 6,
      "metadata": {
        "id": "5RbL6zqMdTtY"
      },
      "outputs": [],
      "source": [
        "df=df[(df['digit_1'] =='J')] #조건에 맞는 데이터 출력"
      ]
    },
    {
      "cell_type": "code",
      "source": [
        "df=df.reset_index(drop=True)\n",
        "df"
      ],
      "metadata": {
        "colab": {
          "base_uri": "https://localhost:8080/",
          "height": 423
        },
        "id": "3ISvtyKhpKd2",
        "outputId": "f7a5e1ba-35e3-419a-e99f-2d904657fb2c"
      },
      "execution_count": 7,
      "outputs": [
        {
          "output_type": "execute_result",
          "data": {
            "text/plain": [
              "            AI_id digit_1  digit_2  digit_3 text_obj text_mthd      text_deal\n",
              "0      id_0000065       J       58      582    사무실에서     고객의뢰로  시스템소프트웨어개발및공급\n",
              "1      id_0000107       J       58      582    사업장에서   고객의뢰를받아  무인주차관리시스템개발공급\n",
              "2      id_0000157       J       59      592    인터넷으로     디지털음원         음반제작유통\n",
              "3      id_0000276       J       58      582    사무실에서      의뢰받아        소프트웨어개발\n",
              "4      id_0000338       J       58      582    사무실에서     고객의뢰로  시스템소프트웨어개발및공급\n",
              "...           ...     ...      ...      ...      ...       ...            ...\n",
              "10857  id_0999684       J       58      582    사무실에서     고객의뢰로     시스템소프트웨어개발\n",
              "10858  id_0999872       J       62      620    사무실에서      의뢰받아        소프트웨어개발\n",
              "10859  id_0999914       J       59      592      NaN   녹음시설운영업            NaN\n",
              "10860  id_0999959       J       58      582    사무실에서     고객의뢰로    시스템 소프트웨어개발\n",
              "10861  id_0999968       J       59      591  고객요청에의해   지정한장소에서        영상홍보물제작\n",
              "\n",
              "[10862 rows x 7 columns]"
            ],
            "text/html": [
              "\n",
              "  <div id=\"df-8ed11acc-778e-438c-a65e-f9d89f5a7def\">\n",
              "    <div class=\"colab-df-container\">\n",
              "      <div>\n",
              "<style scoped>\n",
              "    .dataframe tbody tr th:only-of-type {\n",
              "        vertical-align: middle;\n",
              "    }\n",
              "\n",
              "    .dataframe tbody tr th {\n",
              "        vertical-align: top;\n",
              "    }\n",
              "\n",
              "    .dataframe thead th {\n",
              "        text-align: right;\n",
              "    }\n",
              "</style>\n",
              "<table border=\"1\" class=\"dataframe\">\n",
              "  <thead>\n",
              "    <tr style=\"text-align: right;\">\n",
              "      <th></th>\n",
              "      <th>AI_id</th>\n",
              "      <th>digit_1</th>\n",
              "      <th>digit_2</th>\n",
              "      <th>digit_3</th>\n",
              "      <th>text_obj</th>\n",
              "      <th>text_mthd</th>\n",
              "      <th>text_deal</th>\n",
              "    </tr>\n",
              "  </thead>\n",
              "  <tbody>\n",
              "    <tr>\n",
              "      <th>0</th>\n",
              "      <td>id_0000065</td>\n",
              "      <td>J</td>\n",
              "      <td>58</td>\n",
              "      <td>582</td>\n",
              "      <td>사무실에서</td>\n",
              "      <td>고객의뢰로</td>\n",
              "      <td>시스템소프트웨어개발및공급</td>\n",
              "    </tr>\n",
              "    <tr>\n",
              "      <th>1</th>\n",
              "      <td>id_0000107</td>\n",
              "      <td>J</td>\n",
              "      <td>58</td>\n",
              "      <td>582</td>\n",
              "      <td>사업장에서</td>\n",
              "      <td>고객의뢰를받아</td>\n",
              "      <td>무인주차관리시스템개발공급</td>\n",
              "    </tr>\n",
              "    <tr>\n",
              "      <th>2</th>\n",
              "      <td>id_0000157</td>\n",
              "      <td>J</td>\n",
              "      <td>59</td>\n",
              "      <td>592</td>\n",
              "      <td>인터넷으로</td>\n",
              "      <td>디지털음원</td>\n",
              "      <td>음반제작유통</td>\n",
              "    </tr>\n",
              "    <tr>\n",
              "      <th>3</th>\n",
              "      <td>id_0000276</td>\n",
              "      <td>J</td>\n",
              "      <td>58</td>\n",
              "      <td>582</td>\n",
              "      <td>사무실에서</td>\n",
              "      <td>의뢰받아</td>\n",
              "      <td>소프트웨어개발</td>\n",
              "    </tr>\n",
              "    <tr>\n",
              "      <th>4</th>\n",
              "      <td>id_0000338</td>\n",
              "      <td>J</td>\n",
              "      <td>58</td>\n",
              "      <td>582</td>\n",
              "      <td>사무실에서</td>\n",
              "      <td>고객의뢰로</td>\n",
              "      <td>시스템소프트웨어개발및공급</td>\n",
              "    </tr>\n",
              "    <tr>\n",
              "      <th>...</th>\n",
              "      <td>...</td>\n",
              "      <td>...</td>\n",
              "      <td>...</td>\n",
              "      <td>...</td>\n",
              "      <td>...</td>\n",
              "      <td>...</td>\n",
              "      <td>...</td>\n",
              "    </tr>\n",
              "    <tr>\n",
              "      <th>10857</th>\n",
              "      <td>id_0999684</td>\n",
              "      <td>J</td>\n",
              "      <td>58</td>\n",
              "      <td>582</td>\n",
              "      <td>사무실에서</td>\n",
              "      <td>고객의뢰로</td>\n",
              "      <td>시스템소프트웨어개발</td>\n",
              "    </tr>\n",
              "    <tr>\n",
              "      <th>10858</th>\n",
              "      <td>id_0999872</td>\n",
              "      <td>J</td>\n",
              "      <td>62</td>\n",
              "      <td>620</td>\n",
              "      <td>사무실에서</td>\n",
              "      <td>의뢰받아</td>\n",
              "      <td>소프트웨어개발</td>\n",
              "    </tr>\n",
              "    <tr>\n",
              "      <th>10859</th>\n",
              "      <td>id_0999914</td>\n",
              "      <td>J</td>\n",
              "      <td>59</td>\n",
              "      <td>592</td>\n",
              "      <td>NaN</td>\n",
              "      <td>녹음시설운영업</td>\n",
              "      <td>NaN</td>\n",
              "    </tr>\n",
              "    <tr>\n",
              "      <th>10860</th>\n",
              "      <td>id_0999959</td>\n",
              "      <td>J</td>\n",
              "      <td>58</td>\n",
              "      <td>582</td>\n",
              "      <td>사무실에서</td>\n",
              "      <td>고객의뢰로</td>\n",
              "      <td>시스템 소프트웨어개발</td>\n",
              "    </tr>\n",
              "    <tr>\n",
              "      <th>10861</th>\n",
              "      <td>id_0999968</td>\n",
              "      <td>J</td>\n",
              "      <td>59</td>\n",
              "      <td>591</td>\n",
              "      <td>고객요청에의해</td>\n",
              "      <td>지정한장소에서</td>\n",
              "      <td>영상홍보물제작</td>\n",
              "    </tr>\n",
              "  </tbody>\n",
              "</table>\n",
              "<p>10862 rows × 7 columns</p>\n",
              "</div>\n",
              "      <button class=\"colab-df-convert\" onclick=\"convertToInteractive('df-8ed11acc-778e-438c-a65e-f9d89f5a7def')\"\n",
              "              title=\"Convert this dataframe to an interactive table.\"\n",
              "              style=\"display:none;\">\n",
              "        \n",
              "  <svg xmlns=\"http://www.w3.org/2000/svg\" height=\"24px\"viewBox=\"0 0 24 24\"\n",
              "       width=\"24px\">\n",
              "    <path d=\"M0 0h24v24H0V0z\" fill=\"none\"/>\n",
              "    <path d=\"M18.56 5.44l.94 2.06.94-2.06 2.06-.94-2.06-.94-.94-2.06-.94 2.06-2.06.94zm-11 1L8.5 8.5l.94-2.06 2.06-.94-2.06-.94L8.5 2.5l-.94 2.06-2.06.94zm10 10l.94 2.06.94-2.06 2.06-.94-2.06-.94-.94-2.06-.94 2.06-2.06.94z\"/><path d=\"M17.41 7.96l-1.37-1.37c-.4-.4-.92-.59-1.43-.59-.52 0-1.04.2-1.43.59L10.3 9.45l-7.72 7.72c-.78.78-.78 2.05 0 2.83L4 21.41c.39.39.9.59 1.41.59.51 0 1.02-.2 1.41-.59l7.78-7.78 2.81-2.81c.8-.78.8-2.07 0-2.86zM5.41 20L4 18.59l7.72-7.72 1.47 1.35L5.41 20z\"/>\n",
              "  </svg>\n",
              "      </button>\n",
              "      \n",
              "  <style>\n",
              "    .colab-df-container {\n",
              "      display:flex;\n",
              "      flex-wrap:wrap;\n",
              "      gap: 12px;\n",
              "    }\n",
              "\n",
              "    .colab-df-convert {\n",
              "      background-color: #E8F0FE;\n",
              "      border: none;\n",
              "      border-radius: 50%;\n",
              "      cursor: pointer;\n",
              "      display: none;\n",
              "      fill: #1967D2;\n",
              "      height: 32px;\n",
              "      padding: 0 0 0 0;\n",
              "      width: 32px;\n",
              "    }\n",
              "\n",
              "    .colab-df-convert:hover {\n",
              "      background-color: #E2EBFA;\n",
              "      box-shadow: 0px 1px 2px rgba(60, 64, 67, 0.3), 0px 1px 3px 1px rgba(60, 64, 67, 0.15);\n",
              "      fill: #174EA6;\n",
              "    }\n",
              "\n",
              "    [theme=dark] .colab-df-convert {\n",
              "      background-color: #3B4455;\n",
              "      fill: #D2E3FC;\n",
              "    }\n",
              "\n",
              "    [theme=dark] .colab-df-convert:hover {\n",
              "      background-color: #434B5C;\n",
              "      box-shadow: 0px 1px 3px 1px rgba(0, 0, 0, 0.15);\n",
              "      filter: drop-shadow(0px 1px 2px rgba(0, 0, 0, 0.3));\n",
              "      fill: #FFFFFF;\n",
              "    }\n",
              "  </style>\n",
              "\n",
              "      <script>\n",
              "        const buttonEl =\n",
              "          document.querySelector('#df-8ed11acc-778e-438c-a65e-f9d89f5a7def button.colab-df-convert');\n",
              "        buttonEl.style.display =\n",
              "          google.colab.kernel.accessAllowed ? 'block' : 'none';\n",
              "\n",
              "        async function convertToInteractive(key) {\n",
              "          const element = document.querySelector('#df-8ed11acc-778e-438c-a65e-f9d89f5a7def');\n",
              "          const dataTable =\n",
              "            await google.colab.kernel.invokeFunction('convertToInteractive',\n",
              "                                                     [key], {});\n",
              "          if (!dataTable) return;\n",
              "\n",
              "          const docLinkHtml = 'Like what you see? Visit the ' +\n",
              "            '<a target=\"_blank\" href=https://colab.research.google.com/notebooks/data_table.ipynb>data table notebook</a>'\n",
              "            + ' to learn more about interactive tables.';\n",
              "          element.innerHTML = '';\n",
              "          dataTable['output_type'] = 'display_data';\n",
              "          await google.colab.output.renderOutput(dataTable, element);\n",
              "          const docLink = document.createElement('div');\n",
              "          docLink.innerHTML = docLinkHtml;\n",
              "          element.appendChild(docLink);\n",
              "        }\n",
              "      </script>\n",
              "    </div>\n",
              "  </div>\n",
              "  "
            ]
          },
          "metadata": {},
          "execution_count": 7
        }
      ]
    },
    {
      "cell_type": "code",
      "execution_count": 8,
      "metadata": {
        "colab": {
          "base_uri": "https://localhost:8080/",
          "height": 423
        },
        "id": "fjEcvrtH59q-",
        "outputId": "1288eddc-57c9-4012-cdf3-8c0d8eee3ae2"
      },
      "outputs": [
        {
          "output_type": "execute_result",
          "data": {
            "text/plain": [
              "            AI_id digit_1  digit_2  digit_3                         text\n",
              "0      id_0000065       J       58      582    사무실에서 고객의뢰로 시스템소프트웨어개발및공급\n",
              "1      id_0000107       J       58      582  사업장에서 고객의뢰를받아 무인주차관리시스템개발공급\n",
              "2      id_0000157       J       59      592           인터넷으로 디지털음원 음반제작유통\n",
              "3      id_0000276       J       58      582           사무실에서 의뢰받아 소프트웨어개발\n",
              "4      id_0000338       J       58      582    사무실에서 고객의뢰로 시스템소프트웨어개발및공급\n",
              "...           ...     ...      ...      ...                          ...\n",
              "10857  id_0999684       J       58      582       사무실에서 고객의뢰로 시스템소프트웨어개발\n",
              "10858  id_0999872       J       62      620           사무실에서 의뢰받아 소프트웨어개발\n",
              "10859  id_0999914       J       59      592                     녹음시설운영업 \n",
              "10860  id_0999959       J       58      582      사무실에서 고객의뢰로 시스템 소프트웨어개발\n",
              "10861  id_0999968       J       59      591      고객요청에의해 지정한장소에서 영상홍보물제작\n",
              "\n",
              "[10862 rows x 5 columns]"
            ],
            "text/html": [
              "\n",
              "  <div id=\"df-48f9acf3-4d45-47f5-8ab0-f2b2d509b77b\">\n",
              "    <div class=\"colab-df-container\">\n",
              "      <div>\n",
              "<style scoped>\n",
              "    .dataframe tbody tr th:only-of-type {\n",
              "        vertical-align: middle;\n",
              "    }\n",
              "\n",
              "    .dataframe tbody tr th {\n",
              "        vertical-align: top;\n",
              "    }\n",
              "\n",
              "    .dataframe thead th {\n",
              "        text-align: right;\n",
              "    }\n",
              "</style>\n",
              "<table border=\"1\" class=\"dataframe\">\n",
              "  <thead>\n",
              "    <tr style=\"text-align: right;\">\n",
              "      <th></th>\n",
              "      <th>AI_id</th>\n",
              "      <th>digit_1</th>\n",
              "      <th>digit_2</th>\n",
              "      <th>digit_3</th>\n",
              "      <th>text</th>\n",
              "    </tr>\n",
              "  </thead>\n",
              "  <tbody>\n",
              "    <tr>\n",
              "      <th>0</th>\n",
              "      <td>id_0000065</td>\n",
              "      <td>J</td>\n",
              "      <td>58</td>\n",
              "      <td>582</td>\n",
              "      <td>사무실에서 고객의뢰로 시스템소프트웨어개발및공급</td>\n",
              "    </tr>\n",
              "    <tr>\n",
              "      <th>1</th>\n",
              "      <td>id_0000107</td>\n",
              "      <td>J</td>\n",
              "      <td>58</td>\n",
              "      <td>582</td>\n",
              "      <td>사업장에서 고객의뢰를받아 무인주차관리시스템개발공급</td>\n",
              "    </tr>\n",
              "    <tr>\n",
              "      <th>2</th>\n",
              "      <td>id_0000157</td>\n",
              "      <td>J</td>\n",
              "      <td>59</td>\n",
              "      <td>592</td>\n",
              "      <td>인터넷으로 디지털음원 음반제작유통</td>\n",
              "    </tr>\n",
              "    <tr>\n",
              "      <th>3</th>\n",
              "      <td>id_0000276</td>\n",
              "      <td>J</td>\n",
              "      <td>58</td>\n",
              "      <td>582</td>\n",
              "      <td>사무실에서 의뢰받아 소프트웨어개발</td>\n",
              "    </tr>\n",
              "    <tr>\n",
              "      <th>4</th>\n",
              "      <td>id_0000338</td>\n",
              "      <td>J</td>\n",
              "      <td>58</td>\n",
              "      <td>582</td>\n",
              "      <td>사무실에서 고객의뢰로 시스템소프트웨어개발및공급</td>\n",
              "    </tr>\n",
              "    <tr>\n",
              "      <th>...</th>\n",
              "      <td>...</td>\n",
              "      <td>...</td>\n",
              "      <td>...</td>\n",
              "      <td>...</td>\n",
              "      <td>...</td>\n",
              "    </tr>\n",
              "    <tr>\n",
              "      <th>10857</th>\n",
              "      <td>id_0999684</td>\n",
              "      <td>J</td>\n",
              "      <td>58</td>\n",
              "      <td>582</td>\n",
              "      <td>사무실에서 고객의뢰로 시스템소프트웨어개발</td>\n",
              "    </tr>\n",
              "    <tr>\n",
              "      <th>10858</th>\n",
              "      <td>id_0999872</td>\n",
              "      <td>J</td>\n",
              "      <td>62</td>\n",
              "      <td>620</td>\n",
              "      <td>사무실에서 의뢰받아 소프트웨어개발</td>\n",
              "    </tr>\n",
              "    <tr>\n",
              "      <th>10859</th>\n",
              "      <td>id_0999914</td>\n",
              "      <td>J</td>\n",
              "      <td>59</td>\n",
              "      <td>592</td>\n",
              "      <td>녹음시설운영업</td>\n",
              "    </tr>\n",
              "    <tr>\n",
              "      <th>10860</th>\n",
              "      <td>id_0999959</td>\n",
              "      <td>J</td>\n",
              "      <td>58</td>\n",
              "      <td>582</td>\n",
              "      <td>사무실에서 고객의뢰로 시스템 소프트웨어개발</td>\n",
              "    </tr>\n",
              "    <tr>\n",
              "      <th>10861</th>\n",
              "      <td>id_0999968</td>\n",
              "      <td>J</td>\n",
              "      <td>59</td>\n",
              "      <td>591</td>\n",
              "      <td>고객요청에의해 지정한장소에서 영상홍보물제작</td>\n",
              "    </tr>\n",
              "  </tbody>\n",
              "</table>\n",
              "<p>10862 rows × 5 columns</p>\n",
              "</div>\n",
              "      <button class=\"colab-df-convert\" onclick=\"convertToInteractive('df-48f9acf3-4d45-47f5-8ab0-f2b2d509b77b')\"\n",
              "              title=\"Convert this dataframe to an interactive table.\"\n",
              "              style=\"display:none;\">\n",
              "        \n",
              "  <svg xmlns=\"http://www.w3.org/2000/svg\" height=\"24px\"viewBox=\"0 0 24 24\"\n",
              "       width=\"24px\">\n",
              "    <path d=\"M0 0h24v24H0V0z\" fill=\"none\"/>\n",
              "    <path d=\"M18.56 5.44l.94 2.06.94-2.06 2.06-.94-2.06-.94-.94-2.06-.94 2.06-2.06.94zm-11 1L8.5 8.5l.94-2.06 2.06-.94-2.06-.94L8.5 2.5l-.94 2.06-2.06.94zm10 10l.94 2.06.94-2.06 2.06-.94-2.06-.94-.94-2.06-.94 2.06-2.06.94z\"/><path d=\"M17.41 7.96l-1.37-1.37c-.4-.4-.92-.59-1.43-.59-.52 0-1.04.2-1.43.59L10.3 9.45l-7.72 7.72c-.78.78-.78 2.05 0 2.83L4 21.41c.39.39.9.59 1.41.59.51 0 1.02-.2 1.41-.59l7.78-7.78 2.81-2.81c.8-.78.8-2.07 0-2.86zM5.41 20L4 18.59l7.72-7.72 1.47 1.35L5.41 20z\"/>\n",
              "  </svg>\n",
              "      </button>\n",
              "      \n",
              "  <style>\n",
              "    .colab-df-container {\n",
              "      display:flex;\n",
              "      flex-wrap:wrap;\n",
              "      gap: 12px;\n",
              "    }\n",
              "\n",
              "    .colab-df-convert {\n",
              "      background-color: #E8F0FE;\n",
              "      border: none;\n",
              "      border-radius: 50%;\n",
              "      cursor: pointer;\n",
              "      display: none;\n",
              "      fill: #1967D2;\n",
              "      height: 32px;\n",
              "      padding: 0 0 0 0;\n",
              "      width: 32px;\n",
              "    }\n",
              "\n",
              "    .colab-df-convert:hover {\n",
              "      background-color: #E2EBFA;\n",
              "      box-shadow: 0px 1px 2px rgba(60, 64, 67, 0.3), 0px 1px 3px 1px rgba(60, 64, 67, 0.15);\n",
              "      fill: #174EA6;\n",
              "    }\n",
              "\n",
              "    [theme=dark] .colab-df-convert {\n",
              "      background-color: #3B4455;\n",
              "      fill: #D2E3FC;\n",
              "    }\n",
              "\n",
              "    [theme=dark] .colab-df-convert:hover {\n",
              "      background-color: #434B5C;\n",
              "      box-shadow: 0px 1px 3px 1px rgba(0, 0, 0, 0.15);\n",
              "      filter: drop-shadow(0px 1px 2px rgba(0, 0, 0, 0.3));\n",
              "      fill: #FFFFFF;\n",
              "    }\n",
              "  </style>\n",
              "\n",
              "      <script>\n",
              "        const buttonEl =\n",
              "          document.querySelector('#df-48f9acf3-4d45-47f5-8ab0-f2b2d509b77b button.colab-df-convert');\n",
              "        buttonEl.style.display =\n",
              "          google.colab.kernel.accessAllowed ? 'block' : 'none';\n",
              "\n",
              "        async function convertToInteractive(key) {\n",
              "          const element = document.querySelector('#df-48f9acf3-4d45-47f5-8ab0-f2b2d509b77b');\n",
              "          const dataTable =\n",
              "            await google.colab.kernel.invokeFunction('convertToInteractive',\n",
              "                                                     [key], {});\n",
              "          if (!dataTable) return;\n",
              "\n",
              "          const docLinkHtml = 'Like what you see? Visit the ' +\n",
              "            '<a target=\"_blank\" href=https://colab.research.google.com/notebooks/data_table.ipynb>data table notebook</a>'\n",
              "            + ' to learn more about interactive tables.';\n",
              "          element.innerHTML = '';\n",
              "          dataTable['output_type'] = 'display_data';\n",
              "          await google.colab.output.renderOutput(dataTable, element);\n",
              "          const docLink = document.createElement('div');\n",
              "          docLink.innerHTML = docLinkHtml;\n",
              "          element.appendChild(docLink);\n",
              "        }\n",
              "      </script>\n",
              "    </div>\n",
              "  </div>\n",
              "  "
            ]
          },
          "metadata": {},
          "execution_count": 8
        }
      ],
      "source": [
        "df['text']=df['text_obj'].map(str)+\" \"+df['text_mthd'].map(str)+\" \"+df['text_deal'].map(str)\n",
        "i=[]\n",
        "for sentence in df['text']:\n",
        "    a=sentence.replace('nan', '')\n",
        "    i.append(a)\n",
        "df['text']=pd.DataFrame(i)\n",
        "df=df.drop(['text_obj','text_mthd', 'text_deal'], axis=1) # 기존에 있던 세개의 text변수 삭제\n",
        "df"
      ]
    },
    {
      "cell_type": "code",
      "source": [
        "df['digit_3'].value_counts()"
      ],
      "metadata": {
        "colab": {
          "base_uri": "https://localhost:8080/"
        },
        "id": "mzEwzSHzMsc5",
        "outputId": "29608253-e2b1-4c32-b836-b9b6e90c684a"
      },
      "execution_count": 9,
      "outputs": [
        {
          "output_type": "execute_result",
          "data": {
            "text/plain": [
              "582    3771\n",
              "620    1919\n",
              "581    1548\n",
              "591    1250\n",
              "611     796\n",
              "631     456\n",
              "639     369\n",
              "612     317\n",
              "592     230\n",
              "602     186\n",
              "601      20\n",
              "Name: digit_3, dtype: int64"
            ]
          },
          "metadata": {},
          "execution_count": 9
        }
      ]
    },
    {
      "cell_type": "markdown",
      "metadata": {
        "id": "yzAnY0FvePIR"
      },
      "source": [
        "## 맞춤법 교정"
      ]
    },
    {
      "cell_type": "code",
      "source": [
        "!pip install git+https://github.com/ssut/py-hanspell"
      ],
      "metadata": {
        "colab": {
          "base_uri": "https://localhost:8080/"
        },
        "id": "U0g6lgW8yFAt",
        "outputId": "4083664d-2ea3-4f1d-9853-6b2a25192ca5"
      },
      "execution_count": 10,
      "outputs": [
        {
          "output_type": "stream",
          "name": "stdout",
          "text": [
            "Collecting git+https://github.com/ssut/py-hanspell\n",
            "  Cloning https://github.com/ssut/py-hanspell to /tmp/pip-req-build-mli9cjgo\n",
            "  Running command git clone -q https://github.com/ssut/py-hanspell /tmp/pip-req-build-mli9cjgo\n",
            "Requirement already satisfied: requests in /usr/local/lib/python3.7/dist-packages (from py-hanspell==1.1) (2.23.0)\n",
            "Requirement already satisfied: chardet<4,>=3.0.2 in /usr/local/lib/python3.7/dist-packages (from requests->py-hanspell==1.1) (3.0.4)\n",
            "Requirement already satisfied: urllib3!=1.25.0,!=1.25.1,<1.26,>=1.21.1 in /usr/local/lib/python3.7/dist-packages (from requests->py-hanspell==1.1) (1.24.3)\n",
            "Requirement already satisfied: certifi>=2017.4.17 in /usr/local/lib/python3.7/dist-packages (from requests->py-hanspell==1.1) (2021.10.8)\n",
            "Requirement already satisfied: idna<3,>=2.5 in /usr/local/lib/python3.7/dist-packages (from requests->py-hanspell==1.1) (2.10)\n",
            "Building wheels for collected packages: py-hanspell\n",
            "  Building wheel for py-hanspell (setup.py) ... \u001b[?25l\u001b[?25hdone\n",
            "  Created wheel for py-hanspell: filename=py_hanspell-1.1-py3-none-any.whl size=4868 sha256=900c3b4d8347e58965a88368daf95664c8b9d64742525ce35cb1c70a204e1b28\n",
            "  Stored in directory: /tmp/pip-ephem-wheel-cache-fb22ixy7/wheels/31/c2/c7/ddbbd9a84ddb0a67c2e52e3324d4b7b47dcf9581af9cd784de\n",
            "Successfully built py-hanspell\n",
            "Installing collected packages: py-hanspell\n",
            "Successfully installed py-hanspell-1.1\n"
          ]
        }
      ]
    },
    {
      "cell_type": "code",
      "source": [
        "from hanspell import spell_checker\n",
        "\n",
        "temp_result=[]\n",
        "for sentence in df['text']:\n",
        "  try:\n",
        "    result=spell_checker.check(sentence)\n",
        "    temp_result.append(result.checked)\n",
        "  except:\n",
        "    temp_result.append(sentence)\n",
        "\n",
        "df['text']=pd.DataFrame(temp_result)  "
      ],
      "metadata": {
        "id": "8IykblSnyRsV"
      },
      "execution_count": 11,
      "outputs": []
    },
    {
      "cell_type": "code",
      "source": [
        "df.to_csv('df_J_spellcheck.csv', index=False, encoding='utf-8-sig')"
      ],
      "metadata": {
        "id": "y6d2WHbeN_23"
      },
      "execution_count": 12,
      "outputs": []
    }
  ],
  "metadata": {
    "accelerator": "GPU",
    "colab": {
      "background_execution": "on",
      "collapsed_sections": [],
      "machine_shape": "hm",
      "name": "J spell check의 사본",
      "provenance": [],
      "include_colab_link": true
    },
    "kernelspec": {
      "display_name": "Python 3",
      "name": "python3"
    },
    "language_info": {
      "name": "python"
    }
  },
  "nbformat": 4,
  "nbformat_minor": 0
}