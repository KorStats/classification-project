{
  "cells": [
    {
      "cell_type": "markdown",
      "metadata": {
        "id": "view-in-github",
        "colab_type": "text"
      },
      "source": [
        "<a href=\"https://colab.research.google.com/github/KorStats/classification-project/blob/main/(240423)_%EC%8B%A4%ED%97%987_%EC%A4%91%EB%B3%B5%EC%A0%9C%EA%B1%B0.ipynb\" target=\"_parent\"><img src=\"https://colab.research.google.com/assets/colab-badge.svg\" alt=\"Open In Colab\"/></a>"
      ]
    },
    {
      "cell_type": "markdown",
      "id": "MMnWKOgWqASJ",
      "metadata": {
        "id": "MMnWKOgWqASJ"
      },
      "source": [
        "# 데이터 불러오기"
      ]
    },
    {
      "cell_type": "code",
      "execution_count": 1,
      "id": "No0zwrrxqCzZ",
      "metadata": {
        "colab": {
          "base_uri": "https://localhost:8080/"
        },
        "id": "No0zwrrxqCzZ",
        "outputId": "aef2ad4f-f9fe-41ef-b294-3b268b454c16"
      },
      "outputs": [
        {
          "output_type": "stream",
          "name": "stdout",
          "text": [
            "Mounted at /content/drive\n"
          ]
        }
      ],
      "source": [
        "from google.colab import drive\n",
        "drive.mount('/content/drive')"
      ]
    },
    {
      "cell_type": "code",
      "execution_count": 2,
      "id": "l9DXjUxNqC2I",
      "metadata": {
        "id": "l9DXjUxNqC2I",
        "colab": {
          "base_uri": "https://localhost:8080/"
        },
        "outputId": "30eb564e-510a-4a17-803b-2b6194f8ecae"
      },
      "outputs": [
        {
          "output_type": "stream",
          "name": "stdout",
          "text": [
            "Mounted at /content/gdrive\n",
            " application_data.csv  'My Drive'      기계학습특론프로젝트   딥러닝\n",
            "'Colab Notebooks'       기계학습특론   ★논문분석\n"
          ]
        }
      ],
      "source": [
        "from google.colab import drive\n",
        "drive.mount('/content/gdrive')\n",
        "!ln -s /content/gdrive/My\\ Drive/ /mydrive\n",
        "!ls /mydrive"
      ]
    },
    {
      "cell_type": "code",
      "execution_count": 18,
      "id": "acx53lzvqC4j",
      "metadata": {
        "id": "acx53lzvqC4j"
      },
      "outputs": [],
      "source": [
        "import pandas as pd\n",
        "df=pd.read_excel('/content/gdrive/MyDrive/기계학습특론프로젝트/채용공고_보안.xlsx')"
      ]
    },
    {
      "cell_type": "markdown",
      "source": [
        "# 데이터 정제하기"
      ],
      "metadata": {
        "id": "rh0g5_sKyCNi"
      },
      "id": "rh0g5_sKyCNi"
    },
    {
      "cell_type": "code",
      "source": [
        "pip install konlpy"
      ],
      "metadata": {
        "colab": {
          "base_uri": "https://localhost:8080/"
        },
        "id": "RjtsTIEgwBiM",
        "outputId": "97bde974-aba1-4c80-c1e2-1e56e62f00e0"
      },
      "id": "RjtsTIEgwBiM",
      "execution_count": 19,
      "outputs": [
        {
          "output_type": "stream",
          "name": "stdout",
          "text": [
            "Requirement already satisfied: konlpy in /usr/local/lib/python3.10/dist-packages (0.6.0)\n",
            "Requirement already satisfied: JPype1>=0.7.0 in /usr/local/lib/python3.10/dist-packages (from konlpy) (1.5.0)\n",
            "Requirement already satisfied: lxml>=4.1.0 in /usr/local/lib/python3.10/dist-packages (from konlpy) (4.9.4)\n",
            "Requirement already satisfied: numpy>=1.6 in /usr/local/lib/python3.10/dist-packages (from konlpy) (1.25.2)\n",
            "Requirement already satisfied: packaging in /usr/local/lib/python3.10/dist-packages (from JPype1>=0.7.0->konlpy) (24.0)\n"
          ]
        }
      ]
    },
    {
      "cell_type": "code",
      "source": [
        "# 직무 구분자 '-'에 짤려나가지 않도록 하기\n",
        "df['주요업무']=df['주요업무'].str.replace(\"isms-p\",'ISMS_P',regex=True)\n",
        "df['주요업무']=df['주요업무'].str.replace(\"ISMP-P\",'ISMS_P',regex=True)\n",
        "df['주요업무']=df['주요업무'].str.replace(\"PCI-DSS\",'PCI_DSS',regex=True)"
      ],
      "metadata": {
        "id": "Nm5HZrTPuH7c"
      },
      "id": "Nm5HZrTPuH7c",
      "execution_count": 20,
      "outputs": []
    },
    {
      "cell_type": "code",
      "source": [
        "df.head(3)"
      ],
      "metadata": {
        "colab": {
          "base_uri": "https://localhost:8080/",
          "height": 248
        },
        "id": "KOLPRYaiy2Ri",
        "outputId": "29b7a5ae-82ae-41e9-c401-3f0daa36925c"
      },
      "id": "KOLPRYaiy2Ri",
      "execution_count": 21,
      "outputs": [
        {
          "output_type": "execute_result",
          "data": {
            "text/plain": [
              "             기업명                    채용제목  \\\n",
              "0       마이뮤직테이스트        Backend Engineer   \n",
              "1  미미박스(MEMEBOX)         DevOps Engineer   \n",
              "2  미미박스(MEMEBOX)  Database Administrator   \n",
              "\n",
              "                                                주요업무  \\\n",
              "0  - 성능향상과 Scalability를 위한 최적화- 보안과 데이터 보호- 데이터베이...   \n",
              "1  ᆞ AWS상 인프라 운영 유지 및 관리ᆞ 배포 및 CI/CD 개발 운영 및 유지ᆞ ...   \n",
              "2  ᆞ Database를 백업, 복원, 모니터링, 튜닝ᆞ 신규 또는 개선 개발 프로젝트...   \n",
              "\n",
              "                                                자격요건  \\\n",
              "0  - 3년이상의 Python 외의 언어로 웹서버 개발 혹은 Python으로 웹서버 개...   \n",
              "1  ᆞ AWS 기반의 Container 환경 구축 및 CI/CD 등 자동화 관련 기솔에...   \n",
              "2  ᆞ AWS RDS (Mysql) 사용 경험ᆞ Mysql 5년 이상 사용 경험ᆞ Tr...   \n",
              "\n",
              "                                                우대사항  \n",
              "0  - 새로운 기술에 대한 적극적인 관심- 기존 솔루션을 유지/보수하면서 적극적으로 문...  \n",
              "1  ᆞ AWS Certificate 보유ᆞ IT 프로젝트 아키텍트 경험ᆞ JAVA/PH...  \n",
              "2                  ᆞ DB 장애 복구 경험ᆞ 1가지 이상 NoSQL 사용 경험  "
            ],
            "text/html": [
              "\n",
              "  <div id=\"df-06d8fda9-a268-4b35-aba2-26801e123330\" class=\"colab-df-container\">\n",
              "    <div>\n",
              "<style scoped>\n",
              "    .dataframe tbody tr th:only-of-type {\n",
              "        vertical-align: middle;\n",
              "    }\n",
              "\n",
              "    .dataframe tbody tr th {\n",
              "        vertical-align: top;\n",
              "    }\n",
              "\n",
              "    .dataframe thead th {\n",
              "        text-align: right;\n",
              "    }\n",
              "</style>\n",
              "<table border=\"1\" class=\"dataframe\">\n",
              "  <thead>\n",
              "    <tr style=\"text-align: right;\">\n",
              "      <th></th>\n",
              "      <th>기업명</th>\n",
              "      <th>채용제목</th>\n",
              "      <th>주요업무</th>\n",
              "      <th>자격요건</th>\n",
              "      <th>우대사항</th>\n",
              "    </tr>\n",
              "  </thead>\n",
              "  <tbody>\n",
              "    <tr>\n",
              "      <th>0</th>\n",
              "      <td>마이뮤직테이스트</td>\n",
              "      <td>Backend Engineer</td>\n",
              "      <td>- 성능향상과 Scalability를 위한 최적화- 보안과 데이터 보호- 데이터베이...</td>\n",
              "      <td>- 3년이상의 Python 외의 언어로 웹서버 개발 혹은 Python으로 웹서버 개...</td>\n",
              "      <td>- 새로운 기술에 대한 적극적인 관심- 기존 솔루션을 유지/보수하면서 적극적으로 문...</td>\n",
              "    </tr>\n",
              "    <tr>\n",
              "      <th>1</th>\n",
              "      <td>미미박스(MEMEBOX)</td>\n",
              "      <td>DevOps Engineer</td>\n",
              "      <td>ᆞ AWS상 인프라 운영 유지 및 관리ᆞ 배포 및 CI/CD 개발 운영 및 유지ᆞ ...</td>\n",
              "      <td>ᆞ AWS 기반의 Container 환경 구축 및 CI/CD 등 자동화 관련 기솔에...</td>\n",
              "      <td>ᆞ AWS Certificate 보유ᆞ IT 프로젝트 아키텍트 경험ᆞ JAVA/PH...</td>\n",
              "    </tr>\n",
              "    <tr>\n",
              "      <th>2</th>\n",
              "      <td>미미박스(MEMEBOX)</td>\n",
              "      <td>Database Administrator</td>\n",
              "      <td>ᆞ Database를 백업, 복원, 모니터링, 튜닝ᆞ 신규 또는 개선 개발 프로젝트...</td>\n",
              "      <td>ᆞ AWS RDS (Mysql) 사용 경험ᆞ Mysql 5년 이상 사용 경험ᆞ Tr...</td>\n",
              "      <td>ᆞ DB 장애 복구 경험ᆞ 1가지 이상 NoSQL 사용 경험</td>\n",
              "    </tr>\n",
              "  </tbody>\n",
              "</table>\n",
              "</div>\n",
              "    <div class=\"colab-df-buttons\">\n",
              "\n",
              "  <div class=\"colab-df-container\">\n",
              "    <button class=\"colab-df-convert\" onclick=\"convertToInteractive('df-06d8fda9-a268-4b35-aba2-26801e123330')\"\n",
              "            title=\"Convert this dataframe to an interactive table.\"\n",
              "            style=\"display:none;\">\n",
              "\n",
              "  <svg xmlns=\"http://www.w3.org/2000/svg\" height=\"24px\" viewBox=\"0 -960 960 960\">\n",
              "    <path d=\"M120-120v-720h720v720H120Zm60-500h600v-160H180v160Zm220 220h160v-160H400v160Zm0 220h160v-160H400v160ZM180-400h160v-160H180v160Zm440 0h160v-160H620v160ZM180-180h160v-160H180v160Zm440 0h160v-160H620v160Z\"/>\n",
              "  </svg>\n",
              "    </button>\n",
              "\n",
              "  <style>\n",
              "    .colab-df-container {\n",
              "      display:flex;\n",
              "      gap: 12px;\n",
              "    }\n",
              "\n",
              "    .colab-df-convert {\n",
              "      background-color: #E8F0FE;\n",
              "      border: none;\n",
              "      border-radius: 50%;\n",
              "      cursor: pointer;\n",
              "      display: none;\n",
              "      fill: #1967D2;\n",
              "      height: 32px;\n",
              "      padding: 0 0 0 0;\n",
              "      width: 32px;\n",
              "    }\n",
              "\n",
              "    .colab-df-convert:hover {\n",
              "      background-color: #E2EBFA;\n",
              "      box-shadow: 0px 1px 2px rgba(60, 64, 67, 0.3), 0px 1px 3px 1px rgba(60, 64, 67, 0.15);\n",
              "      fill: #174EA6;\n",
              "    }\n",
              "\n",
              "    .colab-df-buttons div {\n",
              "      margin-bottom: 4px;\n",
              "    }\n",
              "\n",
              "    [theme=dark] .colab-df-convert {\n",
              "      background-color: #3B4455;\n",
              "      fill: #D2E3FC;\n",
              "    }\n",
              "\n",
              "    [theme=dark] .colab-df-convert:hover {\n",
              "      background-color: #434B5C;\n",
              "      box-shadow: 0px 1px 3px 1px rgba(0, 0, 0, 0.15);\n",
              "      filter: drop-shadow(0px 1px 2px rgba(0, 0, 0, 0.3));\n",
              "      fill: #FFFFFF;\n",
              "    }\n",
              "  </style>\n",
              "\n",
              "    <script>\n",
              "      const buttonEl =\n",
              "        document.querySelector('#df-06d8fda9-a268-4b35-aba2-26801e123330 button.colab-df-convert');\n",
              "      buttonEl.style.display =\n",
              "        google.colab.kernel.accessAllowed ? 'block' : 'none';\n",
              "\n",
              "      async function convertToInteractive(key) {\n",
              "        const element = document.querySelector('#df-06d8fda9-a268-4b35-aba2-26801e123330');\n",
              "        const dataTable =\n",
              "          await google.colab.kernel.invokeFunction('convertToInteractive',\n",
              "                                                    [key], {});\n",
              "        if (!dataTable) return;\n",
              "\n",
              "        const docLinkHtml = 'Like what you see? Visit the ' +\n",
              "          '<a target=\"_blank\" href=https://colab.research.google.com/notebooks/data_table.ipynb>data table notebook</a>'\n",
              "          + ' to learn more about interactive tables.';\n",
              "        element.innerHTML = '';\n",
              "        dataTable['output_type'] = 'display_data';\n",
              "        await google.colab.output.renderOutput(dataTable, element);\n",
              "        const docLink = document.createElement('div');\n",
              "        docLink.innerHTML = docLinkHtml;\n",
              "        element.appendChild(docLink);\n",
              "      }\n",
              "    </script>\n",
              "  </div>\n",
              "\n",
              "\n",
              "<div id=\"df-8701ddf2-ae39-4462-8063-cdb0ca5d8cba\">\n",
              "  <button class=\"colab-df-quickchart\" onclick=\"quickchart('df-8701ddf2-ae39-4462-8063-cdb0ca5d8cba')\"\n",
              "            title=\"Suggest charts\"\n",
              "            style=\"display:none;\">\n",
              "\n",
              "<svg xmlns=\"http://www.w3.org/2000/svg\" height=\"24px\"viewBox=\"0 0 24 24\"\n",
              "     width=\"24px\">\n",
              "    <g>\n",
              "        <path d=\"M19 3H5c-1.1 0-2 .9-2 2v14c0 1.1.9 2 2 2h14c1.1 0 2-.9 2-2V5c0-1.1-.9-2-2-2zM9 17H7v-7h2v7zm4 0h-2V7h2v10zm4 0h-2v-4h2v4z\"/>\n",
              "    </g>\n",
              "</svg>\n",
              "  </button>\n",
              "\n",
              "<style>\n",
              "  .colab-df-quickchart {\n",
              "      --bg-color: #E8F0FE;\n",
              "      --fill-color: #1967D2;\n",
              "      --hover-bg-color: #E2EBFA;\n",
              "      --hover-fill-color: #174EA6;\n",
              "      --disabled-fill-color: #AAA;\n",
              "      --disabled-bg-color: #DDD;\n",
              "  }\n",
              "\n",
              "  [theme=dark] .colab-df-quickchart {\n",
              "      --bg-color: #3B4455;\n",
              "      --fill-color: #D2E3FC;\n",
              "      --hover-bg-color: #434B5C;\n",
              "      --hover-fill-color: #FFFFFF;\n",
              "      --disabled-bg-color: #3B4455;\n",
              "      --disabled-fill-color: #666;\n",
              "  }\n",
              "\n",
              "  .colab-df-quickchart {\n",
              "    background-color: var(--bg-color);\n",
              "    border: none;\n",
              "    border-radius: 50%;\n",
              "    cursor: pointer;\n",
              "    display: none;\n",
              "    fill: var(--fill-color);\n",
              "    height: 32px;\n",
              "    padding: 0;\n",
              "    width: 32px;\n",
              "  }\n",
              "\n",
              "  .colab-df-quickchart:hover {\n",
              "    background-color: var(--hover-bg-color);\n",
              "    box-shadow: 0 1px 2px rgba(60, 64, 67, 0.3), 0 1px 3px 1px rgba(60, 64, 67, 0.15);\n",
              "    fill: var(--button-hover-fill-color);\n",
              "  }\n",
              "\n",
              "  .colab-df-quickchart-complete:disabled,\n",
              "  .colab-df-quickchart-complete:disabled:hover {\n",
              "    background-color: var(--disabled-bg-color);\n",
              "    fill: var(--disabled-fill-color);\n",
              "    box-shadow: none;\n",
              "  }\n",
              "\n",
              "  .colab-df-spinner {\n",
              "    border: 2px solid var(--fill-color);\n",
              "    border-color: transparent;\n",
              "    border-bottom-color: var(--fill-color);\n",
              "    animation:\n",
              "      spin 1s steps(1) infinite;\n",
              "  }\n",
              "\n",
              "  @keyframes spin {\n",
              "    0% {\n",
              "      border-color: transparent;\n",
              "      border-bottom-color: var(--fill-color);\n",
              "      border-left-color: var(--fill-color);\n",
              "    }\n",
              "    20% {\n",
              "      border-color: transparent;\n",
              "      border-left-color: var(--fill-color);\n",
              "      border-top-color: var(--fill-color);\n",
              "    }\n",
              "    30% {\n",
              "      border-color: transparent;\n",
              "      border-left-color: var(--fill-color);\n",
              "      border-top-color: var(--fill-color);\n",
              "      border-right-color: var(--fill-color);\n",
              "    }\n",
              "    40% {\n",
              "      border-color: transparent;\n",
              "      border-right-color: var(--fill-color);\n",
              "      border-top-color: var(--fill-color);\n",
              "    }\n",
              "    60% {\n",
              "      border-color: transparent;\n",
              "      border-right-color: var(--fill-color);\n",
              "    }\n",
              "    80% {\n",
              "      border-color: transparent;\n",
              "      border-right-color: var(--fill-color);\n",
              "      border-bottom-color: var(--fill-color);\n",
              "    }\n",
              "    90% {\n",
              "      border-color: transparent;\n",
              "      border-bottom-color: var(--fill-color);\n",
              "    }\n",
              "  }\n",
              "</style>\n",
              "\n",
              "  <script>\n",
              "    async function quickchart(key) {\n",
              "      const quickchartButtonEl =\n",
              "        document.querySelector('#' + key + ' button');\n",
              "      quickchartButtonEl.disabled = true;  // To prevent multiple clicks.\n",
              "      quickchartButtonEl.classList.add('colab-df-spinner');\n",
              "      try {\n",
              "        const charts = await google.colab.kernel.invokeFunction(\n",
              "            'suggestCharts', [key], {});\n",
              "      } catch (error) {\n",
              "        console.error('Error during call to suggestCharts:', error);\n",
              "      }\n",
              "      quickchartButtonEl.classList.remove('colab-df-spinner');\n",
              "      quickchartButtonEl.classList.add('colab-df-quickchart-complete');\n",
              "    }\n",
              "    (() => {\n",
              "      let quickchartButtonEl =\n",
              "        document.querySelector('#df-8701ddf2-ae39-4462-8063-cdb0ca5d8cba button');\n",
              "      quickchartButtonEl.style.display =\n",
              "        google.colab.kernel.accessAllowed ? 'block' : 'none';\n",
              "    })();\n",
              "  </script>\n",
              "</div>\n",
              "    </div>\n",
              "  </div>\n"
            ],
            "application/vnd.google.colaboratory.intrinsic+json": {
              "type": "dataframe",
              "variable_name": "df",
              "summary": "{\n  \"name\": \"df\",\n  \"rows\": 2661,\n  \"fields\": [\n    {\n      \"column\": \"\\uae30\\uc5c5\\uba85\",\n      \"properties\": {\n        \"dtype\": \"category\",\n        \"num_unique_values\": 934,\n        \"samples\": [\n          \"\\uc544\\ud1a0\\ub9ac\\uc11c\\uce58\",\n          \"\\uc9c0\\ub2c9\\uc2a4(zeniex)\",\n          \"\\ud53c\\ub124\\ubcf4(Finevo)\"\n        ],\n        \"semantic_type\": \"\",\n        \"description\": \"\"\n      }\n    },\n    {\n      \"column\": \"\\ucc44\\uc6a9\\uc81c\\ubaa9\",\n      \"properties\": {\n        \"dtype\": \"string\",\n        \"num_unique_values\": 2165,\n        \"samples\": [\n          \"\\uc6d0\\uc2a4\\ud1a0\\uc5b4 Cloud Network \\uc5d4\\uc9c0\\ub2c8\\uc5b4\",\n          \"SIEM \\uad6c\\ucd95 PM\",\n          \"[\\uba54\\uac00\\uc874\\ud074\\ub77c\\uc6b0\\ub4dc] Solutions Architect (Elastic Engineer)\"\n        ],\n        \"semantic_type\": \"\",\n        \"description\": \"\"\n      }\n    },\n    {\n      \"column\": \"\\uc8fc\\uc694\\uc5c5\\ubb34\",\n      \"properties\": {\n        \"dtype\": \"string\",\n        \"num_unique_values\": 2516,\n        \"samples\": [\n          \"\\u2022  \\uc640\\ub514\\uc988 \\uc815\\ubcf4\\ubcf4\\ud638\\ub97c \\uc704\\ud55c \\ubcf4\\uc548 \\uc870\\uc9c1 \\uc804\\uccb4\\ub97c \\ub9ac\\ub4dc\\ud558\\ub294 \\uc5ed\\ud560\\u2022 \\uc0ac\\ub0b4 \\uc778\\ud504\\ub77c / \\ubcf4\\uc548\\uc815\\ucc45,\\uc2dc\\uc2a4\\ud15c \\uc218\\ub9bd \\ubc0f \\uad00\\ub9ac \\u2022 \\uc815\\ubcf4\\ubcf4\\uc548 RISK\\uad00\\ub9ac \\ubc0f IT\\uad00\\ub828 \\uc774\\uc288\\ubd84\\uc11d/\\ub300\\uc751 \\u2022 \\ubcf4\\uc548\\uac10\\uc0ac / \\ucde8\\uc57d\\uc810 \\uc9c4\\ub2e8\\uc5d0 \\ub300\\ud55c \\ub9ac\\ub4dc\",\n          \"\\u2022 \\uc6f9(JAVA)\\uae30\\ubc18 \\ud3ec\\ud138 \\uc11c\\ube44\\uc2a4 \\uad6c\\ucd95\\u2022 \\ubcf4\\uc548\\uc778\\uc99d\\uc194\\ub8e8\\uc158 \\uc11c\\ubc84 \\uac1c\\ubc1c\",\n          \"1. IT\\ubcf4\\uc548 \\uad50\\uc721\\ud6c8\\ub828\\uccb4\\uacc4 \\uc5f0\\uad6c\\uacc4\\ubc1c \\uc9c1\\ubb34(00\\uba85)- \\ud6c8\\ub828 \\ud3c9\\uac00 \\ubaa8\\ub378 \\ubc0f \\uccb4\\uacc4 \\uc5f0\\uad6c- \\uad50\\uc721\\ud6c8\\ub828 \\ud3c9\\uac00\\ub97c \\uc704\\ud55c \\uac00\\uc0c1 \\ud658\\uacbd\\uae30\\ubc18 \\ud589\\uc704 \\uc218\\uc9d1 \\ubc0f \\ubd84\\uc11d \\uae30\\uc220 \\uc5f0\\uad6c- \\uac00\\uc0c1\\ud654 \\uad00\\ub828 \\uae30\\uc220 \\uc5f0\\uad6c (\\ud558\\uc774\\ud37c\\ubc14\\uc774\\uc800\\uc758, \\ub3c4\\ucee4 \\ub4f1\\uc744 \\uc774\\uc6a9\\ud55c \\uad50\\uc721\\ud6c8\\ub828 \\ud658\\uacbd \\uad6c\\uc131 \\ubaa9\\uc801)- DevOps \\uad00\\ub828 \\uae30\\uc220 \\uc5f0\\uad6c (\\uac00\\uc0c1 \\ub124\\ud2b8\\uc6cc\\ud06c \\ud504\\ub85c\\ube44\\uc800\\ub2dd \\ubc0f \\uc790\\ub3d9\\ud654 \\ub4f1)- \\uad50\\uc721\\ud6c8\\ub828 \\uccb4\\uacc4\\uc640 \\ucf58\\ud150\\uce20 \\uad00\\ub9ac2. IT IT\\ubcf4\\uc548\\uae30\\uc220 \\uc5f0\\uad6c\\uac1c\\ubc1c \\uc9c1\\ubb34(00\\uba85)- IT \\ub124\\ud2b8\\uc6cc\\ud06c \\ub9dd\\uacfc \\uad00\\ub828\\ub41c \\ucde8\\uc57d\\uc810 \\uc5f0\\uad6c (S/W, \\uc2dc\\uc2a4\\ud15c, \\ub124\\ud2b8\\uc6cc\\ud06c \\ub4f1)- MITRE ATT&CK \\uc5d4\\ud130\\ud504\\ub77c\\uc774\\uc988 \\ubaa8\\ub378\\uc758 \\uacf5\\uaca9 \\uc804\\uc220/\\uae30\\uc220/\\ud504\\ub85c\\uc2dc\\uc800 \\uc5f0\\uad6c- IT \\ub124\\ud2b8\\uc6cc\\ud06c\\uc758 \\uce68\\ud574\\uc0ac\\uace0 \\uc544\\ud2f0\\ud329\\ud2b8 \\uc5f0\\uad6c- IT \\ub124\\ud2b8\\uc6cc\\ud06c \\ub808\\ub4dc\\ud300 \\uc11c\\ube44\\uc2a4\\ub97c \\uc704\\ud55c \\ub3c4\\uad6c(\\uc810\\uac80 \\ubc0f \\ud3c9\\uac00 \\uc11c\\ube44\\uc2a4 \\uc218\\ud589\\uc2dc \\ud544\\uc694\\ud55c) \\uc5f0\\uad6c \\ubc0f \\uac1c\\ubc1c-3. OTIT \\ubcf4\\uc548\\uae30\\uc220 \\uc5f0\\uad6c\\uac1c\\ubc1c \\uc9c1\\ubb34(00\\uba85)-OT/ICS \\ub124\\ud2b8\\uc6cc\\ud06c \\ub9dd\\uc758 \\uc0b0\\uc5c5\\ubd84\\uc57c\\uc5d0 \\ub530\\ub978 \\ud45c\\uc900\\uacfc \\uacf5\\uc815 \\ud504\\ub85c\\uc138\\uc2a4 \\ubd84\\uc11d- OT/ICS \\uad00\\ub828 \\ucde8\\uc57d\\uc810 \\uc5f0\\uad6c (HW, SW, \\ud504\\ub85c\\ud1a0\\ucf5c \\ub4f1)- MITRE ATT&CK ICS \\ubaa8\\ub378\\uc758 \\uacf5\\uaca9 \\uc804\\uc220/\\uae30\\uc220/\\ud504\\ub85c\\uc2dc\\uc800 \\uc5f0\\uad6c- OT/ICS \\ub124\\ud2b8\\uc6cc\\ud06c\\uc758 \\uce68\\ud574\\uc0ac\\uace0 \\uc544\\ud2f0\\ud329\\ud2b8 \\uc5f0\\uad6c (PLC \\ud38c\\uc6e8\\uc5b4 \\ub364\\ud504 \\ubc0f \\ubd84\\uc11d , \\ud504\\ub85c\\ud1a0\\ucf5c \\ub9ac\\ubc84\\uc2f1 \\ub4f1)- OT/ICS \\ub124\\ud2b8\\uc6cc\\ud06c \\ub808\\ub4dc\\ud300 \\uc11c\\ube44\\uc2a4\\ub97c \\uc704\\ud55c \\ub3c4\\uad6c(\\uc810\\uac80 \\ubc0f \\ud3c9\\uac00 \\uc11c\\ube44\\uc2a4 \\uc218\\ud589\\uc2dc \\ud544\\uc694\\ud55c) \\uc5f0\\uad6c \\ubc0f \\uac1c\\ubc1c\"\n        ],\n        \"semantic_type\": \"\",\n        \"description\": \"\"\n      }\n    },\n    {\n      \"column\": \"\\uc790\\uaca9\\uc694\\uac74\",\n      \"properties\": {\n        \"dtype\": \"string\",\n        \"num_unique_values\": 2505,\n        \"samples\": [\n          \"\\u2022 3\\ub144 \\uc774\\uc0c1 7\\ub144 \\ubbf8\\ub9cc\\uc758 \\uad00\\ub828 \\uacbd\\ub825\\uc744 \\ubcf4\\uc720\\ud558\\uc2e0 \\ubd84\\u2022 \\ucd1d 100\\uba85 \\uc774\\uc0c1\\uc758 \\uaddc\\ubaa8\\uc758 \\uae00\\ub85c\\ubc8c \\ud68c\\uc0ac\\uc5d0\\uc11c IT Administrator \\uc5c5\\ubb34\\ub97c \\uc8fc\\ub3c4\\uc801\\uc73c\\ub85c \\uc9c4\\ud589\\ud574 \\ubcf4\\uc2e0 \\ubd84\\u2022 HW, SW \\uc790\\uc0b0\\uad00\\ub9ac \\uc6b4\\uc601 \\uacbd\\ud5d8\\uc774 \\uc788\\uc73c\\uc2e0 \\ubd84\\u2022 \\uc601\\uc5b4\\ub85c \\uadfc\\ubb34\\ud55c \\uacbd\\ud5d8\\uc774 \\uc788\\uc73c\\uc2dc\\uac70\\ub098, \\uc601\\uc5b4\\ub85c \\uc758\\uc0ac\\uc18c\\ud1b5\\uc774 \\uac00\\ub2a5\\ud558\\uc2e0 \\ubd84\\u2022 \\uc131\\uc2e4\\ud558\\uace0, \\uaf3c\\uaf3c\\ud558\\uba70, \\uc628\\ud654\\ud55c \\uc131\\ud488\\uc774\\uc2e0 \\ubd84\",\n          \"\\u2022 Linux \\uae30\\ubc18 \\ud504\\ub85c\\uadf8\\ub7a8 \\uac1c\\ubc1c \\uacbd\\ub825 2\\ub144\\uc774\\uc0c1 \\u2022 \\ub9ac\\ub205\\uc2a4 \\uc2dc\\uc2a4\\ud15c \\ud504\\ub85c\\uadf8\\ub798\\ubc0d \\uacbd\\ud5d8\\u2022 \\ub9ac\\ub205\\uc2a4 \\ucee4\\ub110 \\ub4dc\\ub77c\\uc774\\ubc84 / LKM(Loaderble kernel module) \\uac1c\\ubc1c \\uacbd\\ud5d8\",\n          \"\\u2022 \\uc815\\ubcf4 \\uc2dc\\uc2a4\\ud15c\\uc5d0 \\ub300\\ud55c \\uae30\\ubcf8\\uc801 \\uc774\\ud574\\ub3c4\\uac00 \\ub192\\uc740\\uc790(Windows, Linux, DB, Network\\ub4f1)\\n\\u2022 \\ubcf4\\uc548 \\uad00\\uc81c \\ubc0f \\uce68\\ud574 \\uc0ac\\uace0 \\ub300\\uc751 \\ubc0f \\ubd84\\uc11d \\uac00\\ub2a5\\uc790\\n\\u2022 \\ubcf4\\uc548 \\uc2dc\\uc2a4\\ud15c(IPS, \\uc6f9\\ubc29\\ud654\\ubcbd \\ub4f1) \\uc6b4\\uc601 \\uacbd\\ud5d8\\uc790\\n\\u2022 \\uce68\\ud22c \\ud14c\\uc2a4\\ud2b8 \\uc720\\uacbd\\ud5d8\\uc790\\n\\u2022 \\uc6f9 \\ucde8\\uc57d\\uc810 \\uc9c4\\ub2e8 \\uac00\\ub2a5\\uc790\"\n        ],\n        \"semantic_type\": \"\",\n        \"description\": \"\"\n      }\n    },\n    {\n      \"column\": \"\\uc6b0\\ub300\\uc0ac\\ud56d\",\n      \"properties\": {\n        \"dtype\": \"string\",\n        \"num_unique_values\": 2445,\n        \"samples\": [\n          \"\\u2022 Hybrid Cloud \\uc544\\ud0a4\\ud14d\\ucc98\\uc5d0 \\ub300\\ud55c \\uc774\\ud574\\uc640 \\uacbd\\ud5d8\\u2022 AWS(Amazon Web Services)\\ud658\\uacbd\\uc5d0\\uc11c\\uc758 \\uc2dc\\uc2a4\\ud15c \\uc6b4\\uc601 \\uacbd\\ud5d8\\u2022 Docker, Kubernetes \\uad6c\\ucd95 \\uc6b4\\uc601 \\uacbd\\ud5d8\\u2022 IaC (Terraform,Ansible) \\uc0ac\\uc6a9 \\uacbd\\ud5d8\\u2022 Grafana, Prometheus, ELK \\uad6c\\ucd95 \\ub610\\ub294 \\uc6b4\\uc601 \\uacbd\\ud5d8\\u2022 CI/CD \\uad6c\\ucd95 \\ubc0f \\uc6b4\\uc601 \\uacbd\\ud5d8\\u2022 \\uc624\\ud508\\uc18c\\uc2a4 \\ud504\\ub85c\\uc81d\\ud2b8 \\uc6b4\\uc601 \\ub610\\ub294 \\ucc38\\uc5ec \\uacbd\\ud5d8\\u2022 \\uacf5\\uacf5/\\uc815\\ubd80\\uae30\\uad00 \\uc11c\\ube44\\uc2a4 \\uc778\\ud504\\ub77c \\uc6b4\\uc601 \\uacbd\\ud5d8\\u2022 \\ud558\\ub098 \\uc774\\uc0c1\\uc758 \\ud504\\ub85c\\uadf8\\ub798\\ubc0d \\uc5b8\\uc5b4\\uc758 \\uc775\\uc219 \\ud558\\uc2e0 \\ubd84\\u2022 MSA\\uc5d0 \\ub300\\ud55c \\uc774\\ud574\",\n          \"\\u318d\\uc6b0\\ub300 \\uc790\\uaca9- \\uae30\\ud0c0 \\ucd1d\\ubb34 \\uc9c1\\ubb34\\uc5d0 \\ud0c1\\uc6d4\\ud55c \\ub2a5\\ub825 \\ubcf4\\uc720\\uc790- IOS \\uc778\\uc99d \\ud3ec\\ud568 \\uac01\\uc885 \\uc778\\uc99d \\uacbd\\ud5d8\\uc790- IT \\uc2a4\\ud0c0\\ud2b8\\uc5c5\\uc758 \\ube60\\ub978 \\ubcc0\\ud654\\uc5d0 \\ub530\\ub978 \\uc790\\uc0b0\\uad00\\ub9ac \\ubc0f \\uc774\\uc0ac\\ud68c \\uc14b\\ud305 \\uacbd\\ud5d8- \\uad6d\\ub0b4 \\ub300\\uae30\\uc5c5 \\ubc0f \\uae00\\ub85c\\ubc8c \\uae30\\uc5c5 \\uadfc\\ubb34 \\uacbd\\ud5d9\\uc790- \\uc9c1\\uc5c5 \\uae30\\ucd08\\ub2a5\\ub825 : \\ucd1d\\ubb34 \\uc5c5\\ubb34\\uc5d0 \\ub300\\ud55c \\uc790\\ubd80\\uc2ec, \\uc720\\ubb34\\ud615 \\uc790\\uc0b0 \\uad00\\ub9ac\\ub2a5\\ub825\",\n          \"- \\uc815\\ubcf4\\ucc98\\ub9ac\\uae30\\uc0ac, \\uc815\\ubcf4\\ubcf4\\uc548\\uae30\\uc0ac \\uc790\\uaca9\\uc99d \\uc18c\\uc9c0\\ud558\\uc2e0 \\ubd84\\n- \\ub124\\ud2b8\\uc6cc\\ud06c \\ubc0f? \\ubcf4\\uc548\\uc5d0 \\uae30\\ubcf8 \\uc774\\ud574\\ub3c4\\uac00 \\uc788\\uc73c\\uc2e0 \\ubd84\\n- \\ud574\\ub2f9 \\uc9c1\\ubb34 \\uadfc\\ubb34 \\uacbd\\ud5d8 \\uc788\\uc73c\\uc2e0 \\ubd84\\n- \\uace0\\uc6a9\\ucd09\\uc9c4\\uc7a5\\ub824\\uae08 \\ub300\\uc0c1 , \\uc778\\uadfc\\uac70\\uc8fc\\uc790 , \\uc6b4\\uc804 \\uac00\\ub2a5\\ud558\\uc2e0 \\ubd84\\n- \\ub2e4\\uc591\\ud55c \\uacbd\\ud5d8\\uc744 \\ud1b5\\ud574 \\ub298 \\uc131\\uc7a5\\ud558\\uace0 \\ubc1c\\uc804\\ud558\\uc2dc\\ub294 \\ubd84\"\n        ],\n        \"semantic_type\": \"\",\n        \"description\": \"\"\n      }\n    }\n  ]\n}"
            }
          },
          "metadata": {},
          "execution_count": 21
        }
      ]
    },
    {
      "cell_type": "code",
      "source": [
        "import re\n",
        "def split_tasks(text):\n",
        "    split_text = re.split(r'\\s*[\\-•ㆍᆞ・・\\n.]\\s*', text) #해당 문자열이 들어간 기준으로 잘라내기\n",
        "    return [s.strip() for s in split_text if s.strip()]"
      ],
      "metadata": {
        "id": "sYRWREZfxmjK"
      },
      "id": "sYRWREZfxmjK",
      "execution_count": 22,
      "outputs": []
    },
    {
      "cell_type": "code",
      "source": [
        "task_split_result=[]\n",
        "for task in df['주요업무']:\n",
        "  result=split_tasks(task)\n",
        "  task_split_result.append(result)\n",
        "len(task_split_result) #2661개의 채용공고 정보 수집함"
      ],
      "metadata": {
        "colab": {
          "base_uri": "https://localhost:8080/"
        },
        "id": "-EXaMJlcyAlv",
        "outputId": "951be694-4612-4129-cf7c-5240bcc65dc0"
      },
      "id": "-EXaMJlcyAlv",
      "execution_count": 23,
      "outputs": [
        {
          "output_type": "execute_result",
          "data": {
            "text/plain": [
              "2661"
            ]
          },
          "metadata": {},
          "execution_count": 23
        }
      ]
    },
    {
      "cell_type": "code",
      "source": [
        "# 직무 정보로 쪼개기\n",
        "company_list=[]\n",
        "title_list=[]\n",
        "qualify_list=[]\n",
        "prefer_list=[]\n",
        "task_list=[]\n",
        "\n",
        "for k in range(df.shape[0]):\n",
        "  company=df.iloc[k]['기업명']\n",
        "  title=df.iloc[k]['채용제목']\n",
        "  qualify=df.iloc[k]['자격요건']\n",
        "  prefer=df.iloc[k]['우대사항']\n",
        "  tasks=task_split_result[k]\n",
        "  for task in tasks:\n",
        "    company_list.append(company)\n",
        "    title_list.append(title)\n",
        "    qualify_list.append(qualify)\n",
        "    prefer_list.append(prefer)\n",
        "    task_list.append(task)\n",
        "\n",
        "rows = zip(company_list, title_list, task_list, qualify_list, prefer_list)\n",
        "df = pd.DataFrame(rows, columns=['기업명', '채용제목', '주요업무', '지원자격', '우대사항'])\n",
        "df.head(3)"
      ],
      "metadata": {
        "colab": {
          "base_uri": "https://localhost:8080/",
          "height": 248
        },
        "id": "IgVushDswt3K",
        "outputId": "c3a30eba-4c80-4c6f-d0a2-afeefdc19dea"
      },
      "id": "IgVushDswt3K",
      "execution_count": 24,
      "outputs": [
        {
          "output_type": "execute_result",
          "data": {
            "text/plain": [
              "        기업명              채용제목  \\\n",
              "0  마이뮤직테이스트  Backend Engineer   \n",
              "1  마이뮤직테이스트  Backend Engineer   \n",
              "2  마이뮤직테이스트  Backend Engineer   \n",
              "\n",
              "                                                주요업무  \\\n",
              "0                          성능향상과 Scalability를 위한 최적화   \n",
              "1                                         보안과 데이터 보호   \n",
              "2  데이터베이스 솔루션 디자인및 구현음악과 기술에 대한 열정이 넘치는 사람들로 가득한,...   \n",
              "\n",
              "                                                지원자격  \\\n",
              "0  - 3년이상의 Python 외의 언어로 웹서버 개발 혹은 Python으로 웹서버 개...   \n",
              "1  - 3년이상의 Python 외의 언어로 웹서버 개발 혹은 Python으로 웹서버 개...   \n",
              "2  - 3년이상의 Python 외의 언어로 웹서버 개발 혹은 Python으로 웹서버 개...   \n",
              "\n",
              "                                                우대사항  \n",
              "0  - 새로운 기술에 대한 적극적인 관심- 기존 솔루션을 유지/보수하면서 적극적으로 문...  \n",
              "1  - 새로운 기술에 대한 적극적인 관심- 기존 솔루션을 유지/보수하면서 적극적으로 문...  \n",
              "2  - 새로운 기술에 대한 적극적인 관심- 기존 솔루션을 유지/보수하면서 적극적으로 문...  "
            ],
            "text/html": [
              "\n",
              "  <div id=\"df-10d760df-49d4-421e-b20a-92c0df747ff4\" class=\"colab-df-container\">\n",
              "    <div>\n",
              "<style scoped>\n",
              "    .dataframe tbody tr th:only-of-type {\n",
              "        vertical-align: middle;\n",
              "    }\n",
              "\n",
              "    .dataframe tbody tr th {\n",
              "        vertical-align: top;\n",
              "    }\n",
              "\n",
              "    .dataframe thead th {\n",
              "        text-align: right;\n",
              "    }\n",
              "</style>\n",
              "<table border=\"1\" class=\"dataframe\">\n",
              "  <thead>\n",
              "    <tr style=\"text-align: right;\">\n",
              "      <th></th>\n",
              "      <th>기업명</th>\n",
              "      <th>채용제목</th>\n",
              "      <th>주요업무</th>\n",
              "      <th>지원자격</th>\n",
              "      <th>우대사항</th>\n",
              "    </tr>\n",
              "  </thead>\n",
              "  <tbody>\n",
              "    <tr>\n",
              "      <th>0</th>\n",
              "      <td>마이뮤직테이스트</td>\n",
              "      <td>Backend Engineer</td>\n",
              "      <td>성능향상과 Scalability를 위한 최적화</td>\n",
              "      <td>- 3년이상의 Python 외의 언어로 웹서버 개발 혹은 Python으로 웹서버 개...</td>\n",
              "      <td>- 새로운 기술에 대한 적극적인 관심- 기존 솔루션을 유지/보수하면서 적극적으로 문...</td>\n",
              "    </tr>\n",
              "    <tr>\n",
              "      <th>1</th>\n",
              "      <td>마이뮤직테이스트</td>\n",
              "      <td>Backend Engineer</td>\n",
              "      <td>보안과 데이터 보호</td>\n",
              "      <td>- 3년이상의 Python 외의 언어로 웹서버 개발 혹은 Python으로 웹서버 개...</td>\n",
              "      <td>- 새로운 기술에 대한 적극적인 관심- 기존 솔루션을 유지/보수하면서 적극적으로 문...</td>\n",
              "    </tr>\n",
              "    <tr>\n",
              "      <th>2</th>\n",
              "      <td>마이뮤직테이스트</td>\n",
              "      <td>Backend Engineer</td>\n",
              "      <td>데이터베이스 솔루션 디자인및 구현음악과 기술에 대한 열정이 넘치는 사람들로 가득한,...</td>\n",
              "      <td>- 3년이상의 Python 외의 언어로 웹서버 개발 혹은 Python으로 웹서버 개...</td>\n",
              "      <td>- 새로운 기술에 대한 적극적인 관심- 기존 솔루션을 유지/보수하면서 적극적으로 문...</td>\n",
              "    </tr>\n",
              "  </tbody>\n",
              "</table>\n",
              "</div>\n",
              "    <div class=\"colab-df-buttons\">\n",
              "\n",
              "  <div class=\"colab-df-container\">\n",
              "    <button class=\"colab-df-convert\" onclick=\"convertToInteractive('df-10d760df-49d4-421e-b20a-92c0df747ff4')\"\n",
              "            title=\"Convert this dataframe to an interactive table.\"\n",
              "            style=\"display:none;\">\n",
              "\n",
              "  <svg xmlns=\"http://www.w3.org/2000/svg\" height=\"24px\" viewBox=\"0 -960 960 960\">\n",
              "    <path d=\"M120-120v-720h720v720H120Zm60-500h600v-160H180v160Zm220 220h160v-160H400v160Zm0 220h160v-160H400v160ZM180-400h160v-160H180v160Zm440 0h160v-160H620v160ZM180-180h160v-160H180v160Zm440 0h160v-160H620v160Z\"/>\n",
              "  </svg>\n",
              "    </button>\n",
              "\n",
              "  <style>\n",
              "    .colab-df-container {\n",
              "      display:flex;\n",
              "      gap: 12px;\n",
              "    }\n",
              "\n",
              "    .colab-df-convert {\n",
              "      background-color: #E8F0FE;\n",
              "      border: none;\n",
              "      border-radius: 50%;\n",
              "      cursor: pointer;\n",
              "      display: none;\n",
              "      fill: #1967D2;\n",
              "      height: 32px;\n",
              "      padding: 0 0 0 0;\n",
              "      width: 32px;\n",
              "    }\n",
              "\n",
              "    .colab-df-convert:hover {\n",
              "      background-color: #E2EBFA;\n",
              "      box-shadow: 0px 1px 2px rgba(60, 64, 67, 0.3), 0px 1px 3px 1px rgba(60, 64, 67, 0.15);\n",
              "      fill: #174EA6;\n",
              "    }\n",
              "\n",
              "    .colab-df-buttons div {\n",
              "      margin-bottom: 4px;\n",
              "    }\n",
              "\n",
              "    [theme=dark] .colab-df-convert {\n",
              "      background-color: #3B4455;\n",
              "      fill: #D2E3FC;\n",
              "    }\n",
              "\n",
              "    [theme=dark] .colab-df-convert:hover {\n",
              "      background-color: #434B5C;\n",
              "      box-shadow: 0px 1px 3px 1px rgba(0, 0, 0, 0.15);\n",
              "      filter: drop-shadow(0px 1px 2px rgba(0, 0, 0, 0.3));\n",
              "      fill: #FFFFFF;\n",
              "    }\n",
              "  </style>\n",
              "\n",
              "    <script>\n",
              "      const buttonEl =\n",
              "        document.querySelector('#df-10d760df-49d4-421e-b20a-92c0df747ff4 button.colab-df-convert');\n",
              "      buttonEl.style.display =\n",
              "        google.colab.kernel.accessAllowed ? 'block' : 'none';\n",
              "\n",
              "      async function convertToInteractive(key) {\n",
              "        const element = document.querySelector('#df-10d760df-49d4-421e-b20a-92c0df747ff4');\n",
              "        const dataTable =\n",
              "          await google.colab.kernel.invokeFunction('convertToInteractive',\n",
              "                                                    [key], {});\n",
              "        if (!dataTable) return;\n",
              "\n",
              "        const docLinkHtml = 'Like what you see? Visit the ' +\n",
              "          '<a target=\"_blank\" href=https://colab.research.google.com/notebooks/data_table.ipynb>data table notebook</a>'\n",
              "          + ' to learn more about interactive tables.';\n",
              "        element.innerHTML = '';\n",
              "        dataTable['output_type'] = 'display_data';\n",
              "        await google.colab.output.renderOutput(dataTable, element);\n",
              "        const docLink = document.createElement('div');\n",
              "        docLink.innerHTML = docLinkHtml;\n",
              "        element.appendChild(docLink);\n",
              "      }\n",
              "    </script>\n",
              "  </div>\n",
              "\n",
              "\n",
              "<div id=\"df-a7651bee-68a1-482b-bf47-a9d593051135\">\n",
              "  <button class=\"colab-df-quickchart\" onclick=\"quickchart('df-a7651bee-68a1-482b-bf47-a9d593051135')\"\n",
              "            title=\"Suggest charts\"\n",
              "            style=\"display:none;\">\n",
              "\n",
              "<svg xmlns=\"http://www.w3.org/2000/svg\" height=\"24px\"viewBox=\"0 0 24 24\"\n",
              "     width=\"24px\">\n",
              "    <g>\n",
              "        <path d=\"M19 3H5c-1.1 0-2 .9-2 2v14c0 1.1.9 2 2 2h14c1.1 0 2-.9 2-2V5c0-1.1-.9-2-2-2zM9 17H7v-7h2v7zm4 0h-2V7h2v10zm4 0h-2v-4h2v4z\"/>\n",
              "    </g>\n",
              "</svg>\n",
              "  </button>\n",
              "\n",
              "<style>\n",
              "  .colab-df-quickchart {\n",
              "      --bg-color: #E8F0FE;\n",
              "      --fill-color: #1967D2;\n",
              "      --hover-bg-color: #E2EBFA;\n",
              "      --hover-fill-color: #174EA6;\n",
              "      --disabled-fill-color: #AAA;\n",
              "      --disabled-bg-color: #DDD;\n",
              "  }\n",
              "\n",
              "  [theme=dark] .colab-df-quickchart {\n",
              "      --bg-color: #3B4455;\n",
              "      --fill-color: #D2E3FC;\n",
              "      --hover-bg-color: #434B5C;\n",
              "      --hover-fill-color: #FFFFFF;\n",
              "      --disabled-bg-color: #3B4455;\n",
              "      --disabled-fill-color: #666;\n",
              "  }\n",
              "\n",
              "  .colab-df-quickchart {\n",
              "    background-color: var(--bg-color);\n",
              "    border: none;\n",
              "    border-radius: 50%;\n",
              "    cursor: pointer;\n",
              "    display: none;\n",
              "    fill: var(--fill-color);\n",
              "    height: 32px;\n",
              "    padding: 0;\n",
              "    width: 32px;\n",
              "  }\n",
              "\n",
              "  .colab-df-quickchart:hover {\n",
              "    background-color: var(--hover-bg-color);\n",
              "    box-shadow: 0 1px 2px rgba(60, 64, 67, 0.3), 0 1px 3px 1px rgba(60, 64, 67, 0.15);\n",
              "    fill: var(--button-hover-fill-color);\n",
              "  }\n",
              "\n",
              "  .colab-df-quickchart-complete:disabled,\n",
              "  .colab-df-quickchart-complete:disabled:hover {\n",
              "    background-color: var(--disabled-bg-color);\n",
              "    fill: var(--disabled-fill-color);\n",
              "    box-shadow: none;\n",
              "  }\n",
              "\n",
              "  .colab-df-spinner {\n",
              "    border: 2px solid var(--fill-color);\n",
              "    border-color: transparent;\n",
              "    border-bottom-color: var(--fill-color);\n",
              "    animation:\n",
              "      spin 1s steps(1) infinite;\n",
              "  }\n",
              "\n",
              "  @keyframes spin {\n",
              "    0% {\n",
              "      border-color: transparent;\n",
              "      border-bottom-color: var(--fill-color);\n",
              "      border-left-color: var(--fill-color);\n",
              "    }\n",
              "    20% {\n",
              "      border-color: transparent;\n",
              "      border-left-color: var(--fill-color);\n",
              "      border-top-color: var(--fill-color);\n",
              "    }\n",
              "    30% {\n",
              "      border-color: transparent;\n",
              "      border-left-color: var(--fill-color);\n",
              "      border-top-color: var(--fill-color);\n",
              "      border-right-color: var(--fill-color);\n",
              "    }\n",
              "    40% {\n",
              "      border-color: transparent;\n",
              "      border-right-color: var(--fill-color);\n",
              "      border-top-color: var(--fill-color);\n",
              "    }\n",
              "    60% {\n",
              "      border-color: transparent;\n",
              "      border-right-color: var(--fill-color);\n",
              "    }\n",
              "    80% {\n",
              "      border-color: transparent;\n",
              "      border-right-color: var(--fill-color);\n",
              "      border-bottom-color: var(--fill-color);\n",
              "    }\n",
              "    90% {\n",
              "      border-color: transparent;\n",
              "      border-bottom-color: var(--fill-color);\n",
              "    }\n",
              "  }\n",
              "</style>\n",
              "\n",
              "  <script>\n",
              "    async function quickchart(key) {\n",
              "      const quickchartButtonEl =\n",
              "        document.querySelector('#' + key + ' button');\n",
              "      quickchartButtonEl.disabled = true;  // To prevent multiple clicks.\n",
              "      quickchartButtonEl.classList.add('colab-df-spinner');\n",
              "      try {\n",
              "        const charts = await google.colab.kernel.invokeFunction(\n",
              "            'suggestCharts', [key], {});\n",
              "      } catch (error) {\n",
              "        console.error('Error during call to suggestCharts:', error);\n",
              "      }\n",
              "      quickchartButtonEl.classList.remove('colab-df-spinner');\n",
              "      quickchartButtonEl.classList.add('colab-df-quickchart-complete');\n",
              "    }\n",
              "    (() => {\n",
              "      let quickchartButtonEl =\n",
              "        document.querySelector('#df-a7651bee-68a1-482b-bf47-a9d593051135 button');\n",
              "      quickchartButtonEl.style.display =\n",
              "        google.colab.kernel.accessAllowed ? 'block' : 'none';\n",
              "    })();\n",
              "  </script>\n",
              "</div>\n",
              "    </div>\n",
              "  </div>\n"
            ],
            "application/vnd.google.colaboratory.intrinsic+json": {
              "type": "dataframe",
              "variable_name": "df",
              "summary": "{\n  \"name\": \"df\",\n  \"rows\": 14849,\n  \"fields\": [\n    {\n      \"column\": \"\\uae30\\uc5c5\\uba85\",\n      \"properties\": {\n        \"dtype\": \"category\",\n        \"num_unique_values\": 934,\n        \"samples\": [\n          \"\\uc544\\ud1a0\\ub9ac\\uc11c\\uce58\",\n          \"\\uc9c0\\ub2c9\\uc2a4(zeniex)\",\n          \"\\ud53c\\ub124\\ubcf4(Finevo)\"\n        ],\n        \"semantic_type\": \"\",\n        \"description\": \"\"\n      }\n    },\n    {\n      \"column\": \"\\ucc44\\uc6a9\\uc81c\\ubaa9\",\n      \"properties\": {\n        \"dtype\": \"category\",\n        \"num_unique_values\": 2165,\n        \"samples\": [\n          \"\\uc6d0\\uc2a4\\ud1a0\\uc5b4 Cloud Network \\uc5d4\\uc9c0\\ub2c8\\uc5b4\",\n          \"SIEM \\uad6c\\ucd95 PM\",\n          \"[\\uba54\\uac00\\uc874\\ud074\\ub77c\\uc6b0\\ub4dc] Solutions Architect (Elastic Engineer)\"\n        ],\n        \"semantic_type\": \"\",\n        \"description\": \"\"\n      }\n    },\n    {\n      \"column\": \"\\uc8fc\\uc694\\uc5c5\\ubb34\",\n      \"properties\": {\n        \"dtype\": \"string\",\n        \"num_unique_values\": 11947,\n        \"samples\": [\n          \"\\uae30\\ud504\\ud305\\uc758 \\uc11c\\ube44\\uc2a4\\uc778 \\uc6d4\\uac04\\uac00\\uc2b4\\uc774 \\uace0\\uac1d\\uc758 \\ud53c\\ud305\\uc744 \\ucc3e\\uc544\\uac00\\ub4ef \\uae30\\ud504\\ud305\\uc758 \\ubb38\\ud654\\uc5d0 \\uc798 \\ud53c\\ud305\\uc774 \\ub418\\ub294\\uc9c0 \\ud300\\uacfc \\uc785\\uc0ac\\uc790\\uac00 \\uc11c\\ub85c \\ud655\\uc778\\ud569\\ub2c8\\ub2e4\",\n          \"\\ub0b4\\ubd80 \\ubcf4\\uc548 \\uac10\\uc0ac\",\n          \"\\uc694\\uad6c\\uc0ac\\ud56d \\uad6c\\uccb4\\ud654, \\uc194\\ub8e8\\uc158 \\uac80\\ud1a0, \\ubca4\\uce58\\ub9c8\\ud0b9 \\ubc0f \\ud2b8\\ub80c\\ub4dc \\uc870\\uc0ac, \\uc544\\ud0a4\\ud14d\\uccd0 \\uc778\\ud504\\ub77c \\uac80\\ud1a0, \\uacac\\uc801 \\uc9c0\\uc6d0, \\uc81c\\uc548\\uc5c5\\uccb4 \\uac80\\ud1a0\"\n        ],\n        \"semantic_type\": \"\",\n        \"description\": \"\"\n      }\n    },\n    {\n      \"column\": \"\\uc9c0\\uc6d0\\uc790\\uaca9\",\n      \"properties\": {\n        \"dtype\": \"category\",\n        \"num_unique_values\": 2505,\n        \"samples\": [\n          \"\\u2022 3\\ub144 \\uc774\\uc0c1 7\\ub144 \\ubbf8\\ub9cc\\uc758 \\uad00\\ub828 \\uacbd\\ub825\\uc744 \\ubcf4\\uc720\\ud558\\uc2e0 \\ubd84\\u2022 \\ucd1d 100\\uba85 \\uc774\\uc0c1\\uc758 \\uaddc\\ubaa8\\uc758 \\uae00\\ub85c\\ubc8c \\ud68c\\uc0ac\\uc5d0\\uc11c IT Administrator \\uc5c5\\ubb34\\ub97c \\uc8fc\\ub3c4\\uc801\\uc73c\\ub85c \\uc9c4\\ud589\\ud574 \\ubcf4\\uc2e0 \\ubd84\\u2022 HW, SW \\uc790\\uc0b0\\uad00\\ub9ac \\uc6b4\\uc601 \\uacbd\\ud5d8\\uc774 \\uc788\\uc73c\\uc2e0 \\ubd84\\u2022 \\uc601\\uc5b4\\ub85c \\uadfc\\ubb34\\ud55c \\uacbd\\ud5d8\\uc774 \\uc788\\uc73c\\uc2dc\\uac70\\ub098, \\uc601\\uc5b4\\ub85c \\uc758\\uc0ac\\uc18c\\ud1b5\\uc774 \\uac00\\ub2a5\\ud558\\uc2e0 \\ubd84\\u2022 \\uc131\\uc2e4\\ud558\\uace0, \\uaf3c\\uaf3c\\ud558\\uba70, \\uc628\\ud654\\ud55c \\uc131\\ud488\\uc774\\uc2e0 \\ubd84\",\n          \"\\u2022 Linux \\uae30\\ubc18 \\ud504\\ub85c\\uadf8\\ub7a8 \\uac1c\\ubc1c \\uacbd\\ub825 2\\ub144\\uc774\\uc0c1 \\u2022 \\ub9ac\\ub205\\uc2a4 \\uc2dc\\uc2a4\\ud15c \\ud504\\ub85c\\uadf8\\ub798\\ubc0d \\uacbd\\ud5d8\\u2022 \\ub9ac\\ub205\\uc2a4 \\ucee4\\ub110 \\ub4dc\\ub77c\\uc774\\ubc84 / LKM(Loaderble kernel module) \\uac1c\\ubc1c \\uacbd\\ud5d8\",\n          \"\\u2022 \\uc815\\ubcf4 \\uc2dc\\uc2a4\\ud15c\\uc5d0 \\ub300\\ud55c \\uae30\\ubcf8\\uc801 \\uc774\\ud574\\ub3c4\\uac00 \\ub192\\uc740\\uc790(Windows, Linux, DB, Network\\ub4f1)\\n\\u2022 \\ubcf4\\uc548 \\uad00\\uc81c \\ubc0f \\uce68\\ud574 \\uc0ac\\uace0 \\ub300\\uc751 \\ubc0f \\ubd84\\uc11d \\uac00\\ub2a5\\uc790\\n\\u2022 \\ubcf4\\uc548 \\uc2dc\\uc2a4\\ud15c(IPS, \\uc6f9\\ubc29\\ud654\\ubcbd \\ub4f1) \\uc6b4\\uc601 \\uacbd\\ud5d8\\uc790\\n\\u2022 \\uce68\\ud22c \\ud14c\\uc2a4\\ud2b8 \\uc720\\uacbd\\ud5d8\\uc790\\n\\u2022 \\uc6f9 \\ucde8\\uc57d\\uc810 \\uc9c4\\ub2e8 \\uac00\\ub2a5\\uc790\"\n        ],\n        \"semantic_type\": \"\",\n        \"description\": \"\"\n      }\n    },\n    {\n      \"column\": \"\\uc6b0\\ub300\\uc0ac\\ud56d\",\n      \"properties\": {\n        \"dtype\": \"category\",\n        \"num_unique_values\": 2445,\n        \"samples\": [\n          \"\\u2022 Hybrid Cloud \\uc544\\ud0a4\\ud14d\\ucc98\\uc5d0 \\ub300\\ud55c \\uc774\\ud574\\uc640 \\uacbd\\ud5d8\\u2022 AWS(Amazon Web Services)\\ud658\\uacbd\\uc5d0\\uc11c\\uc758 \\uc2dc\\uc2a4\\ud15c \\uc6b4\\uc601 \\uacbd\\ud5d8\\u2022 Docker, Kubernetes \\uad6c\\ucd95 \\uc6b4\\uc601 \\uacbd\\ud5d8\\u2022 IaC (Terraform,Ansible) \\uc0ac\\uc6a9 \\uacbd\\ud5d8\\u2022 Grafana, Prometheus, ELK \\uad6c\\ucd95 \\ub610\\ub294 \\uc6b4\\uc601 \\uacbd\\ud5d8\\u2022 CI/CD \\uad6c\\ucd95 \\ubc0f \\uc6b4\\uc601 \\uacbd\\ud5d8\\u2022 \\uc624\\ud508\\uc18c\\uc2a4 \\ud504\\ub85c\\uc81d\\ud2b8 \\uc6b4\\uc601 \\ub610\\ub294 \\ucc38\\uc5ec \\uacbd\\ud5d8\\u2022 \\uacf5\\uacf5/\\uc815\\ubd80\\uae30\\uad00 \\uc11c\\ube44\\uc2a4 \\uc778\\ud504\\ub77c \\uc6b4\\uc601 \\uacbd\\ud5d8\\u2022 \\ud558\\ub098 \\uc774\\uc0c1\\uc758 \\ud504\\ub85c\\uadf8\\ub798\\ubc0d \\uc5b8\\uc5b4\\uc758 \\uc775\\uc219 \\ud558\\uc2e0 \\ubd84\\u2022 MSA\\uc5d0 \\ub300\\ud55c \\uc774\\ud574\",\n          \"\\u318d\\uc6b0\\ub300 \\uc790\\uaca9- \\uae30\\ud0c0 \\ucd1d\\ubb34 \\uc9c1\\ubb34\\uc5d0 \\ud0c1\\uc6d4\\ud55c \\ub2a5\\ub825 \\ubcf4\\uc720\\uc790- IOS \\uc778\\uc99d \\ud3ec\\ud568 \\uac01\\uc885 \\uc778\\uc99d \\uacbd\\ud5d8\\uc790- IT \\uc2a4\\ud0c0\\ud2b8\\uc5c5\\uc758 \\ube60\\ub978 \\ubcc0\\ud654\\uc5d0 \\ub530\\ub978 \\uc790\\uc0b0\\uad00\\ub9ac \\ubc0f \\uc774\\uc0ac\\ud68c \\uc14b\\ud305 \\uacbd\\ud5d8- \\uad6d\\ub0b4 \\ub300\\uae30\\uc5c5 \\ubc0f \\uae00\\ub85c\\ubc8c \\uae30\\uc5c5 \\uadfc\\ubb34 \\uacbd\\ud5d9\\uc790- \\uc9c1\\uc5c5 \\uae30\\ucd08\\ub2a5\\ub825 : \\ucd1d\\ubb34 \\uc5c5\\ubb34\\uc5d0 \\ub300\\ud55c \\uc790\\ubd80\\uc2ec, \\uc720\\ubb34\\ud615 \\uc790\\uc0b0 \\uad00\\ub9ac\\ub2a5\\ub825\",\n          \"- \\uc815\\ubcf4\\ucc98\\ub9ac\\uae30\\uc0ac, \\uc815\\ubcf4\\ubcf4\\uc548\\uae30\\uc0ac \\uc790\\uaca9\\uc99d \\uc18c\\uc9c0\\ud558\\uc2e0 \\ubd84\\n- \\ub124\\ud2b8\\uc6cc\\ud06c \\ubc0f? \\ubcf4\\uc548\\uc5d0 \\uae30\\ubcf8 \\uc774\\ud574\\ub3c4\\uac00 \\uc788\\uc73c\\uc2e0 \\ubd84\\n- \\ud574\\ub2f9 \\uc9c1\\ubb34 \\uadfc\\ubb34 \\uacbd\\ud5d8 \\uc788\\uc73c\\uc2e0 \\ubd84\\n- \\uace0\\uc6a9\\ucd09\\uc9c4\\uc7a5\\ub824\\uae08 \\ub300\\uc0c1 , \\uc778\\uadfc\\uac70\\uc8fc\\uc790 , \\uc6b4\\uc804 \\uac00\\ub2a5\\ud558\\uc2e0 \\ubd84\\n- \\ub2e4\\uc591\\ud55c \\uacbd\\ud5d8\\uc744 \\ud1b5\\ud574 \\ub298 \\uc131\\uc7a5\\ud558\\uace0 \\ubc1c\\uc804\\ud558\\uc2dc\\ub294 \\ubd84\"\n        ],\n        \"semantic_type\": \"\",\n        \"description\": \"\"\n      }\n    }\n  ]\n}"
            }
          },
          "metadata": {},
          "execution_count": 24
        }
      ]
    },
    {
      "cell_type": "code",
      "source": [
        "df.shape #총 14849개의 보안직무 정보 찾아냄"
      ],
      "metadata": {
        "colab": {
          "base_uri": "https://localhost:8080/"
        },
        "id": "7V-3-6DDwuAB",
        "outputId": "3f7e258b-ccb1-41e8-a85d-d54a240f19e0"
      },
      "id": "7V-3-6DDwuAB",
      "execution_count": 25,
      "outputs": [
        {
          "output_type": "execute_result",
          "data": {
            "text/plain": [
              "(14849, 5)"
            ]
          },
          "metadata": {},
          "execution_count": 25
        }
      ]
    },
    {
      "cell_type": "markdown",
      "source": [
        "# 데이터 전처리"
      ],
      "metadata": {
        "id": "hwVl-k6BUBIC"
      },
      "id": "hwVl-k6BUBIC"
    },
    {
      "cell_type": "code",
      "source": [
        "df['업무길이'] = df['주요업무'].apply(len)\n",
        "df=df[(df['업무길이']>=5) & (df['업무길이']<=50)] #너무짧거나 긴 문장 삭제"
      ],
      "metadata": {
        "id": "j1wSaILe1BTZ"
      },
      "id": "j1wSaILe1BTZ",
      "execution_count": 26,
      "outputs": []
    },
    {
      "cell_type": "code",
      "source": [
        "df.shape"
      ],
      "metadata": {
        "colab": {
          "base_uri": "https://localhost:8080/"
        },
        "id": "1Wyf53dm1BYI",
        "outputId": "3a30fcf9-a89d-4ef9-be4a-3fbd257a6d81"
      },
      "id": "1Wyf53dm1BYI",
      "execution_count": 27,
      "outputs": [
        {
          "output_type": "execute_result",
          "data": {
            "text/plain": [
              "(12556, 6)"
            ]
          },
          "metadata": {},
          "execution_count": 27
        }
      ]
    },
    {
      "cell_type": "code",
      "source": [
        "pip install konlpy"
      ],
      "metadata": {
        "colab": {
          "base_uri": "https://localhost:8080/"
        },
        "id": "grB4shYZ37gK",
        "outputId": "b374817a-077f-4cbe-aa15-25767c53d41a"
      },
      "id": "grB4shYZ37gK",
      "execution_count": 28,
      "outputs": [
        {
          "output_type": "stream",
          "name": "stdout",
          "text": [
            "Requirement already satisfied: konlpy in /usr/local/lib/python3.10/dist-packages (0.6.0)\n",
            "Requirement already satisfied: JPype1>=0.7.0 in /usr/local/lib/python3.10/dist-packages (from konlpy) (1.5.0)\n",
            "Requirement already satisfied: lxml>=4.1.0 in /usr/local/lib/python3.10/dist-packages (from konlpy) (4.9.4)\n",
            "Requirement already satisfied: numpy>=1.6 in /usr/local/lib/python3.10/dist-packages (from konlpy) (1.25.2)\n",
            "Requirement already satisfied: packaging in /usr/local/lib/python3.10/dist-packages (from JPype1>=0.7.0->konlpy) (24.0)\n"
          ]
        }
      ]
    },
    {
      "cell_type": "code",
      "source": [
        "# 중복제거 (재공고 사항 삭제)\n",
        "df=df.drop_duplicates()"
      ],
      "metadata": {
        "id": "tqQgdP8P1ywP"
      },
      "id": "tqQgdP8P1ywP",
      "execution_count": 29,
      "outputs": []
    },
    {
      "cell_type": "markdown",
      "source": [
        "## 조사, 어미, 구두점 제거, 어간추출 - Okt 중심으로"
      ],
      "metadata": {
        "id": "6GEg4LAjmLuY"
      },
      "id": "6GEg4LAjmLuY"
    },
    {
      "cell_type": "code",
      "source": [
        "from konlpy.tag import Okt\n",
        "okt=Okt()\n",
        "\n",
        "#조사, 어미, 구두점 제거, 어간 추출\n",
        "def text_clean(text):\n",
        "  clean_text=[]\n",
        "  for word in okt.pos(text, stem=True):\n",
        "    if word[1] not in ['Josa', 'Eomi', 'Punction']:\n",
        "      clean_text.append(word[0])\n",
        "  return \" \".join(clean_text)\n",
        "\n",
        "clean_text=[]\n",
        "for text in df['주요업무']:\n",
        "  result=text_clean(text)\n",
        "  result=re.sub(\"[^가-힣ㄱ-ㅎㅏ-ㅣ,a-z, A-Z]\", \" \", result)\n",
        "  clean_text.append(result)\n",
        "\n",
        "clean_text=pd.DataFrame(clean_text, columns=['주요업무_C'])\n",
        "df=df.reset_index(drop=True)\n",
        "df= pd.concat([df, clean_text], axis=1)"
      ],
      "metadata": {
        "id": "FCxa-ddzzvZu"
      },
      "id": "FCxa-ddzzvZu",
      "execution_count": 30,
      "outputs": []
    },
    {
      "cell_type": "code",
      "source": [
        "df.head(3)"
      ],
      "metadata": {
        "colab": {
          "base_uri": "https://localhost:8080/",
          "height": 352
        },
        "id": "XaRZm66p4MFv",
        "outputId": "549e47f0-ec2e-465e-f33c-5fc1d64f7409"
      },
      "id": "XaRZm66p4MFv",
      "execution_count": 31,
      "outputs": [
        {
          "output_type": "execute_result",
          "data": {
            "text/plain": [
              "        기업명              채용제목                                           주요업무  \\\n",
              "0  마이뮤직테이스트  Backend Engineer                      성능향상과 Scalability를 위한 최적화   \n",
              "1  마이뮤직테이스트  Backend Engineer                                     보안과 데이터 보호   \n",
              "2  마이뮤직테이스트  Backend Engineer  우리는 콘서트 시장의 패러다임을 획기적으로 바꿀 수 있는 서비스를 만들고 있습니다   \n",
              "\n",
              "                                                지원자격  \\\n",
              "0  - 3년이상의 Python 외의 언어로 웹서버 개발 혹은 Python으로 웹서버 개...   \n",
              "1  - 3년이상의 Python 외의 언어로 웹서버 개발 혹은 Python으로 웹서버 개...   \n",
              "2  - 3년이상의 Python 외의 언어로 웹서버 개발 혹은 Python으로 웹서버 개...   \n",
              "\n",
              "                                                우대사항  업무길이  \\\n",
              "0  - 새로운 기술에 대한 적극적인 관심- 기존 솔루션을 유지/보수하면서 적극적으로 문...    25   \n",
              "1  - 새로운 기술에 대한 적극적인 관심- 기존 솔루션을 유지/보수하면서 적극적으로 문...    10   \n",
              "2  - 새로운 기술에 대한 적극적인 관심- 기존 솔루션을 유지/보수하면서 적극적으로 문...    45   \n",
              "\n",
              "                                    주요업무_C  \n",
              "0                성능 향상 Scalability 를 위 최적화  \n",
              "1                                보안 데이터 보호  \n",
              "2  우리 콘서트 시장 패러다임 획기 적 바꾸다 수 있다 서비스 만들다 있다  "
            ],
            "text/html": [
              "\n",
              "  <div id=\"df-fba97340-bec4-4535-9303-3fb2e53bf5b6\" class=\"colab-df-container\">\n",
              "    <div>\n",
              "<style scoped>\n",
              "    .dataframe tbody tr th:only-of-type {\n",
              "        vertical-align: middle;\n",
              "    }\n",
              "\n",
              "    .dataframe tbody tr th {\n",
              "        vertical-align: top;\n",
              "    }\n",
              "\n",
              "    .dataframe thead th {\n",
              "        text-align: right;\n",
              "    }\n",
              "</style>\n",
              "<table border=\"1\" class=\"dataframe\">\n",
              "  <thead>\n",
              "    <tr style=\"text-align: right;\">\n",
              "      <th></th>\n",
              "      <th>기업명</th>\n",
              "      <th>채용제목</th>\n",
              "      <th>주요업무</th>\n",
              "      <th>지원자격</th>\n",
              "      <th>우대사항</th>\n",
              "      <th>업무길이</th>\n",
              "      <th>주요업무_C</th>\n",
              "    </tr>\n",
              "  </thead>\n",
              "  <tbody>\n",
              "    <tr>\n",
              "      <th>0</th>\n",
              "      <td>마이뮤직테이스트</td>\n",
              "      <td>Backend Engineer</td>\n",
              "      <td>성능향상과 Scalability를 위한 최적화</td>\n",
              "      <td>- 3년이상의 Python 외의 언어로 웹서버 개발 혹은 Python으로 웹서버 개...</td>\n",
              "      <td>- 새로운 기술에 대한 적극적인 관심- 기존 솔루션을 유지/보수하면서 적극적으로 문...</td>\n",
              "      <td>25</td>\n",
              "      <td>성능 향상 Scalability 를 위 최적화</td>\n",
              "    </tr>\n",
              "    <tr>\n",
              "      <th>1</th>\n",
              "      <td>마이뮤직테이스트</td>\n",
              "      <td>Backend Engineer</td>\n",
              "      <td>보안과 데이터 보호</td>\n",
              "      <td>- 3년이상의 Python 외의 언어로 웹서버 개발 혹은 Python으로 웹서버 개...</td>\n",
              "      <td>- 새로운 기술에 대한 적극적인 관심- 기존 솔루션을 유지/보수하면서 적극적으로 문...</td>\n",
              "      <td>10</td>\n",
              "      <td>보안 데이터 보호</td>\n",
              "    </tr>\n",
              "    <tr>\n",
              "      <th>2</th>\n",
              "      <td>마이뮤직테이스트</td>\n",
              "      <td>Backend Engineer</td>\n",
              "      <td>우리는 콘서트 시장의 패러다임을 획기적으로 바꿀 수 있는 서비스를 만들고 있습니다</td>\n",
              "      <td>- 3년이상의 Python 외의 언어로 웹서버 개발 혹은 Python으로 웹서버 개...</td>\n",
              "      <td>- 새로운 기술에 대한 적극적인 관심- 기존 솔루션을 유지/보수하면서 적극적으로 문...</td>\n",
              "      <td>45</td>\n",
              "      <td>우리 콘서트 시장 패러다임 획기 적 바꾸다 수 있다 서비스 만들다 있다</td>\n",
              "    </tr>\n",
              "  </tbody>\n",
              "</table>\n",
              "</div>\n",
              "    <div class=\"colab-df-buttons\">\n",
              "\n",
              "  <div class=\"colab-df-container\">\n",
              "    <button class=\"colab-df-convert\" onclick=\"convertToInteractive('df-fba97340-bec4-4535-9303-3fb2e53bf5b6')\"\n",
              "            title=\"Convert this dataframe to an interactive table.\"\n",
              "            style=\"display:none;\">\n",
              "\n",
              "  <svg xmlns=\"http://www.w3.org/2000/svg\" height=\"24px\" viewBox=\"0 -960 960 960\">\n",
              "    <path d=\"M120-120v-720h720v720H120Zm60-500h600v-160H180v160Zm220 220h160v-160H400v160Zm0 220h160v-160H400v160ZM180-400h160v-160H180v160Zm440 0h160v-160H620v160ZM180-180h160v-160H180v160Zm440 0h160v-160H620v160Z\"/>\n",
              "  </svg>\n",
              "    </button>\n",
              "\n",
              "  <style>\n",
              "    .colab-df-container {\n",
              "      display:flex;\n",
              "      gap: 12px;\n",
              "    }\n",
              "\n",
              "    .colab-df-convert {\n",
              "      background-color: #E8F0FE;\n",
              "      border: none;\n",
              "      border-radius: 50%;\n",
              "      cursor: pointer;\n",
              "      display: none;\n",
              "      fill: #1967D2;\n",
              "      height: 32px;\n",
              "      padding: 0 0 0 0;\n",
              "      width: 32px;\n",
              "    }\n",
              "\n",
              "    .colab-df-convert:hover {\n",
              "      background-color: #E2EBFA;\n",
              "      box-shadow: 0px 1px 2px rgba(60, 64, 67, 0.3), 0px 1px 3px 1px rgba(60, 64, 67, 0.15);\n",
              "      fill: #174EA6;\n",
              "    }\n",
              "\n",
              "    .colab-df-buttons div {\n",
              "      margin-bottom: 4px;\n",
              "    }\n",
              "\n",
              "    [theme=dark] .colab-df-convert {\n",
              "      background-color: #3B4455;\n",
              "      fill: #D2E3FC;\n",
              "    }\n",
              "\n",
              "    [theme=dark] .colab-df-convert:hover {\n",
              "      background-color: #434B5C;\n",
              "      box-shadow: 0px 1px 3px 1px rgba(0, 0, 0, 0.15);\n",
              "      filter: drop-shadow(0px 1px 2px rgba(0, 0, 0, 0.3));\n",
              "      fill: #FFFFFF;\n",
              "    }\n",
              "  </style>\n",
              "\n",
              "    <script>\n",
              "      const buttonEl =\n",
              "        document.querySelector('#df-fba97340-bec4-4535-9303-3fb2e53bf5b6 button.colab-df-convert');\n",
              "      buttonEl.style.display =\n",
              "        google.colab.kernel.accessAllowed ? 'block' : 'none';\n",
              "\n",
              "      async function convertToInteractive(key) {\n",
              "        const element = document.querySelector('#df-fba97340-bec4-4535-9303-3fb2e53bf5b6');\n",
              "        const dataTable =\n",
              "          await google.colab.kernel.invokeFunction('convertToInteractive',\n",
              "                                                    [key], {});\n",
              "        if (!dataTable) return;\n",
              "\n",
              "        const docLinkHtml = 'Like what you see? Visit the ' +\n",
              "          '<a target=\"_blank\" href=https://colab.research.google.com/notebooks/data_table.ipynb>data table notebook</a>'\n",
              "          + ' to learn more about interactive tables.';\n",
              "        element.innerHTML = '';\n",
              "        dataTable['output_type'] = 'display_data';\n",
              "        await google.colab.output.renderOutput(dataTable, element);\n",
              "        const docLink = document.createElement('div');\n",
              "        docLink.innerHTML = docLinkHtml;\n",
              "        element.appendChild(docLink);\n",
              "      }\n",
              "    </script>\n",
              "  </div>\n",
              "\n",
              "\n",
              "<div id=\"df-0a4b0060-2aef-4890-a6f9-0e82c05b40df\">\n",
              "  <button class=\"colab-df-quickchart\" onclick=\"quickchart('df-0a4b0060-2aef-4890-a6f9-0e82c05b40df')\"\n",
              "            title=\"Suggest charts\"\n",
              "            style=\"display:none;\">\n",
              "\n",
              "<svg xmlns=\"http://www.w3.org/2000/svg\" height=\"24px\"viewBox=\"0 0 24 24\"\n",
              "     width=\"24px\">\n",
              "    <g>\n",
              "        <path d=\"M19 3H5c-1.1 0-2 .9-2 2v14c0 1.1.9 2 2 2h14c1.1 0 2-.9 2-2V5c0-1.1-.9-2-2-2zM9 17H7v-7h2v7zm4 0h-2V7h2v10zm4 0h-2v-4h2v4z\"/>\n",
              "    </g>\n",
              "</svg>\n",
              "  </button>\n",
              "\n",
              "<style>\n",
              "  .colab-df-quickchart {\n",
              "      --bg-color: #E8F0FE;\n",
              "      --fill-color: #1967D2;\n",
              "      --hover-bg-color: #E2EBFA;\n",
              "      --hover-fill-color: #174EA6;\n",
              "      --disabled-fill-color: #AAA;\n",
              "      --disabled-bg-color: #DDD;\n",
              "  }\n",
              "\n",
              "  [theme=dark] .colab-df-quickchart {\n",
              "      --bg-color: #3B4455;\n",
              "      --fill-color: #D2E3FC;\n",
              "      --hover-bg-color: #434B5C;\n",
              "      --hover-fill-color: #FFFFFF;\n",
              "      --disabled-bg-color: #3B4455;\n",
              "      --disabled-fill-color: #666;\n",
              "  }\n",
              "\n",
              "  .colab-df-quickchart {\n",
              "    background-color: var(--bg-color);\n",
              "    border: none;\n",
              "    border-radius: 50%;\n",
              "    cursor: pointer;\n",
              "    display: none;\n",
              "    fill: var(--fill-color);\n",
              "    height: 32px;\n",
              "    padding: 0;\n",
              "    width: 32px;\n",
              "  }\n",
              "\n",
              "  .colab-df-quickchart:hover {\n",
              "    background-color: var(--hover-bg-color);\n",
              "    box-shadow: 0 1px 2px rgba(60, 64, 67, 0.3), 0 1px 3px 1px rgba(60, 64, 67, 0.15);\n",
              "    fill: var(--button-hover-fill-color);\n",
              "  }\n",
              "\n",
              "  .colab-df-quickchart-complete:disabled,\n",
              "  .colab-df-quickchart-complete:disabled:hover {\n",
              "    background-color: var(--disabled-bg-color);\n",
              "    fill: var(--disabled-fill-color);\n",
              "    box-shadow: none;\n",
              "  }\n",
              "\n",
              "  .colab-df-spinner {\n",
              "    border: 2px solid var(--fill-color);\n",
              "    border-color: transparent;\n",
              "    border-bottom-color: var(--fill-color);\n",
              "    animation:\n",
              "      spin 1s steps(1) infinite;\n",
              "  }\n",
              "\n",
              "  @keyframes spin {\n",
              "    0% {\n",
              "      border-color: transparent;\n",
              "      border-bottom-color: var(--fill-color);\n",
              "      border-left-color: var(--fill-color);\n",
              "    }\n",
              "    20% {\n",
              "      border-color: transparent;\n",
              "      border-left-color: var(--fill-color);\n",
              "      border-top-color: var(--fill-color);\n",
              "    }\n",
              "    30% {\n",
              "      border-color: transparent;\n",
              "      border-left-color: var(--fill-color);\n",
              "      border-top-color: var(--fill-color);\n",
              "      border-right-color: var(--fill-color);\n",
              "    }\n",
              "    40% {\n",
              "      border-color: transparent;\n",
              "      border-right-color: var(--fill-color);\n",
              "      border-top-color: var(--fill-color);\n",
              "    }\n",
              "    60% {\n",
              "      border-color: transparent;\n",
              "      border-right-color: var(--fill-color);\n",
              "    }\n",
              "    80% {\n",
              "      border-color: transparent;\n",
              "      border-right-color: var(--fill-color);\n",
              "      border-bottom-color: var(--fill-color);\n",
              "    }\n",
              "    90% {\n",
              "      border-color: transparent;\n",
              "      border-bottom-color: var(--fill-color);\n",
              "    }\n",
              "  }\n",
              "</style>\n",
              "\n",
              "  <script>\n",
              "    async function quickchart(key) {\n",
              "      const quickchartButtonEl =\n",
              "        document.querySelector('#' + key + ' button');\n",
              "      quickchartButtonEl.disabled = true;  // To prevent multiple clicks.\n",
              "      quickchartButtonEl.classList.add('colab-df-spinner');\n",
              "      try {\n",
              "        const charts = await google.colab.kernel.invokeFunction(\n",
              "            'suggestCharts', [key], {});\n",
              "      } catch (error) {\n",
              "        console.error('Error during call to suggestCharts:', error);\n",
              "      }\n",
              "      quickchartButtonEl.classList.remove('colab-df-spinner');\n",
              "      quickchartButtonEl.classList.add('colab-df-quickchart-complete');\n",
              "    }\n",
              "    (() => {\n",
              "      let quickchartButtonEl =\n",
              "        document.querySelector('#df-0a4b0060-2aef-4890-a6f9-0e82c05b40df button');\n",
              "      quickchartButtonEl.style.display =\n",
              "        google.colab.kernel.accessAllowed ? 'block' : 'none';\n",
              "    })();\n",
              "  </script>\n",
              "</div>\n",
              "    </div>\n",
              "  </div>\n"
            ],
            "application/vnd.google.colaboratory.intrinsic+json": {
              "type": "dataframe",
              "variable_name": "df",
              "summary": "{\n  \"name\": \"df\",\n  \"rows\": 12331,\n  \"fields\": [\n    {\n      \"column\": \"\\uae30\\uc5c5\\uba85\",\n      \"properties\": {\n        \"dtype\": \"category\",\n        \"num_unique_values\": 924,\n        \"samples\": [\n          \"\\uc5e0\\ud3ec\\uc2a4\",\n          \"\\uc2dc\\ud050\\uc640\\uc6b0\",\n          \"\\uc57c\\ub180\\uc790Tech(R&D)\"\n        ],\n        \"semantic_type\": \"\",\n        \"description\": \"\"\n      }\n    },\n    {\n      \"column\": \"\\ucc44\\uc6a9\\uc81c\\ubaa9\",\n      \"properties\": {\n        \"dtype\": \"category\",\n        \"num_unique_values\": 2109,\n        \"samples\": [\n          \"ESTsecurity \\ubcf4\\uc548 SI \\uc0ac\\uc5c5 PM/PL\",\n          \"\\ubcf4\\uc548/Infra\",\n          \"\\ubcf4\\uc548\\uc804\\ub7b5(Manager) \\ub2f4\\ub2f9\\uc790\"\n        ],\n        \"semantic_type\": \"\",\n        \"description\": \"\"\n      }\n    },\n    {\n      \"column\": \"\\uc8fc\\uc694\\uc5c5\\ubb34\",\n      \"properties\": {\n        \"dtype\": \"string\",\n        \"num_unique_values\": 10189,\n        \"samples\": [\n          \"\\ub124\\ud2b8\\uc6cc\\ud06c \\ubcf4\\uc548 \\uc194\\ub8e8\\uc158(FW, IDS/IPS, WAF, WIPS \\ub4f1)\\uc744 \\uc6b4\\uc601 \\ubc0f \\uad00\\ub9ac\\ud569\\ub2c8\\ub2e4\",\n          \"\\ubca4\\uce58\\ub9c8\\ud0b9 \\ubc0f \\uac1c\\uc120 \\uc120 \\uc81c\\uc548\",\n          \"\\uc0ac\\uc5c5 \\uc8fc\\uc694 \\uc9c0\\ud45c \\uc5c5\\ub370\\uc774\\ud2b8 \\ubc0f \\uad00\\ub9ac\"\n        ],\n        \"semantic_type\": \"\",\n        \"description\": \"\"\n      }\n    },\n    {\n      \"column\": \"\\uc9c0\\uc6d0\\uc790\\uaca9\",\n      \"properties\": {\n        \"dtype\": \"category\",\n        \"num_unique_values\": 2445,\n        \"samples\": [\n          \"\\u2022 1\\ub144 \\uc774\\uc0c1\\uc758 \\uc720\\uad00 \\uacbd\\ub825(Software Engineer \\ud3ec\\ud568)\\uc744 \\ubcf4\\uc720\\ud558\\uc2e0 \\ubd84\\u2022 1\\ub144 \\uc774\\uc0c1\\uc758 AWS \\ub4f1\\uc758 Public Cloud \\uc0ac\\uc6a9 \\uacbd\\ud5d8\\uc774 \\uc788\\uac70\\ub098 AWS \\uc790\\uaca9\\uc99d\\uc744 \\ubcf4\\uc720\\ud558\\uc2e0 \\ubd84\\u2022 \\ucef4\\ud4e8\\ud130\\uacf5\\ud559 \\uad00\\ub828 \\uc804\\uacf5\\uc790\\ub098 Python, Javascript, Go \\ub4f1\\uc758 \\ud504\\ub85c\\uadf8\\ub798\\ubc0d \\uc5b8\\uc5b4\\ub85c \\uc18c\\ud504\\ud2b8\\uc6e8\\uc5b4\\ub97c \\uac1c\\ubc1c\\ud574\\ubcf4\\uc2e0 \\ubd84*\\ud544\\uc218\",\n          \"\\u2022 5\\ub144 \\uc774\\uc0c1\\uc758 \\uc815\\ubcf4\\ubcf4\\ud638 \\uc2e4\\ubb34 \\uacbd\\ud5d8\\uc774 \\uc788\\ub294 \\ubd84\\u2022 \\ud074\\ub77c\\uc6b0\\ub4dc \\ud658\\uacbd\\uc5d0\\uc11c \\uc815\\ubcf4\\ubcf4\\ud638 \\uc2e4\\ubb34 \\uacbd\\ud5d8 \\ucd5c\\uc18c 2\\ub144 \\uc774\\uc0c1\\uc778 \\ubd84\\u2022 \\uae08\\uc735, \\ud540\\ud14c\\ud06c \\ub610\\ub294 \\uac1c\\uc778\\uc815\\ubcf4\\ub97c \\uc9c1\\uc811 \\ub2e4\\ub8e8\\ub294 \\uc0b0\\uc5c5\\uc5d0\\uc11c \\ub124\\ud2b8\\uc6cc\\ud06c \\ubc0f \\uc778\\ud504\\ub77c\\ub97c \\uad6c\\ucd95, \\uc6b4\\uc601 \\ubc0f \\uad00\\ub9ac\\ud574\\ubcf8 \\uacbd\\ud5d8\\uc774 \\uc788\\ub294 \\ubd84\\u2022 \\uac1c\\uc778\\uc815\\ubcf4\\ubcf4\\ud638\\ubc95, \\uc815\\ubcf4\\ud1b5\\uc2e0\\ub9dd\\ubc95\\uc5d0 \\ub300\\ud55c \\uc774\\ud574\\ub3c4\\ub97c \\ubc14\\ud0d5\\uc73c\\ub85c \\ubcf4\\uc548 \\uc815\\ucc45 \\uc218\\ub9bd/\\uc774\\ud589 \\uacbd\\ud5d8\\uc774 \\uc788\\ub294 \\ubd84\\u2022 \\uc11c\\ube44\\uc2a4 \\uc9c0\\ud5a5 \\uc0ac\\uace0\\uc640 \\uc720\\uc5f0\\ud55c \\ucee4\\ubba4\\ub2c8\\ucf00\\uc774\\uc158 \\uc5ed\\ub7c9\\uc744 \\ubcf4\\uc720\\ud558\\uc2e0 \\ubd84\\u2022 \\uae0d\\uc815\\uc801\\uc774\\uace0 \\uc801\\uadf9\\uc801\\uc778 \\uc790\\uc138\\ub85c \\ucc45\\uc784\\uac10 \\uc788\\uac8c \\uc5c5\\ubb34\\uc5d0 \\uc784\\ud558\\uc2e4 \\uc218 \\uc788\\ub294 \\ubd84\",\n          \"\\u318d\\uacbd\\ub825 : 2\\ub144 \\uc774\\uc0c1\"\n        ],\n        \"semantic_type\": \"\",\n        \"description\": \"\"\n      }\n    },\n    {\n      \"column\": \"\\uc6b0\\ub300\\uc0ac\\ud56d\",\n      \"properties\": {\n        \"dtype\": \"category\",\n        \"num_unique_values\": 2386,\n        \"samples\": [\n          \"\\u2022 \\ud074\\ub77c\\uc6b0\\ub4dc \\uae30\\ubc18 MSA \\ud504\\ub85c\\uc81d\\ud2b8 \\uac1c\\ubc1c \\uacbd\\ud5d8\\uc790\\u2022 DevOps/SRE \\uae30\\ubc18 \\uc624\\ud508\\uc18c\\uc2a4/\\uc194\\ub8e8\\uc158 \\uad00\\ub9ac \\uacbd\\ud5d8\",\n          \"\\u318d\\uc815\\ubcf4\\ubcf4\\ud638\\uad00\\ub9ac\\uccb4\\uacc4(ISMS)\\uc5d0 \\ub300\\ud55c \\uc774\\ud574\\u318d\\uc18c\\ud504\\ud2b8\\uc6e8\\uc5b4 \\uac1c\\ubc1c\\ubcf4\\uc548\\uc5d0 \\ub300\\ud55c \\uc774\\ud574\\u318d\\ube14\\ub85d\\uccb4\\uc778 \\ubc0f \\uac8c\\uc784 \\uc11c\\ube44\\uc2a4\\uc5d0 \\ub300\\ud55c \\uc774\\ud574\\u318d\\uac1c\\ubc1c \\uc5b8\\uc5b4\\uc5d0 \\ub300\\ud55c \\uc774\\ud574(GoLang, Javascript, Unity \\ub4f1)\",\n          \"\\u2022 \\uac1c\\uc778\\uc815\\ubcf4 \\uc815\\ucc45 \\uc218\\ub9bd \\uacbd\\ud5d8\\uc774 \\uc788\\uc73c\\uc2e0 \\ubd84\\u2022 \\uac1c\\uc778\\uc815\\ubcf4 \\ubcf4\\ud638 \\uad00\\ub828 \\uae30\\uc220\\uc801 \\uc870\\uce58\\uc5d0 \\ub300\\ud55c \\ucda9\\ubd84\\ud55c \\uc774\\ud574\\uac00 \\uc788\\uc73c\\uc2e0 \\ubd84\\u2022 \\uac1c\\uc778\\uc815\\ubcf4\\ubcf4\\ud638 \\ubc0f \\uc815\\ubcf4\\ubcf4\\ud638 \\uad00\\ub828 \\uc778\\uc99d(ISMS, ISMS-P, ISO27001, BS10012) \\ucde8\\ub4dd \\uacbd\\ud5d8\\uc774 \\uc788\\uc73c\\uc2e0 \\ubd84\\u2022 \\uac1c\\uc778\\uc815\\ubcf4 \\uc5c5\\ubb34\\uacbd\\ud5d8 7\\ub144 \\uc774\\uc0c1\\uc774\\uc2e0 \\ubd84 \\u2022 \\uac1c\\uc778\\uc815\\ubcf4\\ucd5c\\uace0\\ucc45\\uc784\\uc790(CPO) \\ub610\\ub294 CISO, CIO \\uacbd\\ud5d8\\uc790\\u2022 (\\uac1c\\uc778)\\uc815\\ubcf4\\ubcf4\\ud638 \\uad00\\ub828 \\uc790\\uaca9\\uc99d(ISMS-P\\uc2ec\\uc0ac\\uc6d0, CPPG, \\uc815\\ubcf4\\ubcf4\\uc548\\uae30\\uc0ac, CISSP \\ub4f1)\\uc18c\\uc9c0\\uc790\"\n        ],\n        \"semantic_type\": \"\",\n        \"description\": \"\"\n      }\n    },\n    {\n      \"column\": \"\\uc5c5\\ubb34\\uae38\\uc774\",\n      \"properties\": {\n        \"dtype\": \"number\",\n        \"std\": 10,\n        \"min\": 5,\n        \"max\": 50,\n        \"num_unique_values\": 46,\n        \"samples\": [\n          5,\n          20,\n          37\n        ],\n        \"semantic_type\": \"\",\n        \"description\": \"\"\n      }\n    },\n    {\n      \"column\": \"\\uc8fc\\uc694\\uc5c5\\ubb34_C\",\n      \"properties\": {\n        \"dtype\": \"string\",\n        \"num_unique_values\": 10007,\n        \"samples\": [\n          \"\\ubcd1\\ub825 \\uc0ac\\ud56d   \\ubcd1\\uc5ed \\uad6c\\ubd84 , \\uc804\\uc5ed \\uc5ec\\ubd80 \\ub4f1\",\n          \"\\uacbd\\uc601 \\uacc4\\ud68d \\uc218\\ub9bd \\ubc0f \\uc2e4\\uc801 \\ubd84\\uc11d\",\n          \"\\ub124\\ud2b8\\uc6cc\\ud06c \\ubcf4\\uc548 \\uc194\\ub8e8\\uc158 \\uc6b4\\uc601   F   W , NAC , WIPS , Web Proxy  \"\n        ],\n        \"semantic_type\": \"\",\n        \"description\": \"\"\n      }\n    }\n  ]\n}"
            }
          },
          "metadata": {},
          "execution_count": 31
        }
      ]
    },
    {
      "cell_type": "code",
      "source": [
        "df['주요업무_C']=df['주요업무_C'].astype('str')"
      ],
      "metadata": {
        "id": "3UKgry4S4ceB"
      },
      "id": "3UKgry4S4ceB",
      "execution_count": 32,
      "outputs": []
    },
    {
      "cell_type": "code",
      "source": [],
      "metadata": {
        "id": "sX77uomgnoBy"
      },
      "id": "sX77uomgnoBy",
      "execution_count": null,
      "outputs": []
    },
    {
      "cell_type": "code",
      "source": [
        "# 불용어 제거\n",
        "def remove_stopwords(text):\n",
        "  tokens=text.split(' ')\n",
        "  stops=set(['은', '는', '이', '가', '아', '하', '들', '것', '의', '있', '되', '수', '보', '주', '등', '한', '에','합니다', '하는', '할', '하는', '한다', '그리고', '입니다', '그', '등', '이런', '것', '제', '더', '및'])\n",
        "  meaningful_words=[w for w in tokens if not w in stops]\n",
        "  return ' '.join(meaningful_words)\n",
        "df['주요업무_C']=df['주요업무_C'].map(remove_stopwords)"
      ],
      "metadata": {
        "id": "RMEdRuZn0I7D"
      },
      "id": "RMEdRuZn0I7D",
      "execution_count": 33,
      "outputs": []
    },
    {
      "cell_type": "code",
      "source": [
        "df.head(10)"
      ],
      "metadata": {
        "colab": {
          "base_uri": "https://localhost:8080/",
          "height": 970
        },
        "id": "0ZySW-8C0I_x",
        "outputId": "d5f64773-2571-4f21-f05c-7b4567219d63"
      },
      "id": "0ZySW-8C0I_x",
      "execution_count": 34,
      "outputs": [
        {
          "output_type": "execute_result",
          "data": {
            "text/plain": [
              "             기업명              채용제목  \\\n",
              "0       마이뮤직테이스트  Backend Engineer   \n",
              "1       마이뮤직테이스트  Backend Engineer   \n",
              "2       마이뮤직테이스트  Backend Engineer   \n",
              "3       마이뮤직테이스트  Backend Engineer   \n",
              "4       마이뮤직테이스트  Backend Engineer   \n",
              "5       마이뮤직테이스트  Backend Engineer   \n",
              "6       마이뮤직테이스트  Backend Engineer   \n",
              "7       마이뮤직테이스트  Backend Engineer   \n",
              "8  미미박스(MEMEBOX)   DevOps Engineer   \n",
              "9  미미박스(MEMEBOX)   DevOps Engineer   \n",
              "\n",
              "                                                주요업무  \\\n",
              "0                          성능향상과 Scalability를 위한 최적화   \n",
              "1                                         보안과 데이터 보호   \n",
              "2      우리는 콘서트 시장의 패러다임을 획기적으로 바꿀 수 있는 서비스를 만들고 있습니다   \n",
              "3          이에 따라 열정적이고 창의적으로, 즐겁게 함께 일할 사람들을 찾고 있습니다   \n",
              "4                                      우리는 완전하지 않습니다   \n",
              "5                                   많은 문제가 있음을 인정합니다   \n",
              "6    우리는 개선하기 위해 끊임없이 노력 중이며 아직 해결해야할 문제들이 많이 남아있습니다   \n",
              "7  그래서 아주 특별한 개발팀에서 일할 똑똑하고, 자발적으로 동기가 부여된 개발자를 찾습니다   \n",
              "8                                AWS상 인프라 운영 유지 및 관리   \n",
              "9                              배포 및 CI/CD 개발 운영 및 유지   \n",
              "\n",
              "                                                지원자격  \\\n",
              "0  - 3년이상의 Python 외의 언어로 웹서버 개발 혹은 Python으로 웹서버 개...   \n",
              "1  - 3년이상의 Python 외의 언어로 웹서버 개발 혹은 Python으로 웹서버 개...   \n",
              "2  - 3년이상의 Python 외의 언어로 웹서버 개발 혹은 Python으로 웹서버 개...   \n",
              "3  - 3년이상의 Python 외의 언어로 웹서버 개발 혹은 Python으로 웹서버 개...   \n",
              "4  - 3년이상의 Python 외의 언어로 웹서버 개발 혹은 Python으로 웹서버 개...   \n",
              "5  - 3년이상의 Python 외의 언어로 웹서버 개발 혹은 Python으로 웹서버 개...   \n",
              "6  - 3년이상의 Python 외의 언어로 웹서버 개발 혹은 Python으로 웹서버 개...   \n",
              "7  - 3년이상의 Python 외의 언어로 웹서버 개발 혹은 Python으로 웹서버 개...   \n",
              "8  ᆞ AWS 기반의 Container 환경 구축 및 CI/CD 등 자동화 관련 기솔에...   \n",
              "9  ᆞ AWS 기반의 Container 환경 구축 및 CI/CD 등 자동화 관련 기솔에...   \n",
              "\n",
              "                                                우대사항  업무길이  \\\n",
              "0  - 새로운 기술에 대한 적극적인 관심- 기존 솔루션을 유지/보수하면서 적극적으로 문...    25   \n",
              "1  - 새로운 기술에 대한 적극적인 관심- 기존 솔루션을 유지/보수하면서 적극적으로 문...    10   \n",
              "2  - 새로운 기술에 대한 적극적인 관심- 기존 솔루션을 유지/보수하면서 적극적으로 문...    45   \n",
              "3  - 새로운 기술에 대한 적극적인 관심- 기존 솔루션을 유지/보수하면서 적극적으로 문...    41   \n",
              "4  - 새로운 기술에 대한 적극적인 관심- 기존 솔루션을 유지/보수하면서 적극적으로 문...    13   \n",
              "5  - 새로운 기술에 대한 적극적인 관심- 기존 솔루션을 유지/보수하면서 적극적으로 문...    16   \n",
              "6  - 새로운 기술에 대한 적극적인 관심- 기존 솔루션을 유지/보수하면서 적극적으로 문...    47   \n",
              "7  - 새로운 기술에 대한 적극적인 관심- 기존 솔루션을 유지/보수하면서 적극적으로 문...    49   \n",
              "8  ᆞ AWS Certificate 보유ᆞ IT 프로젝트 아키텍트 경험ᆞ JAVA/PH...    19   \n",
              "9  ᆞ AWS Certificate 보유ᆞ IT 프로젝트 아키텍트 경험ᆞ JAVA/PH...    21   \n",
              "\n",
              "                                              주요업무_C  \n",
              "0                          성능 향상 Scalability 를 위 최적화  \n",
              "1                                          보안 데이터 보호  \n",
              "2              우리 콘서트 시장 패러다임 획기 적 바꾸다 있다 서비스 만들다 있다  \n",
              "3               따르다 열정 적 창의 적 , 즐겁다 함께 일 하다 사람 찾다 있다  \n",
              "4                                         우리 완전하다 않다  \n",
              "5                                   많다 문제 있다 음 인정 하다  \n",
              "6        우리 개선 하다 위해 끊임없다 노력 중이 아직 해결 하다 하다 문제 많이 남다  \n",
              "7  그래서 아주 특별하다 개발 팀 일 하다 똑똑하다 , 자발 적 동기 부여 되다 개발자 찾다  \n",
              "8                                 AWS 상 인프라 운영 유지 관리  \n",
              "9                                배포 CI   CD 개발 운영 유지  "
            ],
            "text/html": [
              "\n",
              "  <div id=\"df-7079fc17-4055-47c3-8b64-cb12dca93602\" class=\"colab-df-container\">\n",
              "    <div>\n",
              "<style scoped>\n",
              "    .dataframe tbody tr th:only-of-type {\n",
              "        vertical-align: middle;\n",
              "    }\n",
              "\n",
              "    .dataframe tbody tr th {\n",
              "        vertical-align: top;\n",
              "    }\n",
              "\n",
              "    .dataframe thead th {\n",
              "        text-align: right;\n",
              "    }\n",
              "</style>\n",
              "<table border=\"1\" class=\"dataframe\">\n",
              "  <thead>\n",
              "    <tr style=\"text-align: right;\">\n",
              "      <th></th>\n",
              "      <th>기업명</th>\n",
              "      <th>채용제목</th>\n",
              "      <th>주요업무</th>\n",
              "      <th>지원자격</th>\n",
              "      <th>우대사항</th>\n",
              "      <th>업무길이</th>\n",
              "      <th>주요업무_C</th>\n",
              "    </tr>\n",
              "  </thead>\n",
              "  <tbody>\n",
              "    <tr>\n",
              "      <th>0</th>\n",
              "      <td>마이뮤직테이스트</td>\n",
              "      <td>Backend Engineer</td>\n",
              "      <td>성능향상과 Scalability를 위한 최적화</td>\n",
              "      <td>- 3년이상의 Python 외의 언어로 웹서버 개발 혹은 Python으로 웹서버 개...</td>\n",
              "      <td>- 새로운 기술에 대한 적극적인 관심- 기존 솔루션을 유지/보수하면서 적극적으로 문...</td>\n",
              "      <td>25</td>\n",
              "      <td>성능 향상 Scalability 를 위 최적화</td>\n",
              "    </tr>\n",
              "    <tr>\n",
              "      <th>1</th>\n",
              "      <td>마이뮤직테이스트</td>\n",
              "      <td>Backend Engineer</td>\n",
              "      <td>보안과 데이터 보호</td>\n",
              "      <td>- 3년이상의 Python 외의 언어로 웹서버 개발 혹은 Python으로 웹서버 개...</td>\n",
              "      <td>- 새로운 기술에 대한 적극적인 관심- 기존 솔루션을 유지/보수하면서 적극적으로 문...</td>\n",
              "      <td>10</td>\n",
              "      <td>보안 데이터 보호</td>\n",
              "    </tr>\n",
              "    <tr>\n",
              "      <th>2</th>\n",
              "      <td>마이뮤직테이스트</td>\n",
              "      <td>Backend Engineer</td>\n",
              "      <td>우리는 콘서트 시장의 패러다임을 획기적으로 바꿀 수 있는 서비스를 만들고 있습니다</td>\n",
              "      <td>- 3년이상의 Python 외의 언어로 웹서버 개발 혹은 Python으로 웹서버 개...</td>\n",
              "      <td>- 새로운 기술에 대한 적극적인 관심- 기존 솔루션을 유지/보수하면서 적극적으로 문...</td>\n",
              "      <td>45</td>\n",
              "      <td>우리 콘서트 시장 패러다임 획기 적 바꾸다 있다 서비스 만들다 있다</td>\n",
              "    </tr>\n",
              "    <tr>\n",
              "      <th>3</th>\n",
              "      <td>마이뮤직테이스트</td>\n",
              "      <td>Backend Engineer</td>\n",
              "      <td>이에 따라 열정적이고 창의적으로, 즐겁게 함께 일할 사람들을 찾고 있습니다</td>\n",
              "      <td>- 3년이상의 Python 외의 언어로 웹서버 개발 혹은 Python으로 웹서버 개...</td>\n",
              "      <td>- 새로운 기술에 대한 적극적인 관심- 기존 솔루션을 유지/보수하면서 적극적으로 문...</td>\n",
              "      <td>41</td>\n",
              "      <td>따르다 열정 적 창의 적 , 즐겁다 함께 일 하다 사람 찾다 있다</td>\n",
              "    </tr>\n",
              "    <tr>\n",
              "      <th>4</th>\n",
              "      <td>마이뮤직테이스트</td>\n",
              "      <td>Backend Engineer</td>\n",
              "      <td>우리는 완전하지 않습니다</td>\n",
              "      <td>- 3년이상의 Python 외의 언어로 웹서버 개발 혹은 Python으로 웹서버 개...</td>\n",
              "      <td>- 새로운 기술에 대한 적극적인 관심- 기존 솔루션을 유지/보수하면서 적극적으로 문...</td>\n",
              "      <td>13</td>\n",
              "      <td>우리 완전하다 않다</td>\n",
              "    </tr>\n",
              "    <tr>\n",
              "      <th>5</th>\n",
              "      <td>마이뮤직테이스트</td>\n",
              "      <td>Backend Engineer</td>\n",
              "      <td>많은 문제가 있음을 인정합니다</td>\n",
              "      <td>- 3년이상의 Python 외의 언어로 웹서버 개발 혹은 Python으로 웹서버 개...</td>\n",
              "      <td>- 새로운 기술에 대한 적극적인 관심- 기존 솔루션을 유지/보수하면서 적극적으로 문...</td>\n",
              "      <td>16</td>\n",
              "      <td>많다 문제 있다 음 인정 하다</td>\n",
              "    </tr>\n",
              "    <tr>\n",
              "      <th>6</th>\n",
              "      <td>마이뮤직테이스트</td>\n",
              "      <td>Backend Engineer</td>\n",
              "      <td>우리는 개선하기 위해 끊임없이 노력 중이며 아직 해결해야할 문제들이 많이 남아있습니다</td>\n",
              "      <td>- 3년이상의 Python 외의 언어로 웹서버 개발 혹은 Python으로 웹서버 개...</td>\n",
              "      <td>- 새로운 기술에 대한 적극적인 관심- 기존 솔루션을 유지/보수하면서 적극적으로 문...</td>\n",
              "      <td>47</td>\n",
              "      <td>우리 개선 하다 위해 끊임없다 노력 중이 아직 해결 하다 하다 문제 많이 남다</td>\n",
              "    </tr>\n",
              "    <tr>\n",
              "      <th>7</th>\n",
              "      <td>마이뮤직테이스트</td>\n",
              "      <td>Backend Engineer</td>\n",
              "      <td>그래서 아주 특별한 개발팀에서 일할 똑똑하고, 자발적으로 동기가 부여된 개발자를 찾습니다</td>\n",
              "      <td>- 3년이상의 Python 외의 언어로 웹서버 개발 혹은 Python으로 웹서버 개...</td>\n",
              "      <td>- 새로운 기술에 대한 적극적인 관심- 기존 솔루션을 유지/보수하면서 적극적으로 문...</td>\n",
              "      <td>49</td>\n",
              "      <td>그래서 아주 특별하다 개발 팀 일 하다 똑똑하다 , 자발 적 동기 부여 되다 개발자 찾다</td>\n",
              "    </tr>\n",
              "    <tr>\n",
              "      <th>8</th>\n",
              "      <td>미미박스(MEMEBOX)</td>\n",
              "      <td>DevOps Engineer</td>\n",
              "      <td>AWS상 인프라 운영 유지 및 관리</td>\n",
              "      <td>ᆞ AWS 기반의 Container 환경 구축 및 CI/CD 등 자동화 관련 기솔에...</td>\n",
              "      <td>ᆞ AWS Certificate 보유ᆞ IT 프로젝트 아키텍트 경험ᆞ JAVA/PH...</td>\n",
              "      <td>19</td>\n",
              "      <td>AWS 상 인프라 운영 유지 관리</td>\n",
              "    </tr>\n",
              "    <tr>\n",
              "      <th>9</th>\n",
              "      <td>미미박스(MEMEBOX)</td>\n",
              "      <td>DevOps Engineer</td>\n",
              "      <td>배포 및 CI/CD 개발 운영 및 유지</td>\n",
              "      <td>ᆞ AWS 기반의 Container 환경 구축 및 CI/CD 등 자동화 관련 기솔에...</td>\n",
              "      <td>ᆞ AWS Certificate 보유ᆞ IT 프로젝트 아키텍트 경험ᆞ JAVA/PH...</td>\n",
              "      <td>21</td>\n",
              "      <td>배포 CI   CD 개발 운영 유지</td>\n",
              "    </tr>\n",
              "  </tbody>\n",
              "</table>\n",
              "</div>\n",
              "    <div class=\"colab-df-buttons\">\n",
              "\n",
              "  <div class=\"colab-df-container\">\n",
              "    <button class=\"colab-df-convert\" onclick=\"convertToInteractive('df-7079fc17-4055-47c3-8b64-cb12dca93602')\"\n",
              "            title=\"Convert this dataframe to an interactive table.\"\n",
              "            style=\"display:none;\">\n",
              "\n",
              "  <svg xmlns=\"http://www.w3.org/2000/svg\" height=\"24px\" viewBox=\"0 -960 960 960\">\n",
              "    <path d=\"M120-120v-720h720v720H120Zm60-500h600v-160H180v160Zm220 220h160v-160H400v160Zm0 220h160v-160H400v160ZM180-400h160v-160H180v160Zm440 0h160v-160H620v160ZM180-180h160v-160H180v160Zm440 0h160v-160H620v160Z\"/>\n",
              "  </svg>\n",
              "    </button>\n",
              "\n",
              "  <style>\n",
              "    .colab-df-container {\n",
              "      display:flex;\n",
              "      gap: 12px;\n",
              "    }\n",
              "\n",
              "    .colab-df-convert {\n",
              "      background-color: #E8F0FE;\n",
              "      border: none;\n",
              "      border-radius: 50%;\n",
              "      cursor: pointer;\n",
              "      display: none;\n",
              "      fill: #1967D2;\n",
              "      height: 32px;\n",
              "      padding: 0 0 0 0;\n",
              "      width: 32px;\n",
              "    }\n",
              "\n",
              "    .colab-df-convert:hover {\n",
              "      background-color: #E2EBFA;\n",
              "      box-shadow: 0px 1px 2px rgba(60, 64, 67, 0.3), 0px 1px 3px 1px rgba(60, 64, 67, 0.15);\n",
              "      fill: #174EA6;\n",
              "    }\n",
              "\n",
              "    .colab-df-buttons div {\n",
              "      margin-bottom: 4px;\n",
              "    }\n",
              "\n",
              "    [theme=dark] .colab-df-convert {\n",
              "      background-color: #3B4455;\n",
              "      fill: #D2E3FC;\n",
              "    }\n",
              "\n",
              "    [theme=dark] .colab-df-convert:hover {\n",
              "      background-color: #434B5C;\n",
              "      box-shadow: 0px 1px 3px 1px rgba(0, 0, 0, 0.15);\n",
              "      filter: drop-shadow(0px 1px 2px rgba(0, 0, 0, 0.3));\n",
              "      fill: #FFFFFF;\n",
              "    }\n",
              "  </style>\n",
              "\n",
              "    <script>\n",
              "      const buttonEl =\n",
              "        document.querySelector('#df-7079fc17-4055-47c3-8b64-cb12dca93602 button.colab-df-convert');\n",
              "      buttonEl.style.display =\n",
              "        google.colab.kernel.accessAllowed ? 'block' : 'none';\n",
              "\n",
              "      async function convertToInteractive(key) {\n",
              "        const element = document.querySelector('#df-7079fc17-4055-47c3-8b64-cb12dca93602');\n",
              "        const dataTable =\n",
              "          await google.colab.kernel.invokeFunction('convertToInteractive',\n",
              "                                                    [key], {});\n",
              "        if (!dataTable) return;\n",
              "\n",
              "        const docLinkHtml = 'Like what you see? Visit the ' +\n",
              "          '<a target=\"_blank\" href=https://colab.research.google.com/notebooks/data_table.ipynb>data table notebook</a>'\n",
              "          + ' to learn more about interactive tables.';\n",
              "        element.innerHTML = '';\n",
              "        dataTable['output_type'] = 'display_data';\n",
              "        await google.colab.output.renderOutput(dataTable, element);\n",
              "        const docLink = document.createElement('div');\n",
              "        docLink.innerHTML = docLinkHtml;\n",
              "        element.appendChild(docLink);\n",
              "      }\n",
              "    </script>\n",
              "  </div>\n",
              "\n",
              "\n",
              "<div id=\"df-0ab43c11-9e53-4575-84dc-0c69809631c6\">\n",
              "  <button class=\"colab-df-quickchart\" onclick=\"quickchart('df-0ab43c11-9e53-4575-84dc-0c69809631c6')\"\n",
              "            title=\"Suggest charts\"\n",
              "            style=\"display:none;\">\n",
              "\n",
              "<svg xmlns=\"http://www.w3.org/2000/svg\" height=\"24px\"viewBox=\"0 0 24 24\"\n",
              "     width=\"24px\">\n",
              "    <g>\n",
              "        <path d=\"M19 3H5c-1.1 0-2 .9-2 2v14c0 1.1.9 2 2 2h14c1.1 0 2-.9 2-2V5c0-1.1-.9-2-2-2zM9 17H7v-7h2v7zm4 0h-2V7h2v10zm4 0h-2v-4h2v4z\"/>\n",
              "    </g>\n",
              "</svg>\n",
              "  </button>\n",
              "\n",
              "<style>\n",
              "  .colab-df-quickchart {\n",
              "      --bg-color: #E8F0FE;\n",
              "      --fill-color: #1967D2;\n",
              "      --hover-bg-color: #E2EBFA;\n",
              "      --hover-fill-color: #174EA6;\n",
              "      --disabled-fill-color: #AAA;\n",
              "      --disabled-bg-color: #DDD;\n",
              "  }\n",
              "\n",
              "  [theme=dark] .colab-df-quickchart {\n",
              "      --bg-color: #3B4455;\n",
              "      --fill-color: #D2E3FC;\n",
              "      --hover-bg-color: #434B5C;\n",
              "      --hover-fill-color: #FFFFFF;\n",
              "      --disabled-bg-color: #3B4455;\n",
              "      --disabled-fill-color: #666;\n",
              "  }\n",
              "\n",
              "  .colab-df-quickchart {\n",
              "    background-color: var(--bg-color);\n",
              "    border: none;\n",
              "    border-radius: 50%;\n",
              "    cursor: pointer;\n",
              "    display: none;\n",
              "    fill: var(--fill-color);\n",
              "    height: 32px;\n",
              "    padding: 0;\n",
              "    width: 32px;\n",
              "  }\n",
              "\n",
              "  .colab-df-quickchart:hover {\n",
              "    background-color: var(--hover-bg-color);\n",
              "    box-shadow: 0 1px 2px rgba(60, 64, 67, 0.3), 0 1px 3px 1px rgba(60, 64, 67, 0.15);\n",
              "    fill: var(--button-hover-fill-color);\n",
              "  }\n",
              "\n",
              "  .colab-df-quickchart-complete:disabled,\n",
              "  .colab-df-quickchart-complete:disabled:hover {\n",
              "    background-color: var(--disabled-bg-color);\n",
              "    fill: var(--disabled-fill-color);\n",
              "    box-shadow: none;\n",
              "  }\n",
              "\n",
              "  .colab-df-spinner {\n",
              "    border: 2px solid var(--fill-color);\n",
              "    border-color: transparent;\n",
              "    border-bottom-color: var(--fill-color);\n",
              "    animation:\n",
              "      spin 1s steps(1) infinite;\n",
              "  }\n",
              "\n",
              "  @keyframes spin {\n",
              "    0% {\n",
              "      border-color: transparent;\n",
              "      border-bottom-color: var(--fill-color);\n",
              "      border-left-color: var(--fill-color);\n",
              "    }\n",
              "    20% {\n",
              "      border-color: transparent;\n",
              "      border-left-color: var(--fill-color);\n",
              "      border-top-color: var(--fill-color);\n",
              "    }\n",
              "    30% {\n",
              "      border-color: transparent;\n",
              "      border-left-color: var(--fill-color);\n",
              "      border-top-color: var(--fill-color);\n",
              "      border-right-color: var(--fill-color);\n",
              "    }\n",
              "    40% {\n",
              "      border-color: transparent;\n",
              "      border-right-color: var(--fill-color);\n",
              "      border-top-color: var(--fill-color);\n",
              "    }\n",
              "    60% {\n",
              "      border-color: transparent;\n",
              "      border-right-color: var(--fill-color);\n",
              "    }\n",
              "    80% {\n",
              "      border-color: transparent;\n",
              "      border-right-color: var(--fill-color);\n",
              "      border-bottom-color: var(--fill-color);\n",
              "    }\n",
              "    90% {\n",
              "      border-color: transparent;\n",
              "      border-bottom-color: var(--fill-color);\n",
              "    }\n",
              "  }\n",
              "</style>\n",
              "\n",
              "  <script>\n",
              "    async function quickchart(key) {\n",
              "      const quickchartButtonEl =\n",
              "        document.querySelector('#' + key + ' button');\n",
              "      quickchartButtonEl.disabled = true;  // To prevent multiple clicks.\n",
              "      quickchartButtonEl.classList.add('colab-df-spinner');\n",
              "      try {\n",
              "        const charts = await google.colab.kernel.invokeFunction(\n",
              "            'suggestCharts', [key], {});\n",
              "      } catch (error) {\n",
              "        console.error('Error during call to suggestCharts:', error);\n",
              "      }\n",
              "      quickchartButtonEl.classList.remove('colab-df-spinner');\n",
              "      quickchartButtonEl.classList.add('colab-df-quickchart-complete');\n",
              "    }\n",
              "    (() => {\n",
              "      let quickchartButtonEl =\n",
              "        document.querySelector('#df-0ab43c11-9e53-4575-84dc-0c69809631c6 button');\n",
              "      quickchartButtonEl.style.display =\n",
              "        google.colab.kernel.accessAllowed ? 'block' : 'none';\n",
              "    })();\n",
              "  </script>\n",
              "</div>\n",
              "    </div>\n",
              "  </div>\n"
            ],
            "application/vnd.google.colaboratory.intrinsic+json": {
              "type": "dataframe",
              "variable_name": "df",
              "summary": "{\n  \"name\": \"df\",\n  \"rows\": 12331,\n  \"fields\": [\n    {\n      \"column\": \"\\uae30\\uc5c5\\uba85\",\n      \"properties\": {\n        \"dtype\": \"category\",\n        \"num_unique_values\": 924,\n        \"samples\": [\n          \"\\uc5e0\\ud3ec\\uc2a4\",\n          \"\\uc2dc\\ud050\\uc640\\uc6b0\",\n          \"\\uc57c\\ub180\\uc790Tech(R&D)\"\n        ],\n        \"semantic_type\": \"\",\n        \"description\": \"\"\n      }\n    },\n    {\n      \"column\": \"\\ucc44\\uc6a9\\uc81c\\ubaa9\",\n      \"properties\": {\n        \"dtype\": \"category\",\n        \"num_unique_values\": 2109,\n        \"samples\": [\n          \"ESTsecurity \\ubcf4\\uc548 SI \\uc0ac\\uc5c5 PM/PL\",\n          \"\\ubcf4\\uc548/Infra\",\n          \"\\ubcf4\\uc548\\uc804\\ub7b5(Manager) \\ub2f4\\ub2f9\\uc790\"\n        ],\n        \"semantic_type\": \"\",\n        \"description\": \"\"\n      }\n    },\n    {\n      \"column\": \"\\uc8fc\\uc694\\uc5c5\\ubb34\",\n      \"properties\": {\n        \"dtype\": \"string\",\n        \"num_unique_values\": 10189,\n        \"samples\": [\n          \"\\ub124\\ud2b8\\uc6cc\\ud06c \\ubcf4\\uc548 \\uc194\\ub8e8\\uc158(FW, IDS/IPS, WAF, WIPS \\ub4f1)\\uc744 \\uc6b4\\uc601 \\ubc0f \\uad00\\ub9ac\\ud569\\ub2c8\\ub2e4\",\n          \"\\ubca4\\uce58\\ub9c8\\ud0b9 \\ubc0f \\uac1c\\uc120 \\uc120 \\uc81c\\uc548\",\n          \"\\uc0ac\\uc5c5 \\uc8fc\\uc694 \\uc9c0\\ud45c \\uc5c5\\ub370\\uc774\\ud2b8 \\ubc0f \\uad00\\ub9ac\"\n        ],\n        \"semantic_type\": \"\",\n        \"description\": \"\"\n      }\n    },\n    {\n      \"column\": \"\\uc9c0\\uc6d0\\uc790\\uaca9\",\n      \"properties\": {\n        \"dtype\": \"category\",\n        \"num_unique_values\": 2445,\n        \"samples\": [\n          \"\\u2022 1\\ub144 \\uc774\\uc0c1\\uc758 \\uc720\\uad00 \\uacbd\\ub825(Software Engineer \\ud3ec\\ud568)\\uc744 \\ubcf4\\uc720\\ud558\\uc2e0 \\ubd84\\u2022 1\\ub144 \\uc774\\uc0c1\\uc758 AWS \\ub4f1\\uc758 Public Cloud \\uc0ac\\uc6a9 \\uacbd\\ud5d8\\uc774 \\uc788\\uac70\\ub098 AWS \\uc790\\uaca9\\uc99d\\uc744 \\ubcf4\\uc720\\ud558\\uc2e0 \\ubd84\\u2022 \\ucef4\\ud4e8\\ud130\\uacf5\\ud559 \\uad00\\ub828 \\uc804\\uacf5\\uc790\\ub098 Python, Javascript, Go \\ub4f1\\uc758 \\ud504\\ub85c\\uadf8\\ub798\\ubc0d \\uc5b8\\uc5b4\\ub85c \\uc18c\\ud504\\ud2b8\\uc6e8\\uc5b4\\ub97c \\uac1c\\ubc1c\\ud574\\ubcf4\\uc2e0 \\ubd84*\\ud544\\uc218\",\n          \"\\u2022 5\\ub144 \\uc774\\uc0c1\\uc758 \\uc815\\ubcf4\\ubcf4\\ud638 \\uc2e4\\ubb34 \\uacbd\\ud5d8\\uc774 \\uc788\\ub294 \\ubd84\\u2022 \\ud074\\ub77c\\uc6b0\\ub4dc \\ud658\\uacbd\\uc5d0\\uc11c \\uc815\\ubcf4\\ubcf4\\ud638 \\uc2e4\\ubb34 \\uacbd\\ud5d8 \\ucd5c\\uc18c 2\\ub144 \\uc774\\uc0c1\\uc778 \\ubd84\\u2022 \\uae08\\uc735, \\ud540\\ud14c\\ud06c \\ub610\\ub294 \\uac1c\\uc778\\uc815\\ubcf4\\ub97c \\uc9c1\\uc811 \\ub2e4\\ub8e8\\ub294 \\uc0b0\\uc5c5\\uc5d0\\uc11c \\ub124\\ud2b8\\uc6cc\\ud06c \\ubc0f \\uc778\\ud504\\ub77c\\ub97c \\uad6c\\ucd95, \\uc6b4\\uc601 \\ubc0f \\uad00\\ub9ac\\ud574\\ubcf8 \\uacbd\\ud5d8\\uc774 \\uc788\\ub294 \\ubd84\\u2022 \\uac1c\\uc778\\uc815\\ubcf4\\ubcf4\\ud638\\ubc95, \\uc815\\ubcf4\\ud1b5\\uc2e0\\ub9dd\\ubc95\\uc5d0 \\ub300\\ud55c \\uc774\\ud574\\ub3c4\\ub97c \\ubc14\\ud0d5\\uc73c\\ub85c \\ubcf4\\uc548 \\uc815\\ucc45 \\uc218\\ub9bd/\\uc774\\ud589 \\uacbd\\ud5d8\\uc774 \\uc788\\ub294 \\ubd84\\u2022 \\uc11c\\ube44\\uc2a4 \\uc9c0\\ud5a5 \\uc0ac\\uace0\\uc640 \\uc720\\uc5f0\\ud55c \\ucee4\\ubba4\\ub2c8\\ucf00\\uc774\\uc158 \\uc5ed\\ub7c9\\uc744 \\ubcf4\\uc720\\ud558\\uc2e0 \\ubd84\\u2022 \\uae0d\\uc815\\uc801\\uc774\\uace0 \\uc801\\uadf9\\uc801\\uc778 \\uc790\\uc138\\ub85c \\ucc45\\uc784\\uac10 \\uc788\\uac8c \\uc5c5\\ubb34\\uc5d0 \\uc784\\ud558\\uc2e4 \\uc218 \\uc788\\ub294 \\ubd84\",\n          \"\\u318d\\uacbd\\ub825 : 2\\ub144 \\uc774\\uc0c1\"\n        ],\n        \"semantic_type\": \"\",\n        \"description\": \"\"\n      }\n    },\n    {\n      \"column\": \"\\uc6b0\\ub300\\uc0ac\\ud56d\",\n      \"properties\": {\n        \"dtype\": \"category\",\n        \"num_unique_values\": 2386,\n        \"samples\": [\n          \"\\u2022 \\ud074\\ub77c\\uc6b0\\ub4dc \\uae30\\ubc18 MSA \\ud504\\ub85c\\uc81d\\ud2b8 \\uac1c\\ubc1c \\uacbd\\ud5d8\\uc790\\u2022 DevOps/SRE \\uae30\\ubc18 \\uc624\\ud508\\uc18c\\uc2a4/\\uc194\\ub8e8\\uc158 \\uad00\\ub9ac \\uacbd\\ud5d8\",\n          \"\\u318d\\uc815\\ubcf4\\ubcf4\\ud638\\uad00\\ub9ac\\uccb4\\uacc4(ISMS)\\uc5d0 \\ub300\\ud55c \\uc774\\ud574\\u318d\\uc18c\\ud504\\ud2b8\\uc6e8\\uc5b4 \\uac1c\\ubc1c\\ubcf4\\uc548\\uc5d0 \\ub300\\ud55c \\uc774\\ud574\\u318d\\ube14\\ub85d\\uccb4\\uc778 \\ubc0f \\uac8c\\uc784 \\uc11c\\ube44\\uc2a4\\uc5d0 \\ub300\\ud55c \\uc774\\ud574\\u318d\\uac1c\\ubc1c \\uc5b8\\uc5b4\\uc5d0 \\ub300\\ud55c \\uc774\\ud574(GoLang, Javascript, Unity \\ub4f1)\",\n          \"\\u2022 \\uac1c\\uc778\\uc815\\ubcf4 \\uc815\\ucc45 \\uc218\\ub9bd \\uacbd\\ud5d8\\uc774 \\uc788\\uc73c\\uc2e0 \\ubd84\\u2022 \\uac1c\\uc778\\uc815\\ubcf4 \\ubcf4\\ud638 \\uad00\\ub828 \\uae30\\uc220\\uc801 \\uc870\\uce58\\uc5d0 \\ub300\\ud55c \\ucda9\\ubd84\\ud55c \\uc774\\ud574\\uac00 \\uc788\\uc73c\\uc2e0 \\ubd84\\u2022 \\uac1c\\uc778\\uc815\\ubcf4\\ubcf4\\ud638 \\ubc0f \\uc815\\ubcf4\\ubcf4\\ud638 \\uad00\\ub828 \\uc778\\uc99d(ISMS, ISMS-P, ISO27001, BS10012) \\ucde8\\ub4dd \\uacbd\\ud5d8\\uc774 \\uc788\\uc73c\\uc2e0 \\ubd84\\u2022 \\uac1c\\uc778\\uc815\\ubcf4 \\uc5c5\\ubb34\\uacbd\\ud5d8 7\\ub144 \\uc774\\uc0c1\\uc774\\uc2e0 \\ubd84 \\u2022 \\uac1c\\uc778\\uc815\\ubcf4\\ucd5c\\uace0\\ucc45\\uc784\\uc790(CPO) \\ub610\\ub294 CISO, CIO \\uacbd\\ud5d8\\uc790\\u2022 (\\uac1c\\uc778)\\uc815\\ubcf4\\ubcf4\\ud638 \\uad00\\ub828 \\uc790\\uaca9\\uc99d(ISMS-P\\uc2ec\\uc0ac\\uc6d0, CPPG, \\uc815\\ubcf4\\ubcf4\\uc548\\uae30\\uc0ac, CISSP \\ub4f1)\\uc18c\\uc9c0\\uc790\"\n        ],\n        \"semantic_type\": \"\",\n        \"description\": \"\"\n      }\n    },\n    {\n      \"column\": \"\\uc5c5\\ubb34\\uae38\\uc774\",\n      \"properties\": {\n        \"dtype\": \"number\",\n        \"std\": 10,\n        \"min\": 5,\n        \"max\": 50,\n        \"num_unique_values\": 46,\n        \"samples\": [\n          5,\n          20,\n          37\n        ],\n        \"semantic_type\": \"\",\n        \"description\": \"\"\n      }\n    },\n    {\n      \"column\": \"\\uc8fc\\uc694\\uc5c5\\ubb34_C\",\n      \"properties\": {\n        \"dtype\": \"string\",\n        \"num_unique_values\": 9987,\n        \"samples\": [\n          \"\\uc778\\ud504\\ub77c \\uc790\\ub3d9\\ud654 \\ud074\\ub77c\\uc6b0\\ub4dc \\uad6c\\ucd95\",\n          \"\\ubcf4\\uc548 \\uc704\\ud611 \\ubd84\\uc11d \\ubc29\\uc5b4 \\uae30\\ubc95 \\uc5f0\\uad6c\",\n          \"\\ubaa8\\ubc14\\uc77c   AOS   IOS   \\uc571 \\ubaa8\\uc758 \\ud574\\ud0b9 \\uc870\\uce58 \\ubc29\\uc548 \\uac00\\uc774\\ub4dc\"\n        ],\n        \"semantic_type\": \"\",\n        \"description\": \"\"\n      }\n    }\n  ]\n}"
            }
          },
          "metadata": {},
          "execution_count": 34
        }
      ]
    },
    {
      "cell_type": "code",
      "source": [
        "#채용제목과 합치기\n",
        "df['text']=df['채용제목']+\" \"+df['주요업무_C']"
      ],
      "metadata": {
        "id": "5vj3AU6u0JDL"
      },
      "id": "5vj3AU6u0JDL",
      "execution_count": 35,
      "outputs": []
    },
    {
      "cell_type": "code",
      "source": [
        "df['text']=df['text'].astype('str')"
      ],
      "metadata": {
        "id": "rpMB2iVQ-MD8"
      },
      "id": "rpMB2iVQ-MD8",
      "execution_count": 36,
      "outputs": []
    },
    {
      "cell_type": "code",
      "source": [
        "df2=df[df['text'].str.contains('보안|보호|security')]"
      ],
      "metadata": {
        "id": "Rip5dYdSzvdF"
      },
      "id": "Rip5dYdSzvdF",
      "execution_count": null,
      "outputs": []
    },
    {
      "cell_type": "code",
      "source": [
        "df2.shape"
      ],
      "metadata": {
        "colab": {
          "base_uri": "https://localhost:8080/"
        },
        "id": "eBFcemJU9ojM",
        "outputId": "73f001bc-33fa-4411-a4d1-04115957865d"
      },
      "id": "eBFcemJU9ojM",
      "execution_count": null,
      "outputs": [
        {
          "output_type": "execute_result",
          "data": {
            "text/plain": [
              "(7189, 8)"
            ]
          },
          "metadata": {},
          "execution_count": 26
        }
      ]
    },
    {
      "cell_type": "code",
      "source": [
        "df2.head(10)"
      ],
      "metadata": {
        "colab": {
          "base_uri": "https://localhost:8080/",
          "height": 762
        },
        "id": "J9TGsCI2ANeG",
        "outputId": "83c78605-ff38-42b1-f00a-7c8deef9d51b"
      },
      "id": "J9TGsCI2ANeG",
      "execution_count": null,
      "outputs": [
        {
          "output_type": "execute_result",
          "data": {
            "text/plain": [
              "                기업명                    채용제목                            주요업무  \\\n",
              "1          마이뮤직테이스트        Backend Engineer                      보안과 데이터 보호   \n",
              "10    미미박스(MEMEBOX)         DevOps Engineer                      서비스망 보안 확보   \n",
              "16    미미박스(MEMEBOX)  Database Administrator          회원 DB에 대한 보안 관련 업무를 지원   \n",
              "20         보닥(아이지넷)                 백엔드 개발자        서버 정책 수립 가능자 (보안이나 백업 등)   \n",
              "23  이스트소프트(ESTsoft)            보안서비스 서버 개발자             신규 프로젝트 서버 개발 (40%)   \n",
              "24  이스트소프트(ESTsoft)            보안서비스 서버 개발자  신규 프로젝트 관련 DB 설계 및 튜닝 작업 (30%)   \n",
              "25            뱅크샐러드                 보안 엔지니어     뱅크샐러드 서비스의 안정적 운영을 위한 보안 관리   \n",
              "26            뱅크샐러드                 보안 엔지니어     뱅크샐러드 시스템 및 서비스 취약점 점검 및 분석   \n",
              "27            뱅크샐러드                 보안 엔지니어         뱅크샐러드 이용자 개인정보 보호 관련 업무   \n",
              "28            뱅크샐러드                 보안 엔지니어         뱅크샐러드 정보보호 관리체계 구축 및 관리   \n",
              "\n",
              "                                                 지원자격  \\\n",
              "1   - 3년이상의 Python 외의 언어로 웹서버 개발 혹은 Python으로 웹서버 개...   \n",
              "10  ᆞ AWS 기반의 Container 환경 구축 및 CI/CD 등 자동화 관련 기솔에...   \n",
              "16  ᆞ AWS RDS (Mysql) 사용 경험ᆞ Mysql 5년 이상 사용 경험ᆞ Tr...   \n",
              "20  •\\tAWS 에 능숙한 사람•\\t서버 자동화 스크립트 및 전사 통합 개발환경 구성에...   \n",
              "23   • C++ 에 대한 이해가 있는 분 • 네트워크 프로그래밍에 대한 기본 지식이 있...   \n",
              "24   • C++ 에 대한 이해가 있는 분 • 네트워크 프로그래밍에 대한 기본 지식이 있...   \n",
              "25  • 기업 보안 관리 2년 이상의 경력자 • 기업 보안 시스템/체계 구축 및 운영 경...   \n",
              "26  • 기업 보안 관리 2년 이상의 경력자 • 기업 보안 시스템/체계 구축 및 운영 경...   \n",
              "27  • 기업 보안 관리 2년 이상의 경력자 • 기업 보안 시스템/체계 구축 및 운영 경...   \n",
              "28  • 기업 보안 관리 2년 이상의 경력자 • 기업 보안 시스템/체계 구축 및 운영 경...   \n",
              "\n",
              "                                                 우대사항  업무길이  \\\n",
              "1   - 새로운 기술에 대한 적극적인 관심- 기존 솔루션을 유지/보수하면서 적극적으로 문...    10   \n",
              "10  ᆞ AWS Certificate 보유ᆞ IT 프로젝트 아키텍트 경험ᆞ JAVA/PH...    10   \n",
              "16                  ᆞ DB 장애 복구 경험ᆞ 1가지 이상 NoSQL 사용 경험    22   \n",
              "20                           • 자유롭고 창의적으로 업무할 수 있습니다.    24   \n",
              "23   • 멀티 플랫폼 개발(Windows, Linux 등)이 가능한 분 우대 • 대용량...    19   \n",
              "24   • 멀티 플랫폼 개발(Windows, Linux 등)이 가능한 분 우대 • 대용량...    30   \n",
              "25  • ISMS 등 보안 관련 인증 진행 경험자 • 보안 관련 수상 경력자 • 보안 관...    27   \n",
              "26  • ISMS 등 보안 관련 인증 진행 경험자 • 보안 관련 수상 경력자 • 보안 관...    27   \n",
              "27  • ISMS 등 보안 관련 인증 진행 경험자 • 보안 관련 수상 경력자 • 보안 관...    23   \n",
              "28  • ISMS 등 보안 관련 인증 진행 경험자 • 보안 관련 수상 경력자 • 보안 관...    23   \n",
              "\n",
              "                            주요업무_C  \\\n",
              "1                        보안 데이터 보호   \n",
              "10                     서비스 망 보안 확보   \n",
              "16            회원 DB 대한 보안 관련 업무 지원   \n",
              "20         서버 정책 수립 가능 자 ( 보안 백업 )   \n",
              "23           신규 프로젝트 서버 개발 ( 40% )   \n",
              "24  신규 프로젝트 관련 DB 설계 튜닝 작업 ( 30% )   \n",
              "25      뱅크 샐러드 서비스 안정 적 운영 위 보안 관리   \n",
              "26        뱅크 샐러드 시스템 서비스 취약점 점검 분석   \n",
              "27        뱅크 샐러드 이용자 개인정보 보호 관련 업무   \n",
              "28         뱅크 샐러드 정보보호 관리 체계 구축 관리   \n",
              "\n",
              "                                           text  \n",
              "1                    Backend Engineer 보안 데이터 보호  \n",
              "10                  DevOps Engineer 서비스 망 보안 확보  \n",
              "16  Database Administrator 회원 DB 대한 보안 관련 업무 지원  \n",
              "20              백엔드 개발자 서버 정책 수립 가능 자 ( 보안 백업 )  \n",
              "23           보안서비스 서버 개발자 신규 프로젝트 서버 개발 ( 40% )  \n",
              "24  보안서비스 서버 개발자 신규 프로젝트 관련 DB 설계 튜닝 작업 ( 30% )  \n",
              "25           보안 엔지니어 뱅크 샐러드 서비스 안정 적 운영 위 보안 관리  \n",
              "26             보안 엔지니어 뱅크 샐러드 시스템 서비스 취약점 점검 분석  \n",
              "27             보안 엔지니어 뱅크 샐러드 이용자 개인정보 보호 관련 업무  \n",
              "28              보안 엔지니어 뱅크 샐러드 정보보호 관리 체계 구축 관리  "
            ],
            "text/html": [
              "\n",
              "  <div id=\"df-72fea10e-213c-43c4-920d-8044280b39b2\" class=\"colab-df-container\">\n",
              "    <div>\n",
              "<style scoped>\n",
              "    .dataframe tbody tr th:only-of-type {\n",
              "        vertical-align: middle;\n",
              "    }\n",
              "\n",
              "    .dataframe tbody tr th {\n",
              "        vertical-align: top;\n",
              "    }\n",
              "\n",
              "    .dataframe thead th {\n",
              "        text-align: right;\n",
              "    }\n",
              "</style>\n",
              "<table border=\"1\" class=\"dataframe\">\n",
              "  <thead>\n",
              "    <tr style=\"text-align: right;\">\n",
              "      <th></th>\n",
              "      <th>기업명</th>\n",
              "      <th>채용제목</th>\n",
              "      <th>주요업무</th>\n",
              "      <th>지원자격</th>\n",
              "      <th>우대사항</th>\n",
              "      <th>업무길이</th>\n",
              "      <th>주요업무_C</th>\n",
              "      <th>text</th>\n",
              "    </tr>\n",
              "  </thead>\n",
              "  <tbody>\n",
              "    <tr>\n",
              "      <th>1</th>\n",
              "      <td>마이뮤직테이스트</td>\n",
              "      <td>Backend Engineer</td>\n",
              "      <td>보안과 데이터 보호</td>\n",
              "      <td>- 3년이상의 Python 외의 언어로 웹서버 개발 혹은 Python으로 웹서버 개...</td>\n",
              "      <td>- 새로운 기술에 대한 적극적인 관심- 기존 솔루션을 유지/보수하면서 적극적으로 문...</td>\n",
              "      <td>10</td>\n",
              "      <td>보안 데이터 보호</td>\n",
              "      <td>Backend Engineer 보안 데이터 보호</td>\n",
              "    </tr>\n",
              "    <tr>\n",
              "      <th>10</th>\n",
              "      <td>미미박스(MEMEBOX)</td>\n",
              "      <td>DevOps Engineer</td>\n",
              "      <td>서비스망 보안 확보</td>\n",
              "      <td>ᆞ AWS 기반의 Container 환경 구축 및 CI/CD 등 자동화 관련 기솔에...</td>\n",
              "      <td>ᆞ AWS Certificate 보유ᆞ IT 프로젝트 아키텍트 경험ᆞ JAVA/PH...</td>\n",
              "      <td>10</td>\n",
              "      <td>서비스 망 보안 확보</td>\n",
              "      <td>DevOps Engineer 서비스 망 보안 확보</td>\n",
              "    </tr>\n",
              "    <tr>\n",
              "      <th>16</th>\n",
              "      <td>미미박스(MEMEBOX)</td>\n",
              "      <td>Database Administrator</td>\n",
              "      <td>회원 DB에 대한 보안 관련 업무를 지원</td>\n",
              "      <td>ᆞ AWS RDS (Mysql) 사용 경험ᆞ Mysql 5년 이상 사용 경험ᆞ Tr...</td>\n",
              "      <td>ᆞ DB 장애 복구 경험ᆞ 1가지 이상 NoSQL 사용 경험</td>\n",
              "      <td>22</td>\n",
              "      <td>회원 DB 대한 보안 관련 업무 지원</td>\n",
              "      <td>Database Administrator 회원 DB 대한 보안 관련 업무 지원</td>\n",
              "    </tr>\n",
              "    <tr>\n",
              "      <th>20</th>\n",
              "      <td>보닥(아이지넷)</td>\n",
              "      <td>백엔드 개발자</td>\n",
              "      <td>서버 정책 수립 가능자 (보안이나 백업 등)</td>\n",
              "      <td>•\\tAWS 에 능숙한 사람•\\t서버 자동화 스크립트 및 전사 통합 개발환경 구성에...</td>\n",
              "      <td>• 자유롭고 창의적으로 업무할 수 있습니다.</td>\n",
              "      <td>24</td>\n",
              "      <td>서버 정책 수립 가능 자 ( 보안 백업 )</td>\n",
              "      <td>백엔드 개발자 서버 정책 수립 가능 자 ( 보안 백업 )</td>\n",
              "    </tr>\n",
              "    <tr>\n",
              "      <th>23</th>\n",
              "      <td>이스트소프트(ESTsoft)</td>\n",
              "      <td>보안서비스 서버 개발자</td>\n",
              "      <td>신규 프로젝트 서버 개발 (40%)</td>\n",
              "      <td>• C++ 에 대한 이해가 있는 분 • 네트워크 프로그래밍에 대한 기본 지식이 있...</td>\n",
              "      <td>• 멀티 플랫폼 개발(Windows, Linux 등)이 가능한 분 우대 • 대용량...</td>\n",
              "      <td>19</td>\n",
              "      <td>신규 프로젝트 서버 개발 ( 40% )</td>\n",
              "      <td>보안서비스 서버 개발자 신규 프로젝트 서버 개발 ( 40% )</td>\n",
              "    </tr>\n",
              "    <tr>\n",
              "      <th>24</th>\n",
              "      <td>이스트소프트(ESTsoft)</td>\n",
              "      <td>보안서비스 서버 개발자</td>\n",
              "      <td>신규 프로젝트 관련 DB 설계 및 튜닝 작업 (30%)</td>\n",
              "      <td>• C++ 에 대한 이해가 있는 분 • 네트워크 프로그래밍에 대한 기본 지식이 있...</td>\n",
              "      <td>• 멀티 플랫폼 개발(Windows, Linux 등)이 가능한 분 우대 • 대용량...</td>\n",
              "      <td>30</td>\n",
              "      <td>신규 프로젝트 관련 DB 설계 튜닝 작업 ( 30% )</td>\n",
              "      <td>보안서비스 서버 개발자 신규 프로젝트 관련 DB 설계 튜닝 작업 ( 30% )</td>\n",
              "    </tr>\n",
              "    <tr>\n",
              "      <th>25</th>\n",
              "      <td>뱅크샐러드</td>\n",
              "      <td>보안 엔지니어</td>\n",
              "      <td>뱅크샐러드 서비스의 안정적 운영을 위한 보안 관리</td>\n",
              "      <td>• 기업 보안 관리 2년 이상의 경력자 • 기업 보안 시스템/체계 구축 및 운영 경...</td>\n",
              "      <td>• ISMS 등 보안 관련 인증 진행 경험자 • 보안 관련 수상 경력자 • 보안 관...</td>\n",
              "      <td>27</td>\n",
              "      <td>뱅크 샐러드 서비스 안정 적 운영 위 보안 관리</td>\n",
              "      <td>보안 엔지니어 뱅크 샐러드 서비스 안정 적 운영 위 보안 관리</td>\n",
              "    </tr>\n",
              "    <tr>\n",
              "      <th>26</th>\n",
              "      <td>뱅크샐러드</td>\n",
              "      <td>보안 엔지니어</td>\n",
              "      <td>뱅크샐러드 시스템 및 서비스 취약점 점검 및 분석</td>\n",
              "      <td>• 기업 보안 관리 2년 이상의 경력자 • 기업 보안 시스템/체계 구축 및 운영 경...</td>\n",
              "      <td>• ISMS 등 보안 관련 인증 진행 경험자 • 보안 관련 수상 경력자 • 보안 관...</td>\n",
              "      <td>27</td>\n",
              "      <td>뱅크 샐러드 시스템 서비스 취약점 점검 분석</td>\n",
              "      <td>보안 엔지니어 뱅크 샐러드 시스템 서비스 취약점 점검 분석</td>\n",
              "    </tr>\n",
              "    <tr>\n",
              "      <th>27</th>\n",
              "      <td>뱅크샐러드</td>\n",
              "      <td>보안 엔지니어</td>\n",
              "      <td>뱅크샐러드 이용자 개인정보 보호 관련 업무</td>\n",
              "      <td>• 기업 보안 관리 2년 이상의 경력자 • 기업 보안 시스템/체계 구축 및 운영 경...</td>\n",
              "      <td>• ISMS 등 보안 관련 인증 진행 경험자 • 보안 관련 수상 경력자 • 보안 관...</td>\n",
              "      <td>23</td>\n",
              "      <td>뱅크 샐러드 이용자 개인정보 보호 관련 업무</td>\n",
              "      <td>보안 엔지니어 뱅크 샐러드 이용자 개인정보 보호 관련 업무</td>\n",
              "    </tr>\n",
              "    <tr>\n",
              "      <th>28</th>\n",
              "      <td>뱅크샐러드</td>\n",
              "      <td>보안 엔지니어</td>\n",
              "      <td>뱅크샐러드 정보보호 관리체계 구축 및 관리</td>\n",
              "      <td>• 기업 보안 관리 2년 이상의 경력자 • 기업 보안 시스템/체계 구축 및 운영 경...</td>\n",
              "      <td>• ISMS 등 보안 관련 인증 진행 경험자 • 보안 관련 수상 경력자 • 보안 관...</td>\n",
              "      <td>23</td>\n",
              "      <td>뱅크 샐러드 정보보호 관리 체계 구축 관리</td>\n",
              "      <td>보안 엔지니어 뱅크 샐러드 정보보호 관리 체계 구축 관리</td>\n",
              "    </tr>\n",
              "  </tbody>\n",
              "</table>\n",
              "</div>\n",
              "    <div class=\"colab-df-buttons\">\n",
              "\n",
              "  <div class=\"colab-df-container\">\n",
              "    <button class=\"colab-df-convert\" onclick=\"convertToInteractive('df-72fea10e-213c-43c4-920d-8044280b39b2')\"\n",
              "            title=\"Convert this dataframe to an interactive table.\"\n",
              "            style=\"display:none;\">\n",
              "\n",
              "  <svg xmlns=\"http://www.w3.org/2000/svg\" height=\"24px\" viewBox=\"0 -960 960 960\">\n",
              "    <path d=\"M120-120v-720h720v720H120Zm60-500h600v-160H180v160Zm220 220h160v-160H400v160Zm0 220h160v-160H400v160ZM180-400h160v-160H180v160Zm440 0h160v-160H620v160ZM180-180h160v-160H180v160Zm440 0h160v-160H620v160Z\"/>\n",
              "  </svg>\n",
              "    </button>\n",
              "\n",
              "  <style>\n",
              "    .colab-df-container {\n",
              "      display:flex;\n",
              "      gap: 12px;\n",
              "    }\n",
              "\n",
              "    .colab-df-convert {\n",
              "      background-color: #E8F0FE;\n",
              "      border: none;\n",
              "      border-radius: 50%;\n",
              "      cursor: pointer;\n",
              "      display: none;\n",
              "      fill: #1967D2;\n",
              "      height: 32px;\n",
              "      padding: 0 0 0 0;\n",
              "      width: 32px;\n",
              "    }\n",
              "\n",
              "    .colab-df-convert:hover {\n",
              "      background-color: #E2EBFA;\n",
              "      box-shadow: 0px 1px 2px rgba(60, 64, 67, 0.3), 0px 1px 3px 1px rgba(60, 64, 67, 0.15);\n",
              "      fill: #174EA6;\n",
              "    }\n",
              "\n",
              "    .colab-df-buttons div {\n",
              "      margin-bottom: 4px;\n",
              "    }\n",
              "\n",
              "    [theme=dark] .colab-df-convert {\n",
              "      background-color: #3B4455;\n",
              "      fill: #D2E3FC;\n",
              "    }\n",
              "\n",
              "    [theme=dark] .colab-df-convert:hover {\n",
              "      background-color: #434B5C;\n",
              "      box-shadow: 0px 1px 3px 1px rgba(0, 0, 0, 0.15);\n",
              "      filter: drop-shadow(0px 1px 2px rgba(0, 0, 0, 0.3));\n",
              "      fill: #FFFFFF;\n",
              "    }\n",
              "  </style>\n",
              "\n",
              "    <script>\n",
              "      const buttonEl =\n",
              "        document.querySelector('#df-72fea10e-213c-43c4-920d-8044280b39b2 button.colab-df-convert');\n",
              "      buttonEl.style.display =\n",
              "        google.colab.kernel.accessAllowed ? 'block' : 'none';\n",
              "\n",
              "      async function convertToInteractive(key) {\n",
              "        const element = document.querySelector('#df-72fea10e-213c-43c4-920d-8044280b39b2');\n",
              "        const dataTable =\n",
              "          await google.colab.kernel.invokeFunction('convertToInteractive',\n",
              "                                                    [key], {});\n",
              "        if (!dataTable) return;\n",
              "\n",
              "        const docLinkHtml = 'Like what you see? Visit the ' +\n",
              "          '<a target=\"_blank\" href=https://colab.research.google.com/notebooks/data_table.ipynb>data table notebook</a>'\n",
              "          + ' to learn more about interactive tables.';\n",
              "        element.innerHTML = '';\n",
              "        dataTable['output_type'] = 'display_data';\n",
              "        await google.colab.output.renderOutput(dataTable, element);\n",
              "        const docLink = document.createElement('div');\n",
              "        docLink.innerHTML = docLinkHtml;\n",
              "        element.appendChild(docLink);\n",
              "      }\n",
              "    </script>\n",
              "  </div>\n",
              "\n",
              "\n",
              "<div id=\"df-dca0fb32-1830-4d66-a209-72feb93738ad\">\n",
              "  <button class=\"colab-df-quickchart\" onclick=\"quickchart('df-dca0fb32-1830-4d66-a209-72feb93738ad')\"\n",
              "            title=\"Suggest charts\"\n",
              "            style=\"display:none;\">\n",
              "\n",
              "<svg xmlns=\"http://www.w3.org/2000/svg\" height=\"24px\"viewBox=\"0 0 24 24\"\n",
              "     width=\"24px\">\n",
              "    <g>\n",
              "        <path d=\"M19 3H5c-1.1 0-2 .9-2 2v14c0 1.1.9 2 2 2h14c1.1 0 2-.9 2-2V5c0-1.1-.9-2-2-2zM9 17H7v-7h2v7zm4 0h-2V7h2v10zm4 0h-2v-4h2v4z\"/>\n",
              "    </g>\n",
              "</svg>\n",
              "  </button>\n",
              "\n",
              "<style>\n",
              "  .colab-df-quickchart {\n",
              "      --bg-color: #E8F0FE;\n",
              "      --fill-color: #1967D2;\n",
              "      --hover-bg-color: #E2EBFA;\n",
              "      --hover-fill-color: #174EA6;\n",
              "      --disabled-fill-color: #AAA;\n",
              "      --disabled-bg-color: #DDD;\n",
              "  }\n",
              "\n",
              "  [theme=dark] .colab-df-quickchart {\n",
              "      --bg-color: #3B4455;\n",
              "      --fill-color: #D2E3FC;\n",
              "      --hover-bg-color: #434B5C;\n",
              "      --hover-fill-color: #FFFFFF;\n",
              "      --disabled-bg-color: #3B4455;\n",
              "      --disabled-fill-color: #666;\n",
              "  }\n",
              "\n",
              "  .colab-df-quickchart {\n",
              "    background-color: var(--bg-color);\n",
              "    border: none;\n",
              "    border-radius: 50%;\n",
              "    cursor: pointer;\n",
              "    display: none;\n",
              "    fill: var(--fill-color);\n",
              "    height: 32px;\n",
              "    padding: 0;\n",
              "    width: 32px;\n",
              "  }\n",
              "\n",
              "  .colab-df-quickchart:hover {\n",
              "    background-color: var(--hover-bg-color);\n",
              "    box-shadow: 0 1px 2px rgba(60, 64, 67, 0.3), 0 1px 3px 1px rgba(60, 64, 67, 0.15);\n",
              "    fill: var(--button-hover-fill-color);\n",
              "  }\n",
              "\n",
              "  .colab-df-quickchart-complete:disabled,\n",
              "  .colab-df-quickchart-complete:disabled:hover {\n",
              "    background-color: var(--disabled-bg-color);\n",
              "    fill: var(--disabled-fill-color);\n",
              "    box-shadow: none;\n",
              "  }\n",
              "\n",
              "  .colab-df-spinner {\n",
              "    border: 2px solid var(--fill-color);\n",
              "    border-color: transparent;\n",
              "    border-bottom-color: var(--fill-color);\n",
              "    animation:\n",
              "      spin 1s steps(1) infinite;\n",
              "  }\n",
              "\n",
              "  @keyframes spin {\n",
              "    0% {\n",
              "      border-color: transparent;\n",
              "      border-bottom-color: var(--fill-color);\n",
              "      border-left-color: var(--fill-color);\n",
              "    }\n",
              "    20% {\n",
              "      border-color: transparent;\n",
              "      border-left-color: var(--fill-color);\n",
              "      border-top-color: var(--fill-color);\n",
              "    }\n",
              "    30% {\n",
              "      border-color: transparent;\n",
              "      border-left-color: var(--fill-color);\n",
              "      border-top-color: var(--fill-color);\n",
              "      border-right-color: var(--fill-color);\n",
              "    }\n",
              "    40% {\n",
              "      border-color: transparent;\n",
              "      border-right-color: var(--fill-color);\n",
              "      border-top-color: var(--fill-color);\n",
              "    }\n",
              "    60% {\n",
              "      border-color: transparent;\n",
              "      border-right-color: var(--fill-color);\n",
              "    }\n",
              "    80% {\n",
              "      border-color: transparent;\n",
              "      border-right-color: var(--fill-color);\n",
              "      border-bottom-color: var(--fill-color);\n",
              "    }\n",
              "    90% {\n",
              "      border-color: transparent;\n",
              "      border-bottom-color: var(--fill-color);\n",
              "    }\n",
              "  }\n",
              "</style>\n",
              "\n",
              "  <script>\n",
              "    async function quickchart(key) {\n",
              "      const quickchartButtonEl =\n",
              "        document.querySelector('#' + key + ' button');\n",
              "      quickchartButtonEl.disabled = true;  // To prevent multiple clicks.\n",
              "      quickchartButtonEl.classList.add('colab-df-spinner');\n",
              "      try {\n",
              "        const charts = await google.colab.kernel.invokeFunction(\n",
              "            'suggestCharts', [key], {});\n",
              "      } catch (error) {\n",
              "        console.error('Error during call to suggestCharts:', error);\n",
              "      }\n",
              "      quickchartButtonEl.classList.remove('colab-df-spinner');\n",
              "      quickchartButtonEl.classList.add('colab-df-quickchart-complete');\n",
              "    }\n",
              "    (() => {\n",
              "      let quickchartButtonEl =\n",
              "        document.querySelector('#df-dca0fb32-1830-4d66-a209-72feb93738ad button');\n",
              "      quickchartButtonEl.style.display =\n",
              "        google.colab.kernel.accessAllowed ? 'block' : 'none';\n",
              "    })();\n",
              "  </script>\n",
              "</div>\n",
              "    </div>\n",
              "  </div>\n"
            ],
            "application/vnd.google.colaboratory.intrinsic+json": {
              "type": "dataframe",
              "variable_name": "df2",
              "summary": "{\n  \"name\": \"df2\",\n  \"rows\": 7189,\n  \"fields\": [\n    {\n      \"column\": \"\\uae30\\uc5c5\\uba85\",\n      \"properties\": {\n        \"dtype\": \"category\",\n        \"num_unique_values\": 885,\n        \"samples\": [\n          \"\\ub370\\uc77c\\ub9ac(DAILY)\",\n          \"\\ud300\\uc719\\ud06c\",\n          \"\\ube44\\ud50c\\ub77c\\uc774\\uc18c\\ud504\\ud2b8\"\n        ],\n        \"semantic_type\": \"\",\n        \"description\": \"\"\n      }\n    },\n    {\n      \"column\": \"\\ucc44\\uc6a9\\uc81c\\ubaa9\",\n      \"properties\": {\n        \"dtype\": \"category\",\n        \"num_unique_values\": 1930,\n        \"samples\": [\n          \"\\uc778\\ud504\\ub77c \\ubcf4\\uc548 \\uc5d4\\uc9c0\\ub2c8\\uc5b4\",\n          \"Internal Auditor (IT/\\ubcf4\\uc548)\",\n          \"\\uc11c\\uc6b8/\\ub300\\uc804 \\uc815\\ubcf4\\ubcf4\\ud638\\ucee8\\uc124\\ud305\"\n        ],\n        \"semantic_type\": \"\",\n        \"description\": \"\"\n      }\n    },\n    {\n      \"column\": \"\\uc8fc\\uc694\\uc5c5\\ubb34\",\n      \"properties\": {\n        \"dtype\": \"string\",\n        \"num_unique_values\": 6015,\n        \"samples\": [\n          \"Private Network \\uad6c\\ucd95\",\n          \"\\ud1a0\\uc2a4\\ud50c\\ub808\\uc774\\uc2a4\\uc758 \\ubcf4\\uc548 \\uac00\\uc2dc\\uc131\\uc744 \\ud655\\ubcf4\\ud558\\uace0 \\ubcf4\\uc548 \\uad00\\ub9ac \\ubc0f \\uc811\\uadfc \\uccb4\\uacc4\\ub97c \\uac1c\\uc120\\ud574\\uc694\",\n          \"\\ubcf4\\uc548\\uc704\\ud611 \\ubaa8\\ub2c8\\ud130\\ub9c1 \\uccb4\\uacc4 \\uad6c\\ucd95 \\ubc0f \\ub2e4\\uc591\\ud55c \\ubcf4\\uc548 \\ub85c\\uadf8 \\uc0dd\\uc131, \\uc5f0\\ub3d9 \\uc218\\ud589\"\n        ],\n        \"semantic_type\": \"\",\n        \"description\": \"\"\n      }\n    },\n    {\n      \"column\": \"\\uc9c0\\uc6d0\\uc790\\uaca9\",\n      \"properties\": {\n        \"dtype\": \"category\",\n        \"num_unique_values\": 2246,\n        \"samples\": [\n          \"\\u2022 \\uc804\\uc790\\uae08\\uc735 \\uc11c\\ube44\\uc2a4\\uc5d0 \\ub300\\ud55c \\ubcf4\\uc548\\uc131 \\uac80\\ud1a0 \\ubc0f \\ucde8\\uc57d\\uc810 \\uc810\\uac80, \\ubaa8\\uc758\\ud574\\ud0b9 \\uc218\\ud589 \\uacbd\\ud5d8\\u2022 Android, iOS, Web \\ub4f1\\uc758 \\uc11c\\ube44\\uc2a4 \\uad6c\\ud604\\ubc29\\uc2dd \\ubc0f \\uac1c\\ubc1c\\ud504\\ub808\\uc784\\uc6cc\\ud06c \\ud658\\uacbd\\uc744 \\uc774\\ud574\\ud558\\uace0 \\uc774\\ub97c \\ubc14\\ud0d5\\uc73c\\ub85c \\uc18c\\uc2a4\\ucf54\\ub4dc \\ubd84\\uc11d \\ubc0f \\ucde8\\uc57d\\uc810 \\ud655\\uc778, \\uac1c\\uc120 \\uacbd\\ud5d8\\uc744 \\ud574\\ubcf4\\uc2e0 \\ubd84\\u2022 \\ub2e4\\uc591\\ud55c IT \\uc778\\ud504\\ub77c \\uc544\\ud0a4\\ud14d\\ucc98 \\ubc0f DevOps \\ud658\\uacbd\\uc5d0\\uc11c \\ubcf4\\uc548\\uc131 \\uac80\\ud1a0 \\ubc0f \\uc810\\uac80\\uc744 \\ud574\\ubcf4\\uc2e0 \\uacbd\\ud5d8\\uc744 \\uac16\\ucd94\\uc2e0 \\ubd84\\u2022 \\ub2e4\\uc591\\ud55c \\uc601\\uc5ed\\uc5d0 \\ub300\\ud55c \\uc5c5\\ubb34 \\uc218\\uc6a9\\uc774 \\uac00\\ub2a5\\ud558\\uc2e0 \\ubd84\\u2022 \\uc5ec\\ub7ec \\uc5c5\\ubb34\\uc5d0 \\ub300\\ud55c \\ub3d9\\uc2dc\\uc801\\uc778 \\ucc98\\ub9ac\\uc5d0 \\uc775\\uc219\\ud558\\uc2e0 \\ubd84\\u2022 \\uc5c5\\ubb34 \\ucc98\\ub9ac\\uc5d0 \\uac04\\uacb0\\ud568\\uacfc \\uc790\\ub3d9\\ud654\\ub97c \\ucd94\\uad6c\\ud558\\uc2dc\\ub294 \\ubd84\\u2022 \\ubb38\\uc81c\\ud574\\uacb0\\uc5d0 \\uc801\\uadf9\\uc801\\uc774\\uace0 \\ud765\\ubbf8\\ub97c \\ub290\\ub07c\\uc2dc\\ub294 \\ubd84 \\u2022 \\uc6d0\\ub9cc\\ud55c \\ucee4\\ubba4\\ub2c8\\ucf00\\uc774\\uc158\\uacfc \\ud611\\uc5c5\\uc774 \\uac00\\ub2a5\\ud558\\uc2e0 \\ubd84\",\n          \"\\u2022 \\uc778\\uc0ac \\ub610\\ub294 \\ucd1d\\ubb34 \\uad00\\ub828 \\uc5c5\\ubb34 \\uacbd\\ub825 3\\ub144 \\uc774\\uc0c1\\u2022 \\ucd5c\\uace0\\uc758 \\uae30\\uc5c5 \\ubb38\\ud654 \\uad6c\\ucd95\\uc5d0 \\uad00\\ud55c \\uc5f4\\uc815\\uc774 \\uc788\\ub294 \\ubd84\\u2022 \\uc0c1\\ub300\\ubc29\\uc744 \\ubc30\\ub824\\ud558\\uace0 \\uc774\\ud574\\ud558\\ub294 \\ub9c8\\uc74c\\uc73c\\ub85c \\uc18c\\ud1b5\\ud558\\ub294 \\ub2a5\\ub825\\uc744 \\uac16\\ucd98 \\ubd84\\u2022 \\ubc1d\\uace0 \\uae0d\\uc815\\uc801\\uc778 \\uc131\\uaca9\\uc744 \\uc18c\\uc720\\ud55c \\ubd84\\u2022 \\uac15\\ud55c \\ucc45\\uc784\\uac10, \\ub192\\uc740 \\uc5c5\\ubb34 \\uc724\\ub9ac\\uc758\\uc2dd\\uc744 \\uc9c0\\ub2c8\\uc2e0 \\ubd84\\u2022 \\uc608\\uc0c1\\uce58 \\ubabb\\ud55c \\ubd88\\ud655\\uc2e4\\ud55c \\uc0c1\\ud669\\uc5d0 \\ub300\\ucc98 \\ub2a5\\ub825\\uc774 \\ub6f0\\uc5b4\\ub09c \\ubd84\",\n          \"\\u2022 \\uc624\\ud508\\uc18c\\uc2a4 \\uc2dc\\uc2a4\\ud15c \\uad6c\\ucd95 \\ubc0f \\uc720\\uc9c0\\ubcf4\\uc218 \\uc5ed\\ub7c9\\u2022 \\uc2a4\\ud06c\\ub9bd\\ud2b8 \\uc5b8\\uc5b4 \\ub4f1 \\ubc18\\ubcf5\\uc791\\uc5c5 \\uc790\\ub3d9\\ud654 \\uc5ed\\ub7c9\"\n        ],\n        \"semantic_type\": \"\",\n        \"description\": \"\"\n      }\n    },\n    {\n      \"column\": \"\\uc6b0\\ub300\\uc0ac\\ud56d\",\n      \"properties\": {\n        \"dtype\": \"category\",\n        \"num_unique_values\": 2197,\n        \"samples\": [\n          \"\\u2022 \\uc790\\uaca9\\uc99d: CCNA, CCNP\\u2022 \\uc6b4\\uc804\\uba74\\ud5c8 \\uc18c\\uc9c0\\uc790 \\ubc0f \\ucc28\\ub7c9 \\uc18c\\uc9c0\\uc790\\u2022 \\uc804\\uc8fc\\uc2dc \\uac70\\uc8fc\\uc790 \\uc6b0\\ub300\",\n          \"\\u2022 \\uc815\\ubcf4\\ubcf4\\ud638 \\uad00\\ub828 \\ubd80\\ucc98 \\uc694\\uad6c \\uc0ac\\ud56d \\uc720 \\uacbd\\ud5d8\\uc790 (ISMS \\uc778\\uc99d \\uc2ec\\uc0ac \\ub4f1)\\u2022 \\ubcf4\\uc548 \\uad00\\ub828 \\uc790\\uaca9\\uc99d(\\uc815\\ubcf4\\ubcf4\\uc548\\uae30\\uc0ac, CISA, CISSP, CPPG \\ub4f1 )\\uc18c\\uc9c0\\uc790\\u2022 IT \\uad00\\ub828 \\uc11c\\ube44\\uc2a4 \\uc6b4\\uc601, \\uad00\\ub828 \\ubd80\\uc11c \\ud611\\uc5c5 \\uc720 \\uacbd\\ud5d8\\uc790\\u2022 \\uac1c\\uc778\\uc815\\ubcf4 \\uc2dc\\uc2a4\\ud15c \\uc6b4\\uc601 \\uc720 \\uacbd\\ud5d8\\uc790\",\n          \"\\u2022 ES6, Vue, React, LESS, Webpack \\uc0ac\\uc6a9 \\uacbd\\ud5d8\\u2022 1\\uac1c \\uc774\\uc0c1\\uc758 \\ubc94\\uc6a9 \\ud504\\ub85c\\uadf8\\ub798\\ubc0d \\uc5b8\\uc5b4 \\uacbd\\ud5d8.(\\uac1d\\uccb4\\uc9c0\\ud5a5 \\ubc0f JAVA \\uc120\\ud638)\\u2022 Canvas, WebGL \\uc0ac\\uc6a9 \\uacbd\\ud5d8\\u2022 \\ucef4\\ud4e8\\ud130\\uacf5\\ud559 \\uc720\\uad00 \\ud559\\uacfc \\uc11d/\\ubc15\\uc0ac \\ud559\\uc704 \\ud639\\uc740 \\uadf8\\uc5d0 \\uc900\\ud558\\ub294 \\uacbd\\ud5d8 \\ubc0f \\uc2e4\\ub825\\u2022 Git \\ud639\\uc740 \\uae30\\ud0c0 \\ubc84\\uc804\\uad00\\ub9ac \\uc2dc\\uc2a4\\ud15c\\uc744 \\uc0ac\\uc6a9\\ud55c \\ud504\\ub85c\\uc81d\\ud2b8 \\uacbd\\ud5d8\"\n        ],\n        \"semantic_type\": \"\",\n        \"description\": \"\"\n      }\n    },\n    {\n      \"column\": \"\\uc5c5\\ubb34\\uae38\\uc774\",\n      \"properties\": {\n        \"dtype\": \"number\",\n        \"std\": 10,\n        \"min\": 5,\n        \"max\": 50,\n        \"num_unique_values\": 46,\n        \"samples\": [\n          34,\n          17,\n          16\n        ],\n        \"semantic_type\": \"\",\n        \"description\": \"\"\n      }\n    },\n    {\n      \"column\": \"\\uc8fc\\uc694\\uc5c5\\ubb34_C\",\n      \"properties\": {\n        \"dtype\": \"string\",\n        \"num_unique_values\": 5901,\n        \"samples\": [\n          \"DNS \\uc124\\uc815 \\ubc31\\uc5c5\",\n          \"\\uc778\\ud504\\ub77c \\ucde8\\uc57d\\uc810 \\uc9c4\\ub2e8\",\n          \"\\uae30\\uc220 \\uc801 / \\uad00\\ub9ac \\uc801 \\uc810\\uac80 \\ubcf4\\ud638 \\uc870\\uce58 \\ud65c\\ub3d9\"\n        ],\n        \"semantic_type\": \"\",\n        \"description\": \"\"\n      }\n    },\n    {\n      \"column\": \"text\",\n      \"properties\": {\n        \"dtype\": \"string\",\n        \"num_unique_values\": 6974,\n        \"samples\": [\n          \"\\ubcf4\\uc548S/W \\uae30\\uc220\\uc9c0\\uc6d0\\ub2f4\\ub2f9\\uc790 \\uc54c\\uc57d \\ubc31\\uc2e0 \\uc81c\\ud488 \\ud3ec\\ud568 \\uc790\\uc0ac \\ubcf4\\uc548 \\uc194\\ub8e8\\uc158 \\uae30\\uc220 \\uc9c0\\uc6d0 ( \\uc720\\uc120 / \\uc6d0\\uaca9 / \\ubc29\\ubb38 )\",\n          \"\\uc815\\ubcf4\\ubcf4\\ud638&\\ubcf4\\uc548 \\ub2f4\\ub2f9\\uc790 \\ucde8\\uc57d\\uc810 \\uc9c4\\ub2e8\",\n          \"\\ubcf4\\uc548\\ucc45\\uc784\\uc790 \\ubcf4\\uc548 \\uc5c5\\uccb4 \\ucee8\\ud2b8\\ub864\"\n        ],\n        \"semantic_type\": \"\",\n        \"description\": \"\"\n      }\n    }\n  ]\n}"
            }
          },
          "metadata": {},
          "execution_count": 27
        }
      ]
    },
    {
      "cell_type": "markdown",
      "source": [
        "# 단어 벡터화"
      ],
      "metadata": {
        "id": "-ORGWAZ45EhO"
      },
      "id": "-ORGWAZ45EhO"
    },
    {
      "cell_type": "markdown",
      "source": [
        "## CountVectorizer+K-means"
      ],
      "metadata": {
        "id": "2jTITVof4ZEc"
      },
      "id": "2jTITVof4ZEc"
    },
    {
      "cell_type": "code",
      "source": [
        "from sklearn.feature_extraction.text import CountVectorizer\n",
        "vector=CountVectorizer()\n",
        "corpus=df2['text']\n",
        "bow=vector.fit_transform(corpus)"
      ],
      "metadata": {
        "id": "podsZV_b4OId"
      },
      "id": "podsZV_b4OId",
      "execution_count": null,
      "outputs": []
    },
    {
      "cell_type": "code",
      "source": [
        "columns=[]\n",
        "for k, v in sorted(vector.vocabulary_.items(), key=lambda item:item[1]):\n",
        "  columns.append(k)\n",
        "import pandas as pd\n",
        "Bow=pd.DataFrame(bow.toarray(), columns=columns)"
      ],
      "metadata": {
        "id": "cMR8LXcO49kn"
      },
      "id": "cMR8LXcO49kn",
      "execution_count": null,
      "outputs": []
    },
    {
      "cell_type": "code",
      "source": [
        "from sklearn.cluster import KMeans\n",
        "n_clusters=10\n",
        "kmeans=KMeans(n_clusters=n_clusters, random_state=0)\n",
        "kmeans.fit(Bow)\n",
        "prediction=kmeans.predict(Bow)\n",
        "df2['cluster']=prediction"
      ],
      "metadata": {
        "colab": {
          "base_uri": "https://localhost:8080/"
        },
        "id": "0WMMwseh4c54",
        "outputId": "7a1ee65a-a120-4337-f100-5da383b5f833"
      },
      "id": "0WMMwseh4c54",
      "execution_count": null,
      "outputs": [
        {
          "output_type": "stream",
          "name": "stderr",
          "text": [
            "/usr/local/lib/python3.10/dist-packages/sklearn/cluster/_kmeans.py:870: FutureWarning: The default value of `n_init` will change from 10 to 'auto' in 1.4. Set the value of `n_init` explicitly to suppress the warning\n",
            "  warnings.warn(\n",
            "<ipython-input-32-5a43fcecdf22>:6: SettingWithCopyWarning: \n",
            "A value is trying to be set on a copy of a slice from a DataFrame.\n",
            "Try using .loc[row_indexer,col_indexer] = value instead\n",
            "\n",
            "See the caveats in the documentation: https://pandas.pydata.org/pandas-docs/stable/user_guide/indexing.html#returning-a-view-versus-a-copy\n",
            "  df2['cluster']=prediction\n"
          ]
        }
      ]
    },
    {
      "cell_type": "code",
      "source": [
        "kmeans.inertia_"
      ],
      "metadata": {
        "colab": {
          "base_uri": "https://localhost:8080/"
        },
        "id": "Kw1fdg9w4hgx",
        "outputId": "f3704087-aa03-426e-c5a9-98bf4f528630"
      },
      "id": "Kw1fdg9w4hgx",
      "execution_count": null,
      "outputs": [
        {
          "output_type": "execute_result",
          "data": {
            "text/plain": [
              "63097.81685086642"
            ]
          },
          "metadata": {},
          "execution_count": 33
        }
      ]
    },
    {
      "cell_type": "code",
      "source": [
        "from sklearn.metrics import silhouette_score\n",
        "score = silhouette_score(Bow, prediction)\n",
        "score"
      ],
      "metadata": {
        "id": "SDzEKm3J4hjr",
        "colab": {
          "base_uri": "https://localhost:8080/"
        },
        "outputId": "3f793b15-f183-454b-8db5-a21841fe735d"
      },
      "id": "SDzEKm3J4hjr",
      "execution_count": null,
      "outputs": [
        {
          "output_type": "execute_result",
          "data": {
            "text/plain": [
              "0.03841564718261289"
            ]
          },
          "metadata": {},
          "execution_count": 34
        }
      ]
    },
    {
      "cell_type": "markdown",
      "source": [
        "#TF-IDF+Kmeans"
      ],
      "metadata": {
        "id": "J_jy8MCf7Q_K"
      },
      "id": "J_jy8MCf7Q_K"
    },
    {
      "cell_type": "code",
      "source": [
        "from sklearn.feature_extraction.text import TfidfVectorizer\n",
        "corpus=df2['text']\n",
        "tfidf=TfidfVectorizer().fit(corpus)\n",
        "columns=[]\n",
        "for k, v in sorted(tfidf.vocabulary_.items(), key=lambda item:item[1]):\n",
        "  columns.append(k)\n",
        "import pandas as pd\n",
        "tfidf=pd.DataFrame(tfidf.transform(corpus).toarray(), columns=columns)"
      ],
      "metadata": {
        "id": "XWYkkpoQ5eUs"
      },
      "id": "XWYkkpoQ5eUs",
      "execution_count": null,
      "outputs": []
    },
    {
      "cell_type": "code",
      "source": [
        "from sklearn.cluster import KMeans\n",
        "n_clusters=10\n",
        "kmeans=KMeans(n_clusters=n_clusters, random_state=0)\n",
        "kmeans.fit(tfidf)\n",
        "prediction=kmeans.predict(tfidf)\n",
        "df2['cluster']=prediction"
      ],
      "metadata": {
        "colab": {
          "base_uri": "https://localhost:8080/"
        },
        "id": "bEpy3IDr5eXT",
        "outputId": "c69c6a0b-37a4-43d6-bf8f-9b62da4a9a07"
      },
      "id": "bEpy3IDr5eXT",
      "execution_count": null,
      "outputs": [
        {
          "output_type": "stream",
          "name": "stderr",
          "text": [
            "/usr/local/lib/python3.10/dist-packages/sklearn/cluster/_kmeans.py:870: FutureWarning: The default value of `n_init` will change from 10 to 'auto' in 1.4. Set the value of `n_init` explicitly to suppress the warning\n",
            "  warnings.warn(\n",
            "<ipython-input-36-278be200108b>:6: SettingWithCopyWarning: \n",
            "A value is trying to be set on a copy of a slice from a DataFrame.\n",
            "Try using .loc[row_indexer,col_indexer] = value instead\n",
            "\n",
            "See the caveats in the documentation: https://pandas.pydata.org/pandas-docs/stable/user_guide/indexing.html#returning-a-view-versus-a-copy\n",
            "  df2['cluster']=prediction\n"
          ]
        }
      ]
    },
    {
      "cell_type": "code",
      "source": [
        "kmeans.inertia_"
      ],
      "metadata": {
        "colab": {
          "base_uri": "https://localhost:8080/"
        },
        "id": "t-3SuNzY5eZv",
        "outputId": "7d43b2fb-fec8-4eee-8b67-e8188c9ea070"
      },
      "id": "t-3SuNzY5eZv",
      "execution_count": null,
      "outputs": [
        {
          "output_type": "execute_result",
          "data": {
            "text/plain": [
              "6478.556561268265"
            ]
          },
          "metadata": {},
          "execution_count": 37
        }
      ]
    },
    {
      "cell_type": "code",
      "source": [
        "from sklearn.metrics import silhouette_score\n",
        "score = silhouette_score(tfidf, prediction)\n",
        "score"
      ],
      "metadata": {
        "id": "jrrpdx3g5ece",
        "colab": {
          "base_uri": "https://localhost:8080/"
        },
        "outputId": "a29155e0-f22d-4b89-881a-201a76be4f36"
      },
      "id": "jrrpdx3g5ece",
      "execution_count": null,
      "outputs": [
        {
          "output_type": "execute_result",
          "data": {
            "text/plain": [
              "0.018534573049023048"
            ]
          },
          "metadata": {},
          "execution_count": 38
        }
      ]
    },
    {
      "cell_type": "markdown",
      "source": [
        "# TF-IDF + 한국어토큰화+KMeans"
      ],
      "metadata": {
        "id": "BWVHLJG9_GPu"
      },
      "id": "BWVHLJG9_GPu"
    },
    {
      "cell_type": "code",
      "source": [
        "pip install konlpy"
      ],
      "metadata": {
        "colab": {
          "base_uri": "https://localhost:8080/"
        },
        "id": "BiTUUOyZDXlW",
        "outputId": "302fa797-8f72-4995-d6c6-8e60d877d4c6"
      },
      "id": "BiTUUOyZDXlW",
      "execution_count": null,
      "outputs": [
        {
          "output_type": "stream",
          "name": "stdout",
          "text": [
            "Requirement already satisfied: konlpy in /usr/local/lib/python3.10/dist-packages (0.6.0)\n",
            "Requirement already satisfied: JPype1>=0.7.0 in /usr/local/lib/python3.10/dist-packages (from konlpy) (1.5.0)\n",
            "Requirement already satisfied: lxml>=4.1.0 in /usr/local/lib/python3.10/dist-packages (from konlpy) (4.9.4)\n",
            "Requirement already satisfied: numpy>=1.6 in /usr/local/lib/python3.10/dist-packages (from konlpy) (1.25.2)\n",
            "Requirement already satisfied: packaging in /usr/local/lib/python3.10/dist-packages (from JPype1>=0.7.0->konlpy) (24.0)\n"
          ]
        }
      ]
    },
    {
      "cell_type": "code",
      "source": [
        "from konlpy.tag import Kkma\n",
        "import numpy as np\n",
        "from sklearn.cluster import KMeans\n",
        "\n",
        "kkma=Kkma()\n",
        "\n",
        "text_list=df2['text']\n",
        "\n",
        "def tokenize_korean_text(text_list):\n",
        "    return [\" \".join(kkma.morphs(text)) for text in text_list]\n",
        "\n",
        "tokenized_data = tokenize_korean_text(text_list)"
      ],
      "metadata": {
        "id": "whaK3ABJ7gOe"
      },
      "id": "whaK3ABJ7gOe",
      "execution_count": null,
      "outputs": []
    },
    {
      "cell_type": "code",
      "source": [
        "from sklearn.feature_extraction.text import TfidfVectorizer\n",
        "tfidf=TfidfVectorizer().fit(tokenized_data)\n",
        "columns=[]\n",
        "for k, v in sorted(tfidf.vocabulary_.items(), key=lambda item:item[1]):\n",
        "  columns.append(k)\n",
        "import pandas as pd\n",
        "tfidf=pd.DataFrame(tfidf.transform(tokenized_data).toarray(), columns=columns)"
      ],
      "metadata": {
        "id": "oa5KubpiE39h"
      },
      "id": "oa5KubpiE39h",
      "execution_count": null,
      "outputs": []
    },
    {
      "cell_type": "code",
      "source": [
        "from sklearn.cluster import KMeans\n",
        "n_clusters=10\n",
        "kmeans=KMeans(n_clusters=n_clusters, random_state=0)\n",
        "kmeans.fit(tfidf)\n",
        "prediction=kmeans.predict(tfidf)\n",
        "df2['cluster']=prediction"
      ],
      "metadata": {
        "colab": {
          "base_uri": "https://localhost:8080/"
        },
        "id": "Bab87t4GE4AQ",
        "outputId": "701c8296-f2a0-497b-b207-caeb65e51415"
      },
      "id": "Bab87t4GE4AQ",
      "execution_count": null,
      "outputs": [
        {
          "output_type": "stream",
          "name": "stderr",
          "text": [
            "/usr/local/lib/python3.10/dist-packages/sklearn/cluster/_kmeans.py:870: FutureWarning: The default value of `n_init` will change from 10 to 'auto' in 1.4. Set the value of `n_init` explicitly to suppress the warning\n",
            "  warnings.warn(\n",
            "<ipython-input-42-278be200108b>:6: SettingWithCopyWarning: \n",
            "A value is trying to be set on a copy of a slice from a DataFrame.\n",
            "Try using .loc[row_indexer,col_indexer] = value instead\n",
            "\n",
            "See the caveats in the documentation: https://pandas.pydata.org/pandas-docs/stable/user_guide/indexing.html#returning-a-view-versus-a-copy\n",
            "  df2['cluster']=prediction\n"
          ]
        }
      ]
    },
    {
      "cell_type": "code",
      "source": [
        "kmeans.inertia_"
      ],
      "metadata": {
        "colab": {
          "base_uri": "https://localhost:8080/"
        },
        "id": "kaUKzEYhDVNW",
        "outputId": "ff56b9c4-3641-487a-cebd-630bcd2c1d63"
      },
      "id": "kaUKzEYhDVNW",
      "execution_count": null,
      "outputs": [
        {
          "output_type": "execute_result",
          "data": {
            "text/plain": [
              "6170.384979221362"
            ]
          },
          "metadata": {},
          "execution_count": 43
        }
      ]
    },
    {
      "cell_type": "code",
      "source": [
        "from sklearn.metrics import silhouette_score\n",
        "score = silhouette_score(tfidf, prediction)\n",
        "score"
      ],
      "metadata": {
        "id": "_8XiSTilOQC0",
        "colab": {
          "base_uri": "https://localhost:8080/"
        },
        "outputId": "253aed20-43e7-47d0-837b-b341fe9654be"
      },
      "id": "_8XiSTilOQC0",
      "execution_count": null,
      "outputs": [
        {
          "output_type": "execute_result",
          "data": {
            "text/plain": [
              "0.01776123450820275"
            ]
          },
          "metadata": {},
          "execution_count": 44
        }
      ]
    },
    {
      "cell_type": "markdown",
      "source": [
        "# TF-idf(sublinear_tf 적용) +한국어토큰화+K-means"
      ],
      "metadata": {
        "id": "e9uGRJC8rUYK"
      },
      "id": "e9uGRJC8rUYK"
    },
    {
      "cell_type": "code",
      "source": [
        "pip install konlpy"
      ],
      "metadata": {
        "colab": {
          "base_uri": "https://localhost:8080/"
        },
        "id": "KNEqNzMAreYg",
        "outputId": "454a0289-0383-42f1-f16f-3718ea08a392"
      },
      "id": "KNEqNzMAreYg",
      "execution_count": null,
      "outputs": [
        {
          "output_type": "stream",
          "name": "stdout",
          "text": [
            "Requirement already satisfied: konlpy in /usr/local/lib/python3.10/dist-packages (0.6.0)\n",
            "Requirement already satisfied: JPype1>=0.7.0 in /usr/local/lib/python3.10/dist-packages (from konlpy) (1.5.0)\n",
            "Requirement already satisfied: lxml>=4.1.0 in /usr/local/lib/python3.10/dist-packages (from konlpy) (4.9.4)\n",
            "Requirement already satisfied: numpy>=1.6 in /usr/local/lib/python3.10/dist-packages (from konlpy) (1.25.2)\n",
            "Requirement already satisfied: packaging in /usr/local/lib/python3.10/dist-packages (from JPype1>=0.7.0->konlpy) (24.0)\n"
          ]
        }
      ]
    },
    {
      "cell_type": "code",
      "source": [
        "from konlpy.tag import Kkma\n",
        "import numpy as np\n",
        "from sklearn.cluster import KMeans\n",
        "\n",
        "kkma=Kkma()\n",
        "\n",
        "text_list=df2['text']\n",
        "\n",
        "def tokenize_korean_text(text_list):\n",
        "    return [\" \".join(kkma.morphs(text)) for text in text_list]\n",
        "\n",
        "tokenized_data = tokenize_korean_text(text_list)"
      ],
      "metadata": {
        "id": "9aTxoeScree5"
      },
      "id": "9aTxoeScree5",
      "execution_count": null,
      "outputs": []
    },
    {
      "cell_type": "code",
      "source": [
        "from sklearn.feature_extraction.text import TfidfVectorizer\n",
        "tfidf=TfidfVectorizer(sublinear_tf=True).fit(tokenized_data) #sublinear_tf : smoothing 효과\n",
        "columns=[]\n",
        "for k, v in sorted(tfidf.vocabulary_.items(), key=lambda item:item[1]):\n",
        "  columns.append(k)\n",
        "import pandas as pd\n",
        "tfidf=pd.DataFrame(tfidf.transform(tokenized_data).toarray(), columns=columns)"
      ],
      "metadata": {
        "id": "qyWdyd9qrhXM"
      },
      "id": "qyWdyd9qrhXM",
      "execution_count": null,
      "outputs": []
    },
    {
      "cell_type": "code",
      "source": [
        "from sklearn.cluster import KMeans\n",
        "n_clusters=10\n",
        "kmeans=KMeans(n_clusters=n_clusters, random_state=0)\n",
        "kmeans.fit(tfidf)\n",
        "prediction=kmeans.predict(tfidf)\n",
        "df2['cluster']=prediction"
      ],
      "metadata": {
        "colab": {
          "base_uri": "https://localhost:8080/"
        },
        "id": "5qaDLQCJrhc8",
        "outputId": "cea4f5e1-d1cf-4cbc-ccb2-8bb2df8f4977"
      },
      "id": "5qaDLQCJrhc8",
      "execution_count": null,
      "outputs": [
        {
          "output_type": "stream",
          "name": "stderr",
          "text": [
            "/usr/local/lib/python3.10/dist-packages/sklearn/cluster/_kmeans.py:870: FutureWarning: The default value of `n_init` will change from 10 to 'auto' in 1.4. Set the value of `n_init` explicitly to suppress the warning\n",
            "  warnings.warn(\n",
            "<ipython-input-48-278be200108b>:6: SettingWithCopyWarning: \n",
            "A value is trying to be set on a copy of a slice from a DataFrame.\n",
            "Try using .loc[row_indexer,col_indexer] = value instead\n",
            "\n",
            "See the caveats in the documentation: https://pandas.pydata.org/pandas-docs/stable/user_guide/indexing.html#returning-a-view-versus-a-copy\n",
            "  df2['cluster']=prediction\n"
          ]
        }
      ]
    },
    {
      "cell_type": "code",
      "source": [
        "kmeans.inertia_"
      ],
      "metadata": {
        "colab": {
          "base_uri": "https://localhost:8080/"
        },
        "id": "MjXV55_brhkR",
        "outputId": "db2c5380-fbad-4842-ab16-873a43926efb"
      },
      "id": "MjXV55_brhkR",
      "execution_count": null,
      "outputs": [
        {
          "output_type": "execute_result",
          "data": {
            "text/plain": [
              "6235.233320089883"
            ]
          },
          "metadata": {},
          "execution_count": 49
        }
      ]
    },
    {
      "cell_type": "code",
      "source": [
        "from sklearn.metrics import silhouette_score\n",
        "score = silhouette_score(tfidf, prediction)\n",
        "score"
      ],
      "metadata": {
        "colab": {
          "base_uri": "https://localhost:8080/"
        },
        "id": "ITQWyUsErek1",
        "outputId": "6fae0056-b546-4376-f69d-613b872ae0d1"
      },
      "id": "ITQWyUsErek1",
      "execution_count": null,
      "outputs": [
        {
          "output_type": "execute_result",
          "data": {
            "text/plain": [
              "0.022068747198561185"
            ]
          },
          "metadata": {},
          "execution_count": 50
        }
      ]
    },
    {
      "cell_type": "markdown",
      "source": [
        "# TF-IDF 조정해보기"
      ],
      "metadata": {
        "id": "9Cu7wg7lSNvw"
      },
      "id": "9Cu7wg7lSNvw"
    },
    {
      "cell_type": "code",
      "source": [
        "from konlpy.tag import Kkma\n",
        "import numpy as np\n",
        "from sklearn.cluster import KMeans\n",
        "\n",
        "kkma=Kkma()\n",
        "\n",
        "text_list=df2['text']\n",
        "\n",
        "def tokenize_korean_text(text_list):\n",
        "    return [\" \".join(kkma.morphs(text)) for text in text_list]\n",
        "\n",
        "tokenized_data = tokenize_korean_text(text_list)"
      ],
      "metadata": {
        "id": "65aROFdMSUMc"
      },
      "id": "65aROFdMSUMc",
      "execution_count": null,
      "outputs": []
    },
    {
      "cell_type": "code",
      "source": [
        "from sklearn.feature_extraction.text import TfidfVectorizer\n",
        "tfidf=TfidfVectorizer(max_features=1000, min_df=5, max_df=0.9).fit(tokenized_data) #설정값 변경해보기\n",
        "columns=[]\n",
        "for k, v in sorted(tfidf.vocabulary_.items(), key=lambda item:item[1]):\n",
        "  columns.append(k)\n",
        "import pandas as pd\n",
        "tfidf=pd.DataFrame(tfidf.transform(tokenized_data).toarray(), columns=columns)"
      ],
      "metadata": {
        "id": "SxE4OEoDSXBm"
      },
      "id": "SxE4OEoDSXBm",
      "execution_count": null,
      "outputs": []
    },
    {
      "cell_type": "code",
      "source": [
        "from sklearn.cluster import KMeans\n",
        "n_clusters=10\n",
        "kmeans=KMeans(n_clusters=n_clusters, random_state=0)\n",
        "kmeans.fit(tfidf)\n",
        "prediction=kmeans.predict(tfidf)\n",
        "df2['cluster']=prediction"
      ],
      "metadata": {
        "colab": {
          "base_uri": "https://localhost:8080/"
        },
        "id": "X1AdmQqZSff8",
        "outputId": "916db171-e5b2-40ae-9004-b16e53d6721b"
      },
      "id": "X1AdmQqZSff8",
      "execution_count": null,
      "outputs": [
        {
          "output_type": "stream",
          "name": "stderr",
          "text": [
            "/usr/local/lib/python3.10/dist-packages/sklearn/cluster/_kmeans.py:870: FutureWarning: The default value of `n_init` will change from 10 to 'auto' in 1.4. Set the value of `n_init` explicitly to suppress the warning\n",
            "  warnings.warn(\n",
            "<ipython-input-65-278be200108b>:6: SettingWithCopyWarning: \n",
            "A value is trying to be set on a copy of a slice from a DataFrame.\n",
            "Try using .loc[row_indexer,col_indexer] = value instead\n",
            "\n",
            "See the caveats in the documentation: https://pandas.pydata.org/pandas-docs/stable/user_guide/indexing.html#returning-a-view-versus-a-copy\n",
            "  df2['cluster']=prediction\n"
          ]
        }
      ]
    },
    {
      "cell_type": "code",
      "source": [
        "kmeans.inertia_"
      ],
      "metadata": {
        "colab": {
          "base_uri": "https://localhost:8080/"
        },
        "id": "U4zE8L-iSiT5",
        "outputId": "e1aab6e0-3078-4556-9232-4105a73c2000"
      },
      "id": "U4zE8L-iSiT5",
      "execution_count": null,
      "outputs": [
        {
          "output_type": "execute_result",
          "data": {
            "text/plain": [
              "6080.693591904008"
            ]
          },
          "metadata": {},
          "execution_count": 66
        }
      ]
    },
    {
      "cell_type": "code",
      "source": [
        "from sklearn.metrics import silhouette_score\n",
        "score = silhouette_score(tfidf, prediction)"
      ],
      "metadata": {
        "id": "KAGDphbb0VPB"
      },
      "id": "KAGDphbb0VPB",
      "execution_count": null,
      "outputs": []
    },
    {
      "cell_type": "code",
      "source": [
        "score"
      ],
      "metadata": {
        "colab": {
          "base_uri": "https://localhost:8080/"
        },
        "id": "VFlLhYIv78wI",
        "outputId": "be88943f-53a7-48d2-9abe-b6490befa5d9"
      },
      "id": "VFlLhYIv78wI",
      "execution_count": null,
      "outputs": [
        {
          "output_type": "execute_result",
          "data": {
            "text/plain": [
              "0.030802381593239503"
            ]
          },
          "metadata": {},
          "execution_count": 68
        }
      ]
    },
    {
      "cell_type": "code",
      "source": [
        "df2.head(10)"
      ],
      "metadata": {
        "id": "WrnxSYCiAPcA",
        "colab": {
          "base_uri": "https://localhost:8080/",
          "height": 779
        },
        "outputId": "04d77d77-a67d-483d-ebb6-8421fe3060ce"
      },
      "id": "WrnxSYCiAPcA",
      "execution_count": null,
      "outputs": [
        {
          "output_type": "execute_result",
          "data": {
            "text/plain": [
              "                기업명                    채용제목                            주요업무  \\\n",
              "1          마이뮤직테이스트        Backend Engineer                      보안과 데이터 보호   \n",
              "10    미미박스(MEMEBOX)         DevOps Engineer                      서비스망 보안 확보   \n",
              "16    미미박스(MEMEBOX)  Database Administrator          회원 DB에 대한 보안 관련 업무를 지원   \n",
              "20         보닥(아이지넷)                 백엔드 개발자        서버 정책 수립 가능자 (보안이나 백업 등)   \n",
              "23  이스트소프트(ESTsoft)            보안서비스 서버 개발자             신규 프로젝트 서버 개발 (40%)   \n",
              "24  이스트소프트(ESTsoft)            보안서비스 서버 개발자  신규 프로젝트 관련 DB 설계 및 튜닝 작업 (30%)   \n",
              "25            뱅크샐러드                 보안 엔지니어     뱅크샐러드 서비스의 안정적 운영을 위한 보안 관리   \n",
              "26            뱅크샐러드                 보안 엔지니어     뱅크샐러드 시스템 및 서비스 취약점 점검 및 분석   \n",
              "27            뱅크샐러드                 보안 엔지니어         뱅크샐러드 이용자 개인정보 보호 관련 업무   \n",
              "28            뱅크샐러드                 보안 엔지니어         뱅크샐러드 정보보호 관리체계 구축 및 관리   \n",
              "\n",
              "                                                 지원자격  \\\n",
              "1   - 3년이상의 Python 외의 언어로 웹서버 개발 혹은 Python으로 웹서버 개...   \n",
              "10  ᆞ AWS 기반의 Container 환경 구축 및 CI/CD 등 자동화 관련 기솔에...   \n",
              "16  ᆞ AWS RDS (Mysql) 사용 경험ᆞ Mysql 5년 이상 사용 경험ᆞ Tr...   \n",
              "20  •\\tAWS 에 능숙한 사람•\\t서버 자동화 스크립트 및 전사 통합 개발환경 구성에...   \n",
              "23   • C++ 에 대한 이해가 있는 분 • 네트워크 프로그래밍에 대한 기본 지식이 있...   \n",
              "24   • C++ 에 대한 이해가 있는 분 • 네트워크 프로그래밍에 대한 기본 지식이 있...   \n",
              "25  • 기업 보안 관리 2년 이상의 경력자 • 기업 보안 시스템/체계 구축 및 운영 경...   \n",
              "26  • 기업 보안 관리 2년 이상의 경력자 • 기업 보안 시스템/체계 구축 및 운영 경...   \n",
              "27  • 기업 보안 관리 2년 이상의 경력자 • 기업 보안 시스템/체계 구축 및 운영 경...   \n",
              "28  • 기업 보안 관리 2년 이상의 경력자 • 기업 보안 시스템/체계 구축 및 운영 경...   \n",
              "\n",
              "                                                 우대사항  업무길이  \\\n",
              "1   - 새로운 기술에 대한 적극적인 관심- 기존 솔루션을 유지/보수하면서 적극적으로 문...    10   \n",
              "10  ᆞ AWS Certificate 보유ᆞ IT 프로젝트 아키텍트 경험ᆞ JAVA/PH...    10   \n",
              "16                  ᆞ DB 장애 복구 경험ᆞ 1가지 이상 NoSQL 사용 경험    22   \n",
              "20                           • 자유롭고 창의적으로 업무할 수 있습니다.    24   \n",
              "23   • 멀티 플랫폼 개발(Windows, Linux 등)이 가능한 분 우대 • 대용량...    19   \n",
              "24   • 멀티 플랫폼 개발(Windows, Linux 등)이 가능한 분 우대 • 대용량...    30   \n",
              "25  • ISMS 등 보안 관련 인증 진행 경험자 • 보안 관련 수상 경력자 • 보안 관...    27   \n",
              "26  • ISMS 등 보안 관련 인증 진행 경험자 • 보안 관련 수상 경력자 • 보안 관...    27   \n",
              "27  • ISMS 등 보안 관련 인증 진행 경험자 • 보안 관련 수상 경력자 • 보안 관...    23   \n",
              "28  • ISMS 등 보안 관련 인증 진행 경험자 • 보안 관련 수상 경력자 • 보안 관...    23   \n",
              "\n",
              "                            주요업무_C  \\\n",
              "1                        보안 데이터 보호   \n",
              "10                     서비스 망 보안 확보   \n",
              "16            회원 DB 대한 보안 관련 업무 지원   \n",
              "20         서버 정책 수립 가능 자 ( 보안 백업 )   \n",
              "23           신규 프로젝트 서버 개발 ( 40% )   \n",
              "24  신규 프로젝트 관련 DB 설계 튜닝 작업 ( 30% )   \n",
              "25      뱅크 샐러드 서비스 안정 적 운영 위 보안 관리   \n",
              "26        뱅크 샐러드 시스템 서비스 취약점 점검 분석   \n",
              "27        뱅크 샐러드 이용자 개인정보 보호 관련 업무   \n",
              "28         뱅크 샐러드 정보보호 관리 체계 구축 관리   \n",
              "\n",
              "                                           text  cluster  \n",
              "1                    Backend Engineer 보안 데이터 보호        2  \n",
              "10                  DevOps Engineer 서비스 망 보안 확보        2  \n",
              "16  Database Administrator 회원 DB 대한 보안 관련 업무 지원        2  \n",
              "20              백엔드 개발자 서버 정책 수립 가능 자 ( 보안 백업 )        8  \n",
              "23           보안서비스 서버 개발자 신규 프로젝트 서버 개발 ( 40% )        8  \n",
              "24  보안서비스 서버 개발자 신규 프로젝트 관련 DB 설계 튜닝 작업 ( 30% )        2  \n",
              "25           보안 엔지니어 뱅크 샐러드 서비스 안정 적 운영 위 보안 관리        2  \n",
              "26             보안 엔지니어 뱅크 샐러드 시스템 서비스 취약점 점검 분석        4  \n",
              "27             보안 엔지니어 뱅크 샐러드 이용자 개인정보 보호 관련 업무        2  \n",
              "28              보안 엔지니어 뱅크 샐러드 정보보호 관리 체계 구축 관리        2  "
            ],
            "text/html": [
              "\n",
              "  <div id=\"df-058c38e8-64a1-47fb-8e2e-f7bad0291870\" class=\"colab-df-container\">\n",
              "    <div>\n",
              "<style scoped>\n",
              "    .dataframe tbody tr th:only-of-type {\n",
              "        vertical-align: middle;\n",
              "    }\n",
              "\n",
              "    .dataframe tbody tr th {\n",
              "        vertical-align: top;\n",
              "    }\n",
              "\n",
              "    .dataframe thead th {\n",
              "        text-align: right;\n",
              "    }\n",
              "</style>\n",
              "<table border=\"1\" class=\"dataframe\">\n",
              "  <thead>\n",
              "    <tr style=\"text-align: right;\">\n",
              "      <th></th>\n",
              "      <th>기업명</th>\n",
              "      <th>채용제목</th>\n",
              "      <th>주요업무</th>\n",
              "      <th>지원자격</th>\n",
              "      <th>우대사항</th>\n",
              "      <th>업무길이</th>\n",
              "      <th>주요업무_C</th>\n",
              "      <th>text</th>\n",
              "      <th>cluster</th>\n",
              "    </tr>\n",
              "  </thead>\n",
              "  <tbody>\n",
              "    <tr>\n",
              "      <th>1</th>\n",
              "      <td>마이뮤직테이스트</td>\n",
              "      <td>Backend Engineer</td>\n",
              "      <td>보안과 데이터 보호</td>\n",
              "      <td>- 3년이상의 Python 외의 언어로 웹서버 개발 혹은 Python으로 웹서버 개...</td>\n",
              "      <td>- 새로운 기술에 대한 적극적인 관심- 기존 솔루션을 유지/보수하면서 적극적으로 문...</td>\n",
              "      <td>10</td>\n",
              "      <td>보안 데이터 보호</td>\n",
              "      <td>Backend Engineer 보안 데이터 보호</td>\n",
              "      <td>2</td>\n",
              "    </tr>\n",
              "    <tr>\n",
              "      <th>10</th>\n",
              "      <td>미미박스(MEMEBOX)</td>\n",
              "      <td>DevOps Engineer</td>\n",
              "      <td>서비스망 보안 확보</td>\n",
              "      <td>ᆞ AWS 기반의 Container 환경 구축 및 CI/CD 등 자동화 관련 기솔에...</td>\n",
              "      <td>ᆞ AWS Certificate 보유ᆞ IT 프로젝트 아키텍트 경험ᆞ JAVA/PH...</td>\n",
              "      <td>10</td>\n",
              "      <td>서비스 망 보안 확보</td>\n",
              "      <td>DevOps Engineer 서비스 망 보안 확보</td>\n",
              "      <td>2</td>\n",
              "    </tr>\n",
              "    <tr>\n",
              "      <th>16</th>\n",
              "      <td>미미박스(MEMEBOX)</td>\n",
              "      <td>Database Administrator</td>\n",
              "      <td>회원 DB에 대한 보안 관련 업무를 지원</td>\n",
              "      <td>ᆞ AWS RDS (Mysql) 사용 경험ᆞ Mysql 5년 이상 사용 경험ᆞ Tr...</td>\n",
              "      <td>ᆞ DB 장애 복구 경험ᆞ 1가지 이상 NoSQL 사용 경험</td>\n",
              "      <td>22</td>\n",
              "      <td>회원 DB 대한 보안 관련 업무 지원</td>\n",
              "      <td>Database Administrator 회원 DB 대한 보안 관련 업무 지원</td>\n",
              "      <td>2</td>\n",
              "    </tr>\n",
              "    <tr>\n",
              "      <th>20</th>\n",
              "      <td>보닥(아이지넷)</td>\n",
              "      <td>백엔드 개발자</td>\n",
              "      <td>서버 정책 수립 가능자 (보안이나 백업 등)</td>\n",
              "      <td>•\\tAWS 에 능숙한 사람•\\t서버 자동화 스크립트 및 전사 통합 개발환경 구성에...</td>\n",
              "      <td>• 자유롭고 창의적으로 업무할 수 있습니다.</td>\n",
              "      <td>24</td>\n",
              "      <td>서버 정책 수립 가능 자 ( 보안 백업 )</td>\n",
              "      <td>백엔드 개발자 서버 정책 수립 가능 자 ( 보안 백업 )</td>\n",
              "      <td>8</td>\n",
              "    </tr>\n",
              "    <tr>\n",
              "      <th>23</th>\n",
              "      <td>이스트소프트(ESTsoft)</td>\n",
              "      <td>보안서비스 서버 개발자</td>\n",
              "      <td>신규 프로젝트 서버 개발 (40%)</td>\n",
              "      <td>• C++ 에 대한 이해가 있는 분 • 네트워크 프로그래밍에 대한 기본 지식이 있...</td>\n",
              "      <td>• 멀티 플랫폼 개발(Windows, Linux 등)이 가능한 분 우대 • 대용량...</td>\n",
              "      <td>19</td>\n",
              "      <td>신규 프로젝트 서버 개발 ( 40% )</td>\n",
              "      <td>보안서비스 서버 개발자 신규 프로젝트 서버 개발 ( 40% )</td>\n",
              "      <td>8</td>\n",
              "    </tr>\n",
              "    <tr>\n",
              "      <th>24</th>\n",
              "      <td>이스트소프트(ESTsoft)</td>\n",
              "      <td>보안서비스 서버 개발자</td>\n",
              "      <td>신규 프로젝트 관련 DB 설계 및 튜닝 작업 (30%)</td>\n",
              "      <td>• C++ 에 대한 이해가 있는 분 • 네트워크 프로그래밍에 대한 기본 지식이 있...</td>\n",
              "      <td>• 멀티 플랫폼 개발(Windows, Linux 등)이 가능한 분 우대 • 대용량...</td>\n",
              "      <td>30</td>\n",
              "      <td>신규 프로젝트 관련 DB 설계 튜닝 작업 ( 30% )</td>\n",
              "      <td>보안서비스 서버 개발자 신규 프로젝트 관련 DB 설계 튜닝 작업 ( 30% )</td>\n",
              "      <td>2</td>\n",
              "    </tr>\n",
              "    <tr>\n",
              "      <th>25</th>\n",
              "      <td>뱅크샐러드</td>\n",
              "      <td>보안 엔지니어</td>\n",
              "      <td>뱅크샐러드 서비스의 안정적 운영을 위한 보안 관리</td>\n",
              "      <td>• 기업 보안 관리 2년 이상의 경력자 • 기업 보안 시스템/체계 구축 및 운영 경...</td>\n",
              "      <td>• ISMS 등 보안 관련 인증 진행 경험자 • 보안 관련 수상 경력자 • 보안 관...</td>\n",
              "      <td>27</td>\n",
              "      <td>뱅크 샐러드 서비스 안정 적 운영 위 보안 관리</td>\n",
              "      <td>보안 엔지니어 뱅크 샐러드 서비스 안정 적 운영 위 보안 관리</td>\n",
              "      <td>2</td>\n",
              "    </tr>\n",
              "    <tr>\n",
              "      <th>26</th>\n",
              "      <td>뱅크샐러드</td>\n",
              "      <td>보안 엔지니어</td>\n",
              "      <td>뱅크샐러드 시스템 및 서비스 취약점 점검 및 분석</td>\n",
              "      <td>• 기업 보안 관리 2년 이상의 경력자 • 기업 보안 시스템/체계 구축 및 운영 경...</td>\n",
              "      <td>• ISMS 등 보안 관련 인증 진행 경험자 • 보안 관련 수상 경력자 • 보안 관...</td>\n",
              "      <td>27</td>\n",
              "      <td>뱅크 샐러드 시스템 서비스 취약점 점검 분석</td>\n",
              "      <td>보안 엔지니어 뱅크 샐러드 시스템 서비스 취약점 점검 분석</td>\n",
              "      <td>4</td>\n",
              "    </tr>\n",
              "    <tr>\n",
              "      <th>27</th>\n",
              "      <td>뱅크샐러드</td>\n",
              "      <td>보안 엔지니어</td>\n",
              "      <td>뱅크샐러드 이용자 개인정보 보호 관련 업무</td>\n",
              "      <td>• 기업 보안 관리 2년 이상의 경력자 • 기업 보안 시스템/체계 구축 및 운영 경...</td>\n",
              "      <td>• ISMS 등 보안 관련 인증 진행 경험자 • 보안 관련 수상 경력자 • 보안 관...</td>\n",
              "      <td>23</td>\n",
              "      <td>뱅크 샐러드 이용자 개인정보 보호 관련 업무</td>\n",
              "      <td>보안 엔지니어 뱅크 샐러드 이용자 개인정보 보호 관련 업무</td>\n",
              "      <td>2</td>\n",
              "    </tr>\n",
              "    <tr>\n",
              "      <th>28</th>\n",
              "      <td>뱅크샐러드</td>\n",
              "      <td>보안 엔지니어</td>\n",
              "      <td>뱅크샐러드 정보보호 관리체계 구축 및 관리</td>\n",
              "      <td>• 기업 보안 관리 2년 이상의 경력자 • 기업 보안 시스템/체계 구축 및 운영 경...</td>\n",
              "      <td>• ISMS 등 보안 관련 인증 진행 경험자 • 보안 관련 수상 경력자 • 보안 관...</td>\n",
              "      <td>23</td>\n",
              "      <td>뱅크 샐러드 정보보호 관리 체계 구축 관리</td>\n",
              "      <td>보안 엔지니어 뱅크 샐러드 정보보호 관리 체계 구축 관리</td>\n",
              "      <td>2</td>\n",
              "    </tr>\n",
              "  </tbody>\n",
              "</table>\n",
              "</div>\n",
              "    <div class=\"colab-df-buttons\">\n",
              "\n",
              "  <div class=\"colab-df-container\">\n",
              "    <button class=\"colab-df-convert\" onclick=\"convertToInteractive('df-058c38e8-64a1-47fb-8e2e-f7bad0291870')\"\n",
              "            title=\"Convert this dataframe to an interactive table.\"\n",
              "            style=\"display:none;\">\n",
              "\n",
              "  <svg xmlns=\"http://www.w3.org/2000/svg\" height=\"24px\" viewBox=\"0 -960 960 960\">\n",
              "    <path d=\"M120-120v-720h720v720H120Zm60-500h600v-160H180v160Zm220 220h160v-160H400v160Zm0 220h160v-160H400v160ZM180-400h160v-160H180v160Zm440 0h160v-160H620v160ZM180-180h160v-160H180v160Zm440 0h160v-160H620v160Z\"/>\n",
              "  </svg>\n",
              "    </button>\n",
              "\n",
              "  <style>\n",
              "    .colab-df-container {\n",
              "      display:flex;\n",
              "      gap: 12px;\n",
              "    }\n",
              "\n",
              "    .colab-df-convert {\n",
              "      background-color: #E8F0FE;\n",
              "      border: none;\n",
              "      border-radius: 50%;\n",
              "      cursor: pointer;\n",
              "      display: none;\n",
              "      fill: #1967D2;\n",
              "      height: 32px;\n",
              "      padding: 0 0 0 0;\n",
              "      width: 32px;\n",
              "    }\n",
              "\n",
              "    .colab-df-convert:hover {\n",
              "      background-color: #E2EBFA;\n",
              "      box-shadow: 0px 1px 2px rgba(60, 64, 67, 0.3), 0px 1px 3px 1px rgba(60, 64, 67, 0.15);\n",
              "      fill: #174EA6;\n",
              "    }\n",
              "\n",
              "    .colab-df-buttons div {\n",
              "      margin-bottom: 4px;\n",
              "    }\n",
              "\n",
              "    [theme=dark] .colab-df-convert {\n",
              "      background-color: #3B4455;\n",
              "      fill: #D2E3FC;\n",
              "    }\n",
              "\n",
              "    [theme=dark] .colab-df-convert:hover {\n",
              "      background-color: #434B5C;\n",
              "      box-shadow: 0px 1px 3px 1px rgba(0, 0, 0, 0.15);\n",
              "      filter: drop-shadow(0px 1px 2px rgba(0, 0, 0, 0.3));\n",
              "      fill: #FFFFFF;\n",
              "    }\n",
              "  </style>\n",
              "\n",
              "    <script>\n",
              "      const buttonEl =\n",
              "        document.querySelector('#df-058c38e8-64a1-47fb-8e2e-f7bad0291870 button.colab-df-convert');\n",
              "      buttonEl.style.display =\n",
              "        google.colab.kernel.accessAllowed ? 'block' : 'none';\n",
              "\n",
              "      async function convertToInteractive(key) {\n",
              "        const element = document.querySelector('#df-058c38e8-64a1-47fb-8e2e-f7bad0291870');\n",
              "        const dataTable =\n",
              "          await google.colab.kernel.invokeFunction('convertToInteractive',\n",
              "                                                    [key], {});\n",
              "        if (!dataTable) return;\n",
              "\n",
              "        const docLinkHtml = 'Like what you see? Visit the ' +\n",
              "          '<a target=\"_blank\" href=https://colab.research.google.com/notebooks/data_table.ipynb>data table notebook</a>'\n",
              "          + ' to learn more about interactive tables.';\n",
              "        element.innerHTML = '';\n",
              "        dataTable['output_type'] = 'display_data';\n",
              "        await google.colab.output.renderOutput(dataTable, element);\n",
              "        const docLink = document.createElement('div');\n",
              "        docLink.innerHTML = docLinkHtml;\n",
              "        element.appendChild(docLink);\n",
              "      }\n",
              "    </script>\n",
              "  </div>\n",
              "\n",
              "\n",
              "<div id=\"df-5daf1772-fe92-4b28-a3e9-a4101fc5cfe8\">\n",
              "  <button class=\"colab-df-quickchart\" onclick=\"quickchart('df-5daf1772-fe92-4b28-a3e9-a4101fc5cfe8')\"\n",
              "            title=\"Suggest charts\"\n",
              "            style=\"display:none;\">\n",
              "\n",
              "<svg xmlns=\"http://www.w3.org/2000/svg\" height=\"24px\"viewBox=\"0 0 24 24\"\n",
              "     width=\"24px\">\n",
              "    <g>\n",
              "        <path d=\"M19 3H5c-1.1 0-2 .9-2 2v14c0 1.1.9 2 2 2h14c1.1 0 2-.9 2-2V5c0-1.1-.9-2-2-2zM9 17H7v-7h2v7zm4 0h-2V7h2v10zm4 0h-2v-4h2v4z\"/>\n",
              "    </g>\n",
              "</svg>\n",
              "  </button>\n",
              "\n",
              "<style>\n",
              "  .colab-df-quickchart {\n",
              "      --bg-color: #E8F0FE;\n",
              "      --fill-color: #1967D2;\n",
              "      --hover-bg-color: #E2EBFA;\n",
              "      --hover-fill-color: #174EA6;\n",
              "      --disabled-fill-color: #AAA;\n",
              "      --disabled-bg-color: #DDD;\n",
              "  }\n",
              "\n",
              "  [theme=dark] .colab-df-quickchart {\n",
              "      --bg-color: #3B4455;\n",
              "      --fill-color: #D2E3FC;\n",
              "      --hover-bg-color: #434B5C;\n",
              "      --hover-fill-color: #FFFFFF;\n",
              "      --disabled-bg-color: #3B4455;\n",
              "      --disabled-fill-color: #666;\n",
              "  }\n",
              "\n",
              "  .colab-df-quickchart {\n",
              "    background-color: var(--bg-color);\n",
              "    border: none;\n",
              "    border-radius: 50%;\n",
              "    cursor: pointer;\n",
              "    display: none;\n",
              "    fill: var(--fill-color);\n",
              "    height: 32px;\n",
              "    padding: 0;\n",
              "    width: 32px;\n",
              "  }\n",
              "\n",
              "  .colab-df-quickchart:hover {\n",
              "    background-color: var(--hover-bg-color);\n",
              "    box-shadow: 0 1px 2px rgba(60, 64, 67, 0.3), 0 1px 3px 1px rgba(60, 64, 67, 0.15);\n",
              "    fill: var(--button-hover-fill-color);\n",
              "  }\n",
              "\n",
              "  .colab-df-quickchart-complete:disabled,\n",
              "  .colab-df-quickchart-complete:disabled:hover {\n",
              "    background-color: var(--disabled-bg-color);\n",
              "    fill: var(--disabled-fill-color);\n",
              "    box-shadow: none;\n",
              "  }\n",
              "\n",
              "  .colab-df-spinner {\n",
              "    border: 2px solid var(--fill-color);\n",
              "    border-color: transparent;\n",
              "    border-bottom-color: var(--fill-color);\n",
              "    animation:\n",
              "      spin 1s steps(1) infinite;\n",
              "  }\n",
              "\n",
              "  @keyframes spin {\n",
              "    0% {\n",
              "      border-color: transparent;\n",
              "      border-bottom-color: var(--fill-color);\n",
              "      border-left-color: var(--fill-color);\n",
              "    }\n",
              "    20% {\n",
              "      border-color: transparent;\n",
              "      border-left-color: var(--fill-color);\n",
              "      border-top-color: var(--fill-color);\n",
              "    }\n",
              "    30% {\n",
              "      border-color: transparent;\n",
              "      border-left-color: var(--fill-color);\n",
              "      border-top-color: var(--fill-color);\n",
              "      border-right-color: var(--fill-color);\n",
              "    }\n",
              "    40% {\n",
              "      border-color: transparent;\n",
              "      border-right-color: var(--fill-color);\n",
              "      border-top-color: var(--fill-color);\n",
              "    }\n",
              "    60% {\n",
              "      border-color: transparent;\n",
              "      border-right-color: var(--fill-color);\n",
              "    }\n",
              "    80% {\n",
              "      border-color: transparent;\n",
              "      border-right-color: var(--fill-color);\n",
              "      border-bottom-color: var(--fill-color);\n",
              "    }\n",
              "    90% {\n",
              "      border-color: transparent;\n",
              "      border-bottom-color: var(--fill-color);\n",
              "    }\n",
              "  }\n",
              "</style>\n",
              "\n",
              "  <script>\n",
              "    async function quickchart(key) {\n",
              "      const quickchartButtonEl =\n",
              "        document.querySelector('#' + key + ' button');\n",
              "      quickchartButtonEl.disabled = true;  // To prevent multiple clicks.\n",
              "      quickchartButtonEl.classList.add('colab-df-spinner');\n",
              "      try {\n",
              "        const charts = await google.colab.kernel.invokeFunction(\n",
              "            'suggestCharts', [key], {});\n",
              "      } catch (error) {\n",
              "        console.error('Error during call to suggestCharts:', error);\n",
              "      }\n",
              "      quickchartButtonEl.classList.remove('colab-df-spinner');\n",
              "      quickchartButtonEl.classList.add('colab-df-quickchart-complete');\n",
              "    }\n",
              "    (() => {\n",
              "      let quickchartButtonEl =\n",
              "        document.querySelector('#df-5daf1772-fe92-4b28-a3e9-a4101fc5cfe8 button');\n",
              "      quickchartButtonEl.style.display =\n",
              "        google.colab.kernel.accessAllowed ? 'block' : 'none';\n",
              "    })();\n",
              "  </script>\n",
              "</div>\n",
              "    </div>\n",
              "  </div>\n"
            ],
            "application/vnd.google.colaboratory.intrinsic+json": {
              "type": "dataframe",
              "variable_name": "df2",
              "summary": "{\n  \"name\": \"df2\",\n  \"rows\": 7189,\n  \"fields\": [\n    {\n      \"column\": \"\\uae30\\uc5c5\\uba85\",\n      \"properties\": {\n        \"dtype\": \"category\",\n        \"num_unique_values\": 885,\n        \"samples\": [\n          \"\\ub370\\uc77c\\ub9ac(DAILY)\",\n          \"\\ud300\\uc719\\ud06c\",\n          \"\\ube44\\ud50c\\ub77c\\uc774\\uc18c\\ud504\\ud2b8\"\n        ],\n        \"semantic_type\": \"\",\n        \"description\": \"\"\n      }\n    },\n    {\n      \"column\": \"\\ucc44\\uc6a9\\uc81c\\ubaa9\",\n      \"properties\": {\n        \"dtype\": \"category\",\n        \"num_unique_values\": 1930,\n        \"samples\": [\n          \"\\uc778\\ud504\\ub77c \\ubcf4\\uc548 \\uc5d4\\uc9c0\\ub2c8\\uc5b4\",\n          \"Internal Auditor (IT/\\ubcf4\\uc548)\",\n          \"\\uc11c\\uc6b8/\\ub300\\uc804 \\uc815\\ubcf4\\ubcf4\\ud638\\ucee8\\uc124\\ud305\"\n        ],\n        \"semantic_type\": \"\",\n        \"description\": \"\"\n      }\n    },\n    {\n      \"column\": \"\\uc8fc\\uc694\\uc5c5\\ubb34\",\n      \"properties\": {\n        \"dtype\": \"string\",\n        \"num_unique_values\": 6015,\n        \"samples\": [\n          \"Private Network \\uad6c\\ucd95\",\n          \"\\ud1a0\\uc2a4\\ud50c\\ub808\\uc774\\uc2a4\\uc758 \\ubcf4\\uc548 \\uac00\\uc2dc\\uc131\\uc744 \\ud655\\ubcf4\\ud558\\uace0 \\ubcf4\\uc548 \\uad00\\ub9ac \\ubc0f \\uc811\\uadfc \\uccb4\\uacc4\\ub97c \\uac1c\\uc120\\ud574\\uc694\",\n          \"\\ubcf4\\uc548\\uc704\\ud611 \\ubaa8\\ub2c8\\ud130\\ub9c1 \\uccb4\\uacc4 \\uad6c\\ucd95 \\ubc0f \\ub2e4\\uc591\\ud55c \\ubcf4\\uc548 \\ub85c\\uadf8 \\uc0dd\\uc131, \\uc5f0\\ub3d9 \\uc218\\ud589\"\n        ],\n        \"semantic_type\": \"\",\n        \"description\": \"\"\n      }\n    },\n    {\n      \"column\": \"\\uc9c0\\uc6d0\\uc790\\uaca9\",\n      \"properties\": {\n        \"dtype\": \"category\",\n        \"num_unique_values\": 2246,\n        \"samples\": [\n          \"\\u2022 \\uc804\\uc790\\uae08\\uc735 \\uc11c\\ube44\\uc2a4\\uc5d0 \\ub300\\ud55c \\ubcf4\\uc548\\uc131 \\uac80\\ud1a0 \\ubc0f \\ucde8\\uc57d\\uc810 \\uc810\\uac80, \\ubaa8\\uc758\\ud574\\ud0b9 \\uc218\\ud589 \\uacbd\\ud5d8\\u2022 Android, iOS, Web \\ub4f1\\uc758 \\uc11c\\ube44\\uc2a4 \\uad6c\\ud604\\ubc29\\uc2dd \\ubc0f \\uac1c\\ubc1c\\ud504\\ub808\\uc784\\uc6cc\\ud06c \\ud658\\uacbd\\uc744 \\uc774\\ud574\\ud558\\uace0 \\uc774\\ub97c \\ubc14\\ud0d5\\uc73c\\ub85c \\uc18c\\uc2a4\\ucf54\\ub4dc \\ubd84\\uc11d \\ubc0f \\ucde8\\uc57d\\uc810 \\ud655\\uc778, \\uac1c\\uc120 \\uacbd\\ud5d8\\uc744 \\ud574\\ubcf4\\uc2e0 \\ubd84\\u2022 \\ub2e4\\uc591\\ud55c IT \\uc778\\ud504\\ub77c \\uc544\\ud0a4\\ud14d\\ucc98 \\ubc0f DevOps \\ud658\\uacbd\\uc5d0\\uc11c \\ubcf4\\uc548\\uc131 \\uac80\\ud1a0 \\ubc0f \\uc810\\uac80\\uc744 \\ud574\\ubcf4\\uc2e0 \\uacbd\\ud5d8\\uc744 \\uac16\\ucd94\\uc2e0 \\ubd84\\u2022 \\ub2e4\\uc591\\ud55c \\uc601\\uc5ed\\uc5d0 \\ub300\\ud55c \\uc5c5\\ubb34 \\uc218\\uc6a9\\uc774 \\uac00\\ub2a5\\ud558\\uc2e0 \\ubd84\\u2022 \\uc5ec\\ub7ec \\uc5c5\\ubb34\\uc5d0 \\ub300\\ud55c \\ub3d9\\uc2dc\\uc801\\uc778 \\ucc98\\ub9ac\\uc5d0 \\uc775\\uc219\\ud558\\uc2e0 \\ubd84\\u2022 \\uc5c5\\ubb34 \\ucc98\\ub9ac\\uc5d0 \\uac04\\uacb0\\ud568\\uacfc \\uc790\\ub3d9\\ud654\\ub97c \\ucd94\\uad6c\\ud558\\uc2dc\\ub294 \\ubd84\\u2022 \\ubb38\\uc81c\\ud574\\uacb0\\uc5d0 \\uc801\\uadf9\\uc801\\uc774\\uace0 \\ud765\\ubbf8\\ub97c \\ub290\\ub07c\\uc2dc\\ub294 \\ubd84 \\u2022 \\uc6d0\\ub9cc\\ud55c \\ucee4\\ubba4\\ub2c8\\ucf00\\uc774\\uc158\\uacfc \\ud611\\uc5c5\\uc774 \\uac00\\ub2a5\\ud558\\uc2e0 \\ubd84\",\n          \"\\u2022 \\uc778\\uc0ac \\ub610\\ub294 \\ucd1d\\ubb34 \\uad00\\ub828 \\uc5c5\\ubb34 \\uacbd\\ub825 3\\ub144 \\uc774\\uc0c1\\u2022 \\ucd5c\\uace0\\uc758 \\uae30\\uc5c5 \\ubb38\\ud654 \\uad6c\\ucd95\\uc5d0 \\uad00\\ud55c \\uc5f4\\uc815\\uc774 \\uc788\\ub294 \\ubd84\\u2022 \\uc0c1\\ub300\\ubc29\\uc744 \\ubc30\\ub824\\ud558\\uace0 \\uc774\\ud574\\ud558\\ub294 \\ub9c8\\uc74c\\uc73c\\ub85c \\uc18c\\ud1b5\\ud558\\ub294 \\ub2a5\\ub825\\uc744 \\uac16\\ucd98 \\ubd84\\u2022 \\ubc1d\\uace0 \\uae0d\\uc815\\uc801\\uc778 \\uc131\\uaca9\\uc744 \\uc18c\\uc720\\ud55c \\ubd84\\u2022 \\uac15\\ud55c \\ucc45\\uc784\\uac10, \\ub192\\uc740 \\uc5c5\\ubb34 \\uc724\\ub9ac\\uc758\\uc2dd\\uc744 \\uc9c0\\ub2c8\\uc2e0 \\ubd84\\u2022 \\uc608\\uc0c1\\uce58 \\ubabb\\ud55c \\ubd88\\ud655\\uc2e4\\ud55c \\uc0c1\\ud669\\uc5d0 \\ub300\\ucc98 \\ub2a5\\ub825\\uc774 \\ub6f0\\uc5b4\\ub09c \\ubd84\",\n          \"\\u2022 \\uc624\\ud508\\uc18c\\uc2a4 \\uc2dc\\uc2a4\\ud15c \\uad6c\\ucd95 \\ubc0f \\uc720\\uc9c0\\ubcf4\\uc218 \\uc5ed\\ub7c9\\u2022 \\uc2a4\\ud06c\\ub9bd\\ud2b8 \\uc5b8\\uc5b4 \\ub4f1 \\ubc18\\ubcf5\\uc791\\uc5c5 \\uc790\\ub3d9\\ud654 \\uc5ed\\ub7c9\"\n        ],\n        \"semantic_type\": \"\",\n        \"description\": \"\"\n      }\n    },\n    {\n      \"column\": \"\\uc6b0\\ub300\\uc0ac\\ud56d\",\n      \"properties\": {\n        \"dtype\": \"category\",\n        \"num_unique_values\": 2197,\n        \"samples\": [\n          \"\\u2022 \\uc790\\uaca9\\uc99d: CCNA, CCNP\\u2022 \\uc6b4\\uc804\\uba74\\ud5c8 \\uc18c\\uc9c0\\uc790 \\ubc0f \\ucc28\\ub7c9 \\uc18c\\uc9c0\\uc790\\u2022 \\uc804\\uc8fc\\uc2dc \\uac70\\uc8fc\\uc790 \\uc6b0\\ub300\",\n          \"\\u2022 \\uc815\\ubcf4\\ubcf4\\ud638 \\uad00\\ub828 \\ubd80\\ucc98 \\uc694\\uad6c \\uc0ac\\ud56d \\uc720 \\uacbd\\ud5d8\\uc790 (ISMS \\uc778\\uc99d \\uc2ec\\uc0ac \\ub4f1)\\u2022 \\ubcf4\\uc548 \\uad00\\ub828 \\uc790\\uaca9\\uc99d(\\uc815\\ubcf4\\ubcf4\\uc548\\uae30\\uc0ac, CISA, CISSP, CPPG \\ub4f1 )\\uc18c\\uc9c0\\uc790\\u2022 IT \\uad00\\ub828 \\uc11c\\ube44\\uc2a4 \\uc6b4\\uc601, \\uad00\\ub828 \\ubd80\\uc11c \\ud611\\uc5c5 \\uc720 \\uacbd\\ud5d8\\uc790\\u2022 \\uac1c\\uc778\\uc815\\ubcf4 \\uc2dc\\uc2a4\\ud15c \\uc6b4\\uc601 \\uc720 \\uacbd\\ud5d8\\uc790\",\n          \"\\u2022 ES6, Vue, React, LESS, Webpack \\uc0ac\\uc6a9 \\uacbd\\ud5d8\\u2022 1\\uac1c \\uc774\\uc0c1\\uc758 \\ubc94\\uc6a9 \\ud504\\ub85c\\uadf8\\ub798\\ubc0d \\uc5b8\\uc5b4 \\uacbd\\ud5d8.(\\uac1d\\uccb4\\uc9c0\\ud5a5 \\ubc0f JAVA \\uc120\\ud638)\\u2022 Canvas, WebGL \\uc0ac\\uc6a9 \\uacbd\\ud5d8\\u2022 \\ucef4\\ud4e8\\ud130\\uacf5\\ud559 \\uc720\\uad00 \\ud559\\uacfc \\uc11d/\\ubc15\\uc0ac \\ud559\\uc704 \\ud639\\uc740 \\uadf8\\uc5d0 \\uc900\\ud558\\ub294 \\uacbd\\ud5d8 \\ubc0f \\uc2e4\\ub825\\u2022 Git \\ud639\\uc740 \\uae30\\ud0c0 \\ubc84\\uc804\\uad00\\ub9ac \\uc2dc\\uc2a4\\ud15c\\uc744 \\uc0ac\\uc6a9\\ud55c \\ud504\\ub85c\\uc81d\\ud2b8 \\uacbd\\ud5d8\"\n        ],\n        \"semantic_type\": \"\",\n        \"description\": \"\"\n      }\n    },\n    {\n      \"column\": \"\\uc5c5\\ubb34\\uae38\\uc774\",\n      \"properties\": {\n        \"dtype\": \"number\",\n        \"std\": 10,\n        \"min\": 5,\n        \"max\": 50,\n        \"num_unique_values\": 46,\n        \"samples\": [\n          34,\n          17,\n          16\n        ],\n        \"semantic_type\": \"\",\n        \"description\": \"\"\n      }\n    },\n    {\n      \"column\": \"\\uc8fc\\uc694\\uc5c5\\ubb34_C\",\n      \"properties\": {\n        \"dtype\": \"string\",\n        \"num_unique_values\": 5901,\n        \"samples\": [\n          \"DNS \\uc124\\uc815 \\ubc31\\uc5c5\",\n          \"\\uc778\\ud504\\ub77c \\ucde8\\uc57d\\uc810 \\uc9c4\\ub2e8\",\n          \"\\uae30\\uc220 \\uc801 / \\uad00\\ub9ac \\uc801 \\uc810\\uac80 \\ubcf4\\ud638 \\uc870\\uce58 \\ud65c\\ub3d9\"\n        ],\n        \"semantic_type\": \"\",\n        \"description\": \"\"\n      }\n    },\n    {\n      \"column\": \"text\",\n      \"properties\": {\n        \"dtype\": \"string\",\n        \"num_unique_values\": 6974,\n        \"samples\": [\n          \"\\ubcf4\\uc548S/W \\uae30\\uc220\\uc9c0\\uc6d0\\ub2f4\\ub2f9\\uc790 \\uc54c\\uc57d \\ubc31\\uc2e0 \\uc81c\\ud488 \\ud3ec\\ud568 \\uc790\\uc0ac \\ubcf4\\uc548 \\uc194\\ub8e8\\uc158 \\uae30\\uc220 \\uc9c0\\uc6d0 ( \\uc720\\uc120 / \\uc6d0\\uaca9 / \\ubc29\\ubb38 )\",\n          \"\\uc815\\ubcf4\\ubcf4\\ud638&\\ubcf4\\uc548 \\ub2f4\\ub2f9\\uc790 \\ucde8\\uc57d\\uc810 \\uc9c4\\ub2e8\",\n          \"\\ubcf4\\uc548\\ucc45\\uc784\\uc790 \\ubcf4\\uc548 \\uc5c5\\uccb4 \\ucee8\\ud2b8\\ub864\"\n        ],\n        \"semantic_type\": \"\",\n        \"description\": \"\"\n      }\n    },\n    {\n      \"column\": \"cluster\",\n      \"properties\": {\n        \"dtype\": \"int32\",\n        \"num_unique_values\": 10,\n        \"samples\": [\n          9,\n          8,\n          3\n        ],\n        \"semantic_type\": \"\",\n        \"description\": \"\"\n      }\n    }\n  ]\n}"
            }
          },
          "metadata": {},
          "execution_count": 90
        }
      ]
    },
    {
      "cell_type": "code",
      "source": [],
      "metadata": {
        "id": "mtSLg_W4A7JW"
      },
      "id": "mtSLg_W4A7JW",
      "execution_count": null,
      "outputs": []
    },
    {
      "cell_type": "code",
      "source": [],
      "metadata": {
        "id": "TIt59dZwBD6o"
      },
      "id": "TIt59dZwBD6o",
      "execution_count": null,
      "outputs": []
    },
    {
      "cell_type": "code",
      "source": [],
      "metadata": {
        "id": "rKQDAnQ1BEDf"
      },
      "id": "rKQDAnQ1BEDf",
      "execution_count": null,
      "outputs": []
    }
  ],
  "metadata": {
    "colab": {
      "provenance": [],
      "include_colab_link": true
    },
    "kernelspec": {
      "display_name": "Python 3 (ipykernel)",
      "language": "python",
      "name": "python3"
    },
    "language_info": {
      "codemirror_mode": {
        "name": "ipython",
        "version": 3
      },
      "file_extension": ".py",
      "mimetype": "text/x-python",
      "name": "python",
      "nbconvert_exporter": "python",
      "pygments_lexer": "ipython3",
      "version": "3.10.9"
    }
  },
  "nbformat": 4,
  "nbformat_minor": 5
}