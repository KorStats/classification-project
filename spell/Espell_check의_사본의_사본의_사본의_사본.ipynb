{
  "cells": [
    {
      "cell_type": "markdown",
      "metadata": {
        "id": "view-in-github",
        "colab_type": "text"
      },
      "source": [
        "<a href=\"https://colab.research.google.com/github/KorStats/classification-project/blob/main/spell/Espell_check%EC%9D%98_%EC%82%AC%EB%B3%B8%EC%9D%98_%EC%82%AC%EB%B3%B8%EC%9D%98_%EC%82%AC%EB%B3%B8%EC%9D%98_%EC%82%AC%EB%B3%B8.ipynb\" target=\"_parent\"><img src=\"https://colab.research.google.com/assets/colab-badge.svg\" alt=\"Open In Colab\"/></a>"
      ]
    },
    {
      "cell_type": "markdown",
      "metadata": {
        "id": "U3wrPXQ_ORLb"
      },
      "source": [
        "## 구글드라이브에서 파일 읽어오기"
      ]
    },
    {
      "cell_type": "code",
      "execution_count": 1,
      "metadata": {
        "colab": {
          "base_uri": "https://localhost:8080/"
        },
        "id": "dqJbzoq_OPxK",
        "outputId": "7039f17c-3a45-42d7-b47b-ab7636f904f5"
      },
      "outputs": [
        {
          "output_type": "stream",
          "name": "stdout",
          "text": [
            "Mounted at /content/drive\n"
          ]
        }
      ],
      "source": [
        "from google.colab import drive\n",
        "drive.mount('/content/drive')"
      ]
    },
    {
      "cell_type": "code",
      "execution_count": 2,
      "metadata": {
        "colab": {
          "base_uri": "https://localhost:8080/"
        },
        "id": "wmtIZqMGOdVX",
        "outputId": "a666aa1f-d6da-496c-e629-ae07fc01fdec"
      },
      "outputs": [
        {
          "output_type": "stream",
          "name": "stdout",
          "text": [
            "Mounted at /content/gdrive\n",
            " 산업분류자동화\t\t df_C_inc.csv\t   df_K_inc.csv     spell_check\n",
            "'Colab Notebooks'\t'# df_G_inc.csv'   df_P_inc.csv\n",
            " C_ori_model.pt\t\t df_G_inc.csv\t  'My Drive'\n",
            "'답안 작성용 파일.csv'\t df_J_inc.csv\t   Q_inc_model.pt\n"
          ]
        }
      ],
      "source": [
        "from google.colab import drive\n",
        "drive.mount('/content/gdrive')\n",
        "!ln -s /content/gdrive/My\\ Drive/ /mydrive\n",
        "!ls /mydrive"
      ]
    },
    {
      "cell_type": "code",
      "execution_count": 3,
      "metadata": {
        "colab": {
          "base_uri": "https://localhost:8080/"
        },
        "id": "xV_iSLl7QFgx",
        "outputId": "fb7c0d35-372d-445e-9caf-fffa64a7c8c1"
      },
      "outputs": [
        {
          "output_type": "stream",
          "name": "stdout",
          "text": [
            "Archive:  /content/gdrive/My Drive/산업분류자동화/실습용 자료.zip\n",
            "1. 실습용자료.txt:  mismatching \"local\" filename (1. ьЛдьК╡ьЪйьЮРыгМ.txt),\n",
            "         continuing with \"central\" filename version\n",
            "  inflating: /content/dataset/1. 실습용자료.txt  \n"
          ]
        }
      ],
      "source": [
        "!unzip /content/gdrive/'My Drive'/산업분류자동화/'실습용 자료'.zip -d /content/dataset"
      ]
    },
    {
      "cell_type": "code",
      "execution_count": 4,
      "metadata": {
        "id": "-lGZy4fGpXlo"
      },
      "outputs": [],
      "source": [
        "import pandas as pd\n",
        "df=pd.read_csv('/content/dataset/1. 실습용자료.txt', sep = \"|\", encoding = \"euc-kr\")"
      ]
    },
    {
      "cell_type": "markdown",
      "metadata": {
        "id": "geFjTXHh5-dy"
      },
      "source": [
        "## 데이터 전처리"
      ]
    },
    {
      "cell_type": "code",
      "execution_count": 5,
      "metadata": {
        "id": "5RbL6zqMdTtY"
      },
      "outputs": [],
      "source": [
        "df=df[(df['digit_1'] =='E')] #조건에 맞는 데이터 출력"
      ]
    },
    {
      "cell_type": "code",
      "source": [
        "df=df.reset_index(drop=True)\n",
        "df"
      ],
      "metadata": {
        "colab": {
          "base_uri": "https://localhost:8080/",
          "height": 423
        },
        "id": "3ISvtyKhpKd2",
        "outputId": "a72dc4ae-128d-4d8b-a010-02a94471f120"
      },
      "execution_count": 6,
      "outputs": [
        {
          "output_type": "execute_result",
          "data": {
            "text/plain": [
              "           AI_id digit_1  digit_2  digit_3      text_obj   text_mthd  \\\n",
              "0     id_0000943       E       38      383          분쇄하여         스크랩   \n",
              "1     id_0001024       E       38      383  폐가전플라스틱케이스수거       사업장에서   \n",
              "2     id_0001086       E       38      383    분쇄하여재생원료생산        플라스틱   \n",
              "3     id_0003276       E       38      382        건설현장에서  고객의 의뢰를 받아   \n",
              "4     id_0003533       E       38      382      고객의 요청으로       사업장에서   \n",
              "...          ...     ...      ...      ...           ...         ...   \n",
              "2250  id_0998643       E       38      383    폐,PVC,플라스틱       파쇄,분쇄   \n",
              "2251  id_0998908       E       38      383   폐PVC플라스틱폐기물       선별 파쇄   \n",
              "2252  id_0999035       E       38      383    분쇄,파쇄 화학처리         폐비닐   \n",
              "2253  id_0999066       E       38      382     건설사요청에 의해    덤프차를 가지고   \n",
              "2254  id_0999545       E       38      383            분쇄        플라스틱   \n",
              "\n",
              "        text_deal  \n",
              "0       스크랩분쇄가공처리  \n",
              "1        해체,분리 선별  \n",
              "2            재생원료  \n",
              "3       폐기물, 골재대여  \n",
              "4         텍스,석면철거  \n",
              "...           ...  \n",
              "2250      비금속 재생업  \n",
              "2251      비금속원료물질  \n",
              "2252     폐합성수지 생산  \n",
              "2253  건설,폐기물 수집운반  \n",
              "2254      상위업체 납품  \n",
              "\n",
              "[2255 rows x 7 columns]"
            ],
            "text/html": [
              "\n",
              "  <div id=\"df-ebde5ac6-6628-4dfc-a6d4-0c033447daa8\">\n",
              "    <div class=\"colab-df-container\">\n",
              "      <div>\n",
              "<style scoped>\n",
              "    .dataframe tbody tr th:only-of-type {\n",
              "        vertical-align: middle;\n",
              "    }\n",
              "\n",
              "    .dataframe tbody tr th {\n",
              "        vertical-align: top;\n",
              "    }\n",
              "\n",
              "    .dataframe thead th {\n",
              "        text-align: right;\n",
              "    }\n",
              "</style>\n",
              "<table border=\"1\" class=\"dataframe\">\n",
              "  <thead>\n",
              "    <tr style=\"text-align: right;\">\n",
              "      <th></th>\n",
              "      <th>AI_id</th>\n",
              "      <th>digit_1</th>\n",
              "      <th>digit_2</th>\n",
              "      <th>digit_3</th>\n",
              "      <th>text_obj</th>\n",
              "      <th>text_mthd</th>\n",
              "      <th>text_deal</th>\n",
              "    </tr>\n",
              "  </thead>\n",
              "  <tbody>\n",
              "    <tr>\n",
              "      <th>0</th>\n",
              "      <td>id_0000943</td>\n",
              "      <td>E</td>\n",
              "      <td>38</td>\n",
              "      <td>383</td>\n",
              "      <td>분쇄하여</td>\n",
              "      <td>스크랩</td>\n",
              "      <td>스크랩분쇄가공처리</td>\n",
              "    </tr>\n",
              "    <tr>\n",
              "      <th>1</th>\n",
              "      <td>id_0001024</td>\n",
              "      <td>E</td>\n",
              "      <td>38</td>\n",
              "      <td>383</td>\n",
              "      <td>폐가전플라스틱케이스수거</td>\n",
              "      <td>사업장에서</td>\n",
              "      <td>해체,분리 선별</td>\n",
              "    </tr>\n",
              "    <tr>\n",
              "      <th>2</th>\n",
              "      <td>id_0001086</td>\n",
              "      <td>E</td>\n",
              "      <td>38</td>\n",
              "      <td>383</td>\n",
              "      <td>분쇄하여재생원료생산</td>\n",
              "      <td>플라스틱</td>\n",
              "      <td>재생원료</td>\n",
              "    </tr>\n",
              "    <tr>\n",
              "      <th>3</th>\n",
              "      <td>id_0003276</td>\n",
              "      <td>E</td>\n",
              "      <td>38</td>\n",
              "      <td>382</td>\n",
              "      <td>건설현장에서</td>\n",
              "      <td>고객의 의뢰를 받아</td>\n",
              "      <td>폐기물, 골재대여</td>\n",
              "    </tr>\n",
              "    <tr>\n",
              "      <th>4</th>\n",
              "      <td>id_0003533</td>\n",
              "      <td>E</td>\n",
              "      <td>38</td>\n",
              "      <td>382</td>\n",
              "      <td>고객의 요청으로</td>\n",
              "      <td>사업장에서</td>\n",
              "      <td>텍스,석면철거</td>\n",
              "    </tr>\n",
              "    <tr>\n",
              "      <th>...</th>\n",
              "      <td>...</td>\n",
              "      <td>...</td>\n",
              "      <td>...</td>\n",
              "      <td>...</td>\n",
              "      <td>...</td>\n",
              "      <td>...</td>\n",
              "      <td>...</td>\n",
              "    </tr>\n",
              "    <tr>\n",
              "      <th>2250</th>\n",
              "      <td>id_0998643</td>\n",
              "      <td>E</td>\n",
              "      <td>38</td>\n",
              "      <td>383</td>\n",
              "      <td>폐,PVC,플라스틱</td>\n",
              "      <td>파쇄,분쇄</td>\n",
              "      <td>비금속 재생업</td>\n",
              "    </tr>\n",
              "    <tr>\n",
              "      <th>2251</th>\n",
              "      <td>id_0998908</td>\n",
              "      <td>E</td>\n",
              "      <td>38</td>\n",
              "      <td>383</td>\n",
              "      <td>폐PVC플라스틱폐기물</td>\n",
              "      <td>선별 파쇄</td>\n",
              "      <td>비금속원료물질</td>\n",
              "    </tr>\n",
              "    <tr>\n",
              "      <th>2252</th>\n",
              "      <td>id_0999035</td>\n",
              "      <td>E</td>\n",
              "      <td>38</td>\n",
              "      <td>383</td>\n",
              "      <td>분쇄,파쇄 화학처리</td>\n",
              "      <td>폐비닐</td>\n",
              "      <td>폐합성수지 생산</td>\n",
              "    </tr>\n",
              "    <tr>\n",
              "      <th>2253</th>\n",
              "      <td>id_0999066</td>\n",
              "      <td>E</td>\n",
              "      <td>38</td>\n",
              "      <td>382</td>\n",
              "      <td>건설사요청에 의해</td>\n",
              "      <td>덤프차를 가지고</td>\n",
              "      <td>건설,폐기물 수집운반</td>\n",
              "    </tr>\n",
              "    <tr>\n",
              "      <th>2254</th>\n",
              "      <td>id_0999545</td>\n",
              "      <td>E</td>\n",
              "      <td>38</td>\n",
              "      <td>383</td>\n",
              "      <td>분쇄</td>\n",
              "      <td>플라스틱</td>\n",
              "      <td>상위업체 납품</td>\n",
              "    </tr>\n",
              "  </tbody>\n",
              "</table>\n",
              "<p>2255 rows × 7 columns</p>\n",
              "</div>\n",
              "      <button class=\"colab-df-convert\" onclick=\"convertToInteractive('df-ebde5ac6-6628-4dfc-a6d4-0c033447daa8')\"\n",
              "              title=\"Convert this dataframe to an interactive table.\"\n",
              "              style=\"display:none;\">\n",
              "        \n",
              "  <svg xmlns=\"http://www.w3.org/2000/svg\" height=\"24px\"viewBox=\"0 0 24 24\"\n",
              "       width=\"24px\">\n",
              "    <path d=\"M0 0h24v24H0V0z\" fill=\"none\"/>\n",
              "    <path d=\"M18.56 5.44l.94 2.06.94-2.06 2.06-.94-2.06-.94-.94-2.06-.94 2.06-2.06.94zm-11 1L8.5 8.5l.94-2.06 2.06-.94-2.06-.94L8.5 2.5l-.94 2.06-2.06.94zm10 10l.94 2.06.94-2.06 2.06-.94-2.06-.94-.94-2.06-.94 2.06-2.06.94z\"/><path d=\"M17.41 7.96l-1.37-1.37c-.4-.4-.92-.59-1.43-.59-.52 0-1.04.2-1.43.59L10.3 9.45l-7.72 7.72c-.78.78-.78 2.05 0 2.83L4 21.41c.39.39.9.59 1.41.59.51 0 1.02-.2 1.41-.59l7.78-7.78 2.81-2.81c.8-.78.8-2.07 0-2.86zM5.41 20L4 18.59l7.72-7.72 1.47 1.35L5.41 20z\"/>\n",
              "  </svg>\n",
              "      </button>\n",
              "      \n",
              "  <style>\n",
              "    .colab-df-container {\n",
              "      display:flex;\n",
              "      flex-wrap:wrap;\n",
              "      gap: 12px;\n",
              "    }\n",
              "\n",
              "    .colab-df-convert {\n",
              "      background-color: #E8F0FE;\n",
              "      border: none;\n",
              "      border-radius: 50%;\n",
              "      cursor: pointer;\n",
              "      display: none;\n",
              "      fill: #1967D2;\n",
              "      height: 32px;\n",
              "      padding: 0 0 0 0;\n",
              "      width: 32px;\n",
              "    }\n",
              "\n",
              "    .colab-df-convert:hover {\n",
              "      background-color: #E2EBFA;\n",
              "      box-shadow: 0px 1px 2px rgba(60, 64, 67, 0.3), 0px 1px 3px 1px rgba(60, 64, 67, 0.15);\n",
              "      fill: #174EA6;\n",
              "    }\n",
              "\n",
              "    [theme=dark] .colab-df-convert {\n",
              "      background-color: #3B4455;\n",
              "      fill: #D2E3FC;\n",
              "    }\n",
              "\n",
              "    [theme=dark] .colab-df-convert:hover {\n",
              "      background-color: #434B5C;\n",
              "      box-shadow: 0px 1px 3px 1px rgba(0, 0, 0, 0.15);\n",
              "      filter: drop-shadow(0px 1px 2px rgba(0, 0, 0, 0.3));\n",
              "      fill: #FFFFFF;\n",
              "    }\n",
              "  </style>\n",
              "\n",
              "      <script>\n",
              "        const buttonEl =\n",
              "          document.querySelector('#df-ebde5ac6-6628-4dfc-a6d4-0c033447daa8 button.colab-df-convert');\n",
              "        buttonEl.style.display =\n",
              "          google.colab.kernel.accessAllowed ? 'block' : 'none';\n",
              "\n",
              "        async function convertToInteractive(key) {\n",
              "          const element = document.querySelector('#df-ebde5ac6-6628-4dfc-a6d4-0c033447daa8');\n",
              "          const dataTable =\n",
              "            await google.colab.kernel.invokeFunction('convertToInteractive',\n",
              "                                                     [key], {});\n",
              "          if (!dataTable) return;\n",
              "\n",
              "          const docLinkHtml = 'Like what you see? Visit the ' +\n",
              "            '<a target=\"_blank\" href=https://colab.research.google.com/notebooks/data_table.ipynb>data table notebook</a>'\n",
              "            + ' to learn more about interactive tables.';\n",
              "          element.innerHTML = '';\n",
              "          dataTable['output_type'] = 'display_data';\n",
              "          await google.colab.output.renderOutput(dataTable, element);\n",
              "          const docLink = document.createElement('div');\n",
              "          docLink.innerHTML = docLinkHtml;\n",
              "          element.appendChild(docLink);\n",
              "        }\n",
              "      </script>\n",
              "    </div>\n",
              "  </div>\n",
              "  "
            ]
          },
          "metadata": {},
          "execution_count": 6
        }
      ]
    },
    {
      "cell_type": "code",
      "execution_count": 7,
      "metadata": {
        "colab": {
          "base_uri": "https://localhost:8080/",
          "height": 423
        },
        "id": "fjEcvrtH59q-",
        "outputId": "52cc7b73-855b-410d-d2f0-8f84a98378ba"
      },
      "outputs": [
        {
          "output_type": "execute_result",
          "data": {
            "text/plain": [
              "           AI_id digit_1  digit_2  digit_3                            text\n",
              "0     id_0000943       E       38      383              분쇄하여 스크랩 스크랩분쇄가공처리\n",
              "1     id_0001024       E       38      383     폐가전플라스틱케이스수거 사업장에서 해체,분리 선별\n",
              "2     id_0001086       E       38      383            분쇄하여재생원료생산 플라스틱 재생원료\n",
              "3     id_0003276       E       38      382     건설현장에서 고객의 의뢰를 받아 폐기물, 골재대여\n",
              "4     id_0003533       E       38      382          고객의 요청으로 사업장에서 텍스,석면철거\n",
              "...          ...     ...      ...      ...                             ...\n",
              "2250  id_0998643       E       38      383        폐,PVC,플라스틱 파쇄,분쇄 비금속 재생업\n",
              "2251  id_0998908       E       38      383       폐PVC플라스틱폐기물 선별 파쇄 비금속원료물질\n",
              "2252  id_0999035       E       38      383         분쇄,파쇄 화학처리 폐비닐 폐합성수지 생산\n",
              "2253  id_0999066       E       38      382  건설사요청에 의해 덤프차를 가지고 건설,폐기물 수집운반\n",
              "2254  id_0999545       E       38      383                 분쇄 플라스틱 상위업체 납품\n",
              "\n",
              "[2255 rows x 5 columns]"
            ],
            "text/html": [
              "\n",
              "  <div id=\"df-a48731d3-52ce-4e8f-9709-60a6cd5e6ddf\">\n",
              "    <div class=\"colab-df-container\">\n",
              "      <div>\n",
              "<style scoped>\n",
              "    .dataframe tbody tr th:only-of-type {\n",
              "        vertical-align: middle;\n",
              "    }\n",
              "\n",
              "    .dataframe tbody tr th {\n",
              "        vertical-align: top;\n",
              "    }\n",
              "\n",
              "    .dataframe thead th {\n",
              "        text-align: right;\n",
              "    }\n",
              "</style>\n",
              "<table border=\"1\" class=\"dataframe\">\n",
              "  <thead>\n",
              "    <tr style=\"text-align: right;\">\n",
              "      <th></th>\n",
              "      <th>AI_id</th>\n",
              "      <th>digit_1</th>\n",
              "      <th>digit_2</th>\n",
              "      <th>digit_3</th>\n",
              "      <th>text</th>\n",
              "    </tr>\n",
              "  </thead>\n",
              "  <tbody>\n",
              "    <tr>\n",
              "      <th>0</th>\n",
              "      <td>id_0000943</td>\n",
              "      <td>E</td>\n",
              "      <td>38</td>\n",
              "      <td>383</td>\n",
              "      <td>분쇄하여 스크랩 스크랩분쇄가공처리</td>\n",
              "    </tr>\n",
              "    <tr>\n",
              "      <th>1</th>\n",
              "      <td>id_0001024</td>\n",
              "      <td>E</td>\n",
              "      <td>38</td>\n",
              "      <td>383</td>\n",
              "      <td>폐가전플라스틱케이스수거 사업장에서 해체,분리 선별</td>\n",
              "    </tr>\n",
              "    <tr>\n",
              "      <th>2</th>\n",
              "      <td>id_0001086</td>\n",
              "      <td>E</td>\n",
              "      <td>38</td>\n",
              "      <td>383</td>\n",
              "      <td>분쇄하여재생원료생산 플라스틱 재생원료</td>\n",
              "    </tr>\n",
              "    <tr>\n",
              "      <th>3</th>\n",
              "      <td>id_0003276</td>\n",
              "      <td>E</td>\n",
              "      <td>38</td>\n",
              "      <td>382</td>\n",
              "      <td>건설현장에서 고객의 의뢰를 받아 폐기물, 골재대여</td>\n",
              "    </tr>\n",
              "    <tr>\n",
              "      <th>4</th>\n",
              "      <td>id_0003533</td>\n",
              "      <td>E</td>\n",
              "      <td>38</td>\n",
              "      <td>382</td>\n",
              "      <td>고객의 요청으로 사업장에서 텍스,석면철거</td>\n",
              "    </tr>\n",
              "    <tr>\n",
              "      <th>...</th>\n",
              "      <td>...</td>\n",
              "      <td>...</td>\n",
              "      <td>...</td>\n",
              "      <td>...</td>\n",
              "      <td>...</td>\n",
              "    </tr>\n",
              "    <tr>\n",
              "      <th>2250</th>\n",
              "      <td>id_0998643</td>\n",
              "      <td>E</td>\n",
              "      <td>38</td>\n",
              "      <td>383</td>\n",
              "      <td>폐,PVC,플라스틱 파쇄,분쇄 비금속 재생업</td>\n",
              "    </tr>\n",
              "    <tr>\n",
              "      <th>2251</th>\n",
              "      <td>id_0998908</td>\n",
              "      <td>E</td>\n",
              "      <td>38</td>\n",
              "      <td>383</td>\n",
              "      <td>폐PVC플라스틱폐기물 선별 파쇄 비금속원료물질</td>\n",
              "    </tr>\n",
              "    <tr>\n",
              "      <th>2252</th>\n",
              "      <td>id_0999035</td>\n",
              "      <td>E</td>\n",
              "      <td>38</td>\n",
              "      <td>383</td>\n",
              "      <td>분쇄,파쇄 화학처리 폐비닐 폐합성수지 생산</td>\n",
              "    </tr>\n",
              "    <tr>\n",
              "      <th>2253</th>\n",
              "      <td>id_0999066</td>\n",
              "      <td>E</td>\n",
              "      <td>38</td>\n",
              "      <td>382</td>\n",
              "      <td>건설사요청에 의해 덤프차를 가지고 건설,폐기물 수집운반</td>\n",
              "    </tr>\n",
              "    <tr>\n",
              "      <th>2254</th>\n",
              "      <td>id_0999545</td>\n",
              "      <td>E</td>\n",
              "      <td>38</td>\n",
              "      <td>383</td>\n",
              "      <td>분쇄 플라스틱 상위업체 납품</td>\n",
              "    </tr>\n",
              "  </tbody>\n",
              "</table>\n",
              "<p>2255 rows × 5 columns</p>\n",
              "</div>\n",
              "      <button class=\"colab-df-convert\" onclick=\"convertToInteractive('df-a48731d3-52ce-4e8f-9709-60a6cd5e6ddf')\"\n",
              "              title=\"Convert this dataframe to an interactive table.\"\n",
              "              style=\"display:none;\">\n",
              "        \n",
              "  <svg xmlns=\"http://www.w3.org/2000/svg\" height=\"24px\"viewBox=\"0 0 24 24\"\n",
              "       width=\"24px\">\n",
              "    <path d=\"M0 0h24v24H0V0z\" fill=\"none\"/>\n",
              "    <path d=\"M18.56 5.44l.94 2.06.94-2.06 2.06-.94-2.06-.94-.94-2.06-.94 2.06-2.06.94zm-11 1L8.5 8.5l.94-2.06 2.06-.94-2.06-.94L8.5 2.5l-.94 2.06-2.06.94zm10 10l.94 2.06.94-2.06 2.06-.94-2.06-.94-.94-2.06-.94 2.06-2.06.94z\"/><path d=\"M17.41 7.96l-1.37-1.37c-.4-.4-.92-.59-1.43-.59-.52 0-1.04.2-1.43.59L10.3 9.45l-7.72 7.72c-.78.78-.78 2.05 0 2.83L4 21.41c.39.39.9.59 1.41.59.51 0 1.02-.2 1.41-.59l7.78-7.78 2.81-2.81c.8-.78.8-2.07 0-2.86zM5.41 20L4 18.59l7.72-7.72 1.47 1.35L5.41 20z\"/>\n",
              "  </svg>\n",
              "      </button>\n",
              "      \n",
              "  <style>\n",
              "    .colab-df-container {\n",
              "      display:flex;\n",
              "      flex-wrap:wrap;\n",
              "      gap: 12px;\n",
              "    }\n",
              "\n",
              "    .colab-df-convert {\n",
              "      background-color: #E8F0FE;\n",
              "      border: none;\n",
              "      border-radius: 50%;\n",
              "      cursor: pointer;\n",
              "      display: none;\n",
              "      fill: #1967D2;\n",
              "      height: 32px;\n",
              "      padding: 0 0 0 0;\n",
              "      width: 32px;\n",
              "    }\n",
              "\n",
              "    .colab-df-convert:hover {\n",
              "      background-color: #E2EBFA;\n",
              "      box-shadow: 0px 1px 2px rgba(60, 64, 67, 0.3), 0px 1px 3px 1px rgba(60, 64, 67, 0.15);\n",
              "      fill: #174EA6;\n",
              "    }\n",
              "\n",
              "    [theme=dark] .colab-df-convert {\n",
              "      background-color: #3B4455;\n",
              "      fill: #D2E3FC;\n",
              "    }\n",
              "\n",
              "    [theme=dark] .colab-df-convert:hover {\n",
              "      background-color: #434B5C;\n",
              "      box-shadow: 0px 1px 3px 1px rgba(0, 0, 0, 0.15);\n",
              "      filter: drop-shadow(0px 1px 2px rgba(0, 0, 0, 0.3));\n",
              "      fill: #FFFFFF;\n",
              "    }\n",
              "  </style>\n",
              "\n",
              "      <script>\n",
              "        const buttonEl =\n",
              "          document.querySelector('#df-a48731d3-52ce-4e8f-9709-60a6cd5e6ddf button.colab-df-convert');\n",
              "        buttonEl.style.display =\n",
              "          google.colab.kernel.accessAllowed ? 'block' : 'none';\n",
              "\n",
              "        async function convertToInteractive(key) {\n",
              "          const element = document.querySelector('#df-a48731d3-52ce-4e8f-9709-60a6cd5e6ddf');\n",
              "          const dataTable =\n",
              "            await google.colab.kernel.invokeFunction('convertToInteractive',\n",
              "                                                     [key], {});\n",
              "          if (!dataTable) return;\n",
              "\n",
              "          const docLinkHtml = 'Like what you see? Visit the ' +\n",
              "            '<a target=\"_blank\" href=https://colab.research.google.com/notebooks/data_table.ipynb>data table notebook</a>'\n",
              "            + ' to learn more about interactive tables.';\n",
              "          element.innerHTML = '';\n",
              "          dataTable['output_type'] = 'display_data';\n",
              "          await google.colab.output.renderOutput(dataTable, element);\n",
              "          const docLink = document.createElement('div');\n",
              "          docLink.innerHTML = docLinkHtml;\n",
              "          element.appendChild(docLink);\n",
              "        }\n",
              "      </script>\n",
              "    </div>\n",
              "  </div>\n",
              "  "
            ]
          },
          "metadata": {},
          "execution_count": 7
        }
      ],
      "source": [
        "df['text']=df['text_obj'].map(str)+\" \"+df['text_mthd'].map(str)+\" \"+df['text_deal'].map(str)\n",
        "i=[]\n",
        "for sentence in df['text']:\n",
        "    a=sentence.replace('nan', '')\n",
        "    i.append(a)\n",
        "df['text']=pd.DataFrame(i)\n",
        "df=df.drop(['text_obj','text_mthd', 'text_deal'], axis=1) # 기존에 있던 세개의 text변수 삭제\n",
        "df"
      ]
    },
    {
      "cell_type": "code",
      "source": [
        "df['digit_3'].value_counts()"
      ],
      "metadata": {
        "colab": {
          "base_uri": "https://localhost:8080/"
        },
        "id": "mzEwzSHzMsc5",
        "outputId": "dfbdf37c-a130-4d2c-be5b-21cd1074e024"
      },
      "execution_count": 8,
      "outputs": [
        {
          "output_type": "execute_result",
          "data": {
            "text/plain": [
              "381    704\n",
              "383    568\n",
              "370    436\n",
              "382    371\n",
              "360    147\n",
              "390     29\n",
              "Name: digit_3, dtype: int64"
            ]
          },
          "metadata": {},
          "execution_count": 8
        }
      ]
    },
    {
      "cell_type": "markdown",
      "metadata": {
        "id": "yzAnY0FvePIR"
      },
      "source": [
        "## 맞춤법 교정"
      ]
    },
    {
      "cell_type": "code",
      "source": [
        "!pip install git+https://github.com/ssut/py-hanspell"
      ],
      "metadata": {
        "colab": {
          "base_uri": "https://localhost:8080/"
        },
        "id": "U0g6lgW8yFAt",
        "outputId": "98481e6c-f6c3-4c1d-86e7-9f4a0ee93300"
      },
      "execution_count": 9,
      "outputs": [
        {
          "output_type": "stream",
          "name": "stdout",
          "text": [
            "Collecting git+https://github.com/ssut/py-hanspell\n",
            "  Cloning https://github.com/ssut/py-hanspell to /tmp/pip-req-build-kj9c4vl7\n",
            "  Running command git clone -q https://github.com/ssut/py-hanspell /tmp/pip-req-build-kj9c4vl7\n",
            "Requirement already satisfied: requests in /usr/local/lib/python3.7/dist-packages (from py-hanspell==1.1) (2.23.0)\n",
            "Requirement already satisfied: urllib3!=1.25.0,!=1.25.1,<1.26,>=1.21.1 in /usr/local/lib/python3.7/dist-packages (from requests->py-hanspell==1.1) (1.24.3)\n",
            "Requirement already satisfied: chardet<4,>=3.0.2 in /usr/local/lib/python3.7/dist-packages (from requests->py-hanspell==1.1) (3.0.4)\n",
            "Requirement already satisfied: idna<3,>=2.5 in /usr/local/lib/python3.7/dist-packages (from requests->py-hanspell==1.1) (2.10)\n",
            "Requirement already satisfied: certifi>=2017.4.17 in /usr/local/lib/python3.7/dist-packages (from requests->py-hanspell==1.1) (2021.10.8)\n",
            "Building wheels for collected packages: py-hanspell\n",
            "  Building wheel for py-hanspell (setup.py) ... \u001b[?25l\u001b[?25hdone\n",
            "  Created wheel for py-hanspell: filename=py_hanspell-1.1-py3-none-any.whl size=4868 sha256=f4b7cc8730b67298d7ee3bdfb229ba5546ad077f766933e6e4adc89781d4353f\n",
            "  Stored in directory: /tmp/pip-ephem-wheel-cache-5dfkv6va/wheels/31/c2/c7/ddbbd9a84ddb0a67c2e52e3324d4b7b47dcf9581af9cd784de\n",
            "Successfully built py-hanspell\n",
            "Installing collected packages: py-hanspell\n",
            "Successfully installed py-hanspell-1.1\n"
          ]
        }
      ]
    },
    {
      "cell_type": "code",
      "source": [
        "from hanspell import spell_checker\n",
        "\n",
        "temp_result=[]\n",
        "for sentence in df['text']:\n",
        "  try:\n",
        "    result=spell_checker.check(sentence)\n",
        "    temp_result.append(result.checked)\n",
        "  except:\n",
        "    temp_result.append(sentence)\n",
        "\n",
        "df['text']=pd.DataFrame(temp_result)  "
      ],
      "metadata": {
        "id": "8IykblSnyRsV"
      },
      "execution_count": 10,
      "outputs": []
    },
    {
      "cell_type": "code",
      "source": [
        "df.to_csv('df_E_spellcheck.csv', index=False, encoding='utf-8-sig')"
      ],
      "metadata": {
        "id": "y6d2WHbeN_23"
      },
      "execution_count": 11,
      "outputs": []
    },
    {
      "cell_type": "code",
      "source": [
        ""
      ],
      "metadata": {
        "id": "PkyJc0bXpU63"
      },
      "execution_count": null,
      "outputs": []
    },
    {
      "cell_type": "code",
      "source": [
        ""
      ],
      "metadata": {
        "id": "4addBclrHoYL"
      },
      "execution_count": null,
      "outputs": []
    }
  ],
  "metadata": {
    "accelerator": "GPU",
    "colab": {
      "background_execution": "on",
      "collapsed_sections": [],
      "machine_shape": "hm",
      "name": "Espell check의 사본의 사본의 사본의 사본",
      "provenance": [],
      "include_colab_link": true
    },
    "kernelspec": {
      "display_name": "Python 3",
      "name": "python3"
    },
    "language_info": {
      "name": "python"
    }
  },
  "nbformat": 4,
  "nbformat_minor": 0
}