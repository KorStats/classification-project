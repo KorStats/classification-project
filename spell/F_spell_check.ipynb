{
  "cells": [
    {
      "cell_type": "markdown",
      "metadata": {
        "id": "view-in-github",
        "colab_type": "text"
      },
      "source": [
        "<a href=\"https://colab.research.google.com/github/KorStats/classification-project/blob/main/spell/F_spell_check.ipynb\" target=\"_parent\"><img src=\"https://colab.research.google.com/assets/colab-badge.svg\" alt=\"Open In Colab\"/></a>"
      ]
    },
    {
      "cell_type": "markdown",
      "metadata": {
        "id": "U3wrPXQ_ORLb"
      },
      "source": [
        "## 구글드라이브에서 파일 읽어오기"
      ]
    },
    {
      "cell_type": "code",
      "execution_count": 1,
      "metadata": {
        "colab": {
          "base_uri": "https://localhost:8080/"
        },
        "id": "dqJbzoq_OPxK",
        "outputId": "ba38bed0-8277-41ac-bc5c-a2b8c19ac747"
      },
      "outputs": [
        {
          "output_type": "stream",
          "name": "stdout",
          "text": [
            "Mounted at /content/drive\n"
          ]
        }
      ],
      "source": [
        "from google.colab import drive\n",
        "drive.mount('/content/drive')"
      ]
    },
    {
      "cell_type": "code",
      "execution_count": 2,
      "metadata": {
        "colab": {
          "base_uri": "https://localhost:8080/"
        },
        "id": "wmtIZqMGOdVX",
        "outputId": "fa575534-2371-4ea4-ab0d-c2af6e1c36cd"
      },
      "outputs": [
        {
          "output_type": "stream",
          "name": "stdout",
          "text": [
            "Mounted at /content/gdrive\n",
            " 기본\t\t    G_inc_again_so_model.pt\n",
            " 산업분류자동화    'My Drive'\n",
            "'Colab Notebooks'   Screenshot_20220401-001411_Chrome.jpg\n"
          ]
        }
      ],
      "source": [
        "from google.colab import drive\n",
        "drive.mount('/content/gdrive')\n",
        "!ln -s /content/gdrive/My\\ Drive/ /mydrive\n",
        "!ls /mydrive"
      ]
    },
    {
      "cell_type": "code",
      "execution_count": 11,
      "metadata": {
        "id": "-lGZy4fGpXlo"
      },
      "outputs": [],
      "source": [
        "import pandas as pd\n",
        "df=pd.read_csv('/content/gdrive/MyDrive/산업분류자동화/1. 실습용자료.txt', sep = \"|\", encoding = \"euc-kr\")"
      ]
    },
    {
      "cell_type": "markdown",
      "metadata": {
        "id": "geFjTXHh5-dy"
      },
      "source": [
        "## 데이터 전처리"
      ]
    },
    {
      "cell_type": "code",
      "execution_count": 12,
      "metadata": {
        "id": "5RbL6zqMdTtY"
      },
      "outputs": [],
      "source": [
        "df=df[(df['digit_1'] =='F')] #조건에 맞는 데이터 출력"
      ]
    },
    {
      "cell_type": "code",
      "source": [
        "df=df.reset_index(drop=True)\n",
        "df"
      ],
      "metadata": {
        "colab": {
          "base_uri": "https://localhost:8080/",
          "height": 424
        },
        "id": "3ISvtyKhpKd2",
        "outputId": "6a83ca7f-6a9b-4a85-97f0-aa865850366c"
      },
      "execution_count": 13,
      "outputs": [
        {
          "output_type": "execute_result",
          "data": {
            "text/plain": [
              "            AI_id digit_1  digit_2  digit_3  text_obj         text_mthd  \\\n",
              "0      id_0000010       F       42      423     영업장에서          고객의뢰를 받아   \n",
              "1      id_0000052       F       42      422     사업장에서           의뢰.요청받아   \n",
              "2      id_0000197       F       41      411      현장에서         고개의 요청에따라   \n",
              "3      id_0000222       F       42      422      건축물내         기계,장비설치공사   \n",
              "4      id_0000227       F       42      424       건물내          고객요구에 따라   \n",
              "...           ...     ...      ...      ...       ...               ...   \n",
              "35045  id_0999849       F       42      424       NaN  토탈인테리어및 유리바닥재도소매   \n",
              "35046  id_0999875       F       41      412    건설현장에서        고객의 의뢰를 받아   \n",
              "35047  id_0999989       F       41      412      현장에서               건설업   \n",
              "35048  id_0999993       F       41      412  고객의사업장에서           고객요구의따라   \n",
              "35049  id_0999997       F       42      424      현장에서          고객의요청에의해   \n",
              "\n",
              "      text_deal  \n",
              "0        내부전기공사  \n",
              "1       상수도배관공사  \n",
              "2          주택건설  \n",
              "3        공조기 설치  \n",
              "4        인테리어공사  \n",
              "...         ...  \n",
              "35045       NaN  \n",
              "35046      토목공사  \n",
              "35047     토목시설물  \n",
              "35048    조경건설공사  \n",
              "35049    실내인테리어  \n",
              "\n",
              "[35050 rows x 7 columns]"
            ],
            "text/html": [
              "\n",
              "  <div id=\"df-7d2484b1-b7a0-4639-9df6-efd07c3b031c\">\n",
              "    <div class=\"colab-df-container\">\n",
              "      <div>\n",
              "<style scoped>\n",
              "    .dataframe tbody tr th:only-of-type {\n",
              "        vertical-align: middle;\n",
              "    }\n",
              "\n",
              "    .dataframe tbody tr th {\n",
              "        vertical-align: top;\n",
              "    }\n",
              "\n",
              "    .dataframe thead th {\n",
              "        text-align: right;\n",
              "    }\n",
              "</style>\n",
              "<table border=\"1\" class=\"dataframe\">\n",
              "  <thead>\n",
              "    <tr style=\"text-align: right;\">\n",
              "      <th></th>\n",
              "      <th>AI_id</th>\n",
              "      <th>digit_1</th>\n",
              "      <th>digit_2</th>\n",
              "      <th>digit_3</th>\n",
              "      <th>text_obj</th>\n",
              "      <th>text_mthd</th>\n",
              "      <th>text_deal</th>\n",
              "    </tr>\n",
              "  </thead>\n",
              "  <tbody>\n",
              "    <tr>\n",
              "      <th>0</th>\n",
              "      <td>id_0000010</td>\n",
              "      <td>F</td>\n",
              "      <td>42</td>\n",
              "      <td>423</td>\n",
              "      <td>영업장에서</td>\n",
              "      <td>고객의뢰를 받아</td>\n",
              "      <td>내부전기공사</td>\n",
              "    </tr>\n",
              "    <tr>\n",
              "      <th>1</th>\n",
              "      <td>id_0000052</td>\n",
              "      <td>F</td>\n",
              "      <td>42</td>\n",
              "      <td>422</td>\n",
              "      <td>사업장에서</td>\n",
              "      <td>의뢰.요청받아</td>\n",
              "      <td>상수도배관공사</td>\n",
              "    </tr>\n",
              "    <tr>\n",
              "      <th>2</th>\n",
              "      <td>id_0000197</td>\n",
              "      <td>F</td>\n",
              "      <td>41</td>\n",
              "      <td>411</td>\n",
              "      <td>현장에서</td>\n",
              "      <td>고개의 요청에따라</td>\n",
              "      <td>주택건설</td>\n",
              "    </tr>\n",
              "    <tr>\n",
              "      <th>3</th>\n",
              "      <td>id_0000222</td>\n",
              "      <td>F</td>\n",
              "      <td>42</td>\n",
              "      <td>422</td>\n",
              "      <td>건축물내</td>\n",
              "      <td>기계,장비설치공사</td>\n",
              "      <td>공조기 설치</td>\n",
              "    </tr>\n",
              "    <tr>\n",
              "      <th>4</th>\n",
              "      <td>id_0000227</td>\n",
              "      <td>F</td>\n",
              "      <td>42</td>\n",
              "      <td>424</td>\n",
              "      <td>건물내</td>\n",
              "      <td>고객요구에 따라</td>\n",
              "      <td>인테리어공사</td>\n",
              "    </tr>\n",
              "    <tr>\n",
              "      <th>...</th>\n",
              "      <td>...</td>\n",
              "      <td>...</td>\n",
              "      <td>...</td>\n",
              "      <td>...</td>\n",
              "      <td>...</td>\n",
              "      <td>...</td>\n",
              "      <td>...</td>\n",
              "    </tr>\n",
              "    <tr>\n",
              "      <th>35045</th>\n",
              "      <td>id_0999849</td>\n",
              "      <td>F</td>\n",
              "      <td>42</td>\n",
              "      <td>424</td>\n",
              "      <td>NaN</td>\n",
              "      <td>토탈인테리어및 유리바닥재도소매</td>\n",
              "      <td>NaN</td>\n",
              "    </tr>\n",
              "    <tr>\n",
              "      <th>35046</th>\n",
              "      <td>id_0999875</td>\n",
              "      <td>F</td>\n",
              "      <td>41</td>\n",
              "      <td>412</td>\n",
              "      <td>건설현장에서</td>\n",
              "      <td>고객의 의뢰를 받아</td>\n",
              "      <td>토목공사</td>\n",
              "    </tr>\n",
              "    <tr>\n",
              "      <th>35047</th>\n",
              "      <td>id_0999989</td>\n",
              "      <td>F</td>\n",
              "      <td>41</td>\n",
              "      <td>412</td>\n",
              "      <td>현장에서</td>\n",
              "      <td>건설업</td>\n",
              "      <td>토목시설물</td>\n",
              "    </tr>\n",
              "    <tr>\n",
              "      <th>35048</th>\n",
              "      <td>id_0999993</td>\n",
              "      <td>F</td>\n",
              "      <td>41</td>\n",
              "      <td>412</td>\n",
              "      <td>고객의사업장에서</td>\n",
              "      <td>고객요구의따라</td>\n",
              "      <td>조경건설공사</td>\n",
              "    </tr>\n",
              "    <tr>\n",
              "      <th>35049</th>\n",
              "      <td>id_0999997</td>\n",
              "      <td>F</td>\n",
              "      <td>42</td>\n",
              "      <td>424</td>\n",
              "      <td>현장에서</td>\n",
              "      <td>고객의요청에의해</td>\n",
              "      <td>실내인테리어</td>\n",
              "    </tr>\n",
              "  </tbody>\n",
              "</table>\n",
              "<p>35050 rows × 7 columns</p>\n",
              "</div>\n",
              "      <button class=\"colab-df-convert\" onclick=\"convertToInteractive('df-7d2484b1-b7a0-4639-9df6-efd07c3b031c')\"\n",
              "              title=\"Convert this dataframe to an interactive table.\"\n",
              "              style=\"display:none;\">\n",
              "        \n",
              "  <svg xmlns=\"http://www.w3.org/2000/svg\" height=\"24px\"viewBox=\"0 0 24 24\"\n",
              "       width=\"24px\">\n",
              "    <path d=\"M0 0h24v24H0V0z\" fill=\"none\"/>\n",
              "    <path d=\"M18.56 5.44l.94 2.06.94-2.06 2.06-.94-2.06-.94-.94-2.06-.94 2.06-2.06.94zm-11 1L8.5 8.5l.94-2.06 2.06-.94-2.06-.94L8.5 2.5l-.94 2.06-2.06.94zm10 10l.94 2.06.94-2.06 2.06-.94-2.06-.94-.94-2.06-.94 2.06-2.06.94z\"/><path d=\"M17.41 7.96l-1.37-1.37c-.4-.4-.92-.59-1.43-.59-.52 0-1.04.2-1.43.59L10.3 9.45l-7.72 7.72c-.78.78-.78 2.05 0 2.83L4 21.41c.39.39.9.59 1.41.59.51 0 1.02-.2 1.41-.59l7.78-7.78 2.81-2.81c.8-.78.8-2.07 0-2.86zM5.41 20L4 18.59l7.72-7.72 1.47 1.35L5.41 20z\"/>\n",
              "  </svg>\n",
              "      </button>\n",
              "      \n",
              "  <style>\n",
              "    .colab-df-container {\n",
              "      display:flex;\n",
              "      flex-wrap:wrap;\n",
              "      gap: 12px;\n",
              "    }\n",
              "\n",
              "    .colab-df-convert {\n",
              "      background-color: #E8F0FE;\n",
              "      border: none;\n",
              "      border-radius: 50%;\n",
              "      cursor: pointer;\n",
              "      display: none;\n",
              "      fill: #1967D2;\n",
              "      height: 32px;\n",
              "      padding: 0 0 0 0;\n",
              "      width: 32px;\n",
              "    }\n",
              "\n",
              "    .colab-df-convert:hover {\n",
              "      background-color: #E2EBFA;\n",
              "      box-shadow: 0px 1px 2px rgba(60, 64, 67, 0.3), 0px 1px 3px 1px rgba(60, 64, 67, 0.15);\n",
              "      fill: #174EA6;\n",
              "    }\n",
              "\n",
              "    [theme=dark] .colab-df-convert {\n",
              "      background-color: #3B4455;\n",
              "      fill: #D2E3FC;\n",
              "    }\n",
              "\n",
              "    [theme=dark] .colab-df-convert:hover {\n",
              "      background-color: #434B5C;\n",
              "      box-shadow: 0px 1px 3px 1px rgba(0, 0, 0, 0.15);\n",
              "      filter: drop-shadow(0px 1px 2px rgba(0, 0, 0, 0.3));\n",
              "      fill: #FFFFFF;\n",
              "    }\n",
              "  </style>\n",
              "\n",
              "      <script>\n",
              "        const buttonEl =\n",
              "          document.querySelector('#df-7d2484b1-b7a0-4639-9df6-efd07c3b031c button.colab-df-convert');\n",
              "        buttonEl.style.display =\n",
              "          google.colab.kernel.accessAllowed ? 'block' : 'none';\n",
              "\n",
              "        async function convertToInteractive(key) {\n",
              "          const element = document.querySelector('#df-7d2484b1-b7a0-4639-9df6-efd07c3b031c');\n",
              "          const dataTable =\n",
              "            await google.colab.kernel.invokeFunction('convertToInteractive',\n",
              "                                                     [key], {});\n",
              "          if (!dataTable) return;\n",
              "\n",
              "          const docLinkHtml = 'Like what you see? Visit the ' +\n",
              "            '<a target=\"_blank\" href=https://colab.research.google.com/notebooks/data_table.ipynb>data table notebook</a>'\n",
              "            + ' to learn more about interactive tables.';\n",
              "          element.innerHTML = '';\n",
              "          dataTable['output_type'] = 'display_data';\n",
              "          await google.colab.output.renderOutput(dataTable, element);\n",
              "          const docLink = document.createElement('div');\n",
              "          docLink.innerHTML = docLinkHtml;\n",
              "          element.appendChild(docLink);\n",
              "        }\n",
              "      </script>\n",
              "    </div>\n",
              "  </div>\n",
              "  "
            ]
          },
          "metadata": {},
          "execution_count": 13
        }
      ]
    },
    {
      "cell_type": "code",
      "execution_count": 14,
      "metadata": {
        "colab": {
          "base_uri": "https://localhost:8080/",
          "height": 424
        },
        "id": "fjEcvrtH59q-",
        "outputId": "d71cfb5d-5b50-4c12-b23d-50495fb68580"
      },
      "outputs": [
        {
          "output_type": "execute_result",
          "data": {
            "text/plain": [
              "            AI_id digit_1  digit_2  digit_3                     text\n",
              "0      id_0000010       F       42      423    영업장에서 고객의뢰를 받아 내부전기공사\n",
              "1      id_0000052       F       42      422    사업장에서 의뢰.요청받아 상수도배관공사\n",
              "2      id_0000197       F       41      411      현장에서 고개의 요청에따라 주택건설\n",
              "3      id_0000222       F       42      422    건축물내 기계,장비설치공사 공조기 설치\n",
              "4      id_0000227       F       42      424      건물내 고객요구에 따라 인테리어공사\n",
              "...           ...     ...      ...      ...                      ...\n",
              "35045  id_0999849       F       42      424        토탈인테리어및 유리바닥재도소매 \n",
              "35046  id_0999875       F       41      412   건설현장에서 고객의 의뢰를 받아 토목공사\n",
              "35047  id_0999989       F       41      412           현장에서 건설업 토목시설물\n",
              "35048  id_0999993       F       41      412  고객의사업장에서 고객요구의따라 조경건설공사\n",
              "35049  id_0999997       F       42      424     현장에서 고객의요청에의해 실내인테리어\n",
              "\n",
              "[35050 rows x 5 columns]"
            ],
            "text/html": [
              "\n",
              "  <div id=\"df-4a68b136-6ba6-44ed-976a-94c9ee33646a\">\n",
              "    <div class=\"colab-df-container\">\n",
              "      <div>\n",
              "<style scoped>\n",
              "    .dataframe tbody tr th:only-of-type {\n",
              "        vertical-align: middle;\n",
              "    }\n",
              "\n",
              "    .dataframe tbody tr th {\n",
              "        vertical-align: top;\n",
              "    }\n",
              "\n",
              "    .dataframe thead th {\n",
              "        text-align: right;\n",
              "    }\n",
              "</style>\n",
              "<table border=\"1\" class=\"dataframe\">\n",
              "  <thead>\n",
              "    <tr style=\"text-align: right;\">\n",
              "      <th></th>\n",
              "      <th>AI_id</th>\n",
              "      <th>digit_1</th>\n",
              "      <th>digit_2</th>\n",
              "      <th>digit_3</th>\n",
              "      <th>text</th>\n",
              "    </tr>\n",
              "  </thead>\n",
              "  <tbody>\n",
              "    <tr>\n",
              "      <th>0</th>\n",
              "      <td>id_0000010</td>\n",
              "      <td>F</td>\n",
              "      <td>42</td>\n",
              "      <td>423</td>\n",
              "      <td>영업장에서 고객의뢰를 받아 내부전기공사</td>\n",
              "    </tr>\n",
              "    <tr>\n",
              "      <th>1</th>\n",
              "      <td>id_0000052</td>\n",
              "      <td>F</td>\n",
              "      <td>42</td>\n",
              "      <td>422</td>\n",
              "      <td>사업장에서 의뢰.요청받아 상수도배관공사</td>\n",
              "    </tr>\n",
              "    <tr>\n",
              "      <th>2</th>\n",
              "      <td>id_0000197</td>\n",
              "      <td>F</td>\n",
              "      <td>41</td>\n",
              "      <td>411</td>\n",
              "      <td>현장에서 고개의 요청에따라 주택건설</td>\n",
              "    </tr>\n",
              "    <tr>\n",
              "      <th>3</th>\n",
              "      <td>id_0000222</td>\n",
              "      <td>F</td>\n",
              "      <td>42</td>\n",
              "      <td>422</td>\n",
              "      <td>건축물내 기계,장비설치공사 공조기 설치</td>\n",
              "    </tr>\n",
              "    <tr>\n",
              "      <th>4</th>\n",
              "      <td>id_0000227</td>\n",
              "      <td>F</td>\n",
              "      <td>42</td>\n",
              "      <td>424</td>\n",
              "      <td>건물내 고객요구에 따라 인테리어공사</td>\n",
              "    </tr>\n",
              "    <tr>\n",
              "      <th>...</th>\n",
              "      <td>...</td>\n",
              "      <td>...</td>\n",
              "      <td>...</td>\n",
              "      <td>...</td>\n",
              "      <td>...</td>\n",
              "    </tr>\n",
              "    <tr>\n",
              "      <th>35045</th>\n",
              "      <td>id_0999849</td>\n",
              "      <td>F</td>\n",
              "      <td>42</td>\n",
              "      <td>424</td>\n",
              "      <td>토탈인테리어및 유리바닥재도소매</td>\n",
              "    </tr>\n",
              "    <tr>\n",
              "      <th>35046</th>\n",
              "      <td>id_0999875</td>\n",
              "      <td>F</td>\n",
              "      <td>41</td>\n",
              "      <td>412</td>\n",
              "      <td>건설현장에서 고객의 의뢰를 받아 토목공사</td>\n",
              "    </tr>\n",
              "    <tr>\n",
              "      <th>35047</th>\n",
              "      <td>id_0999989</td>\n",
              "      <td>F</td>\n",
              "      <td>41</td>\n",
              "      <td>412</td>\n",
              "      <td>현장에서 건설업 토목시설물</td>\n",
              "    </tr>\n",
              "    <tr>\n",
              "      <th>35048</th>\n",
              "      <td>id_0999993</td>\n",
              "      <td>F</td>\n",
              "      <td>41</td>\n",
              "      <td>412</td>\n",
              "      <td>고객의사업장에서 고객요구의따라 조경건설공사</td>\n",
              "    </tr>\n",
              "    <tr>\n",
              "      <th>35049</th>\n",
              "      <td>id_0999997</td>\n",
              "      <td>F</td>\n",
              "      <td>42</td>\n",
              "      <td>424</td>\n",
              "      <td>현장에서 고객의요청에의해 실내인테리어</td>\n",
              "    </tr>\n",
              "  </tbody>\n",
              "</table>\n",
              "<p>35050 rows × 5 columns</p>\n",
              "</div>\n",
              "      <button class=\"colab-df-convert\" onclick=\"convertToInteractive('df-4a68b136-6ba6-44ed-976a-94c9ee33646a')\"\n",
              "              title=\"Convert this dataframe to an interactive table.\"\n",
              "              style=\"display:none;\">\n",
              "        \n",
              "  <svg xmlns=\"http://www.w3.org/2000/svg\" height=\"24px\"viewBox=\"0 0 24 24\"\n",
              "       width=\"24px\">\n",
              "    <path d=\"M0 0h24v24H0V0z\" fill=\"none\"/>\n",
              "    <path d=\"M18.56 5.44l.94 2.06.94-2.06 2.06-.94-2.06-.94-.94-2.06-.94 2.06-2.06.94zm-11 1L8.5 8.5l.94-2.06 2.06-.94-2.06-.94L8.5 2.5l-.94 2.06-2.06.94zm10 10l.94 2.06.94-2.06 2.06-.94-2.06-.94-.94-2.06-.94 2.06-2.06.94z\"/><path d=\"M17.41 7.96l-1.37-1.37c-.4-.4-.92-.59-1.43-.59-.52 0-1.04.2-1.43.59L10.3 9.45l-7.72 7.72c-.78.78-.78 2.05 0 2.83L4 21.41c.39.39.9.59 1.41.59.51 0 1.02-.2 1.41-.59l7.78-7.78 2.81-2.81c.8-.78.8-2.07 0-2.86zM5.41 20L4 18.59l7.72-7.72 1.47 1.35L5.41 20z\"/>\n",
              "  </svg>\n",
              "      </button>\n",
              "      \n",
              "  <style>\n",
              "    .colab-df-container {\n",
              "      display:flex;\n",
              "      flex-wrap:wrap;\n",
              "      gap: 12px;\n",
              "    }\n",
              "\n",
              "    .colab-df-convert {\n",
              "      background-color: #E8F0FE;\n",
              "      border: none;\n",
              "      border-radius: 50%;\n",
              "      cursor: pointer;\n",
              "      display: none;\n",
              "      fill: #1967D2;\n",
              "      height: 32px;\n",
              "      padding: 0 0 0 0;\n",
              "      width: 32px;\n",
              "    }\n",
              "\n",
              "    .colab-df-convert:hover {\n",
              "      background-color: #E2EBFA;\n",
              "      box-shadow: 0px 1px 2px rgba(60, 64, 67, 0.3), 0px 1px 3px 1px rgba(60, 64, 67, 0.15);\n",
              "      fill: #174EA6;\n",
              "    }\n",
              "\n",
              "    [theme=dark] .colab-df-convert {\n",
              "      background-color: #3B4455;\n",
              "      fill: #D2E3FC;\n",
              "    }\n",
              "\n",
              "    [theme=dark] .colab-df-convert:hover {\n",
              "      background-color: #434B5C;\n",
              "      box-shadow: 0px 1px 3px 1px rgba(0, 0, 0, 0.15);\n",
              "      filter: drop-shadow(0px 1px 2px rgba(0, 0, 0, 0.3));\n",
              "      fill: #FFFFFF;\n",
              "    }\n",
              "  </style>\n",
              "\n",
              "      <script>\n",
              "        const buttonEl =\n",
              "          document.querySelector('#df-4a68b136-6ba6-44ed-976a-94c9ee33646a button.colab-df-convert');\n",
              "        buttonEl.style.display =\n",
              "          google.colab.kernel.accessAllowed ? 'block' : 'none';\n",
              "\n",
              "        async function convertToInteractive(key) {\n",
              "          const element = document.querySelector('#df-4a68b136-6ba6-44ed-976a-94c9ee33646a');\n",
              "          const dataTable =\n",
              "            await google.colab.kernel.invokeFunction('convertToInteractive',\n",
              "                                                     [key], {});\n",
              "          if (!dataTable) return;\n",
              "\n",
              "          const docLinkHtml = 'Like what you see? Visit the ' +\n",
              "            '<a target=\"_blank\" href=https://colab.research.google.com/notebooks/data_table.ipynb>data table notebook</a>'\n",
              "            + ' to learn more about interactive tables.';\n",
              "          element.innerHTML = '';\n",
              "          dataTable['output_type'] = 'display_data';\n",
              "          await google.colab.output.renderOutput(dataTable, element);\n",
              "          const docLink = document.createElement('div');\n",
              "          docLink.innerHTML = docLinkHtml;\n",
              "          element.appendChild(docLink);\n",
              "        }\n",
              "      </script>\n",
              "    </div>\n",
              "  </div>\n",
              "  "
            ]
          },
          "metadata": {},
          "execution_count": 14
        }
      ],
      "source": [
        "df['text']=df['text_obj'].map(str)+\" \"+df['text_mthd'].map(str)+\" \"+df['text_deal'].map(str)\n",
        "i=[]\n",
        "for sentence in df['text']:\n",
        "    a=sentence.replace('nan', '')\n",
        "    i.append(a)\n",
        "df['text']=pd.DataFrame(i)\n",
        "df=df.drop(['text_obj','text_mthd', 'text_deal'], axis=1) # 기존에 있던 세개의 text변수 삭제\n",
        "df"
      ]
    },
    {
      "cell_type": "code",
      "source": [
        "df['digit_3'].value_counts()"
      ],
      "metadata": {
        "colab": {
          "base_uri": "https://localhost:8080/"
        },
        "id": "mzEwzSHzMsc5",
        "outputId": "b560f758-ac88-4498-de0b-ff152c79234e"
      },
      "execution_count": 15,
      "outputs": [
        {
          "output_type": "execute_result",
          "data": {
            "text/plain": [
              "424    11152\n",
              "422     5744\n",
              "421     4724\n",
              "423     4360\n",
              "411     3582\n",
              "412     3363\n",
              "426     1566\n",
              "425      559\n",
              "Name: digit_3, dtype: int64"
            ]
          },
          "metadata": {},
          "execution_count": 15
        }
      ]
    },
    {
      "cell_type": "markdown",
      "metadata": {
        "id": "yzAnY0FvePIR"
      },
      "source": [
        "## 맞춤법 교정"
      ]
    },
    {
      "cell_type": "code",
      "source": [
        "!pip install git+https://github.com/ssut/py-hanspell"
      ],
      "metadata": {
        "colab": {
          "base_uri": "https://localhost:8080/"
        },
        "id": "U0g6lgW8yFAt",
        "outputId": "03fb0d8b-be9a-4144-e62b-9b056933b993"
      },
      "execution_count": 16,
      "outputs": [
        {
          "output_type": "stream",
          "name": "stdout",
          "text": [
            "Collecting git+https://github.com/ssut/py-hanspell\n",
            "  Cloning https://github.com/ssut/py-hanspell to /tmp/pip-req-build-8ybnqjg0\n",
            "  Running command git clone -q https://github.com/ssut/py-hanspell /tmp/pip-req-build-8ybnqjg0\n",
            "Requirement already satisfied: requests in /usr/local/lib/python3.7/dist-packages (from py-hanspell==1.1) (2.23.0)\n",
            "Requirement already satisfied: idna<3,>=2.5 in /usr/local/lib/python3.7/dist-packages (from requests->py-hanspell==1.1) (2.10)\n",
            "Requirement already satisfied: urllib3!=1.25.0,!=1.25.1,<1.26,>=1.21.1 in /usr/local/lib/python3.7/dist-packages (from requests->py-hanspell==1.1) (1.24.3)\n",
            "Requirement already satisfied: chardet<4,>=3.0.2 in /usr/local/lib/python3.7/dist-packages (from requests->py-hanspell==1.1) (3.0.4)\n",
            "Requirement already satisfied: certifi>=2017.4.17 in /usr/local/lib/python3.7/dist-packages (from requests->py-hanspell==1.1) (2021.10.8)\n"
          ]
        }
      ]
    },
    {
      "cell_type": "code",
      "source": [
        "from hanspell import spell_checker\n",
        "\n",
        "temp_result=[]\n",
        "for sentence in df['text']:\n",
        "  try:\n",
        "    result=spell_checker.check(sentence)\n",
        "    temp_result.append(result.checked)\n",
        "  except:\n",
        "    temp_result.append(sentence)\n",
        "\n",
        "df['text']=pd.DataFrame(temp_result)  "
      ],
      "metadata": {
        "id": "8IykblSnyRsV"
      },
      "execution_count": 17,
      "outputs": []
    },
    {
      "cell_type": "code",
      "source": [
        ""
      ],
      "metadata": {
        "id": "iwN_1zEuDylC"
      },
      "execution_count": null,
      "outputs": []
    },
    {
      "cell_type": "code",
      "source": [
        ""
      ],
      "metadata": {
        "id": "PttiTZRODyU6"
      },
      "execution_count": null,
      "outputs": []
    },
    {
      "cell_type": "code",
      "source": [
        "df.to_csv('df_F_spellcheck.csv', index=False, encoding='utf-8-sig')"
      ],
      "metadata": {
        "id": "y6d2WHbeN_23"
      },
      "execution_count": 18,
      "outputs": []
    },
    {
      "cell_type": "code",
      "source": [
        ""
      ],
      "metadata": {
        "id": "xFEDsLBav4Wt"
      },
      "execution_count": 10,
      "outputs": []
    },
    {
      "cell_type": "code",
      "source": [
        ""
      ],
      "metadata": {
        "id": "yoPWnwQd70YY"
      },
      "execution_count": 10,
      "outputs": []
    },
    {
      "cell_type": "code",
      "source": [
        ""
      ],
      "metadata": {
        "id": "b6FOOi_JxZt8"
      },
      "execution_count": 10,
      "outputs": []
    }
  ],
  "metadata": {
    "accelerator": "GPU",
    "colab": {
      "background_execution": "on",
      "collapsed_sections": [],
      "machine_shape": "hm",
      "name": "S spell check의 사본",
      "provenance": [],
      "include_colab_link": true
    },
    "kernelspec": {
      "display_name": "Python 3",
      "name": "python3"
    },
    "language_info": {
      "name": "python"
    }
  },
  "nbformat": 4,
  "nbformat_minor": 0
}