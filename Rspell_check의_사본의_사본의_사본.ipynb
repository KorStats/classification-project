{
  "cells": [
    {
      "cell_type": "markdown",
      "metadata": {
        "id": "view-in-github",
        "colab_type": "text"
      },
      "source": [
        "<a href=\"https://colab.research.google.com/github/KorStats/classification-project/blob/main/Rspell_check%EC%9D%98_%EC%82%AC%EB%B3%B8%EC%9D%98_%EC%82%AC%EB%B3%B8%EC%9D%98_%EC%82%AC%EB%B3%B8.ipynb\" target=\"_parent\"><img src=\"https://colab.research.google.com/assets/colab-badge.svg\" alt=\"Open In Colab\"/></a>"
      ]
    },
    {
      "cell_type": "markdown",
      "metadata": {
        "id": "U3wrPXQ_ORLb"
      },
      "source": [
        "## 구글드라이브에서 파일 읽어오기"
      ]
    },
    {
      "cell_type": "code",
      "execution_count": 1,
      "metadata": {
        "colab": {
          "base_uri": "https://localhost:8080/"
        },
        "id": "dqJbzoq_OPxK",
        "outputId": "61b7f4f9-e263-4f25-9b1b-ba91962de461"
      },
      "outputs": [
        {
          "output_type": "stream",
          "name": "stdout",
          "text": [
            "Mounted at /content/drive\n"
          ]
        }
      ],
      "source": [
        "from google.colab import drive\n",
        "drive.mount('/content/drive')"
      ]
    },
    {
      "cell_type": "code",
      "execution_count": 2,
      "metadata": {
        "colab": {
          "base_uri": "https://localhost:8080/"
        },
        "id": "wmtIZqMGOdVX",
        "outputId": "f5166a53-38cc-4698-831b-32bba90b1d40"
      },
      "outputs": [
        {
          "output_type": "stream",
          "name": "stdout",
          "text": [
            "Mounted at /content/gdrive\n",
            " 산업분류자동화\t\t df_C_inc.csv\t   df_K_inc.csv     spell_check\n",
            "'Colab Notebooks'\t'# df_G_inc.csv'   df_P_inc.csv\n",
            " C_ori_model.pt\t\t df_G_inc.csv\t  'My Drive'\n",
            "'답안 작성용 파일.csv'\t df_J_inc.csv\t   Q_inc_model.pt\n"
          ]
        }
      ],
      "source": [
        "from google.colab import drive\n",
        "drive.mount('/content/gdrive')\n",
        "!ln -s /content/gdrive/My\\ Drive/ /mydrive\n",
        "!ls /mydrive"
      ]
    },
    {
      "cell_type": "code",
      "execution_count": 3,
      "metadata": {
        "colab": {
          "base_uri": "https://localhost:8080/"
        },
        "id": "xV_iSLl7QFgx",
        "outputId": "ff4b760b-16a5-4ee3-ea45-f1f43e37e2d4"
      },
      "outputs": [
        {
          "output_type": "stream",
          "name": "stdout",
          "text": [
            "Archive:  /content/gdrive/My Drive/산업분류자동화/실습용 자료.zip\n",
            "1. 실습용자료.txt:  mismatching \"local\" filename (1. ьЛдьК╡ьЪйьЮРыгМ.txt),\n",
            "         continuing with \"central\" filename version\n",
            "  inflating: /content/dataset/1. 실습용자료.txt  \n"
          ]
        }
      ],
      "source": [
        "!unzip /content/gdrive/'My Drive'/산업분류자동화/'실습용 자료'.zip -d /content/dataset"
      ]
    },
    {
      "cell_type": "code",
      "execution_count": 4,
      "metadata": {
        "id": "-lGZy4fGpXlo"
      },
      "outputs": [],
      "source": [
        "import pandas as pd\n",
        "df=pd.read_csv('/content/dataset/1. 실습용자료.txt', sep = \"|\", encoding = \"euc-kr\")"
      ]
    },
    {
      "cell_type": "markdown",
      "metadata": {
        "id": "geFjTXHh5-dy"
      },
      "source": [
        "## 데이터 전처리"
      ]
    },
    {
      "cell_type": "code",
      "execution_count": 5,
      "metadata": {
        "id": "5RbL6zqMdTtY"
      },
      "outputs": [],
      "source": [
        "df=df[(df['digit_1'] =='R')] #조건에 맞는 데이터 출력"
      ]
    },
    {
      "cell_type": "code",
      "source": [
        "df=df.reset_index(drop=True)\n",
        "df"
      ],
      "metadata": {
        "colab": {
          "base_uri": "https://localhost:8080/",
          "height": 423
        },
        "id": "3ISvtyKhpKd2",
        "outputId": "e4276e59-ca25-464d-92d6-3ec8e7b0fc60"
      },
      "execution_count": 6,
      "outputs": [
        {
          "output_type": "execute_result",
          "data": {
            "text/plain": [
              "            AI_id digit_1  digit_2  digit_3 text_obj     text_mthd  \\\n",
              "0      id_0000022       R       91      911       당구           NaN   \n",
              "1      id_0000050       R       91      912     매장에서      유치부,초등대상   \n",
              "2      id_0000080       R       91      912    노래방에서       시설을 갖추고   \n",
              "3      id_0000089       R       91      912    노래방에서   노래기기시설을 갖추고   \n",
              "4      id_0000144       R       90      901    사업장에서         공연,연주   \n",
              "...           ...     ...      ...      ...      ...           ...   \n",
              "29746  id_0999854       R       91      912    노래방에서  노래기기 시설을 갖추고   \n",
              "29747  id_0999870       R       90      901     공연예술         기획사에서   \n",
              "29748  id_0999886       R       91      912    노래연습장     노래연습서비스제공   \n",
              "29749  id_0999913       R       90      901    사업장에서     공연시설을 갖추고   \n",
              "29750  id_0999917       R       91      912    피시방에서       시설을 갖추고   \n",
              "\n",
              "           text_deal  \n",
              "0                NaN  \n",
              "1      레고블럭조립놀이,장소제공  \n",
              "2             노래방 운영  \n",
              "3            노래연습서비스  \n",
              "4                 기획  \n",
              "...              ...  \n",
              "29746           노래연습  \n",
              "29747          공연기획팀  \n",
              "29748        노래방기기대여  \n",
              "29749          공연장운영  \n",
              "29750       컴퓨터게임방운영  \n",
              "\n",
              "[29751 rows x 7 columns]"
            ],
            "text/html": [
              "\n",
              "  <div id=\"df-223898d5-e6d2-477d-8b1f-a3234ef71f58\">\n",
              "    <div class=\"colab-df-container\">\n",
              "      <div>\n",
              "<style scoped>\n",
              "    .dataframe tbody tr th:only-of-type {\n",
              "        vertical-align: middle;\n",
              "    }\n",
              "\n",
              "    .dataframe tbody tr th {\n",
              "        vertical-align: top;\n",
              "    }\n",
              "\n",
              "    .dataframe thead th {\n",
              "        text-align: right;\n",
              "    }\n",
              "</style>\n",
              "<table border=\"1\" class=\"dataframe\">\n",
              "  <thead>\n",
              "    <tr style=\"text-align: right;\">\n",
              "      <th></th>\n",
              "      <th>AI_id</th>\n",
              "      <th>digit_1</th>\n",
              "      <th>digit_2</th>\n",
              "      <th>digit_3</th>\n",
              "      <th>text_obj</th>\n",
              "      <th>text_mthd</th>\n",
              "      <th>text_deal</th>\n",
              "    </tr>\n",
              "  </thead>\n",
              "  <tbody>\n",
              "    <tr>\n",
              "      <th>0</th>\n",
              "      <td>id_0000022</td>\n",
              "      <td>R</td>\n",
              "      <td>91</td>\n",
              "      <td>911</td>\n",
              "      <td>당구</td>\n",
              "      <td>NaN</td>\n",
              "      <td>NaN</td>\n",
              "    </tr>\n",
              "    <tr>\n",
              "      <th>1</th>\n",
              "      <td>id_0000050</td>\n",
              "      <td>R</td>\n",
              "      <td>91</td>\n",
              "      <td>912</td>\n",
              "      <td>매장에서</td>\n",
              "      <td>유치부,초등대상</td>\n",
              "      <td>레고블럭조립놀이,장소제공</td>\n",
              "    </tr>\n",
              "    <tr>\n",
              "      <th>2</th>\n",
              "      <td>id_0000080</td>\n",
              "      <td>R</td>\n",
              "      <td>91</td>\n",
              "      <td>912</td>\n",
              "      <td>노래방에서</td>\n",
              "      <td>시설을 갖추고</td>\n",
              "      <td>노래방 운영</td>\n",
              "    </tr>\n",
              "    <tr>\n",
              "      <th>3</th>\n",
              "      <td>id_0000089</td>\n",
              "      <td>R</td>\n",
              "      <td>91</td>\n",
              "      <td>912</td>\n",
              "      <td>노래방에서</td>\n",
              "      <td>노래기기시설을 갖추고</td>\n",
              "      <td>노래연습서비스</td>\n",
              "    </tr>\n",
              "    <tr>\n",
              "      <th>4</th>\n",
              "      <td>id_0000144</td>\n",
              "      <td>R</td>\n",
              "      <td>90</td>\n",
              "      <td>901</td>\n",
              "      <td>사업장에서</td>\n",
              "      <td>공연,연주</td>\n",
              "      <td>기획</td>\n",
              "    </tr>\n",
              "    <tr>\n",
              "      <th>...</th>\n",
              "      <td>...</td>\n",
              "      <td>...</td>\n",
              "      <td>...</td>\n",
              "      <td>...</td>\n",
              "      <td>...</td>\n",
              "      <td>...</td>\n",
              "      <td>...</td>\n",
              "    </tr>\n",
              "    <tr>\n",
              "      <th>29746</th>\n",
              "      <td>id_0999854</td>\n",
              "      <td>R</td>\n",
              "      <td>91</td>\n",
              "      <td>912</td>\n",
              "      <td>노래방에서</td>\n",
              "      <td>노래기기 시설을 갖추고</td>\n",
              "      <td>노래연습</td>\n",
              "    </tr>\n",
              "    <tr>\n",
              "      <th>29747</th>\n",
              "      <td>id_0999870</td>\n",
              "      <td>R</td>\n",
              "      <td>90</td>\n",
              "      <td>901</td>\n",
              "      <td>공연예술</td>\n",
              "      <td>기획사에서</td>\n",
              "      <td>공연기획팀</td>\n",
              "    </tr>\n",
              "    <tr>\n",
              "      <th>29748</th>\n",
              "      <td>id_0999886</td>\n",
              "      <td>R</td>\n",
              "      <td>91</td>\n",
              "      <td>912</td>\n",
              "      <td>노래연습장</td>\n",
              "      <td>노래연습서비스제공</td>\n",
              "      <td>노래방기기대여</td>\n",
              "    </tr>\n",
              "    <tr>\n",
              "      <th>29749</th>\n",
              "      <td>id_0999913</td>\n",
              "      <td>R</td>\n",
              "      <td>90</td>\n",
              "      <td>901</td>\n",
              "      <td>사업장에서</td>\n",
              "      <td>공연시설을 갖추고</td>\n",
              "      <td>공연장운영</td>\n",
              "    </tr>\n",
              "    <tr>\n",
              "      <th>29750</th>\n",
              "      <td>id_0999917</td>\n",
              "      <td>R</td>\n",
              "      <td>91</td>\n",
              "      <td>912</td>\n",
              "      <td>피시방에서</td>\n",
              "      <td>시설을 갖추고</td>\n",
              "      <td>컴퓨터게임방운영</td>\n",
              "    </tr>\n",
              "  </tbody>\n",
              "</table>\n",
              "<p>29751 rows × 7 columns</p>\n",
              "</div>\n",
              "      <button class=\"colab-df-convert\" onclick=\"convertToInteractive('df-223898d5-e6d2-477d-8b1f-a3234ef71f58')\"\n",
              "              title=\"Convert this dataframe to an interactive table.\"\n",
              "              style=\"display:none;\">\n",
              "        \n",
              "  <svg xmlns=\"http://www.w3.org/2000/svg\" height=\"24px\"viewBox=\"0 0 24 24\"\n",
              "       width=\"24px\">\n",
              "    <path d=\"M0 0h24v24H0V0z\" fill=\"none\"/>\n",
              "    <path d=\"M18.56 5.44l.94 2.06.94-2.06 2.06-.94-2.06-.94-.94-2.06-.94 2.06-2.06.94zm-11 1L8.5 8.5l.94-2.06 2.06-.94-2.06-.94L8.5 2.5l-.94 2.06-2.06.94zm10 10l.94 2.06.94-2.06 2.06-.94-2.06-.94-.94-2.06-.94 2.06-2.06.94z\"/><path d=\"M17.41 7.96l-1.37-1.37c-.4-.4-.92-.59-1.43-.59-.52 0-1.04.2-1.43.59L10.3 9.45l-7.72 7.72c-.78.78-.78 2.05 0 2.83L4 21.41c.39.39.9.59 1.41.59.51 0 1.02-.2 1.41-.59l7.78-7.78 2.81-2.81c.8-.78.8-2.07 0-2.86zM5.41 20L4 18.59l7.72-7.72 1.47 1.35L5.41 20z\"/>\n",
              "  </svg>\n",
              "      </button>\n",
              "      \n",
              "  <style>\n",
              "    .colab-df-container {\n",
              "      display:flex;\n",
              "      flex-wrap:wrap;\n",
              "      gap: 12px;\n",
              "    }\n",
              "\n",
              "    .colab-df-convert {\n",
              "      background-color: #E8F0FE;\n",
              "      border: none;\n",
              "      border-radius: 50%;\n",
              "      cursor: pointer;\n",
              "      display: none;\n",
              "      fill: #1967D2;\n",
              "      height: 32px;\n",
              "      padding: 0 0 0 0;\n",
              "      width: 32px;\n",
              "    }\n",
              "\n",
              "    .colab-df-convert:hover {\n",
              "      background-color: #E2EBFA;\n",
              "      box-shadow: 0px 1px 2px rgba(60, 64, 67, 0.3), 0px 1px 3px 1px rgba(60, 64, 67, 0.15);\n",
              "      fill: #174EA6;\n",
              "    }\n",
              "\n",
              "    [theme=dark] .colab-df-convert {\n",
              "      background-color: #3B4455;\n",
              "      fill: #D2E3FC;\n",
              "    }\n",
              "\n",
              "    [theme=dark] .colab-df-convert:hover {\n",
              "      background-color: #434B5C;\n",
              "      box-shadow: 0px 1px 3px 1px rgba(0, 0, 0, 0.15);\n",
              "      filter: drop-shadow(0px 1px 2px rgba(0, 0, 0, 0.3));\n",
              "      fill: #FFFFFF;\n",
              "    }\n",
              "  </style>\n",
              "\n",
              "      <script>\n",
              "        const buttonEl =\n",
              "          document.querySelector('#df-223898d5-e6d2-477d-8b1f-a3234ef71f58 button.colab-df-convert');\n",
              "        buttonEl.style.display =\n",
              "          google.colab.kernel.accessAllowed ? 'block' : 'none';\n",
              "\n",
              "        async function convertToInteractive(key) {\n",
              "          const element = document.querySelector('#df-223898d5-e6d2-477d-8b1f-a3234ef71f58');\n",
              "          const dataTable =\n",
              "            await google.colab.kernel.invokeFunction('convertToInteractive',\n",
              "                                                     [key], {});\n",
              "          if (!dataTable) return;\n",
              "\n",
              "          const docLinkHtml = 'Like what you see? Visit the ' +\n",
              "            '<a target=\"_blank\" href=https://colab.research.google.com/notebooks/data_table.ipynb>data table notebook</a>'\n",
              "            + ' to learn more about interactive tables.';\n",
              "          element.innerHTML = '';\n",
              "          dataTable['output_type'] = 'display_data';\n",
              "          await google.colab.output.renderOutput(dataTable, element);\n",
              "          const docLink = document.createElement('div');\n",
              "          docLink.innerHTML = docLinkHtml;\n",
              "          element.appendChild(docLink);\n",
              "        }\n",
              "      </script>\n",
              "    </div>\n",
              "  </div>\n",
              "  "
            ]
          },
          "metadata": {},
          "execution_count": 6
        }
      ]
    },
    {
      "cell_type": "code",
      "execution_count": 7,
      "metadata": {
        "colab": {
          "base_uri": "https://localhost:8080/",
          "height": 423
        },
        "id": "fjEcvrtH59q-",
        "outputId": "886bbd69-3266-48c9-e3ff-002d8b06bff1"
      },
      "outputs": [
        {
          "output_type": "execute_result",
          "data": {
            "text/plain": [
              "            AI_id digit_1  digit_2  digit_3                         text\n",
              "0      id_0000022       R       91      911                         당구  \n",
              "1      id_0000050       R       91      912  매장에서 유치부,초등대상 레고블럭조립놀이,장소제공\n",
              "2      id_0000080       R       91      912         노래방에서 시설을 갖추고 노래방 운영\n",
              "3      id_0000089       R       91      912    노래방에서 노래기기시설을 갖추고 노래연습서비스\n",
              "4      id_0000144       R       90      901               사업장에서 공연,연주 기획\n",
              "...           ...     ...      ...      ...                          ...\n",
              "29746  id_0999854       R       91      912      노래방에서 노래기기 시설을 갖추고 노래연습\n",
              "29747  id_0999870       R       90      901             공연예술 기획사에서 공연기획팀\n",
              "29748  id_0999886       R       91      912      노래연습장 노래연습서비스제공 노래방기기대여\n",
              "29749  id_0999913       R       90      901        사업장에서 공연시설을 갖추고 공연장운영\n",
              "29750  id_0999917       R       91      912       피시방에서 시설을 갖추고 컴퓨터게임방운영\n",
              "\n",
              "[29751 rows x 5 columns]"
            ],
            "text/html": [
              "\n",
              "  <div id=\"df-981f940a-18eb-4ff1-aefe-a2aa123957b7\">\n",
              "    <div class=\"colab-df-container\">\n",
              "      <div>\n",
              "<style scoped>\n",
              "    .dataframe tbody tr th:only-of-type {\n",
              "        vertical-align: middle;\n",
              "    }\n",
              "\n",
              "    .dataframe tbody tr th {\n",
              "        vertical-align: top;\n",
              "    }\n",
              "\n",
              "    .dataframe thead th {\n",
              "        text-align: right;\n",
              "    }\n",
              "</style>\n",
              "<table border=\"1\" class=\"dataframe\">\n",
              "  <thead>\n",
              "    <tr style=\"text-align: right;\">\n",
              "      <th></th>\n",
              "      <th>AI_id</th>\n",
              "      <th>digit_1</th>\n",
              "      <th>digit_2</th>\n",
              "      <th>digit_3</th>\n",
              "      <th>text</th>\n",
              "    </tr>\n",
              "  </thead>\n",
              "  <tbody>\n",
              "    <tr>\n",
              "      <th>0</th>\n",
              "      <td>id_0000022</td>\n",
              "      <td>R</td>\n",
              "      <td>91</td>\n",
              "      <td>911</td>\n",
              "      <td>당구</td>\n",
              "    </tr>\n",
              "    <tr>\n",
              "      <th>1</th>\n",
              "      <td>id_0000050</td>\n",
              "      <td>R</td>\n",
              "      <td>91</td>\n",
              "      <td>912</td>\n",
              "      <td>매장에서 유치부,초등대상 레고블럭조립놀이,장소제공</td>\n",
              "    </tr>\n",
              "    <tr>\n",
              "      <th>2</th>\n",
              "      <td>id_0000080</td>\n",
              "      <td>R</td>\n",
              "      <td>91</td>\n",
              "      <td>912</td>\n",
              "      <td>노래방에서 시설을 갖추고 노래방 운영</td>\n",
              "    </tr>\n",
              "    <tr>\n",
              "      <th>3</th>\n",
              "      <td>id_0000089</td>\n",
              "      <td>R</td>\n",
              "      <td>91</td>\n",
              "      <td>912</td>\n",
              "      <td>노래방에서 노래기기시설을 갖추고 노래연습서비스</td>\n",
              "    </tr>\n",
              "    <tr>\n",
              "      <th>4</th>\n",
              "      <td>id_0000144</td>\n",
              "      <td>R</td>\n",
              "      <td>90</td>\n",
              "      <td>901</td>\n",
              "      <td>사업장에서 공연,연주 기획</td>\n",
              "    </tr>\n",
              "    <tr>\n",
              "      <th>...</th>\n",
              "      <td>...</td>\n",
              "      <td>...</td>\n",
              "      <td>...</td>\n",
              "      <td>...</td>\n",
              "      <td>...</td>\n",
              "    </tr>\n",
              "    <tr>\n",
              "      <th>29746</th>\n",
              "      <td>id_0999854</td>\n",
              "      <td>R</td>\n",
              "      <td>91</td>\n",
              "      <td>912</td>\n",
              "      <td>노래방에서 노래기기 시설을 갖추고 노래연습</td>\n",
              "    </tr>\n",
              "    <tr>\n",
              "      <th>29747</th>\n",
              "      <td>id_0999870</td>\n",
              "      <td>R</td>\n",
              "      <td>90</td>\n",
              "      <td>901</td>\n",
              "      <td>공연예술 기획사에서 공연기획팀</td>\n",
              "    </tr>\n",
              "    <tr>\n",
              "      <th>29748</th>\n",
              "      <td>id_0999886</td>\n",
              "      <td>R</td>\n",
              "      <td>91</td>\n",
              "      <td>912</td>\n",
              "      <td>노래연습장 노래연습서비스제공 노래방기기대여</td>\n",
              "    </tr>\n",
              "    <tr>\n",
              "      <th>29749</th>\n",
              "      <td>id_0999913</td>\n",
              "      <td>R</td>\n",
              "      <td>90</td>\n",
              "      <td>901</td>\n",
              "      <td>사업장에서 공연시설을 갖추고 공연장운영</td>\n",
              "    </tr>\n",
              "    <tr>\n",
              "      <th>29750</th>\n",
              "      <td>id_0999917</td>\n",
              "      <td>R</td>\n",
              "      <td>91</td>\n",
              "      <td>912</td>\n",
              "      <td>피시방에서 시설을 갖추고 컴퓨터게임방운영</td>\n",
              "    </tr>\n",
              "  </tbody>\n",
              "</table>\n",
              "<p>29751 rows × 5 columns</p>\n",
              "</div>\n",
              "      <button class=\"colab-df-convert\" onclick=\"convertToInteractive('df-981f940a-18eb-4ff1-aefe-a2aa123957b7')\"\n",
              "              title=\"Convert this dataframe to an interactive table.\"\n",
              "              style=\"display:none;\">\n",
              "        \n",
              "  <svg xmlns=\"http://www.w3.org/2000/svg\" height=\"24px\"viewBox=\"0 0 24 24\"\n",
              "       width=\"24px\">\n",
              "    <path d=\"M0 0h24v24H0V0z\" fill=\"none\"/>\n",
              "    <path d=\"M18.56 5.44l.94 2.06.94-2.06 2.06-.94-2.06-.94-.94-2.06-.94 2.06-2.06.94zm-11 1L8.5 8.5l.94-2.06 2.06-.94-2.06-.94L8.5 2.5l-.94 2.06-2.06.94zm10 10l.94 2.06.94-2.06 2.06-.94-2.06-.94-.94-2.06-.94 2.06-2.06.94z\"/><path d=\"M17.41 7.96l-1.37-1.37c-.4-.4-.92-.59-1.43-.59-.52 0-1.04.2-1.43.59L10.3 9.45l-7.72 7.72c-.78.78-.78 2.05 0 2.83L4 21.41c.39.39.9.59 1.41.59.51 0 1.02-.2 1.41-.59l7.78-7.78 2.81-2.81c.8-.78.8-2.07 0-2.86zM5.41 20L4 18.59l7.72-7.72 1.47 1.35L5.41 20z\"/>\n",
              "  </svg>\n",
              "      </button>\n",
              "      \n",
              "  <style>\n",
              "    .colab-df-container {\n",
              "      display:flex;\n",
              "      flex-wrap:wrap;\n",
              "      gap: 12px;\n",
              "    }\n",
              "\n",
              "    .colab-df-convert {\n",
              "      background-color: #E8F0FE;\n",
              "      border: none;\n",
              "      border-radius: 50%;\n",
              "      cursor: pointer;\n",
              "      display: none;\n",
              "      fill: #1967D2;\n",
              "      height: 32px;\n",
              "      padding: 0 0 0 0;\n",
              "      width: 32px;\n",
              "    }\n",
              "\n",
              "    .colab-df-convert:hover {\n",
              "      background-color: #E2EBFA;\n",
              "      box-shadow: 0px 1px 2px rgba(60, 64, 67, 0.3), 0px 1px 3px 1px rgba(60, 64, 67, 0.15);\n",
              "      fill: #174EA6;\n",
              "    }\n",
              "\n",
              "    [theme=dark] .colab-df-convert {\n",
              "      background-color: #3B4455;\n",
              "      fill: #D2E3FC;\n",
              "    }\n",
              "\n",
              "    [theme=dark] .colab-df-convert:hover {\n",
              "      background-color: #434B5C;\n",
              "      box-shadow: 0px 1px 3px 1px rgba(0, 0, 0, 0.15);\n",
              "      filter: drop-shadow(0px 1px 2px rgba(0, 0, 0, 0.3));\n",
              "      fill: #FFFFFF;\n",
              "    }\n",
              "  </style>\n",
              "\n",
              "      <script>\n",
              "        const buttonEl =\n",
              "          document.querySelector('#df-981f940a-18eb-4ff1-aefe-a2aa123957b7 button.colab-df-convert');\n",
              "        buttonEl.style.display =\n",
              "          google.colab.kernel.accessAllowed ? 'block' : 'none';\n",
              "\n",
              "        async function convertToInteractive(key) {\n",
              "          const element = document.querySelector('#df-981f940a-18eb-4ff1-aefe-a2aa123957b7');\n",
              "          const dataTable =\n",
              "            await google.colab.kernel.invokeFunction('convertToInteractive',\n",
              "                                                     [key], {});\n",
              "          if (!dataTable) return;\n",
              "\n",
              "          const docLinkHtml = 'Like what you see? Visit the ' +\n",
              "            '<a target=\"_blank\" href=https://colab.research.google.com/notebooks/data_table.ipynb>data table notebook</a>'\n",
              "            + ' to learn more about interactive tables.';\n",
              "          element.innerHTML = '';\n",
              "          dataTable['output_type'] = 'display_data';\n",
              "          await google.colab.output.renderOutput(dataTable, element);\n",
              "          const docLink = document.createElement('div');\n",
              "          docLink.innerHTML = docLinkHtml;\n",
              "          element.appendChild(docLink);\n",
              "        }\n",
              "      </script>\n",
              "    </div>\n",
              "  </div>\n",
              "  "
            ]
          },
          "metadata": {},
          "execution_count": 7
        }
      ],
      "source": [
        "df['text']=df['text_obj'].map(str)+\" \"+df['text_mthd'].map(str)+\" \"+df['text_deal'].map(str)\n",
        "i=[]\n",
        "for sentence in df['text']:\n",
        "    a=sentence.replace('nan', '')\n",
        "    i.append(a)\n",
        "df['text']=pd.DataFrame(i)\n",
        "df=df.drop(['text_obj','text_mthd', 'text_deal'], axis=1) # 기존에 있던 세개의 text변수 삭제\n",
        "df"
      ]
    },
    {
      "cell_type": "code",
      "source": [
        "df['digit_3'].value_counts()"
      ],
      "metadata": {
        "colab": {
          "base_uri": "https://localhost:8080/"
        },
        "id": "mzEwzSHzMsc5",
        "outputId": "6c590307-c6de-4bb7-cdb2-237a2b65e721"
      },
      "execution_count": 8,
      "outputs": [
        {
          "output_type": "execute_result",
          "data": {
            "text/plain": [
              "912    15468\n",
              "911     9779\n",
              "902     3039\n",
              "901     1465\n",
              "Name: digit_3, dtype: int64"
            ]
          },
          "metadata": {},
          "execution_count": 8
        }
      ]
    },
    {
      "cell_type": "markdown",
      "metadata": {
        "id": "yzAnY0FvePIR"
      },
      "source": [
        "## 맞춤법 교정"
      ]
    },
    {
      "cell_type": "code",
      "source": [
        "!pip install git+https://github.com/ssut/py-hanspell"
      ],
      "metadata": {
        "colab": {
          "base_uri": "https://localhost:8080/"
        },
        "id": "U0g6lgW8yFAt",
        "outputId": "9a624f5b-a68a-405a-ca0b-a0e3b2fe3c15"
      },
      "execution_count": 9,
      "outputs": [
        {
          "output_type": "stream",
          "name": "stdout",
          "text": [
            "Collecting git+https://github.com/ssut/py-hanspell\n",
            "  Cloning https://github.com/ssut/py-hanspell to /tmp/pip-req-build-9rzf3dex\n",
            "  Running command git clone -q https://github.com/ssut/py-hanspell /tmp/pip-req-build-9rzf3dex\n",
            "Requirement already satisfied: requests in /usr/local/lib/python3.7/dist-packages (from py-hanspell==1.1) (2.23.0)\n",
            "Requirement already satisfied: certifi>=2017.4.17 in /usr/local/lib/python3.7/dist-packages (from requests->py-hanspell==1.1) (2021.10.8)\n",
            "Requirement already satisfied: idna<3,>=2.5 in /usr/local/lib/python3.7/dist-packages (from requests->py-hanspell==1.1) (2.10)\n",
            "Requirement already satisfied: urllib3!=1.25.0,!=1.25.1,<1.26,>=1.21.1 in /usr/local/lib/python3.7/dist-packages (from requests->py-hanspell==1.1) (1.24.3)\n",
            "Requirement already satisfied: chardet<4,>=3.0.2 in /usr/local/lib/python3.7/dist-packages (from requests->py-hanspell==1.1) (3.0.4)\n",
            "Building wheels for collected packages: py-hanspell\n",
            "  Building wheel for py-hanspell (setup.py) ... \u001b[?25l\u001b[?25hdone\n",
            "  Created wheel for py-hanspell: filename=py_hanspell-1.1-py3-none-any.whl size=4868 sha256=41b71fc0866638a8c750cbddfd5c41348a05dccb6fa204bf3868e534fd8b252c\n",
            "  Stored in directory: /tmp/pip-ephem-wheel-cache-gd6nccei/wheels/31/c2/c7/ddbbd9a84ddb0a67c2e52e3324d4b7b47dcf9581af9cd784de\n",
            "Successfully built py-hanspell\n",
            "Installing collected packages: py-hanspell\n",
            "Successfully installed py-hanspell-1.1\n"
          ]
        }
      ]
    },
    {
      "cell_type": "code",
      "source": [
        "from hanspell import spell_checker\n",
        "\n",
        "temp_result=[]\n",
        "for sentence in df['text']:\n",
        "  try:\n",
        "    result=spell_checker.check(sentence)\n",
        "    temp_result.append(result.checked)\n",
        "  except:\n",
        "    temp_result.append(sentence)\n",
        "\n",
        "df['text']=pd.DataFrame(temp_result)  "
      ],
      "metadata": {
        "id": "8IykblSnyRsV"
      },
      "execution_count": 10,
      "outputs": []
    },
    {
      "cell_type": "code",
      "source": [
        "df.to_csv('df_R_spellcheck.csv', index=False, encoding='utf-8-sig')"
      ],
      "metadata": {
        "id": "y6d2WHbeN_23"
      },
      "execution_count": 11,
      "outputs": []
    },
    {
      "cell_type": "code",
      "source": [
        ""
      ],
      "metadata": {
        "id": "PkyJc0bXpU63"
      },
      "execution_count": 11,
      "outputs": []
    },
    {
      "cell_type": "code",
      "source": [
        ""
      ],
      "metadata": {
        "id": "4addBclrHoYL"
      },
      "execution_count": 11,
      "outputs": []
    }
  ],
  "metadata": {
    "accelerator": "GPU",
    "colab": {
      "background_execution": "on",
      "collapsed_sections": [],
      "machine_shape": "hm",
      "name": "Pspell check의 사본의 사본의 사본",
      "provenance": [],
      "include_colab_link": true
    },
    "kernelspec": {
      "display_name": "Python 3",
      "name": "python3"
    },
    "language_info": {
      "name": "python"
    }
  },
  "nbformat": 4,
  "nbformat_minor": 0
}